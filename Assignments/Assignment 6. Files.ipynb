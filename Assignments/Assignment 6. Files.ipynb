{
 "cells": [
  {
   "cell_type": "markdown",
   "metadata": {},
   "source": [
    "# Exercise 1 \n",
    "\n",
    "Write a function called `sed` that takes as arguments a pattern string, a replacement string, and two filenames; it should read the first file and write the contents into the second file (creating it if necessary). If the pattern string appears anywhere in the file, it should be replaced with the replacement string.\n",
    "\n",
    "If an error occurs while opening, reading, writing or closing files, your program should catch the exception, print an error message, and exit."
   ]
  },
  {
   "cell_type": "markdown",
   "metadata": {},
   "source": [
    "# Exercise 2\n",
    "\n",
    "Write a function `anagram` that reads a word list from a file and prints all the sets of words that are anagrams.\n",
    "\n",
    "Here is an example of what the output might look like:\n",
    "\n",
    "```julia\n",
    "[\"deltas\", \"desalt\", \"lasted\", \"salted\", \"slated\", \"staled\"]\n",
    "[\"retainers\", \"ternaries\"]\n",
    "[\"generating\", \"greatening\"]\n",
    "[\"resmelts\", \"smelters\", \"termless\"]\n",
    "```\n",
    "\n",
    "Hint: you might want to build a dictionary that maps from a collection of letters to an array of words that can be spelled with those letters. The question is, how can you represent the collection of letters in a way that can be used as a key?\n",
    "\n",
    "Write two new functions: `store_anagrams` should store the anagram dictionary in a “shelf”; `read_anagrams` should look up a word and return an array of its anagrams."
   ]
  },
  {
   "cell_type": "markdown",
   "metadata": {},
   "source": [
    "# Exercise* 3\n",
    "\n",
    "In a large collection of MP3 files, there may be more than one copy of the same song, stored in different directories or with different file names. The goal of this exercise is to search for duplicates.\n",
    "\n",
    "Write a program that searches a directory and all of its subdirectories, recursively, and returns a list of complete paths for all files with a given suffix (like .mp3).\n",
    "\n",
    "To recognize duplicates, you can use `md5sum` to compute a “checksum” for each files. If two files have the same checksum, they probably have the same contents.\n",
    "To double-check, you can use the Unix command diff."
   ]
  }
 ],
 "metadata": {
  "kernelspec": {
   "display_name": "Julia 0.6.2",
   "language": "julia",
   "name": "julia-0.6"
  },
  "language_info": {
   "file_extension": ".jl",
   "mimetype": "application/julia",
   "name": "julia",
   "version": "0.6.2"
  }
 },
 "nbformat": 4,
 "nbformat_minor": 2
}
