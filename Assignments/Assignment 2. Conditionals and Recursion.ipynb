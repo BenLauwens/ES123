{
 "cells": [
  {
   "cell_type": "markdown",
   "metadata": {},
   "source": [
    "# Exercise 1\n",
    "\n",
    "Draw a stack diagram for `print_n` called with `s = \"Hello\"` and `n = 2`. Then write a function called `do_n` that takes a function object and a number, `n`, as arguments, and that calls the given function `n` times."
   ]
  },
  {
   "cell_type": "markdown",
   "metadata": {
    "hideCode": false
   },
   "source": [
    "# Exercise 2\n",
    "\n",
    "The function `time` returns the current Greenwich Mean Time in “the epoch”, which is an arbitrary time used as a reference point. On UNIX systems, the epoch is 1 January 1970."
   ]
  },
  {
   "cell_type": "code",
   "execution_count": 1,
   "metadata": {},
   "outputs": [
    {
     "data": {
      "text/plain": [
       "1.518597831701669e9"
      ]
     },
     "execution_count": 1,
     "metadata": {},
     "output_type": "execute_result"
    }
   ],
   "source": [
    "time()"
   ]
  },
  {
   "cell_type": "markdown",
   "metadata": {},
   "source": [
    "Write a script that reads the current time and converts it to a time of day in hours, minutes, and seconds, plus the number of days since the epoch."
   ]
  },
  {
   "cell_type": "markdown",
   "metadata": {},
   "source": [
    "# Exercise 3\n",
    "\n",
    "Fermat’s Last Theorem says that there are no positive integers $a$, $b$, and $c$ such that\n",
    "$$a^n + b^n = c^n$$ \n",
    "for any values of $n$ greater than 2.\n",
    "\n",
    "1. Write a function named `check_fermat` that takes four parameters—`a`, `b`, `c` and `n`—and checks to see if Fermat’s theorem holds. If `n` is greater than 2 anWrite a function named `check_fermat` that takes four parameters—a, b, c and n—and checks to see if Fermat’s theorem holds. If n is greater than 2 and\n",
    "$$a^n + b^n = c^n$$ \n",
    "the program should print, `“Holy smokes, Fermat was wrong!”` Otherwise the program should print, `“No, that doesn’t work.”`\n",
    "2. Write a function that prompts the user to input values for `a`, `b`, `c` and `n`, converts them to integers, and uses `check_fermat` to check whether they violate Fermat’s theorem."
   ]
  },
  {
   "cell_type": "markdown",
   "metadata": {},
   "source": [
    "# Exercise 4\n",
    "\n",
    "If you are given three sticks, you may or may not be able to arrange them in a triangle. For example, if one of the sticks is 12 cm long and the other two are one cm long, you will not be able to get the short sticks to meet in the middle. For any three lengths, there is a simple test to see if it is possible to form a triangle:\n",
    "\n",
    "If any of the three lengths is greater than the sum of the other two, then you cannot form a triangle. Otherwise, you can. (If the sum of two lengths equals the third, they form what is called a “degenerate” triangle.)\n",
    "\n",
    "1. Write a function named `is_triangle` that takes three integers as arguments, and that prints either `“Yes”` or `“No”`, depending on whether you can or cannot form a triangle from sticks with the given lengths.\n",
    "\n",
    "2. Write a function that prompts the user to input three stick lengths, converts them to integers, and uses `is_triangle` to check whether sticks with the given lengths can form a triangle."
   ]
  },
  {
   "cell_type": "markdown",
   "metadata": {},
   "source": [
    "# Exercise 5\n",
    "\n",
    "What is the output of the following program? Draw a stack diagram that shows the state of the program when it prints the result."
   ]
  },
  {
   "cell_type": "code",
   "execution_count": 4,
   "metadata": {},
   "outputs": [
    {
     "name": "stdout",
     "output_type": "stream",
     "text": [
      "6\n"
     ]
    }
   ],
   "source": [
    "function recurse(n, s)\n",
    "    if n == 0\n",
    "        println(s)\n",
    "    else\n",
    "        recurse(n-1, n+s)\n",
    "    end\n",
    "end\n",
    "recurse(3, 0)"
   ]
  },
  {
   "cell_type": "markdown",
   "metadata": {},
   "source": [
    "1. What would happen if you called this function like this: `recurse(-1, 0)`?\n",
    "2. Write a docstring that explains everything someone would need to know in order to use this function (and nothing else)."
   ]
  },
  {
   "cell_type": "markdown",
   "metadata": {},
   "source": [
    "# Exercise 6\n",
    "\n",
    "Read the following function and see if you can figure out what it does. Then run it and see if you got it right."
   ]
  },
  {
   "cell_type": "code",
   "execution_count": 11,
   "metadata": {},
   "outputs": [
    {
     "data": {
      "text/plain": [
       "draw (generic function with 1 method)"
      ]
     },
     "execution_count": 11,
     "metadata": {},
     "output_type": "execute_result"
    }
   ],
   "source": [
    "function draw(t, length, n)\n",
    "    if n == 0\n",
    "        return\n",
    "    end\n",
    "    angle = 50\n",
    "    Forward(t, length*n)\n",
    "    Turn(t, angle)\n",
    "    draw(t, length, n-1)\n",
    "    Turn(t, -2*angle)\n",
    "    draw(t, length, n-1)\n",
    "    Turn(t, angle)\n",
    "    Forward(t, -length*n)\n",
    "end"
   ]
  },
  {
   "cell_type": "code",
   "execution_count": 22,
   "metadata": {},
   "outputs": [
    {
     "data": {
      "image/svg+xml": [
       "<?xml version=\"1.0\" encoding=\"UTF-8\"?>\n",
       "<svg xmlns=\"http://www.w3.org/2000/svg\" xmlns:xlink=\"http://www.w3.org/1999/xlink\" width=\"600pt\" height=\"600pt\" viewBox=\"0 0 600 600\" version=\"1.1\">\n",
       "<g id=\"surface66\">\n",
       "<rect x=\"0\" y=\"0\" width=\"600\" height=\"600\" style=\"fill:rgb(100%,100%,100%);fill-opacity:1;stroke:none;\"/>\n",
       "<path style=\"fill:none;stroke-width:2;stroke-linecap:butt;stroke-linejoin:miter;stroke:rgb(0%,0%,0%);stroke-opacity:1;stroke-miterlimit:10;\" d=\"M 300 300 L 305 300 \"/>\n",
       "<path style=\"fill:none;stroke-width:2;stroke-linecap:butt;stroke-linejoin:miter;stroke:rgb(0%,0%,0%);stroke-opacity:1;stroke-miterlimit:10;\" d=\"M 305 300 L 300 300 \"/>\n",
       "</g>\n",
       "</svg>\n"
      ]
     },
     "metadata": {},
     "output_type": "display_data"
    }
   ],
   "source": [
    "using Luxor\n",
    "🐢 = Turtle()\n",
    "@svg begin\n",
    "    draw(🐢, 5, 1)\n",
    "end"
   ]
  },
  {
   "cell_type": "markdown",
   "metadata": {},
   "source": [
    "# Exercise 7\n",
    "\n",
    "The Koch curve is a fractal (see https://en.wikipedia.org/wiki/Koch_snowflake). To draw a Koch curve with length `x`, all you have to do is\n",
    "\n",
    "1. Draw a Koch curve with length `x/3`.\n",
    "2. Turn left 60 degrees.\n",
    "3. Draw a Koch curve with length `x/3`.\n",
    "4. Turn right 120 degrees.\n",
    "5. Draw a Koch curve with length `x/3`.\n",
    "6. Turn left 60 degreesTurn left 60 degrees.\n",
    "7. Draw a Koch curve with length `x/3`.\n",
    "\n",
    "The exception is if `x` is less than 3: in that case, you can just draw a straight line with length `x`.\n",
    "\n",
    "1. Write a function called `koch` that takes a turtle and a length as parameters, and that uses the turtle to draw a Koch curve with the given length.\n",
    "\n",
    "2. Write a function called `snowflake` that draws three Koch curves to make the outline of a snowflake."
   ]
  }
 ],
 "metadata": {
  "kernelspec": {
   "display_name": "Julia 0.6.2",
   "language": "julia",
   "name": "julia-0.6"
  },
  "language_info": {
   "file_extension": ".jl",
   "mimetype": "application/julia",
   "name": "julia",
   "version": "0.6.2"
  }
 },
 "nbformat": 4,
 "nbformat_minor": 2
}
