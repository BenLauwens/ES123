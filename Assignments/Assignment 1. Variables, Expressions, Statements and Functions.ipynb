{
 "cells": [
  {
   "cell_type": "markdown",
   "metadata": {
    "hideCode": false,
    "hidePrompt": false
   },
   "source": [
    "# The Way of the Program"
   ]
  },
  {
   "cell_type": "markdown",
   "metadata": {
    "hideCode": false,
    "hidePrompt": false
   },
   "source": [
    "## Exercise 1  \n",
    "\n",
    "1. In a print statement, what happens if you leave out one of the parentheses, or both?\n",
    "2. If you are trying to print a string, what happens if you leave out one of the quotation marks, or both?\n",
    "3. You can use a minus sign to make a negative number like -2. What happens if you put a plus sign before a number? What about 2++2?\n",
    "4. In math notation, leading zeros are ok, as in 02. What happens if you try this in Julia?\n",
    "5. What happens if you have two values with no operator between them?"
   ]
  },
  {
   "cell_type": "markdown",
   "metadata": {
    "hideCode": false,
    "hidePrompt": false
   },
   "source": [
    "## Exercise 2  \n",
    "\n",
    "Start the Julia interpreter and use it as a calculator.\n",
    "\n",
    "1. How many seconds are there in 42 minutes 42 seconds?\n",
    "2. How many miles are there in 10 kilometers? Hint: there are 1.61 kilometers in a mile.\n",
    "3. If you run a 10 kilometer race in 42 minutes 42 seconds, what is your average pace (time per mile in minutes and seconds)? What is your average speed in miles per hour?"
   ]
  },
  {
   "cell_type": "markdown",
   "metadata": {
    "hideCode": false,
    "hidePrompt": false
   },
   "source": [
    "# Variables, Expressions and Statements"
   ]
  },
  {
   "cell_type": "markdown",
   "metadata": {
    "hideCode": false,
    "hidePrompt": false
   },
   "source": [
    "## Exercise 1  \n",
    "\n",
    "1. We’ve seen that n = 42 is legal. What about 42 = n?\n",
    "2. How about x = y = 1?\n",
    "3. In some languages every statement ends with a semi-colon, ;. What happens if you put a semi-colon at the end of a Julia statement?\n",
    "4. What if you put a period at the end of a statement?\n",
    "5. In math notation you can multiply x and y like this: x y. What happens if you try that in Julia?"
   ]
  },
  {
   "cell_type": "markdown",
   "metadata": {
    "hideCode": false,
    "hidePrompt": false
   },
   "source": [
    "## Exercise 2 \n",
    "\n",
    "Practice using the Julia interpreter as a calculator:\n",
    "\n",
    "1. The volume of a sphere with radius r is 4/3 π r3. What is the volume of a sphere with radius 5?\n",
    "2. Suppose the cover price of a book is $24.95$, but bookstores get a 40% discount. Shipping costs $3 for the first copy and 75 cents for each additional copy. What is the total wholesale cost for 60 copies?\n",
    "3. If I leave my house at 6:52 am and run 1 mile at an easy pace (8:15 per mile), then 3 miles at tempo (7:12 per mile) and 1 mile at easy pace again, what time do I get home for breakfast?"
   ]
  },
  {
   "cell_type": "markdown",
   "metadata": {
    "hideCode": false,
    "hidePrompt": false
   },
   "source": [
    "# Functions"
   ]
  },
  {
   "cell_type": "markdown",
   "metadata": {
    "hideCode": false,
    "hidePrompt": false
   },
   "source": [
    "# Exercise 1  \n",
    "\n",
    "Write a function named `right_justify` that takes a string named `s` as a parameter and prints the string with enough leading spaces so that the last letter of the string is in column 70 of the display.\n",
    "```julia\n",
    "right_justify('monty')\n",
    "                                                                 monty\n",
    "```\n",
    "Hint: Use string concatenation and repetition. Also, Julia provides a built-in function called `length` that returns the length of a string, so the value of `length(\"monty\")` is 5."
   ]
  },
  {
   "cell_type": "markdown",
   "metadata": {
    "hideCode": false,
    "hidePrompt": false
   },
   "source": [
    "## Exercise 2  \n",
    "\n",
    "A function object is a value you can assign to a variable or pass as an argument. For example, `do_twice` is a function that takes a function object as an argument and calls it twice:\n",
    "```julia\n",
    "function do_twice(f)\n",
    "    f()\n",
    "    f()\n",
    "end\n",
    "```\n",
    "Here’s an example that uses `do_twice` to call a function named `print_spam` twice.\n",
    "```julia\n",
    "function print_spam()\n",
    "    println(\"spam\")\n",
    "end\n",
    "\n",
    "do_twice(print_spam)\n",
    "```\n",
    "1. Type this example into a notebook and test it.\n",
    "2. Modify `do_twice` so that it takes two arguments, a function object and a value, and calls the function twice, passing the value as an argument.\n",
    "3. Copy the definition of `print_twice` from the lectures to your notebook.\n",
    "4. Use the modified version of `do_twice` to call `print_twice` twice, passing `\"spam\"` as an argument.\n",
    "5. Define a new function called `do_four` that takes a function object and a value and calls the function four times, passing the value as a parameter. There should be only two statements in the body of this function, not four."
   ]
  },
  {
   "cell_type": "markdown",
   "metadata": {
    "hideCode": false,
    "hidePrompt": false
   },
   "source": [
    "## Exercise 3  \n",
    "Note: This exercise should be done using only the statements and other features we have learned so far.\n",
    "Write a function that draws a grid like the following:\n",
    "```\n",
    "+ - - - - + - - - - +\n",
    "|         |         |\n",
    "|         |         |\n",
    "|         |         |\n",
    "|         |         |\n",
    "+ - - - - + - - - - +\n",
    "|         |         |\n",
    "|         |         |\n",
    "|         |         |\n",
    "|         |         |\n",
    "+ - - - - + - - - - +\n",
    "```\n",
    "Hint: to print more than one value on a line, you can print a comma-separated sequence of values:\n",
    "```julia\n",
    "println(\"+ \", \"- \")\n",
    "```\n",
    "`println` advances to the next line, but `print` doesn't:\n",
    "```julia\n",
    "print(\"+ \")\n",
    "println(\"- \")\n",
    "```\n",
    "The output of these statements is `\"+ -\"` on the same line. The output from the next print statement would begin on the next line.\n",
    "\n",
    "Write a function that draws a similar grid with four rows and four columns."
   ]
  },
  {
   "cell_type": "markdown",
   "metadata": {
    "hideCode": false,
    "hidePrompt": false
   },
   "source": [
    "# Interface Design"
   ]
  },
  {
   "cell_type": "markdown",
   "metadata": {
    "hideCode": false,
    "hidePrompt": false
   },
   "source": [
    "## Exercise 1  \n",
    "\n",
    "1. Draw a stack diagram that shows the state of the program while executing `circle(🐢, radius)`. You can do the arithmetic by hand or add print statements to the code.\n",
    "2. The version of `arc` in the lectures is not very accurate because the linear approximation of the circle is always outside the true circle. As a result, the Turtle ends up a few pixels away from the correct destination. My solution shows a way to reduce the effect of this error. Read the code and see if it makes sense to you. If you draw a diagram, you might see how it works:\n",
    "\n",
    "```julia\n",
    "\"\"\" Draws an arc with the given radius and angle.\n",
    "\n",
    "    t: Turtle\n",
    "    r: radius\n",
    "    angle: angle subtended by the arc, in degrees\n",
    "\"\"\"\n",
    "\n",
    "function arc(t, r, angle)\n",
    "    arc_length = 2 * π * r * abs(angle) / 360\n",
    "    n = trunc(arc_length / 4) + 3\n",
    "    step_length = arc_length / n\n",
    "    step_angle = float(angle) / n\n",
    "\n",
    "    # making a slight left turn before starting reduces\n",
    "    # the error caused by the linear approximation of the arc\n",
    "    Turn(t, -step_angle/2)\n",
    "    polyline(t, n, step_length, step_angle)\n",
    "    Turn(t, step_angle/2)\n",
    "end\n",
    "```"
   ]
  },
  {
   "cell_type": "markdown",
   "metadata": {
    "hideCode": false,
    "hidePrompt": false
   },
   "source": [
    "## Exercise 2  \n",
    "Write an appropriately general set of functions that can draw flowers."
   ]
  },
  {
   "cell_type": "code",
   "execution_count": 33,
   "metadata": {
    "hideCode": true,
    "hidePrompt": true
   },
   "outputs": [
    {
     "data": {
      "image/svg+xml": [
       "<?xml version=\"1.0\" encoding=\"UTF-8\"?>\n",
       "<svg xmlns=\"http://www.w3.org/2000/svg\" xmlns:xlink=\"http://www.w3.org/1999/xlink\" width=\"766.549pt\" height=\"341.353pt\" viewBox=\"0 0 766.549 341.353\" version=\"1.1\">\n",
       "<defs>\n",
       "<clipPath id=\"clip-1518428330974448-1\">\n",
       "  <path d=\"M 556 153 L 636 153 L 636 341.351562 L 556 341.351562 Z M 556 153 \"/>\n",
       "</clipPath>\n",
       "<clipPath id=\"clip-1518428330974448-2\">\n",
       "  <path d=\"M 578 130 L 766.550781 130 L 766.550781 211 L 578 211 Z M 578 130 \"/>\n",
       "</clipPath>\n",
       "</defs>\n",
       "<g id=\"surface1\">\n",
       "<path style=\"fill:none;stroke-width:1.19553;stroke-linecap:butt;stroke-linejoin:miter;stroke:rgb(0%,0%,0%);stroke-opacity:1;stroke-miterlimit:10;\" d=\"M -0.00021875 0.00121875 C -0.00021875 -60.756594 -32.426 -116.91675 -85.039281 -147.295656 C -85.039281 -86.537844 -52.617406 -30.377687 -0.00021875 0.00121875 \" transform=\"matrix(1,0,0,-1,170.676,170.677)\"/>\n",
       "<path style=\"fill:none;stroke-width:1.19553;stroke-linecap:butt;stroke-linejoin:miter;stroke:rgb(0%,0%,0%);stroke-opacity:1;stroke-miterlimit:10;\" d=\"M -0.00021875 0.00121875 C 52.616969 -30.377687 85.038844 -86.537844 85.038844 -147.295656 C 32.425563 -116.91675 -0.00021875 -60.756594 -0.00021875 0.00121875 \" transform=\"matrix(1,0,0,-1,170.676,170.677)\"/>\n",
       "<path style=\"fill:none;stroke-width:1.19553;stroke-linecap:butt;stroke-linejoin:miter;stroke:rgb(0%,0%,0%);stroke-opacity:1;stroke-miterlimit:10;\" d=\"M -0.00021875 0.00121875 C 52.616969 30.376219 117.464625 30.376219 170.081813 0.00121875 C 117.464625 -30.377687 52.616969 -30.377687 -0.00021875 0.00121875 \" transform=\"matrix(1,0,0,-1,170.676,170.677)\"/>\n",
       "<path style=\"fill:none;stroke-width:1.19553;stroke-linecap:butt;stroke-linejoin:miter;stroke:rgb(0%,0%,0%);stroke-opacity:1;stroke-miterlimit:10;\" d=\"M -0.00021875 0.00121875 C -0.00021875 60.755125 32.425563 116.919188 85.038844 147.294188 C 85.038844 86.536375 52.616969 30.376219 -0.00021875 0.00121875 \" transform=\"matrix(1,0,0,-1,170.676,170.677)\"/>\n",
       "<path style=\"fill:none;stroke-width:1.19553;stroke-linecap:butt;stroke-linejoin:miter;stroke:rgb(0%,0%,0%);stroke-opacity:1;stroke-miterlimit:10;\" d=\"M -0.00021875 0.00121875 C -52.617406 30.376219 -85.039281 86.536375 -85.039281 147.294188 C -32.426 116.919188 -0.00021875 60.755125 -0.00021875 0.00121875 \" transform=\"matrix(1,0,0,-1,170.676,170.677)\"/>\n",
       "<path style=\"fill:none;stroke-width:1.19553;stroke-linecap:butt;stroke-linejoin:miter;stroke:rgb(0%,0%,0%);stroke-opacity:1;stroke-miterlimit:10;\" d=\"M -0.00021875 0.00121875 C -52.617406 -30.377687 -117.465062 -30.377687 -170.08225 0.00121875 C -117.465062 30.376219 -52.617406 30.376219 -0.00021875 0.00121875 \" transform=\"matrix(1,0,0,-1,170.676,170.677)\"/>\n",
       "<path style=\"fill:none;stroke-width:1.19553;stroke-linecap:butt;stroke-linejoin:miter;stroke:rgb(0%,0%,0%);stroke-opacity:1;stroke-miterlimit:10;\" d=\"M 425.202906 0.00121875 C 425.202906 -60.756594 392.777125 -116.91675 340.159938 -147.295656 C 340.159938 -86.537844 372.585719 -30.377687 425.202906 0.00121875 \" transform=\"matrix(1,0,0,-1,170.676,170.677)\"/>\n",
       "<g clip-path=\"url(#clip-1518428330974448-1)\" clip-rule=\"nonzero\">\n",
       "<path style=\"fill:none;stroke-width:1.19553;stroke-linecap:butt;stroke-linejoin:miter;stroke:rgb(0%,0%,0%);stroke-opacity:1;stroke-miterlimit:10;\" d=\"M 425.202906 0.00121875 C 455.577906 -52.615969 455.577906 -117.463625 425.202906 -170.080812 C 394.824 -117.463625 394.824 -52.615969 425.202906 0.00121875 \" transform=\"matrix(1,0,0,-1,170.676,170.677)\"/>\n",
       "</g>\n",
       "<path style=\"fill:none;stroke-width:1.19553;stroke-linecap:butt;stroke-linejoin:miter;stroke:rgb(0%,0%,0%);stroke-opacity:1;stroke-miterlimit:10;\" d=\"M 425.202906 0.00121875 C 477.816188 -30.377687 510.241969 -86.537844 510.241969 -147.295656 C 457.628688 -116.91675 425.202906 -60.756594 425.202906 0.00121875 \" transform=\"matrix(1,0,0,-1,170.676,170.677)\"/>\n",
       "<path style=\"fill:none;stroke-width:1.19553;stroke-linecap:butt;stroke-linejoin:miter;stroke:rgb(0%,0%,0%);stroke-opacity:1;stroke-miterlimit:10;\" d=\"M 425.202906 0.00121875 C 485.960719 0.00121875 542.120875 -32.424562 572.495875 -85.04175 C 511.738063 -85.04175 455.577906 -52.615969 425.202906 0.00121875 \" transform=\"matrix(1,0,0,-1,170.676,170.677)\"/>\n",
       "<g clip-path=\"url(#clip-1518428330974448-2)\" clip-rule=\"nonzero\">\n",
       "<path style=\"fill:none;stroke-width:1.19553;stroke-linecap:butt;stroke-linejoin:miter;stroke:rgb(0%,0%,0%);stroke-opacity:1;stroke-miterlimit:10;\" d=\"M 425.202906 0.00121875 C 477.816188 30.376219 542.66775 30.376219 595.284938 0.00121875 C 542.66775 -30.377687 477.816188 -30.377687 425.202906 0.00121875 \" transform=\"matrix(1,0,0,-1,170.676,170.677)\"/>\n",
       "</g>\n",
       "<path style=\"fill:none;stroke-width:1.19553;stroke-linecap:butt;stroke-linejoin:miter;stroke:rgb(0%,0%,0%);stroke-opacity:1;stroke-miterlimit:10;\" d=\"M 425.202906 0.00121875 C 455.577906 52.6145 511.738063 85.040281 572.495875 85.040281 C 542.120875 32.423094 485.960719 0.00121875 425.202906 0.00121875 \" transform=\"matrix(1,0,0,-1,170.676,170.677)\"/>\n",
       "<path style=\"fill:none;stroke-width:1.19553;stroke-linecap:butt;stroke-linejoin:miter;stroke:rgb(0%,0%,0%);stroke-opacity:1;stroke-miterlimit:10;\" d=\"M 425.202906 0.00121875 C 425.202906 60.755125 457.628688 116.919188 510.241969 147.294188 C 510.241969 86.536375 477.816188 30.376219 425.202906 0.00121875 \" transform=\"matrix(1,0,0,-1,170.676,170.677)\"/>\n",
       "<path style=\"fill:none;stroke-width:1.19553;stroke-linecap:butt;stroke-linejoin:miter;stroke:rgb(0%,0%,0%);stroke-opacity:1;stroke-miterlimit:10;\" d=\"M 425.202906 0.00121875 C 394.824 52.6145 394.824 117.466063 425.202906 170.079344 C 455.577906 117.466063 455.577906 52.6145 425.202906 0.00121875 \" transform=\"matrix(1,0,0,-1,170.676,170.677)\"/>\n",
       "<path style=\"fill:none;stroke-width:1.19553;stroke-linecap:butt;stroke-linejoin:miter;stroke:rgb(0%,0%,0%);stroke-opacity:1;stroke-miterlimit:10;\" d=\"M 425.202906 0.00121875 C 372.585719 30.376219 340.159938 86.536375 340.159938 147.294188 C 392.777125 116.919188 425.202906 60.755125 425.202906 0.00121875 \" transform=\"matrix(1,0,0,-1,170.676,170.677)\"/>\n",
       "<path style=\"fill:none;stroke-width:1.19553;stroke-linecap:butt;stroke-linejoin:miter;stroke:rgb(0%,0%,0%);stroke-opacity:1;stroke-miterlimit:10;\" d=\"M 425.202906 0.00121875 C 364.445094 0.00121875 308.284938 32.423094 277.906031 85.040281 C 338.663844 85.040281 394.824 52.6145 425.202906 0.00121875 \" transform=\"matrix(1,0,0,-1,170.676,170.677)\"/>\n",
       "<path style=\"fill:none;stroke-width:1.19553;stroke-linecap:butt;stroke-linejoin:miter;stroke:rgb(0%,0%,0%);stroke-opacity:1;stroke-miterlimit:10;\" d=\"M 425.202906 0.00121875 C 372.585719 -30.377687 307.738063 -30.377687 255.120875 0.00121875 C 307.738063 30.376219 372.585719 30.376219 425.202906 0.00121875 \" transform=\"matrix(1,0,0,-1,170.676,170.677)\"/>\n",
       "<path style=\"fill:none;stroke-width:1.19553;stroke-linecap:butt;stroke-linejoin:miter;stroke:rgb(0%,0%,0%);stroke-opacity:1;stroke-miterlimit:10;\" d=\"M 425.202906 0.00121875 C 394.824 -52.615969 338.663844 -85.04175 277.906031 -85.04175 C 308.284938 -32.424562 364.445094 0.00121875 425.202906 0.00121875 \" transform=\"matrix(1,0,0,-1,170.676,170.677)\"/>\n",
       "</g>\n",
       "</svg>\n",
       "\n"
      ],
      "text/plain": [
       "TikzPictures.TikzPicture(L\"$    \\draw (0,0) arc (0:-60:2) arc (180:120:2);\n",
       "    \\draw (0,0) arc (60:0:2) arc (240:180:2);\n",
       "    \\draw (0,0) arc (120:60:2) arc (300:240:2);\n",
       "    \\draw (0,0) arc (180:120:2) arc (360:300:2);\n",
       "    \\draw (0,0) arc (240:180:2) arc (60:0:2);\n",
       "    \\draw (0,0) arc (300:240:2) arc (120:60:2);\n",
       "    \\draw (5,0) arc (0:-60:2) arc (180:120:2);\n",
       "    \\draw (5,0) arc (30:-30:2) arc (210:150:2);\n",
       "    \\draw (5,0) arc (60:0:2) arc (240:180:2);\n",
       "    \\draw (5,0) arc (90:30:2) arc (270:210:2);\n",
       "    \\draw (5,0) arc (120:60:2) arc (300:240:2);\n",
       "    \\draw (5,0) arc (150:90:2) arc (330:270:2);\n",
       "    \\draw (5,0) arc (180:120:2) arc (360:300:2);\n",
       "    \\draw (5,0) arc (210:150:2) arc (30:-30:2);\n",
       "    \\draw (5,0) arc (240:180:2) arc (60:0:2);\n",
       "    \\draw (5,0) arc (270:210:2) arc (90:30:2);\n",
       "    \\draw (5,0) arc (300:240:2) arc (120:60:2);\n",
       "    \\draw (5,0) arc (330:270:2) arc (150:90:2);\n",
       "$\", \"very thick, scale=3, transform shape\", \"    \\\\usepackage{newtxmath}\\n    \\\\renewcommand{\\\\familydefault}{\\\\sfdefault}\\n\", true, true)"
      ]
     },
     "execution_count": 33,
     "metadata": {},
     "output_type": "execute_result"
    }
   ],
   "source": [
    "using TikzPictures\n",
    "TikzPicture(L\"\"\"\n",
    "    \\draw (0,0) arc (0:-60:2) arc (180:120:2);\n",
    "    \\draw (0,0) arc (60:0:2) arc (240:180:2);\n",
    "    \\draw (0,0) arc (120:60:2) arc (300:240:2);\n",
    "    \\draw (0,0) arc (180:120:2) arc (360:300:2);\n",
    "    \\draw (0,0) arc (240:180:2) arc (60:0:2);\n",
    "    \\draw (0,0) arc (300:240:2) arc (120:60:2);\n",
    "    \\draw (5,0) arc (0:-60:2) arc (180:120:2);\n",
    "    \\draw (5,0) arc (30:-30:2) arc (210:150:2);\n",
    "    \\draw (5,0) arc (60:0:2) arc (240:180:2);\n",
    "    \\draw (5,0) arc (90:30:2) arc (270:210:2);\n",
    "    \\draw (5,0) arc (120:60:2) arc (300:240:2);\n",
    "    \\draw (5,0) arc (150:90:2) arc (330:270:2);\n",
    "    \\draw (5,0) arc (180:120:2) arc (360:300:2);\n",
    "    \\draw (5,0) arc (210:150:2) arc (30:-30:2);\n",
    "    \\draw (5,0) arc (240:180:2) arc (60:0:2);\n",
    "    \\draw (5,0) arc (270:210:2) arc (90:30:2);\n",
    "    \\draw (5,0) arc (300:240:2) arc (120:60:2);\n",
    "    \\draw (5,0) arc (330:270:2) arc (150:90:2);\n",
    "\"\"\"; options=\"very thick, scale=3, transform shape\", preamble=\"\"\"\n",
    "    \\\\usepackage{newtxmath}\n",
    "    \\\\renewcommand{\\\\familydefault}{\\\\sfdefault}\n",
    "\"\"\")"
   ]
  },
  {
   "cell_type": "markdown",
   "metadata": {
    "hideCode": false,
    "hidePrompt": false
   },
   "source": [
    "## Exercise 3  \n",
    "Write an appropriately general set of functions that can draw following shapes."
   ]
  },
  {
   "cell_type": "code",
   "execution_count": 68,
   "metadata": {
    "hideCode": true,
    "hidePrompt": true
   },
   "outputs": [
    {
     "data": {
      "image/svg+xml": [
       "<?xml version=\"1.0\" encoding=\"UTF-8\"?>\n",
       "<svg xmlns=\"http://www.w3.org/2000/svg\" xmlns:xlink=\"http://www.w3.org/1999/xlink\" width=\"553.942pt\" height=\"219.333pt\" viewBox=\"0 0 553.942 219.333\" version=\"1.1\">\n",
       "<defs>\n",
       "<clipPath id=\"clip-1518428330974480-1\">\n",
       "  <path d=\"M 91 88 L 234 88 L 234 219.332031 L 91 219.332031 Z M 91 88 \"/>\n",
       "</clipPath>\n",
       "<clipPath id=\"clip-1518428330974480-2\">\n",
       "  <path d=\"M 0 88 L 126 88 L 126 219.332031 L 0 219.332031 Z M 0 88 \"/>\n",
       "</clipPath>\n",
       "<clipPath id=\"clip-1518428330974480-3\">\n",
       "  <path d=\"M 431 0 L 553.941406 0 L 553.941406 123 L 431 123 Z M 431 0 \"/>\n",
       "</clipPath>\n",
       "<clipPath id=\"clip-1518428330974480-4\">\n",
       "  <path d=\"M 431 45 L 553.941406 45 L 553.941406 166 L 431 166 Z M 431 45 \"/>\n",
       "</clipPath>\n",
       "<clipPath id=\"clip-1518428330974480-5\">\n",
       "  <path d=\"M 431 88 L 553.941406 88 L 553.941406 219.332031 L 431 219.332031 Z M 431 88 \"/>\n",
       "</clipPath>\n",
       "<clipPath id=\"clip-1518428330974480-6\">\n",
       "  <path d=\"M 388 88 L 509 88 L 509 219.332031 L 388 219.332031 Z M 388 88 \"/>\n",
       "</clipPath>\n",
       "<clipPath id=\"clip-1518428330974480-7\">\n",
       "  <path d=\"M 326 88 L 466 88 L 466 219.332031 L 326 219.332031 Z M 326 88 \"/>\n",
       "</clipPath>\n",
       "</defs>\n",
       "<g id=\"surface1\">\n",
       "<path style=\"fill:none;stroke-width:1.19553;stroke-linecap:butt;stroke-linejoin:miter;stroke:rgb(0%,0%,0%);stroke-opacity:1;stroke-miterlimit:10;\" d=\"M -0.00140625 0.00134375 L 66.647031 91.731812 L -66.645938 91.731812 L -0.00140625 0.00134375 \" transform=\"matrix(1,0,0,-1,108.435,105.349)\"/>\n",
       "<path style=\"fill:none;stroke-width:1.19553;stroke-linecap:butt;stroke-linejoin:miter;stroke:rgb(0%,0%,0%);stroke-opacity:1;stroke-miterlimit:10;\" d=\"M -0.00140625 0.00134375 L 107.838437 -35.037719 L 66.647031 91.731812 L 0.0025 0.00134375 \" transform=\"matrix(1,0,0,-1,108.435,105.349)\"/>\n",
       "<g clip-path=\"url(#clip-1518428330974480-1)\" clip-rule=\"nonzero\">\n",
       "<path style=\"fill:none;stroke-width:1.19553;stroke-linecap:butt;stroke-linejoin:miter;stroke:rgb(0%,0%,0%);stroke-opacity:1;stroke-miterlimit:10;\" d=\"M -0.00140625 0.00134375 L -0.00140625 -113.385375 L 107.838437 -35.037719 L -0.00140625 0.00134375 \" transform=\"matrix(1,0,0,-1,108.435,105.349)\"/>\n",
       "</g>\n",
       "<g clip-path=\"url(#clip-1518428330974480-2)\" clip-rule=\"nonzero\">\n",
       "<path style=\"fill:none;stroke-width:1.19553;stroke-linecap:butt;stroke-linejoin:miter;stroke:rgb(0%,0%,0%);stroke-opacity:1;stroke-miterlimit:10;\" d=\"M -0.00140625 0.00134375 L -107.837344 -35.037719 L -0.00140625 -113.389281 L -0.00140625 0.00134375 \" transform=\"matrix(1,0,0,-1,108.435,105.349)\"/>\n",
       "</g>\n",
       "<path style=\"fill:none;stroke-width:1.19553;stroke-linecap:butt;stroke-linejoin:miter;stroke:rgb(0%,0%,0%);stroke-opacity:1;stroke-miterlimit:10;\" d=\"M -0.00140625 0.00134375 L -66.645938 91.731812 L -107.837344 -35.037719 L 0.0025 0.00134375 \" transform=\"matrix(1,0,0,-1,108.435,105.349)\"/>\n",
       "<path style=\"fill:none;stroke-width:1.19553;stroke-linecap:butt;stroke-linejoin:miter;stroke:rgb(0%,0%,0%);stroke-opacity:1;stroke-miterlimit:10;\" d=\"M 340.162656 0.00134375 L 383.549375 104.751344 L 296.768125 104.751344 L 340.154844 0.00134375 \" transform=\"matrix(1,0,0,-1,108.435,105.349)\"/>\n",
       "<g clip-path=\"url(#clip-1518428330974480-3)\" clip-rule=\"nonzero\">\n",
       "<path style=\"fill:none;stroke-width:1.19553;stroke-linecap:butt;stroke-linejoin:miter;stroke:rgb(0%,0%,0%);stroke-opacity:1;stroke-miterlimit:10;\" d=\"M 340.162656 0.00134375 L 444.912656 43.388062 L 383.549375 104.75525 L 340.15875 0.00134375 \" transform=\"matrix(1,0,0,-1,108.435,105.349)\"/>\n",
       "</g>\n",
       "<g clip-path=\"url(#clip-1518428330974480-4)\" clip-rule=\"nonzero\">\n",
       "<path style=\"fill:none;stroke-width:1.19553;stroke-linecap:butt;stroke-linejoin:miter;stroke:rgb(0%,0%,0%);stroke-opacity:1;stroke-miterlimit:10;\" d=\"M 340.162656 0.00134375 L 444.912656 -43.389281 L 444.912656 43.395875 L 340.162656 0.00525 \" transform=\"matrix(1,0,0,-1,108.435,105.349)\"/>\n",
       "</g>\n",
       "<g clip-path=\"url(#clip-1518428330974480-5)\" clip-rule=\"nonzero\">\n",
       "<path style=\"fill:none;stroke-width:1.19553;stroke-linecap:butt;stroke-linejoin:miter;stroke:rgb(0%,0%,0%);stroke-opacity:1;stroke-miterlimit:10;\" d=\"M 340.162656 0.00134375 L 383.549375 -104.752563 L 444.916562 -43.389281 L 340.162656 0.00134375 \" transform=\"matrix(1,0,0,-1,108.435,105.349)\"/>\n",
       "</g>\n",
       "<g clip-path=\"url(#clip-1518428330974480-6)\" clip-rule=\"nonzero\">\n",
       "<path style=\"fill:none;stroke-width:1.19553;stroke-linecap:butt;stroke-linejoin:miter;stroke:rgb(0%,0%,0%);stroke-opacity:1;stroke-miterlimit:10;\" d=\"M 340.162656 0.00134375 L 296.772031 -104.752563 L 383.557187 -104.752563 L 340.166562 0.00134375 \" transform=\"matrix(1,0,0,-1,108.435,105.349)\"/>\n",
       "</g>\n",
       "<g clip-path=\"url(#clip-1518428330974480-7)\" clip-rule=\"nonzero\">\n",
       "<path style=\"fill:none;stroke-width:1.19553;stroke-linecap:butt;stroke-linejoin:miter;stroke:rgb(0%,0%,0%);stroke-opacity:1;stroke-miterlimit:10;\" d=\"M 340.162656 0.00134375 L 235.40875 -43.389281 L 296.775937 -104.752563 L 340.162656 -0.0025625 \" transform=\"matrix(1,0,0,-1,108.435,105.349)\"/>\n",
       "</g>\n",
       "<path style=\"fill:none;stroke-width:1.19553;stroke-linecap:butt;stroke-linejoin:miter;stroke:rgb(0%,0%,0%);stroke-opacity:1;stroke-miterlimit:10;\" d=\"M 340.162656 0.00134375 L 235.40875 43.388062 L 235.40875 -43.393188 L 340.162656 -0.00646875 \" transform=\"matrix(1,0,0,-1,108.435,105.349)\"/>\n",
       "<path style=\"fill:none;stroke-width:1.19553;stroke-linecap:butt;stroke-linejoin:miter;stroke:rgb(0%,0%,0%);stroke-opacity:1;stroke-miterlimit:10;\" d=\"M 340.162656 0.00134375 L 296.772031 104.751344 L 235.40875 43.388062 L 340.15875 -0.0025625 \" transform=\"matrix(1,0,0,-1,108.435,105.349)\"/>\n",
       "</g>\n",
       "</svg>\n",
       "\n"
      ],
      "text/plain": [
       "TikzPictures.TikzPicture(L\"$    \\draw [turtle={home,right=36,forward,left=126,forward=2.351141cm,left=126,forward,left=144}];\n",
       "    \\draw [turtle={home,right=72,right=36,forward,left=126,forward=2.351141cm,left=126,forward,left=144}];\n",
       "    \\draw [turtle={home,right=144,right=36,forward,left=126,forward=2.351141cm,left=126,forward,left=144}];\n",
       "    \\draw [turtle={home,right=216,right=36,forward,left=126,forward=2.351141cm,left=126,forward,left=144}];\n",
       "    \\draw [turtle={home,right=288,right=36,forward,left=126,forward=2.351141cm,left=126,forward,left=144}];\n",
       "    \\begin{scope}[xshift=6cm]\n",
       "        \\draw [turtle={home,right=22.5,forward,left=112.5,forward=1.530734cm,left=112.5,forward}];\n",
       "        \\draw [turtle={home,right=45,right=22.5,forward,left=112.5,forward=1.530734cm,left=112.5,forward}];\n",
       "    \\draw [turtle={home,right=90,right=22.5,forward,left=112.5,forward=1.530734cm,left=112.5,forward}];\n",
       "    \\draw [turtle={home,right=135,right=22.5,forward,left=112.5,forward=1.530734cm,left=112.5,forward}];\n",
       "    \\draw [turtle={home,right=180,right=22.5,forward,left=112.5,forward=1.530734cm,left=112.5,forward}];\n",
       "    \\draw [turtle={home,right=225,right=22.5,forward,left=112.5,forward=1.530734cm,left=112.5,forward}];\n",
       "    \\draw [turtle={home,right=270,right=22.5,forward,left=112.5,forward=1.530734cm,left=112.5,forward}];\n",
       "    \\draw [turtle={home,right=315,right=22.5,forward,left=112.5,forward=1.530734cm,left=112.5,forward}];\n",
       "    \\end{scope}\n",
       "$\", \"very thick, scale=2, transform shape, turtle/distance=2cm\", \"    \\\\usepackage{newtxmath}\\n    \\\\renewcommand{\\\\familydefault}{\\\\sfdefault}\\n    \\\\usetikzlibrary{turtle}\\n\", true, true)"
      ]
     },
     "execution_count": 68,
     "metadata": {},
     "output_type": "execute_result"
    }
   ],
   "source": [
    "using TikzPictures\n",
    "TikzPicture(L\"\"\"\n",
    "    \\draw [turtle={home,right=36,forward,left=126,forward=2.351141cm,left=126,forward,left=144}];\n",
    "    \\draw [turtle={home,right=72,right=36,forward,left=126,forward=2.351141cm,left=126,forward,left=144}];\n",
    "    \\draw [turtle={home,right=144,right=36,forward,left=126,forward=2.351141cm,left=126,forward,left=144}];\n",
    "    \\draw [turtle={home,right=216,right=36,forward,left=126,forward=2.351141cm,left=126,forward,left=144}];\n",
    "    \\draw [turtle={home,right=288,right=36,forward,left=126,forward=2.351141cm,left=126,forward,left=144}];\n",
    "    \\begin{scope}[xshift=6cm]\n",
    "        \\draw [turtle={home,right=22.5,forward,left=112.5,forward=1.530734cm,left=112.5,forward}];\n",
    "        \\draw [turtle={home,right=45,right=22.5,forward,left=112.5,forward=1.530734cm,left=112.5,forward}];\n",
    "    \\draw [turtle={home,right=90,right=22.5,forward,left=112.5,forward=1.530734cm,left=112.5,forward}];\n",
    "    \\draw [turtle={home,right=135,right=22.5,forward,left=112.5,forward=1.530734cm,left=112.5,forward}];\n",
    "    \\draw [turtle={home,right=180,right=22.5,forward,left=112.5,forward=1.530734cm,left=112.5,forward}];\n",
    "    \\draw [turtle={home,right=225,right=22.5,forward,left=112.5,forward=1.530734cm,left=112.5,forward}];\n",
    "    \\draw [turtle={home,right=270,right=22.5,forward,left=112.5,forward=1.530734cm,left=112.5,forward}];\n",
    "    \\draw [turtle={home,right=315,right=22.5,forward,left=112.5,forward=1.530734cm,left=112.5,forward}];\n",
    "    \\end{scope}\n",
    "\"\"\"; options=\"very thick, scale=2, transform shape, turtle/distance=2cm\", preamble=\"\"\"\n",
    "    \\\\usepackage{newtxmath}\n",
    "    \\\\renewcommand{\\\\familydefault}{\\\\sfdefault}\n",
    "    \\\\usetikzlibrary{turtle}\n",
    "\"\"\")"
   ]
  },
  {
   "cell_type": "markdown",
   "metadata": {},
   "source": [
    "## Exercise 4\n",
    "Read about spirals at http://en.wikipedia.org/wiki/Spiral; then write a program that draws an Archimedian spiral (or one of the other kinds)."
   ]
  }
 ],
 "metadata": {
  "celltoolbar": "Hide code",
  "hide_code_all_hidden": false,
  "kernelspec": {
   "display_name": "Julia 0.6.2",
   "language": "julia",
   "name": "julia-0.6"
  },
  "language_info": {
   "file_extension": ".jl",
   "mimetype": "application/julia",
   "name": "julia",
   "version": "0.6.2"
  }
 },
 "nbformat": 4,
 "nbformat_minor": 2
}
