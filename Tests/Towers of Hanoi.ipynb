{
 "cells": [
  {
   "cell_type": "markdown",
   "metadata": {},
   "source": [
    "# Towers of Hanoi"
   ]
  },
  {
   "cell_type": "code",
   "execution_count": 1,
   "metadata": {},
   "outputs": [
    {
     "data": {
      "text/plain": [
       "4"
      ]
     },
     "execution_count": 1,
     "metadata": {},
     "output_type": "execute_result"
    }
   ],
   "source": [
    "n = 4"
   ]
  },
  {
   "cell_type": "code",
   "execution_count": 2,
   "metadata": {},
   "outputs": [
    {
     "data": {
      "text/plain": [
       "0-element Array{Any,1}"
      ]
     },
     "execution_count": 2,
     "metadata": {},
     "output_type": "execute_result"
    }
   ],
   "source": [
    "A = collect(n:-1:1)\n",
    "B = []\n",
    "C = []"
   ]
  },
  {
   "cell_type": "code",
   "execution_count": 3,
   "metadata": {},
   "outputs": [
    {
     "data": {
      "text/plain": [
       "hanoi_rec (generic function with 1 method)"
      ]
     },
     "execution_count": 3,
     "metadata": {},
     "output_type": "execute_result"
    }
   ],
   "source": [
    "function hanoi_rec(n, source, target, aux)\n",
    "    if n == 0\n",
    "        return\n",
    "    end\n",
    "    hanoi_rec(n-1, source, aux, target)\n",
    "    push!(target, pop!(source))\n",
    "    println(A, \", \", B, \", \", C)\n",
    "    hanoi_rec(n - 1, aux, target, source)\n",
    "end"
   ]
  },
  {
   "cell_type": "code",
   "execution_count": 4,
   "metadata": {},
   "outputs": [
    {
     "name": "stdout",
     "output_type": "stream",
     "text": [
      "[4, 3, 2], Any[], Any[1]\n",
      "[4, 3], Any[2], Any[1]\n",
      "[4, 3], Any[2, 1], Any[]\n",
      "[4], Any[2, 1], Any[3]\n",
      "[4, 1], Any[2], Any[3]\n",
      "[4, 1], Any[], Any[3, 2]\n",
      "[4], Any[], Any[3, 2, 1]\n",
      "Int64[], Any[4], Any[3, 2, 1]\n",
      "Int64[], Any[4, 1], Any[3, 2]\n",
      "[2], Any[4, 1], Any[3]\n",
      "[2, 1], Any[4], Any[3]\n",
      "[2, 1], Any[4, 3], Any[]\n",
      "[2], Any[4, 3], Any[1]\n",
      "Int64[], Any[4, 3, 2], Any[1]\n",
      "Int64[], Any[4, 3, 2, 1], Any[]\n"
     ]
    }
   ],
   "source": [
    "hanoi_rec(n, A, B, C)"
   ]
  },
  {
   "cell_type": "code",
   "execution_count": 5,
   "metadata": {},
   "outputs": [
    {
     "data": {
      "text/plain": [
       "0-element Array{Any,1}"
      ]
     },
     "execution_count": 5,
     "metadata": {},
     "output_type": "execute_result"
    }
   ],
   "source": [
    "A = collect(n:-1:1)\n",
    "B = []\n",
    "C = []"
   ]
  },
  {
   "cell_type": "code",
   "execution_count": 6,
   "metadata": {},
   "outputs": [
    {
     "data": {
      "text/plain": [
       "hanoi_it_1 (generic function with 1 method)"
      ]
     },
     "execution_count": 6,
     "metadata": {},
     "output_type": "execute_result"
    }
   ],
   "source": [
    "function hanoi_it_1(source, target, aux)\n",
    "    n = length(source)\n",
    "    state = 4\n",
    "    nr = 2^n - 1\n",
    "    if length(source) % 2 == 0\n",
    "        state = 3\n",
    "    end\n",
    "    for i in 1:nr\n",
    "        if state == 4\n",
    "            from = source\n",
    "            to = target\n",
    "        elseif state == 3\n",
    "            from = source\n",
    "            to = aux\n",
    "        elseif state == 5\n",
    "            from = target\n",
    "            to = aux\n",
    "        end\n",
    "        if isempty(to) || (!isempty(from) && from[end] < to[end])\n",
    "            push!(to, pop!(from))\n",
    "        else\n",
    "            push!(from, pop!(to))\n",
    "        end\n",
    "        println(A, \", \", B, \", \", C)\n",
    "        if n % 2 == 0\n",
    "            state += 1\n",
    "            if state == 6\n",
    "                state = 3\n",
    "            end\n",
    "        else\n",
    "            state -= 1\n",
    "            if state == 2\n",
    "                state = 5\n",
    "            end\n",
    "        end\n",
    "    end  \n",
    "end\n",
    "                \n",
    "        "
   ]
  },
  {
   "cell_type": "code",
   "execution_count": 7,
   "metadata": {},
   "outputs": [
    {
     "name": "stdout",
     "output_type": "stream",
     "text": [
      "3, 15\n",
      "[4, 3, 2], Any[], Any[1]\n",
      "[4, 3], Any[2], Any[1]\n",
      "[4, 3], Any[2, 1], Any[]\n",
      "[4], Any[2, 1], Any[3]\n",
      "[4, 1], Any[2], Any[3]\n",
      "[4, 1], Any[], Any[3, 2]\n",
      "[4], Any[], Any[3, 2, 1]\n",
      "Int64[], Any[4], Any[3, 2, 1]\n",
      "Int64[], Any[4, 1], Any[3, 2]\n",
      "[2], Any[4, 1], Any[3]\n",
      "[2, 1], Any[4], Any[3]\n",
      "[2, 1], Any[4, 3], Any[]\n",
      "[2], Any[4, 3], Any[1]\n",
      "Int64[], Any[4, 3, 2], Any[1]\n",
      "Int64[], Any[4, 3, 2, 1], Any[]\n"
     ]
    }
   ],
   "source": [
    "hanoi_it_1(A, B, C)"
   ]
  },
  {
   "cell_type": "code",
   "execution_count": 8,
   "metadata": {},
   "outputs": [
    {
     "data": {
      "text/plain": [
       "0-element Array{Any,1}"
      ]
     },
     "execution_count": 8,
     "metadata": {},
     "output_type": "execute_result"
    }
   ],
   "source": [
    "A = collect(n:-1:1)\n",
    "B = []\n",
    "C = []"
   ]
  },
  {
   "cell_type": "code",
   "execution_count": 9,
   "metadata": {},
   "outputs": [
    {
     "data": {
      "text/plain": [
       "hanoi_it_2 (generic function with 1 method)"
      ]
     },
     "execution_count": 9,
     "metadata": {},
     "output_type": "execute_result"
    }
   ],
   "source": [
    "function hanoi_it_2(source, target, aux)\n",
    "    prev = source\n",
    "    if length(source) % 2 == 0\n",
    "        push!(aux, pop!(source))\n",
    "        actual = aux\n",
    "        next = target\n",
    "    else\n",
    "        push!(target, pop!(source))\n",
    "        actual = target\n",
    "        next = aux\n",
    "    end\n",
    "    println(A, \", \", B, \", \", C)\n",
    "    while !(isempty(source) && isempty(aux))\n",
    "        if isempty(next) || (!isempty(prev) && prev[end] < next[end])\n",
    "            push!(next, pop!(prev))\n",
    "        else\n",
    "            push!(prev, pop!(next))\n",
    "        end\n",
    "        println(A, \", \", B, \", \", C)\n",
    "        push!(next, pop!(actual))\n",
    "        println(A, \", \", B, \", \", C)\n",
    "        prev, actual, next = actual, next, prev\n",
    "    end\n",
    "end"
   ]
  },
  {
   "cell_type": "code",
   "execution_count": 10,
   "metadata": {},
   "outputs": [
    {
     "name": "stdout",
     "output_type": "stream",
     "text": [
      "[4, 3, 2], Any[], Any[1]\n",
      "[4, 3], Any[2], Any[1]\n",
      "[4, 3], Any[2, 1], Any[]\n",
      "[4], Any[2, 1], Any[3]\n",
      "[4, 1], Any[2], Any[3]\n",
      "[4, 1], Any[], Any[3, 2]\n",
      "[4], Any[], Any[3, 2, 1]\n",
      "Int64[], Any[4], Any[3, 2, 1]\n",
      "Int64[], Any[4, 1], Any[3, 2]\n",
      "[2], Any[4, 1], Any[3]\n",
      "[2, 1], Any[4], Any[3]\n",
      "[2, 1], Any[4, 3], Any[]\n",
      "[2], Any[4, 3], Any[1]\n",
      "Int64[], Any[4, 3, 2], Any[1]\n",
      "Int64[], Any[4, 3, 2, 1], Any[]\n"
     ]
    }
   ],
   "source": [
    "hanoi_it_2(A, B, C)"
   ]
  }
 ],
 "metadata": {
  "kernelspec": {
   "display_name": "Julia 0.6.2",
   "language": "julia",
   "name": "julia-0.6"
  },
  "language_info": {
   "file_extension": ".jl",
   "mimetype": "application/julia",
   "name": "julia",
   "version": "0.6.2"
  }
 },
 "nbformat": 4,
 "nbformat_minor": 2
}
