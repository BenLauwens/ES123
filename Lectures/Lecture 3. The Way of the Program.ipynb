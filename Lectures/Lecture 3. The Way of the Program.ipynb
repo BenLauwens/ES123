{
 "cells": [
  {
   "cell_type": "markdown",
   "metadata": {
    "hideCode": true,
    "hidePrompt": true,
    "slideshow": {
     "slide_type": "slide"
    }
   },
   "source": [
    "# Programs, Programming Languages, Programming\n",
    "\n",
    "## Programs\n",
    "\n",
    "A *program* is a sequence of instructions that specifies how to perform a computation."
   ]
  },
  {
   "cell_type": "code",
   "execution_count": 4,
   "metadata": {
    "hideCode": true,
    "hidePrompt": true
   },
   "outputs": [
    {
     "data": {
      "image/svg+xml": [
       "<?xml version=\"1.0\" encoding=\"UTF-8\"?>\n",
       "<svg xmlns=\"http://www.w3.org/2000/svg\" xmlns:xlink=\"http://www.w3.org/1999/xlink\" width=\"794.095pt\" height=\"304.331pt\" viewBox=\"0 0 794.095 304.331\" version=\"1.1\">\n",
       "<defs>\n",
       "<g>\n",
       "<symbol overflow=\"visible\" id=\"glyph-1516085499493355-0-0\">\n",
       "<path style=\"stroke:none;\" d=\"\"/>\n",
       "</symbol>\n",
       "<symbol overflow=\"visible\" id=\"glyph-1516085499493355-0-1\">\n",
       "<path style=\"stroke:none;\" d=\"M 5.46875 0 L 5.46875 -20.75 L 2.8125 -20.75 L 2.8125 0 Z M 5.46875 0 \"/>\n",
       "</symbol>\n",
       "<symbol overflow=\"visible\" id=\"glyph-1516085499493355-0-2\">\n",
       "<path style=\"stroke:none;\" d=\"M 13 0 L 13 -8.90625 C 13 -10.875 12.546875 -13.59375 8.90625 -13.59375 C 6.21875 -13.59375 4.75 -11.5625 4.578125 -11.328125 L 4.578125 -13.453125 L 2.421875 -13.453125 L 2.421875 0 L 4.75 0 L 4.75 -7.328125 C 4.75 -9.296875 5.5 -11.78125 7.765625 -11.78125 C 10.640625 -11.78125 10.671875 -9.65625 10.671875 -8.703125 L 10.671875 0 Z M 13 0 \"/>\n",
       "</symbol>\n",
       "<symbol overflow=\"visible\" id=\"glyph-1516085499493355-0-3\">\n",
       "<path style=\"stroke:none;\" d=\"M 14.34375 -6.671875 C 14.34375 -10.25 12.46875 -13.59375 9.59375 -13.59375 C 7.796875 -13.59375 6.0625 -12.96875 4.6875 -11.8125 L 4.6875 -13.265625 L 2.453125 -13.265625 L 2.453125 5.796875 L 4.78125 5.796875 L 4.78125 -1.375 C 5.703125 -0.515625 7.03125 0.328125 8.8125 0.328125 C 11.71875 0.328125 14.34375 -2.59375 14.34375 -6.671875 Z M 12.015625 -6.671875 C 12.015625 -3.59375 9.890625 -1.5 7.65625 -1.5 C 6.484375 -1.5 5.671875 -2.09375 5.078125 -2.90625 C 4.78125 -3.34375 4.78125 -3.40625 4.78125 -3.953125 L 4.78125 -9.953125 C 5.5 -11 6.671875 -11.6875 7.953125 -11.6875 C 10.21875 -11.6875 12.015625 -9.421875 12.015625 -6.671875 Z M 12.015625 -6.671875 \"/>\n",
       "</symbol>\n",
       "<symbol overflow=\"visible\" id=\"glyph-1516085499493355-0-4\">\n",
       "<path style=\"stroke:none;\" d=\"M 13 0 L 13 -13.265625 L 10.671875 -13.265625 L 10.671875 -4.609375 C 10.671875 -2.359375 9 -1.3125 7.078125 -1.3125 C 4.96875 -1.3125 4.75 -2.09375 4.75 -3.375 L 4.75 -13.265625 L 2.421875 -13.265625 L 2.421875 -3.265625 C 2.421875 -1.109375 3.109375 0.328125 5.59375 0.328125 C 7.171875 0.328125 9.296875 -0.15625 10.765625 -1.4375 L 10.765625 0 Z M 13 0 \"/>\n",
       "</symbol>\n",
       "<symbol overflow=\"visible\" id=\"glyph-1516085499493355-0-5\">\n",
       "<path style=\"stroke:none;\" d=\"M 9.921875 -0.8125 L 9.453125 -2.578125 C 8.671875 -1.9375 7.71875 -1.578125 6.75 -1.578125 C 5.65625 -1.578125 5.234375 -2.484375 5.234375 -4.0625 L 5.234375 -11.53125 L 9.453125 -11.53125 L 9.453125 -13.265625 L 5.234375 -13.265625 L 5.234375 -17.0625 L 3.171875 -17.0625 L 3.171875 -13.265625 L 0.5625 -13.265625 L 0.5625 -11.53125 L 3.078125 -11.53125 L 3.078125 -3.5625 C 3.078125 -1.765625 3.5 0.328125 5.5625 0.328125 C 7.65625 0.328125 9.171875 -0.421875 9.921875 -0.8125 Z M 9.921875 -0.8125 \"/>\n",
       "</symbol>\n",
       "<symbol overflow=\"visible\" id=\"glyph-1516085499493355-0-6\">\n",
       "<path style=\"stroke:none;\" d=\"M 17.546875 -1.34375 L 17.359375 -3.40625 C 16.5 -2.8125 15.625 -2.234375 14.609375 -1.9375 C 13.65625 -1.609375 12.609375 -1.578125 11.59375 -1.578125 C 9.65625 -1.578125 7.890625 -2.625 6.671875 -4.15625 C 5.296875 -5.921875 4.640625 -8.125 4.640625 -10.375 C 4.640625 -12.609375 5.296875 -14.859375 6.671875 -16.625 C 7.890625 -18.140625 9.65625 -19.1875 11.59375 -19.1875 C 12.5 -19.1875 13.421875 -19.09375 14.28125 -18.828125 C 15.1875 -18.5625 16.015625 -18.109375 16.796875 -17.578125 L 17.21875 -20.03125 C 16.3125 -20.390625 15.390625 -20.6875 14.4375 -20.859375 C 13.515625 -21.046875 12.546875 -21.109375 11.59375 -21.109375 C 8.96875 -21.109375 6.546875 -19.90625 4.78125 -17.96875 C 2.921875 -15.875 1.96875 -13.15625 1.96875 -10.375 C 1.96875 -7.59375 2.921875 -4.875 4.78125 -2.8125 C 6.546875 -0.859375 8.96875 0.328125 11.59375 0.328125 C 12.640625 0.328125 13.6875 0.296875 14.703125 0 C 15.71875 -0.265625 16.65625 -0.8125 17.546875 -1.34375 Z M 17.546875 -1.34375 \"/>\n",
       "</symbol>\n",
       "<symbol overflow=\"visible\" id=\"glyph-1516085499493355-0-7\">\n",
       "<path style=\"stroke:none;\" d=\"M 14.015625 -6.578125 C 14.015625 -10.578125 11.03125 -13.78125 7.46875 -13.78125 C 3.796875 -13.78125 0.890625 -10.484375 0.890625 -6.578125 C 0.890625 -2.625 3.953125 0.328125 7.4375 0.328125 C 11.03125 0.328125 14.015625 -2.6875 14.015625 -6.578125 Z M 11.6875 -6.875 C 11.6875 -3.34375 9.65625 -1.578125 7.4375 -1.578125 C 5.375 -1.578125 3.234375 -3.265625 3.234375 -6.875 C 3.234375 -10.484375 5.5 -11.953125 7.4375 -11.953125 C 9.53125 -11.953125 11.6875 -10.40625 11.6875 -6.875 Z M 11.6875 -6.875 \"/>\n",
       "</symbol>\n",
       "<symbol overflow=\"visible\" id=\"glyph-1516085499493355-0-8\">\n",
       "<path style=\"stroke:none;\" d=\"M 21.3125 0 L 21.3125 -8.90625 C 21.3125 -10.90625 20.828125 -13.59375 17.21875 -13.59375 C 15.421875 -13.59375 13.875 -12.765625 12.765625 -11.15625 C 11.984375 -13.421875 9.890625 -13.59375 8.9375 -13.59375 C 6.78125 -13.59375 5.375 -12.375 4.578125 -11.296875 L 4.578125 -13.453125 L 2.421875 -13.453125 L 2.421875 0 L 4.75 0 L 4.75 -7.328125 C 4.75 -9.359375 5.5625 -11.78125 7.765625 -11.78125 C 10.546875 -11.78125 10.703125 -9.828125 10.703125 -8.703125 L 10.703125 0 L 13.03125 0 L 13.03125 -7.328125 C 13.03125 -9.359375 13.84375 -11.78125 16.046875 -11.78125 C 18.828125 -11.78125 18.984375 -9.828125 18.984375 -8.703125 L 18.984375 0 Z M 21.3125 0 \"/>\n",
       "</symbol>\n",
       "<symbol overflow=\"visible\" id=\"glyph-1516085499493355-0-9\">\n",
       "<path style=\"stroke:none;\" d=\"M 12.21875 0 L 12.21875 -8.640625 C 12.21875 -11.6875 10.046875 -13.78125 7.296875 -13.78125 C 5.34375 -13.78125 4 -13.296875 2.59375 -12.5 L 2.78125 -10.515625 C 4.328125 -11.625 5.828125 -12.015625 7.296875 -12.015625 C 8.703125 -12.015625 9.890625 -10.828125 9.890625 -8.609375 L 9.890625 -7.328125 C 5.40625 -7.265625 1.609375 -6.015625 1.609375 -3.375 C 1.609375 -2.09375 2.421875 0.328125 5.015625 0.328125 C 5.4375 0.328125 8.25 0.265625 9.984375 -1.078125 L 9.984375 0 Z M 9.890625 -3.953125 C 9.890625 -3.375 9.890625 -2.625 8.875 -2.0625 C 8.015625 -1.53125 6.875 -1.5 6.546875 -1.5 C 5.109375 -1.5 3.765625 -2.1875 3.765625 -3.4375 C 3.765625 -5.53125 8.609375 -5.734375 9.890625 -5.796875 Z M 9.890625 -3.953125 \"/>\n",
       "</symbol>\n",
       "<symbol overflow=\"visible\" id=\"glyph-1516085499493355-0-10\">\n",
       "<path style=\"stroke:none;\" d=\"M 4.65625 0 L 4.65625 -13.265625 L 2.421875 -13.265625 L 2.421875 0 Z M 4.90625 -16.921875 L 4.90625 -19.578125 L 2.234375 -19.578125 L 2.234375 -16.921875 Z M 4.90625 -16.921875 \"/>\n",
       "</symbol>\n",
       "<symbol overflow=\"visible\" id=\"glyph-1516085499493355-0-11\">\n",
       "<path style=\"stroke:none;\" d=\"M 20.296875 -10.3125 C 20.296875 -16.59375 15.96875 -21.40625 11 -21.40625 C 5.921875 -21.40625 1.671875 -16.53125 1.671875 -10.3125 C 1.671875 -3.96875 6.09375 0.65625 10.96875 0.65625 C 15.96875 0.65625 20.296875 -4.03125 20.296875 -10.3125 Z M 17.640625 -10.765625 C 17.640625 -4.9375 14.40625 -1.28125 11 -1.28125 C 7.46875 -1.28125 4.328125 -5.015625 4.328125 -10.765625 C 4.328125 -16.234375 7.625 -19.484375 10.96875 -19.484375 C 14.4375 -19.484375 17.640625 -16.109375 17.640625 -10.765625 Z M 17.640625 -10.765625 \"/>\n",
       "</symbol>\n",
       "<symbol overflow=\"visible\" id=\"glyph-1516085499493355-0-12\">\n",
       "<path style=\"stroke:none;\" d=\"M 17.390625 -14.703125 C 17.390625 -17.90625 14.4375 -20.75 10.3125 -20.75 L 2.875 -20.75 L 2.875 0 L 5.53125 0 L 5.53125 -8.640625 L 10.515625 -8.640625 C 14.234375 -8.640625 17.390625 -11.359375 17.390625 -14.703125 Z M 14.96875 -14.703125 C 14.96875 -12.34375 13.09375 -10.375 9.65625 -10.375 L 5.4375 -10.375 L 5.4375 -19.0625 L 9.65625 -19.0625 C 12.9375 -19.0625 14.96875 -17.25 14.96875 -14.703125 Z M 14.96875 -14.703125 \"/>\n",
       "</symbol>\n",
       "<symbol overflow=\"visible\" id=\"glyph-1516085499493355-0-13\">\n",
       "<path style=\"stroke:none;\" d=\"M 9.78125 -11.59375 L 9.78125 -13.59375 C 7.109375 -13.5625 5.46875 -12.109375 4.546875 -10.734375 L 4.546875 -13.453125 L 2.453125 -13.453125 L 2.453125 0 L 4.6875 0 L 4.6875 -6.390625 C 4.6875 -9.390625 6.84375 -11.53125 9.78125 -11.59375 Z M 9.78125 -11.59375 \"/>\n",
       "</symbol>\n",
       "<symbol overflow=\"visible\" id=\"glyph-1516085499493355-0-14\">\n",
       "<path style=\"stroke:none;\" d=\"M 14.5 -11.71875 L 14.171875 -13.59375 C 12.078125 -13.59375 10.34375 -13.03125 9.453125 -12.640625 C 8.8125 -13.15625 7.796875 -13.59375 6.609375 -13.59375 C 4.03125 -13.59375 1.859375 -11.453125 1.859375 -8.734375 C 1.859375 -7.625 2.234375 -6.546875 2.84375 -5.765625 C 1.96875 -4.546875 1.96875 -3.375 1.96875 -3.234375 C 1.96875 -2.453125 2.234375 -1.578125 2.75 -0.953125 C 1.203125 -0.03125 0.84375 1.34375 0.84375 2.125 C 0.84375 4.359375 3.796875 6.15625 7.4375 6.15625 C 11.125 6.15625 14.078125 4.390625 14.078125 2.09375 C 14.078125 -2.0625 9.09375 -2.0625 7.921875 -2.0625 L 5.296875 -2.0625 C 4.90625 -2.0625 3.5625 -2.0625 3.5625 -3.640625 C 3.5625 -3.96875 3.671875 -4.453125 3.890625 -4.71875 C 4.515625 -4.28125 5.5 -3.859375 6.609375 -3.859375 C 9.296875 -3.859375 11.390625 -6.0625 11.390625 -8.734375 C 11.390625 -10.15625 10.734375 -11.265625 10.40625 -11.71875 L 10.515625 -11.6875 C 11.171875 -11.6875 12.015625 -11.8125 12.734375 -11.8125 C 13.265625 -11.8125 14.5 -11.71875 14.5 -11.71875 Z M 9.296875 -8.734375 C 9.296875 -6.390625 7.890625 -5.5625 6.609375 -5.5625 C 5.5 -5.5625 3.953125 -6.25 3.953125 -8.734375 C 3.953125 -11.203125 5.5 -11.890625 6.609375 -11.890625 C 7.890625 -11.890625 9.296875 -11.0625 9.296875 -8.734375 Z M 11.984375 2.15625 C 11.984375 3.46875 9.921875 4.453125 7.46875 4.453125 C 5.046875 4.453125 2.921875 3.53125 2.921875 2.125 C 2.921875 2.03125 2.921875 0.09375 5.265625 0.09375 L 7.953125 0.09375 C 8.609375 0.09375 11.984375 0.09375 11.984375 2.15625 Z M 11.984375 2.15625 \"/>\n",
       "</symbol>\n",
       "</g>\n",
       "<clipPath id=\"clip-1516085499493355-1\">\n",
       "  <path d=\"M 256 133 L 513 133 L 513 304.332031 L 256 304.332031 Z M 256 133 \"/>\n",
       "</clipPath>\n",
       "</defs>\n",
       "<g id=\"surface1\">\n",
       "<g clip-path=\"url(#clip-1516085499493355-1)\" clip-rule=\"nonzero\">\n",
       "<path style=\"fill:none;stroke-width:1.19553;stroke-linecap:butt;stroke-linejoin:miter;stroke:rgb(0%,0%,0%);stroke-opacity:1;stroke-miterlimit:10;\" d=\"M 170.079 -0.001375 L 425.204 -0.001375 L 425.204 170.080656 L 170.079 170.080656 Z M 170.079 -0.001375 \" transform=\"matrix(1,0,0,-1,87.171,303.733)\"/>\n",
       "</g>\n",
       "<path style=\"fill:none;stroke-width:1.19553;stroke-linecap:butt;stroke-linejoin:miter;stroke:rgb(0%,0%,0%);stroke-opacity:1;stroke-miterlimit:10;\" d=\"M 0.000875 85.041594 L 164.340719 85.041594 \" transform=\"matrix(1,0,0,-1,87.171,303.733)\"/>\n",
       "<path style=\" stroke:none;fill-rule:nonzero;fill:rgb(0%,0%,0%);fill-opacity:1;\" d=\"M 257.25 218.691406 C 255.550781 218.375 252.789062 217.417969 250.875 216.300781 L 250.875 221.082031 C 252.789062 219.96875 255.550781 219.011719 257.25 218.691406 \"/>\n",
       "<g style=\"fill:rgb(0%,0%,0%);fill-opacity:1;\">\n",
       "  <use xlink:href=\"#glyph-1516085499493355-0-1\" x=\"9.962\" y=\"226.166\"/>\n",
       "  <use xlink:href=\"#glyph-1516085499493355-0-2\" x=\"18.270842\" y=\"226.166\"/>\n",
       "  <use xlink:href=\"#glyph-1516085499493355-0-3\" x=\"33.722896\" y=\"226.166\"/>\n",
       "  <use xlink:href=\"#glyph-1516085499493355-0-4\" x=\"49.174951\" y=\"226.166\"/>\n",
       "  <use xlink:href=\"#glyph-1516085499493355-0-5\" x=\"64.627006\" y=\"226.166\"/>\n",
       "</g>\n",
       "<g style=\"fill:rgb(0%,0%,0%);fill-opacity:1;\">\n",
       "  <use xlink:href=\"#glyph-1516085499493355-0-6\" x=\"303.723\" y=\"226.345\"/>\n",
       "  <use xlink:href=\"#glyph-1516085499493355-0-7\" x=\"322.821381\" y=\"226.345\"/>\n",
       "  <use xlink:href=\"#glyph-1516085499493355-0-8\" x=\"337.765341\" y=\"226.345\"/>\n",
       "  <use xlink:href=\"#glyph-1516085499493355-0-3\" x=\"361.496349\" y=\"226.345\"/>\n",
       "  <use xlink:href=\"#glyph-1516085499493355-0-4\" x=\"376.948404\" y=\"226.345\"/>\n",
       "  <use xlink:href=\"#glyph-1516085499493355-0-5\" x=\"392.400459\" y=\"226.345\"/>\n",
       "  <use xlink:href=\"#glyph-1516085499493355-0-9\" x=\"403.189998\" y=\"226.345\"/>\n",
       "  <use xlink:href=\"#glyph-1516085499493355-0-5\" x=\"417.566087\" y=\"226.345\"/>\n",
       "  <use xlink:href=\"#glyph-1516085499493355-0-10\" x=\"428.355626\" y=\"226.345\"/>\n",
       "  <use xlink:href=\"#glyph-1516085499493355-0-7\" x=\"435.498839\" y=\"226.345\"/>\n",
       "  <use xlink:href=\"#glyph-1516085499493355-0-2\" x=\"450.442799\" y=\"226.345\"/>\n",
       "</g>\n",
       "<path style=\"fill:none;stroke-width:1.19553;stroke-linecap:butt;stroke-linejoin:miter;stroke:rgb(0%,0%,0%);stroke-opacity:1;stroke-miterlimit:10;\" d=\"M 425.204 85.041594 L 589.543844 85.041594 \" transform=\"matrix(1,0,0,-1,87.171,303.733)\"/>\n",
       "<path style=\" stroke:none;fill-rule:nonzero;fill:rgb(0%,0%,0%);fill-opacity:1;\" d=\"M 682.453125 218.691406 C 680.753906 218.375 677.992188 217.417969 676.078125 216.300781 L 676.078125 221.082031 C 677.992188 219.96875 680.753906 219.011719 682.453125 218.691406 \"/>\n",
       "<g style=\"fill:rgb(0%,0%,0%);fill-opacity:1;\">\n",
       "  <use xlink:href=\"#glyph-1516085499493355-0-11\" x=\"694.201\" y=\"226.495\"/>\n",
       "  <use xlink:href=\"#glyph-1516085499493355-0-4\" x=\"716.198509\" y=\"226.495\"/>\n",
       "  <use xlink:href=\"#glyph-1516085499493355-0-5\" x=\"731.650564\" y=\"226.495\"/>\n",
       "  <use xlink:href=\"#glyph-1516085499493355-0-3\" x=\"742.440103\" y=\"226.495\"/>\n",
       "  <use xlink:href=\"#glyph-1516085499493355-0-4\" x=\"757.892158\" y=\"226.495\"/>\n",
       "  <use xlink:href=\"#glyph-1516085499493355-0-5\" x=\"773.344212\" y=\"226.495\"/>\n",
       "</g>\n",
       "<path style=\"fill:none;stroke-width:1.19553;stroke-linecap:butt;stroke-linejoin:miter;stroke:rgb(0%,0%,0%);stroke-opacity:1;stroke-miterlimit:10;\" d=\"M 297.6415 255.119719 L 297.6415 175.818937 \" transform=\"matrix(1,0,0,-1,87.171,303.733)\"/>\n",
       "<path style=\" stroke:none;fill-rule:nonzero;fill:rgb(0%,0%,0%);fill-opacity:1;\" d=\"M 384.8125 133.652344 C 385.132812 131.953125 386.085938 129.1875 387.203125 127.277344 L 382.421875 127.277344 C 383.539062 129.1875 384.492188 131.953125 384.8125 133.652344 \"/>\n",
       "<g style=\"fill:rgb(0%,0%,0%);fill-opacity:1;\">\n",
       "  <use xlink:href=\"#glyph-1516085499493355-0-12\" x=\"331.04\" y=\"30.704\"/>\n",
       "  <use xlink:href=\"#glyph-1516085499493355-0-13\" x=\"350.138381\" y=\"30.704\"/>\n",
       "  <use xlink:href=\"#glyph-1516085499493355-0-7\" x=\"360.36005\" y=\"30.704\"/>\n",
       "  <use xlink:href=\"#glyph-1516085499493355-0-14\" x=\"375.30401\" y=\"30.704\"/>\n",
       "  <use xlink:href=\"#glyph-1516085499493355-0-13\" x=\"390.24797\" y=\"30.704\"/>\n",
       "  <use xlink:href=\"#glyph-1516085499493355-0-9\" x=\"400.469638\" y=\"30.704\"/>\n",
       "  <use xlink:href=\"#glyph-1516085499493355-0-8\" x=\"414.845728\" y=\"30.704\"/>\n",
       "</g>\n",
       "</g>\n",
       "</svg>\n",
       "\n"
      ],
      "text/plain": [
       "TikzPictures.TikzPicture(L\"$    \\draw (2,0) -- (5,0) -- (5,2) -- (2,2) -- cycle;\n",
       "    \\draw[-latex] (0,1) node[left] {Input} -- (2,1);\n",
       "    \\node[align=center] at (3.5,1) {Computation};\n",
       "    \\draw[-latex] (5,1) -- (7,1) node[right] {Output};\n",
       "    \\draw[-latex] (3.5,3) node[above] {Program} -- (3.5,2);\n",
       "$\", \"very thick, scale=3, transform shape\", \"    \\\\usepackage{newtxmath}\\n    \\\\renewcommand{\\\\familydefault}{\\\\sfdefault}\\n\", true, true)"
      ]
     },
     "execution_count": 4,
     "metadata": {},
     "output_type": "execute_result"
    }
   ],
   "source": [
    "using TikzPictures\n",
    "TikzPicture(L\"\"\"\n",
    "    \\draw (2,0) -- (5,0) -- (5,2) -- (2,2) -- cycle;\n",
    "    \\draw[-latex] (0,1) node[left] {Input} -- (2,1);\n",
    "    \\node[align=center] at (3.5,1) {Computation};\n",
    "    \\draw[-latex] (5,1) -- (7,1) node[right] {Output};\n",
    "    \\draw[-latex] (3.5,3) node[above] {Program} -- (3.5,2);\n",
    "\"\"\"; options=\"very thick, scale=3, transform shape\", preamble=\"\"\"\n",
    "    \\\\usepackage{newtxmath}\n",
    "    \\\\renewcommand{\\\\familydefault}{\\\\sfdefault}\n",
    "\"\"\")"
   ]
  },
  {
   "cell_type": "markdown",
   "metadata": {
    "hideCode": true,
    "hidePrompt": true,
    "slideshow": {
     "slide_type": "subslide"
    }
   },
   "source": [
    "Following instructions are fundamental:\n",
    "\n",
    "- *input*: get data from the keyboard, a file, or some other device\n",
    "- *output*: display data on the screen or send data to a file or an other device\n",
    "- *math*: perform basic mathematical operations like addition and multiplication\n",
    "- *conditional execution*: check for certain conditions and execute the appropriate sequence of instructions\n",
    "\n",
    "These correspond off course with the basic instructions provided by the instruction set of our computer, which we will call *low-level language* of *assembly*. These are needed to perform a general computation in the sense of Turing."
   ]
  },
  {
   "cell_type": "markdown",
   "metadata": {
    "hideCode": true,
    "hidePrompt": true,
    "slideshow": {
     "slide_type": "subslide"
    }
   },
   "source": [
    "## Programming Languages\n",
    "\n",
    "We don't want to write a program in assembly:\n",
    "\n",
    "- programming in assembly is tedious and errorprone (you need to know all the gory details...)\n",
    "- assembly is not portable (you have to start over if you want to use a CPU with another instruction set)\n",
    "\n",
    "i.e. we need a *high level programming language*.\n",
    "\n",
    "A high level programming language introduces supplementary instructions:\n",
    "\n",
    "- *repetition*: perform some action repeatedly, usually with some variation\n",
    "\n",
    "Believe it or not, that's pretty much all there is to it. Every program you've ever used, no matter how complicated, is made of instructions that look more or less like these."
   ]
  },
  {
   "cell_type": "markdown",
   "metadata": {
    "hideCode": true,
    "hidePrompt": true,
    "slideshow": {
     "slide_type": "subslide"
    }
   },
   "source": [
    "## Programming and Algorithms\n",
    "\n",
    "*Programming* is the process of breaking a large, complex task into smaller and smaller subtasks until the subtasks are simple enough to be performed with sequences of these basic instructions.\n",
    "\n",
    "As we progress through this course, you will notice that although the particulars of the source code change from one problem area to the next, certain patterns will emerge in the approach we take.\n",
    "\n",
    "An *algorithm* is a mechanical (no intelligence required) sequence of instructions for solving a specific problem, eg. Newton's method for root solving. Executing an algorithm is boring, but designing them is interesting, intellectual challenging, and a central part of this course."
   ]
  },
  {
   "cell_type": "markdown",
   "metadata": {
    "slideshow": {
     "slide_type": "slide"
    }
   },
   "source": [
    "# From Source Code to Executable\n",
    "\n",
    "The statements in a high level programming language have to be translated to instructions that the CPU can execute. There are two ways to do this translation: *interpreting* or *compiling*.\n",
    "\n",
    "An interpreter is a program that reads a high level program and does what is says, eg. a Jupyter notebook. In effect, it translates the program line-by-line, alternately reading lines and carrying out commands.\n",
    "\n",
    "A compiler is a program that reads a high level program and translates it all at once, before executing any of the command. Often you compile the program as a separate step, and then execute the compiled code later. In this case the high level program is called the *source code* and the translated program is called the *object code* or *executable*."
   ]
  },
  {
   "cell_type": "markdown",
   "metadata": {
    "slideshow": {
     "slide_type": "subslide"
    }
   },
   "source": [
    "Historically compiled programs performed better, i.e. ran faster, than interpreted programs. Because the compilation step and the execution are decoupled, a compiler could work longer and generate better object code. The runtime overhead is also less. An interpreter allows to use runtime information during translation what makes it more flexible and easier to program. A command-line interface (or Jupyter notebook) allows to dynamically execute statements.\n",
    "\n",
    "Nowadays with *Just-In-Time* (JIT) compilation we can use the flexibility of an interpreter with the performance of a compiler: the source code is compiled at runtime. We have however the overhead of both an interpreter and a compiler.\n",
    "\n",
    "We will use 4 programming languages to illustrate the most important programming techniques:\n",
    "\n",
    "- Matlab (Octave): uses a JIT compiler (experimental for Octave)\n",
    "- Python: uses an interpreter\n",
    "- Julia: uses a JIT compiler\n",
    "- C++: (gcc, clang) uses a compiler or (cling for Jupyter notebook) a JIT compiler"
   ]
  },
  {
   "cell_type": "markdown",
   "metadata": {
    "slideshow": {
     "slide_type": "slide"
    }
   },
   "source": [
    "# The first program\n",
    "\n",
    "Traditionally, the first program you write in a new language is called `helloworld` because all it does is display the words \"Hello, World!\".\n",
    "\n",
    "Matlab:\n",
    "```matlab\n",
    "disp('Hello, World!')\n",
    "```\n",
    "Python:\n",
    "```python\n",
    "print('Hello, World!')\n",
    "\n"
   ]
  },
  {
   "cell_type": "markdown",
   "metadata": {
    "hideCode": true,
    "hidePrompt": true,
    "slideshow": {
     "slide_type": "slide"
    }
   },
   "source": [
    "# Debugging\n",
    "\n",
    "## Formal Language\n",
    "\n",
    "A computer language is a formal language, i.e. designed by people for a specific application, in our case to express computations.\n",
    "\n",
    "Formal languages have strict rules about *syntax*, eg. $\\mathrm{H_2O}$ is a syntactically correct chemical name, but $\\mathrm{_2Zz}$ is not.\n",
    "\n",
    "Syntax rules come in two flavors, pertaining to *tokens* and *structure*. Tokens are the basic elements of the language, such as words, numbers, parentheses, commas, and so on. In Python, a statement like\n",
    "\n",
    "```python\n",
    "print(\"Happy New Year for \", 2018)\n",
    "```\n",
    "\n",
    "has 6 tokens: a function name, an open parenthesis, a string, a comma, a number, and a close parenthesis.\n",
    "\n",
    "It is possible to make errors in the way one constructs tokens, eg.\n",
    "\n",
    "```python\n",
    "\"Happy New Year for \n",
    "```\n",
    "\n",
    "is not a legal string token."
   ]
  },
  {
   "cell_type": "markdown",
   "metadata": {
    "slideshow": {
     "slide_type": "subslide"
    }
   },
   "source": [
    "It is also possible to make errors in the way the tokens are arranged, i.e. the structure of a statement; eg.\n",
    "\n",
    "```python\n",
    "print)\"Happy New Year for\", 2018(\n",
    "```\n",
    "\n",
    "has an illegal structure.\n",
    "\n",
    "When you read a sentence in a natural language or a statement in a formal language, you have to figure out what the structure of the sentence is. This process is called *parsing*.\n",
    "\n",
    "Once you have parsed a sentence, you can figure out what it means, or the *semantics* of the sentence."
   ]
  },
  {
   "cell_type": "code",
   "execution_count": null,
   "metadata": {},
   "outputs": [],
   "source": []
  }
 ],
 "metadata": {
  "hide_code_all_hidden": true,
  "kernelspec": {
   "display_name": "Julia 0.6",
   "language": "julia",
   "name": "julia-0.6"
  },
  "language_info": {
   "file_extension": ".jl",
   "mimetype": "application/julia",
   "name": "julia",
   "version": "0.6.2"
  },
  "livereveal": {
   "controls": "false",
   "scroll": "true",
   "start_slideshow_at": "selected"
  }
 },
 "nbformat": 4,
 "nbformat_minor": 2
}
