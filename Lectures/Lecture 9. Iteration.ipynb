{
 "cells": [
  {
   "cell_type": "markdown",
   "metadata": {
    "slideshow": {
     "slide_type": "slide"
    }
   },
   "source": [
    "# Reassignment\n",
    "\n",
    "As you may have discovered, it is legal to make more than one assignment to the same variable. A new assignment makes an existing variable refer to a new value (and stop referring to the old value)."
   ]
  },
  {
   "cell_type": "code",
   "execution_count": 1,
   "metadata": {},
   "outputs": [
    {
     "data": {
      "text/plain": [
       "5"
      ]
     },
     "execution_count": 1,
     "metadata": {},
     "output_type": "execute_result"
    }
   ],
   "source": [
    "x = 5"
   ]
  },
  {
   "cell_type": "code",
   "execution_count": 2,
   "metadata": {},
   "outputs": [
    {
     "data": {
      "text/plain": [
       "7"
      ]
     },
     "execution_count": 2,
     "metadata": {},
     "output_type": "execute_result"
    }
   ],
   "source": [
    "x = 7"
   ]
  },
  {
   "cell_type": "markdown",
   "metadata": {},
   "source": [
    "The first time we display x, its value is 5; the second time, its value is 7. *Reassignment* can be represented in a state diagram."
   ]
  },
  {
   "cell_type": "code",
   "execution_count": 1,
   "metadata": {
    "hideCode": true,
    "hidePrompt": true
   },
   "outputs": [
    {
     "data": {
      "image/svg+xml": [
       "<?xml version=\"1.0\" encoding=\"UTF-8\"?>\n",
       "<svg xmlns=\"http://www.w3.org/2000/svg\" xmlns:xlink=\"http://www.w3.org/1999/xlink\" width=\"171.274pt\" height=\"86.516pt\" viewBox=\"0 0 171.274 86.516\" version=\"1.1\">\n",
       "<defs>\n",
       "<g>\n",
       "<symbol overflow=\"visible\" id=\"glyph-1518428330974419-0-0\">\n",
       "<path style=\"stroke:none;\" d=\"\"/>\n",
       "</symbol>\n",
       "<symbol overflow=\"visible\" id=\"glyph-1518428330974419-0-1\">\n",
       "<path style=\"stroke:none;\" d=\"M 12.015625 -3.3125 C 11.78125 -3.046875 11.625 -2.875 11.359375 -2.515625 C 10.671875 -1.609375 10.3125 -1.3125 9.984375 -1.3125 C 9.53125 -1.3125 9.265625 -1.703125 9.0625 -2.546875 C 9 -2.78125 8.96875 -2.953125 8.9375 -3.046875 C 8.1875 -6.0625 7.859375 -7.4375 7.859375 -7.890625 C 9.171875 -10.1875 10.25 -11.515625 10.796875 -11.515625 C 10.96875 -11.515625 11.203125 -11.421875 11.515625 -11.265625 C 11.859375 -11.0625 12.078125 -11 12.3125 -11 C 12.9375 -11 13.359375 -11.453125 13.359375 -12.078125 C 13.359375 -12.703125 12.859375 -13.1875 12.140625 -13.1875 C 10.828125 -13.1875 9.6875 -12.109375 7.625 -8.90625 L 7.296875 -10.546875 C 6.875 -12.578125 6.546875 -13.1875 5.734375 -13.1875 C 5.078125 -13.1875 4.0625 -12.90625 2.234375 -12.3125 L 1.90625 -12.203125 L 2.03125 -11.75 C 3.171875 -12.015625 3.4375 -12.078125 3.703125 -12.078125 C 4.453125 -12.078125 4.640625 -11.8125 5.046875 -10.015625 L 5.921875 -6.34375 L 3.46875 -2.84375 C 2.875 -1.9375 2.265625 -1.40625 1.9375 -1.40625 C 1.765625 -1.40625 1.46875 -1.5 1.171875 -1.671875 C 0.78125 -1.890625 0.453125 -1.96875 0.203125 -1.96875 C -0.359375 -1.96875 -0.8125 -1.53125 -0.8125 -0.921875 C -0.8125 -0.15625 -0.203125 0.328125 0.6875 0.328125 C 1.609375 0.328125 1.96875 0.0625 3.46875 -1.765625 C 4.28125 -2.71875 4.90625 -3.53125 6.15625 -5.265625 L 7.046875 -1.671875 C 7.4375 -0.15625 7.828125 0.328125 8.78125 0.328125 C 9.921875 0.328125 10.703125 -0.390625 12.4375 -3.078125 Z M 12.015625 -3.3125 \"/>\n",
       "</symbol>\n",
       "<symbol overflow=\"visible\" id=\"glyph-1518428330974419-1-0\">\n",
       "<path style=\"stroke:none;\" d=\"\"/>\n",
       "</symbol>\n",
       "<symbol overflow=\"visible\" id=\"glyph-1518428330974419-1-1\">\n",
       "<path style=\"stroke:none;\" d=\"M 15.453125 -29.625 C 15.515625 -29.6875 15.546875 -29.765625 15.546875 -29.890625 C 15.546875 -30.21875 15.28125 -30.484375 14.9375 -30.484375 C 14.703125 -30.484375 14.5 -30.34375 14.40625 -30.125 L -0.515625 -0.234375 C -0.5625 -0.171875 -0.59375 -0.09375 -0.59375 0 C -0.59375 0.328125 -0.328125 0.59375 0 0.59375 C 0.203125 0.59375 0.421875 0.453125 0.515625 0.234375 Z M 15.453125 -29.625 \"/>\n",
       "</symbol>\n",
       "<symbol overflow=\"visible\" id=\"glyph-1518428330974419-1-2\">\n",
       "<path style=\"stroke:none;\" d=\"M 0.515625 -30.125 C 0.421875 -30.34375 0.203125 -30.484375 0 -30.484375 C -0.328125 -30.484375 -0.59375 -30.21875 -0.59375 -29.890625 C -0.59375 -29.765625 -0.5625 -29.6875 -0.515625 -29.625 L 14.40625 0.234375 C 14.5 0.453125 14.703125 0.59375 14.9375 0.59375 C 15.28125 0.59375 15.546875 0.328125 15.546875 0 C 15.546875 -0.09375 15.515625 -0.171875 15.453125 -0.234375 Z M 0.515625 -30.125 \"/>\n",
       "</symbol>\n",
       "<symbol overflow=\"visible\" id=\"glyph-1518428330974419-2-0\">\n",
       "<path style=\"stroke:none;\" d=\"\"/>\n",
       "</symbol>\n",
       "<symbol overflow=\"visible\" id=\"glyph-1518428330974419-2-1\">\n",
       "<path style=\"stroke:none;\" d=\"M 13.421875 -6.015625 C 13.421875 -9.5625 10.96875 -12.546875 7.734375 -12.546875 C 6.3125 -12.546875 5.015625 -12.078125 3.953125 -11.03125 L 3.953125 -16.859375 C 4.546875 -16.671875 5.53125 -16.46875 6.484375 -16.46875 C 10.15625 -16.46875 12.25 -19.1875 12.25 -19.578125 C 12.25 -19.75 12.171875 -19.90625 11.953125 -19.90625 C 11.953125 -19.90625 11.859375 -19.90625 11.71875 -19.8125 C 11.125 -19.546875 9.65625 -18.953125 7.65625 -18.953125 C 6.453125 -18.953125 5.078125 -19.15625 3.671875 -19.78125 C 3.4375 -19.875 3.3125 -19.875 3.3125 -19.875 C 3.015625 -19.875 3.015625 -19.640625 3.015625 -19.15625 L 3.015625 -10.3125 C 3.015625 -9.78125 3.015625 -9.53125 3.4375 -9.53125 C 3.640625 -9.53125 3.703125 -9.625 3.828125 -9.796875 C 4.15625 -10.28125 5.265625 -11.890625 7.6875 -11.890625 C 9.234375 -11.890625 9.984375 -10.515625 10.21875 -9.984375 C 10.703125 -8.875 10.765625 -7.71875 10.765625 -6.21875 C 10.765625 -5.171875 10.765625 -3.375 10.046875 -2.125 C 9.328125 -0.953125 8.21875 -0.171875 6.84375 -0.171875 C 4.65625 -0.171875 2.953125 -1.765625 2.453125 -3.53125 C 2.546875 -3.5 2.625 -3.46875 2.953125 -3.46875 C 3.953125 -3.46875 4.453125 -4.21875 4.453125 -4.9375 C 4.453125 -5.65625 3.953125 -6.390625 2.953125 -6.390625 C 2.546875 -6.390625 1.5 -6.1875 1.5 -4.8125 C 1.5 -2.234375 3.5625 0.65625 6.90625 0.65625 C 10.375 0.65625 13.421875 -2.21875 13.421875 -6.015625 Z M 13.421875 -6.015625 \"/>\n",
       "</symbol>\n",
       "<symbol overflow=\"visible\" id=\"glyph-1518428330974419-2-2\">\n",
       "<path style=\"stroke:none;\" d=\"M 14.5 -19.25 L 7.234375 -19.25 C 3.59375 -19.25 3.53125 -19.640625 3.40625 -20.203125 L 2.65625 -20.203125 L 1.671875 -14.046875 L 2.421875 -14.046875 C 2.515625 -14.53125 2.78125 -16.40625 3.171875 -16.765625 C 3.375 -16.953125 5.703125 -16.953125 6.09375 -16.953125 L 12.28125 -16.953125 L 8.9375 -12.21875 C 6.25 -8.1875 5.265625 -4.03125 5.265625 -0.984375 C 5.265625 -0.6875 5.265625 0.65625 6.640625 0.65625 C 8.015625 0.65625 8.015625 -0.6875 8.015625 -0.984375 L 8.015625 -2.515625 C 8.015625 -4.15625 8.09375 -5.796875 8.34375 -7.40625 C 8.453125 -8.09375 8.875 -10.671875 10.1875 -12.53125 L 14.234375 -18.203125 C 14.5 -18.5625 14.5 -18.625 14.5 -19.25 Z M 14.5 -19.25 \"/>\n",
       "</symbol>\n",
       "</g>\n",
       "<clipPath id=\"clip-1518428330974419-1\">\n",
       "  <path d=\"M 0 0 L 171.273438 0 L 171.273438 86.515625 L 0 86.515625 Z M 0 0 \"/>\n",
       "</clipPath>\n",
       "</defs>\n",
       "<g id=\"surface1\">\n",
       "<path style=\" stroke:none;fill-rule:nonzero;fill:rgb(75%,75%,75%);fill-opacity:1;\" d=\"M 170.675781 0.878906 L 0.597656 0.878906 L 0.597656 85.917969 L 170.675781 85.917969 Z M 170.675781 0.878906 \"/>\n",
       "<g clip-path=\"url(#clip-1518428330974419-1)\" clip-rule=\"nonzero\">\n",
       "<path style=\"fill:none;stroke-width:1.19553;stroke-linecap:butt;stroke-linejoin:miter;stroke:rgb(0%,0%,0%);stroke-opacity:1;stroke-miterlimit:10;\" d=\"M 85.038781 42.520094 L -85.039344 42.520094 L -85.039344 -42.518969 L 85.038781 -42.518969 Z M 85.038781 42.520094 \" transform=\"matrix(1,0,0,-1,85.637,43.399)\"/>\n",
       "</g>\n",
       "<g style=\"fill:rgb(0%,0%,0%);fill-opacity:1;\">\n",
       "  <use xlink:href=\"#glyph-1518428330974419-0-1\" x=\"36.587\" y=\"49.877\"/>\n",
       "</g>\n",
       "<g style=\"fill:rgb(0%,0%,0%);fill-opacity:1;\">\n",
       "  <use xlink:href=\"#glyph-1518428330974419-1-1\" x=\"120.685\" y=\"39.851\"/>\n",
       "</g>\n",
       "<g style=\"fill:rgb(0%,0%,0%);fill-opacity:1;\">\n",
       "  <use xlink:href=\"#glyph-1518428330974419-1-2\" x=\"120.685\" y=\"39.851\"/>\n",
       "</g>\n",
       "<g style=\"fill:rgb(0%,0%,0%);fill-opacity:1;\">\n",
       "  <use xlink:href=\"#glyph-1518428330974419-2-1\" x=\"120.685\" y=\"34.316\"/>\n",
       "</g>\n",
       "<g style=\"fill:rgb(0%,0%,0%);fill-opacity:1;\">\n",
       "  <use xlink:href=\"#glyph-1518428330974419-2-2\" x=\"120.685\" y=\"74.069\"/>\n",
       "</g>\n",
       "<path style=\"fill:none;stroke-width:1.19553;stroke-linecap:butt;stroke-linejoin:miter;stroke:rgb(0%,0%,0%);stroke-opacity:1;stroke-dasharray:2.98883,2.98883;stroke-miterlimit:10;\" d=\"M -22.590125 4.981031 L 17.714562 15.059156 \" transform=\"matrix(1,0,0,-1,85.637,43.399)\"/>\n",
       "<path style=\" stroke:none;fill-rule:nonzero;fill:rgb(0%,0%,0%);fill-opacity:1;\" d=\"M 108.929688 26.945312 C 107.199219 27.046875 104.28125 26.789062 102.148438 26.171875 L 103.3125 30.820312 C 104.898438 29.269531 107.355469 27.667969 108.929688 26.945312 \"/>\n",
       "<path style=\"fill:none;stroke-width:1.19553;stroke-linecap:butt;stroke-linejoin:miter;stroke:rgb(0%,0%,0%);stroke-opacity:1;stroke-miterlimit:10;\" d=\"M -22.590125 -4.983812 L 17.714562 -15.058031 \" transform=\"matrix(1,0,0,-1,85.637,43.399)\"/>\n",
       "<path style=\" stroke:none;fill-rule:nonzero;fill:rgb(0%,0%,0%);fill-opacity:1;\" d=\"M 108.929688 59.851562 C 107.355469 59.128906 104.898438 57.527344 103.3125 55.976562 L 102.148438 60.628906 C 104.28125 60.007812 107.199219 59.75 108.929688 59.851562 \"/>\n",
       "</g>\n",
       "</svg>\n",
       "\n"
      ],
      "text/plain": [
       "TikzPictures.TikzPicture(L\"    \\node [draw, fill=lightgray, minimum width=2cm, minimum height=1cm]{}; \n",
       "    \\node(var) at(-0.5,0) {$x$};\n",
       "    \\node(old) at(0.5,0.25) {$\\xcancel{5}$};\n",
       "    \\node(new) at(0.5,-0.25) {$7$};\n",
       "    \\draw[-latex, dashed] (var) -- (old);\n",
       "    \\draw[-latex] (var) -- (new);\n",
       "\", \"very thick, scale=3, transform shape\", \"    \\\\usepackage{newtxmath}\\n    \\\\renewcommand{\\\\familydefault}{\\\\sfdefault}\\n    \\\\usepackage{cancel}\\n\", true, true)"
      ]
     },
     "execution_count": 1,
     "metadata": {},
     "output_type": "execute_result"
    }
   ],
   "source": [
    "using TikzPictures\n",
    "TikzPicture(L\"\"\"\n",
    "    \\node [draw, fill=lightgray, minimum width=2cm, minimum height=1cm]{}; \n",
    "    \\node(var) at(-0.5,0) {$x$};\n",
    "    \\node(old) at(0.5,0.25) {$\\xcancel{5}$};\n",
    "    \\node(new) at(0.5,-0.25) {$7$};\n",
    "    \\draw[-latex, dashed] (var) -- (old);\n",
    "    \\draw[-latex] (var) -- (new);\n",
    "\"\"\"; options=\"very thick, scale=3, transform shape\", preamble=\"\"\"\n",
    "    \\\\usepackage{newtxmath}\n",
    "    \\\\renewcommand{\\\\familydefault}{\\\\sfdefault}\n",
    "    \\\\usepackage{cancel}\n",
    "\"\"\")"
   ]
  },
  {
   "cell_type": "markdown",
   "metadata": {
    "slideshow": {
     "slide_type": "subslide"
    }
   },
   "source": [
    "At this point I want to address a common source of confusion. Because Julia uses the equal sign (`=`) for assignment, it is tempting to interpret a statement like `a = b` as a mathematical proposition of equality; that is, the claim that `a` and `b` are equal. But this interpretation is wrong.\n",
    "\n",
    "First, equality is a symmetric relationship and assignment is not. For example, in mathematics, if $a=7$ then $7=a$. But in julia, the statement `a = 7` is legal and `7 = a` is not."
   ]
  },
  {
   "cell_type": "markdown",
   "metadata": {
    "slideshow": {
     "slide_type": "subslide"
    }
   },
   "source": [
    "Also, in mathematics, a proposition of equality is either true or false for all time. If $a=b$ now, then $a$ will always equal $b$. In Julia, an assignment statement can make two variables equal, but they don’t have to stay that way:"
   ]
  },
  {
   "cell_type": "code",
   "execution_count": 4,
   "metadata": {
    "slideshow": {
     "slide_type": "-"
    }
   },
   "outputs": [
    {
     "data": {
      "text/plain": [
       "5"
      ]
     },
     "execution_count": 4,
     "metadata": {},
     "output_type": "execute_result"
    }
   ],
   "source": [
    "a = 5\n",
    "b = a\n",
    "a = 3\n",
    "b"
   ]
  },
  {
   "cell_type": "markdown",
   "metadata": {},
   "source": [
    "The third line changes the value of `a` but does not change the value of `b`, so they are no longer equal.\n",
    "\n",
    "Reassigning variables is often useful, but you should use it with caution. If the values of variables change frequently, it can make the code difficult to read and debug."
   ]
  },
  {
   "cell_type": "markdown",
   "metadata": {
    "slideshow": {
     "slide_type": "slide"
    }
   },
   "source": [
    "# Updating variables\n",
    "\n",
    "A common kind of reassignment is an *update*, where the new value of the variable depends on the old."
   ]
  },
  {
   "cell_type": "code",
   "execution_count": 5,
   "metadata": {},
   "outputs": [
    {
     "data": {
      "text/plain": [
       "8"
      ]
     },
     "execution_count": 5,
     "metadata": {},
     "output_type": "execute_result"
    }
   ],
   "source": [
    "x = x + 1"
   ]
  },
  {
   "cell_type": "markdown",
   "metadata": {},
   "source": [
    "This means “get the current value of `x`, add one, and then update `x` with the new value.”\n",
    "If you try to update a variable that doesn’t exist, you get an error, because Julia evaluates the right side before it assigns a value to `y`:"
   ]
  },
  {
   "cell_type": "code",
   "execution_count": 6,
   "metadata": {},
   "outputs": [
    {
     "ename": "LoadError",
     "evalue": "\u001b[91mUndefVarError: y not defined\u001b[39m",
     "output_type": "error",
     "traceback": [
      "\u001b[91mUndefVarError: y not defined\u001b[39m",
      "",
      "Stacktrace:",
      " [1] \u001b[1minclude_string\u001b[22m\u001b[22m\u001b[1m(\u001b[22m\u001b[22m::String, ::String\u001b[1m)\u001b[22m\u001b[22m at \u001b[1m./loading.jl:522\u001b[22m\u001b[22m"
     ]
    }
   ],
   "source": [
    "y = y + 1"
   ]
  },
  {
   "cell_type": "markdown",
   "metadata": {
    "slideshow": {
     "slide_type": "subslide"
    }
   },
   "source": [
    "Before you can update a variable, you have to initialize it, usually with a simple assignment:"
   ]
  },
  {
   "cell_type": "code",
   "execution_count": 7,
   "metadata": {},
   "outputs": [
    {
     "data": {
      "text/plain": [
       "1"
      ]
     },
     "execution_count": 7,
     "metadata": {},
     "output_type": "execute_result"
    }
   ],
   "source": [
    "y = 0\n",
    "y = y + 1"
   ]
  },
  {
   "cell_type": "markdown",
   "metadata": {},
   "source": [
    "Updating a variable by adding 1 is called an *increment*; subtracting 1 is called a *decrement*."
   ]
  },
  {
   "cell_type": "markdown",
   "metadata": {
    "slideshow": {
     "slide_type": "slide"
    }
   },
   "source": [
    "# The `while` Statement\n",
    "\n",
    "Computers are often used to automate repetitive tasks. Repeating identical or similar tasks without making errors is something that computers do well and people do poorly. In a computer program, repetition is also called iteration.\n",
    "\n",
    "We have already seen two functions, `countdown` and `print_n`, that iterate using recursion. Because iteration is so common, Julia provides language features to make it easier. One is the `for` statement we saw before. We’ll get back to that later."
   ]
  },
  {
   "cell_type": "markdown",
   "metadata": {
    "slideshow": {
     "slide_type": "subslide"
    }
   },
   "source": [
    "Another is the while statement. Here is a version of countdown that uses a while statement:"
   ]
  },
  {
   "cell_type": "code",
   "execution_count": 8,
   "metadata": {},
   "outputs": [
    {
     "name": "stdout",
     "output_type": "stream",
     "text": [
      "3 2 1 Blastoff!\n"
     ]
    }
   ],
   "source": [
    "function countdown(n)\n",
    "    while n > 0\n",
    "        print(n, \" \")\n",
    "        n = n - 1\n",
    "    end\n",
    "    println(\"Blastoff!\")\n",
    "end\n",
    "countdown(3)"
   ]
  },
  {
   "cell_type": "markdown",
   "metadata": {},
   "source": [
    "You can almost read the while statement as if it were English. It means, “While `n` is greater than 0, display the value of `n` and then decrement `n`. When you get to 0, display the word `\"Blastoff!”`"
   ]
  },
  {
   "cell_type": "markdown",
   "metadata": {
    "slideshow": {
     "slide_type": "subslide"
    }
   },
   "source": [
    "More formally, here is the flow of execution for a `while` statement:\n",
    "\n",
    "1. Determine whether the condition is true or false.\n",
    "2. If false, exit the while statement and continue execution at the next statement.\n",
    "3. If the condition is true, run the body and then go back to step 1.\n",
    "\n",
    "This type of flow is called a *loop* because the third step loops back around to the top.\n",
    "\n",
    "The body of the loop should change the value of one or more variables so that the condition becomes false eventually and the loop terminates. Otherwise the loop will repeat forever, which is called an *infinite loop*. An endless source of amusement for computer scientists is the observation that the directions on shampoo, “Lather, rinse, repeat”, are an infinite loop."
   ]
  },
  {
   "cell_type": "markdown",
   "metadata": {
    "slideshow": {
     "slide_type": "subslide"
    }
   },
   "source": [
    "In the case of `countdown`, we can prove that the loop terminates: if `n` is zero or negative, the loop never runs. Otherwise, `n` gets smaller each time through the loop, so eventually we have to get to 0.\n",
    "\n",
    "For some other loops, it is not so easy to tell. For example:"
   ]
  },
  {
   "cell_type": "code",
   "execution_count": 9,
   "metadata": {},
   "outputs": [
    {
     "name": "stdout",
     "output_type": "stream",
     "text": [
      "5\n",
      "16\n",
      "8\n",
      "4\n",
      "2\n"
     ]
    }
   ],
   "source": [
    "function sequence(n)\n",
    "    while n != 1\n",
    "        println(n)\n",
    "        if mod(n, 2) == 0  # n is even\n",
    "            n = n ÷ 2\n",
    "        else               # n is odd\n",
    "            n = n*3 + 1\n",
    "        end\n",
    "    end\n",
    "end\n",
    "sequence(5)"
   ]
  },
  {
   "cell_type": "markdown",
   "metadata": {},
   "source": [
    "The condition for this loop is `n != 1`, so the loop will continue until `n` is 1, which makes the condition false."
   ]
  },
  {
   "cell_type": "markdown",
   "metadata": {
    "slideshow": {
     "slide_type": "subslide"
    }
   },
   "source": [
    "Each time through the loop, the program outputs the value of n and then checks whether it is even or odd. If it is even, n is divided by 2. If it is odd, the value of n is replaced with `n*3 + 1`.\n",
    "\n",
    "Since `n` sometimes increases and sometimes decreases, there is no obvious proof that `n` will ever reach 1, or that the program terminates. For some particular values of `n`, we can prove termination. For example, if the starting value is a power of two, `n` will be even every time through the loop until it reaches 1. The previous example ends with such a sequence, starting with 16.\n",
    "\n",
    "The hard question is whether we can prove that this program terminates for all positive values of `n`. So far, no one has been able to prove it or disprove it! (See http://en.wikipedia.org/wiki/Collatz_conjecture.)"
   ]
  },
  {
   "cell_type": "markdown",
   "metadata": {
    "slideshow": {
     "slide_type": "slide"
    }
   },
   "source": [
    "# `break`\n",
    "\n",
    "Sometimes you don’t know it’s time to end a loop until you get half way through the body. In that case you can use the break statement to jump out of the loop.\n",
    "\n",
    "For example, suppose you want to take input from the user until they type done. You could write:"
   ]
  },
  {
   "cell_type": "code",
   "execution_count": 10,
   "metadata": {},
   "outputs": [
    {
     "name": "stdout",
     "output_type": "stream",
     "text": [
      "STDIN> hi\n",
      "hi\n",
      "STDIN> I\n",
      "I\n",
      "STDIN> am\n",
      "am\n",
      "STDIN> done\n",
      "Done!\n"
     ]
    }
   ],
   "source": [
    "while true\n",
    "    line = readline()\n",
    "    if line == \"done\"\n",
    "        break\n",
    "    end\n",
    "    println(line)\n",
    "end\n",
    "println(\"Done!\")"
   ]
  },
  {
   "cell_type": "markdown",
   "metadata": {
    "slideshow": {
     "slide_type": "subslide"
    }
   },
   "source": [
    "The loop condition is `true`, which is always true, so the loop runs until it hits the `break` statement.\n",
    "\n",
    "Each time through, it prompts the user. If the user types `\"done\"`, the `break` statement exits the loop. Otherwise the program echoes whatever the user types and goes back to the top of the loop. \n",
    "\n",
    "This way of writing while loops is common because you can check the condition anywhere in the loop (not just at the top) and you can express the stop condition affirmatively (“stop when this happens”) rather than negatively (“keep going until that happens”)."
   ]
  },
  {
   "cell_type": "markdown",
   "metadata": {
    "slideshow": {
     "slide_type": "slide"
    }
   },
   "source": [
    "# `continue`\n",
    "\n",
    "The `break` statement exits the loop. When a `continue` statement is encountered inside a loop, control jumps to the beginning of the loop for next iteration, skipping the execution of statements inside the body of the loop for the current iteration. For example:"
   ]
  },
  {
   "cell_type": "code",
   "execution_count": 11,
   "metadata": {},
   "outputs": [
    {
     "name": "stdout",
     "output_type": "stream",
     "text": [
      "10 9 8 6 5 4 3 2 1 \n"
     ]
    }
   ],
   "source": [
    "i = 10\n",
    "while true\n",
    "    if i == 0\n",
    "        break\n",
    "    elseif i == 7\n",
    "        i = i - 1\n",
    "        continue\n",
    "    end\n",
    "    print(i, \" \")\n",
    "    i = i - 1\n",
    "end\n",
    "println()"
   ]
  },
  {
   "cell_type": "markdown",
   "metadata": {
    "slideshow": {
     "slide_type": "subslide"
    }
   },
   "source": [
    "Python:\n",
    "\n",
    "```python\n",
    "i = 10\n",
    "while True:\n",
    "    if i == 0:\n",
    "        break\n",
    "    elif i == 7:\n",
    "        i = i - 1\n",
    "        continue\n",
    "    print(i)\n",
    "    i = i - 1\n",
    "```"
   ]
  },
  {
   "cell_type": "markdown",
   "metadata": {
    "slideshow": {
     "slide_type": "subslide"
    }
   },
   "source": [
    "C++\n",
    "\n",
    "```C++\n",
    "int i = 10;\n",
    "while (true) {\n",
    "    if (i == 0) {\n",
    "        break;\n",
    "    } else if (i == 7) {\n",
    "        i = i - 1;\n",
    "        continue;\n",
    "    }\n",
    "    std::cout << i << \" \";\n",
    "    i = i - 1;\n",
    "}\n",
    "std::cout << std::endl;\n",
    "```"
   ]
  },
  {
   "cell_type": "markdown",
   "metadata": {
    "slideshow": {
     "slide_type": "subslide"
    }
   },
   "source": [
    "This will be the last time that I included code snippets in Python or C++. In the remainder of the lectures we will solely use Julia to illustrate the major programming techniques."
   ]
  },
  {
   "cell_type": "markdown",
   "metadata": {
    "slideshow": {
     "slide_type": "slide"
    }
   },
   "source": [
    "# Square roots\n",
    "\n",
    "Loops are often used in programs that compute numerical results by starting with an approximate answer and iteratively improving it.\n",
    "\n",
    "For example, one way of computing square roots is Newton’s method. Suppose that you want to know the square root of $a$. If you start with almost any estimate, $x$, you can compute a better estimate with the following formula:\n",
    "$$\n",
    "y = \\frac{x + \\frac{a}{x}}{2}\n",
    "$$\n",
    "For example,"
   ]
  },
  {
   "cell_type": "code",
   "execution_count": 12,
   "metadata": {},
   "outputs": [
    {
     "data": {
      "text/plain": [
       "2.1666666666666665"
      ]
     },
     "execution_count": 12,
     "metadata": {},
     "output_type": "execute_result"
    }
   ],
   "source": [
    "a = 4\n",
    "x = 3\n",
    "y = (x + a/x) / 2"
   ]
  },
  {
   "cell_type": "markdown",
   "metadata": {},
   "source": [
    "The result is closer to the correct answer ($\\sqrt 4 = 2$)."
   ]
  },
  {
   "cell_type": "markdown",
   "metadata": {
    "slideshow": {
     "slide_type": "subslide"
    }
   },
   "source": [
    "If we repeat the process with the new estimate, it gets even closer:"
   ]
  },
  {
   "cell_type": "code",
   "execution_count": 13,
   "metadata": {},
   "outputs": [
    {
     "data": {
      "text/plain": [
       "2.0064102564102564"
      ]
     },
     "execution_count": 13,
     "metadata": {},
     "output_type": "execute_result"
    }
   ],
   "source": [
    "x = y\n",
    "y = (x + a/x) / 2"
   ]
  },
  {
   "cell_type": "markdown",
   "metadata": {},
   "source": [
    "After a few more updates, the estimate is almost exact:"
   ]
  },
  {
   "cell_type": "code",
   "execution_count": 14,
   "metadata": {},
   "outputs": [
    {
     "data": {
      "text/plain": [
       "2.0000102400262145"
      ]
     },
     "execution_count": 14,
     "metadata": {},
     "output_type": "execute_result"
    }
   ],
   "source": [
    "x = y\n",
    "y = (x + a/x) / 2"
   ]
  },
  {
   "cell_type": "code",
   "execution_count": 15,
   "metadata": {},
   "outputs": [
    {
     "data": {
      "text/plain": [
       "2.0000000000262146"
      ]
     },
     "execution_count": 15,
     "metadata": {},
     "output_type": "execute_result"
    }
   ],
   "source": [
    "x = y\n",
    "y = (x + a/x) / 2"
   ]
  },
  {
   "cell_type": "code",
   "execution_count": 16,
   "metadata": {},
   "outputs": [
    {
     "data": {
      "text/plain": [
       "2.0"
      ]
     },
     "execution_count": 16,
     "metadata": {},
     "output_type": "execute_result"
    }
   ],
   "source": [
    "x = y\n",
    "y = (x + a/x) / 2"
   ]
  },
  {
   "cell_type": "markdown",
   "metadata": {
    "slideshow": {
     "slide_type": "subslide"
    }
   },
   "source": [
    "In general we don’t know ahead of time how many steps it takes to get to the right answer, but we know when we get there because the estimate stops changing:"
   ]
  },
  {
   "cell_type": "code",
   "execution_count": 17,
   "metadata": {},
   "outputs": [
    {
     "data": {
      "text/plain": [
       "2.0"
      ]
     },
     "execution_count": 17,
     "metadata": {},
     "output_type": "execute_result"
    }
   ],
   "source": [
    "x = y\n",
    "y = (x + a/x) / 2"
   ]
  },
  {
   "cell_type": "markdown",
   "metadata": {},
   "source": [
    "When `y == x`, we can stop. Here is a loop that starts with an initial estimate, `x`, and improves it until it stops changing:"
   ]
  },
  {
   "cell_type": "code",
   "execution_count": 18,
   "metadata": {},
   "outputs": [
    {
     "name": "stdout",
     "output_type": "stream",
     "text": [
      "3\n",
      "2.1666666666666665\n",
      "2.0064102564102564\n",
      "2.0000102400262145\n",
      "2.0000000000262146\n",
      "2.0\n"
     ]
    }
   ],
   "source": [
    "x = 3\n",
    "while true\n",
    "    println(x)\n",
    "    y = (x + a/x) / 2\n",
    "    if y == x\n",
    "        break\n",
    "    end\n",
    "    x = y\n",
    "end"
   ]
  },
  {
   "cell_type": "markdown",
   "metadata": {
    "slideshow": {
     "slide_type": "subslide"
    }
   },
   "source": [
    "For most values of a this works fine, but in general it is dangerous to test float equality. Floating-point values are only approximately right: most rational numbers, like 1/3, and irrational numbers, like √2, can’t be represented exactly with a float.\n",
    "Rather than checking whether x and y are exactly equal, it is safer to use the built-in function abs to compute the absolute value, or magnitude, of the difference between them:"
   ]
  },
  {
   "cell_type": "code",
   "execution_count": 20,
   "metadata": {},
   "outputs": [
    {
     "name": "stdout",
     "output_type": "stream",
     "text": [
      "3\n",
      "2.1666666666666665\n",
      "2.0064102564102564\n",
      "2.0000102400262145\n",
      "2.0000000000262146\n",
      "2.0\n"
     ]
    }
   ],
   "source": [
    "x = 3\n",
    "ϵ = 1e-12\n",
    "while true\n",
    "    println(x)\n",
    "    y = (x + a/x) / 2\n",
    "    if abs(y - x) < ϵ\n",
    "        break\n",
    "    end\n",
    "    x = y\n",
    "end"
   ]
  },
  {
   "cell_type": "markdown",
   "metadata": {},
   "source": [
    "Where epsilon has a value like `1e-12` that determines how close is close enough."
   ]
  },
  {
   "cell_type": "markdown",
   "metadata": {
    "slideshow": {
     "slide_type": "slide"
    }
   },
   "source": [
    "# Algorithms\n",
    "\n",
    "Newton’s method is an example of an *algorithm*: it is a mechanical process for solving a category of problems (in this case, computing square roots).\n",
    "\n",
    "To understand what an algorithm is, it might help to start with something that is not an algorithm. When you learned to multiply single-digit numbers, you probably memorized the multiplication table. In effect, you memorized 100 specific solutions. That kind of knowledge is not algorithmic.\n",
    "\n",
    "But if you were “lazy”, you might have learned a few tricks. For example, to find the product of $n$ and 9, you can write $n−1$ as the first digit and $10−n$ as the second digit. This trick is a general solution for multiplying any single-digit number by 9. That’s an algorithm!"
   ]
  },
  {
   "cell_type": "markdown",
   "metadata": {
    "slideshow": {
     "slide_type": "subslide"
    }
   },
   "source": [
    "Similarly, the techniques you learned for addition with carrying, subtraction with borrowing, and long division are all algorithms. One of the characteristics of algorithms is that they do not require any intelligence to carry out. They are mechanical processes where each step follows from the last according to a simple set of rules.\n",
    "\n",
    "Executing algorithms is boring, but designing them is interesting, intellectually challenging, and a central part of computer science.\n",
    "\n",
    "Some of the things that people do naturally, without difficulty or conscious thought, are the hardest to express algorithmically. Understanding natural language is a good example. We all do it, but so far no one has been able to explain how we do it, at least not in the form of an algorithm."
   ]
  },
  {
   "cell_type": "markdown",
   "metadata": {
    "slideshow": {
     "slide_type": "slide"
    }
   },
   "source": [
    "# Debugging\n",
    "\n",
    "As you start writing bigger programs, you might find yourself spending more time debugging. More code means more chances to make an error and more places for bugs to hide.\n",
    "\n",
    "One way to cut your debugging time is “debugging by bisection”. For example, if there are 100 lines in your program and you check them one at a time, it would take 100 steps.\n",
    "\n",
    "Instead, try to break the problem in half. Look at the middle of the program, or near it, for an intermediate value you can check. Add a `print` statement (or something else that has a verifiable effect) and run the program."
   ]
  },
  {
   "cell_type": "markdown",
   "metadata": {
    "slideshow": {
     "slide_type": "subslide"
    }
   },
   "source": [
    "If the mid-point check is incorrect, there must be a problem in the first half of the program. If it is correct, the problem is in the second half.\n",
    "\n",
    "Every time you perform a check like this, you halve the number of lines you have to search. After six steps (which is fewer than 100), you would be down to one or two lines of code, at least in theory.\n",
    "\n",
    "In practice it is not always clear what the “middle of the program” is and not always possible to check it. It doesn’t make sense to count lines and find the exact midpoint. Instead, think about places in the program where there might be errors and places where it is easy to put a check. Then choose a spot where you think the chances are about the same that the bug is before or after the check."
   ]
  }
 ],
 "metadata": {
  "celltoolbar": "Slideshow",
  "kernelspec": {
   "display_name": "Julia 0.6.2",
   "language": "julia",
   "name": "julia-0.6"
  },
  "language_info": {
   "file_extension": ".jl",
   "mimetype": "application/julia",
   "name": "julia",
   "version": "0.6.2"
  },
  "livereveal": {
   "controls": "false",
   "scroll": "true",
   "start_slideshow_at": "selected"
  }
 },
 "nbformat": 4,
 "nbformat_minor": 2
}
