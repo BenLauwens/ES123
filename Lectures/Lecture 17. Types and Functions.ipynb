{
 "cells": [
  {
   "cell_type": "markdown",
   "metadata": {
    "slideshow": {
     "slide_type": "slide"
    }
   },
   "source": [
    "# Time\n",
    "\n",
    "As another example of a composite type, we’ll define a `mutable struct` called `MyTime` that records the time of day. The struct definition looks like this:"
   ]
  },
  {
   "cell_type": "code",
   "execution_count": 2,
   "metadata": {},
   "outputs": [],
   "source": [
    "mutable struct MyTime\n",
    "    hour :: Int\n",
    "    minute :: Int\n",
    "    second :: Int\n",
    "end"
   ]
  },
  {
   "cell_type": "markdown",
   "metadata": {},
   "source": [
    "We can create a new `MyTime` object:"
   ]
  },
  {
   "cell_type": "code",
   "execution_count": 3,
   "metadata": {},
   "outputs": [
    {
     "data": {
      "text/plain": [
       "MyTime(10, 58, 50)"
      ]
     },
     "execution_count": 3,
     "metadata": {},
     "output_type": "execute_result"
    }
   ],
   "source": [
    "time = MyTime(10, 58, 50)"
   ]
  },
  {
   "cell_type": "markdown",
   "metadata": {
    "slideshow": {
     "slide_type": "-"
    }
   },
   "source": [
    "Write a function called `print_time` that takes a `Time` object and prints it in the form `\"hour:minute:second\"`."
   ]
  },
  {
   "cell_type": "code",
   "execution_count": 5,
   "metadata": {
    "slideshow": {
     "slide_type": "subslide"
    }
   },
   "outputs": [
    {
     "name": "stdout",
     "output_type": "stream",
     "text": [
      "01:07:02"
     ]
    }
   ],
   "source": [
    "function print_time(time)\n",
    "    @printf(\"%02d:%02d:%02d\", time.hour, time.minute, time.second)\n",
    "end\n",
    "print_time(MyTime(1, 7, 2))"
   ]
  },
  {
   "cell_type": "markdown",
   "metadata": {
    "slideshow": {
     "slide_type": "subslide"
    }
   },
   "source": [
    "Write a boolean function called `is_after` that takes two `Time` objects, `t1` and `t2`, and returns `true` if `t1` follows `t2` chronologically and `false` otherwise. Challenge: don’t use an `if` statement."
   ]
  },
  {
   "cell_type": "code",
   "execution_count": 7,
   "metadata": {
    "slideshow": {
     "slide_type": "subslide"
    }
   },
   "outputs": [
    {
     "data": {
      "text/plain": [
       "true"
      ]
     },
     "execution_count": 7,
     "metadata": {},
     "output_type": "execute_result"
    }
   ],
   "source": [
    "function is_after(t1, t2)\n",
    "    (t1.hour, t1.minute, t1.second) > (t2.hour, t2.minute, t2.second)\n",
    "end\n",
    "is_after(MyTime(1, 7, 2+1), MyTime(1, 7, 2))"
   ]
  },
  {
   "cell_type": "markdown",
   "metadata": {
    "slideshow": {
     "slide_type": "slide"
    }
   },
   "source": [
    "# Pure functions\n",
    "\n",
    "In the next few sections, we’ll write two functions that add time values. They demonstrate two kinds of functions: *pure functions* and *modifiers*. They also demonstrate a development plan I’ll call *prototype and patch*, which is a way of tackling a complex problem by starting with a simple prototype and incrementally dealing with the complications.\n",
    "\n",
    "Here is a simple prototype of `add_time`:"
   ]
  },
  {
   "cell_type": "code",
   "execution_count": 8,
   "metadata": {},
   "outputs": [
    {
     "data": {
      "text/plain": [
       "add_time (generic function with 1 method)"
      ]
     },
     "execution_count": 8,
     "metadata": {},
     "output_type": "execute_result"
    }
   ],
   "source": [
    "function add_time(t1, t2)\n",
    "    MyTime(t1.hour+t2.hour, t1.minute+t2.minute, t1.second+t2.second)\n",
    "end"
   ]
  },
  {
   "cell_type": "markdown",
   "metadata": {},
   "source": [
    "The function creates a new `Time` object, initializes its attributes, and returns a reference to the new object. This is called a *pure function* because it does not modify any of the objects passed to it as arguments and it has no effect, like displaying a value or getting user input, other than returning a value."
   ]
  },
  {
   "cell_type": "markdown",
   "metadata": {
    "slideshow": {
     "slide_type": "subslide"
    }
   },
   "source": [
    "To test this function, I’ll create two `Time` objects: `start` contains the start time of a movie, like Monty Python and the Holy Grail, and `duration` contains the run time of the movie, which is one hour 35 minutes.\n",
    "\n",
    "`add_time` figures out when the movie will be done."
   ]
  },
  {
   "cell_type": "code",
   "execution_count": 10,
   "metadata": {},
   "outputs": [
    {
     "name": "stdout",
     "output_type": "stream",
     "text": [
      "12:80:00"
     ]
    }
   ],
   "source": [
    "start_time = MyTime(11, 45, 0)\n",
    "duration = MyTime(1, 35, 0)\n",
    "print_time(add_time(start_time, duration))"
   ]
  },
  {
   "cell_type": "markdown",
   "metadata": {},
   "source": [
    "The result, 10:80:00 might not be what you were hoping for. The problem is that this function does not deal with cases where the number of seconds or minutes adds up to more than sixty. When that happens, we have to “carry” the extra seconds into the minute column or the extra minutes into the hour column."
   ]
  },
  {
   "cell_type": "markdown",
   "metadata": {
    "slideshow": {
     "slide_type": "subslide"
    }
   },
   "source": [
    "Here’s an improved version:"
   ]
  },
  {
   "cell_type": "code",
   "execution_count": 11,
   "metadata": {},
   "outputs": [
    {
     "name": "stdout",
     "output_type": "stream",
     "text": [
      "13:20:00"
     ]
    }
   ],
   "source": [
    "function add_time(t1, t2)\n",
    "    tsum = MyTime(t1.hour+t2.hour, t1.minute+t2.minute, t1.second+t2.second)\n",
    "    if tsum.second >= 60\n",
    "        tsum.second -= 60\n",
    "        tsum.minute += 1\n",
    "    end\n",
    "    if tsum.minute >= 60\n",
    "        tsum.minute -= 60\n",
    "        tsum.hour += 1\n",
    "    end\n",
    "    tsum\n",
    "end\n",
    "print_time(add_time(start_time, duration))"
   ]
  },
  {
   "cell_type": "markdown",
   "metadata": {},
   "source": [
    "Although this function is correct, it is starting to get big. We will see a shorter alternative later."
   ]
  },
  {
   "cell_type": "markdown",
   "metadata": {
    "slideshow": {
     "slide_type": "slide"
    }
   },
   "source": [
    "# Modifiers\n",
    "\n",
    "Sometimes it is useful for a function to modify the objects it gets as parameters. In that case, the changes are visible to the caller. Functions that work this way are called *modifiers*.\n",
    "\n",
    "`increment!`, which adds a given number of seconds to a `Time` object, can be written naturally as a modifier. Here is a rough draft:"
   ]
  },
  {
   "cell_type": "code",
   "execution_count": 8,
   "metadata": {},
   "outputs": [
    {
     "data": {
      "text/plain": [
       "increment! (generic function with 1 method)"
      ]
     },
     "execution_count": 8,
     "metadata": {},
     "output_type": "execute_result"
    }
   ],
   "source": [
    "function increment!(time, seconds)\n",
    "    time.second += seconds\n",
    "    if time.second >= 60\n",
    "        time.second -= 60\n",
    "        time.minute += 1\n",
    "    end\n",
    "    if time.minute >= 60\n",
    "        time.minute -= 60\n",
    "        time.hour += 1\n",
    "    end\n",
    "end"
   ]
  },
  {
   "cell_type": "markdown",
   "metadata": {},
   "source": [
    "The first line performs the basic operation; the remainder deals with the special cases we saw before."
   ]
  },
  {
   "cell_type": "markdown",
   "metadata": {
    "slideshow": {
     "slide_type": "subslide"
    }
   },
   "source": [
    "Is this function correct? What happens if seconds is much greater than sixty?\n",
    "\n",
    "In that case, it is not enough to carry once; we have to keep doing it until `time.second` is less than sixty. One solution is to replace the `if` statements with `while` statements. That would make the function correct, but not very efficient.\n",
    "\n",
    "Anything that can be done with modifiers can also be done with pure functions. In fact, some programming languages only allow pure functions. There is some evidence that programs that use pure functions are faster to develop and less error-prone than programs that use modifiers. But modifiers are convenient at times, and functional programs tend to be less efficient.\n",
    "\n",
    "In general, I recommend that you write pure functions whenever it is reasonable and resort to modifiers only if there is a compelling advantage. This approach might be called a *functional programming style*."
   ]
  },
  {
   "cell_type": "markdown",
   "metadata": {
    "slideshow": {
     "slide_type": "slide"
    }
   },
   "source": [
    "# Prototyping versus planning\n",
    "\n",
    "The development plan I am demonstrating is called “prototype and patch”. For each function, I wrote a prototype that performed the basic calculation and then tested it, patching errors along the way.\n",
    "\n",
    "This approach can be effective, especially if you don’t yet have a deep understanding of the problem. But incremental corrections can generate code that is unnecessarily complicated—since it deals with many special cases—and unreliable—since it is hard to know if you have found all the errors.\n",
    "\n",
    "An alternative is designed development, in which high-level insight into the problem can make the programming much easier. In this case, the insight is that a `Time` object is really a three-digit number in base 60 (see http://en.wikipedia.org/wiki/Sexagesimal.)! The second attribute is the “ones column”, the minute attribute is the “sixties column”, and the hour attribute is the “thirty-six hundreds column”."
   ]
  },
  {
   "cell_type": "markdown",
   "metadata": {
    "slideshow": {
     "slide_type": "subslide"
    }
   },
   "source": [
    "When we wrote `add_time` and `increment!`, we were effectively doing addition in base 60, which is why we had to carry from one column to the next.\n",
    "\n",
    "This observation suggests another approach to the whole problem—we can convert `Time` objects to integers and take advantage of the fact that the computer knows how to do integer arithmetic.\n",
    "\n",
    "Here is a function that converts `Time`s to integers:"
   ]
  },
  {
   "cell_type": "code",
   "execution_count": 12,
   "metadata": {},
   "outputs": [
    {
     "data": {
      "text/plain": [
       "time_to_int (generic function with 1 method)"
      ]
     },
     "execution_count": 12,
     "metadata": {},
     "output_type": "execute_result"
    }
   ],
   "source": [
    "function time_to_int(time)\n",
    "    minutes = time.hour * 60 + time.minute\n",
    "    seconds = minutes * 60 + time.second\n",
    "end"
   ]
  },
  {
   "cell_type": "markdown",
   "metadata": {},
   "source": [
    "And here is a function that converts an integer to a `Time` (recall that `divrm` divides the first argument by the second and returns the quotient and remainder as a tuple):"
   ]
  },
  {
   "cell_type": "code",
   "execution_count": 13,
   "metadata": {},
   "outputs": [
    {
     "data": {
      "text/plain": [
       "int_to_time (generic function with 1 method)"
      ]
     },
     "execution_count": 13,
     "metadata": {},
     "output_type": "execute_result"
    }
   ],
   "source": [
    "function int_to_time(seconds)\n",
    "    (minutes, second) = divrem(seconds, 60)\n",
    "    hour, minute = divrem(minutes, 60)\n",
    "    MyTime(hour, minute, second)\n",
    "end"
   ]
  },
  {
   "cell_type": "markdown",
   "metadata": {
    "slideshow": {
     "slide_type": "subslide"
    }
   },
   "source": [
    "You might have to think a bit, and run some tests, to convince yourself that these functions are correct. One way to test them is to check that `time_to_int(int_to_time(x)) == x` for many values of `x`. This is an example of a *consistency check*."
   ]
  },
  {
   "cell_type": "code",
   "execution_count": 14,
   "metadata": {
    "slideshow": {
     "slide_type": "-"
    }
   },
   "outputs": [],
   "source": [
    "for x in 0:24*60*60\n",
    "    if time_to_int(int_to_time(x)) ≠ x\n",
    "        error(\"Houston, we have a problem!\")\n",
    "    end\n",
    "end"
   ]
  },
  {
   "cell_type": "markdown",
   "metadata": {
    "slideshow": {
     "slide_type": "subslide"
    }
   },
   "source": [
    "Once you are convinced they are correct, you can use them to rewrite `add_time`:"
   ]
  },
  {
   "cell_type": "code",
   "execution_count": 15,
   "metadata": {},
   "outputs": [
    {
     "data": {
      "text/plain": [
       "add_time (generic function with 1 method)"
      ]
     },
     "execution_count": 15,
     "metadata": {},
     "output_type": "execute_result"
    }
   ],
   "source": [
    "function add_time(t1, t2)\n",
    "    seconds = time_to_int(t1) + time_to_int(t2)\n",
    "    int_to_time(seconds)\n",
    "end"
   ]
  },
  {
   "cell_type": "markdown",
   "metadata": {},
   "source": [
    "This version is shorter than the original, and easier to verify. Rewrite increment using `time_to_int` and `int_to_time`."
   ]
  },
  {
   "cell_type": "code",
   "execution_count": 19,
   "metadata": {
    "slideshow": {
     "slide_type": "subslide"
    }
   },
   "outputs": [
    {
     "name": "stdout",
     "output_type": "stream",
     "text": [
      "40600\n"
     ]
    },
    {
     "data": {
      "text/plain": [
       "MyTime(14, 51, 10)"
      ]
     },
     "execution_count": 19,
     "metadata": {},
     "output_type": "execute_result"
    }
   ],
   "source": [
    "function increment!(time, seconds)\n",
    "    println(time_to_int(time))\n",
    "    int_to_time(time_to_int(time) + seconds)\n",
    "end\n",
    "\n",
    "increment!(MyTime(11,16,40), 12870)"
   ]
  },
  {
   "cell_type": "markdown",
   "metadata": {
    "slideshow": {
     "slide_type": "subslide"
    }
   },
   "source": [
    "In some ways, converting from base 60 to base 10 and back is harder than just dealing with times. Base conversion is more abstract; our intuition for dealing with time values is better.\n",
    "\n",
    "But if we have the insight to treat times as base 60 numbers and make the investment of writing the conversion functions (`time_to_int` and `int_to_time`), we get a program that is shorter, easier to read and debug, and more reliable.\n",
    "\n",
    "It is also easier to add features later. For example, imagine subtracting two `Time`s to find the duration between them. The naive approach would be to implement subtraction with borrowing. Using the conversion functions would be easier and more likely to be correct.\n",
    "\n",
    "Ironically, sometimes making a problem harder (or more general) makes it easier (because there are fewer special cases and fewer opportunities for error)."
   ]
  },
  {
   "cell_type": "markdown",
   "metadata": {
    "slideshow": {
     "slide_type": "slide"
    }
   },
   "source": [
    "# Debugging\n",
    "\n",
    "A `Time` object is well-formed if the values of minute and second are between 0 and 60 (including 0 but not 60) and if hour is positive. hour and minute should be integral values, but we might allow second to have a fraction part.\n",
    "\n",
    "Requirements like these are called *invariants* because they should always be true. To put it a different way, if they are not true, something has gone wrong."
   ]
  },
  {
   "cell_type": "markdown",
   "metadata": {
    "slideshow": {
     "slide_type": "subslide"
    }
   },
   "source": [
    "Writing code to check invariants can help detect errors and find their causes. For example, you might have a function like `valid_time` that takes a `Time` object and returns `false` if it violates an invariant:"
   ]
  },
  {
   "cell_type": "code",
   "execution_count": 14,
   "metadata": {},
   "outputs": [
    {
     "data": {
      "text/plain": [
       "valid_time (generic function with 1 method)"
      ]
     },
     "execution_count": 14,
     "metadata": {},
     "output_type": "execute_result"
    }
   ],
   "source": [
    "function valid_time(time)\n",
    "    if time.hour < 0 || time.minute < 0 || time.second < 0\n",
    "        return false\n",
    "    end\n",
    "    if time.minute >= 60 || time.second >= 60\n",
    "        return false\n",
    "    end\n",
    "    true\n",
    "end"
   ]
  },
  {
   "cell_type": "markdown",
   "metadata": {
    "slideshow": {
     "slide_type": "subslide"
    }
   },
   "source": [
    "At the beginning of each function you could check the arguments to make sure they are valid:"
   ]
  },
  {
   "cell_type": "code",
   "execution_count": 17,
   "metadata": {},
   "outputs": [
    {
     "ename": "LoadError",
     "evalue": "\u001b[91minvalid MyTime object in add_time\u001b[39m",
     "output_type": "error",
     "traceback": [
      "\u001b[91minvalid MyTime object in add_time\u001b[39m",
      "",
      "Stacktrace:",
      " [1] \u001b[1madd_time\u001b[22m\u001b[22m\u001b[1m(\u001b[22m\u001b[22m::MyTime, ::MyTime\u001b[1m)\u001b[22m\u001b[22m at \u001b[1m./In[17]:3\u001b[22m\u001b[22m",
      " [2] \u001b[1minclude_string\u001b[22m\u001b[22m\u001b[1m(\u001b[22m\u001b[22m::String, ::String\u001b[1m)\u001b[22m\u001b[22m at \u001b[1m./loading.jl:522\u001b[22m\u001b[22m"
     ]
    }
   ],
   "source": [
    "function add_time(t1, t2)\n",
    "    if !valid_time(t1) || !valid_time(t2)\n",
    "        error(\"invalid MyTime object in add_time\")\n",
    "    end\n",
    "    seconds = time_to_int(t1) + time_to_int(t2)\n",
    "    int_to_time(seconds)\n",
    "end\n",
    "add_time(MyTime(1, 1, 1), MyTime(1, 61, 1))"
   ]
  },
  {
   "cell_type": "markdown",
   "metadata": {
    "slideshow": {
     "slide_type": "subslide"
    }
   },
   "source": [
    "Or you could use an `@assert` macro, which checks a given invariant and raises an exception if it fails:"
   ]
  },
  {
   "cell_type": "code",
   "execution_count": 20,
   "metadata": {},
   "outputs": [
    {
     "ename": "LoadError",
     "evalue": "\u001b[91mUndefVarError: valid_time not defined\u001b[39m",
     "output_type": "error",
     "traceback": [
      "\u001b[91mUndefVarError: valid_time not defined\u001b[39m",
      "",
      "Stacktrace:",
      " [1] \u001b[1madd_time\u001b[22m\u001b[22m\u001b[1m(\u001b[22m\u001b[22m::MyTime, ::MyTime\u001b[1m)\u001b[22m\u001b[22m at \u001b[1m./In[20]:2\u001b[22m\u001b[22m"
     ]
    }
   ],
   "source": [
    "function add_time(t1, t2)\n",
    "    @assert(valid_time(t1) && valid_time(t2), \"invalid MyTime object in add_time\")\n",
    "    seconds = time_to_int(t1) + time_to_int(t2)\n",
    "    int_to_time(seconds)\n",
    "end\n",
    "add_time(MyTime(1, 1, 1), MyTime(1, 61, 1))"
   ]
  },
  {
   "cell_type": "markdown",
   "metadata": {},
   "source": [
    "`@assert` macros are useful because they distinguish code that deals with normal conditions from code that checks for errors."
   ]
  }
 ],
 "metadata": {
  "kernelspec": {
   "display_name": "Julia 0.6.2",
   "language": "julia",
   "name": "julia-0.6"
  },
  "language_info": {
   "file_extension": ".jl",
   "mimetype": "application/julia",
   "name": "julia",
   "version": "0.6.2"
  }
 },
 "nbformat": 4,
 "nbformat_minor": 2
}
