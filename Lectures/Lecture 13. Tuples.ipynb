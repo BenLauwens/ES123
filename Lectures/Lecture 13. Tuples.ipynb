{
 "cells": [
  {
   "cell_type": "markdown",
   "metadata": {
    "slideshow": {
     "slide_type": "slide"
    }
   },
   "source": [
    "# Tuples are immutable\n",
    "\n",
    "A tuple is a sequence of values. The values can be any type, and they are indexed by integers, so in that respect tuples are a lot like arrays. The important difference is that tuples are immutable.\n",
    "\n",
    "Syntactically, a tuple is a comma-separated list of values:"
   ]
  },
  {
   "cell_type": "code",
   "execution_count": 8,
   "metadata": {},
   "outputs": [
    {
     "data": {
      "text/plain": [
       "('a', 'b', 'c', 'd', 'e')"
      ]
     },
     "execution_count": 8,
     "metadata": {},
     "output_type": "execute_result"
    }
   ],
   "source": [
    "t = 'a', 'b', 'c', 'd', 'e'"
   ]
  },
  {
   "cell_type": "markdown",
   "metadata": {},
   "source": [
    "Although it is not necessary, it is common to enclose tuples in parentheses:"
   ]
  },
  {
   "cell_type": "code",
   "execution_count": 9,
   "metadata": {},
   "outputs": [
    {
     "data": {
      "text/plain": [
       "('a', 'b', 'c', 'd', 'e')"
      ]
     },
     "execution_count": 9,
     "metadata": {},
     "output_type": "execute_result"
    }
   ],
   "source": [
    "t = ('a', 'b', 'c', 'd', 'e')"
   ]
  },
  {
   "cell_type": "markdown",
   "metadata": {
    "slideshow": {
     "slide_type": "subslide"
    }
   },
   "source": [
    "To create a tuple with a single element, you have to include a final comma:"
   ]
  },
  {
   "cell_type": "code",
   "execution_count": 10,
   "metadata": {},
   "outputs": [
    {
     "data": {
      "text/plain": [
       "Tuple{Char}"
      ]
     },
     "execution_count": 10,
     "metadata": {},
     "output_type": "execute_result"
    }
   ],
   "source": [
    "t = ('a',)\n",
    "typeof(t)"
   ]
  },
  {
   "cell_type": "markdown",
   "metadata": {},
   "source": [
    "A value in parentheses is not a tuple:"
   ]
  },
  {
   "cell_type": "code",
   "execution_count": 11,
   "metadata": {},
   "outputs": [
    {
     "data": {
      "text/plain": [
       "Char"
      ]
     },
     "execution_count": 11,
     "metadata": {},
     "output_type": "execute_result"
    }
   ],
   "source": [
    "t = ('a')\n",
    "typeof(t)"
   ]
  },
  {
   "cell_type": "markdown",
   "metadata": {
    "slideshow": {
     "slide_type": "subslide"
    }
   },
   "source": [
    "Another way to create a tuple is the built-in function `tuple`. With no argument, it creates an empty tuple:"
   ]
  },
  {
   "cell_type": "code",
   "execution_count": 16,
   "metadata": {},
   "outputs": [
    {
     "data": {
      "text/plain": [
       "()"
      ]
     },
     "execution_count": 16,
     "metadata": {},
     "output_type": "execute_result"
    }
   ],
   "source": [
    "t = tuple()"
   ]
  },
  {
   "cell_type": "markdown",
   "metadata": {},
   "source": [
    "If multiple arguments are provided, the result is a tuple with the given arguments:"
   ]
  },
  {
   "cell_type": "code",
   "execution_count": 18,
   "metadata": {},
   "outputs": [
    {
     "data": {
      "text/plain": [
       "(1, 'a', π = 3.1415926535897...)"
      ]
     },
     "execution_count": 18,
     "metadata": {},
     "output_type": "execute_result"
    }
   ],
   "source": [
    "t = tuple(1, 'a', pi)"
   ]
  },
  {
   "cell_type": "markdown",
   "metadata": {
    "slideshow": {
     "slide_type": "subslide"
    }
   },
   "source": [
    "Most array operators also work on tuples. The bracket operator indexes an element:"
   ]
  },
  {
   "cell_type": "code",
   "execution_count": 27,
   "metadata": {},
   "outputs": [
    {
     "data": {
      "text/plain": [
       "'a': ASCII/Unicode U+0061 (category Ll: Letter, lowercase)"
      ]
     },
     "execution_count": 27,
     "metadata": {},
     "output_type": "execute_result"
    }
   ],
   "source": [
    "t = ('a', 'b', 'c', 'd', 'e')\n",
    "t[1]"
   ]
  },
  {
   "cell_type": "markdown",
   "metadata": {},
   "source": [
    "And the slice operator selects a range of elements:"
   ]
  },
  {
   "cell_type": "code",
   "execution_count": 20,
   "metadata": {},
   "outputs": [
    {
     "data": {
      "text/plain": [
       "('b', 'c')"
      ]
     },
     "execution_count": 20,
     "metadata": {},
     "output_type": "execute_result"
    }
   ],
   "source": [
    "t[2:3]"
   ]
  },
  {
   "cell_type": "markdown",
   "metadata": {
    "slideshow": {
     "slide_type": "subslide"
    }
   },
   "source": [
    "But if you try to modify one of the elements of the tuple, you get an error:"
   ]
  },
  {
   "cell_type": "code",
   "execution_count": 21,
   "metadata": {},
   "outputs": [
    {
     "ename": "LoadError",
     "evalue": "\u001b[91mMethodError: no method matching setindex!(::NTuple{5,Char}, ::Char, ::Int64)\u001b[39m",
     "output_type": "error",
     "traceback": [
      "\u001b[91mMethodError: no method matching setindex!(::NTuple{5,Char}, ::Char, ::Int64)\u001b[39m",
      "",
      "Stacktrace:",
      " [1] \u001b[1minclude_string\u001b[22m\u001b[22m\u001b[1m(\u001b[22m\u001b[22m::String, ::String\u001b[1m)\u001b[22m\u001b[22m at \u001b[1m./loading.jl:522\u001b[22m\u001b[22m"
     ]
    }
   ],
   "source": [
    "t[1] = 'A'"
   ]
  },
  {
   "cell_type": "markdown",
   "metadata": {},
   "source": [
    "Because tuples are immutable, you can’t modify the elements."
   ]
  },
  {
   "cell_type": "markdown",
   "metadata": {
    "slideshow": {
     "slide_type": "subslide"
    }
   },
   "source": [
    "The relational operators work with tuples and other sequences; Julia starts by comparing the first element from each sequence. If they are equal, it goes on to the next elements, and so on, until it finds elements that differ. Subsequent elements are not considered (even if they are really big)."
   ]
  },
  {
   "cell_type": "code",
   "execution_count": 29,
   "metadata": {},
   "outputs": [
    {
     "data": {
      "text/plain": [
       "true"
      ]
     },
     "execution_count": 29,
     "metadata": {},
     "output_type": "execute_result"
    }
   ],
   "source": [
    "(0, 1, 2000000) < (0, 3, 4)"
   ]
  },
  {
   "cell_type": "markdown",
   "metadata": {
    "slideshow": {
     "slide_type": "slide"
    }
   },
   "source": [
    "# Tuple assignment\n",
    "\n",
    "It is often useful to swap the values of two variables. With conventional assignments, you have to use a temporary variable. For example, to swap a and b:\n",
    "```julia\n",
    "temp = a\n",
    "a = b\n",
    "b = temp\n",
    "```\n",
    "This solution is cumbersome; tuple assignment is more elegant:\n",
    "```julia\n",
    "a, b = b, a\n",
    "```\n",
    "The left side is a tuple of variables; the right side is a tuple of expressions. Each value is assigned to its respective variable. All the expressions on the right side are evaluated before any of the assignments."
   ]
  },
  {
   "cell_type": "markdown",
   "metadata": {
    "slideshow": {
     "slide_type": "slide"
    }
   },
   "source": [
    "# Tuples as return values\n",
    "\n",
    "Strictly speaking, a function can only return one value, but if the value is a tuple, the effect is the same as returning multiple values. For example, if you want to divide two integers and compute the quotient and remainder, it is inefficient to compute `x÷y` and then `x%y`. It is better to compute them both at the same time.\n",
    "\n",
    "The built-in function `divrem` takes two arguments and returns a tuple of two values, the quotient and remainder. You can store the result as a tuple:"
   ]
  },
  {
   "cell_type": "code",
   "execution_count": 44,
   "metadata": {},
   "outputs": [
    {
     "data": {
      "text/plain": [
       "(2, 1)"
      ]
     },
     "execution_count": 44,
     "metadata": {},
     "output_type": "execute_result"
    }
   ],
   "source": [
    "t = divrem(7, 3)"
   ]
  },
  {
   "cell_type": "markdown",
   "metadata": {},
   "source": [
    "Or use tuple assignment to store the elements separately:"
   ]
  },
  {
   "cell_type": "code",
   "execution_count": 46,
   "metadata": {},
   "outputs": [
    {
     "name": "stdout",
     "output_type": "stream",
     "text": [
      "2\n",
      "1\n"
     ]
    }
   ],
   "source": [
    "quot, rem = divrem(7, 3)\n",
    "println(quot)\n",
    "println(rem)"
   ]
  },
  {
   "cell_type": "markdown",
   "metadata": {
    "slideshow": {
     "slide_type": "subslide"
    }
   },
   "source": [
    "Here is an example of a function that returns a tuple:"
   ]
  },
  {
   "cell_type": "code",
   "execution_count": 1,
   "metadata": {},
   "outputs": [
    {
     "data": {
      "text/plain": [
       "min_max (generic function with 1 method)"
      ]
     },
     "execution_count": 1,
     "metadata": {},
     "output_type": "execute_result"
    }
   ],
   "source": [
    "function min_max(t)\n",
    "    minimum(t), maximum(t)\n",
    "end"
   ]
  },
  {
   "cell_type": "markdown",
   "metadata": {},
   "source": [
    "`max` and `min` are built-in functions that find the largest and smallest elements of a sequence. `min_max` computes both and returns a tuple of two values."
   ]
  },
  {
   "cell_type": "markdown",
   "metadata": {
    "slideshow": {
     "slide_type": "slide"
    }
   },
   "source": [
    "# Variable-length argument tuples\n",
    "\n",
    "Functions can take a variable number of arguments. A parameter name that end with `...` gathers arguments into a tuple. For example, printall takes any number of arguments and prints them:"
   ]
  },
  {
   "cell_type": "code",
   "execution_count": 47,
   "metadata": {},
   "outputs": [
    {
     "data": {
      "text/plain": [
       "printall (generic function with 1 method)"
      ]
     },
     "execution_count": 47,
     "metadata": {},
     "output_type": "execute_result"
    }
   ],
   "source": [
    "function printall(args...)\n",
    "    println(args)\n",
    "end"
   ]
  },
  {
   "cell_type": "markdown",
   "metadata": {},
   "source": [
    "The gather parameter can have any name you like, but args is conventional. Here’s how the function works:"
   ]
  },
  {
   "cell_type": "code",
   "execution_count": 48,
   "metadata": {},
   "outputs": [
    {
     "name": "stdout",
     "output_type": "stream",
     "text": [
      "(1, 2.0, '3')\n"
     ]
    }
   ],
   "source": [
    "printall(1, 2.0, '3')"
   ]
  },
  {
   "cell_type": "markdown",
   "metadata": {
    "slideshow": {
     "slide_type": "subslide"
    }
   },
   "source": [
    "The complement of gather is scatter. If you have a sequence of values and you want to pass it to a function as multiple arguments, you can use the `...` operator. For example, `divrem` takes exactly two arguments; it doesn’t work with a tuple:"
   ]
  },
  {
   "cell_type": "code",
   "execution_count": 49,
   "metadata": {},
   "outputs": [
    {
     "ename": "LoadError",
     "evalue": "\u001b[91mMethodError: no method matching divrem(::Tuple{Int64,Int64})\u001b[0m\nClosest candidates are:\n  divrem(::T, \u001b[91m::Base.MultiplicativeInverses.MultiplicativeInverse{T}\u001b[39m) where T at multinverses.jl:152\n  divrem(::Any, \u001b[91m::Any\u001b[39m) at number.jl:64\n  divrem(\u001b[91m::BigInt\u001b[39m, \u001b[91m::BigInt\u001b[39m) at gmp.jl:424\u001b[39m",
     "output_type": "error",
     "traceback": [
      "\u001b[91mMethodError: no method matching divrem(::Tuple{Int64,Int64})\u001b[0m\nClosest candidates are:\n  divrem(::T, \u001b[91m::Base.MultiplicativeInverses.MultiplicativeInverse{T}\u001b[39m) where T at multinverses.jl:152\n  divrem(::Any, \u001b[91m::Any\u001b[39m) at number.jl:64\n  divrem(\u001b[91m::BigInt\u001b[39m, \u001b[91m::BigInt\u001b[39m) at gmp.jl:424\u001b[39m",
      "",
      "Stacktrace:",
      " [1] \u001b[1minclude_string\u001b[22m\u001b[22m\u001b[1m(\u001b[22m\u001b[22m::String, ::String\u001b[1m)\u001b[22m\u001b[22m at \u001b[1m./loading.jl:522\u001b[22m\u001b[22m"
     ]
    }
   ],
   "source": [
    "t = (7, 3)\n",
    "divrem(t)"
   ]
  },
  {
   "cell_type": "markdown",
   "metadata": {},
   "source": [
    "But if you scatter the tuple, it works:"
   ]
  },
  {
   "cell_type": "code",
   "execution_count": 50,
   "metadata": {},
   "outputs": [
    {
     "data": {
      "text/plain": [
       "(2, 1)"
      ]
     },
     "execution_count": 50,
     "metadata": {},
     "output_type": "execute_result"
    }
   ],
   "source": [
    "divrem(t...)"
   ]
  },
  {
   "cell_type": "markdown",
   "metadata": {
    "slideshow": {
     "slide_type": "subslide"
    }
   },
   "source": [
    "Many of the built-in functions use variable-length argument tuples. For example, `max` and `min` can take any number of arguments:"
   ]
  },
  {
   "cell_type": "code",
   "execution_count": 51,
   "metadata": {},
   "outputs": [
    {
     "data": {
      "text/plain": [
       "3"
      ]
     },
     "execution_count": 51,
     "metadata": {},
     "output_type": "execute_result"
    }
   ],
   "source": [
    "max(1, 2, 3)"
   ]
  },
  {
   "cell_type": "markdown",
   "metadata": {},
   "source": [
    "But `sum` does not:"
   ]
  },
  {
   "cell_type": "code",
   "execution_count": 52,
   "metadata": {},
   "outputs": [
    {
     "ename": "LoadError",
     "evalue": "\u001b[91mMethodError: no method matching sum(::Int64, ::Int64, ::Int64)\u001b[0m\nClosest candidates are:\n  sum(\u001b[91m::Union{Function, Type}\u001b[39m, ::Any) at reduce.jl:347\n  sum(\u001b[91m::BitArray\u001b[39m, ::Any) at bitarray.jl:1827\n  sum(\u001b[91m::Function\u001b[39m, \u001b[91m::AbstractArray\u001b[39m, ::Any) at reducedim.jl:583\n  ...\u001b[39m",
     "output_type": "error",
     "traceback": [
      "\u001b[91mMethodError: no method matching sum(::Int64, ::Int64, ::Int64)\u001b[0m\nClosest candidates are:\n  sum(\u001b[91m::Union{Function, Type}\u001b[39m, ::Any) at reduce.jl:347\n  sum(\u001b[91m::BitArray\u001b[39m, ::Any) at bitarray.jl:1827\n  sum(\u001b[91m::Function\u001b[39m, \u001b[91m::AbstractArray\u001b[39m, ::Any) at reducedim.jl:583\n  ...\u001b[39m",
      "",
      "Stacktrace:",
      " [1] \u001b[1minclude_string\u001b[22m\u001b[22m\u001b[1m(\u001b[22m\u001b[22m::String, ::String\u001b[1m)\u001b[22m\u001b[22m at \u001b[1m./loading.jl:522\u001b[22m\u001b[22m"
     ]
    }
   ],
   "source": [
    "sum(1, 2, 3)"
   ]
  },
  {
   "cell_type": "markdown",
   "metadata": {
    "slideshow": {
     "slide_type": "slide"
    }
   },
   "source": [
    "# Arrays and tuples\n",
    "\n",
    "`zip` is a built-in function that takes two or more sequences and returns an array of tuples where each tuple contains one element from each sequence. The name of the function refers to a zipper, which joins and interleaves two rows of teeth.\n",
    "\n",
    "This example zips a string and an array:"
   ]
  },
  {
   "cell_type": "code",
   "execution_count": 72,
   "metadata": {},
   "outputs": [
    {
     "data": {
      "text/plain": [
       "Base.Iterators.Zip2{String,Array{Int64,1}}(\"abc\", [1, 2, 3])"
      ]
     },
     "execution_count": 72,
     "metadata": {},
     "output_type": "execute_result"
    }
   ],
   "source": [
    "s = \"abc\"\n",
    "t = [1, 2, 3]\n",
    "zip(s, t)"
   ]
  },
  {
   "cell_type": "markdown",
   "metadata": {},
   "source": [
    "The result is a `Zip2` object that knows how to iterate through the pairs. The most common use of `zip` is in a `for` loop:"
   ]
  },
  {
   "cell_type": "code",
   "execution_count": 54,
   "metadata": {},
   "outputs": [
    {
     "name": "stdout",
     "output_type": "stream",
     "text": [
      "('a', 0)\n",
      "('b', 1)\n",
      "('c', 2)\n"
     ]
    }
   ],
   "source": [
    "for pair in zip(s, t)\n",
    "    println(pair)\n",
    "end"
   ]
  },
  {
   "cell_type": "markdown",
   "metadata": {
    "slideshow": {
     "slide_type": "subslide"
    }
   },
   "source": [
    "A zip object is a kind of *iterator*, which is any object that iterates through a sequence. Iterators are similar to arrays in some ways, but unlike arrays, you can’t use an index to select an element from an iterator.\n",
    "\n",
    "If you want to use array operators and functions, you can use a zip object to make an array:"
   ]
  },
  {
   "cell_type": "code",
   "execution_count": 55,
   "metadata": {},
   "outputs": [
    {
     "data": {
      "text/plain": [
       "3-element Array{Tuple{Char,Int64},1}:\n",
       " ('a', 0)\n",
       " ('b', 1)\n",
       " ('c', 2)"
      ]
     },
     "execution_count": 55,
     "metadata": {},
     "output_type": "execute_result"
    }
   ],
   "source": [
    "collect(zip(s, t))"
   ]
  },
  {
   "cell_type": "markdown",
   "metadata": {},
   "source": [
    "The result is an array of tuples; in this example, each tuple contains a character from the string and the corresponding element from the array.\n",
    "\n",
    "If the sequences are not the same length, the result has the length of the shorter one."
   ]
  },
  {
   "cell_type": "code",
   "execution_count": 56,
   "metadata": {},
   "outputs": [
    {
     "data": {
      "text/plain": [
       "3-element Array{Tuple{Char,Char},1}:\n",
       " ('A', 'E')\n",
       " ('n', 'l')\n",
       " ('n', 'k')"
      ]
     },
     "execution_count": 56,
     "metadata": {},
     "output_type": "execute_result"
    }
   ],
   "source": [
    "collect(zip(\"Anne\", \"Elk\"))"
   ]
  },
  {
   "cell_type": "markdown",
   "metadata": {
    "slideshow": {
     "slide_type": "subslide"
    }
   },
   "source": [
    "You can use tuple assignment in a `for` loop to traverse an array of tuples:"
   ]
  },
  {
   "cell_type": "code",
   "execution_count": 71,
   "metadata": {},
   "outputs": [
    {
     "name": "stdout",
     "output_type": "stream",
     "text": [
      "1 a\n",
      "2 b\n",
      "3 c\n"
     ]
    }
   ],
   "source": [
    "t = [('a', 1), ('b', 2), ('c', 3)]\n",
    "for (letter, number) in t\n",
    "    println(number, \" \", letter)\n",
    "end"
   ]
  },
  {
   "cell_type": "markdown",
   "metadata": {},
   "source": [
    "Each time through the loop, Julia selects the next tuple in the array and assigns the elements to letter and number. The parentheses around `letter, number)` are compulsory."
   ]
  },
  {
   "cell_type": "markdown",
   "metadata": {
    "slideshow": {
     "slide_type": "subslide"
    }
   },
   "source": [
    "If you combine `zip`, `for` and tuple assignment, you get a useful idiom for traversing two (or more) sequences at the same time. For example, has_match takes two sequences, `t1` and `t2`, and returns `true` if there is an index `i` such that `t1[i] == t2[i]`:"
   ]
  },
  {
   "cell_type": "code",
   "execution_count": 62,
   "metadata": {},
   "outputs": [
    {
     "data": {
      "text/plain": [
       "true"
      ]
     },
     "execution_count": 62,
     "metadata": {},
     "output_type": "execute_result"
    }
   ],
   "source": [
    "function has_match(t1, t2)\n",
    "    for (x, y) in zip(t1, t2)\n",
    "        if x == y\n",
    "            return true\n",
    "        end\n",
    "    end\n",
    "    false\n",
    "end\n",
    "has_match(\"Hello\", \"World\")"
   ]
  },
  {
   "cell_type": "markdown",
   "metadata": {
    "slideshow": {
     "slide_type": "subslide"
    }
   },
   "source": [
    "If you need to traverse the elements of a sequence and their indices, you can use the built-in function `enumerate`:"
   ]
  },
  {
   "cell_type": "code",
   "execution_count": 63,
   "metadata": {},
   "outputs": [
    {
     "name": "stdout",
     "output_type": "stream",
     "text": [
      "1 a\n",
      "2 b\n",
      "3 c\n"
     ]
    }
   ],
   "source": [
    "for (index, element) in enumerate(\"abc\")\n",
    "    println(index, \" \", element)\n",
    "end"
   ]
  },
  {
   "cell_type": "markdown",
   "metadata": {},
   "source": [
    "The result from `enumerate` is an enumerate object, which iterates a sequence of pairs; each pair contains an index (starting from 1) and an element from the given sequence."
   ]
  },
  {
   "cell_type": "markdown",
   "metadata": {
    "slideshow": {
     "slide_type": "slide"
    }
   },
   "source": [
    "# Dictionaries and tuples\n",
    "\n",
    "Dictionaries can be used as iterators that iterates the key-value pairs. You can use it in a `for` loop like this:"
   ]
  },
  {
   "cell_type": "code",
   "execution_count": 70,
   "metadata": {},
   "outputs": [
    {
     "name": "stdout",
     "output_type": "stream",
     "text": [
      "b 2\n",
      "a 1\n",
      "c 3\n"
     ]
    }
   ],
   "source": [
    "d = Dict('a'=>1, 'b'=>2, 'c'=>3)\n",
    "for (key, value) in d\n",
    "    println(key, \" \", value)\n",
    "end"
   ]
  },
  {
   "cell_type": "markdown",
   "metadata": {},
   "source": [
    "As you should expect from a dictionary, the items are in no particular order."
   ]
  },
  {
   "cell_type": "markdown",
   "metadata": {
    "slideshow": {
     "slide_type": "subslide"
    }
   },
   "source": [
    "Going in the other direction, you can use an array of tuples to initialize a new dictionary:"
   ]
  },
  {
   "cell_type": "code",
   "execution_count": 69,
   "metadata": {},
   "outputs": [
    {
     "data": {
      "text/plain": [
       "Dict{Char,Int64} with 3 entries:\n",
       "  'b' => 2\n",
       "  'a' => 1\n",
       "  'c' => 3"
      ]
     },
     "execution_count": 69,
     "metadata": {},
     "output_type": "execute_result"
    }
   ],
   "source": [
    "t = [('a', 1), ('c', 3), ('b', 2)]\n",
    "d = Dict(t)"
   ]
  },
  {
   "cell_type": "markdown",
   "metadata": {},
   "source": [
    "Combining `Dict` with `zip` yields a concise way to create a dictionary:"
   ]
  },
  {
   "cell_type": "code",
   "execution_count": 68,
   "metadata": {},
   "outputs": [
    {
     "data": {
      "text/plain": [
       "Dict{Char,Int64} with 3 entries:\n",
       "  'b' => 2\n",
       "  'a' => 1\n",
       "  'c' => 3"
      ]
     },
     "execution_count": 68,
     "metadata": {},
     "output_type": "execute_result"
    }
   ],
   "source": [
    "d = Dict(zip(\"abc\", 1:3))"
   ]
  },
  {
   "cell_type": "markdown",
   "metadata": {
    "slideshow": {
     "slide_type": "subslide"
    }
   },
   "source": [
    "It is common to use tuples as keys in dictionaries. For example, a telephone directory might map from last-name, first-name pairs to telephone numbers. Assuming that we have defined last, first and number, we could write:"
   ]
  },
  {
   "cell_type": "code",
   "execution_count": 85,
   "metadata": {},
   "outputs": [
    {
     "data": {
      "text/plain": [
       "Dict{Any,Any} with 1 entry:\n",
       "  (\"Caesar\", \"Julius\") => \"0032020000000\""
      ]
     },
     "execution_count": 85,
     "metadata": {},
     "output_type": "execute_result"
    }
   ],
   "source": [
    "last = \"Caesar\"\n",
    "first = \"Julius\"\n",
    "number = \"0032020000000\"\n",
    "directory = Dict()\n",
    "directory[last, first] = number\n",
    "directory"
   ]
  },
  {
   "cell_type": "markdown",
   "metadata": {},
   "source": [
    "The expression in brackets is a tuple. We could use tuple assignment to traverse this dictionary."
   ]
  },
  {
   "cell_type": "code",
   "execution_count": 78,
   "metadata": {},
   "outputs": [
    {
     "name": "stdout",
     "output_type": "stream",
     "text": [
      "Julius Caesar 003202000000\n"
     ]
    }
   ],
   "source": [
    "for ((last, first), number) in directory\n",
    "    println(first, \" \", last, \" \", number)\n",
    "end"
   ]
  },
  {
   "cell_type": "markdown",
   "metadata": {},
   "source": [
    "This loop traverses the key-value pairs in directory, which are tuples. It assigns the elements of the key in each tuple to last and first, and the value to number, then prints the name and corresponding telephone number."
   ]
  },
  {
   "cell_type": "markdown",
   "metadata": {
    "slideshow": {
     "slide_type": "subslide"
    }
   },
   "source": [
    "There are two ways to represent tuples in a state diagram. The more detailed version shows the indices and elements just as they appear in an array."
   ]
  },
  {
   "cell_type": "code",
   "execution_count": 84,
   "metadata": {
    "hideCode": true,
    "hidePrompt": true
   },
   "outputs": [
    {
     "data": {
      "image/svg+xml": [
       "<?xml version=\"1.0\" encoding=\"UTF-8\"?>\n",
       "<svg xmlns=\"http://www.w3.org/2000/svg\" xmlns:xlink=\"http://www.w3.org/1999/xlink\" width=\"142.928pt\" height=\"57.888pt\" viewBox=\"0 0 142.928 57.888\" version=\"1.1\">\n",
       "<defs>\n",
       "<g>\n",
       "<symbol overflow=\"visible\" id=\"glyph-1518428330974424-0-0\">\n",
       "<path style=\"stroke:none;\" d=\"\"/>\n",
       "</symbol>\n",
       "<symbol overflow=\"visible\" id=\"glyph-1518428330974424-0-1\">\n",
       "<path style=\"stroke:none;\" d=\"M 8.453125 0 L 8.453125 -1.15625 L 5.953125 -1.15625 L 5.953125 -13.5 L 5.5625 -13.5 C 4.375 -12.296875 2.734375 -12.234375 1.765625 -12.1875 L 1.765625 -11.03125 C 2.4375 -11.0625 3.390625 -11.09375 4.375 -11.515625 L 4.375 -1.15625 L 1.890625 -1.15625 L 1.890625 0 Z M 8.453125 0 \"/>\n",
       "</symbol>\n",
       "<symbol overflow=\"visible\" id=\"glyph-1518428330974424-0-2\">\n",
       "<path style=\"stroke:none;\" d=\"M 3.609375 -12.1875 L 3.609375 -13.828125 L 1.953125 -13.828125 L 1.953125 -12.171875 L 2.453125 -12.171875 L 1.953125 -9.6875 L 2.765625 -9.6875 Z M 7.46875 -12.1875 L 7.46875 -13.828125 L 5.8125 -13.828125 L 5.8125 -12.171875 L 6.3125 -12.171875 L 5.8125 -9.6875 L 6.640625 -9.6875 Z M 7.46875 -12.1875 \"/>\n",
       "</symbol>\n",
       "<symbol overflow=\"visible\" id=\"glyph-1518428330974424-0-3\">\n",
       "<path style=\"stroke:none;\" d=\"M 11.6875 -0.890625 L 11.578125 -2.265625 C 11 -1.875 10.421875 -1.5 9.734375 -1.296875 C 9.109375 -1.078125 8.40625 -1.0625 7.734375 -1.0625 C 6.4375 -1.0625 5.265625 -1.75 4.4375 -2.765625 C 3.53125 -3.9375 3.09375 -5.421875 3.09375 -6.90625 C 3.09375 -8.40625 3.53125 -9.90625 4.4375 -11.078125 C 5.265625 -12.09375 6.4375 -12.796875 7.734375 -12.796875 C 8.328125 -12.796875 8.9375 -12.734375 9.515625 -12.546875 C 10.125 -12.375 10.671875 -12.078125 11.203125 -11.71875 L 11.46875 -13.34375 C 10.875 -13.59375 10.265625 -13.78125 9.625 -13.90625 C 9 -14.03125 8.359375 -14.0625 7.734375 -14.0625 C 5.96875 -14.0625 4.359375 -13.265625 3.1875 -11.96875 C 1.953125 -10.578125 1.3125 -8.765625 1.3125 -6.90625 C 1.3125 -5.0625 1.953125 -3.25 3.1875 -1.875 C 4.359375 -0.578125 5.96875 0.21875 7.734375 0.21875 C 8.421875 0.21875 9.125 0.203125 9.796875 0 C 10.484375 -0.171875 11.09375 -0.53125 11.6875 -0.890625 Z M 11.6875 -0.890625 \"/>\n",
       "</symbol>\n",
       "<symbol overflow=\"visible\" id=\"glyph-1518428330974424-0-4\">\n",
       "<path style=\"stroke:none;\" d=\"M 3.109375 0 L 3.109375 -13.828125 L 1.609375 -13.828125 L 1.609375 0 Z M 3.109375 0 \"/>\n",
       "</symbol>\n",
       "<symbol overflow=\"visible\" id=\"glyph-1518428330974424-0-5\">\n",
       "<path style=\"stroke:none;\" d=\"M 8.25 -4.359375 C 8.25 -5.046875 8.234375 -6.53125 7.453125 -7.734375 C 6.640625 -8.96875 5.421875 -9.1875 4.703125 -9.1875 C 2.484375 -9.1875 0.703125 -7.078125 0.703125 -4.5 C 0.703125 -1.875 2.609375 0.21875 5 0.21875 C 6.25 0.21875 7.390625 -0.265625 8.171875 -0.8125 L 8.046875 -2.109375 C 6.796875 -1.078125 5.484375 -1 5.015625 -1 C 3.421875 -1 2.15625 -2.40625 2.09375 -4.359375 Z M 7.109375 -5.453125 L 2.1875 -5.453125 C 2.515625 -6.96875 3.5625 -7.96875 4.703125 -7.96875 C 5.734375 -7.96875 6.859375 -7.296875 7.109375 -5.453125 Z M 7.109375 -5.453125 \"/>\n",
       "</symbol>\n",
       "<symbol overflow=\"visible\" id=\"glyph-1518428330974424-0-6\">\n",
       "<path style=\"stroke:none;\" d=\"M 7.171875 -2.546875 C 7.171875 -3.640625 6.4375 -4.328125 6.390625 -4.375 C 5.625 -5.078125 5.078125 -5.203125 4.078125 -5.375 C 2.984375 -5.59375 2.078125 -5.796875 2.078125 -6.765625 C 2.078125 -8.015625 3.5 -8.015625 3.765625 -8.015625 C 4.40625 -8.015625 5.453125 -7.921875 6.59375 -7.25 L 6.828125 -8.546875 C 5.796875 -9.03125 4.984375 -9.1875 3.96875 -9.1875 C 3.46875 -9.1875 0.65625 -9.1875 0.65625 -6.578125 C 0.65625 -5.59375 1.234375 -4.953125 1.734375 -4.578125 C 2.34375 -4.140625 2.78125 -4.0625 3.890625 -3.84375 C 4.609375 -3.703125 5.75 -3.46875 5.75 -2.40625 C 5.75 -1.03125 4.1875 -1.03125 3.890625 -1.03125 C 2.265625 -1.03125 1.15625 -1.765625 0.796875 -2.015625 L 0.5625 -0.65625 C 1.1875 -0.34375 2.296875 0.21875 3.90625 0.21875 C 4.265625 0.21875 5.359375 0.21875 6.21875 -0.421875 C 6.828125 -0.890625 7.171875 -1.6875 7.171875 -2.546875 Z M 7.171875 -2.546875 \"/>\n",
       "</symbol>\n",
       "<symbol overflow=\"visible\" id=\"glyph-1518428330974424-0-7\">\n",
       "<path style=\"stroke:none;\" d=\"M 8.9375 0 L 8.9375 -1.421875 L 5.3125 -1.421875 C 5.078125 -1.421875 4.84375 -1.390625 4.609375 -1.390625 L 2.4375 -1.390625 C 3.0625 -1.953125 4.578125 -3.453125 5.203125 -4.03125 C 5.578125 -4.375 6.59375 -5.21875 6.96875 -5.578125 C 7.875 -6.46875 8.9375 -7.53125 8.9375 -9.21875 C 8.9375 -11.515625 7.328125 -13.5 4.703125 -13.5 C 2.4375 -13.5 1.3125 -11.953125 0.84375 -10.234375 C 1.078125 -9.90625 1.171875 -9.78125 1.21875 -9.71875 C 1.25 -9.6875 1.453125 -9.421875 1.65625 -9.140625 C 2.046875 -10.671875 2.609375 -12.234375 4.421875 -12.234375 C 6.296875 -12.234375 7.3125 -10.734375 7.3125 -9.1875 C 7.3125 -7.484375 6.171875 -6.359375 5 -5.15625 L 3.46875 -3.75 L 1 -1.28125 L 1 0 Z M 8.9375 0 \"/>\n",
       "</symbol>\n",
       "<symbol overflow=\"visible\" id=\"glyph-1518428330974424-0-8\">\n",
       "<path style=\"stroke:none;\" d=\"M 7.734375 -2.96875 L 7.734375 -13.828125 L 6.015625 -13.828125 L 6.015625 -3.03125 C 6.015625 -2.6875 6.015625 -0.78125 3.671875 -0.78125 C 2.828125 -0.78125 1.796875 -1.140625 1.109375 -1.890625 L 0.84375 -0.390625 C 1.3125 -0.15625 2.5625 0.4375 4.25 0.4375 C 6.296875 0.4375 7.734375 -0.71875 7.734375 -2.96875 Z M 7.734375 -2.96875 \"/>\n",
       "</symbol>\n",
       "<symbol overflow=\"visible\" id=\"glyph-1518428330974424-0-9\">\n",
       "<path style=\"stroke:none;\" d=\"M 9.34375 -4.375 C 9.34375 -7.046875 7.34375 -9.1875 4.984375 -9.1875 C 2.53125 -9.1875 0.59375 -7 0.59375 -4.375 C 0.59375 -1.75 2.625 0.21875 4.953125 0.21875 C 7.34375 0.21875 9.34375 -1.796875 9.34375 -4.375 Z M 7.796875 -4.578125 C 7.796875 -2.234375 6.4375 -1.0625 4.953125 -1.0625 C 3.578125 -1.0625 2.15625 -2.171875 2.15625 -4.578125 C 2.15625 -7 3.671875 -7.96875 4.953125 -7.96875 C 6.359375 -7.96875 7.796875 -6.9375 7.796875 -4.578125 Z M 7.796875 -4.578125 \"/>\n",
       "</symbol>\n",
       "<symbol overflow=\"visible\" id=\"glyph-1518428330974424-0-10\">\n",
       "<path style=\"stroke:none;\" d=\"M 8.671875 0 L 8.671875 -5.9375 C 8.671875 -7.25 8.359375 -9.0625 5.9375 -9.0625 C 4.703125 -9.0625 3.75 -8.453125 3.109375 -7.625 L 3.109375 -13.828125 L 1.609375 -13.828125 L 1.609375 0 L 3.171875 0 L 3.171875 -4.875 C 3.171875 -6.203125 3.671875 -7.84375 5.171875 -7.84375 C 7.09375 -7.84375 7.109375 -6.4375 7.109375 -5.796875 L 7.109375 0 Z M 8.671875 0 \"/>\n",
       "</symbol>\n",
       "<symbol overflow=\"visible\" id=\"glyph-1518428330974424-0-11\">\n",
       "<path style=\"stroke:none;\" d=\"M 8.671875 0 L 8.671875 -5.9375 C 8.671875 -7.25 8.359375 -9.0625 5.9375 -9.0625 C 4.140625 -9.0625 3.171875 -7.703125 3.046875 -7.546875 L 3.046875 -8.96875 L 1.609375 -8.96875 L 1.609375 0 L 3.171875 0 L 3.171875 -4.875 C 3.171875 -6.203125 3.671875 -7.84375 5.171875 -7.84375 C 7.09375 -7.84375 7.109375 -6.4375 7.109375 -5.796875 L 7.109375 0 Z M 8.671875 0 \"/>\n",
       "</symbol>\n",
       "</g>\n",
       "<clipPath id=\"clip-1518428330974424-1\">\n",
       "  <path d=\"M 0 0 L 142.929688 0 L 142.929688 57.886719 L 0 57.886719 Z M 0 0 \"/>\n",
       "</clipPath>\n",
       "</defs>\n",
       "<g id=\"surface1\">\n",
       "<g clip-path=\"url(#clip-1518428330974424-1)\" clip-rule=\"nonzero\">\n",
       "<path style=\"fill-rule:nonzero;fill:rgb(75%,75%,75%);fill-opacity:1;stroke-width:1.19553;stroke-linecap:butt;stroke-linejoin:miter;stroke:rgb(0%,0%,0%);stroke-opacity:1;stroke-miterlimit:10;\" d=\"M 70.868031 28.346344 L -70.866344 28.346344 L -70.866344 -28.345063 L 70.868031 -28.345063 Z M 70.868031 28.346344 \" transform=\"matrix(1,0,0,-1,71.464,28.944)\"/>\n",
       "</g>\n",
       "<g style=\"fill:rgb(0%,0%,0%);fill-opacity:1;\">\n",
       "  <use xlink:href=\"#glyph-1518428330974424-0-1\" x=\"9.79\" y=\"21.525\"/>\n",
       "</g>\n",
       "<g style=\"fill:rgb(0%,0%,0%);fill-opacity:1;\">\n",
       "  <use xlink:href=\"#glyph-1518428330974424-0-2\" x=\"64.572\" y=\"21.695\"/>\n",
       "  <use xlink:href=\"#glyph-1518428330974424-0-3\" x=\"73.976732\" y=\"21.695\"/>\n",
       "  <use xlink:href=\"#glyph-1518428330974424-0-4\" x=\"86.708986\" y=\"21.695\"/>\n",
       "  <use xlink:href=\"#glyph-1518428330974424-0-5\" x=\"91.471128\" y=\"21.695\"/>\n",
       "  <use xlink:href=\"#glyph-1518428330974424-0-5\" x=\"100.317952\" y=\"21.695\"/>\n",
       "  <use xlink:href=\"#glyph-1518428330974424-0-6\" x=\"109.164777\" y=\"21.695\"/>\n",
       "  <use xlink:href=\"#glyph-1518428330974424-0-5\" x=\"116.796159\" y=\"21.695\"/>\n",
       "  <use xlink:href=\"#glyph-1518428330974424-0-2\" x=\"125.642983\" y=\"21.695\"/>\n",
       "</g>\n",
       "<path style=\"fill:none;stroke-width:1.19553;stroke-linecap:butt;stroke-linejoin:miter;stroke:rgb(0%,0%,0%);stroke-opacity:1;stroke-miterlimit:10;\" d=\"M -43.874156 14.174469 L -20.467906 14.174469 \" transform=\"matrix(1,0,0,-1,71.464,28.944)\"/>\n",
       "<path style=\" stroke:none;fill-rule:nonzero;fill:rgb(0%,0%,0%);fill-opacity:1;\" d=\"M 56.734375 14.769531 C 55.035156 14.453125 52.273438 13.496094 50.359375 12.378906 L 50.359375 17.160156 C 52.273438 16.046875 55.035156 15.089844 56.734375 14.769531 \"/>\n",
       "<g style=\"fill:rgb(0%,0%,0%);fill-opacity:1;\">\n",
       "  <use xlink:href=\"#glyph-1518428330974424-0-7\" x=\"9.79\" y=\"49.872\"/>\n",
       "</g>\n",
       "<g style=\"fill:rgb(0%,0%,0%);fill-opacity:1;\">\n",
       "  <use xlink:href=\"#glyph-1518428330974424-0-2\" x=\"70.42\" y=\"49.812\"/>\n",
       "  <use xlink:href=\"#glyph-1518428330974424-0-8\" x=\"79.824732\" y=\"49.812\"/>\n",
       "  <use xlink:href=\"#glyph-1518428330974424-0-9\" x=\"89.229464\" y=\"49.812\"/>\n",
       "  <use xlink:href=\"#glyph-1518428330974424-0-10\" x=\"99.192104\" y=\"49.812\"/>\n",
       "  <use xlink:href=\"#glyph-1518428330974424-0-11\" x=\"109.493474\" y=\"49.812\"/>\n",
       "  <use xlink:href=\"#glyph-1518428330974424-0-2\" x=\"119.794844\" y=\"49.812\"/>\n",
       "</g>\n",
       "<path style=\"fill:none;stroke-width:1.19553;stroke-linecap:butt;stroke-linejoin:miter;stroke:rgb(0%,0%,0%);stroke-opacity:1;stroke-miterlimit:10;\" d=\"M -43.874156 -14.173188 L -14.62025 -14.173188 \" transform=\"matrix(1,0,0,-1,71.464,28.944)\"/>\n",
       "<path style=\" stroke:none;fill-rule:nonzero;fill:rgb(0%,0%,0%);fill-opacity:1;\" d=\"M 62.582031 43.117188 C 60.882812 42.796875 58.121094 41.84375 56.207031 40.726562 L 56.207031 45.507812 C 58.121094 44.394531 60.882812 43.4375 62.582031 43.117188 \"/>\n",
       "</g>\n",
       "</svg>\n",
       "\n"
      ],
      "text/plain": [
       "TikzPictures.TikzPicture(L\"$    \\node(hist) [draw, fill=lightgray, minimum width=2.5cm, minimum height=1cm]{};\n",
       "    \\node(nc) at(-1,0.25) {1};\n",
       "    \\node(c) at(0.5,0.25) {\\\"Cleese\\\"};\n",
       "    \\draw[-latex](nc)--(c);\n",
       "    \\node(nj) at(-1,-0.25) {2};\n",
       "    \\node(j) at(0.5,-0.25) {\\\"John\\\"};\n",
       "    \\draw[-latex](nj)--(j);\n",
       "$\", \"very thick, scale=2, transform shape\", \"    \\\\usepackage{newtxmath}\\n    \\\\renewcommand{\\\\familydefault}{\\\\sfdefault}\\n    \\\\usepackage{cancel}\\n\", true, true)"
      ]
     },
     "execution_count": 84,
     "metadata": {},
     "output_type": "execute_result"
    }
   ],
   "source": [
    "using TikzPictures\n",
    "TikzPicture(L\"\"\"\n",
    "    \\node(hist) [draw, fill=lightgray, minimum width=2.5cm, minimum height=1cm]{};\n",
    "    \\node(nc) at(-1,0.25) {1};\n",
    "    \\node(c) at(0.5,0.25) {\"Cleese\"};\n",
    "    \\draw[-latex](nc)--(c);\n",
    "    \\node(nj) at(-1,-0.25) {2};\n",
    "    \\node(j) at(0.5,-0.25) {\"John\"};\n",
    "    \\draw[-latex](nj)--(j);\n",
    "\"\"\"; options=\"very thick, scale=2, transform shape\", preamble=\"\"\"\n",
    "    \\\\usepackage{newtxmath}\n",
    "    \\\\renewcommand{\\\\familydefault}{\\\\sfdefault}\n",
    "    \\\\usepackage{cancel}\n",
    "\"\"\")"
   ]
  },
  {
   "cell_type": "markdown",
   "metadata": {},
   "source": [
    "But in a larger diagram you might want to leave out the details."
   ]
  },
  {
   "cell_type": "code",
   "execution_count": 101,
   "metadata": {
    "hideCode": true,
    "hidePrompt": true
   },
   "outputs": [
    {
     "data": {
      "image/svg+xml": [
       "<?xml version=\"1.0\" encoding=\"UTF-8\"?>\n",
       "<svg xmlns=\"http://www.w3.org/2000/svg\" xmlns:xlink=\"http://www.w3.org/1999/xlink\" width=\"454.739pt\" height=\"174.94pt\" viewBox=\"0 0 454.739 174.94\" version=\"1.1\">\n",
       "<defs>\n",
       "<g>\n",
       "<symbol overflow=\"visible\" id=\"glyph-1518428330974440-0-0\">\n",
       "<path style=\"stroke:none;\" d=\"\"/>\n",
       "</symbol>\n",
       "<symbol overflow=\"visible\" id=\"glyph-1518428330974440-0-1\">\n",
       "<path style=\"stroke:none;\" d=\"M 6.609375 4.984375 C 5.65625 4.03125 3.125 1.453125 3.125 -4.984375 C 3.125 -6.09375 3.1875 -8.421875 4 -10.78125 C 4.828125 -13.09375 5.953125 -14.28125 6.609375 -14.9375 L 5.40625 -14.9375 C 4.765625 -14.34375 3.421875 -13.125 2.515625 -10.671875 C 1.71875 -8.546875 1.578125 -6.4375 1.578125 -4.984375 C 1.578125 1.453125 4.4375 4.109375 5.40625 4.984375 Z M 6.609375 4.984375 \"/>\n",
       "</symbol>\n",
       "<symbol overflow=\"visible\" id=\"glyph-1518428330974440-0-2\">\n",
       "<path style=\"stroke:none;\" d=\"M 3.609375 -12.1875 L 3.609375 -13.828125 L 1.953125 -13.828125 L 1.953125 -12.171875 L 2.453125 -12.171875 L 1.953125 -9.6875 L 2.765625 -9.6875 Z M 7.46875 -12.1875 L 7.46875 -13.828125 L 5.8125 -13.828125 L 5.8125 -12.171875 L 6.3125 -12.171875 L 5.8125 -9.6875 L 6.640625 -9.6875 Z M 7.46875 -12.1875 \"/>\n",
       "</symbol>\n",
       "<symbol overflow=\"visible\" id=\"glyph-1518428330974440-0-3\">\n",
       "<path style=\"stroke:none;\" d=\"M 11.6875 -0.890625 L 11.578125 -2.265625 C 11 -1.875 10.421875 -1.5 9.734375 -1.296875 C 9.109375 -1.078125 8.40625 -1.0625 7.734375 -1.0625 C 6.4375 -1.0625 5.265625 -1.75 4.4375 -2.765625 C 3.53125 -3.9375 3.09375 -5.421875 3.09375 -6.90625 C 3.09375 -8.40625 3.53125 -9.90625 4.4375 -11.078125 C 5.265625 -12.09375 6.4375 -12.796875 7.734375 -12.796875 C 8.328125 -12.796875 8.9375 -12.734375 9.515625 -12.546875 C 10.125 -12.375 10.671875 -12.078125 11.203125 -11.71875 L 11.46875 -13.34375 C 10.875 -13.59375 10.265625 -13.78125 9.625 -13.90625 C 9 -14.03125 8.359375 -14.0625 7.734375 -14.0625 C 5.96875 -14.0625 4.359375 -13.265625 3.1875 -11.96875 C 1.953125 -10.578125 1.3125 -8.765625 1.3125 -6.90625 C 1.3125 -5.0625 1.953125 -3.25 3.1875 -1.875 C 4.359375 -0.578125 5.96875 0.21875 7.734375 0.21875 C 8.421875 0.21875 9.125 0.203125 9.796875 0 C 10.484375 -0.171875 11.09375 -0.53125 11.6875 -0.890625 Z M 11.6875 -0.890625 \"/>\n",
       "</symbol>\n",
       "<symbol overflow=\"visible\" id=\"glyph-1518428330974440-0-4\">\n",
       "<path style=\"stroke:none;\" d=\"M 3.109375 0 L 3.109375 -13.828125 L 1.609375 -13.828125 L 1.609375 0 Z M 3.109375 0 \"/>\n",
       "</symbol>\n",
       "<symbol overflow=\"visible\" id=\"glyph-1518428330974440-0-5\">\n",
       "<path style=\"stroke:none;\" d=\"M 8.25 -4.359375 C 8.25 -5.046875 8.234375 -6.53125 7.453125 -7.734375 C 6.640625 -8.96875 5.421875 -9.1875 4.703125 -9.1875 C 2.484375 -9.1875 0.703125 -7.078125 0.703125 -4.5 C 0.703125 -1.875 2.609375 0.21875 5 0.21875 C 6.25 0.21875 7.390625 -0.265625 8.171875 -0.8125 L 8.046875 -2.109375 C 6.796875 -1.078125 5.484375 -1 5.015625 -1 C 3.421875 -1 2.15625 -2.40625 2.09375 -4.359375 Z M 7.109375 -5.453125 L 2.1875 -5.453125 C 2.515625 -6.96875 3.5625 -7.96875 4.703125 -7.96875 C 5.734375 -7.96875 6.859375 -7.296875 7.109375 -5.453125 Z M 7.109375 -5.453125 \"/>\n",
       "</symbol>\n",
       "<symbol overflow=\"visible\" id=\"glyph-1518428330974440-0-6\">\n",
       "<path style=\"stroke:none;\" d=\"M 7.171875 -2.546875 C 7.171875 -3.640625 6.4375 -4.328125 6.390625 -4.375 C 5.625 -5.078125 5.078125 -5.203125 4.078125 -5.375 C 2.984375 -5.59375 2.078125 -5.796875 2.078125 -6.765625 C 2.078125 -8.015625 3.5 -8.015625 3.765625 -8.015625 C 4.40625 -8.015625 5.453125 -7.921875 6.59375 -7.25 L 6.828125 -8.546875 C 5.796875 -9.03125 4.984375 -9.1875 3.96875 -9.1875 C 3.46875 -9.1875 0.65625 -9.1875 0.65625 -6.578125 C 0.65625 -5.59375 1.234375 -4.953125 1.734375 -4.578125 C 2.34375 -4.140625 2.78125 -4.0625 3.890625 -3.84375 C 4.609375 -3.703125 5.75 -3.46875 5.75 -2.40625 C 5.75 -1.03125 4.1875 -1.03125 3.890625 -1.03125 C 2.265625 -1.03125 1.15625 -1.765625 0.796875 -2.015625 L 0.5625 -0.65625 C 1.1875 -0.34375 2.296875 0.21875 3.90625 0.21875 C 4.265625 0.21875 5.359375 0.21875 6.21875 -0.421875 C 6.828125 -0.890625 7.171875 -1.6875 7.171875 -2.546875 Z M 7.171875 -2.546875 \"/>\n",
       "</symbol>\n",
       "<symbol overflow=\"visible\" id=\"glyph-1518428330974440-0-7\">\n",
       "<path style=\"stroke:none;\" d=\"M 3.578125 -0.015625 L 3.578125 -1.65625 L 1.9375 -1.65625 L 1.9375 0 L 2.4375 0 L 1.9375 2.484375 L 2.75 2.484375 Z M 3.578125 -0.015625 \"/>\n",
       "</symbol>\n",
       "<symbol overflow=\"visible\" id=\"glyph-1518428330974440-0-8\">\n",
       "<path style=\"stroke:none;\" d=\"M 7.734375 -2.96875 L 7.734375 -13.828125 L 6.015625 -13.828125 L 6.015625 -3.03125 C 6.015625 -2.6875 6.015625 -0.78125 3.671875 -0.78125 C 2.828125 -0.78125 1.796875 -1.140625 1.109375 -1.890625 L 0.84375 -0.390625 C 1.3125 -0.15625 2.5625 0.4375 4.25 0.4375 C 6.296875 0.4375 7.734375 -0.71875 7.734375 -2.96875 Z M 7.734375 -2.96875 \"/>\n",
       "</symbol>\n",
       "<symbol overflow=\"visible\" id=\"glyph-1518428330974440-0-9\">\n",
       "<path style=\"stroke:none;\" d=\"M 9.34375 -4.375 C 9.34375 -7.046875 7.34375 -9.1875 4.984375 -9.1875 C 2.53125 -9.1875 0.59375 -7 0.59375 -4.375 C 0.59375 -1.75 2.625 0.21875 4.953125 0.21875 C 7.34375 0.21875 9.34375 -1.796875 9.34375 -4.375 Z M 7.796875 -4.578125 C 7.796875 -2.234375 6.4375 -1.0625 4.953125 -1.0625 C 3.578125 -1.0625 2.15625 -2.171875 2.15625 -4.578125 C 2.15625 -7 3.671875 -7.96875 4.953125 -7.96875 C 6.359375 -7.96875 7.796875 -6.9375 7.796875 -4.578125 Z M 7.796875 -4.578125 \"/>\n",
       "</symbol>\n",
       "<symbol overflow=\"visible\" id=\"glyph-1518428330974440-0-10\">\n",
       "<path style=\"stroke:none;\" d=\"M 8.671875 0 L 8.671875 -5.9375 C 8.671875 -7.25 8.359375 -9.0625 5.9375 -9.0625 C 4.703125 -9.0625 3.75 -8.453125 3.109375 -7.625 L 3.109375 -13.828125 L 1.609375 -13.828125 L 1.609375 0 L 3.171875 0 L 3.171875 -4.875 C 3.171875 -6.203125 3.671875 -7.84375 5.171875 -7.84375 C 7.09375 -7.84375 7.109375 -6.4375 7.109375 -5.796875 L 7.109375 0 Z M 8.671875 0 \"/>\n",
       "</symbol>\n",
       "<symbol overflow=\"visible\" id=\"glyph-1518428330974440-0-11\">\n",
       "<path style=\"stroke:none;\" d=\"M 8.671875 0 L 8.671875 -5.9375 C 8.671875 -7.25 8.359375 -9.0625 5.9375 -9.0625 C 4.140625 -9.0625 3.171875 -7.703125 3.046875 -7.546875 L 3.046875 -8.96875 L 1.609375 -8.96875 L 1.609375 0 L 3.171875 0 L 3.171875 -4.875 C 3.171875 -6.203125 3.671875 -7.84375 5.171875 -7.84375 C 7.09375 -7.84375 7.109375 -6.4375 7.109375 -5.796875 L 7.109375 0 Z M 8.671875 0 \"/>\n",
       "</symbol>\n",
       "<symbol overflow=\"visible\" id=\"glyph-1518428330974440-0-12\">\n",
       "<path style=\"stroke:none;\" d=\"M 6.15625 -4.984375 C 6.15625 -11.421875 3.28125 -14.0625 2.328125 -14.9375 L 1.109375 -14.9375 C 2.078125 -13.984375 4.609375 -11.421875 4.609375 -4.984375 C 4.609375 -3.859375 4.546875 -1.53125 3.71875 0.8125 C 2.90625 3.125 1.765625 4.328125 1.109375 4.984375 L 2.328125 4.984375 C 2.96875 4.375 4.296875 3.171875 5.21875 0.71875 C 6.015625 -1.421875 6.15625 -3.53125 6.15625 -4.984375 Z M 6.15625 -4.984375 \"/>\n",
       "</symbol>\n",
       "<symbol overflow=\"visible\" id=\"glyph-1518428330974440-0-13\">\n",
       "<path style=\"stroke:none;\" d=\"M 9.109375 -6.5 C 9.109375 -8.0625 9.03125 -9.921875 8.1875 -11.53125 C 7.375 -13.03125 6 -13.5 4.984375 -13.5 C 3.8125 -13.5 2.40625 -12.96875 1.59375 -11.203125 C 0.9375 -9.734375 0.84375 -8.09375 0.84375 -6.5 C 0.84375 -4.921875 0.921875 -3.46875 1.515625 -2.015625 C 2.3125 -0.09375 3.828125 0.4375 4.953125 0.4375 C 6.421875 0.4375 7.671875 -0.375 8.3125 -1.75 C 8.90625 -3.046875 9.109375 -4.359375 9.109375 -6.5 Z M 7.546875 -6.734375 C 7.546875 -5.421875 7.546875 -4.15625 7.1875 -2.90625 C 6.671875 -1.09375 5.625 -0.78125 4.984375 -0.78125 C 3.9375 -0.78125 3.125 -1.53125 2.734375 -2.96875 C 2.40625 -4.109375 2.390625 -5.171875 2.390625 -6.734375 C 2.390625 -7.984375 2.390625 -9.1875 2.734375 -10.28125 C 2.84375 -10.65625 3.34375 -12.296875 4.953125 -12.296875 C 6.515625 -12.296875 7.03125 -10.78125 7.171875 -10.421875 C 7.546875 -9.296875 7.546875 -7.96875 7.546875 -6.734375 Z M 7.546875 -6.734375 \"/>\n",
       "</symbol>\n",
       "<symbol overflow=\"visible\" id=\"glyph-1518428330974440-0-14\">\n",
       "<path style=\"stroke:none;\" d=\"M 9.109375 -3.578125 C 9.109375 -5.40625 7.703125 -6.640625 6.359375 -7.046875 C 7.875 -7.875 8.5625 -9.21875 8.5625 -10.484375 C 8.5625 -12.1875 6.90625 -13.5 4.9375 -13.5 C 3.40625 -13.5 1.953125 -12.703125 1.109375 -11.3125 L 1.828125 -10.234375 C 2.40625 -11.640625 3.703125 -12.34375 4.921875 -12.34375 C 5.953125 -12.34375 6.9375 -11.75 6.9375 -10.484375 C 6.9375 -9.265625 6.109375 -8.09375 4.90625 -7.8125 C 4.78125 -7.796875 4.734375 -7.796875 3.328125 -7.671875 L 3.328125 -6.453125 L 4.734375 -6.453125 C 6.890625 -6.453125 7.328125 -4.609375 7.328125 -3.609375 C 7.328125 -2.046875 6.421875 -0.78125 4.875 -0.78125 C 3.5 -0.78125 1.9375 -1.46875 1.0625 -2.828125 L 0.84375 -1.640625 C 2.296875 0.234375 4.125 0.4375 4.921875 0.4375 C 7.34375 0.4375 9.109375 -1.5 9.109375 -3.578125 Z M 9.109375 -3.578125 \"/>\n",
       "</symbol>\n",
       "<symbol overflow=\"visible\" id=\"glyph-1518428330974440-0-15\">\n",
       "<path style=\"stroke:none;\" d=\"M 8.9375 0 L 8.9375 -1.421875 L 5.3125 -1.421875 C 5.078125 -1.421875 4.84375 -1.390625 4.609375 -1.390625 L 2.4375 -1.390625 C 3.0625 -1.953125 4.578125 -3.453125 5.203125 -4.03125 C 5.578125 -4.375 6.59375 -5.21875 6.96875 -5.578125 C 7.875 -6.46875 8.9375 -7.53125 8.9375 -9.21875 C 8.9375 -11.515625 7.328125 -13.5 4.703125 -13.5 C 2.4375 -13.5 1.3125 -11.953125 0.84375 -10.234375 C 1.078125 -9.90625 1.171875 -9.78125 1.21875 -9.71875 C 1.25 -9.6875 1.453125 -9.421875 1.65625 -9.140625 C 2.046875 -10.671875 2.609375 -12.234375 4.421875 -12.234375 C 6.296875 -12.234375 7.3125 -10.734375 7.3125 -9.1875 C 7.3125 -7.484375 6.171875 -6.359375 5 -5.15625 L 3.46875 -3.75 L 1 -1.28125 L 1 0 Z M 8.9375 0 \"/>\n",
       "</symbol>\n",
       "<symbol overflow=\"visible\" id=\"glyph-1518428330974440-0-16\">\n",
       "<path style=\"stroke:none;\" d=\"M 8.140625 0 L 8.140625 -5.75 C 8.140625 -7.796875 6.6875 -9.1875 4.859375 -9.1875 C 3.5625 -9.1875 2.671875 -8.859375 1.734375 -8.328125 L 1.859375 -7.015625 C 2.890625 -7.75 3.890625 -8.015625 4.859375 -8.015625 C 5.796875 -8.015625 6.59375 -7.21875 6.59375 -5.734375 L 6.59375 -4.875 C 3.609375 -4.84375 1.078125 -4 1.078125 -2.25 C 1.078125 -1.390625 1.609375 0.21875 3.34375 0.21875 C 3.625 0.21875 5.5 0.171875 6.65625 -0.71875 L 6.65625 0 Z M 6.59375 -2.625 C 6.59375 -2.25 6.59375 -1.75 5.921875 -1.375 C 5.34375 -1.015625 4.578125 -1 4.359375 -1 C 3.40625 -1 2.515625 -1.453125 2.515625 -2.296875 C 2.515625 -3.6875 5.734375 -3.828125 6.59375 -3.859375 Z M 6.59375 -2.625 \"/>\n",
       "</symbol>\n",
       "<symbol overflow=\"visible\" id=\"glyph-1518428330974440-0-17\">\n",
       "<path style=\"stroke:none;\" d=\"M 9.5625 -4.4375 C 9.5625 -6.828125 8.3125 -9.0625 6.390625 -9.0625 C 5.203125 -9.0625 4.046875 -8.640625 3.125 -7.875 L 3.125 -8.84375 L 1.640625 -8.84375 L 1.640625 3.859375 L 3.1875 3.859375 L 3.1875 -0.921875 C 3.8125 -0.34375 4.6875 0.21875 5.875 0.21875 C 7.8125 0.21875 9.5625 -1.734375 9.5625 -4.4375 Z M 8.015625 -4.4375 C 8.015625 -2.390625 6.59375 -1 5.09375 -1 C 4.328125 -1 3.78125 -1.390625 3.390625 -1.9375 C 3.1875 -2.234375 3.1875 -2.265625 3.1875 -2.625 L 3.1875 -6.640625 C 3.671875 -7.328125 4.4375 -7.796875 5.296875 -7.796875 C 6.8125 -7.796875 8.015625 -6.28125 8.015625 -4.4375 Z M 8.015625 -4.4375 \"/>\n",
       "</symbol>\n",
       "<symbol overflow=\"visible\" id=\"glyph-1518428330974440-0-18\">\n",
       "<path style=\"stroke:none;\" d=\"M 14.203125 0 L 14.203125 -5.9375 C 14.203125 -7.265625 13.890625 -9.0625 11.46875 -9.0625 C 10.28125 -9.0625 9.25 -8.5 8.5 -7.4375 C 7.984375 -8.9375 6.59375 -9.0625 5.953125 -9.0625 C 4.515625 -9.0625 3.578125 -8.25 3.046875 -7.53125 L 3.046875 -8.96875 L 1.609375 -8.96875 L 1.609375 0 L 3.171875 0 L 3.171875 -4.875 C 3.171875 -6.234375 3.703125 -7.84375 5.171875 -7.84375 C 7.03125 -7.84375 7.125 -6.546875 7.125 -5.796875 L 7.125 0 L 8.6875 0 L 8.6875 -4.875 C 8.6875 -6.234375 9.21875 -7.84375 10.703125 -7.84375 C 12.546875 -7.84375 12.65625 -6.546875 12.65625 -5.796875 L 12.65625 0 Z M 14.203125 0 \"/>\n",
       "</symbol>\n",
       "<symbol overflow=\"visible\" id=\"glyph-1518428330974440-0-19\">\n",
       "<path style=\"stroke:none;\" d=\"M 11.90625 -0.75 L 11.90625 -5.96875 L 7.734375 -5.96875 L 7.734375 -4.765625 L 10.359375 -4.765625 L 10.359375 -1.46875 C 9.515625 -1.1875 8.625 -1.0625 7.734375 -1.0625 C 6.4375 -1.0625 5.265625 -1.75 4.4375 -2.765625 C 3.53125 -3.9375 3.09375 -5.421875 3.09375 -6.90625 C 3.09375 -8.40625 3.53125 -9.90625 4.4375 -11.078125 C 5.265625 -12.09375 6.4375 -12.796875 7.734375 -12.796875 C 8.40625 -12.796875 9.0625 -12.703125 9.703125 -12.46875 C 10.359375 -12.25 10.9375 -11.875 11.453125 -11.4375 L 11.75 -13.0625 C 11.140625 -13.40625 10.484375 -13.671875 9.796875 -13.84375 C 9.125 -14 8.421875 -14.0625 7.734375 -14.0625 C 6 -14.0625 4.359375 -13.265625 3.1875 -11.96875 C 1.953125 -10.578125 1.3125 -8.765625 1.3125 -6.90625 C 1.3125 -5.0625 1.953125 -3.25 3.1875 -1.875 C 4.359375 -0.578125 6 0.21875 7.734375 0.21875 C 9.1875 0.21875 10.625 -0.125 11.90625 -0.75 Z M 11.90625 -0.75 \"/>\n",
       "</symbol>\n",
       "<symbol overflow=\"visible\" id=\"glyph-1518428330974440-0-20\">\n",
       "<path style=\"stroke:none;\" d=\"M 6.515625 -7.734375 L 6.515625 -9.0625 C 4.734375 -9.046875 3.640625 -8.0625 3.03125 -7.15625 L 3.03125 -8.96875 L 1.640625 -8.96875 L 1.640625 0 L 3.125 0 L 3.125 -4.265625 C 3.125 -6.25 4.5625 -7.6875 6.515625 -7.734375 Z M 6.515625 -7.734375 \"/>\n",
       "</symbol>\n",
       "<symbol overflow=\"visible\" id=\"glyph-1518428330974440-0-21\">\n",
       "<path style=\"stroke:none;\" d=\"M 8.453125 0 L 8.453125 -1.15625 L 5.953125 -1.15625 L 5.953125 -13.5 L 5.5625 -13.5 C 4.375 -12.296875 2.734375 -12.234375 1.765625 -12.1875 L 1.765625 -11.03125 C 2.4375 -11.0625 3.390625 -11.09375 4.375 -11.515625 L 4.375 -1.15625 L 1.890625 -1.15625 L 1.890625 0 Z M 8.453125 0 \"/>\n",
       "</symbol>\n",
       "<symbol overflow=\"visible\" id=\"glyph-1518428330974440-0-22\">\n",
       "<path style=\"stroke:none;\" d=\"M 3.640625 0 L 3.640625 -13.828125 L 1.875 -13.828125 L 1.875 0 Z M 3.640625 0 \"/>\n",
       "</symbol>\n",
       "<symbol overflow=\"visible\" id=\"glyph-1518428330974440-0-23\">\n",
       "<path style=\"stroke:none;\" d=\"M 8.640625 0 L 8.640625 -13.828125 L 7.15625 -13.828125 L 7.15625 -7.96875 C 6.09375 -8.84375 4.984375 -9.0625 4.25 -9.0625 C 2.265625 -9.0625 0.71875 -7 0.71875 -4.421875 C 0.71875 -1.8125 2.25 0.21875 4.140625 0.21875 C 4.796875 0.21875 5.96875 0.046875 7.09375 -1.03125 L 7.09375 0 Z M 7.09375 -2.765625 C 7.09375 -2.484375 7.078125 -2.125 6.4375 -1.546875 C 5.96875 -1.15625 5.484375 -1 4.953125 -1 C 3.71875 -1 2.265625 -1.9375 2.265625 -4.40625 C 2.265625 -7.03125 3.984375 -7.84375 5.15625 -7.84375 C 6.0625 -7.84375 6.65625 -7.390625 7.09375 -6.75 Z M 7.09375 -2.765625 \"/>\n",
       "</symbol>\n",
       "<symbol overflow=\"visible\" id=\"glyph-1518428330974440-0-24\">\n",
       "<path style=\"stroke:none;\" d=\"M 11.03125 0 L 11.03125 -1.421875 L 8.53125 -1.421875 C 8.28125 -1.421875 8.046875 -1.390625 7.8125 -1.390625 L 3.640625 -1.390625 L 3.640625 -6.546875 L 10.21875 -6.546875 L 10.21875 -7.765625 L 3.640625 -7.765625 L 3.640625 -12.484375 L 6.390625 -12.484375 C 6.640625 -12.484375 6.875 -12.46875 7.109375 -12.46875 L 10.75 -12.46875 L 10.75 -13.765625 L 1.875 -13.765625 L 1.875 0 Z M 11.03125 0 \"/>\n",
       "</symbol>\n",
       "<symbol overflow=\"visible\" id=\"glyph-1518428330974440-0-25\">\n",
       "<path style=\"stroke:none;\" d=\"M 3.109375 0 L 3.109375 -8.84375 L 1.609375 -8.84375 L 1.609375 0 Z M 3.265625 -11.28125 L 3.265625 -13.046875 L 1.5 -13.046875 L 1.5 -11.28125 Z M 3.265625 -11.28125 \"/>\n",
       "</symbol>\n",
       "<symbol overflow=\"visible\" id=\"glyph-1518428330974440-0-26\">\n",
       "<path style=\"stroke:none;\" d=\"M 8.265625 -0.796875 L 8.140625 -2.125 C 7.125 -1.328125 6.0625 -1.0625 5.046875 -1.0625 C 3.390625 -1.0625 2.265625 -2.484375 2.265625 -4.4375 C 2.265625 -6 3.015625 -7.90625 5.125 -7.90625 C 6.15625 -7.90625 6.828125 -7.75 7.921875 -7.03125 L 8.171875 -8.328125 C 7 -9 6.3125 -9.1875 5.09375 -9.1875 C 2.328125 -9.1875 0.71875 -6.765625 0.71875 -4.421875 C 0.71875 -1.953125 2.53125 0.21875 5.015625 0.21875 C 6.09375 0.21875 7.1875 -0.0625 8.265625 -0.796875 Z M 8.265625 -0.796875 \"/>\n",
       "</symbol>\n",
       "<symbol overflow=\"visible\" id=\"glyph-1518428330974440-0-27\">\n",
       "<path style=\"stroke:none;\" d=\"M 12.828125 -12.40625 L 12.828125 -13.703125 L 0.71875 -13.703125 L 0.71875 -12.40625 L 3.390625 -12.40625 C 3.625 -12.40625 3.859375 -12.4375 4.109375 -12.4375 L 5.890625 -12.4375 L 5.890625 0 L 7.671875 0 L 7.671875 -12.4375 L 9.4375 -12.4375 C 9.6875 -12.4375 9.921875 -12.40625 10.15625 -12.40625 Z M 12.828125 -12.40625 \"/>\n",
       "</symbol>\n",
       "<symbol overflow=\"visible\" id=\"glyph-1518428330974440-0-28\">\n",
       "<path style=\"stroke:none;\" d=\"M 8.890625 -8.84375 L 7.390625 -8.84375 C 4.796875 -2.515625 4.765625 -1.59375 4.734375 -1.140625 L 4.71875 -1.140625 C 4.609375 -2.46875 3.015625 -6.171875 2.921875 -6.359375 L 1.859375 -8.84375 L 0.28125 -8.84375 L 4.140625 0 L 3.421875 1.796875 C 2.90625 2.953125 2.5625 2.953125 2.296875 2.953125 C 1.96875 2.953125 1.328125 2.875 0.734375 2.625 L 0.859375 3.921875 C 1.296875 4.03125 1.859375 4.078125 2.296875 4.078125 C 2.984375 4.078125 3.71875 3.84375 4.546875 1.8125 Z M 8.890625 -8.84375 \"/>\n",
       "</symbol>\n",
       "<symbol overflow=\"visible\" id=\"glyph-1518428330974440-0-29\">\n",
       "<path style=\"stroke:none;\" d=\"M 9.390625 -3.40625 L 9.390625 -4.625 L 7.40625 -4.625 L 7.40625 -13.0625 L 5.59375 -13.0625 L 0.5625 -4.625 L 0.5625 -3.40625 L 5.84375 -3.40625 L 5.84375 0 L 7.40625 0 L 7.40625 -3.40625 Z M 5.953125 -4.625 L 2.109375 -4.625 C 3.140625 -6.328125 5.9375 -11.0625 5.953125 -12.1875 Z M 5.953125 -4.625 \"/>\n",
       "</symbol>\n",
       "<symbol overflow=\"visible\" id=\"glyph-1518428330974440-0-30\">\n",
       "<path style=\"stroke:none;\" d=\"M 11.59375 -9.796875 C 11.59375 -11.9375 9.625 -13.828125 6.875 -13.828125 L 1.90625 -13.828125 L 1.90625 0 L 3.6875 0 L 3.6875 -5.75 L 7.015625 -5.75 C 9.484375 -5.75 11.59375 -7.5625 11.59375 -9.796875 Z M 9.984375 -9.796875 C 9.984375 -8.234375 8.71875 -6.90625 6.4375 -6.90625 L 3.625 -6.90625 L 3.625 -12.703125 L 6.4375 -12.703125 C 8.625 -12.703125 9.984375 -11.5 9.984375 -9.796875 Z M 9.984375 -9.796875 \"/>\n",
       "</symbol>\n",
       "<symbol overflow=\"visible\" id=\"glyph-1518428330974440-0-31\">\n",
       "<path style=\"stroke:none;\" d=\"M 15.421875 0 L 15.421875 -13.828125 L 13.140625 -13.828125 L 10.5625 -7.078125 C 9.859375 -5.265625 8.921875 -2.78125 8.703125 -1.859375 L 8.6875 -1.859375 C 8.59375 -2.265625 8.34375 -3.015625 8.046875 -3.84375 L 4.921875 -12.09375 L 4.25 -13.828125 L 1.984375 -13.828125 L 1.984375 0 L 3.546875 0 L 3.546875 -12.34375 L 3.5625 -12.34375 C 3.6875 -11.71875 4.484375 -9.546875 5 -8.1875 L 7.953125 -0.4375 L 9.40625 -0.4375 L 12.046875 -7.375 L 13.015625 -9.90625 C 13.203125 -10.484375 13.75 -11.90625 13.84375 -12.375 L 13.859375 -12.34375 L 13.859375 0 Z M 15.421875 0 \"/>\n",
       "</symbol>\n",
       "<symbol overflow=\"visible\" id=\"glyph-1518428330974440-0-32\">\n",
       "<path style=\"stroke:none;\" d=\"M 8.9375 -4.046875 C 8.9375 -6.53125 7.234375 -8.5 5.171875 -8.5 C 4.375 -8.5 3.625 -8.203125 3.046875 -7.6875 L 3.046875 -11.796875 L 8.28125 -11.796875 L 8.28125 -13.0625 L 1.609375 -13.0625 L 1.609375 -5.71875 L 2.921875 -5.71875 C 3.265625 -6.515625 4 -7.296875 5.15625 -7.296875 C 6.09375 -7.296875 7.171875 -6.46875 7.171875 -4.078125 C 7.171875 -0.78125 4.734375 -0.78125 4.5625 -0.78125 C 3.234375 -0.78125 2.015625 -1.546875 1.4375 -2.625 L 0.78125 -1.515625 C 1.59375 -0.375 2.96875 0.4375 4.578125 0.4375 C 6.953125 0.4375 8.9375 -1.53125 8.9375 -4.046875 Z M 8.9375 -4.046875 \"/>\n",
       "</symbol>\n",
       "</g>\n",
       "<clipPath id=\"clip-1518428330974440-1\">\n",
       "  <path d=\"M 0 2 L 454.738281 2 L 454.738281 173 L 0 173 Z M 0 2 \"/>\n",
       "</clipPath>\n",
       "<clipPath id=\"clip-1518428330974440-2\">\n",
       "  <path d=\"M 0 1 L 454.738281 1 L 454.738281 174 L 0 174 Z M 0 1 \"/>\n",
       "</clipPath>\n",
       "</defs>\n",
       "<g id=\"surface1\">\n",
       "<g clip-path=\"url(#clip-1518428330974440-1)\" clip-rule=\"nonzero\">\n",
       "<path style=\" stroke:none;fill-rule:nonzero;fill:rgb(75%,75%,75%);fill-opacity:1;\" d=\"M 454.144531 2.429688 L 0.59375 2.429688 L 0.59375 172.511719 L 454.144531 172.511719 Z M 454.144531 2.429688 \"/>\n",
       "</g>\n",
       "<g clip-path=\"url(#clip-1518428330974440-2)\" clip-rule=\"nonzero\">\n",
       "<path style=\"fill:none;stroke-width:1.19553;stroke-linecap:butt;stroke-linejoin:miter;stroke:rgb(0%,0%,0%);stroke-opacity:1;stroke-miterlimit:10;\" d=\"M 226.775531 85.040312 L -226.77525 85.040312 L -226.77525 -85.041719 L 226.775531 -85.041719 Z M 226.775531 85.040312 \" transform=\"matrix(1,0,0,-1,227.369,87.47)\"/>\n",
       "</g>\n",
       "<g style=\"fill:rgb(0%,0%,0%);fill-opacity:1;\">\n",
       "  <use xlink:href=\"#glyph-1518428330974440-0-1\" x=\"38.835\" y=\"21.585\"/>\n",
       "  <use xlink:href=\"#glyph-1518428330974440-0-2\" x=\"46.585934\" y=\"21.585\"/>\n",
       "  <use xlink:href=\"#glyph-1518428330974440-0-3\" x=\"55.990666\" y=\"21.585\"/>\n",
       "  <use xlink:href=\"#glyph-1518428330974440-0-4\" x=\"68.72292\" y=\"21.585\"/>\n",
       "  <use xlink:href=\"#glyph-1518428330974440-0-5\" x=\"73.485062\" y=\"21.585\"/>\n",
       "  <use xlink:href=\"#glyph-1518428330974440-0-5\" x=\"82.331886\" y=\"21.585\"/>\n",
       "  <use xlink:href=\"#glyph-1518428330974440-0-6\" x=\"91.178711\" y=\"21.585\"/>\n",
       "  <use xlink:href=\"#glyph-1518428330974440-0-5\" x=\"98.810093\" y=\"21.585\"/>\n",
       "  <use xlink:href=\"#glyph-1518428330974440-0-2\" x=\"107.656917\" y=\"21.585\"/>\n",
       "  <use xlink:href=\"#glyph-1518428330974440-0-7\" x=\"117.061649\" y=\"21.585\"/>\n",
       "  <use xlink:href=\"#glyph-1518428330974440-0-2\" x=\"122.600877\" y=\"21.585\"/>\n",
       "  <use xlink:href=\"#glyph-1518428330974440-0-8\" x=\"132.005609\" y=\"21.585\"/>\n",
       "  <use xlink:href=\"#glyph-1518428330974440-0-9\" x=\"141.410341\" y=\"21.585\"/>\n",
       "  <use xlink:href=\"#glyph-1518428330974440-0-10\" x=\"151.372981\" y=\"21.585\"/>\n",
       "  <use xlink:href=\"#glyph-1518428330974440-0-11\" x=\"161.674351\" y=\"21.585\"/>\n",
       "  <use xlink:href=\"#glyph-1518428330974440-0-2\" x=\"171.975721\" y=\"21.585\"/>\n",
       "  <use xlink:href=\"#glyph-1518428330974440-0-12\" x=\"181.380453\" y=\"21.585\"/>\n",
       "</g>\n",
       "<g style=\"fill:rgb(0%,0%,0%);fill-opacity:1;\">\n",
       "  <use xlink:href=\"#glyph-1518428330974440-0-13\" x=\"275.998\" y=\"23.14\"/>\n",
       "  <use xlink:href=\"#glyph-1518428330974440-0-13\" x=\"285.96064\" y=\"23.14\"/>\n",
       "  <use xlink:href=\"#glyph-1518428330974440-0-14\" x=\"295.92328\" y=\"23.14\"/>\n",
       "  <use xlink:href=\"#glyph-1518428330974440-0-15\" x=\"305.88592\" y=\"23.14\"/>\n",
       "  <use xlink:href=\"#glyph-1518428330974440-0-13\" x=\"315.84856\" y=\"23.14\"/>\n",
       "  <use xlink:href=\"#glyph-1518428330974440-0-15\" x=\"325.8112\" y=\"23.14\"/>\n",
       "  <use xlink:href=\"#glyph-1518428330974440-0-13\" x=\"335.77384\" y=\"23.14\"/>\n",
       "  <use xlink:href=\"#glyph-1518428330974440-0-13\" x=\"345.73648\" y=\"23.14\"/>\n",
       "  <use xlink:href=\"#glyph-1518428330974440-0-13\" x=\"355.69912\" y=\"23.14\"/>\n",
       "  <use xlink:href=\"#glyph-1518428330974440-0-13\" x=\"365.66176\" y=\"23.14\"/>\n",
       "  <use xlink:href=\"#glyph-1518428330974440-0-13\" x=\"375.6244\" y=\"23.14\"/>\n",
       "  <use xlink:href=\"#glyph-1518428330974440-0-13\" x=\"385.58704\" y=\"23.14\"/>\n",
       "  <use xlink:href=\"#glyph-1518428330974440-0-13\" x=\"395.54968\" y=\"23.14\"/>\n",
       "</g>\n",
       "<path style=\"fill:none;stroke-width:1.19553;stroke-linecap:butt;stroke-linejoin:miter;stroke:rgb(0%,0%,0%);stroke-opacity:1;stroke-miterlimit:10;\" d=\"M -30.40025 70.868437 L 35.052875 70.868437 \" transform=\"matrix(1,0,0,-1,227.369,87.47)\"/>\n",
       "<path style=\" stroke:none;fill-rule:nonzero;fill:rgb(0%,0%,0%);fill-opacity:1;\" d=\"M 268.160156 16.601562 C 266.460938 16.285156 263.699219 15.328125 261.785156 14.210938 L 261.785156 18.992188 C 263.699219 17.878906 266.460938 16.921875 268.160156 16.601562 \"/>\n",
       "<g style=\"fill:rgb(0%,0%,0%);fill-opacity:1;\">\n",
       "  <use xlink:href=\"#glyph-1518428330974440-0-1\" x=\"12.644\" y=\"49.932\"/>\n",
       "  <use xlink:href=\"#glyph-1518428330974440-0-2\" x=\"20.394934\" y=\"49.932\"/>\n",
       "  <use xlink:href=\"#glyph-1518428330974440-0-3\" x=\"29.799666\" y=\"49.932\"/>\n",
       "  <use xlink:href=\"#glyph-1518428330974440-0-10\" x=\"42.53192\" y=\"49.932\"/>\n",
       "  <use xlink:href=\"#glyph-1518428330974440-0-16\" x=\"52.83329\" y=\"49.932\"/>\n",
       "  <use xlink:href=\"#glyph-1518428330974440-0-17\" x=\"62.417349\" y=\"49.932\"/>\n",
       "  <use xlink:href=\"#glyph-1518428330974440-0-18\" x=\"72.718719\" y=\"49.932\"/>\n",
       "  <use xlink:href=\"#glyph-1518428330974440-0-16\" x=\"88.539392\" y=\"49.932\"/>\n",
       "  <use xlink:href=\"#glyph-1518428330974440-0-11\" x=\"98.123451\" y=\"49.932\"/>\n",
       "  <use xlink:href=\"#glyph-1518428330974440-0-2\" x=\"108.424821\" y=\"49.932\"/>\n",
       "  <use xlink:href=\"#glyph-1518428330974440-0-7\" x=\"117.829553\" y=\"49.932\"/>\n",
       "  <use xlink:href=\"#glyph-1518428330974440-0-2\" x=\"123.368781\" y=\"49.932\"/>\n",
       "  <use xlink:href=\"#glyph-1518428330974440-0-19\" x=\"132.773513\" y=\"49.932\"/>\n",
       "  <use xlink:href=\"#glyph-1518428330974440-0-20\" x=\"146.063675\" y=\"49.932\"/>\n",
       "  <use xlink:href=\"#glyph-1518428330974440-0-16\" x=\"152.878121\" y=\"49.932\"/>\n",
       "  <use xlink:href=\"#glyph-1518428330974440-0-10\" x=\"162.46218\" y=\"49.932\"/>\n",
       "  <use xlink:href=\"#glyph-1518428330974440-0-16\" x=\"172.76355\" y=\"49.932\"/>\n",
       "  <use xlink:href=\"#glyph-1518428330974440-0-18\" x=\"182.34761\" y=\"49.932\"/>\n",
       "  <use xlink:href=\"#glyph-1518428330974440-0-2\" x=\"198.168282\" y=\"49.932\"/>\n",
       "  <use xlink:href=\"#glyph-1518428330974440-0-12\" x=\"207.573014\" y=\"49.932\"/>\n",
       "</g>\n",
       "<g style=\"fill:rgb(0%,0%,0%);fill-opacity:1;\">\n",
       "  <use xlink:href=\"#glyph-1518428330974440-0-13\" x=\"275.998\" y=\"51.486\"/>\n",
       "  <use xlink:href=\"#glyph-1518428330974440-0-13\" x=\"285.96064\" y=\"51.486\"/>\n",
       "  <use xlink:href=\"#glyph-1518428330974440-0-14\" x=\"295.92328\" y=\"51.486\"/>\n",
       "  <use xlink:href=\"#glyph-1518428330974440-0-15\" x=\"305.88592\" y=\"51.486\"/>\n",
       "  <use xlink:href=\"#glyph-1518428330974440-0-13\" x=\"315.84856\" y=\"51.486\"/>\n",
       "  <use xlink:href=\"#glyph-1518428330974440-0-15\" x=\"325.8112\" y=\"51.486\"/>\n",
       "  <use xlink:href=\"#glyph-1518428330974440-0-13\" x=\"335.77384\" y=\"51.486\"/>\n",
       "  <use xlink:href=\"#glyph-1518428330974440-0-13\" x=\"345.73648\" y=\"51.486\"/>\n",
       "  <use xlink:href=\"#glyph-1518428330974440-0-13\" x=\"355.69912\" y=\"51.486\"/>\n",
       "  <use xlink:href=\"#glyph-1518428330974440-0-13\" x=\"365.66176\" y=\"51.486\"/>\n",
       "  <use xlink:href=\"#glyph-1518428330974440-0-13\" x=\"375.6244\" y=\"51.486\"/>\n",
       "  <use xlink:href=\"#glyph-1518428330974440-0-13\" x=\"385.58704\" y=\"51.486\"/>\n",
       "  <use xlink:href=\"#glyph-1518428330974440-0-21\" x=\"395.54968\" y=\"51.486\"/>\n",
       "</g>\n",
       "<path style=\"fill:none;stroke-width:1.19553;stroke-linecap:butt;stroke-linejoin:miter;stroke:rgb(0%,0%,0%);stroke-opacity:1;stroke-miterlimit:10;\" d=\"M -4.208844 42.520781 L 35.052875 42.520781 \" transform=\"matrix(1,0,0,-1,227.369,87.47)\"/>\n",
       "<path style=\" stroke:none;fill-rule:nonzero;fill:rgb(0%,0%,0%);fill-opacity:1;\" d=\"M 268.160156 44.949219 C 266.460938 44.632812 263.699219 43.675781 261.785156 42.558594 L 261.785156 47.339844 C 263.699219 46.226562 266.460938 45.269531 268.160156 44.949219 \"/>\n",
       "<g style=\"fill:rgb(0%,0%,0%);fill-opacity:1;\">\n",
       "  <use xlink:href=\"#glyph-1518428330974440-0-1\" x=\"53.769\" y=\"78.278\"/>\n",
       "  <use xlink:href=\"#glyph-1518428330974440-0-2\" x=\"61.519934\" y=\"78.278\"/>\n",
       "  <use xlink:href=\"#glyph-1518428330974440-0-22\" x=\"70.924666\" y=\"78.278\"/>\n",
       "  <use xlink:href=\"#glyph-1518428330974440-0-23\" x=\"76.463894\" y=\"78.278\"/>\n",
       "  <use xlink:href=\"#glyph-1518428330974440-0-4\" x=\"86.765264\" y=\"78.278\"/>\n",
       "  <use xlink:href=\"#glyph-1518428330974440-0-5\" x=\"91.527406\" y=\"78.278\"/>\n",
       "  <use xlink:href=\"#glyph-1518428330974440-0-2\" x=\"100.37423\" y=\"78.278\"/>\n",
       "  <use xlink:href=\"#glyph-1518428330974440-0-7\" x=\"109.778962\" y=\"78.278\"/>\n",
       "  <use xlink:href=\"#glyph-1518428330974440-0-2\" x=\"115.31819\" y=\"78.278\"/>\n",
       "  <use xlink:href=\"#glyph-1518428330974440-0-24\" x=\"124.722922\" y=\"78.278\"/>\n",
       "  <use xlink:href=\"#glyph-1518428330974440-0-20\" x=\"136.618314\" y=\"78.278\"/>\n",
       "  <use xlink:href=\"#glyph-1518428330974440-0-25\" x=\"143.43276\" y=\"78.278\"/>\n",
       "  <use xlink:href=\"#glyph-1518428330974440-0-26\" x=\"148.194902\" y=\"78.278\"/>\n",
       "  <use xlink:href=\"#glyph-1518428330974440-0-2\" x=\"157.041726\" y=\"78.278\"/>\n",
       "  <use xlink:href=\"#glyph-1518428330974440-0-12\" x=\"166.446458\" y=\"78.278\"/>\n",
       "</g>\n",
       "<g style=\"fill:rgb(0%,0%,0%);fill-opacity:1;\">\n",
       "  <use xlink:href=\"#glyph-1518428330974440-0-13\" x=\"275.998\" y=\"79.832\"/>\n",
       "  <use xlink:href=\"#glyph-1518428330974440-0-13\" x=\"285.96064\" y=\"79.832\"/>\n",
       "  <use xlink:href=\"#glyph-1518428330974440-0-14\" x=\"295.92328\" y=\"79.832\"/>\n",
       "  <use xlink:href=\"#glyph-1518428330974440-0-15\" x=\"305.88592\" y=\"79.832\"/>\n",
       "  <use xlink:href=\"#glyph-1518428330974440-0-13\" x=\"315.84856\" y=\"79.832\"/>\n",
       "  <use xlink:href=\"#glyph-1518428330974440-0-15\" x=\"325.8112\" y=\"79.832\"/>\n",
       "  <use xlink:href=\"#glyph-1518428330974440-0-13\" x=\"335.77384\" y=\"79.832\"/>\n",
       "  <use xlink:href=\"#glyph-1518428330974440-0-13\" x=\"345.73648\" y=\"79.832\"/>\n",
       "  <use xlink:href=\"#glyph-1518428330974440-0-13\" x=\"355.69912\" y=\"79.832\"/>\n",
       "  <use xlink:href=\"#glyph-1518428330974440-0-13\" x=\"365.66176\" y=\"79.832\"/>\n",
       "  <use xlink:href=\"#glyph-1518428330974440-0-13\" x=\"375.6244\" y=\"79.832\"/>\n",
       "  <use xlink:href=\"#glyph-1518428330974440-0-13\" x=\"385.58704\" y=\"79.832\"/>\n",
       "  <use xlink:href=\"#glyph-1518428330974440-0-15\" x=\"395.54968\" y=\"79.832\"/>\n",
       "</g>\n",
       "<path style=\"fill:none;stroke-width:1.19553;stroke-linecap:butt;stroke-linejoin:miter;stroke:rgb(0%,0%,0%);stroke-opacity:1;stroke-miterlimit:10;\" d=\"M -45.333844 14.173125 L 35.052875 14.173125 \" transform=\"matrix(1,0,0,-1,227.369,87.47)\"/>\n",
       "<path style=\" stroke:none;fill-rule:nonzero;fill:rgb(0%,0%,0%);fill-opacity:1;\" d=\"M 268.160156 73.296875 C 266.460938 72.976562 263.699219 72.019531 261.785156 70.90625 L 261.785156 75.6875 C 263.699219 74.570312 266.460938 73.617188 268.160156 73.296875 \"/>\n",
       "<g style=\"fill:rgb(0%,0%,0%);fill-opacity:1;\">\n",
       "  <use xlink:href=\"#glyph-1518428330974440-0-1\" x=\"33.994\" y=\"106.625\"/>\n",
       "  <use xlink:href=\"#glyph-1518428330974440-0-2\" x=\"41.744934\" y=\"106.625\"/>\n",
       "  <use xlink:href=\"#glyph-1518428330974440-0-19\" x=\"51.149666\" y=\"106.625\"/>\n",
       "  <use xlink:href=\"#glyph-1518428330974440-0-25\" x=\"64.439828\" y=\"106.625\"/>\n",
       "  <use xlink:href=\"#glyph-1518428330974440-0-4\" x=\"69.20197\" y=\"106.625\"/>\n",
       "  <use xlink:href=\"#glyph-1518428330974440-0-4\" x=\"73.964112\" y=\"106.625\"/>\n",
       "  <use xlink:href=\"#glyph-1518428330974440-0-25\" x=\"78.726254\" y=\"106.625\"/>\n",
       "  <use xlink:href=\"#glyph-1518428330974440-0-16\" x=\"83.488396\" y=\"106.625\"/>\n",
       "  <use xlink:href=\"#glyph-1518428330974440-0-18\" x=\"93.072455\" y=\"106.625\"/>\n",
       "  <use xlink:href=\"#glyph-1518428330974440-0-2\" x=\"108.893128\" y=\"106.625\"/>\n",
       "  <use xlink:href=\"#glyph-1518428330974440-0-7\" x=\"118.29786\" y=\"106.625\"/>\n",
       "  <use xlink:href=\"#glyph-1518428330974440-0-2\" x=\"123.837088\" y=\"106.625\"/>\n",
       "  <use xlink:href=\"#glyph-1518428330974440-0-27\" x=\"133.24182\" y=\"106.625\"/>\n",
       "</g>\n",
       "<g style=\"fill:rgb(0%,0%,0%);fill-opacity:1;\">\n",
       "  <use xlink:href=\"#glyph-1518428330974440-0-5\" x=\"145.157137\" y=\"106.625\"/>\n",
       "  <use xlink:href=\"#glyph-1518428330974440-0-20\" x=\"154.003961\" y=\"106.625\"/>\n",
       "  <use xlink:href=\"#glyph-1518428330974440-0-20\" x=\"160.818407\" y=\"106.625\"/>\n",
       "  <use xlink:href=\"#glyph-1518428330974440-0-28\" x=\"167.632853\" y=\"106.625\"/>\n",
       "  <use xlink:href=\"#glyph-1518428330974440-0-2\" x=\"176.818407\" y=\"106.625\"/>\n",
       "  <use xlink:href=\"#glyph-1518428330974440-0-12\" x=\"186.223139\" y=\"106.625\"/>\n",
       "</g>\n",
       "<g style=\"fill:rgb(0%,0%,0%);fill-opacity:1;\">\n",
       "  <use xlink:href=\"#glyph-1518428330974440-0-13\" x=\"275.998\" y=\"108.179\"/>\n",
       "  <use xlink:href=\"#glyph-1518428330974440-0-13\" x=\"285.96064\" y=\"108.179\"/>\n",
       "  <use xlink:href=\"#glyph-1518428330974440-0-14\" x=\"295.92328\" y=\"108.179\"/>\n",
       "  <use xlink:href=\"#glyph-1518428330974440-0-15\" x=\"305.88592\" y=\"108.179\"/>\n",
       "  <use xlink:href=\"#glyph-1518428330974440-0-13\" x=\"315.84856\" y=\"108.179\"/>\n",
       "  <use xlink:href=\"#glyph-1518428330974440-0-15\" x=\"325.8112\" y=\"108.179\"/>\n",
       "  <use xlink:href=\"#glyph-1518428330974440-0-13\" x=\"335.77384\" y=\"108.179\"/>\n",
       "  <use xlink:href=\"#glyph-1518428330974440-0-13\" x=\"345.73648\" y=\"108.179\"/>\n",
       "  <use xlink:href=\"#glyph-1518428330974440-0-13\" x=\"355.69912\" y=\"108.179\"/>\n",
       "  <use xlink:href=\"#glyph-1518428330974440-0-13\" x=\"365.66176\" y=\"108.179\"/>\n",
       "  <use xlink:href=\"#glyph-1518428330974440-0-13\" x=\"375.6244\" y=\"108.179\"/>\n",
       "  <use xlink:href=\"#glyph-1518428330974440-0-13\" x=\"385.58704\" y=\"108.179\"/>\n",
       "  <use xlink:href=\"#glyph-1518428330974440-0-14\" x=\"395.54968\" y=\"108.179\"/>\n",
       "</g>\n",
       "<path style=\"fill:none;stroke-width:1.19553;stroke-linecap:butt;stroke-linejoin:miter;stroke:rgb(0%,0%,0%);stroke-opacity:1;stroke-miterlimit:10;\" d=\"M -25.560406 -14.174531 L 35.052875 -14.174531 \" transform=\"matrix(1,0,0,-1,227.369,87.47)\"/>\n",
       "<path style=\" stroke:none;fill-rule:nonzero;fill:rgb(0%,0%,0%);fill-opacity:1;\" d=\"M 268.160156 101.644531 C 266.460938 101.324219 263.699219 100.367188 261.785156 99.253906 L 261.785156 104.035156 C 263.699219 102.917969 266.460938 101.960938 268.160156 101.644531 \"/>\n",
       "<g style=\"fill:rgb(0%,0%,0%);fill-opacity:1;\">\n",
       "  <use xlink:href=\"#glyph-1518428330974440-0-1\" x=\"39.792\" y=\"134.971\"/>\n",
       "  <use xlink:href=\"#glyph-1518428330974440-0-2\" x=\"47.542934\" y=\"134.971\"/>\n",
       "  <use xlink:href=\"#glyph-1518428330974440-0-8\" x=\"56.947666\" y=\"134.971\"/>\n",
       "  <use xlink:href=\"#glyph-1518428330974440-0-9\" x=\"66.352398\" y=\"134.971\"/>\n",
       "  <use xlink:href=\"#glyph-1518428330974440-0-11\" x=\"76.315038\" y=\"134.971\"/>\n",
       "  <use xlink:href=\"#glyph-1518428330974440-0-5\" x=\"86.616408\" y=\"134.971\"/>\n",
       "  <use xlink:href=\"#glyph-1518428330974440-0-6\" x=\"95.463232\" y=\"134.971\"/>\n",
       "  <use xlink:href=\"#glyph-1518428330974440-0-2\" x=\"103.094615\" y=\"134.971\"/>\n",
       "  <use xlink:href=\"#glyph-1518428330974440-0-7\" x=\"112.499347\" y=\"134.971\"/>\n",
       "  <use xlink:href=\"#glyph-1518428330974440-0-2\" x=\"118.038575\" y=\"134.971\"/>\n",
       "  <use xlink:href=\"#glyph-1518428330974440-0-27\" x=\"127.443307\" y=\"134.971\"/>\n",
       "</g>\n",
       "<g style=\"fill:rgb(0%,0%,0%);fill-opacity:1;\">\n",
       "  <use xlink:href=\"#glyph-1518428330974440-0-5\" x=\"139.358624\" y=\"134.971\"/>\n",
       "  <use xlink:href=\"#glyph-1518428330974440-0-20\" x=\"148.205448\" y=\"134.971\"/>\n",
       "  <use xlink:href=\"#glyph-1518428330974440-0-20\" x=\"155.019894\" y=\"134.971\"/>\n",
       "  <use xlink:href=\"#glyph-1518428330974440-0-28\" x=\"161.83434\" y=\"134.971\"/>\n",
       "  <use xlink:href=\"#glyph-1518428330974440-0-2\" x=\"171.019894\" y=\"134.971\"/>\n",
       "  <use xlink:href=\"#glyph-1518428330974440-0-12\" x=\"180.424626\" y=\"134.971\"/>\n",
       "</g>\n",
       "<g style=\"fill:rgb(0%,0%,0%);fill-opacity:1;\">\n",
       "  <use xlink:href=\"#glyph-1518428330974440-0-13\" x=\"275.998\" y=\"136.525\"/>\n",
       "  <use xlink:href=\"#glyph-1518428330974440-0-13\" x=\"285.96064\" y=\"136.525\"/>\n",
       "  <use xlink:href=\"#glyph-1518428330974440-0-14\" x=\"295.92328\" y=\"136.525\"/>\n",
       "  <use xlink:href=\"#glyph-1518428330974440-0-15\" x=\"305.88592\" y=\"136.525\"/>\n",
       "  <use xlink:href=\"#glyph-1518428330974440-0-13\" x=\"315.84856\" y=\"136.525\"/>\n",
       "  <use xlink:href=\"#glyph-1518428330974440-0-15\" x=\"325.8112\" y=\"136.525\"/>\n",
       "  <use xlink:href=\"#glyph-1518428330974440-0-13\" x=\"335.77384\" y=\"136.525\"/>\n",
       "  <use xlink:href=\"#glyph-1518428330974440-0-13\" x=\"345.73648\" y=\"136.525\"/>\n",
       "  <use xlink:href=\"#glyph-1518428330974440-0-13\" x=\"355.69912\" y=\"136.525\"/>\n",
       "  <use xlink:href=\"#glyph-1518428330974440-0-13\" x=\"365.66176\" y=\"136.525\"/>\n",
       "  <use xlink:href=\"#glyph-1518428330974440-0-13\" x=\"375.6244\" y=\"136.525\"/>\n",
       "  <use xlink:href=\"#glyph-1518428330974440-0-13\" x=\"385.58704\" y=\"136.525\"/>\n",
       "  <use xlink:href=\"#glyph-1518428330974440-0-29\" x=\"395.54968\" y=\"136.525\"/>\n",
       "</g>\n",
       "<path style=\"fill:none;stroke-width:1.19553;stroke-linecap:butt;stroke-linejoin:miter;stroke:rgb(0%,0%,0%);stroke-opacity:1;stroke-miterlimit:10;\" d=\"M -31.357281 -42.518281 L 35.052875 -42.518281 \" transform=\"matrix(1,0,0,-1,227.369,87.47)\"/>\n",
       "<path style=\" stroke:none;fill-rule:nonzero;fill:rgb(0%,0%,0%);fill-opacity:1;\" d=\"M 268.160156 129.988281 C 266.460938 129.671875 263.699219 128.714844 261.785156 127.597656 L 261.785156 132.382812 C 263.699219 131.265625 266.460938 130.308594 268.160156 129.988281 \"/>\n",
       "<g style=\"fill:rgb(0%,0%,0%);fill-opacity:1;\">\n",
       "  <use xlink:href=\"#glyph-1518428330974440-0-1\" x=\"31.593\" y=\"163.318\"/>\n",
       "  <use xlink:href=\"#glyph-1518428330974440-0-2\" x=\"39.343934\" y=\"163.318\"/>\n",
       "  <use xlink:href=\"#glyph-1518428330974440-0-30\" x=\"48.748666\" y=\"163.318\"/>\n",
       "</g>\n",
       "<g style=\"fill:rgb(0%,0%,0%);fill-opacity:1;\">\n",
       "  <use xlink:href=\"#glyph-1518428330974440-0-16\" x=\"60.923012\" y=\"163.318\"/>\n",
       "  <use xlink:href=\"#glyph-1518428330974440-0-4\" x=\"70.507072\" y=\"163.318\"/>\n",
       "  <use xlink:href=\"#glyph-1518428330974440-0-25\" x=\"75.269214\" y=\"163.318\"/>\n",
       "  <use xlink:href=\"#glyph-1518428330974440-0-11\" x=\"80.031356\" y=\"163.318\"/>\n",
       "  <use xlink:href=\"#glyph-1518428330974440-0-2\" x=\"90.332725\" y=\"163.318\"/>\n",
       "  <use xlink:href=\"#glyph-1518428330974440-0-7\" x=\"99.737458\" y=\"163.318\"/>\n",
       "  <use xlink:href=\"#glyph-1518428330974440-0-2\" x=\"105.276685\" y=\"163.318\"/>\n",
       "  <use xlink:href=\"#glyph-1518428330974440-0-31\" x=\"114.681418\" y=\"163.318\"/>\n",
       "  <use xlink:href=\"#glyph-1518428330974440-0-25\" x=\"132.116038\" y=\"163.318\"/>\n",
       "  <use xlink:href=\"#glyph-1518428330974440-0-26\" x=\"136.87818\" y=\"163.318\"/>\n",
       "  <use xlink:href=\"#glyph-1518428330974440-0-10\" x=\"145.725004\" y=\"163.318\"/>\n",
       "  <use xlink:href=\"#glyph-1518428330974440-0-16\" x=\"156.026374\" y=\"163.318\"/>\n",
       "  <use xlink:href=\"#glyph-1518428330974440-0-5\" x=\"165.610433\" y=\"163.318\"/>\n",
       "  <use xlink:href=\"#glyph-1518428330974440-0-4\" x=\"174.457258\" y=\"163.318\"/>\n",
       "  <use xlink:href=\"#glyph-1518428330974440-0-2\" x=\"179.2194\" y=\"163.318\"/>\n",
       "  <use xlink:href=\"#glyph-1518428330974440-0-12\" x=\"188.624132\" y=\"163.318\"/>\n",
       "</g>\n",
       "<g style=\"fill:rgb(0%,0%,0%);fill-opacity:1;\">\n",
       "  <use xlink:href=\"#glyph-1518428330974440-0-13\" x=\"275.998\" y=\"164.872\"/>\n",
       "  <use xlink:href=\"#glyph-1518428330974440-0-13\" x=\"285.96064\" y=\"164.872\"/>\n",
       "  <use xlink:href=\"#glyph-1518428330974440-0-14\" x=\"295.92328\" y=\"164.872\"/>\n",
       "  <use xlink:href=\"#glyph-1518428330974440-0-15\" x=\"305.88592\" y=\"164.872\"/>\n",
       "  <use xlink:href=\"#glyph-1518428330974440-0-13\" x=\"315.84856\" y=\"164.872\"/>\n",
       "  <use xlink:href=\"#glyph-1518428330974440-0-15\" x=\"325.8112\" y=\"164.872\"/>\n",
       "  <use xlink:href=\"#glyph-1518428330974440-0-13\" x=\"335.77384\" y=\"164.872\"/>\n",
       "  <use xlink:href=\"#glyph-1518428330974440-0-13\" x=\"345.73648\" y=\"164.872\"/>\n",
       "  <use xlink:href=\"#glyph-1518428330974440-0-13\" x=\"355.69912\" y=\"164.872\"/>\n",
       "  <use xlink:href=\"#glyph-1518428330974440-0-13\" x=\"365.66176\" y=\"164.872\"/>\n",
       "  <use xlink:href=\"#glyph-1518428330974440-0-13\" x=\"375.6244\" y=\"164.872\"/>\n",
       "  <use xlink:href=\"#glyph-1518428330974440-0-13\" x=\"385.58704\" y=\"164.872\"/>\n",
       "  <use xlink:href=\"#glyph-1518428330974440-0-32\" x=\"395.54968\" y=\"164.872\"/>\n",
       "</g>\n",
       "<path style=\"fill:none;stroke-width:1.19553;stroke-linecap:butt;stroke-linejoin:miter;stroke:rgb(0%,0%,0%);stroke-opacity:1;stroke-miterlimit:10;\" d=\"M -23.158062 -70.865938 L 35.052875 -70.865938 \" transform=\"matrix(1,0,0,-1,227.369,87.47)\"/>\n",
       "<path style=\" stroke:none;fill-rule:nonzero;fill:rgb(0%,0%,0%);fill-opacity:1;\" d=\"M 268.160156 158.335938 C 266.460938 158.019531 263.699219 157.0625 261.785156 155.945312 L 261.785156 160.726562 C 263.699219 159.613281 266.460938 158.65625 268.160156 158.335938 \"/>\n",
       "</g>\n",
       "</svg>\n",
       "\n"
      ],
      "text/plain": [
       "TikzPictures.TikzPicture(L\"$    \\node(hist) [draw, fill=lightgray, minimum width=8cm, minimum height=3cm]{};\n",
       "    \\node(nc) at(-2,1.25) {(\\\"Cleese\\\",\\\"John\\\")};\n",
       "    \\node(c) at(2,1.25) {0032020000000};\n",
       "    \\draw[-latex](nc)--(c);\n",
       "    \\node(ng) at(-2,0.75) {(\\\"Chapman\\\",\\\"Graham\\\")};\n",
       "    \\node(g) at(2,0.75) {0032020000001};\n",
       "    \\draw[-latex](ng)--(g);\n",
       "    \\node(ni) at(-2,0.25) {(\\\"Idle\\\",\\\"Eric\\\")};\n",
       "    \\node(i) at(2,0.25) {0032020000002};\n",
       "    \\draw[-latex](ni)--(i);\n",
       "    \\node(nt) at(-2,-0.25) {(\\\"Gilliam\\\",\\\"Terry\\\")};\n",
       "    \\node(t) at(2,-0.25) {0032020000003};\n",
       "    \\draw[-latex](nt)--(t);\n",
       "    \\node(nj) at(-2,-0.75) {(\\\"Jones\\\",\\\"Terry\\\")};\n",
       "    \\node(j) at(2,-0.75) {0032020000004};\n",
       "    \\draw[-latex](nj)--(j);\n",
       "    \\node(np) at(-2,-1.25) {(\\\"Palin\\\",\\\"Michael\\\")};\n",
       "    \\node(p) at(2,-1.25) {0032020000005};\n",
       "    \\draw[-latex](np)--(p);\n",
       "$\", \"very thick, scale=2, transform shape\", \"    \\\\usepackage{newtxmath}\\n    \\\\renewcommand{\\\\familydefault}{\\\\sfdefault}\\n    \\\\usepackage{cancel}\\n\", true, true)"
      ]
     },
     "execution_count": 101,
     "metadata": {},
     "output_type": "execute_result"
    }
   ],
   "source": [
    "using TikzPictures\n",
    "TikzPicture(L\"\"\"\n",
    "    \\node(hist) [draw, fill=lightgray, minimum width=8cm, minimum height=3cm]{};\n",
    "    \\node(nc) at(-2,1.25) {(\"Cleese\",\"John\")};\n",
    "    \\node(c) at(2,1.25) {0032020000000};\n",
    "    \\draw[-latex](nc)--(c);\n",
    "    \\node(ng) at(-2,0.75) {(\"Chapman\",\"Graham\")};\n",
    "    \\node(g) at(2,0.75) {0032020000001};\n",
    "    \\draw[-latex](ng)--(g);\n",
    "    \\node(ni) at(-2,0.25) {(\"Idle\",\"Eric\")};\n",
    "    \\node(i) at(2,0.25) {0032020000002};\n",
    "    \\draw[-latex](ni)--(i);\n",
    "    \\node(nt) at(-2,-0.25) {(\"Gilliam\",\"Terry\")};\n",
    "    \\node(t) at(2,-0.25) {0032020000003};\n",
    "    \\draw[-latex](nt)--(t);\n",
    "    \\node(nj) at(-2,-0.75) {(\"Jones\",\"Terry\")};\n",
    "    \\node(j) at(2,-0.75) {0032020000004};\n",
    "    \\draw[-latex](nj)--(j);\n",
    "    \\node(np) at(-2,-1.25) {(\"Palin\",\"Michael\")};\n",
    "    \\node(p) at(2,-1.25) {0032020000005};\n",
    "    \\draw[-latex](np)--(p);\n",
    "\"\"\"; options=\"very thick, scale=2, transform shape\", preamble=\"\"\"\n",
    "    \\\\usepackage{newtxmath}\n",
    "    \\\\renewcommand{\\\\familydefault}{\\\\sfdefault}\n",
    "    \\\\usepackage{cancel}\n",
    "\"\"\")"
   ]
  },
  {
   "cell_type": "markdown",
   "metadata": {
    "slideshow": {
     "slide_type": "-"
    }
   },
   "source": [
    "Here the tuples are shown using Julia syntax as a graphical shorthand."
   ]
  },
  {
   "cell_type": "markdown",
   "metadata": {
    "slideshow": {
     "slide_type": "slide"
    }
   },
   "source": [
    "# Sequences of sequences\n",
    "\n",
    "I have focused on arrays of tuples, but almost all of the examples in this chapter also work with arrays of arrays, tuples of tuples, and tuples of arrays. To avoid enumerating the possible combinations, it is sometimes easier to talk about sequences of sequences.\n",
    "\n",
    "In many contexts, the different kinds of sequences (strings, arrays and tuples) can be used interchangeably. So how should you choose one over the others?\n",
    "\n",
    "To start with the obvious, strings are more limited than other sequences because the elements have to be characters. They are also immutable. If you need the ability to change the characters in a string (as opposed to creating a new string), you might want to use an array of characters instead."
   ]
  },
  {
   "cell_type": "markdown",
   "metadata": {
    "slideshow": {
     "slide_type": "subslide"
    }
   },
   "source": [
    "Arrays are more common than tuples, mostly because they are mutable. But there are a few cases where you might prefer tuples:\n",
    "\n",
    "- In some contexts, like a return statement, it is syntactically simpler to create a tuple than an array.\n",
    "\n",
    "- If you want to use a sequence as a dictionary key, you have to use an immutable type like a `Tuple` or `String`.\n",
    "\n",
    "- If you are passing a sequence as an argument to a function, using tuples reduces the potential for unexpected behavior due to aliasing."
   ]
  },
  {
   "cell_type": "markdown",
   "metadata": {
    "slideshow": {
     "slide_type": "subslide"
    }
   },
   "source": [
    "Because tuples are immutable, they don’t provide function like `sort!` and `reverse!`, which modify existing arrays. But Julia provides the built-in function `sort`, which takes an array and returns a new array with the same elements in sorted order, and `reverse`, which takes any sequence and returns a sequence of the same type in reverse order."
   ]
  },
  {
   "cell_type": "markdown",
   "metadata": {
    "slideshow": {
     "slide_type": "slide"
    }
   },
   "source": [
    "# Debugging\n",
    "\n",
    "Arrays, dictionaries and tuples are examples of data structures; in this lecture we are starting to see compound data structures, like arrays of tuples, or dictionaries that contain tuples as keys and arrays as values. Compound data structures are useful, but they are prone to what I call *shape errors*; that is, errors caused when a data structure has the wrong type, size, or structure. For example, if you are expecting an array with one integer and I give you a plain old integer (not in an array), it won’t work."
   ]
  }
 ],
 "metadata": {
  "celltoolbar": "Slideshow",
  "kernelspec": {
   "display_name": "Julia 0.6.2",
   "language": "julia",
   "name": "julia-0.6"
  },
  "language_info": {
   "file_extension": ".jl",
   "mimetype": "application/julia",
   "name": "julia",
   "version": "0.6.2"
  },
  "livereveal": {
   "controls": "false",
   "scroll": "true",
   "start_slideshow_at": "selected"
  }
 },
 "nbformat": 4,
 "nbformat_minor": 2
}
