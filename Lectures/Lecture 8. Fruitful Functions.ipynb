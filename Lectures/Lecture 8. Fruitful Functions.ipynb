{
 "cells": [
  {
   "cell_type": "markdown",
   "metadata": {
    "slideshow": {
     "slide_type": "slide"
    }
   },
   "source": [
    "# Functions\n",
    "\n",
    "Many of the Julia functions we have used, such as the math functions, produce return values. But the functions we’ve written are all void: they have an effect, like printing a value or moving a turtle, but they don’t have a return value. In this lecture you will learn to write fruitful functions."
   ]
  },
  {
   "cell_type": "markdown",
   "metadata": {
    "slideshow": {
     "slide_type": "slide"
    }
   },
   "source": [
    "# Return Values\n",
    "\n",
    "Calling the function generates a return value, which we usually assign to a variable or use as part of an expression."
   ]
  },
  {
   "cell_type": "code",
   "execution_count": 2,
   "metadata": {},
   "outputs": [],
   "source": [
    "e = exp(1.0)\n",
    "radius = 1.0\n",
    "radians = π/3\n",
    "height = radius * sin(radians);"
   ]
  },
  {
   "cell_type": "markdown",
   "metadata": {},
   "source": [
    "The functions we have written so far are void. Speaking casually, they have no return value; more precisely, their return value is `nothing`:"
   ]
  },
  {
   "cell_type": "code",
   "execution_count": 6,
   "metadata": {},
   "outputs": [
    {
     "name": "stdout",
     "output_type": "stream",
     "text": [
      "Hello, World!\n",
      "Hello, World!\n",
      "Hello, World!\n",
      "nothing\n"
     ]
    }
   ],
   "source": [
    "function print_n(s, n)\n",
    "    for i in 1:n\n",
    "        println(s)\n",
    "    end\n",
    "end\n",
    "println(print_n(\"Hello, World!\", 3))"
   ]
  },
  {
   "cell_type": "markdown",
   "metadata": {
    "slideshow": {
     "slide_type": "subslide"
    }
   },
   "source": [
    "In this lecture, we are (finally) going to write fruitful functions. The first example is area, which returns the area of a circle with the given radius:"
   ]
  },
  {
   "cell_type": "code",
   "execution_count": 1,
   "metadata": {},
   "outputs": [
    {
     "data": {
      "text/plain": [
       "area (generic function with 1 method)"
      ]
     },
     "execution_count": 1,
     "metadata": {},
     "output_type": "execute_result"
    }
   ],
   "source": [
    "function area(radius)\n",
    "    a = π * radius^2\n",
    "    return a\n",
    "end"
   ]
  },
  {
   "cell_type": "markdown",
   "metadata": {},
   "source": [
    "We have seen the return statement before, but in a fruitful function the return statement includes an expression. This statement means: “Return immediately from this function and use the following expression as a return value.” The expression can be arbitrarily complicated, so we could have written this function more concisely:"
   ]
  },
  {
   "cell_type": "code",
   "execution_count": 2,
   "metadata": {},
   "outputs": [
    {
     "data": {
      "text/plain": [
       "area (generic function with 1 method)"
      ]
     },
     "execution_count": 2,
     "metadata": {},
     "output_type": "execute_result"
    }
   ],
   "source": [
    "function area(radius)\n",
    "    return π * radius^2\n",
    "end"
   ]
  },
  {
   "cell_type": "markdown",
   "metadata": {},
   "source": [
    "On the other hand, *temporary variables* like `a` can make debugging easier."
   ]
  },
  {
   "cell_type": "markdown",
   "metadata": {
    "slideshow": {
     "slide_type": "subslide"
    }
   },
   "source": [
    "Sometimes it is useful to have multiple return statements, one in each branch of a conditional:"
   ]
  },
  {
   "cell_type": "code",
   "execution_count": 3,
   "metadata": {},
   "outputs": [
    {
     "data": {
      "text/plain": [
       "absolute_value (generic function with 1 method)"
      ]
     },
     "execution_count": 3,
     "metadata": {},
     "output_type": "execute_result"
    }
   ],
   "source": [
    "function absolute_value(x)\n",
    "    if x < 0\n",
    "        return -x\n",
    "    else\n",
    "        return x\n",
    "    end\n",
    "end"
   ]
  },
  {
   "cell_type": "markdown",
   "metadata": {},
   "source": [
    "Since these return statements are in an alternative conditional, only one runs.\n",
    "\n",
    "As soon as a return statement runs, the function terminates without executing any subsequent statements. Code that appears after a return statement, or any other place the flow of execution can never reach, is called *dead code*."
   ]
  },
  {
   "cell_type": "markdown",
   "metadata": {
    "slideshow": {
     "slide_type": "subslide"
    }
   },
   "source": [
    "In a fruitful function, it is a good idea to ensure that every possible path through the program hits a return statement. For example:"
   ]
  },
  {
   "cell_type": "code",
   "execution_count": 5,
   "metadata": {},
   "outputs": [
    {
     "data": {
      "text/plain": [
       "absolute_value (generic function with 1 method)"
      ]
     },
     "execution_count": 5,
     "metadata": {},
     "output_type": "execute_result"
    }
   ],
   "source": [
    "function absolute_value(x)\n",
    "    if x < 0\n",
    "        return -x\n",
    "    end\n",
    "    if x > 0\n",
    "        return x\n",
    "    end\n",
    "end"
   ]
  },
  {
   "cell_type": "markdown",
   "metadata": {},
   "source": [
    "This function is incorrect because if `x` happens to be 0, neither condition is true, and the function ends without hitting a return statement. If the flow of execution gets to the end of a function, the return value is `nothing`, which is not the absolute value of 0."
   ]
  },
  {
   "cell_type": "code",
   "execution_count": 9,
   "metadata": {},
   "outputs": [
    {
     "name": "stdout",
     "output_type": "stream",
     "text": [
      "nothing\n"
     ]
    }
   ],
   "source": [
    "println(absolute_value(0))"
   ]
  },
  {
   "cell_type": "markdown",
   "metadata": {},
   "source": [
    "By the way, Julia provides a built-in function called `abs` that computes absolute values."
   ]
  },
  {
   "cell_type": "markdown",
   "metadata": {
    "slideshow": {
     "slide_type": "subslide"
    }
   },
   "source": [
    "The *return type* can be specified in Julia and the returned value is converted to this type if possible:"
   ]
  },
  {
   "cell_type": "code",
   "execution_count": 13,
   "metadata": {},
   "outputs": [
    {
     "data": {
      "text/plain": [
       "3.0"
      ]
     },
     "execution_count": 13,
     "metadata": {},
     "output_type": "execute_result"
    }
   ],
   "source": [
    "function absolute_value(x) :: Float64\n",
    "    if x < 0\n",
    "        return -x\n",
    "    end\n",
    "    x\n",
    "end\n",
    "absolute_value(-3)"
   ]
  },
  {
   "cell_type": "markdown",
   "metadata": {},
   "source": [
    "The `return` keyword is not needed for the final expression in a function body. Its value is automatically returned."
   ]
  },
  {
   "cell_type": "markdown",
   "metadata": {
    "slideshow": {
     "slide_type": "subslide"
    }
   },
   "source": [
    "In Python the return type can not be specified and the `return` keyword is compulsory:\n",
    "```python\n",
    "def absolute_value(x):\n",
    "    if x < 0:\n",
    "        return -x\n",
    "    return x\n",
    "```"
   ]
  },
  {
   "cell_type": "markdown",
   "metadata": {
    "slideshow": {
     "slide_type": "subslide"
    }
   },
   "source": [
    "In C++ the return type has to be specified as the first element of the header and the `return` keyword is also compulsory:\n",
    "```C++\n",
    "double absolute_value(double x){\n",
    "    if (x < 0.0) {\n",
    "        return -x;\n",
    "    }\n",
    "    return x;\n",
    "}\n",
    "```\n",
    "The type of the arguments needs to be specified. In Julia this is also possible but this will be explained later."
   ]
  },
  {
   "cell_type": "markdown",
   "metadata": {
    "slideshow": {
     "slide_type": "slide"
    }
   },
   "source": [
    "# Incremental Development\n",
    "\n",
    "As you write larger functions, you might find yourself spending more time debugging.\n",
    "\n",
    "To deal with increasingly complex programs, you might want to try a process called incremental development. The goal of incremental development is to avoid long debugging sessions by adding and testing only a small amount of code at a time.\n",
    "\n",
    "As an example, suppose you want to find the distance between two points, given by the coordinates $(x_1, y_1)$ and $(x_2, y_2)$. By the Pythagorean theorem, the distance is:\n",
    "\n",
    "$$\n",
    "d = \\sqrt{(x_2 − x_1)^2 + (y_2 − y_1)^2}\n",
    "$$\n",
    "\n",
    "The first step is to consider what a distance function should look like in Julia. In other words, what are the inputs (parameters) and what is the output (return value)?\n",
    "\n",
    "In this case, the inputs are two points, which you can represent using four numbers. The return value is the distance represented by a floating-point value."
   ]
  },
  {
   "cell_type": "markdown",
   "metadata": {
    "slideshow": {
     "slide_type": "subslide"
    }
   },
   "source": [
    "Immediately you can write an outline of the function:"
   ]
  },
  {
   "cell_type": "code",
   "execution_count": 16,
   "metadata": {},
   "outputs": [
    {
     "data": {
      "text/plain": [
       "distance (generic function with 1 method)"
      ]
     },
     "execution_count": 16,
     "metadata": {},
     "output_type": "execute_result"
    }
   ],
   "source": [
    "function distance(x₁, y₁, x₂, y₂)\n",
    "    0.0\n",
    "end"
   ]
  },
  {
   "cell_type": "markdown",
   "metadata": {},
   "source": [
    "Obviously, this version doesn’t compute distances; it always returns zero. But it is syntactically correct, and it runs, which means that you can test it before you make it more complicated.\n",
    "\n",
    "To test the new function, call it with sample arguments:"
   ]
  },
  {
   "cell_type": "code",
   "execution_count": 17,
   "metadata": {},
   "outputs": [
    {
     "data": {
      "text/plain": [
       "0.0"
      ]
     },
     "execution_count": 17,
     "metadata": {},
     "output_type": "execute_result"
    }
   ],
   "source": [
    "distance(1, 2, 4, 6)"
   ]
  },
  {
   "cell_type": "markdown",
   "metadata": {},
   "source": [
    "I chose these values so that the horizontal distance is 3 and the vertical distance is 4; that way, the result is 5, the hypotenuse of a 3-4-5 triangle. When testing a function, it is useful to know the right answer."
   ]
  },
  {
   "cell_type": "markdown",
   "metadata": {
    "slideshow": {
     "slide_type": "subslide"
    }
   },
   "source": [
    "At this point we have confirmed that the function is syntactically correct, and we can start adding code to the body. \n",
    "\n",
    "A reasonable next step is to find the differences $x_2 − x_1$ and $y_2 − y_1$. The next version stores those values in temporary variables and prints them:"
   ]
  },
  {
   "cell_type": "code",
   "execution_count": 18,
   "metadata": {},
   "outputs": [
    {
     "data": {
      "text/plain": [
       "distance (generic function with 1 method)"
      ]
     },
     "execution_count": 18,
     "metadata": {},
     "output_type": "execute_result"
    }
   ],
   "source": [
    "function distance(x₁, y₁, x₂, y₂)\n",
    "    dx = x₂ - x₁\n",
    "    dy = y₂ - y₁\n",
    "    println(\"dx is \", dx)\n",
    "    println(\"dy is \", dy)\n",
    "    0.0\n",
    "end"
   ]
  },
  {
   "cell_type": "markdown",
   "metadata": {},
   "source": [
    "If the function is working, it should display `\"dx is 3\"` and `\"dy is 4\"`. If so, we know that the function is getting the right arguments and performing the first computation correctly. If not, there are only a few lines to check."
   ]
  },
  {
   "cell_type": "code",
   "execution_count": 19,
   "metadata": {},
   "outputs": [
    {
     "name": "stdout",
     "output_type": "stream",
     "text": [
      "dx is 3\n",
      "dy is 4\n"
     ]
    },
    {
     "data": {
      "text/plain": [
       "0.0"
      ]
     },
     "execution_count": 19,
     "metadata": {},
     "output_type": "execute_result"
    }
   ],
   "source": [
    "distance(1, 2, 4, 6)"
   ]
  },
  {
   "cell_type": "markdown",
   "metadata": {
    "slideshow": {
     "slide_type": "subslide"
    }
   },
   "source": [
    "Next we compute the sum of squares of `dx` and `dy`:"
   ]
  },
  {
   "cell_type": "code",
   "execution_count": 20,
   "metadata": {},
   "outputs": [
    {
     "data": {
      "text/plain": [
       "distance (generic function with 1 method)"
      ]
     },
     "execution_count": 20,
     "metadata": {},
     "output_type": "execute_result"
    }
   ],
   "source": [
    "function distance(x₁, y₁, x₂, y₂)\n",
    "    dx = x₂ - x₁\n",
    "    dy = y₂ - y₁\n",
    "    d² = dx^2 + dy^2\n",
    "    print(\"d² is \", d²)\n",
    "    0.0\n",
    "end"
   ]
  },
  {
   "cell_type": "markdown",
   "metadata": {},
   "source": [
    "Again, you would run the program at this stage and check the output (which should be 25)."
   ]
  },
  {
   "cell_type": "code",
   "execution_count": 21,
   "metadata": {},
   "outputs": [
    {
     "name": "stdout",
     "output_type": "stream",
     "text": [
      "d² is 25"
     ]
    },
    {
     "data": {
      "text/plain": [
       "0.0"
      ]
     },
     "execution_count": 21,
     "metadata": {},
     "output_type": "execute_result"
    }
   ],
   "source": [
    "distance(1, 2, 4, 6)"
   ]
  },
  {
   "cell_type": "markdown",
   "metadata": {
    "slideshow": {
     "slide_type": "subslide"
    }
   },
   "source": [
    "Finally, you can use `sqrt` to compute and return the result:"
   ]
  },
  {
   "cell_type": "code",
   "execution_count": 2,
   "metadata": {},
   "outputs": [
    {
     "data": {
      "text/plain": [
       "distance (generic function with 1 method)"
      ]
     },
     "execution_count": 2,
     "metadata": {},
     "output_type": "execute_result"
    }
   ],
   "source": [
    "function distance(x₁, y₁, x₂, y₂)\n",
    "    dx = x₂ - x₁\n",
    "    dy = y₂ - y₁\n",
    "    d² = dx^2 + dy^2\n",
    "    sqrt(d²)\n",
    "end"
   ]
  },
  {
   "cell_type": "markdown",
   "metadata": {},
   "source": [
    "If that works correctly, you are done."
   ]
  },
  {
   "cell_type": "code",
   "execution_count": 25,
   "metadata": {},
   "outputs": [
    {
     "data": {
      "text/plain": [
       "5.0"
      ]
     },
     "execution_count": 25,
     "metadata": {},
     "output_type": "execute_result"
    }
   ],
   "source": [
    "distance(1, 2, 4, 6)"
   ]
  },
  {
   "cell_type": "markdown",
   "metadata": {
    "slideshow": {
     "slide_type": "subslide"
    }
   },
   "source": [
    "The final version of the function doesn’t display anything when it runs; it only returns a value. The print statements we wrote are useful for debugging, but once you get the function working, you should remove them. Code like that is called *scaffolding* because it is helpful for building the program but is not part of the final product.\n",
    "\n",
    "When you start out, you should add only a line or two of code at a time. As you gain more experience, you might find yourself writing and debugging bigger chunks. Either way, incremental development can save you a lot of debugging time."
   ]
  },
  {
   "cell_type": "markdown",
   "metadata": {
    "slideshow": {
     "slide_type": "subslide"
    }
   },
   "source": [
    "The key aspects of the process are:\n",
    "\n",
    "1. Start with a working program and make small incremental changes. At any point, if there is an error, you should have a good idea where it is.\n",
    "\n",
    "2. Use variables to hold intermediate values so you can display and check them.\n",
    "\n",
    "3. Once the program is working, you might want to remove some of the scaffolding or consolidate multiple statements into compound expressions, but only if it does not make the program difficult to read."
   ]
  },
  {
   "cell_type": "markdown",
   "metadata": {
    "slideshow": {
     "slide_type": "slide"
    }
   },
   "source": [
    "# Composition\n",
    "\n",
    "As you should expect by now, you can call one function from within another. As an example, we’ll write a function that takes two points, the center of the circle and a point on the perimeter, and computes the area of the circle.\n",
    "\n",
    "Assume that the center point is stored in the variables $x_c$ and $y_c$, and the perimeter point is in $x_p$ and $y_p$. The first step is to find the radius of the circle, which is the distance between the two points. We just wrote a function, distance, that does that:\n",
    "```julia\n",
    "radius = distance(xc, yc, xp, yp)\n",
    "```\n",
    "The next step is to find the area of a circle with that radius; we just wrote that, too:\n",
    "```julia\n",
    "result = area(radius)\n",
    "```"
   ]
  },
  {
   "cell_type": "markdown",
   "metadata": {
    "slideshow": {
     "slide_type": "subslide"
    }
   },
   "source": [
    "Encapsulating these steps in a function, we get:"
   ]
  },
  {
   "cell_type": "code",
   "execution_count": 3,
   "metadata": {},
   "outputs": [
    {
     "data": {
      "text/plain": [
       "circle_area (generic function with 1 method)"
      ]
     },
     "execution_count": 3,
     "metadata": {},
     "output_type": "execute_result"
    }
   ],
   "source": [
    "function circle_area(xc, yc, xp, yp)\n",
    "    radius = distance(xc, yc, xp, yp)\n",
    "    result = area(radius)\n",
    "end"
   ]
  },
  {
   "cell_type": "markdown",
   "metadata": {},
   "source": [
    "The temporary variables `radius` and `result` are useful for development and debugging, but once the program is working, we can make it more concise by composing the function calls:"
   ]
  },
  {
   "cell_type": "code",
   "execution_count": 4,
   "metadata": {},
   "outputs": [
    {
     "data": {
      "text/plain": [
       "78.53981633974483"
      ]
     },
     "execution_count": 4,
     "metadata": {},
     "output_type": "execute_result"
    }
   ],
   "source": [
    "function circle_area(xc, yc, xp, yp)\n",
    "    area(distance(xc, yc, xp, yp))\n",
    "end\n",
    "circle_area(1, 2, 4, 6)"
   ]
  },
  {
   "cell_type": "markdown",
   "metadata": {
    "slideshow": {
     "slide_type": "slide"
    }
   },
   "source": [
    "# Boolean functions\n",
    "\n",
    "Functions can return booleans (values of type `Bool`), which is often convenient for hiding complicated tests inside functions. For example:"
   ]
  },
  {
   "cell_type": "code",
   "execution_count": 30,
   "metadata": {},
   "outputs": [
    {
     "data": {
      "text/plain": [
       "is_divisible (generic function with 1 method)"
      ]
     },
     "execution_count": 30,
     "metadata": {},
     "output_type": "execute_result"
    }
   ],
   "source": [
    "function is_divisible(x, y) :: Bool\n",
    "    if mod(x, y) == 0\n",
    "        return true\n",
    "    else\n",
    "        return false\n",
    "    end\n",
    "end"
   ]
  },
  {
   "cell_type": "markdown",
   "metadata": {},
   "source": [
    "It is common to give boolean functions names that sound like yes/no questions; `is_divisible` returns either `true` or `false` to indicate whether `x` is divisible by `y`.\n",
    "Here is an example:"
   ]
  },
  {
   "cell_type": "code",
   "execution_count": 31,
   "metadata": {},
   "outputs": [
    {
     "data": {
      "text/plain": [
       "false"
      ]
     },
     "execution_count": 31,
     "metadata": {},
     "output_type": "execute_result"
    }
   ],
   "source": [
    "is_divisible(6, 4)"
   ]
  },
  {
   "cell_type": "markdown",
   "metadata": {
    "slideshow": {
     "slide_type": "subslide"
    }
   },
   "source": [
    "The result of the `==` operator is a boolean, so we can write the function more concisely by returning it directly:"
   ]
  },
  {
   "cell_type": "code",
   "execution_count": null,
   "metadata": {},
   "outputs": [],
   "source": [
    "function is_divisible(x, y)\n",
    "    mod(x, y) == 0\n",
    "end"
   ]
  },
  {
   "cell_type": "markdown",
   "metadata": {},
   "source": [
    "Boolean functions are often used in conditional statements:"
   ]
  },
  {
   "cell_type": "code",
   "execution_count": 32,
   "metadata": {},
   "outputs": [
    {
     "name": "stdout",
     "output_type": "stream",
     "text": [
      "6 is divisible by 3\n"
     ]
    }
   ],
   "source": [
    "x = 6\n",
    "y = 3\n",
    "if is_divisible(x, y)\n",
    "    println(x, \" is divisible by \", y)\n",
    "end"
   ]
  },
  {
   "cell_type": "markdown",
   "metadata": {
    "slideshow": {
     "slide_type": "subslide"
    }
   },
   "source": [
    "It might be tempting to write something like:"
   ]
  },
  {
   "cell_type": "code",
   "execution_count": 33,
   "metadata": {},
   "outputs": [
    {
     "name": "stdout",
     "output_type": "stream",
     "text": [
      "6 is divisible by 3\n"
     ]
    }
   ],
   "source": [
    "if is_divisible(x, y) == true\n",
    "    println(x, \" is divisible by \", y)\n",
    "end"
   ]
  },
  {
   "cell_type": "markdown",
   "metadata": {},
   "source": [
    "But the extra comparison is unnecessary."
   ]
  },
  {
   "cell_type": "markdown",
   "metadata": {
    "slideshow": {
     "slide_type": "slide"
    }
   },
   "source": [
    "# More recursion\n",
    "\n",
    "We have only covered a small subset of Julia (Python, C++), but you might be interested to know that this subset is a complete programming language, which means that anything that can be computed can be expressed in this language. Any program ever written could be rewritten using only the language features you have learned so far (actually, you would need a few commands to control devices like the mouse, disks, etc., but that’s all).\n",
    "\n",
    "Proving that claim is a nontrivial exercise first accomplished by Alan Turing, one of the first computer scientists (some would argue that he was a mathematician, but a lot of computer scientists started as mathematicians). Accordingly, it is known as the Turing Thesis."
   ]
  },
  {
   "cell_type": "markdown",
   "metadata": {
    "slideshow": {
     "slide_type": "subslide"
    }
   },
   "source": [
    "To give you an idea of what you can do with the tools you have learned so far, we’ll evaluate a few recursively defined mathematical functions. A recursive definition is similar to a circular definition, in the sense that the definition contains a reference to the thing being defined. A truly circular definition is not very useful:\n",
    "\n",
    "*vorpal*: \n",
    "\n",
    "    An adjective used to describe something that is vorpal.\n",
    "\n",
    "If you saw that definition in the dictionary, you might be annoyed. On the other hand, if you looked up the definition of the factorial function, denoted with the symbol !, you might get something like this:\n",
    "\\begin{align}\n",
    "    0! &= 1\\nonumber\\\\ \n",
    " \tn! &= n (n−1)!\\nonumber\n",
    "\\end{align}\n",
    "This definition says that the factorial of $0$ is $1$, and the factorial of any other value, $n$, is $n$ multiplied by the factorial of $n−1$.\n",
    "\n",
    "So $3!$ is $3$ times $2!$, which is $2$ times $1!$, which is $1$ times $0!$. Putting it all together, $3!$ equals $3$ times $2$ times $1$ times $1$, which is $6$."
   ]
  },
  {
   "cell_type": "markdown",
   "metadata": {
    "slideshow": {
     "slide_type": "subslide"
    }
   },
   "source": [
    "If you can write a recursive definition of something, you can write a Julia program to evaluate it. The first step is to decide what the parameters should be. In this case it should be clear that `my_factorial` takes an integer:"
   ]
  },
  {
   "cell_type": "code",
   "execution_count": 35,
   "metadata": {},
   "outputs": [
    {
     "data": {
      "text/plain": [
       "my_factorial (generic function with 1 method)"
      ]
     },
     "execution_count": 35,
     "metadata": {},
     "output_type": "execute_result"
    }
   ],
   "source": [
    "function my_factorial(n) end"
   ]
  },
  {
   "cell_type": "markdown",
   "metadata": {},
   "source": [
    "If the argument happens to be 0, all we have to do is return 1:"
   ]
  },
  {
   "cell_type": "code",
   "execution_count": 36,
   "metadata": {},
   "outputs": [
    {
     "data": {
      "text/plain": [
       "my_factoral (generic function with 1 method)"
      ]
     },
     "execution_count": 36,
     "metadata": {},
     "output_type": "execute_result"
    }
   ],
   "source": [
    "function my_factoral(n)\n",
    "    if n == 0\n",
    "        return 1\n",
    "    end\n",
    "end"
   ]
  },
  {
   "cell_type": "markdown",
   "metadata": {
    "slideshow": {
     "slide_type": "subslide"
    }
   },
   "source": [
    "Otherwise, and this is the interesting part, we have to make a recursive call to find the factorial of `n−1` and then multiply it by `n`:"
   ]
  },
  {
   "cell_type": "code",
   "execution_count": 82,
   "metadata": {},
   "outputs": [
    {
     "data": {
      "text/plain": [
       "6"
      ]
     },
     "execution_count": 82,
     "metadata": {},
     "output_type": "execute_result"
    }
   ],
   "source": [
    "function my_factorial(n)\n",
    "    if n == 0\n",
    "        return 1\n",
    "    else\n",
    "        recurse = my_factorial(n-1)\n",
    "        result = n * recurse\n",
    "        return result\n",
    "    end\n",
    "end\n",
    "my_factorial(3)"
   ]
  },
  {
   "cell_type": "markdown",
   "metadata": {
    "slideshow": {
     "slide_type": "subslide"
    }
   },
   "source": [
    "The flow of execution for this program is similar to the flow of `countdown`:\n",
    "\n",
    "Since 3 is not 0, we take the second branch and calculate the factorial of `n-1`...\n",
    "- Since 2 is not 0, we take the second branch and calculate the factorial of `n-1`...\n",
    "    - Since 1 is not 0, we take the second branch and calculate the factorial of `n-1`...\n",
    "        - Since 0 equals 0, we take the first branch and return 1 without making any more recursive calls.\n",
    "    - The return value, 1, is multiplied by `n`, which is 1, and the result is returned.\n",
    "- The return value, 1, is multiplied by `n`, which is 2, and the result is returned.\n",
    "The return value 2 is multiplied by `n`, which is 3, and the result, 6, becomes the return value of the function call that started the whole process."
   ]
  },
  {
   "cell_type": "markdown",
   "metadata": {
    "slideshow": {
     "slide_type": "subslide"
    }
   },
   "source": [
    "The return values are shown being passed back up the stack. In each frame, the return value is the value of `result`, which is the product of `n` and `recurse`."
   ]
  },
  {
   "cell_type": "code",
   "execution_count": 71,
   "metadata": {
    "hideCode": true,
    "hidePrompt": true
   },
   "outputs": [
    {
     "data": {
      "image/svg+xml": [
       "<?xml version=\"1.0\" encoding=\"UTF-8\"?>\n",
       "<svg xmlns=\"http://www.w3.org/2000/svg\" xmlns:xlink=\"http://www.w3.org/1999/xlink\" width=\"742.406pt\" height=\"297.612pt\" viewBox=\"0 0 742.406 297.612\" version=\"1.1\">\n",
       "<defs>\n",
       "<g>\n",
       "<symbol overflow=\"visible\" id=\"glyph-1518428330974446-0-0\">\n",
       "<path style=\"stroke:none;\" d=\"\"/>\n",
       "</symbol>\n",
       "<symbol overflow=\"visible\" id=\"glyph-1518428330974446-0-1\">\n",
       "<path style=\"stroke:none;\" d=\"M 22.421875 4.125 L 22.421875 3.34375 L 0 3.34375 L 0 4.125 Z M 22.421875 4.125 \"/>\n",
       "</symbol>\n",
       "<symbol overflow=\"visible\" id=\"glyph-1518428330974446-0-2\">\n",
       "<path style=\"stroke:none;\" d=\"M 24.296875 0 L 24.296875 -0.921875 C 22.75 -0.921875 22 -0.921875 21.96875 -1.828125 L 21.96875 -7.53125 C 21.96875 -10.109375 21.96875 -11.03125 21.046875 -12.109375 C 20.625 -12.609375 19.640625 -13.21875 17.90625 -13.21875 C 15.390625 -13.21875 14.078125 -11.421875 13.5625 -10.28125 C 13.15625 -12.890625 10.9375 -13.21875 9.59375 -13.21875 C 7.40625 -13.21875 6.015625 -11.921875 5.171875 -10.078125 L 5.171875 -13.21875 L 0.953125 -12.890625 L 0.953125 -11.953125 C 3.046875 -11.953125 3.28125 -11.75 3.28125 -10.28125 L 3.28125 -2.265625 C 3.28125 -0.921875 2.953125 -0.921875 0.953125 -0.921875 L 0.953125 0 L 4.328125 -0.09375 L 7.6875 0 L 7.6875 -0.921875 C 5.671875 -0.921875 5.34375 -0.921875 5.34375 -2.265625 L 5.34375 -7.765625 C 5.34375 -10.875 7.46875 -12.546875 9.390625 -12.546875 C 11.265625 -12.546875 11.59375 -10.9375 11.59375 -9.234375 L 11.59375 -2.265625 C 11.59375 -0.921875 11.265625 -0.921875 9.265625 -0.921875 L 9.265625 0 L 12.640625 -0.09375 L 15.984375 0 L 15.984375 -0.921875 C 13.984375 -0.921875 13.65625 -0.921875 13.65625 -2.265625 L 13.65625 -7.765625 C 13.65625 -10.875 15.78125 -12.546875 17.6875 -12.546875 C 19.578125 -12.546875 19.90625 -10.9375 19.90625 -9.234375 L 19.90625 -2.265625 C 19.90625 -0.921875 19.578125 -0.921875 17.578125 -0.921875 L 17.578125 0 L 20.953125 -0.09375 Z M 24.296875 0 \"/>\n",
       "</symbol>\n",
       "<symbol overflow=\"visible\" id=\"glyph-1518428330974446-0-3\">\n",
       "<path style=\"stroke:none;\" d=\"M 14.4375 -2.65625 L 14.4375 -4.328125 L 13.6875 -4.328125 L 13.6875 -2.65625 C 13.6875 -0.921875 12.9375 -0.75 12.609375 -0.75 C 11.625 -0.75 11.515625 -2.09375 11.515625 -2.234375 L 11.515625 -8.21875 C 11.515625 -9.46875 11.515625 -10.640625 10.4375 -11.75 C 9.265625 -12.90625 7.765625 -13.390625 6.34375 -13.390625 C 3.890625 -13.390625 1.828125 -11.984375 1.828125 -10.015625 C 1.828125 -9.109375 2.421875 -8.609375 3.203125 -8.609375 C 4.03125 -8.609375 4.578125 -9.203125 4.578125 -9.984375 C 4.578125 -10.34375 4.421875 -11.328125 3.046875 -11.359375 C 3.859375 -12.40625 5.328125 -12.734375 6.28125 -12.734375 C 7.734375 -12.734375 9.453125 -11.5625 9.453125 -8.90625 L 9.453125 -7.796875 C 7.921875 -7.71875 5.828125 -7.625 3.953125 -6.71875 C 1.703125 -5.703125 0.953125 -4.15625 0.953125 -2.84375 C 0.953125 -0.421875 3.859375 0.328125 5.734375 0.328125 C 7.71875 0.328125 9.09375 -0.859375 9.65625 -2.265625 C 9.78125 -1.078125 10.578125 0.171875 11.984375 0.171875 C 12.609375 0.171875 14.4375 -0.234375 14.4375 -2.65625 Z M 9.453125 -4.1875 C 9.453125 -1.34375 7.296875 -0.328125 5.953125 -0.328125 C 4.484375 -0.328125 3.265625 -1.375 3.265625 -2.875 C 3.265625 -4.515625 4.515625 -7 9.453125 -7.171875 Z M 9.453125 -4.1875 \"/>\n",
       "</symbol>\n",
       "<symbol overflow=\"visible\" id=\"glyph-1518428330974446-0-4\">\n",
       "<path style=\"stroke:none;\" d=\"M 7.390625 0 L 7.390625 -0.921875 C 5.40625 -0.921875 5.296875 -1.078125 5.296875 -2.234375 L 5.296875 -13.21875 L 1.109375 -12.890625 L 1.109375 -11.953125 C 3.046875 -11.953125 3.3125 -11.78125 3.3125 -10.3125 L 3.3125 -2.265625 C 3.3125 -0.921875 2.984375 -0.921875 0.984375 -0.921875 L 0.984375 0 L 4.28125 -0.09375 C 5.328125 -0.09375 6.359375 -0.03125 7.390625 0 Z M 5.734375 -18.046875 C 5.734375 -18.859375 5.046875 -19.640625 4.15625 -19.640625 C 3.140625 -19.640625 2.546875 -18.796875 2.546875 -18.046875 C 2.546875 -17.25 3.234375 -16.46875 4.125 -16.46875 C 5.140625 -16.46875 5.734375 -17.3125 5.734375 -18.046875 Z M 5.734375 -18.046875 \"/>\n",
       "</symbol>\n",
       "<symbol overflow=\"visible\" id=\"glyph-1518428330974446-0-5\">\n",
       "<path style=\"stroke:none;\" d=\"M 15.984375 0 L 15.984375 -0.921875 C 14.4375 -0.921875 13.6875 -0.921875 13.65625 -1.828125 L 13.65625 -7.53125 C 13.65625 -10.109375 13.65625 -11.03125 12.734375 -12.109375 C 12.3125 -12.609375 11.328125 -13.21875 9.59375 -13.21875 C 7.40625 -13.21875 6.015625 -11.921875 5.171875 -10.078125 L 5.171875 -13.21875 L 0.953125 -12.890625 L 0.953125 -11.953125 C 3.046875 -11.953125 3.28125 -11.75 3.28125 -10.28125 L 3.28125 -2.265625 C 3.28125 -0.921875 2.953125 -0.921875 0.953125 -0.921875 L 0.953125 0 L 4.328125 -0.09375 L 7.6875 0 L 7.6875 -0.921875 C 5.671875 -0.921875 5.34375 -0.921875 5.34375 -2.265625 L 5.34375 -7.765625 C 5.34375 -10.875 7.46875 -12.546875 9.390625 -12.546875 C 11.265625 -12.546875 11.59375 -10.9375 11.59375 -9.234375 L 11.59375 -2.265625 C 11.59375 -0.921875 11.265625 -0.921875 9.265625 -0.921875 L 9.265625 0 L 12.640625 -0.09375 Z M 15.984375 0 \"/>\n",
       "</symbol>\n",
       "<symbol overflow=\"visible\" id=\"glyph-1518428330974446-0-6\">\n",
       "<path style=\"stroke:none;\" d=\"M 10.671875 -18.984375 C 10.671875 -20.09375 9.5625 -21.078125 7.984375 -21.078125 C 5.890625 -21.078125 3.34375 -19.484375 3.34375 -16.3125 L 3.34375 -12.890625 L 0.984375 -12.890625 L 0.984375 -11.953125 L 3.34375 -11.953125 L 3.34375 -2.265625 C 3.34375 -0.921875 3.015625 -0.921875 1.015625 -0.921875 L 1.015625 0 L 4.421875 -0.09375 C 5.625 -0.09375 7.03125 -0.09375 8.21875 0 L 8.21875 -0.921875 L 7.59375 -0.921875 C 5.375 -0.921875 5.328125 -1.25 5.328125 -2.328125 L 5.328125 -11.953125 L 8.734375 -11.953125 L 8.734375 -12.890625 L 5.234375 -12.890625 L 5.234375 -16.34375 C 5.234375 -18.984375 6.671875 -20.421875 7.984375 -20.421875 C 8.078125 -20.421875 8.515625 -20.421875 8.96875 -20.203125 C 8.609375 -20.09375 8.078125 -19.703125 8.078125 -18.953125 C 8.078125 -18.265625 8.546875 -17.671875 9.359375 -17.671875 C 10.21875 -17.671875 10.671875 -18.265625 10.671875 -18.984375 Z M 10.671875 -18.984375 \"/>\n",
       "</symbol>\n",
       "<symbol overflow=\"visible\" id=\"glyph-1518428330974446-0-7\">\n",
       "<path style=\"stroke:none;\" d=\"M 12.40625 -3.5625 C 12.40625 -3.859375 12.109375 -3.859375 12.015625 -3.859375 C 11.75 -3.859375 11.6875 -3.734375 11.625 -3.5625 C 10.765625 -0.78125 8.8125 -0.421875 7.71875 -0.421875 C 6.125 -0.421875 3.5 -1.703125 3.5 -6.515625 C 3.5 -11.390625 5.953125 -12.640625 7.53125 -12.640625 C 7.796875 -12.640625 9.6875 -12.609375 10.734375 -11.53125 C 9.5 -11.453125 9.328125 -10.546875 9.328125 -10.15625 C 9.328125 -9.390625 9.859375 -8.78125 10.703125 -8.78125 C 11.484375 -8.78125 12.078125 -9.296875 12.078125 -10.1875 C 12.078125 -12.21875 9.796875 -13.390625 7.5 -13.390625 C 3.765625 -13.390625 1.015625 -10.15625 1.015625 -6.453125 C 1.015625 -2.625 3.96875 0.328125 7.4375 0.328125 C 11.453125 0.328125 12.40625 -3.265625 12.40625 -3.5625 Z M 12.40625 -3.5625 \"/>\n",
       "</symbol>\n",
       "<symbol overflow=\"visible\" id=\"glyph-1518428330974446-0-8\">\n",
       "<path style=\"stroke:none;\" d=\"M 9.921875 -3.703125 L 9.921875 -5.40625 L 9.171875 -5.40625 L 9.171875 -3.765625 C 9.171875 -1.546875 8.28125 -0.421875 7.171875 -0.421875 C 5.171875 -0.421875 5.171875 -3.140625 5.171875 -3.640625 L 5.171875 -11.953125 L 9.453125 -11.953125 L 9.453125 -12.890625 L 5.171875 -12.890625 L 5.171875 -18.375 L 4.421875 -18.375 C 4.390625 -15.9375 3.5 -12.734375 0.5625 -12.609375 L 0.5625 -11.953125 L 3.109375 -11.953125 L 3.109375 -3.703125 C 3.109375 -0.03125 5.890625 0.328125 6.96875 0.328125 C 9.09375 0.328125 9.921875 -1.796875 9.921875 -3.703125 Z M 9.921875 -3.703125 \"/>\n",
       "</symbol>\n",
       "<symbol overflow=\"visible\" id=\"glyph-1518428330974446-0-9\">\n",
       "<path style=\"stroke:none;\" d=\"M 14.078125 -6.390625 C 14.078125 -10.21875 11.09375 -13.390625 7.46875 -13.390625 C 3.734375 -13.390625 0.84375 -10.140625 0.84375 -6.390625 C 0.84375 -2.546875 3.953125 0.328125 7.4375 0.328125 C 11.0625 0.328125 14.078125 -2.59375 14.078125 -6.390625 Z M 11.59375 -6.640625 C 11.59375 -5.5625 11.59375 -3.953125 10.9375 -2.625 C 10.28125 -1.28125 8.96875 -0.421875 7.46875 -0.421875 C 6.1875 -0.421875 4.875 -1.046875 4.0625 -2.421875 C 3.3125 -3.734375 3.3125 -5.5625 3.3125 -6.640625 C 3.3125 -7.796875 3.3125 -9.421875 4.03125 -10.734375 C 4.84375 -12.109375 6.25 -12.734375 7.4375 -12.734375 C 8.765625 -12.734375 10.046875 -12.078125 10.828125 -10.796875 C 11.59375 -9.5 11.59375 -7.765625 11.59375 -6.640625 Z M 11.59375 -6.640625 \"/>\n",
       "</symbol>\n",
       "<symbol overflow=\"visible\" id=\"glyph-1518428330974446-0-10\">\n",
       "<path style=\"stroke:none;\" d=\"M 10.875 -11.390625 C 10.875 -12.34375 9.953125 -13.21875 8.671875 -13.21875 C 6.484375 -13.21875 5.40625 -11.203125 4.984375 -9.921875 L 4.984375 -13.21875 L 0.84375 -12.890625 L 0.84375 -11.953125 C 2.921875 -11.953125 3.171875 -11.75 3.171875 -10.28125 L 3.171875 -2.265625 C 3.171875 -0.921875 2.84375 -0.921875 0.84375 -0.921875 L 0.84375 0 L 4.25 -0.09375 C 5.4375 -0.09375 6.84375 -0.09375 8.046875 0 L 8.046875 -0.921875 L 7.40625 -0.921875 C 5.203125 -0.921875 5.140625 -1.25 5.140625 -2.328125 L 5.140625 -6.9375 C 5.140625 -9.890625 6.390625 -12.546875 8.671875 -12.546875 C 8.875 -12.546875 8.9375 -12.546875 9 -12.53125 C 8.90625 -12.5 8.3125 -12.140625 8.3125 -11.359375 C 8.3125 -10.515625 8.9375 -10.078125 9.59375 -10.078125 C 10.140625 -10.078125 10.875 -10.4375 10.875 -11.390625 Z M 10.875 -11.390625 \"/>\n",
       "</symbol>\n",
       "<symbol overflow=\"visible\" id=\"glyph-1518428330974446-0-11\">\n",
       "<path style=\"stroke:none;\" d=\"M 7.625 0 L 7.625 -0.921875 C 5.625 -0.921875 5.296875 -0.921875 5.296875 -2.265625 L 5.296875 -20.75 L 0.984375 -20.421875 L 0.984375 -19.484375 C 3.078125 -19.484375 3.3125 -19.28125 3.3125 -17.8125 L 3.3125 -2.265625 C 3.3125 -0.921875 2.984375 -0.921875 0.984375 -0.921875 L 0.984375 0 L 4.296875 -0.09375 Z M 7.625 0 \"/>\n",
       "</symbol>\n",
       "<symbol overflow=\"visible\" id=\"glyph-1518428330974446-1-0\">\n",
       "<path style=\"stroke:none;\" d=\"\"/>\n",
       "</symbol>\n",
       "<symbol overflow=\"visible\" id=\"glyph-1518428330974446-1-1\">\n",
       "<path style=\"stroke:none;\" d=\"M 15.296875 -0.890625 C 15.296875 -1.828125 14.5625 -1.828125 14.078125 -1.828125 L 12.765625 -1.828125 L 12.765625 -8.765625 C 12.765625 -11.78125 11.234375 -13.0625 8.875 -13.0625 C 6.875 -13.0625 5.53125 -12.046875 4.96875 -11.484375 C 4.96875 -12.4375 4.96875 -12.890625 3.765625 -12.890625 L 1.578125 -12.890625 C 1.109375 -12.890625 0.359375 -12.890625 0.359375 -11.953125 C 0.359375 -11.0625 1.140625 -11.0625 1.546875 -11.0625 L 2.90625 -11.0625 L 2.90625 -1.828125 L 1.578125 -1.828125 C 1.109375 -1.828125 0.359375 -1.828125 0.359375 -0.890625 C 0.359375 0 1.140625 0 1.546875 0 L 6.3125 0 C 6.71875 0 7.5 0 7.5 -0.890625 C 7.5 -1.828125 6.75 -1.828125 6.28125 -1.828125 L 4.96875 -1.828125 L 4.96875 -7.109375 C 4.96875 -10.109375 7.171875 -11.234375 8.703125 -11.234375 C 10.28125 -11.234375 10.703125 -10.40625 10.703125 -8.609375 L 10.703125 -1.828125 L 9.53125 -1.828125 C 9.0625 -1.828125 8.3125 -1.828125 8.3125 -0.890625 C 8.3125 0 9.109375 0 9.53125 0 L 14.109375 0 C 14.53125 0 15.296875 0 15.296875 -0.890625 Z M 15.296875 -0.890625 \"/>\n",
       "</symbol>\n",
       "<symbol overflow=\"visible\" id=\"glyph-1518428330974446-1-2\">\n",
       "<path style=\"stroke:none;\" d=\"M 14.5625 -11.203125 C 14.5625 -11.8125 14.203125 -13.0625 11.71875 -13.0625 C 10.1875 -13.0625 8.28125 -12.53125 6.640625 -10.640625 L 6.640625 -11.65625 C 6.640625 -12.578125 6.453125 -12.890625 5.4375 -12.890625 L 2.15625 -12.890625 C 1.703125 -12.890625 0.953125 -12.890625 0.953125 -11.984375 C 0.953125 -11.0625 1.671875 -11.0625 2.15625 -11.0625 L 4.578125 -11.0625 L 4.578125 -1.828125 L 2.15625 -1.828125 C 1.703125 -1.828125 0.953125 -1.828125 0.953125 -0.921875 C 0.953125 0 1.671875 0 2.15625 0 L 9.953125 0 C 10.40625 0 11.171875 0 11.171875 -0.890625 C 11.171875 -1.828125 10.40625 -1.828125 9.953125 -1.828125 L 6.640625 -1.828125 L 6.640625 -5.5625 C 6.640625 -8.375 8.40625 -11.234375 12.015625 -11.234375 C 12.046875 -10.515625 12.546875 -9.921875 13.296875 -9.921875 C 13.953125 -9.921875 14.5625 -10.40625 14.5625 -11.203125 Z M 14.5625 -11.203125 \"/>\n",
       "</symbol>\n",
       "<symbol overflow=\"visible\" id=\"glyph-1518428330974446-1-3\">\n",
       "<path style=\"stroke:none;\" d=\"M 13.875 -3.265625 C 13.875 -4.09375 13 -4.09375 12.828125 -4.09375 C 12.28125 -4.09375 12.046875 -4 11.84375 -3.4375 C 11.171875 -1.90625 9.5625 -1.640625 8.734375 -1.640625 C 6.484375 -1.640625 4.25 -3.140625 3.765625 -5.703125 L 12.671875 -5.703125 C 13.296875 -5.703125 13.875 -5.703125 13.875 -6.8125 C 13.875 -10.21875 11.953125 -13.15625 8.078125 -13.15625 C 4.515625 -13.15625 1.640625 -10.15625 1.640625 -6.484375 C 1.640625 -2.84375 4.65625 0.171875 8.515625 0.171875 C 12.46875 0.171875 13.875 -2.515625 13.875 -3.265625 Z M 11.75 -7.5 L 3.796875 -7.5 C 4.21875 -9.6875 5.984375 -11.328125 8.078125 -11.328125 C 9.625 -11.328125 11.484375 -10.578125 11.75 -7.5 Z M 11.75 -7.5 \"/>\n",
       "</symbol>\n",
       "<symbol overflow=\"visible\" id=\"glyph-1518428330974446-1-4\">\n",
       "<path style=\"stroke:none;\" d=\"M 13.921875 -3.265625 C 13.921875 -4.09375 13.0625 -4.09375 12.890625 -4.09375 C 12.40625 -4.09375 12.109375 -4.03125 11.890625 -3.4375 C 11.71875 -3.046875 11.15625 -1.640625 8.9375 -1.640625 C 6.390625 -1.640625 4.25 -3.734375 4.25 -6.453125 C 4.25 -7.890625 5.078125 -11.328125 9.109375 -11.328125 C 9.75 -11.328125 10.90625 -11.328125 10.90625 -11.0625 C 10.9375 -10.015625 11.515625 -9.59375 12.21875 -9.59375 C 12.9375 -9.59375 13.5625 -10.109375 13.5625 -10.96875 C 13.5625 -13.15625 10.46875 -13.15625 9.109375 -13.15625 C 3.96875 -13.15625 2.1875 -9.09375 2.1875 -6.453125 C 2.1875 -2.875 4.984375 0.171875 8.765625 0.171875 C 12.90625 0.171875 13.921875 -2.75 13.921875 -3.265625 Z M 13.921875 -3.265625 \"/>\n",
       "</symbol>\n",
       "<symbol overflow=\"visible\" id=\"glyph-1518428330974446-1-5\">\n",
       "<path style=\"stroke:none;\" d=\"M 15.296875 -0.921875 C 15.296875 -1.828125 14.53125 -1.828125 14.109375 -1.828125 L 12.765625 -1.828125 L 12.765625 -11.65625 C 12.765625 -12.578125 12.578125 -12.890625 11.5625 -12.890625 L 9.390625 -12.890625 C 8.90625 -12.890625 8.15625 -12.890625 8.15625 -11.953125 C 8.15625 -11.0625 8.9375 -11.0625 9.359375 -11.0625 L 10.703125 -11.0625 L 10.703125 -4.6875 C 10.703125 -2 8.28125 -1.640625 7.328125 -1.640625 C 4.96875 -1.640625 4.96875 -2.625 4.96875 -3.59375 L 4.96875 -11.65625 C 4.96875 -12.578125 4.78125 -12.890625 3.765625 -12.890625 L 1.578125 -12.890625 C 1.109375 -12.890625 0.359375 -12.890625 0.359375 -11.953125 C 0.359375 -11.0625 1.140625 -11.0625 1.546875 -11.0625 L 2.90625 -11.0625 L 2.90625 -3.40625 C 2.90625 -0.53125 4.96875 0.171875 7.140625 0.171875 C 8.375 0.171875 9.59375 -0.125 10.703125 -0.953125 C 10.734375 0 11.359375 0 11.890625 0 L 14.078125 0 C 14.5625 0 15.296875 0 15.296875 -0.921875 Z M 15.296875 -0.921875 \"/>\n",
       "</symbol>\n",
       "<symbol overflow=\"visible\" id=\"glyph-1518428330974446-1-6\">\n",
       "<path style=\"stroke:none;\" d=\"M 13.71875 -3.734375 C 13.71875 -6.84375 9.859375 -7.46875 8.90625 -7.625 L 6.875 -7.984375 C 6.015625 -8.09375 3.96875 -8.453125 3.96875 -9.625 C 3.96875 -10.40625 4.9375 -11.328125 7.765625 -11.328125 C 10.25 -11.328125 10.671875 -10.4375 10.765625 -9.65625 C 10.796875 -9.140625 10.84375 -8.640625 11.78125 -8.640625 C 12.828125 -8.640625 12.828125 -9.265625 12.828125 -9.859375 L 12.828125 -11.921875 C 12.828125 -12.40625 12.828125 -13.15625 11.921875 -13.15625 C 11.203125 -13.15625 11.09375 -12.734375 11.03125 -12.53125 C 9.71875 -13.15625 8.40625 -13.15625 7.828125 -13.15625 C 2.84375 -13.15625 2.15625 -10.703125 2.15625 -9.625 C 2.15625 -6.875 5.296875 -6.359375 8.046875 -5.953125 C 9.5 -5.703125 11.890625 -5.328125 11.890625 -3.734375 C 11.890625 -2.625 10.796875 -1.640625 8.078125 -1.640625 C 6.671875 -1.640625 4.984375 -1.96875 4.25 -4.296875 C 4.09375 -4.84375 3.96875 -5.171875 3.203125 -5.171875 C 2.15625 -5.171875 2.15625 -4.546875 2.15625 -3.953125 L 2.15625 -1.046875 C 2.15625 -0.5625 2.15625 0.171875 3.046875 0.171875 C 3.3125 0.171875 3.796875 0.15625 4.15625 -0.953125 C 5.625 0.125 7.203125 0.171875 8.046875 0.171875 C 12.765625 0.171875 13.71875 -2.296875 13.71875 -3.734375 Z M 13.71875 -3.734375 \"/>\n",
       "</symbol>\n",
       "<symbol overflow=\"visible\" id=\"glyph-1518428330974446-1-7\">\n",
       "<path style=\"stroke:none;\" d=\"M 13.953125 -0.890625 C 13.953125 -1.828125 13.234375 -1.828125 12.765625 -1.828125 L 8.875 -1.828125 L 8.875 -17.03125 C 8.875 -17.96875 8.703125 -18.265625 7.6875 -18.265625 L 2.953125 -18.265625 C 2.484375 -18.265625 1.734375 -18.265625 1.734375 -17.34375 C 1.734375 -16.4375 2.515625 -16.4375 2.921875 -16.4375 L 6.8125 -16.4375 L 6.8125 -1.828125 L 2.953125 -1.828125 C 2.484375 -1.828125 1.734375 -1.828125 1.734375 -0.890625 C 1.734375 0 2.515625 0 2.921875 0 L 12.765625 0 C 13.21875 0 13.953125 0 13.953125 -0.890625 Z M 13.953125 -0.890625 \"/>\n",
       "</symbol>\n",
       "<symbol overflow=\"visible\" id=\"glyph-1518428330974446-1-8\">\n",
       "<path style=\"stroke:none;\" d=\"M 13.421875 -3.765625 C 13.421875 -4.296875 13.421875 -4.9375 12.375 -4.9375 C 11.390625 -4.9375 11.359375 -4.296875 11.359375 -3.796875 C 11.328125 -1.9375 9.625 -1.640625 8.9375 -1.640625 C 6.640625 -1.640625 6.640625 -3.203125 6.640625 -3.953125 L 6.640625 -11.0625 L 11.53125 -11.0625 C 11.984375 -11.0625 12.734375 -11.0625 12.734375 -11.953125 C 12.734375 -12.890625 12.015625 -12.890625 11.53125 -12.890625 L 6.640625 -12.890625 L 6.640625 -15.328125 C 6.640625 -15.90625 6.640625 -16.5625 5.625 -16.5625 C 4.578125 -16.5625 4.578125 -15.9375 4.578125 -15.328125 L 4.578125 -12.890625 L 1.96875 -12.890625 C 1.5 -12.890625 0.75 -12.890625 0.75 -11.953125 C 0.75 -11.0625 1.5 -11.0625 1.9375 -11.0625 L 4.578125 -11.0625 L 4.578125 -3.765625 C 4.578125 -0.890625 6.609375 0.171875 8.78125 0.171875 C 11 0.171875 13.421875 -1.109375 13.421875 -3.765625 Z M 13.421875 -3.765625 \"/>\n",
       "</symbol>\n",
       "<symbol overflow=\"visible\" id=\"glyph-1518428330974446-2-0\">\n",
       "<path style=\"stroke:none;\" d=\"\"/>\n",
       "</symbol>\n",
       "<symbol overflow=\"visible\" id=\"glyph-1518428330974446-2-1\">\n",
       "<path style=\"stroke:none;\" d=\"M 28.75 -7.71875 L 22.890625 -13.8125 L 21.96875 -12.828125 L 25.53125 -8.515625 L 1.859375 -8.515625 L 1.859375 -6.84375 L 25.53125 -6.84375 L 21.96875 -2.546875 L 22.890625 -1.546875 Z M 28.75 -7.71875 \"/>\n",
       "</symbol>\n",
       "<symbol overflow=\"visible\" id=\"glyph-1518428330974446-3-0\">\n",
       "<path style=\"stroke:none;\" d=\"\"/>\n",
       "</symbol>\n",
       "<symbol overflow=\"visible\" id=\"glyph-1518428330974446-3-1\">\n",
       "<path style=\"stroke:none;\" d=\"M 13.65625 -5.109375 C 13.65625 -7.5625 11.78125 -9.890625 8.671875 -10.515625 C 11.125 -11.328125 12.859375 -13.421875 12.859375 -15.78125 C 12.859375 -18.234375 10.21875 -19.90625 7.359375 -19.90625 C 4.328125 -19.90625 2.0625 -18.109375 2.0625 -15.84375 C 2.0625 -14.859375 2.71875 -14.28125 3.59375 -14.28125 C 4.515625 -14.28125 5.109375 -14.9375 5.109375 -15.8125 C 5.109375 -17.3125 3.703125 -17.3125 3.265625 -17.3125 C 4.1875 -18.765625 6.15625 -19.15625 7.234375 -19.15625 C 8.453125 -19.15625 10.109375 -18.5 10.109375 -15.8125 C 10.109375 -15.453125 10.046875 -13.71875 9.265625 -12.40625 C 8.375 -10.96875 7.359375 -10.875 6.609375 -10.84375 C 6.359375 -10.828125 5.65625 -10.765625 5.4375 -10.765625 C 5.203125 -10.734375 4.984375 -10.703125 4.984375 -10.40625 C 4.984375 -10.078125 5.203125 -10.078125 5.703125 -10.078125 L 7.03125 -10.078125 C 9.46875 -10.078125 10.578125 -8.046875 10.578125 -5.109375 C 10.578125 -1.046875 8.515625 -0.171875 7.203125 -0.171875 C 5.921875 -0.171875 3.671875 -0.6875 2.625 -2.453125 C 3.671875 -2.296875 4.609375 -2.953125 4.609375 -4.09375 C 4.609375 -5.171875 3.796875 -5.765625 2.921875 -5.765625 C 2.21875 -5.765625 1.25 -5.34375 1.25 -4.03125 C 1.25 -1.3125 4.03125 0.65625 7.296875 0.65625 C 10.9375 0.65625 13.65625 -2.0625 13.65625 -5.109375 Z M 13.65625 -5.109375 \"/>\n",
       "</symbol>\n",
       "<symbol overflow=\"visible\" id=\"glyph-1518428330974446-3-2\">\n",
       "<path style=\"stroke:none;\" d=\"M 13.421875 -5.203125 L 12.671875 -5.203125 C 12.53125 -4.296875 12.3125 -2.984375 12.015625 -2.546875 C 11.8125 -2.296875 9.828125 -2.296875 9.171875 -2.296875 L 3.796875 -2.296875 L 6.96875 -5.375 C 11.625 -9.5 13.421875 -11.125 13.421875 -14.109375 C 13.421875 -17.515625 10.734375 -19.90625 7.078125 -19.90625 C 3.703125 -19.90625 1.5 -17.15625 1.5 -14.5 C 1.5 -12.828125 2.984375 -12.828125 3.078125 -12.828125 C 3.59375 -12.828125 4.640625 -13.1875 4.640625 -14.40625 C 4.640625 -15.1875 4.09375 -15.96875 3.046875 -15.96875 C 2.8125 -15.96875 2.75 -15.96875 2.65625 -15.9375 C 3.34375 -17.875 4.96875 -18.984375 6.703125 -18.984375 C 9.421875 -18.984375 10.703125 -16.5625 10.703125 -14.109375 C 10.703125 -11.71875 9.203125 -9.359375 7.5625 -7.5 L 1.828125 -1.109375 C 1.5 -0.78125 1.5 -0.71875 1.5 0 L 12.578125 0 Z M 13.421875 -5.203125 \"/>\n",
       "</symbol>\n",
       "<symbol overflow=\"visible\" id=\"glyph-1518428330974446-3-3\">\n",
       "<path style=\"stroke:none;\" d=\"M 13.65625 -6.09375 C 13.65625 -9.890625 11 -12.765625 7.6875 -12.765625 C 5.65625 -12.765625 4.546875 -11.234375 3.953125 -9.796875 L 3.953125 -10.515625 C 3.953125 -18.078125 7.65625 -19.15625 9.171875 -19.15625 C 9.890625 -19.15625 11.15625 -18.984375 11.8125 -17.96875 C 11.359375 -17.96875 10.15625 -17.96875 10.15625 -16.625 C 10.15625 -15.6875 10.875 -15.25 11.53125 -15.25 C 12.015625 -15.25 12.90625 -15.515625 12.90625 -16.671875 C 12.90625 -18.46875 11.59375 -19.90625 9.109375 -19.90625 C 5.296875 -19.90625 1.25 -16.046875 1.25 -9.453125 C 1.25 -1.46875 4.71875 0.65625 7.5 0.65625 C 10.828125 0.65625 13.65625 -2.15625 13.65625 -6.09375 Z M 10.96875 -6.125 C 10.96875 -4.6875 10.96875 -3.203125 10.46875 -2.125 C 9.5625 -0.328125 8.1875 -0.171875 7.5 -0.171875 C 5.625 -0.171875 4.71875 -1.96875 4.546875 -2.421875 C 4 -3.828125 4 -6.21875 4 -6.75 C 4 -9.09375 4.96875 -12.078125 7.65625 -12.078125 C 8.125 -12.078125 9.5 -12.078125 10.4375 -10.21875 C 10.96875 -9.109375 10.96875 -7.59375 10.96875 -6.125 Z M 10.96875 -6.125 \"/>\n",
       "</symbol>\n",
       "<symbol overflow=\"visible\" id=\"glyph-1518428330974446-3-4\">\n",
       "<path style=\"stroke:none;\" d=\"M 12.53125 0 L 12.53125 -0.921875 L 11.5625 -0.921875 C 8.875 -0.921875 8.78125 -1.25 8.78125 -2.359375 L 8.78125 -19.125 C 8.78125 -19.84375 8.78125 -19.90625 8.09375 -19.90625 C 6.25 -18 3.609375 -18 2.65625 -18 L 2.65625 -17.0625 C 3.265625 -17.0625 5.015625 -17.0625 6.578125 -17.84375 L 6.578125 -2.359375 C 6.578125 -1.28125 6.484375 -0.921875 3.796875 -0.921875 L 2.84375 -0.921875 L 2.84375 0 C 3.890625 -0.09375 6.484375 -0.09375 7.6875 -0.09375 C 8.875 -0.09375 11.484375 -0.09375 12.53125 0 Z M 12.53125 0 \"/>\n",
       "</symbol>\n",
       "<symbol overflow=\"visible\" id=\"glyph-1518428330974446-3-5\">\n",
       "<path style=\"stroke:none;\" d=\"M 13.75 -9.5625 C 13.75 -11.953125 13.59375 -14.34375 12.546875 -16.5625 C 11.171875 -19.421875 8.734375 -19.90625 7.46875 -19.90625 C 5.671875 -19.90625 3.5 -19.125 2.265625 -16.34375 C 1.3125 -14.28125 1.171875 -11.953125 1.171875 -9.5625 C 1.171875 -7.328125 1.28125 -4.640625 2.515625 -2.359375 C 3.796875 0.0625 5.984375 0.65625 7.4375 0.65625 C 9.0625 0.65625 11.328125 0.03125 12.640625 -2.8125 C 13.59375 -4.875 13.75 -7.203125 13.75 -9.5625 Z M 11.265625 -9.921875 C 11.265625 -7.6875 11.265625 -5.65625 10.9375 -3.734375 C 10.484375 -0.890625 8.78125 0 7.4375 0 C 6.28125 0 4.515625 -0.75 3.96875 -3.609375 C 3.640625 -5.40625 3.640625 -8.15625 3.640625 -9.921875 C 3.640625 -11.84375 3.640625 -13.8125 3.890625 -15.421875 C 4.453125 -18.984375 6.703125 -19.25 7.4375 -19.25 C 8.421875 -19.25 10.40625 -18.71875 10.96875 -15.75 C 11.265625 -14.078125 11.265625 -11.8125 11.265625 -9.921875 Z M 11.265625 -9.921875 \"/>\n",
       "</symbol>\n",
       "</g>\n",
       "</defs>\n",
       "<g id=\"surface1\">\n",
       "<path style=\"fill-rule:nonzero;fill:rgb(75%,75%,75%);fill-opacity:1;stroke-width:1.19553;stroke-linecap:butt;stroke-linejoin:miter;stroke:rgb(0%,0%,0%);stroke-opacity:1;stroke-miterlimit:10;\" d=\"M 255.123031 19.37325 L -255.123063 19.37325 L -255.123063 -19.372844 L 255.123031 -19.372844 Z M 255.123031 19.37325 \" transform=\"matrix(1,0,0,-1,427.334,21.842)\"/>\n",
       "<g style=\"fill:rgb(0%,0%,0%);fill-opacity:1;\">\n",
       "  <use xlink:href=\"#glyph-1518428330974446-0-1\" x=\"9.962\" y=\"29.598\"/>\n",
       "  <use xlink:href=\"#glyph-1518428330974446-0-1\" x=\"32.37794\" y=\"29.598\"/>\n",
       "  <use xlink:href=\"#glyph-1518428330974446-0-2\" x=\"54.79388\" y=\"29.598\"/>\n",
       "  <use xlink:href=\"#glyph-1518428330974446-0-3\" x=\"79.690517\" y=\"29.598\"/>\n",
       "  <use xlink:href=\"#glyph-1518428330974446-0-4\" x=\"94.634477\" y=\"29.598\"/>\n",
       "  <use xlink:href=\"#glyph-1518428330974446-0-5\" x=\"102.943319\" y=\"29.598\"/>\n",
       "  <use xlink:href=\"#glyph-1518428330974446-0-1\" x=\"119.561003\" y=\"29.598\"/>\n",
       "  <use xlink:href=\"#glyph-1518428330974446-0-1\" x=\"141.976943\" y=\"29.598\"/>\n",
       "</g>\n",
       "<path style=\"fill-rule:nonzero;fill:rgb(75%,75%,75%);fill-opacity:1;stroke-width:1.19553;stroke-linecap:butt;stroke-linejoin:miter;stroke:rgb(0%,0%,0%);stroke-opacity:1;stroke-miterlimit:10;\" d=\"M 255.123031 -44.318156 L -255.123063 -44.318156 L -255.123063 -83.243937 L 255.123031 -83.243937 Z M 255.123031 -44.318156 \" transform=\"matrix(1,0,0,-1,427.334,21.842)\"/>\n",
       "<g style=\"fill:rgb(0%,0%,0%);fill-opacity:1;\">\n",
       "  <use xlink:href=\"#glyph-1518428330974446-1-1\" x=\"204.361\" y=\"94.943\"/>\n",
       "</g>\n",
       "<g style=\"fill:rgb(0%,0%,0%);fill-opacity:1;\">\n",
       "  <use xlink:href=\"#glyph-1518428330974446-2-1\" x=\"228.355\" y=\"94.943\"/>\n",
       "</g>\n",
       "<g style=\"fill:rgb(0%,0%,0%);fill-opacity:1;\">\n",
       "  <use xlink:href=\"#glyph-1518428330974446-3-1\" x=\"267.262\" y=\"94.943\"/>\n",
       "</g>\n",
       "<g style=\"fill:rgb(0%,0%,0%);fill-opacity:1;\">\n",
       "  <use xlink:href=\"#glyph-1518428330974446-1-2\" x=\"302.11\" y=\"94.943\"/>\n",
       "  <use xlink:href=\"#glyph-1518428330974446-1-3\" x=\"317.801158\" y=\"94.943\"/>\n",
       "  <use xlink:href=\"#glyph-1518428330974446-1-4\" x=\"333.492316\" y=\"94.943\"/>\n",
       "  <use xlink:href=\"#glyph-1518428330974446-1-5\" x=\"349.183474\" y=\"94.943\"/>\n",
       "  <use xlink:href=\"#glyph-1518428330974446-1-2\" x=\"364.874632\" y=\"94.943\"/>\n",
       "  <use xlink:href=\"#glyph-1518428330974446-1-6\" x=\"380.56579\" y=\"94.943\"/>\n",
       "  <use xlink:href=\"#glyph-1518428330974446-1-3\" x=\"396.256948\" y=\"94.943\"/>\n",
       "</g>\n",
       "<g style=\"fill:rgb(0%,0%,0%);fill-opacity:1;\">\n",
       "  <use xlink:href=\"#glyph-1518428330974446-2-1\" x=\"420.25\" y=\"94.943\"/>\n",
       "</g>\n",
       "<g style=\"fill:rgb(0%,0%,0%);fill-opacity:1;\">\n",
       "  <use xlink:href=\"#glyph-1518428330974446-3-2\" x=\"459.16\" y=\"94.943\"/>\n",
       "</g>\n",
       "<g style=\"fill:rgb(0%,0%,0%);fill-opacity:1;\">\n",
       "  <use xlink:href=\"#glyph-1518428330974446-1-2\" x=\"494.008\" y=\"94.943\"/>\n",
       "  <use xlink:href=\"#glyph-1518428330974446-1-3\" x=\"509.699158\" y=\"94.943\"/>\n",
       "  <use xlink:href=\"#glyph-1518428330974446-1-6\" x=\"525.390316\" y=\"94.943\"/>\n",
       "  <use xlink:href=\"#glyph-1518428330974446-1-5\" x=\"541.081474\" y=\"94.943\"/>\n",
       "  <use xlink:href=\"#glyph-1518428330974446-1-7\" x=\"556.772632\" y=\"94.943\"/>\n",
       "  <use xlink:href=\"#glyph-1518428330974446-1-8\" x=\"572.46379\" y=\"94.943\"/>\n",
       "</g>\n",
       "<g style=\"fill:rgb(0%,0%,0%);fill-opacity:1;\">\n",
       "  <use xlink:href=\"#glyph-1518428330974446-2-1\" x=\"596.458\" y=\"94.943\"/>\n",
       "</g>\n",
       "<g style=\"fill:rgb(0%,0%,0%);fill-opacity:1;\">\n",
       "  <use xlink:href=\"#glyph-1518428330974446-3-3\" x=\"635.365\" y=\"94.943\"/>\n",
       "</g>\n",
       "<g style=\"fill:rgb(0%,0%,0%);fill-opacity:1;\">\n",
       "  <use xlink:href=\"#glyph-1518428330974446-0-6\" x=\"33.573\" y=\"95.992\"/>\n",
       "  <use xlink:href=\"#glyph-1518428330974446-0-3\" x=\"42.718704\" y=\"95.992\"/>\n",
       "  <use xlink:href=\"#glyph-1518428330974446-0-7\" x=\"57.662664\" y=\"95.992\"/>\n",
       "  <use xlink:href=\"#glyph-1518428330974446-0-8\" x=\"70.9329\" y=\"95.992\"/>\n",
       "  <use xlink:href=\"#glyph-1518428330974446-0-9\" x=\"82.559301\" y=\"95.992\"/>\n",
       "  <use xlink:href=\"#glyph-1518428330974446-0-10\" x=\"97.503261\" y=\"95.992\"/>\n",
       "  <use xlink:href=\"#glyph-1518428330974446-0-4\" x=\"109.219326\" y=\"95.992\"/>\n",
       "  <use xlink:href=\"#glyph-1518428330974446-0-3\" x=\"117.528167\" y=\"95.992\"/>\n",
       "  <use xlink:href=\"#glyph-1518428330974446-0-11\" x=\"132.472127\" y=\"95.992\"/>\n",
       "</g>\n",
       "<path style=\"fill-rule:nonzero;fill:rgb(75%,75%,75%);fill-opacity:1;stroke-width:1.19553;stroke-linecap:butt;stroke-linejoin:miter;stroke:rgb(0%,0%,0%);stroke-opacity:1;stroke-miterlimit:10;\" d=\"M 255.123031 -108.099406 L -255.123063 -108.099406 L -255.123063 -147.021281 L 255.123031 -147.021281 Z M 255.123031 -108.099406 \" transform=\"matrix(1,0,0,-1,427.334,21.842)\"/>\n",
       "<g style=\"fill:rgb(0%,0%,0%);fill-opacity:1;\">\n",
       "  <use xlink:href=\"#glyph-1518428330974446-1-1\" x=\"204.361\" y=\"158.721\"/>\n",
       "</g>\n",
       "<g style=\"fill:rgb(0%,0%,0%);fill-opacity:1;\">\n",
       "  <use xlink:href=\"#glyph-1518428330974446-2-1\" x=\"228.355\" y=\"158.721\"/>\n",
       "</g>\n",
       "<g style=\"fill:rgb(0%,0%,0%);fill-opacity:1;\">\n",
       "  <use xlink:href=\"#glyph-1518428330974446-3-2\" x=\"267.262\" y=\"158.721\"/>\n",
       "</g>\n",
       "<g style=\"fill:rgb(0%,0%,0%);fill-opacity:1;\">\n",
       "  <use xlink:href=\"#glyph-1518428330974446-1-2\" x=\"302.11\" y=\"158.721\"/>\n",
       "  <use xlink:href=\"#glyph-1518428330974446-1-3\" x=\"317.801158\" y=\"158.721\"/>\n",
       "  <use xlink:href=\"#glyph-1518428330974446-1-4\" x=\"333.492316\" y=\"158.721\"/>\n",
       "  <use xlink:href=\"#glyph-1518428330974446-1-5\" x=\"349.183474\" y=\"158.721\"/>\n",
       "  <use xlink:href=\"#glyph-1518428330974446-1-2\" x=\"364.874632\" y=\"158.721\"/>\n",
       "  <use xlink:href=\"#glyph-1518428330974446-1-6\" x=\"380.56579\" y=\"158.721\"/>\n",
       "  <use xlink:href=\"#glyph-1518428330974446-1-3\" x=\"396.256948\" y=\"158.721\"/>\n",
       "</g>\n",
       "<g style=\"fill:rgb(0%,0%,0%);fill-opacity:1;\">\n",
       "  <use xlink:href=\"#glyph-1518428330974446-2-1\" x=\"420.25\" y=\"158.721\"/>\n",
       "</g>\n",
       "<g style=\"fill:rgb(0%,0%,0%);fill-opacity:1;\">\n",
       "  <use xlink:href=\"#glyph-1518428330974446-3-4\" x=\"459.16\" y=\"158.721\"/>\n",
       "</g>\n",
       "<g style=\"fill:rgb(0%,0%,0%);fill-opacity:1;\">\n",
       "  <use xlink:href=\"#glyph-1518428330974446-1-2\" x=\"494.008\" y=\"158.721\"/>\n",
       "  <use xlink:href=\"#glyph-1518428330974446-1-3\" x=\"509.699158\" y=\"158.721\"/>\n",
       "  <use xlink:href=\"#glyph-1518428330974446-1-6\" x=\"525.390316\" y=\"158.721\"/>\n",
       "  <use xlink:href=\"#glyph-1518428330974446-1-5\" x=\"541.081474\" y=\"158.721\"/>\n",
       "  <use xlink:href=\"#glyph-1518428330974446-1-7\" x=\"556.772632\" y=\"158.721\"/>\n",
       "  <use xlink:href=\"#glyph-1518428330974446-1-8\" x=\"572.46379\" y=\"158.721\"/>\n",
       "</g>\n",
       "<g style=\"fill:rgb(0%,0%,0%);fill-opacity:1;\">\n",
       "  <use xlink:href=\"#glyph-1518428330974446-2-1\" x=\"596.458\" y=\"158.721\"/>\n",
       "</g>\n",
       "<g style=\"fill:rgb(0%,0%,0%);fill-opacity:1;\">\n",
       "  <use xlink:href=\"#glyph-1518428330974446-3-2\" x=\"635.365\" y=\"158.721\"/>\n",
       "</g>\n",
       "<g style=\"fill:rgb(0%,0%,0%);fill-opacity:1;\">\n",
       "  <use xlink:href=\"#glyph-1518428330974446-0-6\" x=\"33.573\" y=\"159.769\"/>\n",
       "  <use xlink:href=\"#glyph-1518428330974446-0-3\" x=\"42.718704\" y=\"159.769\"/>\n",
       "  <use xlink:href=\"#glyph-1518428330974446-0-7\" x=\"57.662664\" y=\"159.769\"/>\n",
       "  <use xlink:href=\"#glyph-1518428330974446-0-8\" x=\"70.9329\" y=\"159.769\"/>\n",
       "  <use xlink:href=\"#glyph-1518428330974446-0-9\" x=\"82.559301\" y=\"159.769\"/>\n",
       "  <use xlink:href=\"#glyph-1518428330974446-0-10\" x=\"97.503261\" y=\"159.769\"/>\n",
       "  <use xlink:href=\"#glyph-1518428330974446-0-4\" x=\"109.219326\" y=\"159.769\"/>\n",
       "  <use xlink:href=\"#glyph-1518428330974446-0-3\" x=\"117.528167\" y=\"159.769\"/>\n",
       "  <use xlink:href=\"#glyph-1518428330974446-0-11\" x=\"132.472127\" y=\"159.769\"/>\n",
       "</g>\n",
       "<path style=\"fill-rule:nonzero;fill:rgb(75%,75%,75%);fill-opacity:1;stroke-width:1.19553;stroke-linecap:butt;stroke-linejoin:miter;stroke:rgb(0%,0%,0%);stroke-opacity:1;stroke-miterlimit:10;\" d=\"M 255.123031 -171.87675 L -255.123063 -171.87675 L -255.123063 -210.798625 L 255.123031 -210.798625 Z M 255.123031 -171.87675 \" transform=\"matrix(1,0,0,-1,427.334,21.842)\"/>\n",
       "<g style=\"fill:rgb(0%,0%,0%);fill-opacity:1;\">\n",
       "  <use xlink:href=\"#glyph-1518428330974446-1-1\" x=\"204.361\" y=\"222.499\"/>\n",
       "</g>\n",
       "<g style=\"fill:rgb(0%,0%,0%);fill-opacity:1;\">\n",
       "  <use xlink:href=\"#glyph-1518428330974446-2-1\" x=\"228.355\" y=\"222.499\"/>\n",
       "</g>\n",
       "<g style=\"fill:rgb(0%,0%,0%);fill-opacity:1;\">\n",
       "  <use xlink:href=\"#glyph-1518428330974446-3-4\" x=\"267.262\" y=\"222.499\"/>\n",
       "</g>\n",
       "<g style=\"fill:rgb(0%,0%,0%);fill-opacity:1;\">\n",
       "  <use xlink:href=\"#glyph-1518428330974446-1-2\" x=\"302.11\" y=\"222.499\"/>\n",
       "  <use xlink:href=\"#glyph-1518428330974446-1-3\" x=\"317.801158\" y=\"222.499\"/>\n",
       "  <use xlink:href=\"#glyph-1518428330974446-1-4\" x=\"333.492316\" y=\"222.499\"/>\n",
       "  <use xlink:href=\"#glyph-1518428330974446-1-5\" x=\"349.183474\" y=\"222.499\"/>\n",
       "  <use xlink:href=\"#glyph-1518428330974446-1-2\" x=\"364.874632\" y=\"222.499\"/>\n",
       "  <use xlink:href=\"#glyph-1518428330974446-1-6\" x=\"380.56579\" y=\"222.499\"/>\n",
       "  <use xlink:href=\"#glyph-1518428330974446-1-3\" x=\"396.256948\" y=\"222.499\"/>\n",
       "</g>\n",
       "<g style=\"fill:rgb(0%,0%,0%);fill-opacity:1;\">\n",
       "  <use xlink:href=\"#glyph-1518428330974446-2-1\" x=\"420.25\" y=\"222.499\"/>\n",
       "</g>\n",
       "<g style=\"fill:rgb(0%,0%,0%);fill-opacity:1;\">\n",
       "  <use xlink:href=\"#glyph-1518428330974446-3-4\" x=\"459.16\" y=\"222.499\"/>\n",
       "</g>\n",
       "<g style=\"fill:rgb(0%,0%,0%);fill-opacity:1;\">\n",
       "  <use xlink:href=\"#glyph-1518428330974446-1-2\" x=\"494.008\" y=\"222.499\"/>\n",
       "  <use xlink:href=\"#glyph-1518428330974446-1-3\" x=\"509.699158\" y=\"222.499\"/>\n",
       "  <use xlink:href=\"#glyph-1518428330974446-1-6\" x=\"525.390316\" y=\"222.499\"/>\n",
       "  <use xlink:href=\"#glyph-1518428330974446-1-5\" x=\"541.081474\" y=\"222.499\"/>\n",
       "  <use xlink:href=\"#glyph-1518428330974446-1-7\" x=\"556.772632\" y=\"222.499\"/>\n",
       "  <use xlink:href=\"#glyph-1518428330974446-1-8\" x=\"572.46379\" y=\"222.499\"/>\n",
       "</g>\n",
       "<g style=\"fill:rgb(0%,0%,0%);fill-opacity:1;\">\n",
       "  <use xlink:href=\"#glyph-1518428330974446-2-1\" x=\"596.458\" y=\"222.499\"/>\n",
       "</g>\n",
       "<g style=\"fill:rgb(0%,0%,0%);fill-opacity:1;\">\n",
       "  <use xlink:href=\"#glyph-1518428330974446-3-4\" x=\"635.365\" y=\"222.499\"/>\n",
       "</g>\n",
       "<g style=\"fill:rgb(0%,0%,0%);fill-opacity:1;\">\n",
       "  <use xlink:href=\"#glyph-1518428330974446-0-6\" x=\"33.573\" y=\"223.546\"/>\n",
       "  <use xlink:href=\"#glyph-1518428330974446-0-3\" x=\"42.718704\" y=\"223.546\"/>\n",
       "  <use xlink:href=\"#glyph-1518428330974446-0-7\" x=\"57.662664\" y=\"223.546\"/>\n",
       "  <use xlink:href=\"#glyph-1518428330974446-0-8\" x=\"70.9329\" y=\"223.546\"/>\n",
       "  <use xlink:href=\"#glyph-1518428330974446-0-9\" x=\"82.559301\" y=\"223.546\"/>\n",
       "  <use xlink:href=\"#glyph-1518428330974446-0-10\" x=\"97.503261\" y=\"223.546\"/>\n",
       "  <use xlink:href=\"#glyph-1518428330974446-0-4\" x=\"109.219326\" y=\"223.546\"/>\n",
       "  <use xlink:href=\"#glyph-1518428330974446-0-3\" x=\"117.528167\" y=\"223.546\"/>\n",
       "  <use xlink:href=\"#glyph-1518428330974446-0-11\" x=\"132.472127\" y=\"223.546\"/>\n",
       "</g>\n",
       "<path style=\"fill-rule:nonzero;fill:rgb(75%,75%,75%);fill-opacity:1;stroke-width:1.19553;stroke-linecap:butt;stroke-linejoin:miter;stroke:rgb(0%,0%,0%);stroke-opacity:1;stroke-miterlimit:10;\" d=\"M 255.123031 -235.743937 L -255.123063 -235.743937 L -255.123063 -274.486125 L 255.123031 -274.486125 Z M 255.123031 -235.743937 \" transform=\"matrix(1,0,0,-1,427.334,21.842)\"/>\n",
       "<g style=\"fill:rgb(0%,0%,0%);fill-opacity:1;\">\n",
       "  <use xlink:href=\"#glyph-1518428330974446-1-1\" x=\"388.412\" y=\"286.365\"/>\n",
       "</g>\n",
       "<g style=\"fill:rgb(0%,0%,0%);fill-opacity:1;\">\n",
       "  <use xlink:href=\"#glyph-1518428330974446-2-1\" x=\"412.406\" y=\"286.365\"/>\n",
       "</g>\n",
       "<g style=\"fill:rgb(0%,0%,0%);fill-opacity:1;\">\n",
       "  <use xlink:href=\"#glyph-1518428330974446-3-5\" x=\"451.313\" y=\"286.365\"/>\n",
       "</g>\n",
       "<g style=\"fill:rgb(0%,0%,0%);fill-opacity:1;\">\n",
       "  <use xlink:href=\"#glyph-1518428330974446-0-6\" x=\"33.573\" y=\"287.322\"/>\n",
       "  <use xlink:href=\"#glyph-1518428330974446-0-3\" x=\"42.718704\" y=\"287.322\"/>\n",
       "  <use xlink:href=\"#glyph-1518428330974446-0-7\" x=\"57.662664\" y=\"287.322\"/>\n",
       "  <use xlink:href=\"#glyph-1518428330974446-0-8\" x=\"70.9329\" y=\"287.322\"/>\n",
       "  <use xlink:href=\"#glyph-1518428330974446-0-9\" x=\"82.559301\" y=\"287.322\"/>\n",
       "  <use xlink:href=\"#glyph-1518428330974446-0-10\" x=\"97.503261\" y=\"287.322\"/>\n",
       "  <use xlink:href=\"#glyph-1518428330974446-0-4\" x=\"109.219326\" y=\"287.322\"/>\n",
       "  <use xlink:href=\"#glyph-1518428330974446-0-3\" x=\"117.528167\" y=\"287.322\"/>\n",
       "  <use xlink:href=\"#glyph-1518428330974446-0-11\" x=\"132.472127\" y=\"287.322\"/>\n",
       "</g>\n",
       "<path style=\"fill:none;stroke-width:1.19553;stroke-linecap:butt;stroke-linejoin:miter;stroke:rgb(0%,0%,0%);stroke-opacity:1;stroke-miterlimit:10;\" d=\"M 256.912094 -233.947062 C 290.927719 -233.947062 290.927719 -212.591594 262.650375 -212.591594 \" transform=\"matrix(1,0,0,-1,427.334,21.842)\"/>\n",
       "<path style=\" stroke:none;fill-rule:nonzero;fill:rgb(0%,0%,0%);fill-opacity:1;\" d=\"M 684.246094 234.433594 C 685.945312 234.75 688.707031 235.707031 690.621094 236.824219 L 690.621094 232.042969 C 688.707031 233.15625 685.945312 234.113281 684.246094 234.433594 \"/>\n",
       "<path style=\"fill:none;stroke-width:1.19553;stroke-linecap:butt;stroke-linejoin:miter;stroke:rgb(0%,0%,0%);stroke-opacity:1;stroke-miterlimit:10;\" d=\"M 256.912094 -170.079875 C 290.927719 -170.079875 290.927719 -148.81425 262.650375 -148.81425 \" transform=\"matrix(1,0,0,-1,427.334,21.842)\"/>\n",
       "<path style=\" stroke:none;fill-rule:nonzero;fill:rgb(0%,0%,0%);fill-opacity:1;\" d=\"M 684.246094 170.65625 C 685.945312 170.972656 688.707031 171.929688 690.621094 173.046875 L 690.621094 168.265625 C 688.707031 169.378906 685.945312 170.335938 684.246094 170.65625 \"/>\n",
       "<path style=\"fill:none;stroke-width:1.19553;stroke-linecap:butt;stroke-linejoin:miter;stroke:rgb(0%,0%,0%);stroke-opacity:1;stroke-miterlimit:10;\" d=\"M 256.912094 -106.302531 C 290.927719 -106.302531 290.927719 -85.033 262.650375 -85.033 \" transform=\"matrix(1,0,0,-1,427.334,21.842)\"/>\n",
       "<path style=\" stroke:none;fill-rule:nonzero;fill:rgb(0%,0%,0%);fill-opacity:1;\" d=\"M 684.246094 106.875 C 685.945312 107.195312 688.707031 108.152344 690.621094 109.265625 L 690.621094 104.484375 C 688.707031 105.601562 685.945312 106.558594 684.246094 106.875 \"/>\n",
       "<path style=\"fill:none;stroke-width:1.19553;stroke-linecap:butt;stroke-linejoin:miter;stroke:rgb(0%,0%,0%);stroke-opacity:1;stroke-miterlimit:10;\" d=\"M 256.912094 -42.525187 C 290.927719 -42.525187 290.927719 -21.165812 262.650375 -21.165812 \" transform=\"matrix(1,0,0,-1,427.334,21.842)\"/>\n",
       "<path style=\" stroke:none;fill-rule:nonzero;fill:rgb(0%,0%,0%);fill-opacity:1;\" d=\"M 684.246094 43.007812 C 685.945312 43.324219 688.707031 44.28125 690.621094 45.398438 L 690.621094 40.617188 C 688.707031 41.730469 685.945312 42.6875 684.246094 43.007812 \"/>\n",
       "<g style=\"fill:rgb(0%,0%,0%);fill-opacity:1;\">\n",
       "  <use xlink:href=\"#glyph-1518428330974446-3-4\" x=\"717.5\" y=\"252.346\"/>\n",
       "</g>\n",
       "<g style=\"fill:rgb(0%,0%,0%);fill-opacity:1;\">\n",
       "  <use xlink:href=\"#glyph-1518428330974446-3-4\" x=\"717.5\" y=\"188.57\"/>\n",
       "</g>\n",
       "<g style=\"fill:rgb(0%,0%,0%);fill-opacity:1;\">\n",
       "  <use xlink:href=\"#glyph-1518428330974446-3-2\" x=\"717.5\" y=\"124.794\"/>\n",
       "</g>\n",
       "<g style=\"fill:rgb(0%,0%,0%);fill-opacity:1;\">\n",
       "  <use xlink:href=\"#glyph-1518428330974446-3-3\" x=\"717.5\" y=\"61.016\"/>\n",
       "</g>\n",
       "</g>\n",
       "</svg>\n",
       "\n"
      ],
      "text/plain": [
       "TikzPictures.TikzPicture(L\"    \\node (main) [draw, fill=lightgray, minimum width=6cm] {$\\phantom{3}$};\n",
       "    \\node [left of=main, xshift=-3cm] {\\textrm{\\_\\_main\\_\\_}};\n",
       "    \\node (c1) [draw, fill=lightgray, below of=main, yshift=0.25cm, minimum width=6cm] {$\\textrm{\\tt n}\\rightarrow3\\ \\ \\textrm{\\tt recurse}\\rightarrow2\\ \\ \\textrm{\\tt result}\\rightarrow6$};\n",
       "    \\node [left of=c1, xshift=-3cm] {$\\textrm{factorial}$};\n",
       "    \\node (c2) [draw, fill=lightgray, below of=c1, yshift=0.25cm, minimum width=6cm] {$\\textrm{\\tt n}\\rightarrow2\\ \\ \\textrm{\\tt recurse}\\rightarrow1\\ \\ \\textrm{\\tt result}\\rightarrow2$};\n",
       "    \\node [left of=c2, xshift=-3cm] {$\\textrm{factorial}$};\n",
       "    \\node (c3) [draw, fill=lightgray, below of=c2, yshift=0.25cm, minimum width=6cm] {$\\textrm{\\tt n}\\rightarrow1\\ \\ \\textrm{\\tt recurse}\\rightarrow1\\ \\ \\textrm{\\tt result}\\rightarrow1$};\n",
       "    \\node [left of=c3, xshift=-3cm] {$\\textrm{factorial}$};\n",
       "    \\node (c4) [draw, fill=lightgray, below of=c3, yshift=0.25cm, minimum width=6cm] {$\\textrm{\\tt n}\\rightarrow0$};\n",
       "    \\node [left of=c4, xshift=-3cm] {$\\textrm{factorial}$};\n",
       "    \\draw [-latex](c4.north east) to[out=0,in=0,distance=0.4cm] (c3.south east);\n",
       "    \\draw [-latex](c3.north east) to[out=0,in=0,distance=0.4cm] (c2.south east);\n",
       "    \\draw [-latex](c2.north east) to[out=0,in=0,distance=0.4cm] (c1.south east);\n",
       "    \\draw [-latex](c1.north east) to[out=0,in=0,distance=0.4cm] (main.south east);\n",
       "    \\node [right of=c4, xshift=2.5cm, yshift=0.4cm] {$1$};\n",
       "    \\node [right of=c3, xshift=2.5cm, yshift=0.4cm] {$1$};\n",
       "    \\node [right of=c2, xshift=2.5cm, yshift=0.4cm] {$2$};\n",
       "    \\node [right of=c1, xshift=2.5cm, yshift=0.4cm] {$6$};\n",
       "\", \"very thick, scale=3, transform shape\", \"    \\\\usepackage{newtxmath}\\n    \\\\renewcommand{\\\\familydefault}{\\\\sfdefault}\\n\", true, true)"
      ]
     },
     "execution_count": 71,
     "metadata": {},
     "output_type": "execute_result"
    }
   ],
   "source": [
    "using TikzPictures\n",
    "TikzPicture(L\"\"\"\n",
    "    \\node (main) [draw, fill=lightgray, minimum width=6cm] {$\\phantom{3}$};\n",
    "    \\node [left of=main, xshift=-3cm] {\\textrm{\\_\\_main\\_\\_}};\n",
    "    \\node (c1) [draw, fill=lightgray, below of=main, yshift=0.25cm, minimum width=6cm] {$\\textrm{\\tt n}\\rightarrow3\\ \\ \\textrm{\\tt recurse}\\rightarrow2\\ \\ \\textrm{\\tt result}\\rightarrow6$};\n",
    "    \\node [left of=c1, xshift=-3cm] {$\\textrm{factorial}$};\n",
    "    \\node (c2) [draw, fill=lightgray, below of=c1, yshift=0.25cm, minimum width=6cm] {$\\textrm{\\tt n}\\rightarrow2\\ \\ \\textrm{\\tt recurse}\\rightarrow1\\ \\ \\textrm{\\tt result}\\rightarrow2$};\n",
    "    \\node [left of=c2, xshift=-3cm] {$\\textrm{factorial}$};\n",
    "    \\node (c3) [draw, fill=lightgray, below of=c2, yshift=0.25cm, minimum width=6cm] {$\\textrm{\\tt n}\\rightarrow1\\ \\ \\textrm{\\tt recurse}\\rightarrow1\\ \\ \\textrm{\\tt result}\\rightarrow1$};\n",
    "    \\node [left of=c3, xshift=-3cm] {$\\textrm{factorial}$};\n",
    "    \\node (c4) [draw, fill=lightgray, below of=c3, yshift=0.25cm, minimum width=6cm] {$\\textrm{\\tt n}\\rightarrow0$};\n",
    "    \\node [left of=c4, xshift=-3cm] {$\\textrm{factorial}$};\n",
    "    \\draw [-latex](c4.north east) to[out=0,in=0,distance=0.4cm] (c3.south east);\n",
    "    \\draw [-latex](c3.north east) to[out=0,in=0,distance=0.4cm] (c2.south east);\n",
    "    \\draw [-latex](c2.north east) to[out=0,in=0,distance=0.4cm] (c1.south east);\n",
    "    \\draw [-latex](c1.north east) to[out=0,in=0,distance=0.4cm] (main.south east);\n",
    "    \\node [right of=c4, xshift=2.5cm, yshift=0.4cm] {$1$};\n",
    "    \\node [right of=c3, xshift=2.5cm, yshift=0.4cm] {$1$};\n",
    "    \\node [right of=c2, xshift=2.5cm, yshift=0.4cm] {$2$};\n",
    "    \\node [right of=c1, xshift=2.5cm, yshift=0.4cm] {$6$};\n",
    "\"\"\"; options=\"very thick, scale=3, transform shape\", preamble=\"\"\"\n",
    "    \\\\usepackage{newtxmath}\n",
    "    \\\\renewcommand{\\\\familydefault}{\\\\sfdefault}\n",
    "\"\"\")"
   ]
  },
  {
   "cell_type": "markdown",
   "metadata": {},
   "source": [
    "In the last frame, the local variables `recurse` and `result` do not exist, because the branch that creates them does not run."
   ]
  },
  {
   "cell_type": "markdown",
   "metadata": {
    "slideshow": {
     "slide_type": "slide"
    }
   },
   "source": [
    "# Leap of faith\n",
    "\n",
    "Following the flow of execution is one way to read programs, but it can quickly become overwhelming. An alternative is what I call the “leap of faith”. When you come to a function call, instead of following the flow of execution, you assume that the function works correctly and returns the right result.\n",
    "\n",
    "In fact, you are already practicing this leap of faith when you use built-in functions. When you call `cos` or `exp`, you don’t examine the bodies of those functions. You just assume that they work because the people who wrote the built-in functions were good programmers."
   ]
  },
  {
   "cell_type": "markdown",
   "metadata": {
    "slideshow": {
     "slide_type": "subslide"
    }
   },
   "source": [
    "The same is true when you call one of your own functions. For example, we wrote a function called `is_divisible` that determines whether one number is divisible by another. Once we have convinced ourselves that this function is correct —by examining the code and testing— we can use the function without looking at the body again.\n",
    "\n",
    "The same is true of recursive programs. When you get to the recursive call, instead of following the flow of execution, you should assume that the recursive call works (returns the correct result) and then ask yourself, “Assuming that I can find the factorial of $n−1$, can I compute the factorial of $n$?” It is clear that you can, by multiplying by $n$.\n",
    "\n",
    "Of course, it’s a bit strange to assume that the function works correctly when you haven’t finished writing it, but that’s why it’s called a leap of faith!"
   ]
  },
  {
   "cell_type": "markdown",
   "metadata": {
    "slideshow": {
     "slide_type": "slide"
    }
   },
   "source": [
    "# One more example\n",
    "\n",
    "After `factorial`, the most common example of a recursively defined mathematical function is fibonacci, which has the following definition:\n",
    "\n",
    " \t \tfibonacci(0) = 0 \n",
    " \t \tfibonacci(1) = 1 \n",
    " \t \tfibonacci(n) = fibonacci(n−1) + fibonacci(n−2)"
   ]
  },
  {
   "cell_type": "markdown",
   "metadata": {
    "slideshow": {
     "slide_type": "subslide"
    }
   },
   "source": [
    "Translated into Julia, it looks like this:"
   ]
  },
  {
   "cell_type": "code",
   "execution_count": 76,
   "metadata": {
    "slideshow": {
     "slide_type": "-"
    }
   },
   "outputs": [
    {
     "data": {
      "text/plain": [
       "13"
      ]
     },
     "execution_count": 76,
     "metadata": {},
     "output_type": "execute_result"
    }
   ],
   "source": [
    "function fibonnaci(n)\n",
    "    if n == 0\n",
    "        return 0\n",
    "    elseif n == 1\n",
    "        return 1\n",
    "    else\n",
    "        return fibonnaci(n-1) + fibonnaci(n-2)\n",
    "    end\n",
    "end\n",
    "fibonnaci(7)"
   ]
  },
  {
   "cell_type": "markdown",
   "metadata": {},
   "source": [
    "If you try to follow the flow of execution here, even for fairly small values of `n`, your head explodes. But according to the leap of faith, if you assume that the two recursive calls work correctly, then it is clear that you get the right result by adding them together."
   ]
  },
  {
   "cell_type": "markdown",
   "metadata": {
    "slideshow": {
     "slide_type": "slide"
    }
   },
   "source": [
    "# Checking types\n",
    "\n",
    "What happens if we call `my_factorial` and give it 1.5 as an argument?"
   ]
  },
  {
   "cell_type": "code",
   "execution_count": 85,
   "metadata": {},
   "outputs": [
    {
     "ename": "LoadError",
     "evalue": "\u001b[91mStackOverflowError:\u001b[39m",
     "output_type": "error",
     "traceback": [
      "\u001b[91mStackOverflowError:\u001b[39m",
      "",
      "Stacktrace:",
      " [1] \u001b[1mmy_factorial\u001b[22m\u001b[22m\u001b[1m(\u001b[22m\u001b[22m::Float64\u001b[1m)\u001b[22m\u001b[22m at \u001b[1m./In[82]:5\u001b[22m\u001b[22m (repeats 52337 times)",
      " [2] \u001b[1minclude_string\u001b[22m\u001b[22m\u001b[1m(\u001b[22m\u001b[22m::String, ::String\u001b[1m)\u001b[22m\u001b[22m at \u001b[1m./loading.jl:522\u001b[22m\u001b[22m"
     ]
    }
   ],
   "source": [
    "my_factorial(1.5)"
   ]
  },
  {
   "cell_type": "markdown",
   "metadata": {},
   "source": [
    "It looks like an infinite recursion. How can that be? The function has a base case—when `n == 0`. But if `n` is not an integer, we can miss the base case and recurse forever.\n",
    "\n",
    "In the first recursive call, the value of `n` is 0.5. In the next, it is -0.5. From there, it gets smaller (more negative), but it will never be 0."
   ]
  },
  {
   "cell_type": "markdown",
   "metadata": {
    "slideshow": {
     "slide_type": "subslide"
    }
   },
   "source": [
    "We have two choices. We can try to generalize the factorial function to work with floating-point numbers, or we can make factorial check the type of its argument. The first option is called the gamma function and it’s a little beyond the scope of this course. So we’ll go for the second."
   ]
  },
  {
   "cell_type": "code",
   "execution_count": 10,
   "metadata": {
    "slideshow": {
     "slide_type": "-"
    }
   },
   "outputs": [
    {
     "data": {
      "text/plain": [
       "my_factorial (generic function with 1 method)"
      ]
     },
     "execution_count": 10,
     "metadata": {},
     "output_type": "execute_result"
    }
   ],
   "source": [
    "function my_factorial(n::Int)\n",
    "    if n < 0\n",
    "        println(\"Factorial is not defined for negative integers.\")\n",
    "        return\n",
    "    elseif n == 0\n",
    "        return 1\n",
    "    else\n",
    "        recurse = my_factorial(n-1)\n",
    "        result = n * recurse\n",
    "        return result\n",
    "    end\n",
    "end"
   ]
  },
  {
   "cell_type": "markdown",
   "metadata": {},
   "source": [
    "Attention to make this work and to remove the previous definition without type declarations, we have to restart the kernel. Details will follow in the lecture about *Methods*."
   ]
  },
  {
   "cell_type": "code",
   "execution_count": 13,
   "metadata": {
    "slideshow": {
     "slide_type": "subslide"
    }
   },
   "outputs": [
    {
     "ename": "LoadError",
     "evalue": "\u001b[91mMethodError: no method matching my_factorial(::Float64)\u001b[0m\nClosest candidates are:\n  my_factorial(\u001b[91m::Int64\u001b[39m) at In[10]:2\u001b[39m",
     "output_type": "error",
     "traceback": [
      "\u001b[91mMethodError: no method matching my_factorial(::Float64)\u001b[0m\nClosest candidates are:\n  my_factorial(\u001b[91m::Int64\u001b[39m) at In[10]:2\u001b[39m",
      "",
      "Stacktrace:",
      " [1] \u001b[1minclude_string\u001b[22m\u001b[22m\u001b[1m(\u001b[22m\u001b[22m::String, ::String\u001b[1m)\u001b[22m\u001b[22m at \u001b[1m./loading.jl:522\u001b[22m\u001b[22m"
     ]
    }
   ],
   "source": [
    "my_factorial(1.5)"
   ]
  },
  {
   "cell_type": "markdown",
   "metadata": {},
   "source": [
    "The specification of the argument type `Int` blocks nonintegers; the inclusion of a new base excludes negative integers. In the first case a `MethodError` is generated and in the second, the program prints an error message and returns `nothing` to indicate that something went wrong."
   ]
  },
  {
   "cell_type": "markdown",
   "metadata": {
    "slideshow": {
     "slide_type": "subslide"
    }
   },
   "source": [
    "If we get past both checks, we know that `n` is positive or zero, so we can prove that the recursion terminates.\n",
    "\n",
    "This program demonstrates a pattern sometimes called a *guardian*. The first conditional acts as guardians, protecting the code that follows from values that might cause an error. The guardians make it possible to prove the correctness of the code.\n",
    "\n",
    "Later we will see a more flexible alternative to printing an error message: throwing an *exception*."
   ]
  },
  {
   "cell_type": "markdown",
   "metadata": {
    "slideshow": {
     "slide_type": "slide"
    }
   },
   "source": [
    "# Debugging\n",
    "\n",
    "Breaking a large program into smaller functions creates natural checkpoints for debugging. If a function is not working, there are three possibilities to consider:\n",
    "\n",
    "1. There is something wrong with the arguments the function is getting; a precondition is violated.\n",
    "2. There is something wrong with the function; a postcondition is violated.\n",
    "3. There is something wrong with the return value or the way it is being used.\n",
    "\n",
    "To rule out the first possibility, you can add a print statement at the beginning of the function and display the values of the parameters (and maybe their types). Or you can write code that checks the preconditions explicitly by specifying the argument types in the function header.\n",
    "\n",
    "If the parameters look good, add a print statement before each return statement and display the return value. If possible, check the result by hand. Consider calling the function with values that make it easy to check the result."
   ]
  },
  {
   "cell_type": "markdown",
   "metadata": {
    "slideshow": {
     "slide_type": "subslide"
    }
   },
   "source": [
    "If the function seems to be working, look at the function call to make sure the return value is being used correctly (or used at all!).\n",
    "\n",
    "Adding print statements at the beginning and end of a function can help make the flow of execution more visible. For example, here is a version of factorial with print statements:"
   ]
  },
  {
   "cell_type": "code",
   "execution_count": 9,
   "metadata": {},
   "outputs": [
    {
     "data": {
      "text/plain": [
       "my_factorial (generic function with 1 method)"
      ]
     },
     "execution_count": 9,
     "metadata": {},
     "output_type": "execute_result"
    }
   ],
   "source": [
    "function my_factorial(n::Int)\n",
    "    space = \" \" ^ (4 * n)\n",
    "    println(space, \"factorial \", n)\n",
    "    if n == 0\n",
    "        println(space, \"returning 1\")\n",
    "        return 1\n",
    "    else\n",
    "        recurse = my_factorial(n-1)\n",
    "        result = n * recurse\n",
    "        println(space, \"returning \", result)\n",
    "        return result\n",
    "    end\n",
    "end"
   ]
  },
  {
   "cell_type": "markdown",
   "metadata": {
    "slideshow": {
     "slide_type": "subslide"
    }
   },
   "source": [
    "`space` is a string of space characters that controls the indentation of the output."
   ]
  },
  {
   "cell_type": "code",
   "execution_count": 10,
   "metadata": {},
   "outputs": [
    {
     "name": "stdout",
     "output_type": "stream",
     "text": [
      "                factorial 4\n",
      "            factorial 3\n",
      "        factorial 2\n",
      "    factorial 1\n",
      "factorial 0\n",
      "returning 1\n",
      "    returning 1\n",
      "        returning 2\n",
      "            returning 6\n",
      "                returning 24\n"
     ]
    },
    {
     "data": {
      "text/plain": [
       "24"
      ]
     },
     "execution_count": 10,
     "metadata": {},
     "output_type": "execute_result"
    }
   ],
   "source": [
    "my_factorial(4)"
   ]
  },
  {
   "cell_type": "markdown",
   "metadata": {},
   "source": [
    "If you are confused about the flow of execution, this kind of output can be helpful. It takes some time to develop effective scaffolding, but a little bit of scaffolding can save a lot of debugging."
   ]
  }
 ],
 "metadata": {
  "celltoolbar": "Slideshow",
  "kernelspec": {
   "display_name": "Julia 0.6.2",
   "language": "julia",
   "name": "julia-0.6"
  },
  "language_info": {
   "file_extension": ".jl",
   "mimetype": "application/julia",
   "name": "julia",
   "version": "0.6.2"
  },
  "livereveal": {
   "controls": "false",
   "scroll": "true",
   "start_slideshow_at": "selected"
  }
 },
 "nbformat": 4,
 "nbformat_minor": 2
}
