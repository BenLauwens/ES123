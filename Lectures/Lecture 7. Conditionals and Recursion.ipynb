{
 "cells": [
  {
   "cell_type": "markdown",
   "metadata": {
    "slideshow": {
     "slide_type": "slide"
    }
   },
   "source": [
    "# Floor division and modulus\n",
    "\n",
    "The floor division operator, `÷`, divides two numbers and rounds down to an integer. For example, suppose the run time of a movie is 105 minutes. You might want to know how long that is in hours. Conventional division returns a floating-point number:"
   ]
  },
  {
   "cell_type": "code",
   "execution_count": 4,
   "metadata": {},
   "outputs": [
    {
     "data": {
      "text/plain": [
       "1.75"
      ]
     },
     "execution_count": 4,
     "metadata": {},
     "output_type": "execute_result"
    }
   ],
   "source": [
    "minutes = 105\n",
    "minutes/60"
   ]
  },
  {
   "cell_type": "markdown",
   "metadata": {},
   "source": [
    "But we don’t normally write hours with decimal points. Floor division returns the integer number of hours, rounding down:"
   ]
  },
  {
   "cell_type": "code",
   "execution_count": 6,
   "metadata": {},
   "outputs": [
    {
     "data": {
      "text/plain": [
       "1"
      ]
     },
     "execution_count": 6,
     "metadata": {},
     "output_type": "execute_result"
    }
   ],
   "source": [
    "hours = minutes ÷ 60"
   ]
  },
  {
   "cell_type": "markdown",
   "metadata": {
    "slideshow": {
     "slide_type": "subslide"
    }
   },
   "source": [
    "To get the remainder, you could subtract off one hour in minutes:"
   ]
  },
  {
   "cell_type": "code",
   "execution_count": 7,
   "metadata": {},
   "outputs": [
    {
     "data": {
      "text/plain": [
       "45"
      ]
     },
     "execution_count": 7,
     "metadata": {},
     "output_type": "execute_result"
    }
   ],
   "source": [
    "remainder = minutes - hours * 60"
   ]
  },
  {
   "cell_type": "markdown",
   "metadata": {},
   "source": [
    "An alternative is to use the modulus function `mod` which divides two numbers and returns the remainder:"
   ]
  },
  {
   "cell_type": "code",
   "execution_count": 8,
   "metadata": {},
   "outputs": [
    {
     "data": {
      "text/plain": [
       "45"
      ]
     },
     "execution_count": 8,
     "metadata": {},
     "output_type": "execute_result"
    }
   ],
   "source": [
    "remainder = mod(minutes, 60)"
   ]
  },
  {
   "cell_type": "markdown",
   "metadata": {},
   "source": [
    "The modulus operator is more useful than it seems. For example, you can check whether one number is divisible by another—if `mod(x, y)` is zero, then `x` is divisible by `y`.\n",
    "\n",
    "Also, you can extract the right-most digit or digits from a number. For example, `mod(x, 10)` yields the right-most digit of `x` (in base 10). Similarly `mod(x, 100)` yields the last two digits."
   ]
  },
  {
   "cell_type": "markdown",
   "metadata": {
    "slideshow": {
     "slide_type": "slide"
    }
   },
   "source": [
    "# Boolean expressions\n",
    "\n",
    "A *boolean expression* is an expression that is either `true` or `false`. The following examples use the operator `==`, which compares two operands and produces `true` if they are equal and `false` otherwise:"
   ]
  },
  {
   "cell_type": "code",
   "execution_count": 9,
   "metadata": {},
   "outputs": [
    {
     "data": {
      "text/plain": [
       "true"
      ]
     },
     "execution_count": 9,
     "metadata": {},
     "output_type": "execute_result"
    }
   ],
   "source": [
    "5 == 5"
   ]
  },
  {
   "cell_type": "code",
   "execution_count": 10,
   "metadata": {},
   "outputs": [
    {
     "data": {
      "text/plain": [
       "false"
      ]
     },
     "execution_count": 10,
     "metadata": {},
     "output_type": "execute_result"
    }
   ],
   "source": [
    "5 == 6"
   ]
  },
  {
   "cell_type": "markdown",
   "metadata": {},
   "source": [
    "`true` and `false` are special values that belong to the type `Bool`; they are not strings:"
   ]
  },
  {
   "cell_type": "code",
   "execution_count": 11,
   "metadata": {},
   "outputs": [
    {
     "data": {
      "text/plain": [
       "Bool"
      ]
     },
     "execution_count": 11,
     "metadata": {},
     "output_type": "execute_result"
    }
   ],
   "source": [
    "typeof(true)"
   ]
  },
  {
   "cell_type": "code",
   "execution_count": 12,
   "metadata": {},
   "outputs": [
    {
     "data": {
      "text/plain": [
       "Bool"
      ]
     },
     "execution_count": 12,
     "metadata": {},
     "output_type": "execute_result"
    }
   ],
   "source": [
    "typeof(false)"
   ]
  },
  {
   "cell_type": "markdown",
   "metadata": {
    "slideshow": {
     "slide_type": "subslide"
    }
   },
   "source": [
    "The `==` operator is one of the *relational operators*; the others are:\n",
    "```julia\n",
    "      x ≠ y                # x is not equal to y\n",
    "      x != y\n",
    "      x > y                # x is greater than y\n",
    "      x < y                # x is less than y\n",
    "      x ≥ y                # x is greater than or equal to y\n",
    "      x >= y\n",
    "      x ≤ y                # x is less than or equal to y\n",
    "      x <= y\n",
    "```\n",
    "      \n",
    "A common error is to use a single equal sign (`=`) instead of a double equal sign (`==`). Remember that `=` is an assignment operator and `==` is a relational operator. There is no such thing as `=<` or `=>`."
   ]
  },
  {
   "cell_type": "code",
   "execution_count": 17,
   "metadata": {},
   "outputs": [
    {
     "data": {
      "text/plain": [
       "false"
      ]
     },
     "execution_count": 17,
     "metadata": {},
     "output_type": "execute_result"
    }
   ],
   "source": [
    "5 ≥ 6"
   ]
  },
  {
   "cell_type": "markdown",
   "metadata": {
    "slideshow": {
     "slide_type": "slide"
    }
   },
   "source": [
    "# Logical operators\n",
    "\n",
    "There are three main *logical operators*: and (`&`), or (`|`), and not (`!`). The semantics (meaning) of these operators is similar to their meaning in English. For example, `x > 0 & x < 10` is true only if `x` is greater than 0 and less than 10.\n",
    "\n",
    "`(mod(n, 2) == 0) | (mod(n, 3) == 0)` is true if either or both of the conditions is true, that is, if the number is divisible by 2 or 3."
   ]
  },
  {
   "cell_type": "code",
   "execution_count": 5,
   "metadata": {},
   "outputs": [
    {
     "data": {
      "text/plain": [
       "true"
      ]
     },
     "execution_count": 5,
     "metadata": {},
     "output_type": "execute_result"
    }
   ],
   "source": [
    "n = 8\n",
    "(mod(n, 2) == 0) | (mod(n, 3) == 0)"
   ]
  },
  {
   "cell_type": "markdown",
   "metadata": {},
   "source": [
    "Finally, the not operator negates a boolean expression, so `!(x > y)` is true if `x > y` is false, that is, if `x` is less than or equal to `y`."
   ]
  },
  {
   "cell_type": "markdown",
   "metadata": {
    "slideshow": {
     "slide_type": "subslide"
    }
   },
   "source": [
    "Strictly speaking, the logical operators in Julia are *bitwise operators*:"
   ]
  },
  {
   "cell_type": "code",
   "execution_count": 24,
   "metadata": {},
   "outputs": [
    {
     "data": {
      "text/plain": [
       "0"
      ]
     },
     "execution_count": 24,
     "metadata": {},
     "output_type": "execute_result"
    }
   ],
   "source": [
    "42 & true"
   ]
  },
  {
   "cell_type": "code",
   "execution_count": 25,
   "metadata": {},
   "outputs": [
    {
     "data": {
      "text/plain": [
       "Int64"
      ]
     },
     "execution_count": 25,
     "metadata": {},
     "output_type": "execute_result"
    }
   ],
   "source": [
    "typeof(42 & true)"
   ]
  },
  {
   "cell_type": "markdown",
   "metadata": {},
   "source": [
    "This flexibility can be useful, but there are some subtleties to it that might be confusing. You might want to avoid it (unless you know what you are doing)."
   ]
  },
  {
   "cell_type": "markdown",
   "metadata": {
    "slideshow": {
     "slide_type": "slide"
    }
   },
   "source": [
    "# Conditional execution\n",
    "\n",
    "In order to write useful programs, we almost always need the ability to check conditions and change the behavior of the program accordingly. *Conditional statements* give us this ability. The simplest form is the `if` statement:"
   ]
  },
  {
   "cell_type": "code",
   "execution_count": 29,
   "metadata": {},
   "outputs": [
    {
     "name": "stdout",
     "output_type": "stream",
     "text": [
      "1 is positive\n"
     ]
    }
   ],
   "source": [
    "x = 1\n",
    "if x ≥ 0\n",
    "    println(x, \" is positive\")\n",
    "end"
   ]
  },
  {
   "cell_type": "markdown",
   "metadata": {},
   "source": [
    "The boolean expression after `if` is called the *condition*. If it is true, the statements before `end` run. If not, nothing happens."
   ]
  },
  {
   "cell_type": "markdown",
   "metadata": {
    "slideshow": {
     "slide_type": "subslide"
    }
   },
   "source": [
    "`if` statements have the same structure as function definitions: a header followed by a body terminated with `end`. Statements like this are called *compound statements*.\n",
    "\n",
    "There is no limit on the number of statements that can appear in the body. Occasionally, it is useful to have a body with no statements (usually as a place keeper for code you haven’t written yet)."
   ]
  },
  {
   "cell_type": "code",
   "execution_count": 30,
   "metadata": {},
   "outputs": [],
   "source": [
    "if x < 0\n",
    "    # TODO: need to handle negative values!\n",
    "end"
   ]
  },
  {
   "cell_type": "markdown",
   "metadata": {
    "slideshow": {
     "slide_type": "slide"
    }
   },
   "source": [
    "# Alternative execution\n",
    "\n",
    "A second form of the `if` statement is *alternative execution*, in which there are two possibilities and the condition determines which one runs. The syntax looks like this:"
   ]
  },
  {
   "cell_type": "code",
   "execution_count": 35,
   "metadata": {},
   "outputs": [
    {
     "name": "stdout",
     "output_type": "stream",
     "text": [
      "4 is even\n"
     ]
    }
   ],
   "source": [
    "x = 4\n",
    "if mod(x, 2) == 0\n",
    "    println(x, \" is even\")\n",
    "else\n",
    "    println(x, \" is odd\")\n",
    "end"
   ]
  },
  {
   "cell_type": "markdown",
   "metadata": {},
   "source": [
    "If the remainder when `x` is divided by 2 is 0, then we know that `x` is even, and the program displays an appropriate message. If the condition is false, the second set of statements runs. Since the condition must be `true` or `false`, exactly one of the alternatives will run. The alternatives are called *branches*, because they are branches in the flow of execution."
   ]
  },
  {
   "cell_type": "markdown",
   "metadata": {
    "slideshow": {
     "slide_type": "slide"
    }
   },
   "source": [
    "# Chained conditionals\n",
    "\n",
    "Sometimes there are more than two possibilities and we need more than two branches. One way to express a computation like that is a *chained conditional*:"
   ]
  },
  {
   "cell_type": "code",
   "execution_count": 34,
   "metadata": {},
   "outputs": [
    {
     "name": "stdout",
     "output_type": "stream",
     "text": [
      "1 is less than 2\n"
     ]
    }
   ],
   "source": [
    "x = 1\n",
    "y = 2\n",
    "if x < y\n",
    "    println(x, \" is less than \", y)\n",
    "elseif x > y\n",
    "    println(x, \" is greater than \", y)\n",
    "else\n",
    "    println(x, \" and \", y, \" are equal\")\n",
    "end"
   ]
  },
  {
   "cell_type": "markdown",
   "metadata": {},
   "source": [
    "Again, exactly one branch will run. There is no limit on the number of `elseif` statements. If there is an `else` clause, it has to be at the end, but there doesn’t have to be one.\n",
    "\n",
    "Each condition is checked in order. If the first is false, the next is checked, and so on. If one of them is true, the corresponding branch runs and the statement ends. Even if more than one condition is true, only the first true branch runs."
   ]
  },
  {
   "cell_type": "markdown",
   "metadata": {
    "slideshow": {
     "slide_type": "subslide"
    }
   },
   "source": [
    "Python:\n",
    "```python\n",
    "if x < y:\n",
    "    print(x, 'is less than', y)\n",
    "elif x > y:\n",
    "    print(x, 'is greater than', y)\n",
    "else:\n",
    "    print(x, 'and', y, 'are equal')\n",
    "```\n",
    "\n",
    "`if` statements have the same structure as function definitions: a header followed by an indented body.\n",
    "\n",
    "There is no limit on the number of statements that can appear in the body, but there has to be at least one. Occasionally, it is useful to have a body with no statements (usually as a place keeper for code you haven’t written yet). In that case, you can use the `pass` statement, which does nothing.\n",
    "\n",
    "```python\n",
    "if x < 0:\n",
    "    pass          # TODO: need to handle negative values\n",
    "```"
   ]
  },
  {
   "cell_type": "markdown",
   "metadata": {
    "slideshow": {
     "slide_type": "subslide"
    }
   },
   "source": [
    "C++:\n",
    "```C++\n",
    "if (x < y) {\n",
    "    std::cout << x << \" is less than \" << y << std::endl;\n",
    "} else if (x > y) {\n",
    "    std::cout << x << \" is greater than \" << y << std::endl;\n",
    "} else {\n",
    "    std::cout << x << \" and \" << y << \" are equal\" << std::endl;\n",
    "}\n",
    "```\n",
    "`if` statements have the same structure as function definitions: a header followed by a body started with `{` and ended with `}`. The condition is surrounded by parentheses."
   ]
  },
  {
   "cell_type": "markdown",
   "metadata": {
    "slideshow": {
     "slide_type": "slide"
    }
   },
   "source": [
    "# Nested conditionals\n",
    "\n",
    "One conditional can also be nested within another. We could have written the example in the previous section like this:"
   ]
  },
  {
   "cell_type": "code",
   "execution_count": 39,
   "metadata": {},
   "outputs": [
    {
     "name": "stdout",
     "output_type": "stream",
     "text": [
      "1 is less than 2\n"
     ]
    }
   ],
   "source": [
    "x = 1\n",
    "y = 2\n",
    "if x == y\n",
    "    println(x, \" and \", y, \" are equal\")\n",
    "else\n",
    "    if x < y\n",
    "        println(x, \" is less than \", y)\n",
    "    else\n",
    "        println(x, \" is greater than \", y)\n",
    "    end\n",
    "end"
   ]
  },
  {
   "cell_type": "markdown",
   "metadata": {},
   "source": [
    "The outer conditional contains two branches. The first branch contains a simple statement. The second branch contains another if statement, which has two branches of its own. Those two branches are both simple statements, although they could have been conditional statements as well."
   ]
  },
  {
   "cell_type": "markdown",
   "metadata": {
    "slideshow": {
     "slide_type": "subslide"
    }
   },
   "source": [
    "Although the indentation of the statements makes the structure apparent, *nested conditionals* become difficult to read very quickly. It is a good idea to avoid them when you can.\n",
    "\n",
    "Logical operators often provide a way to simplify nested conditional statements. For example, we can rewrite the following code using a single conditional:"
   ]
  },
  {
   "cell_type": "code",
   "execution_count": 42,
   "metadata": {},
   "outputs": [],
   "source": [
    "x = 1\n",
    "if 0 < x\n",
    "    if x < 10\n",
    "        println(x, \" is a positive single-digit number\")\n",
    "    end\n",
    "end"
   ]
  },
  {
   "cell_type": "markdown",
   "metadata": {},
   "source": [
    "The `print` statement runs only if we make it past both conditionals, so we can get the same effect with the `&` operator:"
   ]
  },
  {
   "cell_type": "code",
   "execution_count": 2,
   "metadata": {},
   "outputs": [
    {
     "name": "stdout",
     "output_type": "stream",
     "text": [
      "1 is a positive single-digit number\n"
     ]
    }
   ],
   "source": [
    "x = 1\n",
    "if (0 < x) & (x < 10)\n",
    "    println(x, \" is a positive single-digit number\")\n",
    "end"
   ]
  },
  {
   "cell_type": "markdown",
   "metadata": {
    "slideshow": {
     "slide_type": "subslide"
    }
   },
   "source": [
    "For this kind of condition. Julia provides a more concise option:"
   ]
  },
  {
   "cell_type": "code",
   "execution_count": 3,
   "metadata": {},
   "outputs": [
    {
     "name": "stdout",
     "output_type": "stream",
     "text": [
      "1 is a positive single-digit number\n"
     ]
    }
   ],
   "source": [
    "if 0 < x < 10\n",
    "    println(x, \" is a positive single-digit number\")\n",
    "end"
   ]
  },
  {
   "cell_type": "markdown",
   "metadata": {
    "slideshow": {
     "slide_type": "slide"
    }
   },
   "source": [
    "# Short-circuit Evaluation\n",
    "\n",
    "*Short-circuit evaluation* is quite similar to conditional evaluation. The behaviour is found in most imperative programming languages having the `&&` and `||` boolean operators: in a series of boolean expressions connected by these operators, only the minimum number of expressions are evaluated as are necessary to determine the final boolean value of the entire chain:"
   ]
  },
  {
   "cell_type": "code",
   "execution_count": 51,
   "metadata": {},
   "outputs": [
    {
     "name": "stdout",
     "output_type": "stream",
     "text": [
      "1 is a positive single-digit number\n"
     ]
    }
   ],
   "source": [
    "x = 1\n",
    "if 0 < x && x < 10\n",
    "    println(x, \" is a positive single-digit number\")\n",
    "end"
   ]
  },
  {
   "cell_type": "markdown",
   "metadata": {},
   "source": [
    "If `x` is less than 0 only the first conditional `0 < x` is evaluated."
   ]
  },
  {
   "cell_type": "markdown",
   "metadata": {},
   "source": [
    "Both `&&` and `||` associate to the right, but `&&` has higher precedence than `||` does."
   ]
  },
  {
   "cell_type": "markdown",
   "metadata": {
    "slideshow": {
     "slide_type": "slide"
    }
   },
   "source": [
    "# Recursion\n",
    "\n",
    "It is legal for one function to call another; it is also legal for a function to call itself. It may not be obvious why that is a good thing, but it turns out to be one of the most magical things a program can do. For example, look at the following function:"
   ]
  },
  {
   "cell_type": "code",
   "execution_count": 56,
   "metadata": {},
   "outputs": [
    {
     "name": "stdout",
     "output_type": "stream",
     "text": [
      "3 2 1 Blastoff!\n"
     ]
    }
   ],
   "source": [
    "function countdown(n)\n",
    "    if n <= 0\n",
    "        println(\"Blastoff!\")\n",
    "    else\n",
    "        print(n, \" \")\n",
    "        countdown(n-1)\n",
    "    end\n",
    "end\n",
    "countdown(3)"
   ]
  },
  {
   "cell_type": "markdown",
   "metadata": {},
   "source": [
    "If `n` is 0 or negative, it outputs the word, “Blastoff!” Otherwise, it outputs `n` and then calls a function named countdown —itself— passing `n-1` as an argument."
   ]
  },
  {
   "cell_type": "markdown",
   "metadata": {
    "slideshow": {
     "slide_type": "subslide"
    }
   },
   "source": [
    "What happens if we call this function like `countdown(3)`?\n",
    "\n",
    "The execution of `countdown` begins with `n=3`, and since `n` is greater than 0, it outputs the value 3, and then calls itself...\n",
    "\n",
    "* The execution of `countdown` begins with `n=2`, and since `n` is greater than 0, it outputs the value 2, and then calls itself...\n",
    "    \n",
    "    * The execution of `countdown` begins with `n=1`, and since `n` is greater than 0, it outputs the value 1, and then calls itself...\n",
    "        \n",
    "        * The execution of `countdown` begins with `n=0`, and since `n` is not greater than 0, it outputs the word, `“Blastoff!”` and then returns.\n",
    "            \n",
    "    * The `countdown` that got `n=1` returns.\n",
    "        \n",
    "* The `countdown` that got `n=2` returns.\n",
    "    \n",
    "The `countdown` that got `n=3` returns.\n",
    "\n",
    "And then you’re back in `__main__`."
   ]
  },
  {
   "cell_type": "markdown",
   "metadata": {
    "slideshow": {
     "slide_type": "subslide"
    }
   },
   "source": [
    "A function that calls itself is *recursive*; the process of executing it is called *recursion*.\n",
    "As another example, we can write a function that prints a string n times:"
   ]
  },
  {
   "cell_type": "code",
   "execution_count": 2,
   "metadata": {},
   "outputs": [
    {
     "name": "stdout",
     "output_type": "stream",
     "text": [
      "Hello\n",
      "before n=3\n",
      "Hello\n",
      "before n=2\n",
      "Hello\n",
      "before n=1\n",
      "after n=1\n",
      "after n=2\n",
      "after n=3\n"
     ]
    }
   ],
   "source": [
    "function print_n(s, n)\n",
    "    if n <= 0\n",
    "        return\n",
    "    end\n",
    "    println(s)\n",
    "    println(\"before n=\",n)\n",
    "    print_n(s, n-1)\n",
    "    println(\"after n=\",n)\n",
    "end\n",
    "print_n(\"Hello\", 3)"
   ]
  },
  {
   "cell_type": "markdown",
   "metadata": {},
   "source": [
    "If `n <= 0` the *return* statement exits the function. The flow of execution immediately returns to the caller, and the remaining lines of the function don’t run.\n",
    "\n",
    "The rest of the function is similar to `countdown`: it displays `s` and then calls itself to display `s` `n−1` additional times. So the number of lines of output is `1 + (n - 1)`, which adds up to `n`."
   ]
  },
  {
   "cell_type": "markdown",
   "metadata": {
    "slideshow": {
     "slide_type": "subslide"
    }
   },
   "source": [
    "For simple examples like this, it is probably easier to use a `for` loop. But we will see examples later that are hard to write with a `for` loop and easy to write with recursion, so it is good to start early."
   ]
  },
  {
   "cell_type": "markdown",
   "metadata": {
    "slideshow": {
     "slide_type": "slide"
    }
   },
   "source": [
    "# Stack diagrams for recursive functions\n",
    "\n",
    "In lecture 5, we used a stack diagram to represent the state of a program during a function call. The same kind of diagram can help interpret a recursive function.\n",
    "\n",
    "Every time a function gets called, Julia creates a frame to contain the function’s local variables and parameters. For a recursive function, there might be more than one frame on the stack at the same time."
   ]
  },
  {
   "cell_type": "code",
   "execution_count": 66,
   "metadata": {
    "hideCode": true,
    "hidePrompt": true
   },
   "outputs": [
    {
     "data": {
      "image/svg+xml": [
       "<?xml version=\"1.0\" encoding=\"UTF-8\"?>\n",
       "<svg xmlns=\"http://www.w3.org/2000/svg\" xmlns:xlink=\"http://www.w3.org/1999/xlink\" width=\"512.971pt\" height=\"297.447pt\" viewBox=\"0 0 512.971 297.447\" version=\"1.1\">\n",
       "<defs>\n",
       "<g>\n",
       "<symbol overflow=\"visible\" id=\"glyph-1518428330974427-0-0\">\n",
       "<path style=\"stroke:none;\" d=\"\"/>\n",
       "</symbol>\n",
       "<symbol overflow=\"visible\" id=\"glyph-1518428330974427-0-1\">\n",
       "<path style=\"stroke:none;\" d=\"M 22.421875 4.125 L 22.421875 3.34375 L 0 3.34375 L 0 4.125 Z M 22.421875 4.125 \"/>\n",
       "</symbol>\n",
       "<symbol overflow=\"visible\" id=\"glyph-1518428330974427-0-2\">\n",
       "<path style=\"stroke:none;\" d=\"M 24.296875 0 L 24.296875 -0.921875 C 22.75 -0.921875 22 -0.921875 21.96875 -1.828125 L 21.96875 -7.53125 C 21.96875 -10.109375 21.96875 -11.03125 21.046875 -12.109375 C 20.625 -12.609375 19.640625 -13.21875 17.90625 -13.21875 C 15.390625 -13.21875 14.078125 -11.421875 13.5625 -10.28125 C 13.15625 -12.890625 10.9375 -13.21875 9.59375 -13.21875 C 7.40625 -13.21875 6.015625 -11.921875 5.171875 -10.078125 L 5.171875 -13.21875 L 0.953125 -12.890625 L 0.953125 -11.953125 C 3.046875 -11.953125 3.28125 -11.75 3.28125 -10.28125 L 3.28125 -2.265625 C 3.28125 -0.921875 2.953125 -0.921875 0.953125 -0.921875 L 0.953125 0 L 4.328125 -0.09375 L 7.6875 0 L 7.6875 -0.921875 C 5.671875 -0.921875 5.34375 -0.921875 5.34375 -2.265625 L 5.34375 -7.765625 C 5.34375 -10.875 7.46875 -12.546875 9.390625 -12.546875 C 11.265625 -12.546875 11.59375 -10.9375 11.59375 -9.234375 L 11.59375 -2.265625 C 11.59375 -0.921875 11.265625 -0.921875 9.265625 -0.921875 L 9.265625 0 L 12.640625 -0.09375 L 15.984375 0 L 15.984375 -0.921875 C 13.984375 -0.921875 13.65625 -0.921875 13.65625 -2.265625 L 13.65625 -7.765625 C 13.65625 -10.875 15.78125 -12.546875 17.6875 -12.546875 C 19.578125 -12.546875 19.90625 -10.9375 19.90625 -9.234375 L 19.90625 -2.265625 C 19.90625 -0.921875 19.578125 -0.921875 17.578125 -0.921875 L 17.578125 0 L 20.953125 -0.09375 Z M 24.296875 0 \"/>\n",
       "</symbol>\n",
       "<symbol overflow=\"visible\" id=\"glyph-1518428330974427-0-3\">\n",
       "<path style=\"stroke:none;\" d=\"M 14.4375 -2.65625 L 14.4375 -4.328125 L 13.6875 -4.328125 L 13.6875 -2.65625 C 13.6875 -0.921875 12.9375 -0.75 12.609375 -0.75 C 11.625 -0.75 11.515625 -2.09375 11.515625 -2.234375 L 11.515625 -8.21875 C 11.515625 -9.46875 11.515625 -10.640625 10.4375 -11.75 C 9.265625 -12.90625 7.765625 -13.390625 6.34375 -13.390625 C 3.890625 -13.390625 1.828125 -11.984375 1.828125 -10.015625 C 1.828125 -9.109375 2.421875 -8.609375 3.203125 -8.609375 C 4.03125 -8.609375 4.578125 -9.203125 4.578125 -9.984375 C 4.578125 -10.34375 4.421875 -11.328125 3.046875 -11.359375 C 3.859375 -12.40625 5.328125 -12.734375 6.28125 -12.734375 C 7.734375 -12.734375 9.453125 -11.5625 9.453125 -8.90625 L 9.453125 -7.796875 C 7.921875 -7.71875 5.828125 -7.625 3.953125 -6.71875 C 1.703125 -5.703125 0.953125 -4.15625 0.953125 -2.84375 C 0.953125 -0.421875 3.859375 0.328125 5.734375 0.328125 C 7.71875 0.328125 9.09375 -0.859375 9.65625 -2.265625 C 9.78125 -1.078125 10.578125 0.171875 11.984375 0.171875 C 12.609375 0.171875 14.4375 -0.234375 14.4375 -2.65625 Z M 9.453125 -4.1875 C 9.453125 -1.34375 7.296875 -0.328125 5.953125 -0.328125 C 4.484375 -0.328125 3.265625 -1.375 3.265625 -2.875 C 3.265625 -4.515625 4.515625 -7 9.453125 -7.171875 Z M 9.453125 -4.1875 \"/>\n",
       "</symbol>\n",
       "<symbol overflow=\"visible\" id=\"glyph-1518428330974427-0-4\">\n",
       "<path style=\"stroke:none;\" d=\"M 7.390625 0 L 7.390625 -0.921875 C 5.40625 -0.921875 5.296875 -1.078125 5.296875 -2.234375 L 5.296875 -13.21875 L 1.109375 -12.890625 L 1.109375 -11.953125 C 3.046875 -11.953125 3.3125 -11.78125 3.3125 -10.3125 L 3.3125 -2.265625 C 3.3125 -0.921875 2.984375 -0.921875 0.984375 -0.921875 L 0.984375 0 L 4.28125 -0.09375 C 5.328125 -0.09375 6.359375 -0.03125 7.390625 0 Z M 5.734375 -18.046875 C 5.734375 -18.859375 5.046875 -19.640625 4.15625 -19.640625 C 3.140625 -19.640625 2.546875 -18.796875 2.546875 -18.046875 C 2.546875 -17.25 3.234375 -16.46875 4.125 -16.46875 C 5.140625 -16.46875 5.734375 -17.3125 5.734375 -18.046875 Z M 5.734375 -18.046875 \"/>\n",
       "</symbol>\n",
       "<symbol overflow=\"visible\" id=\"glyph-1518428330974427-0-5\">\n",
       "<path style=\"stroke:none;\" d=\"M 15.984375 0 L 15.984375 -0.921875 C 14.4375 -0.921875 13.6875 -0.921875 13.65625 -1.828125 L 13.65625 -7.53125 C 13.65625 -10.109375 13.65625 -11.03125 12.734375 -12.109375 C 12.3125 -12.609375 11.328125 -13.21875 9.59375 -13.21875 C 7.40625 -13.21875 6.015625 -11.921875 5.171875 -10.078125 L 5.171875 -13.21875 L 0.953125 -12.890625 L 0.953125 -11.953125 C 3.046875 -11.953125 3.28125 -11.75 3.28125 -10.28125 L 3.28125 -2.265625 C 3.28125 -0.921875 2.953125 -0.921875 0.953125 -0.921875 L 0.953125 0 L 4.328125 -0.09375 L 7.6875 0 L 7.6875 -0.921875 C 5.671875 -0.921875 5.34375 -0.921875 5.34375 -2.265625 L 5.34375 -7.765625 C 5.34375 -10.875 7.46875 -12.546875 9.390625 -12.546875 C 11.265625 -12.546875 11.59375 -10.9375 11.59375 -9.234375 L 11.59375 -2.265625 C 11.59375 -0.921875 11.265625 -0.921875 9.265625 -0.921875 L 9.265625 0 L 12.640625 -0.09375 Z M 15.984375 0 \"/>\n",
       "</symbol>\n",
       "<symbol overflow=\"visible\" id=\"glyph-1518428330974427-0-6\">\n",
       "<path style=\"stroke:none;\" d=\"M 12.40625 -3.5625 C 12.40625 -3.859375 12.109375 -3.859375 12.015625 -3.859375 C 11.75 -3.859375 11.6875 -3.734375 11.625 -3.5625 C 10.765625 -0.78125 8.8125 -0.421875 7.71875 -0.421875 C 6.125 -0.421875 3.5 -1.703125 3.5 -6.515625 C 3.5 -11.390625 5.953125 -12.640625 7.53125 -12.640625 C 7.796875 -12.640625 9.6875 -12.609375 10.734375 -11.53125 C 9.5 -11.453125 9.328125 -10.546875 9.328125 -10.15625 C 9.328125 -9.390625 9.859375 -8.78125 10.703125 -8.78125 C 11.484375 -8.78125 12.078125 -9.296875 12.078125 -10.1875 C 12.078125 -12.21875 9.796875 -13.390625 7.5 -13.390625 C 3.765625 -13.390625 1.015625 -10.15625 1.015625 -6.453125 C 1.015625 -2.625 3.96875 0.328125 7.4375 0.328125 C 11.453125 0.328125 12.40625 -3.265625 12.40625 -3.5625 Z M 12.40625 -3.5625 \"/>\n",
       "</symbol>\n",
       "<symbol overflow=\"visible\" id=\"glyph-1518428330974427-0-7\">\n",
       "<path style=\"stroke:none;\" d=\"M 14.078125 -6.390625 C 14.078125 -10.21875 11.09375 -13.390625 7.46875 -13.390625 C 3.734375 -13.390625 0.84375 -10.140625 0.84375 -6.390625 C 0.84375 -2.546875 3.953125 0.328125 7.4375 0.328125 C 11.0625 0.328125 14.078125 -2.59375 14.078125 -6.390625 Z M 11.59375 -6.640625 C 11.59375 -5.5625 11.59375 -3.953125 10.9375 -2.625 C 10.28125 -1.28125 8.96875 -0.421875 7.46875 -0.421875 C 6.1875 -0.421875 4.875 -1.046875 4.0625 -2.421875 C 3.3125 -3.734375 3.3125 -5.5625 3.3125 -6.640625 C 3.3125 -7.796875 3.3125 -9.421875 4.03125 -10.734375 C 4.84375 -12.109375 6.25 -12.734375 7.4375 -12.734375 C 8.765625 -12.734375 10.046875 -12.078125 10.828125 -10.796875 C 11.59375 -9.5 11.59375 -7.765625 11.59375 -6.640625 Z M 11.59375 -6.640625 \"/>\n",
       "</symbol>\n",
       "<symbol overflow=\"visible\" id=\"glyph-1518428330974427-0-8\">\n",
       "<path style=\"stroke:none;\" d=\"M 15.984375 0 L 15.984375 -0.921875 C 13.90625 -0.921875 13.65625 -1.140625 13.65625 -2.59375 L 13.65625 -13.21875 L 9.265625 -12.890625 L 9.265625 -11.953125 C 11.359375 -11.953125 11.59375 -11.75 11.59375 -10.28125 L 11.59375 -4.96875 C 11.59375 -2.359375 10.15625 -0.328125 7.984375 -0.328125 C 5.46875 -0.328125 5.34375 -1.734375 5.34375 -3.28125 L 5.34375 -13.21875 L 0.953125 -12.890625 L 0.953125 -11.953125 C 3.28125 -11.953125 3.28125 -11.859375 3.28125 -9.203125 L 3.28125 -4.71875 C 3.28125 -2.390625 3.28125 0.328125 7.828125 0.328125 C 9.5 0.328125 10.828125 -0.515625 11.6875 -2.359375 L 11.6875 0.328125 Z M 15.984375 0 \"/>\n",
       "</symbol>\n",
       "<symbol overflow=\"visible\" id=\"glyph-1518428330974427-0-9\">\n",
       "<path style=\"stroke:none;\" d=\"M 9.921875 -3.703125 L 9.921875 -5.40625 L 9.171875 -5.40625 L 9.171875 -3.765625 C 9.171875 -1.546875 8.28125 -0.421875 7.171875 -0.421875 C 5.171875 -0.421875 5.171875 -3.140625 5.171875 -3.640625 L 5.171875 -11.953125 L 9.453125 -11.953125 L 9.453125 -12.890625 L 5.171875 -12.890625 L 5.171875 -18.375 L 4.421875 -18.375 C 4.390625 -15.9375 3.5 -12.734375 0.5625 -12.609375 L 0.5625 -11.953125 L 3.109375 -11.953125 L 3.109375 -3.703125 C 3.109375 -0.03125 5.890625 0.328125 6.96875 0.328125 C 9.09375 0.328125 9.921875 -1.796875 9.921875 -3.703125 Z M 9.921875 -3.703125 \"/>\n",
       "</symbol>\n",
       "<symbol overflow=\"visible\" id=\"glyph-1518428330974427-0-10\">\n",
       "<path style=\"stroke:none;\" d=\"M 15.75 0 L 15.75 -0.921875 C 13.65625 -0.921875 13.421875 -1.140625 13.421875 -2.59375 L 13.421875 -20.75 L 9.109375 -20.421875 L 9.109375 -19.484375 C 11.203125 -19.484375 11.453125 -19.28125 11.453125 -17.8125 L 11.453125 -11.359375 C 10.578125 -12.4375 9.296875 -13.21875 7.6875 -13.21875 C 4.15625 -13.21875 1.015625 -10.28125 1.015625 -6.421875 C 1.015625 -2.625 3.953125 0.328125 7.359375 0.328125 C 9.265625 0.328125 10.609375 -0.6875 11.359375 -1.640625 L 11.359375 0.328125 Z M 11.359375 -3.53125 C 11.359375 -2.984375 11.359375 -2.921875 11.03125 -2.421875 C 10.140625 -0.984375 8.78125 -0.328125 7.5 -0.328125 C 6.15625 -0.328125 5.078125 -1.109375 4.359375 -2.234375 C 3.59375 -3.46875 3.5 -5.171875 3.5 -6.390625 C 3.5 -7.5 3.5625 -9.296875 4.421875 -10.640625 C 5.046875 -11.5625 6.1875 -12.546875 7.796875 -12.546875 C 8.84375 -12.546875 10.109375 -12.109375 11.03125 -10.765625 C 11.359375 -10.25 11.359375 -10.1875 11.359375 -9.65625 Z M 11.359375 -3.53125 \"/>\n",
       "</symbol>\n",
       "<symbol overflow=\"visible\" id=\"glyph-1518428330974427-0-11\">\n",
       "<path style=\"stroke:none;\" d=\"M 21.015625 -11.953125 L 21.015625 -12.890625 C 20.359375 -12.828125 19.484375 -12.796875 18.828125 -12.796875 L 16.046875 -12.890625 L 16.046875 -11.953125 C 17.125 -11.921875 17.78125 -11.390625 17.78125 -10.515625 C 17.78125 -10.34375 17.78125 -10.28125 17.640625 -9.890625 L 14.921875 -2.234375 L 11.953125 -10.578125 C 11.84375 -10.9375 11.8125 -11 11.8125 -11.15625 C 11.8125 -11.953125 12.96875 -11.953125 13.5625 -11.953125 L 13.5625 -12.890625 L 10.46875 -12.796875 C 9.5625 -12.796875 8.703125 -12.828125 7.796875 -12.890625 L 7.796875 -11.953125 C 8.90625 -11.953125 9.390625 -11.890625 9.6875 -11.515625 C 9.828125 -11.328125 10.15625 -10.4375 10.375 -9.859375 L 7.796875 -2.625 L 4.96875 -10.609375 C 4.8125 -10.96875 4.8125 -11.03125 4.8125 -11.15625 C 4.8125 -11.953125 5.984375 -11.953125 6.578125 -11.953125 L 6.578125 -12.890625 L 3.3125 -12.796875 L 0.53125 -12.890625 L 0.53125 -11.953125 C 2.03125 -11.953125 2.390625 -11.859375 2.75 -10.90625 L 6.515625 -0.328125 C 6.671875 0.09375 6.75 0.328125 7.140625 0.328125 C 7.53125 0.328125 7.59375 0.15625 7.734375 -0.265625 L 10.765625 -8.734375 L 13.8125 -0.234375 C 13.921875 0.09375 14.015625 0.328125 14.40625 0.328125 C 14.796875 0.328125 14.890625 0.0625 15 -0.234375 L 18.5 -10.046875 C 19.046875 -11.53125 19.96875 -11.921875 21.015625 -11.953125 Z M 21.015625 -11.953125 \"/>\n",
       "</symbol>\n",
       "<symbol overflow=\"visible\" id=\"glyph-1518428330974427-1-0\">\n",
       "<path style=\"stroke:none;\" d=\"\"/>\n",
       "</symbol>\n",
       "<symbol overflow=\"visible\" id=\"glyph-1518428330974427-1-1\">\n",
       "<path style=\"stroke:none;\" d=\"M 13.75 -3.5 L 13.125 -2.71875 C 12.25 -1.609375 11.71875 -1.140625 11.296875 -1.140625 C 11.0625 -1.140625 10.828125 -1.375 10.828125 -1.609375 C 10.828125 -1.828125 10.828125 -1.828125 11.234375 -3.5 L 12.9375 -9.65625 C 13.09375 -10.28125 13.21875 -10.9375 13.21875 -11.359375 C 13.21875 -12.4375 12.40625 -13.1875 11.234375 -13.1875 C 9.328125 -13.1875 7.4375 -11.390625 4.359375 -6.609375 L 6.359375 -13.125 L 6.28125 -13.1875 C 4.65625 -12.859375 4.03125 -12.734375 1.4375 -12.25 L 1.4375 -11.78125 C 2.953125 -11.75 3.34375 -11.5625 3.34375 -10.96875 C 3.34375 -10.796875 3.3125 -10.609375 3.28125 -10.46875 L 0.421875 0 L 2.65625 0 C 4.0625 -4.71875 4.328125 -5.375 5.65625 -7.40625 C 7.4375 -10.15625 8.96875 -11.65625 10.078125 -11.65625 C 10.515625 -11.65625 10.796875 -11.328125 10.796875 -10.796875 C 10.796875 -10.4375 10.609375 -9.453125 10.375 -8.515625 L 9.0625 -3.59375 C 8.671875 -2.0625 8.578125 -1.640625 8.578125 -1.34375 C 8.578125 -0.203125 9 0.265625 9.984375 0.265625 C 11.328125 0.265625 12.109375 -0.359375 14.171875 -3.109375 Z M 13.75 -3.5 \"/>\n",
       "</symbol>\n",
       "<symbol overflow=\"visible\" id=\"glyph-1518428330974427-2-0\">\n",
       "<path style=\"stroke:none;\" d=\"\"/>\n",
       "</symbol>\n",
       "<symbol overflow=\"visible\" id=\"glyph-1518428330974427-2-1\">\n",
       "<path style=\"stroke:none;\" d=\"M 28.75 -7.71875 L 22.890625 -13.8125 L 21.96875 -12.828125 L 25.53125 -8.515625 L 1.859375 -8.515625 L 1.859375 -6.84375 L 25.53125 -6.84375 L 21.96875 -2.546875 L 22.890625 -1.546875 Z M 28.75 -7.71875 \"/>\n",
       "</symbol>\n",
       "<symbol overflow=\"visible\" id=\"glyph-1518428330974427-3-0\">\n",
       "<path style=\"stroke:none;\" d=\"\"/>\n",
       "</symbol>\n",
       "<symbol overflow=\"visible\" id=\"glyph-1518428330974427-3-1\">\n",
       "<path style=\"stroke:none;\" d=\"M 13.65625 -5.109375 C 13.65625 -7.5625 11.78125 -9.890625 8.671875 -10.515625 C 11.125 -11.328125 12.859375 -13.421875 12.859375 -15.78125 C 12.859375 -18.234375 10.21875 -19.90625 7.359375 -19.90625 C 4.328125 -19.90625 2.0625 -18.109375 2.0625 -15.84375 C 2.0625 -14.859375 2.71875 -14.28125 3.59375 -14.28125 C 4.515625 -14.28125 5.109375 -14.9375 5.109375 -15.8125 C 5.109375 -17.3125 3.703125 -17.3125 3.265625 -17.3125 C 4.1875 -18.765625 6.15625 -19.15625 7.234375 -19.15625 C 8.453125 -19.15625 10.109375 -18.5 10.109375 -15.8125 C 10.109375 -15.453125 10.046875 -13.71875 9.265625 -12.40625 C 8.375 -10.96875 7.359375 -10.875 6.609375 -10.84375 C 6.359375 -10.828125 5.65625 -10.765625 5.4375 -10.765625 C 5.203125 -10.734375 4.984375 -10.703125 4.984375 -10.40625 C 4.984375 -10.078125 5.203125 -10.078125 5.703125 -10.078125 L 7.03125 -10.078125 C 9.46875 -10.078125 10.578125 -8.046875 10.578125 -5.109375 C 10.578125 -1.046875 8.515625 -0.171875 7.203125 -0.171875 C 5.921875 -0.171875 3.671875 -0.6875 2.625 -2.453125 C 3.671875 -2.296875 4.609375 -2.953125 4.609375 -4.09375 C 4.609375 -5.171875 3.796875 -5.765625 2.921875 -5.765625 C 2.21875 -5.765625 1.25 -5.34375 1.25 -4.03125 C 1.25 -1.3125 4.03125 0.65625 7.296875 0.65625 C 10.9375 0.65625 13.65625 -2.0625 13.65625 -5.109375 Z M 13.65625 -5.109375 \"/>\n",
       "</symbol>\n",
       "<symbol overflow=\"visible\" id=\"glyph-1518428330974427-3-2\">\n",
       "<path style=\"stroke:none;\" d=\"M 13.421875 -5.203125 L 12.671875 -5.203125 C 12.53125 -4.296875 12.3125 -2.984375 12.015625 -2.546875 C 11.8125 -2.296875 9.828125 -2.296875 9.171875 -2.296875 L 3.796875 -2.296875 L 6.96875 -5.375 C 11.625 -9.5 13.421875 -11.125 13.421875 -14.109375 C 13.421875 -17.515625 10.734375 -19.90625 7.078125 -19.90625 C 3.703125 -19.90625 1.5 -17.15625 1.5 -14.5 C 1.5 -12.828125 2.984375 -12.828125 3.078125 -12.828125 C 3.59375 -12.828125 4.640625 -13.1875 4.640625 -14.40625 C 4.640625 -15.1875 4.09375 -15.96875 3.046875 -15.96875 C 2.8125 -15.96875 2.75 -15.96875 2.65625 -15.9375 C 3.34375 -17.875 4.96875 -18.984375 6.703125 -18.984375 C 9.421875 -18.984375 10.703125 -16.5625 10.703125 -14.109375 C 10.703125 -11.71875 9.203125 -9.359375 7.5625 -7.5 L 1.828125 -1.109375 C 1.5 -0.78125 1.5 -0.71875 1.5 0 L 12.578125 0 Z M 13.421875 -5.203125 \"/>\n",
       "</symbol>\n",
       "<symbol overflow=\"visible\" id=\"glyph-1518428330974427-3-3\">\n",
       "<path style=\"stroke:none;\" d=\"M 12.53125 0 L 12.53125 -0.921875 L 11.5625 -0.921875 C 8.875 -0.921875 8.78125 -1.25 8.78125 -2.359375 L 8.78125 -19.125 C 8.78125 -19.84375 8.78125 -19.90625 8.09375 -19.90625 C 6.25 -18 3.609375 -18 2.65625 -18 L 2.65625 -17.0625 C 3.265625 -17.0625 5.015625 -17.0625 6.578125 -17.84375 L 6.578125 -2.359375 C 6.578125 -1.28125 6.484375 -0.921875 3.796875 -0.921875 L 2.84375 -0.921875 L 2.84375 0 C 3.890625 -0.09375 6.484375 -0.09375 7.6875 -0.09375 C 8.875 -0.09375 11.484375 -0.09375 12.53125 0 Z M 12.53125 0 \"/>\n",
       "</symbol>\n",
       "<symbol overflow=\"visible\" id=\"glyph-1518428330974427-3-4\">\n",
       "<path style=\"stroke:none;\" d=\"M 13.75 -9.5625 C 13.75 -11.953125 13.59375 -14.34375 12.546875 -16.5625 C 11.171875 -19.421875 8.734375 -19.90625 7.46875 -19.90625 C 5.671875 -19.90625 3.5 -19.125 2.265625 -16.34375 C 1.3125 -14.28125 1.171875 -11.953125 1.171875 -9.5625 C 1.171875 -7.328125 1.28125 -4.640625 2.515625 -2.359375 C 3.796875 0.0625 5.984375 0.65625 7.4375 0.65625 C 9.0625 0.65625 11.328125 0.03125 12.640625 -2.8125 C 13.59375 -4.875 13.75 -7.203125 13.75 -9.5625 Z M 11.265625 -9.921875 C 11.265625 -7.6875 11.265625 -5.65625 10.9375 -3.734375 C 10.484375 -0.890625 8.78125 0 7.4375 0 C 6.28125 0 4.515625 -0.75 3.96875 -3.609375 C 3.640625 -5.40625 3.640625 -8.15625 3.640625 -9.921875 C 3.640625 -11.84375 3.640625 -13.8125 3.890625 -15.421875 C 4.453125 -18.984375 6.703125 -19.25 7.4375 -19.25 C 8.421875 -19.25 10.40625 -18.71875 10.96875 -15.75 C 11.265625 -14.078125 11.265625 -11.8125 11.265625 -9.921875 Z M 11.265625 -9.921875 \"/>\n",
       "</symbol>\n",
       "</g>\n",
       "<clipPath id=\"clip-1518428330974427-1\">\n",
       "  <path d=\"M 172 2 L 512.972656 2 L 512.972656 42 L 172 42 Z M 172 2 \"/>\n",
       "</clipPath>\n",
       "<clipPath id=\"clip-1518428330974427-2\">\n",
       "  <path d=\"M 171 1 L 512.972656 1 L 512.972656 42 L 171 42 Z M 171 1 \"/>\n",
       "</clipPath>\n",
       "<clipPath id=\"clip-1518428330974427-3\">\n",
       "  <path d=\"M 172 66 L 512.972656 66 L 512.972656 106 L 172 106 Z M 172 66 \"/>\n",
       "</clipPath>\n",
       "<clipPath id=\"clip-1518428330974427-4\">\n",
       "  <path d=\"M 171 65 L 512.972656 65 L 512.972656 106 L 171 106 Z M 171 65 \"/>\n",
       "</clipPath>\n",
       "<clipPath id=\"clip-1518428330974427-5\">\n",
       "  <path d=\"M 172 129 L 512.972656 129 L 512.972656 169 L 172 169 Z M 172 129 \"/>\n",
       "</clipPath>\n",
       "<clipPath id=\"clip-1518428330974427-6\">\n",
       "  <path d=\"M 171 129 L 512.972656 129 L 512.972656 170 L 171 170 Z M 171 129 \"/>\n",
       "</clipPath>\n",
       "<clipPath id=\"clip-1518428330974427-7\">\n",
       "  <path d=\"M 172 193 L 512.972656 193 L 512.972656 233 L 172 233 Z M 172 193 \"/>\n",
       "</clipPath>\n",
       "<clipPath id=\"clip-1518428330974427-8\">\n",
       "  <path d=\"M 171 193 L 512.972656 193 L 512.972656 234 L 171 234 Z M 171 193 \"/>\n",
       "</clipPath>\n",
       "<clipPath id=\"clip-1518428330974427-9\">\n",
       "  <path d=\"M 172 257 L 512.972656 257 L 512.972656 297 L 172 297 Z M 172 257 \"/>\n",
       "</clipPath>\n",
       "<clipPath id=\"clip-1518428330974427-10\">\n",
       "  <path d=\"M 171 256 L 512.972656 256 L 512.972656 297.445312 L 171 297.445312 Z M 171 256 \"/>\n",
       "</clipPath>\n",
       "</defs>\n",
       "<g id=\"surface1\">\n",
       "<g clip-path=\"url(#clip-1518428330974427-1)\" clip-rule=\"nonzero\">\n",
       "<path style=\" stroke:none;fill-rule:nonzero;fill:rgb(75%,75%,75%);fill-opacity:1;\" d=\"M 512.375 2.46875 L 172.214844 2.46875 L 172.214844 41.214844 L 512.375 41.214844 Z M 512.375 2.46875 \"/>\n",
       "</g>\n",
       "<g clip-path=\"url(#clip-1518428330974427-2)\" clip-rule=\"nonzero\">\n",
       "<path style=\"fill:none;stroke-width:1.19553;stroke-linecap:butt;stroke-linejoin:miter;stroke:rgb(0%,0%,0%);stroke-opacity:1;stroke-miterlimit:10;\" d=\"M 170.08 19.37325 L -170.080156 19.37325 L -170.080156 -19.372844 L 170.08 -19.372844 Z M 170.08 19.37325 \" transform=\"matrix(1,0,0,-1,342.295,21.842)\"/>\n",
       "</g>\n",
       "<g style=\"fill:rgb(0%,0%,0%);fill-opacity:1;\">\n",
       "  <use xlink:href=\"#glyph-1518428330974427-0-1\" x=\"9.962\" y=\"29.598\"/>\n",
       "  <use xlink:href=\"#glyph-1518428330974427-0-1\" x=\"32.37794\" y=\"29.598\"/>\n",
       "  <use xlink:href=\"#glyph-1518428330974427-0-2\" x=\"54.79388\" y=\"29.598\"/>\n",
       "  <use xlink:href=\"#glyph-1518428330974427-0-3\" x=\"79.690517\" y=\"29.598\"/>\n",
       "  <use xlink:href=\"#glyph-1518428330974427-0-4\" x=\"94.634477\" y=\"29.598\"/>\n",
       "  <use xlink:href=\"#glyph-1518428330974427-0-5\" x=\"102.943319\" y=\"29.598\"/>\n",
       "  <use xlink:href=\"#glyph-1518428330974427-0-1\" x=\"119.561003\" y=\"29.598\"/>\n",
       "  <use xlink:href=\"#glyph-1518428330974427-0-1\" x=\"141.976943\" y=\"29.598\"/>\n",
       "</g>\n",
       "<g clip-path=\"url(#clip-1518428330974427-3)\" clip-rule=\"nonzero\">\n",
       "<path style=\" stroke:none;fill-rule:nonzero;fill:rgb(75%,75%,75%);fill-opacity:1;\" d=\"M 512.375 66.128906 L 172.214844 66.128906 L 172.214844 105.113281 L 512.375 105.113281 Z M 512.375 66.128906 \"/>\n",
       "</g>\n",
       "<g clip-path=\"url(#clip-1518428330974427-4)\" clip-rule=\"nonzero\">\n",
       "<path style=\"fill:none;stroke-width:1.19553;stroke-linecap:butt;stroke-linejoin:miter;stroke:rgb(0%,0%,0%);stroke-opacity:1;stroke-miterlimit:10;\" d=\"M 170.08 -44.286906 L -170.080156 -44.286906 L -170.080156 -83.271281 L 170.08 -83.271281 Z M 170.08 -44.286906 \" transform=\"matrix(1,0,0,-1,342.295,21.842)\"/>\n",
       "</g>\n",
       "<g style=\"fill:rgb(0%,0%,0%);fill-opacity:1;\">\n",
       "  <use xlink:href=\"#glyph-1518428330974427-1-1\" x=\"303.769\" y=\"94.912\"/>\n",
       "</g>\n",
       "<g style=\"fill:rgb(0%,0%,0%);fill-opacity:1;\">\n",
       "  <use xlink:href=\"#glyph-1518428330974427-2-1\" x=\"327.121\" y=\"94.912\"/>\n",
       "</g>\n",
       "<g style=\"fill:rgb(0%,0%,0%);fill-opacity:1;\">\n",
       "  <use xlink:href=\"#glyph-1518428330974427-3-1\" x=\"366.028\" y=\"94.912\"/>\n",
       "</g>\n",
       "<g style=\"fill:rgb(0%,0%,0%);fill-opacity:1;\">\n",
       "  <use xlink:href=\"#glyph-1518428330974427-0-6\" x=\"16.597\" y=\"95.827\"/>\n",
       "  <use xlink:href=\"#glyph-1518428330974427-0-7\" x=\"29.867236\" y=\"95.827\"/>\n",
       "  <use xlink:href=\"#glyph-1518428330974427-0-8\" x=\"44.811196\" y=\"95.827\"/>\n",
       "  <use xlink:href=\"#glyph-1518428330974427-0-5\" x=\"61.42888\" y=\"95.827\"/>\n",
       "</g>\n",
       "<g style=\"fill:rgb(0%,0%,0%);fill-opacity:1;\">\n",
       "  <use xlink:href=\"#glyph-1518428330974427-0-9\" x=\"77.209702\" y=\"95.827\"/>\n",
       "  <use xlink:href=\"#glyph-1518428330974427-0-10\" x=\"88.836103\" y=\"95.827\"/>\n",
       "  <use xlink:href=\"#glyph-1518428330974427-0-7\" x=\"105.453786\" y=\"95.827\"/>\n",
       "</g>\n",
       "<g style=\"fill:rgb(0%,0%,0%);fill-opacity:1;\">\n",
       "  <use xlink:href=\"#glyph-1518428330974427-0-11\" x=\"119.560884\" y=\"95.827\"/>\n",
       "  <use xlink:href=\"#glyph-1518428330974427-0-5\" x=\"141.139963\" y=\"95.827\"/>\n",
       "</g>\n",
       "<g clip-path=\"url(#clip-1518428330974427-5)\" clip-rule=\"nonzero\">\n",
       "<path style=\" stroke:none;fill-rule:nonzero;fill:rgb(75%,75%,75%);fill-opacity:1;\" d=\"M 512.375 129.910156 L 172.214844 129.910156 L 172.214844 168.894531 L 512.375 168.894531 Z M 512.375 129.910156 \"/>\n",
       "</g>\n",
       "<g clip-path=\"url(#clip-1518428330974427-6)\" clip-rule=\"nonzero\">\n",
       "<path style=\"fill:none;stroke-width:1.19553;stroke-linecap:butt;stroke-linejoin:miter;stroke:rgb(0%,0%,0%);stroke-opacity:1;stroke-miterlimit:10;\" d=\"M 170.08 -108.068156 L -170.080156 -108.068156 L -170.080156 -147.052531 L 170.08 -147.052531 Z M 170.08 -108.068156 \" transform=\"matrix(1,0,0,-1,342.295,21.842)\"/>\n",
       "</g>\n",
       "<g style=\"fill:rgb(0%,0%,0%);fill-opacity:1;\">\n",
       "  <use xlink:href=\"#glyph-1518428330974427-1-1\" x=\"303.769\" y=\"158.691\"/>\n",
       "</g>\n",
       "<g style=\"fill:rgb(0%,0%,0%);fill-opacity:1;\">\n",
       "  <use xlink:href=\"#glyph-1518428330974427-2-1\" x=\"327.121\" y=\"158.691\"/>\n",
       "</g>\n",
       "<g style=\"fill:rgb(0%,0%,0%);fill-opacity:1;\">\n",
       "  <use xlink:href=\"#glyph-1518428330974427-3-2\" x=\"366.028\" y=\"158.691\"/>\n",
       "</g>\n",
       "<g style=\"fill:rgb(0%,0%,0%);fill-opacity:1;\">\n",
       "  <use xlink:href=\"#glyph-1518428330974427-0-6\" x=\"16.597\" y=\"159.605\"/>\n",
       "  <use xlink:href=\"#glyph-1518428330974427-0-7\" x=\"29.867236\" y=\"159.605\"/>\n",
       "  <use xlink:href=\"#glyph-1518428330974427-0-8\" x=\"44.811196\" y=\"159.605\"/>\n",
       "  <use xlink:href=\"#glyph-1518428330974427-0-5\" x=\"61.42888\" y=\"159.605\"/>\n",
       "</g>\n",
       "<g style=\"fill:rgb(0%,0%,0%);fill-opacity:1;\">\n",
       "  <use xlink:href=\"#glyph-1518428330974427-0-9\" x=\"77.209702\" y=\"159.605\"/>\n",
       "  <use xlink:href=\"#glyph-1518428330974427-0-10\" x=\"88.836103\" y=\"159.605\"/>\n",
       "  <use xlink:href=\"#glyph-1518428330974427-0-7\" x=\"105.453786\" y=\"159.605\"/>\n",
       "</g>\n",
       "<g style=\"fill:rgb(0%,0%,0%);fill-opacity:1;\">\n",
       "  <use xlink:href=\"#glyph-1518428330974427-0-11\" x=\"119.560884\" y=\"159.605\"/>\n",
       "  <use xlink:href=\"#glyph-1518428330974427-0-5\" x=\"141.139963\" y=\"159.605\"/>\n",
       "</g>\n",
       "<g clip-path=\"url(#clip-1518428330974427-7)\" clip-rule=\"nonzero\">\n",
       "<path style=\" stroke:none;fill-rule:nonzero;fill:rgb(75%,75%,75%);fill-opacity:1;\" d=\"M 512.375 193.6875 L 172.214844 193.6875 L 172.214844 232.671875 L 512.375 232.671875 Z M 512.375 193.6875 \"/>\n",
       "</g>\n",
       "<g clip-path=\"url(#clip-1518428330974427-8)\" clip-rule=\"nonzero\">\n",
       "<path style=\"fill:none;stroke-width:1.19553;stroke-linecap:butt;stroke-linejoin:miter;stroke:rgb(0%,0%,0%);stroke-opacity:1;stroke-miterlimit:10;\" d=\"M 170.08 -171.8455 L -170.080156 -171.8455 L -170.080156 -210.829875 L 170.08 -210.829875 Z M 170.08 -171.8455 \" transform=\"matrix(1,0,0,-1,342.295,21.842)\"/>\n",
       "</g>\n",
       "<g style=\"fill:rgb(0%,0%,0%);fill-opacity:1;\">\n",
       "  <use xlink:href=\"#glyph-1518428330974427-1-1\" x=\"303.769\" y=\"222.468\"/>\n",
       "</g>\n",
       "<g style=\"fill:rgb(0%,0%,0%);fill-opacity:1;\">\n",
       "  <use xlink:href=\"#glyph-1518428330974427-2-1\" x=\"327.121\" y=\"222.468\"/>\n",
       "</g>\n",
       "<g style=\"fill:rgb(0%,0%,0%);fill-opacity:1;\">\n",
       "  <use xlink:href=\"#glyph-1518428330974427-3-3\" x=\"366.028\" y=\"222.468\"/>\n",
       "</g>\n",
       "<g style=\"fill:rgb(0%,0%,0%);fill-opacity:1;\">\n",
       "  <use xlink:href=\"#glyph-1518428330974427-0-6\" x=\"16.597\" y=\"223.381\"/>\n",
       "  <use xlink:href=\"#glyph-1518428330974427-0-7\" x=\"29.867236\" y=\"223.381\"/>\n",
       "  <use xlink:href=\"#glyph-1518428330974427-0-8\" x=\"44.811196\" y=\"223.381\"/>\n",
       "  <use xlink:href=\"#glyph-1518428330974427-0-5\" x=\"61.42888\" y=\"223.381\"/>\n",
       "</g>\n",
       "<g style=\"fill:rgb(0%,0%,0%);fill-opacity:1;\">\n",
       "  <use xlink:href=\"#glyph-1518428330974427-0-9\" x=\"77.209702\" y=\"223.381\"/>\n",
       "  <use xlink:href=\"#glyph-1518428330974427-0-10\" x=\"88.836103\" y=\"223.381\"/>\n",
       "  <use xlink:href=\"#glyph-1518428330974427-0-7\" x=\"105.453786\" y=\"223.381\"/>\n",
       "</g>\n",
       "<g style=\"fill:rgb(0%,0%,0%);fill-opacity:1;\">\n",
       "  <use xlink:href=\"#glyph-1518428330974427-0-11\" x=\"119.560884\" y=\"223.381\"/>\n",
       "  <use xlink:href=\"#glyph-1518428330974427-0-5\" x=\"141.139963\" y=\"223.381\"/>\n",
       "</g>\n",
       "<g clip-path=\"url(#clip-1518428330974427-9)\" clip-rule=\"nonzero\">\n",
       "<path style=\" stroke:none;fill-rule:nonzero;fill:rgb(75%,75%,75%);fill-opacity:1;\" d=\"M 512.375 257.464844 L 172.214844 257.464844 L 172.214844 296.449219 L 512.375 296.449219 Z M 512.375 257.464844 \"/>\n",
       "</g>\n",
       "<g clip-path=\"url(#clip-1518428330974427-10)\" clip-rule=\"nonzero\">\n",
       "<path style=\"fill:none;stroke-width:1.19553;stroke-linecap:butt;stroke-linejoin:miter;stroke:rgb(0%,0%,0%);stroke-opacity:1;stroke-miterlimit:10;\" d=\"M 170.08 -235.622844 L -170.080156 -235.622844 L -170.080156 -274.607219 L 170.08 -274.607219 Z M 170.08 -235.622844 \" transform=\"matrix(1,0,0,-1,342.295,21.842)\"/>\n",
       "</g>\n",
       "<g style=\"fill:rgb(0%,0%,0%);fill-opacity:1;\">\n",
       "  <use xlink:href=\"#glyph-1518428330974427-1-1\" x=\"303.769\" y=\"286.245\"/>\n",
       "</g>\n",
       "<g style=\"fill:rgb(0%,0%,0%);fill-opacity:1;\">\n",
       "  <use xlink:href=\"#glyph-1518428330974427-2-1\" x=\"327.121\" y=\"286.245\"/>\n",
       "</g>\n",
       "<g style=\"fill:rgb(0%,0%,0%);fill-opacity:1;\">\n",
       "  <use xlink:href=\"#glyph-1518428330974427-3-4\" x=\"366.028\" y=\"286.245\"/>\n",
       "</g>\n",
       "<g style=\"fill:rgb(0%,0%,0%);fill-opacity:1;\">\n",
       "  <use xlink:href=\"#glyph-1518428330974427-0-6\" x=\"16.597\" y=\"287.157\"/>\n",
       "  <use xlink:href=\"#glyph-1518428330974427-0-7\" x=\"29.867236\" y=\"287.157\"/>\n",
       "  <use xlink:href=\"#glyph-1518428330974427-0-8\" x=\"44.811196\" y=\"287.157\"/>\n",
       "  <use xlink:href=\"#glyph-1518428330974427-0-5\" x=\"61.42888\" y=\"287.157\"/>\n",
       "</g>\n",
       "<g style=\"fill:rgb(0%,0%,0%);fill-opacity:1;\">\n",
       "  <use xlink:href=\"#glyph-1518428330974427-0-9\" x=\"77.209702\" y=\"287.157\"/>\n",
       "  <use xlink:href=\"#glyph-1518428330974427-0-10\" x=\"88.836103\" y=\"287.157\"/>\n",
       "  <use xlink:href=\"#glyph-1518428330974427-0-7\" x=\"105.453786\" y=\"287.157\"/>\n",
       "</g>\n",
       "<g style=\"fill:rgb(0%,0%,0%);fill-opacity:1;\">\n",
       "  <use xlink:href=\"#glyph-1518428330974427-0-11\" x=\"119.560884\" y=\"287.157\"/>\n",
       "  <use xlink:href=\"#glyph-1518428330974427-0-5\" x=\"141.139963\" y=\"287.157\"/>\n",
       "</g>\n",
       "</g>\n",
       "</svg>\n",
       "\n"
      ],
      "text/plain": [
       "TikzPictures.TikzPicture(L\"    \\node (main) [draw, fill=lightgray, minimum width=4cm] {$\\phantom{3}$};\n",
       "    \\node [left of=main, xshift=-2cm] {\\textrm{\\_\\_main\\_\\_}};\n",
       "    \\node (c1) [draw, fill=lightgray, below of=main, yshift=0.25cm, minimum width=4cm] {$n\\rightarrow3$};\n",
       "    \\node [left of=c1, xshift=-2cm] {$\\textrm{countdown}$};\n",
       "    \\node (c2) [draw, fill=lightgray, below of=c1, yshift=0.25cm, minimum width=4cm] {$n\\rightarrow2$};\n",
       "    \\node [left of=c2, xshift=-2cm] {$\\textrm{countdown}$};\n",
       "    \\node (c3) [draw, fill=lightgray, below of=c2, yshift=0.25cm, minimum width=4cm] {$n\\rightarrow1$};\n",
       "    \\node [left of=c3, xshift=-2cm] {$\\textrm{countdown}$};\n",
       "    \\node (c4) [draw, fill=lightgray, below of=c3, yshift=0.25cm, minimum width=4cm] {$n\\rightarrow0$};\n",
       "    \\node [left of=c4, xshift=-2cm] {$\\textrm{countdown}$};\n",
       "\", \"very thick, scale=3, transform shape\", \"    \\\\usepackage{newtxmath}\\n    \\\\renewcommand{\\\\familydefault}{\\\\sfdefault}\\n\", true, true)"
      ]
     },
     "execution_count": 66,
     "metadata": {},
     "output_type": "execute_result"
    }
   ],
   "source": [
    "using TikzPictures\n",
    "TikzPicture(L\"\"\"\n",
    "    \\node (main) [draw, fill=lightgray, minimum width=4cm] {$\\phantom{3}$};\n",
    "    \\node [left of=main, xshift=-2cm] {\\textrm{\\_\\_main\\_\\_}};\n",
    "    \\node (c1) [draw, fill=lightgray, below of=main, yshift=0.25cm, minimum width=4cm] {$n\\rightarrow3$};\n",
    "    \\node [left of=c1, xshift=-2cm] {$\\textrm{countdown}$};\n",
    "    \\node (c2) [draw, fill=lightgray, below of=c1, yshift=0.25cm, minimum width=4cm] {$n\\rightarrow2$};\n",
    "    \\node [left of=c2, xshift=-2cm] {$\\textrm{countdown}$};\n",
    "    \\node (c3) [draw, fill=lightgray, below of=c2, yshift=0.25cm, minimum width=4cm] {$n\\rightarrow1$};\n",
    "    \\node [left of=c3, xshift=-2cm] {$\\textrm{countdown}$};\n",
    "    \\node (c4) [draw, fill=lightgray, below of=c3, yshift=0.25cm, minimum width=4cm] {$n\\rightarrow0$};\n",
    "    \\node [left of=c4, xshift=-2cm] {$\\textrm{countdown}$};\n",
    "\"\"\"; options=\"very thick, scale=3, transform shape\", preamble=\"\"\"\n",
    "    \\\\usepackage{newtxmath}\n",
    "    \\\\renewcommand{\\\\familydefault}{\\\\sfdefault}\n",
    "\"\"\")"
   ]
  },
  {
   "cell_type": "markdown",
   "metadata": {
    "slideshow": {
     "slide_type": "subslide"
    }
   },
   "source": [
    "As usual, the top of the stack is the frame for `__main__`. It is empty because we did not create any variables in `__main__` or pass any arguments to it.\n",
    "\n",
    "The four countdown frames have different values for the parameter `n`. The bottom of the stack, where `n=0`, is called the *base case*. It does not make a recursive call, so there are no more frames."
   ]
  },
  {
   "cell_type": "markdown",
   "metadata": {
    "slideshow": {
     "slide_type": "slide"
    }
   },
   "source": [
    "# Infinite Recursion\n",
    "\n",
    "If a recursion never reaches a base case, it goes on making recursive calls forever, and the program never terminates. This is known as infinite recursion, and it is generally not a good idea. Here is a minimal program with an infinite recursion:"
   ]
  },
  {
   "cell_type": "code",
   "execution_count": 68,
   "metadata": {},
   "outputs": [
    {
     "data": {
      "text/plain": [
       "recurse (generic function with 1 method)"
      ]
     },
     "execution_count": 68,
     "metadata": {},
     "output_type": "execute_result"
    }
   ],
   "source": [
    "function recurse()\n",
    "    recurse()\n",
    "end"
   ]
  },
  {
   "cell_type": "markdown",
   "metadata": {},
   "source": [
    "In most programming environments, a program with infinite recursion does not really run forever."
   ]
  },
  {
   "cell_type": "markdown",
   "metadata": {
    "slideshow": {
     "slide_type": "subslide"
    }
   },
   "source": [
    "Julia reports a `StackOverflowError` when the maximum recursion depth is reached:"
   ]
  },
  {
   "cell_type": "code",
   "execution_count": 69,
   "metadata": {
    "slideshow": {
     "slide_type": "-"
    }
   },
   "outputs": [
    {
     "ename": "LoadError",
     "evalue": "\u001b[91mStackOverflowError:\u001b[39m",
     "output_type": "error",
     "traceback": [
      "\u001b[91mStackOverflowError:\u001b[39m",
      "",
      "Stacktrace:",
      " [1] \u001b[1mrecurse\u001b[22m\u001b[22m\u001b[1m(\u001b[22m\u001b[22m\u001b[1m)\u001b[22m\u001b[22m at \u001b[1m./In[68]:2\u001b[22m\u001b[22m (repeats 80000 times)"
     ]
    }
   ],
   "source": [
    "recurse()"
   ]
  },
  {
   "cell_type": "markdown",
   "metadata": {
    "slideshow": {
     "slide_type": "-"
    }
   },
   "source": [
    "When the error occurs, there are 80000 recurse frames on the stack!\n",
    "\n",
    "If you encounter an infinite recursion by accident, review your function to confirm that there is a base case that does not make a recursive call. And if there is a base case, check whether you are guaranteed to reach it."
   ]
  },
  {
   "cell_type": "markdown",
   "metadata": {
    "slideshow": {
     "slide_type": "slide"
    }
   },
   "source": [
    "# Keyboard Input\n",
    "\n",
    "The programs we have written so far accept no input from the user. They just do the same thing every time.\n",
    "\n",
    "Julia provides a built-in function called `readline` that stops the program and waits for the user to type something. When the user presses `Return` or `Enter`, the program resumes and `readline` returns what the user typed as a string."
   ]
  },
  {
   "cell_type": "code",
   "execution_count": 70,
   "metadata": {},
   "outputs": [
    {
     "name": "stdout",
     "output_type": "stream",
     "text": [
      "STDIN> Hello, World!\n"
     ]
    },
    {
     "data": {
      "text/plain": [
       "\"Hello, World!\""
      ]
     },
     "execution_count": 70,
     "metadata": {},
     "output_type": "execute_result"
    }
   ],
   "source": [
    "text = readline()"
   ]
  },
  {
   "cell_type": "code",
   "execution_count": 71,
   "metadata": {},
   "outputs": [
    {
     "data": {
      "text/plain": [
       "\"Hello, World!\""
      ]
     },
     "execution_count": 71,
     "metadata": {},
     "output_type": "execute_result"
    }
   ],
   "source": [
    "text"
   ]
  },
  {
   "cell_type": "markdown",
   "metadata": {
    "slideshow": {
     "slide_type": "subslide"
    }
   },
   "source": [
    "Before getting input from the user, it is a good idea to print a prompt telling the user what to type."
   ]
  },
  {
   "cell_type": "code",
   "execution_count": 4,
   "metadata": {},
   "outputs": [
    {
     "name": "stdout",
     "output_type": "stream",
     "text": [
      "What is your name? STDIN> Ben Lauwens\n"
     ]
    },
    {
     "data": {
      "text/plain": [
       "\"Ben Lauwens\""
      ]
     },
     "execution_count": 4,
     "metadata": {},
     "output_type": "execute_result"
    }
   ],
   "source": [
    "print(\"What is your name? \")\n",
    "name = readline()"
   ]
  },
  {
   "cell_type": "markdown",
   "metadata": {
    "slideshow": {
     "slide_type": "subslide"
    }
   },
   "source": [
    "If you expect the user to type an integer, you can try to convert the return value to `Int`:"
   ]
  },
  {
   "cell_type": "code",
   "execution_count": 8,
   "metadata": {},
   "outputs": [
    {
     "name": "stdout",
     "output_type": "stream",
     "text": [
      "What is the airspeed velocity of an unladen swallow?\n",
      "STDIN> What do you mean? African or European swallow?\n"
     ]
    },
    {
     "ename": "LoadError",
     "evalue": "\u001b[91mArgumentError: invalid base 10 digit 'W' in \"What do you mean? African or European swallow?\"\u001b[39m",
     "output_type": "error",
     "traceback": [
      "\u001b[91mArgumentError: invalid base 10 digit 'W' in \"What do you mean? African or European swallow?\"\u001b[39m",
      "",
      "Stacktrace:",
      " [1] \u001b[1mtryparse_internal\u001b[22m\u001b[22m\u001b[1m(\u001b[22m\u001b[22m::Type{Int64}, ::String, ::Int64, ::Int64, ::Int64, ::Bool\u001b[1m)\u001b[22m\u001b[22m at \u001b[1m./parse.jl:89\u001b[22m\u001b[22m",
      " [2] \u001b[1mparse\u001b[22m\u001b[22m\u001b[1m(\u001b[22m\u001b[22m::Type{Int64}, ::String\u001b[1m)\u001b[22m\u001b[22m at \u001b[1m./parse.jl:184\u001b[22m\u001b[22m",
      " [3] \u001b[1minclude_string\u001b[22m\u001b[22m\u001b[1m(\u001b[22m\u001b[22m::String, ::String\u001b[1m)\u001b[22m\u001b[22m at \u001b[1m./loading.jl:522\u001b[22m\u001b[22m"
     ]
    }
   ],
   "source": [
    "println(\"What is the airspeed velocity of an unladen swallow?\")\n",
    "speed = readline()\n",
    "parse(Int, speed)"
   ]
  },
  {
   "cell_type": "markdown",
   "metadata": {},
   "source": [
    "We will see how to handle this kind of error later."
   ]
  },
  {
   "cell_type": "markdown",
   "metadata": {
    "slideshow": {
     "slide_type": "slide"
    }
   },
   "source": [
    "# Debugging\n",
    "\n",
    "When a syntax or runtime error occurs, the error message contains a lot of information, but it can be overwhelming. The most useful parts are usually:\n",
    "\n",
    "- What kind of error it was, and\n",
    "- Where it occurred.\n",
    "\n",
    "Syntax errors are usually easy to find. You should take the time to read error messages carefully, but don’t assume that everything they say is correct.\n",
    "\n",
    "Runtime errors in Julia throw an `Exception` and an error message hints to what is wrong."
   ]
  },
  {
   "cell_type": "markdown",
   "metadata": {
    "slideshow": {
     "slide_type": "subslide"
    }
   },
   "source": [
    "Semantic errors are more difficult to troubleshoot. Suppose you are trying to compute a signal-to-noise ratio in decibels. The formula is \n",
    "$$\n",
    "SNR_{db} = 10 \\log_{10} \\left(\\frac{P_{signal}}{P_{noise}}\\right)\n",
    "$$\n",
    "In Julia, you might write something like this:"
   ]
  },
  {
   "cell_type": "code",
   "execution_count": 7,
   "metadata": {},
   "outputs": [
    {
     "name": "stdout",
     "output_type": "stream",
     "text": [
      "-Inf\n"
     ]
    }
   ],
   "source": [
    "signal_power = 9\n",
    "noise_power = 10\n",
    "ratio = signal_power ÷ noise_power\n",
    "decibels = 10 * log10(ratio)\n",
    "println(decibels)"
   ]
  },
  {
   "cell_type": "markdown",
   "metadata": {},
   "source": [
    "This result is not what we expected. To find the real error, it might be useful to print the value of `ratio`, which turns out to be 0. The problem is in line 3, which uses floor division instead of floating-point division."
   ]
  }
 ],
 "metadata": {
  "celltoolbar": "Slideshow",
  "kernelspec": {
   "display_name": "Julia 0.6.2",
   "language": "julia",
   "name": "julia-0.6"
  },
  "language_info": {
   "file_extension": ".jl",
   "mimetype": "application/julia",
   "name": "julia",
   "version": "0.6.2"
  },
  "livereveal": {
   "controls": "false",
   "scroll": "true",
   "start_slideshow_at": "selected"
  }
 },
 "nbformat": 4,
 "nbformat_minor": 2
}
