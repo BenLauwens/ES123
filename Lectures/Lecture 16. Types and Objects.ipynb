{
 "cells": [
  {
   "cell_type": "markdown",
   "metadata": {
    "hideCode": false,
    "hidePrompt": false,
    "slideshow": {
     "slide_type": "slide"
    }
   },
   "source": [
    "# Programmer-defined types\n",
    "\n",
    "We have used many of Julia’s built-in types; now we are going to define a new type. As an example, we will create a type called `Point` that represents a point in two-dimensional space.\n",
    "\n",
    "In mathematical notation, points are often written in parentheses with a comma separating the coordinates. For example, $(0,0)$ represents the origin, and $(x,y)$ represents the point $x$ units to the right and $y$ units up from the origin.\n",
    "\n",
    "There are several ways we might represent points in Julia:\n",
    "\n",
    "- We could store the coordinates separately in two variables, `x` and `y`.\n",
    "\n",
    "- We could store the coordinates as elements in a list or tuple.\n",
    "\n",
    "- We could create a new type to represent points as objects."
   ]
  },
  {
   "cell_type": "markdown",
   "metadata": {
    "hideCode": false,
    "hidePrompt": false,
    "slideshow": {
     "slide_type": "subslide"
    }
   },
   "source": [
    "Creating a new type is more complicated than the other options, but it has advantages that will be apparent soon.\n",
    "\n",
    "A programmer-defined composite type is also called a *struct*. A `struct` definition looks like this:"
   ]
  },
  {
   "cell_type": "code",
   "execution_count": 1,
   "metadata": {
    "hideCode": false,
    "hidePrompt": false
   },
   "outputs": [],
   "source": [
    "struct Point \n",
    "    x :: Float64\n",
    "    y :: Float64\n",
    "end"
   ]
  },
  {
   "cell_type": "markdown",
   "metadata": {
    "hideCode": false,
    "hidePrompt": false
   },
   "source": [
    "The header indicates that the new struct is called `Point`. The body defines the *attributes* or *fields* of the struct. The `Point` struct has two fields. The fields can optionally be annotated with types using the `::` operator. Fields with no type annotation default to `Any`, and can accordingly hold any type of value."
   ]
  },
  {
   "cell_type": "markdown",
   "metadata": {
    "hideCode": false,
    "hidePrompt": false,
    "slideshow": {
     "slide_type": "subslide"
    }
   },
   "source": [
    "A struct is like a factory for creating objects. To create a `Point`, you call `Point` as if it were a function having as arguments the values of the attributes. When `Point` is used as a function, it is called a *constructor*."
   ]
  },
  {
   "cell_type": "code",
   "execution_count": 2,
   "metadata": {
    "hideCode": false,
    "hidePrompt": false
   },
   "outputs": [
    {
     "name": "stdout",
     "output_type": "stream",
     "text": [
      "Point(0.0, 0.0)\n"
     ]
    },
    {
     "data": {
      "text/plain": [
       "Point"
      ]
     },
     "execution_count": 2,
     "metadata": {},
     "output_type": "execute_result"
    }
   ],
   "source": [
    "origine = Point(0.0, 0.0)\n",
    "println(origine)\n",
    "typeof(origine)"
   ]
  },
  {
   "cell_type": "markdown",
   "metadata": {},
   "source": [
    "The return value is a `Point` object, which we assign to `origine`. \n",
    "\n",
    "When you print an object, Julia tells you by default what type it belongs to and what the value of its fields are."
   ]
  },
  {
   "cell_type": "markdown",
   "metadata": {
    "slideshow": {
     "slide_type": "subslide"
    }
   },
   "source": [
    "A state diagram that shows an object and its attributes is called an *object diagram*:"
   ]
  },
  {
   "cell_type": "code",
   "execution_count": 10,
   "metadata": {
    "hideCode": true,
    "hidePrompt": true
   },
   "outputs": [
    {
     "data": {
      "image/svg+xml": [
       "<?xml version=\"1.0\" encoding=\"UTF-8\"?>\n",
       "<svg xmlns=\"http://www.w3.org/2000/svg\" xmlns:xlink=\"http://www.w3.org/1999/xlink\" width=\"247.264pt\" height=\"90.125pt\" viewBox=\"0 0 247.264 90.125\" version=\"1.1\">\n",
       "<defs>\n",
       "<g>\n",
       "<symbol overflow=\"visible\" id=\"glyph-1518428330974425-0-0\">\n",
       "<path style=\"stroke:none;\" d=\"\"/>\n",
       "</symbol>\n",
       "<symbol overflow=\"visible\" id=\"glyph-1518428330974425-0-1\">\n",
       "<path style=\"stroke:none;\" d=\"M 9.34375 -4.375 C 9.34375 -7.046875 7.34375 -9.1875 4.984375 -9.1875 C 2.53125 -9.1875 0.59375 -7 0.59375 -4.375 C 0.59375 -1.75 2.625 0.21875 4.953125 0.21875 C 7.34375 0.21875 9.34375 -1.796875 9.34375 -4.375 Z M 7.796875 -4.578125 C 7.796875 -2.234375 6.4375 -1.0625 4.953125 -1.0625 C 3.578125 -1.0625 2.15625 -2.171875 2.15625 -4.578125 C 2.15625 -7 3.671875 -7.96875 4.953125 -7.96875 C 6.359375 -7.96875 7.796875 -6.9375 7.796875 -4.578125 Z M 7.796875 -4.578125 \"/>\n",
       "</symbol>\n",
       "<symbol overflow=\"visible\" id=\"glyph-1518428330974425-0-2\">\n",
       "<path style=\"stroke:none;\" d=\"M 6.515625 -7.734375 L 6.515625 -9.0625 C 4.734375 -9.046875 3.640625 -8.0625 3.03125 -7.15625 L 3.03125 -8.96875 L 1.640625 -8.96875 L 1.640625 0 L 3.125 0 L 3.125 -4.265625 C 3.125 -6.25 4.5625 -7.6875 6.515625 -7.734375 Z M 6.515625 -7.734375 \"/>\n",
       "</symbol>\n",
       "<symbol overflow=\"visible\" id=\"glyph-1518428330974425-0-3\">\n",
       "<path style=\"stroke:none;\" d=\"M 3.109375 0 L 3.109375 -8.84375 L 1.609375 -8.84375 L 1.609375 0 Z M 3.265625 -11.28125 L 3.265625 -13.046875 L 1.5 -13.046875 L 1.5 -11.28125 Z M 3.265625 -11.28125 \"/>\n",
       "</symbol>\n",
       "<symbol overflow=\"visible\" id=\"glyph-1518428330974425-0-4\">\n",
       "<path style=\"stroke:none;\" d=\"M 9.65625 -7.8125 L 9.4375 -9.0625 C 8.046875 -9.0625 6.890625 -8.6875 6.296875 -8.421875 C 5.875 -8.765625 5.203125 -9.0625 4.40625 -9.0625 C 2.6875 -9.0625 1.234375 -7.625 1.234375 -5.8125 C 1.234375 -5.078125 1.5 -4.359375 1.890625 -3.84375 C 1.3125 -3.03125 1.3125 -2.25 1.3125 -2.15625 C 1.3125 -1.640625 1.5 -1.0625 1.828125 -0.640625 C 0.796875 -0.015625 0.5625 0.890625 0.5625 1.421875 C 0.5625 2.90625 2.53125 4.109375 4.953125 4.109375 C 7.40625 4.109375 9.390625 2.921875 9.390625 1.390625 C 9.390625 -1.375 6.0625 -1.375 5.28125 -1.375 L 3.53125 -1.375 C 3.265625 -1.375 2.375 -1.375 2.375 -2.4375 C 2.375 -2.65625 2.453125 -2.96875 2.59375 -3.140625 C 3.015625 -2.84375 3.671875 -2.5625 4.40625 -2.5625 C 6.203125 -2.5625 7.59375 -4.046875 7.59375 -5.8125 C 7.59375 -6.765625 7.15625 -7.515625 6.9375 -7.8125 L 7.015625 -7.796875 C 7.453125 -7.796875 8.015625 -7.875 8.484375 -7.875 C 8.84375 -7.875 9.65625 -7.8125 9.65625 -7.8125 Z M 6.203125 -5.8125 C 6.203125 -4.265625 5.265625 -3.703125 4.40625 -3.703125 C 3.671875 -3.703125 2.625 -4.15625 2.625 -5.8125 C 2.625 -7.46875 3.671875 -7.921875 4.40625 -7.921875 C 5.265625 -7.921875 6.203125 -7.375 6.203125 -5.8125 Z M 7.984375 1.4375 C 7.984375 2.3125 6.609375 2.96875 4.984375 2.96875 C 3.359375 2.96875 1.953125 2.34375 1.953125 1.421875 C 1.953125 1.359375 1.953125 0.0625 3.5 0.0625 L 5.296875 0.0625 C 5.734375 0.0625 7.984375 0.0625 7.984375 1.4375 Z M 7.984375 1.4375 \"/>\n",
       "</symbol>\n",
       "<symbol overflow=\"visible\" id=\"glyph-1518428330974425-0-5\">\n",
       "<path style=\"stroke:none;\" d=\"M 8.671875 0 L 8.671875 -5.9375 C 8.671875 -7.25 8.359375 -9.0625 5.9375 -9.0625 C 4.140625 -9.0625 3.171875 -7.703125 3.046875 -7.546875 L 3.046875 -8.96875 L 1.609375 -8.96875 L 1.609375 0 L 3.171875 0 L 3.171875 -4.875 C 3.171875 -6.203125 3.671875 -7.84375 5.171875 -7.84375 C 7.09375 -7.84375 7.109375 -6.4375 7.109375 -5.796875 L 7.109375 0 Z M 8.671875 0 \"/>\n",
       "</symbol>\n",
       "<symbol overflow=\"visible\" id=\"glyph-1518428330974425-0-6\">\n",
       "<path style=\"stroke:none;\" d=\"M 8.25 -4.359375 C 8.25 -5.046875 8.234375 -6.53125 7.453125 -7.734375 C 6.640625 -8.96875 5.421875 -9.1875 4.703125 -9.1875 C 2.484375 -9.1875 0.703125 -7.078125 0.703125 -4.5 C 0.703125 -1.875 2.609375 0.21875 5 0.21875 C 6.25 0.21875 7.390625 -0.265625 8.171875 -0.8125 L 8.046875 -2.109375 C 6.796875 -1.078125 5.484375 -1 5.015625 -1 C 3.421875 -1 2.15625 -2.40625 2.09375 -4.359375 Z M 7.109375 -5.453125 L 2.1875 -5.453125 C 2.515625 -6.96875 3.5625 -7.96875 4.703125 -7.96875 C 5.734375 -7.96875 6.859375 -7.296875 7.109375 -5.453125 Z M 7.109375 -5.453125 \"/>\n",
       "</symbol>\n",
       "<symbol overflow=\"visible\" id=\"glyph-1518428330974425-0-7\">\n",
       "<path style=\"stroke:none;\" d=\"M 13.53125 -6.875 C 13.53125 -11.0625 10.640625 -14.265625 7.328125 -14.265625 C 3.9375 -14.265625 1.109375 -11.015625 1.109375 -6.875 C 1.109375 -2.65625 4.0625 0.4375 7.3125 0.4375 C 10.640625 0.4375 13.53125 -2.6875 13.53125 -6.875 Z M 11.75 -7.171875 C 11.75 -3.28125 9.609375 -0.859375 7.328125 -0.859375 C 4.984375 -0.859375 2.890625 -3.34375 2.890625 -7.171875 C 2.890625 -10.8125 5.078125 -12.984375 7.3125 -12.984375 C 9.625 -12.984375 11.75 -10.734375 11.75 -7.171875 Z M 11.75 -7.171875 \"/>\n",
       "</symbol>\n",
       "<symbol overflow=\"visible\" id=\"glyph-1518428330974425-0-8\">\n",
       "<path style=\"stroke:none;\" d=\"M 9.15625 0 L 5.171875 -4.5625 L 8.828125 -8.84375 L 7.1875 -8.84375 L 4.515625 -5.5625 L 1.765625 -8.84375 L 0.125 -8.84375 L 3.859375 -4.5625 L 0 0 L 1.640625 0 L 4.515625 -3.75 L 7.515625 0 Z M 9.15625 0 \"/>\n",
       "</symbol>\n",
       "<symbol overflow=\"visible\" id=\"glyph-1518428330974425-0-9\">\n",
       "<path style=\"stroke:none;\" d=\"M 9.109375 -6.5 C 9.109375 -8.0625 9.03125 -9.921875 8.1875 -11.53125 C 7.375 -13.03125 6 -13.5 4.984375 -13.5 C 3.8125 -13.5 2.40625 -12.96875 1.59375 -11.203125 C 0.9375 -9.734375 0.84375 -8.09375 0.84375 -6.5 C 0.84375 -4.921875 0.921875 -3.46875 1.515625 -2.015625 C 2.3125 -0.09375 3.828125 0.4375 4.953125 0.4375 C 6.421875 0.4375 7.671875 -0.375 8.3125 -1.75 C 8.90625 -3.046875 9.109375 -4.359375 9.109375 -6.5 Z M 7.546875 -6.734375 C 7.546875 -5.421875 7.546875 -4.15625 7.1875 -2.90625 C 6.671875 -1.09375 5.625 -0.78125 4.984375 -0.78125 C 3.9375 -0.78125 3.125 -1.53125 2.734375 -2.96875 C 2.40625 -4.109375 2.390625 -5.171875 2.390625 -6.734375 C 2.390625 -7.984375 2.390625 -9.1875 2.734375 -10.28125 C 2.84375 -10.65625 3.34375 -12.296875 4.953125 -12.296875 C 6.515625 -12.296875 7.03125 -10.78125 7.171875 -10.421875 C 7.546875 -9.296875 7.546875 -7.96875 7.546875 -6.734375 Z M 7.546875 -6.734375 \"/>\n",
       "</symbol>\n",
       "<symbol overflow=\"visible\" id=\"glyph-1518428330974425-0-10\">\n",
       "<path style=\"stroke:none;\" d=\"M 3.578125 0 L 3.578125 -1.65625 L 1.9375 -1.65625 L 1.9375 0 Z M 3.578125 0 \"/>\n",
       "</symbol>\n",
       "<symbol overflow=\"visible\" id=\"glyph-1518428330974425-0-11\">\n",
       "<path style=\"stroke:none;\" d=\"M 8.890625 -8.84375 L 7.390625 -8.84375 C 4.796875 -2.515625 4.765625 -1.59375 4.734375 -1.140625 L 4.71875 -1.140625 C 4.609375 -2.46875 3.015625 -6.171875 2.921875 -6.359375 L 1.859375 -8.84375 L 0.28125 -8.84375 L 4.140625 0 L 3.421875 1.796875 C 2.90625 2.953125 2.5625 2.953125 2.296875 2.953125 C 1.96875 2.953125 1.328125 2.875 0.734375 2.625 L 0.859375 3.921875 C 1.296875 4.03125 1.859375 4.078125 2.296875 4.078125 C 2.984375 4.078125 3.71875 3.84375 4.546875 1.8125 Z M 8.890625 -8.84375 \"/>\n",
       "</symbol>\n",
       "</g>\n",
       "<clipPath id=\"clip-1518428330974425-1\">\n",
       "  <path d=\"M 104 32 L 247.265625 32 L 247.265625 90.125 L 104 90.125 Z M 104 32 \"/>\n",
       "</clipPath>\n",
       "</defs>\n",
       "<g id=\"surface1\">\n",
       "<path style=\" stroke:none;fill-rule:nonzero;fill:rgb(75%,75%,75%);fill-opacity:1;\" d=\"M 246.667969 32.835938 L 104.933594 32.835938 L 104.933594 89.527344 L 246.667969 89.527344 Z M 246.667969 32.835938 \"/>\n",
       "<g clip-path=\"url(#clip-1518428330974425-1)\" clip-rule=\"nonzero\">\n",
       "<path style=\"fill:none;stroke-width:1.19553;stroke-linecap:butt;stroke-linejoin:miter;stroke:rgb(0%,0%,0%);stroke-opacity:1;stroke-miterlimit:10;\" d=\"M 70.867969 28.345062 L -70.866406 28.345062 L -70.866406 -28.346344 L 70.867969 -28.346344 Z M 70.867969 28.345062 \" transform=\"matrix(1,0,0,-1,175.8,61.181)\"/>\n",
       "</g>\n",
       "<g style=\"fill:rgb(0%,0%,0%);fill-opacity:1;\">\n",
       "  <use xlink:href=\"#glyph-1518428330974425-0-1\" x=\"6.641\" y=\"65.654\"/>\n",
       "</g>\n",
       "<g style=\"fill:rgb(0%,0%,0%);fill-opacity:1;\">\n",
       "  <use xlink:href=\"#glyph-1518428330974425-0-2\" x=\"16.045732\" y=\"65.654\"/>\n",
       "  <use xlink:href=\"#glyph-1518428330974425-0-3\" x=\"22.860178\" y=\"65.654\"/>\n",
       "  <use xlink:href=\"#glyph-1518428330974425-0-4\" x=\"27.62232\" y=\"65.654\"/>\n",
       "  <use xlink:href=\"#glyph-1518428330974425-0-3\" x=\"37.58496\" y=\"65.654\"/>\n",
       "  <use xlink:href=\"#glyph-1518428330974425-0-5\" x=\"42.347102\" y=\"65.654\"/>\n",
       "  <use xlink:href=\"#glyph-1518428330974425-0-6\" x=\"52.648472\" y=\"65.654\"/>\n",
       "</g>\n",
       "<g style=\"fill:rgb(0%,0%,0%);fill-opacity:1;\">\n",
       "  <use xlink:href=\"#glyph-1518428330974425-0-7\" x=\"106.058\" y=\"20.907\"/>\n",
       "  <use xlink:href=\"#glyph-1518428330974425-0-2\" x=\"120.723006\" y=\"20.907\"/>\n",
       "  <use xlink:href=\"#glyph-1518428330974425-0-3\" x=\"127.537452\" y=\"20.907\"/>\n",
       "  <use xlink:href=\"#glyph-1518428330974425-0-4\" x=\"132.299594\" y=\"20.907\"/>\n",
       "  <use xlink:href=\"#glyph-1518428330974425-0-3\" x=\"142.262234\" y=\"20.907\"/>\n",
       "  <use xlink:href=\"#glyph-1518428330974425-0-5\" x=\"147.024376\" y=\"20.907\"/>\n",
       "  <use xlink:href=\"#glyph-1518428330974425-0-6\" x=\"157.325745\" y=\"20.907\"/>\n",
       "</g>\n",
       "<path style=\"fill:none;stroke-width:1.19553;stroke-linecap:butt;stroke-linejoin:miter;stroke:rgb(0%,0%,0%);stroke-opacity:1;stroke-miterlimit:10;\" d=\"M -106.467969 0.0013125 L -77.8 0.0013125 \" transform=\"matrix(1,0,0,-1,175.8,61.181)\"/>\n",
       "<path style=\" stroke:none;fill-rule:nonzero;fill:rgb(0%,0%,0%);fill-opacity:1;\" d=\"M 103.738281 61.179688 C 102.039062 60.863281 99.273438 59.90625 97.359375 58.789062 L 97.359375 63.570312 C 99.273438 62.457031 102.039062 61.5 103.738281 61.179688 \"/>\n",
       "<g style=\"fill:rgb(0%,0%,0%);fill-opacity:1;\">\n",
       "  <use xlink:href=\"#glyph-1518428330974425-0-8\" x=\"114.515\" y=\"51.431\"/>\n",
       "</g>\n",
       "<g style=\"fill:rgb(0%,0%,0%);fill-opacity:1;\">\n",
       "  <use xlink:href=\"#glyph-1518428330974425-0-9\" x=\"191.415\" y=\"53.543\"/>\n",
       "  <use xlink:href=\"#glyph-1518428330974425-0-10\" x=\"201.37764\" y=\"53.543\"/>\n",
       "  <use xlink:href=\"#glyph-1518428330974425-0-9\" x=\"206.916868\" y=\"53.543\"/>\n",
       "</g>\n",
       "<path style=\"fill:none;stroke-width:1.19553;stroke-linecap:butt;stroke-linejoin:miter;stroke:rgb(0%,0%,0%);stroke-opacity:1;stroke-miterlimit:10;\" d=\"M -44.264844 14.173187 L 2.039844 14.173187 \" transform=\"matrix(1,0,0,-1,175.8,61.181)\"/>\n",
       "<path style=\" stroke:none;fill-rule:nonzero;fill:rgb(0%,0%,0%);fill-opacity:1;\" d=\"M 183.578125 47.007812 C 181.878906 46.6875 179.113281 45.730469 177.203125 44.617188 L 177.203125 49.398438 C 179.113281 48.28125 181.878906 47.328125 183.578125 47.007812 \"/>\n",
       "<g style=\"fill:rgb(0%,0%,0%);fill-opacity:1;\">\n",
       "  <use xlink:href=\"#glyph-1518428330974425-0-11\" x=\"114.515\" y=\"77.735\"/>\n",
       "</g>\n",
       "<g style=\"fill:rgb(0%,0%,0%);fill-opacity:1;\">\n",
       "  <use xlink:href=\"#glyph-1518428330974425-0-9\" x=\"191.415\" y=\"81.889\"/>\n",
       "  <use xlink:href=\"#glyph-1518428330974425-0-10\" x=\"201.37764\" y=\"81.889\"/>\n",
       "  <use xlink:href=\"#glyph-1518428330974425-0-9\" x=\"206.916868\" y=\"81.889\"/>\n",
       "</g>\n",
       "<path style=\"fill:none;stroke-width:1.19553;stroke-linecap:butt;stroke-linejoin:miter;stroke:rgb(0%,0%,0%);stroke-opacity:1;stroke-miterlimit:10;\" d=\"M -44.264844 -14.174469 L 2.039844 -14.174469 \" transform=\"matrix(1,0,0,-1,175.8,61.181)\"/>\n",
       "<path style=\" stroke:none;fill-rule:nonzero;fill:rgb(0%,0%,0%);fill-opacity:1;\" d=\"M 183.578125 75.355469 C 181.878906 75.035156 179.113281 74.078125 177.203125 72.964844 L 177.203125 77.746094 C 179.113281 76.628906 181.878906 75.671875 183.578125 75.355469 \"/>\n",
       "</g>\n",
       "</svg>\n",
       "\n"
      ],
      "text/plain": [
       "TikzPictures.TikzPicture(L\"$    \\node(origine) [draw, fill=lightgray, minimum width=2.5cm, minimum height=1cm]{};\n",
       "    \\node(norigine)[left of = origine, xshift=-1.5cm]{origine};\n",
       "    \\node(Origine)[above of = origine, xshift=-0.7cm, , yshift=-0.2cm]{Origine};\n",
       "    \\draw[-latex] (norigine) -- (origine);\n",
       "    \\node(nx) at(-1,0.25) {x};\n",
       "    \\node(x) at(0.5,0.25) {0.0};\n",
       "    \\draw[-latex](nx)--(x);\n",
       "    \\node(ny) at(-1,-0.25) {y};\n",
       "    \\node(y) at(0.5,-0.25) {0.0};\n",
       "    \\draw[-latex](ny)--(y);\n",
       "$\", \"very thick, scale=2, transform shape\", \"    \\\\usepackage{newtxmath}\\n    \\\\renewcommand{\\\\familydefault}{\\\\sfdefault}\\n    \\\\usepackage{cancel}\\n\", true, true)"
      ]
     },
     "execution_count": 10,
     "metadata": {},
     "output_type": "execute_result"
    }
   ],
   "source": [
    "using TikzPictures\n",
    "TikzPicture(L\"\"\"\n",
    "    \\node(origine) [draw, fill=lightgray, minimum width=2.5cm, minimum height=1cm]{};\n",
    "    \\node(norigine)[left of = origine, xshift=-1.5cm]{origine};\n",
    "    \\node(Origine)[above of = origine, xshift=-0.7cm, , yshift=-0.2cm]{Origine};\n",
    "    \\draw[-latex] (norigine) -- (origine);\n",
    "    \\node(nx) at(-1,0.25) {x};\n",
    "    \\node(x) at(0.5,0.25) {0.0};\n",
    "    \\draw[-latex](nx)--(x);\n",
    "    \\node(ny) at(-1,-0.25) {y};\n",
    "    \\node(y) at(0.5,-0.25) {0.0};\n",
    "    \\draw[-latex](ny)--(y);\n",
    "\"\"\"; options=\"very thick, scale=2, transform shape\", preamble=\"\"\"\n",
    "    \\\\usepackage{newtxmath}\n",
    "    \\\\renewcommand{\\\\familydefault}{\\\\sfdefault}\n",
    "    \\\\usepackage{cancel}\n",
    "\"\"\")"
   ]
  },
  {
   "cell_type": "markdown",
   "metadata": {
    "hideCode": false,
    "hidePrompt": false
   },
   "source": [
    "# Structs are immutable\n",
    "\n",
    "To get the values of the fields of a struct, `.` notation is used:"
   ]
  },
  {
   "cell_type": "code",
   "execution_count": 3,
   "metadata": {},
   "outputs": [
    {
     "data": {
      "text/plain": [
       "0.0"
      ]
     },
     "execution_count": 3,
     "metadata": {},
     "output_type": "execute_result"
    }
   ],
   "source": [
    "x = origine.x"
   ]
  },
  {
   "cell_type": "markdown",
   "metadata": {},
   "source": [
    "The expression `origine.x` means, “Go to the object `origine` refers to and get the value of `x`.” In the example, we assign that value to a variable named `x`. There is no conflict between the variable `x` and the attribute `x`."
   ]
  },
  {
   "cell_type": "markdown",
   "metadata": {
    "slideshow": {
     "slide_type": "subslide"
    }
   },
   "source": [
    "Structs are however immutable, after construction the fields can not change value:"
   ]
  },
  {
   "cell_type": "code",
   "execution_count": 4,
   "metadata": {},
   "outputs": [
    {
     "ename": "LoadError",
     "evalue": "\u001b[91mtype Point is immutable\u001b[39m",
     "output_type": "error",
     "traceback": [
      "\u001b[91mtype Point is immutable\u001b[39m",
      "",
      "Stacktrace:",
      " [1] \u001b[1minclude_string\u001b[22m\u001b[22m\u001b[1m(\u001b[22m\u001b[22m::String, ::String\u001b[1m)\u001b[22m\u001b[22m at \u001b[1m./loading.jl:522\u001b[22m\u001b[22m"
     ]
    }
   ],
   "source": [
    "origine.y = 1.0"
   ]
  },
  {
   "cell_type": "markdown",
   "metadata": {
    "slideshow": {
     "slide_type": "subslide"
    }
   },
   "source": [
    "This may seem odd at first, but it has several advantages:\n",
    "\n",
    "- It can be more efficient.\n",
    "\n",
    "- It is not possible to violate the invariants provided by the type's constructors.\n",
    "\n",
    "- Code using immutable objects can be easier to reason about.\n",
    "\n",
    "An immutable composite object might contain mutable objects, such as arrays, as fields. Those contained objects will remain mutable; only the fields of the immutable object itself cannot be changed to point to different objects."
   ]
  },
  {
   "cell_type": "code",
   "execution_count": 5,
   "metadata": {
    "slideshow": {
     "slide_type": "subslide"
    }
   },
   "outputs": [],
   "source": [
    "struct APoint\n",
    "    v :: Array{Float64, 1}\n",
    "end"
   ]
  },
  {
   "cell_type": "markdown",
   "metadata": {},
   "source": [
    "The struct `APoint` has one field that has type `Array{Float64, 1}`, i.e. an array of 1 dimension holding floating point values."
   ]
  },
  {
   "cell_type": "code",
   "execution_count": 6,
   "metadata": {},
   "outputs": [
    {
     "data": {
      "text/plain": [
       "APoint([0.0, 0.0])"
      ]
     },
     "execution_count": 6,
     "metadata": {},
     "output_type": "execute_result"
    }
   ],
   "source": [
    "a_point = APoint([0.0, 0.0])"
   ]
  },
  {
   "cell_type": "markdown",
   "metadata": {},
   "source": [
    "`a_point` is an immutable object but we can modify the values stored in `a_point.v`:"
   ]
  },
  {
   "cell_type": "code",
   "execution_count": 7,
   "metadata": {},
   "outputs": [
    {
     "data": {
      "text/plain": [
       "APoint([0.0, 1.0])"
      ]
     },
     "execution_count": 7,
     "metadata": {},
     "output_type": "execute_result"
    }
   ],
   "source": [
    "a_point.v[2] = 1.0\n",
    "a_point"
   ]
  },
  {
   "cell_type": "markdown",
   "metadata": {
    "slideshow": {
     "slide_type": "subslide"
    }
   },
   "source": [
    "But we cannot reassign the field `v`:"
   ]
  },
  {
   "cell_type": "code",
   "execution_count": 8,
   "metadata": {},
   "outputs": [
    {
     "ename": "LoadError",
     "evalue": "\u001b[91mtype APoint is immutable\u001b[39m",
     "output_type": "error",
     "traceback": [
      "\u001b[91mtype APoint is immutable\u001b[39m",
      "",
      "Stacktrace:",
      " [1] \u001b[1minclude_string\u001b[22m\u001b[22m\u001b[1m(\u001b[22m\u001b[22m::String, ::String\u001b[1m)\u001b[22m\u001b[22m at \u001b[1m./loading.jl:522\u001b[22m\u001b[22m"
     ]
    }
   ],
   "source": [
    "a_point.v = [1.0, 1.0]"
   ]
  },
  {
   "cell_type": "markdown",
   "metadata": {
    "slideshow": {
     "slide_type": "slide"
    }
   },
   "source": [
    "# Rectangles\n",
    "\n",
    "Sometimes it is obvious what the fields of an object should be, but other times you have to make decisions. For example, imagine you are designing a class to represent rectangles. What attributes would you use to specify the location and size of a rectangle? You can ignore angle; to keep things simple, assume that the rectangle is either vertical or horizontal.\n",
    "\n",
    "There are at least two possibilities:\n",
    "\n",
    "- You could specify one corner of the rectangle (or the center), the width, and the height.\n",
    "\n",
    "- You could specify two opposing corners.\n",
    "\n",
    "At this point it is hard to say whether either is better than the other, so we’ll implement the first one, just as an example."
   ]
  },
  {
   "cell_type": "markdown",
   "metadata": {
    "slideshow": {
     "slide_type": "subslide"
    }
   },
   "source": [
    "Where required, mutable composite objects can be declared with the keyword `mutable struct`. Here is the definition of a mutable `Rectangle`:"
   ]
  },
  {
   "cell_type": "code",
   "execution_count": 9,
   "metadata": {},
   "outputs": [],
   "source": [
    "mutable struct Rectangle\n",
    "    width :: Number\n",
    "    height :: Number\n",
    "    corner :: Point\n",
    "end"
   ]
  },
  {
   "cell_type": "markdown",
   "metadata": {},
   "source": [
    "`width` and `height` are numbers; `corner` is a `Point` object that specifies the lower-left corner. We can create a `Box` object:"
   ]
  },
  {
   "cell_type": "code",
   "execution_count": 10,
   "metadata": {},
   "outputs": [
    {
     "data": {
      "text/plain": [
       "Rectangle(100, 200, Point(0.0, 0.0))"
      ]
     },
     "execution_count": 10,
     "metadata": {},
     "output_type": "execute_result"
    }
   ],
   "source": [
    "box = Rectangle(100, 200, Point(0.0, 0.0))"
   ]
  },
  {
   "cell_type": "markdown",
   "metadata": {
    "slideshow": {
     "slide_type": "subslide"
    }
   },
   "source": [
    "We have *embedded* a `Point` type inside a `Rectangle` type."
   ]
  },
  {
   "cell_type": "code",
   "execution_count": 39,
   "metadata": {
    "hideCode": true,
    "hidePrompt": true
   },
   "outputs": [
    {
     "data": {
      "image/svg+xml": [
       "<?xml version=\"1.0\" encoding=\"UTF-8\"?>\n",
       "<svg xmlns=\"http://www.w3.org/2000/svg\" xmlns:xlink=\"http://www.w3.org/1999/xlink\" width=\"432.987pt\" height=\"127.648pt\" viewBox=\"0 0 432.987 127.648\" version=\"1.1\">\n",
       "<defs>\n",
       "<g>\n",
       "<symbol overflow=\"visible\" id=\"glyph-1518428330974450-0-0\">\n",
       "<path style=\"stroke:none;\" d=\"\"/>\n",
       "</symbol>\n",
       "<symbol overflow=\"visible\" id=\"glyph-1518428330974450-0-1\">\n",
       "<path style=\"stroke:none;\" d=\"M 9.5625 -4.4375 C 9.5625 -6.90625 8.203125 -9.0625 6.328125 -9.0625 C 5.5625 -9.0625 4.328125 -8.859375 3.125 -7.890625 L 3.125 -13.828125 L 1.640625 -13.828125 L 1.640625 0 L 3.1875 0 L 3.1875 -0.921875 C 3.671875 -0.484375 4.515625 0.21875 5.859375 0.21875 C 7.84375 0.21875 9.5625 -1.765625 9.5625 -4.4375 Z M 8.015625 -4.4375 C 8.015625 -1.859375 6.328125 -1 5.125 -1 C 4.34375 -1 3.6875 -1.359375 3.1875 -2.265625 L 3.1875 -6.671875 C 3.5 -7.15625 4.21875 -7.84375 5.3125 -7.84375 C 6.5 -7.84375 8.015625 -7 8.015625 -4.4375 Z M 8.015625 -4.4375 \"/>\n",
       "</symbol>\n",
       "<symbol overflow=\"visible\" id=\"glyph-1518428330974450-0-2\">\n",
       "<path style=\"stroke:none;\" d=\"M 9.34375 -4.375 C 9.34375 -7.046875 7.34375 -9.1875 4.984375 -9.1875 C 2.53125 -9.1875 0.59375 -7 0.59375 -4.375 C 0.59375 -1.75 2.625 0.21875 4.953125 0.21875 C 7.34375 0.21875 9.34375 -1.796875 9.34375 -4.375 Z M 7.796875 -4.578125 C 7.796875 -2.234375 6.4375 -1.0625 4.953125 -1.0625 C 3.578125 -1.0625 2.15625 -2.171875 2.15625 -4.578125 C 2.15625 -7 3.671875 -7.96875 4.953125 -7.96875 C 6.359375 -7.96875 7.796875 -6.9375 7.796875 -4.578125 Z M 7.796875 -4.578125 \"/>\n",
       "</symbol>\n",
       "<symbol overflow=\"visible\" id=\"glyph-1518428330974450-0-3\">\n",
       "<path style=\"stroke:none;\" d=\"M 9.15625 0 L 5.171875 -4.5625 L 8.828125 -8.84375 L 7.1875 -8.84375 L 4.515625 -5.5625 L 1.765625 -8.84375 L 0.125 -8.84375 L 3.859375 -4.5625 L 0 0 L 1.640625 0 L 4.515625 -3.75 L 7.515625 0 Z M 9.15625 0 \"/>\n",
       "</symbol>\n",
       "<symbol overflow=\"visible\" id=\"glyph-1518428330974450-0-4\">\n",
       "<path style=\"stroke:none;\" d=\"M 12.15625 -3.75 C 12.15625 -5.484375 10.421875 -6.890625 8.3125 -7.234375 C 10.125 -7.6875 11.609375 -8.84375 11.609375 -10.359375 C 11.609375 -12.1875 9.484375 -13.828125 6.65625 -13.828125 L 1.9375 -13.828125 L 1.9375 0 L 7.1875 0 C 10.0625 0 12.15625 -1.796875 12.15625 -3.75 Z M 10.0625 -10.34375 C 10.0625 -9.140625 8.640625 -7.796875 5.890625 -7.796875 L 3.578125 -7.796875 L 3.578125 -12.703125 L 6.09375 -12.703125 C 8.3125 -12.703125 10.0625 -11.65625 10.0625 -10.34375 Z M 10.53125 -3.765625 C 10.53125 -2.265625 8.78125 -1.109375 6.640625 -1.109375 L 3.578125 -1.109375 L 3.578125 -6.578125 L 6.46875 -6.578125 C 8.59375 -6.578125 10.53125 -5.359375 10.53125 -3.765625 Z M 10.53125 -3.765625 \"/>\n",
       "</symbol>\n",
       "<symbol overflow=\"visible\" id=\"glyph-1518428330974450-0-5\">\n",
       "<path style=\"stroke:none;\" d=\"M 13.3125 -8.84375 L 11.859375 -8.84375 L 10.578125 -4.625 C 10.359375 -3.90625 9.765625 -1.9375 9.65625 -1.078125 L 9.640625 -1.078125 C 9.5625 -1.6875 9.0625 -3.46875 8.71875 -4.609375 L 7.4375 -8.84375 L 6.03125 -8.84375 L 4.90625 -5.09375 C 4.6875 -4.40625 4 -2.109375 3.921875 -1.09375 L 3.90625 -1.09375 C 3.8125 -2.046875 3.140625 -4.296875 2.828125 -5.40625 L 1.796875 -8.84375 L 0.28125 -8.84375 L 3.015625 0 L 4.578125 0 L 5.8125 -4.109375 C 6.09375 -5.015625 6.65625 -7 6.71875 -7.734375 L 6.734375 -7.734375 C 6.765625 -7.171875 7.109375 -5.796875 7.375 -4.9375 L 8.828125 0 L 10.578125 0 Z M 13.3125 -8.84375 \"/>\n",
       "</symbol>\n",
       "<symbol overflow=\"visible\" id=\"glyph-1518428330974450-0-6\">\n",
       "<path style=\"stroke:none;\" d=\"M 3.109375 0 L 3.109375 -8.84375 L 1.609375 -8.84375 L 1.609375 0 Z M 3.265625 -11.28125 L 3.265625 -13.046875 L 1.5 -13.046875 L 1.5 -11.28125 Z M 3.265625 -11.28125 \"/>\n",
       "</symbol>\n",
       "<symbol overflow=\"visible\" id=\"glyph-1518428330974450-0-7\">\n",
       "<path style=\"stroke:none;\" d=\"M 8.640625 0 L 8.640625 -13.828125 L 7.15625 -13.828125 L 7.15625 -7.96875 C 6.09375 -8.84375 4.984375 -9.0625 4.25 -9.0625 C 2.265625 -9.0625 0.71875 -7 0.71875 -4.421875 C 0.71875 -1.8125 2.25 0.21875 4.140625 0.21875 C 4.796875 0.21875 5.96875 0.046875 7.09375 -1.03125 L 7.09375 0 Z M 7.09375 -2.765625 C 7.09375 -2.484375 7.078125 -2.125 6.4375 -1.546875 C 5.96875 -1.15625 5.484375 -1 4.953125 -1 C 3.71875 -1 2.265625 -1.9375 2.265625 -4.40625 C 2.265625 -7.03125 3.984375 -7.84375 5.15625 -7.84375 C 6.0625 -7.84375 6.65625 -7.390625 7.09375 -6.75 Z M 7.09375 -2.765625 \"/>\n",
       "</symbol>\n",
       "<symbol overflow=\"visible\" id=\"glyph-1518428330974450-0-8\">\n",
       "<path style=\"stroke:none;\" d=\"M 6.609375 -0.53125 L 6.296875 -1.71875 C 5.78125 -1.296875 5.140625 -1.0625 4.5 -1.0625 C 3.765625 -1.0625 3.484375 -1.65625 3.484375 -2.703125 L 3.484375 -7.6875 L 6.296875 -7.6875 L 6.296875 -8.84375 L 3.484375 -8.84375 L 3.484375 -11.375 L 2.109375 -11.375 L 2.109375 -8.84375 L 0.375 -8.84375 L 0.375 -7.6875 L 2.046875 -7.6875 L 2.046875 -2.375 C 2.046875 -1.171875 2.328125 0.21875 3.703125 0.21875 C 5.09375 0.21875 6.109375 -0.28125 6.609375 -0.53125 Z M 6.609375 -0.53125 \"/>\n",
       "</symbol>\n",
       "<symbol overflow=\"visible\" id=\"glyph-1518428330974450-0-9\">\n",
       "<path style=\"stroke:none;\" d=\"M 8.671875 0 L 8.671875 -5.9375 C 8.671875 -7.25 8.359375 -9.0625 5.9375 -9.0625 C 4.703125 -9.0625 3.75 -8.453125 3.109375 -7.625 L 3.109375 -13.828125 L 1.609375 -13.828125 L 1.609375 0 L 3.171875 0 L 3.171875 -4.875 C 3.171875 -6.203125 3.671875 -7.84375 5.171875 -7.84375 C 7.09375 -7.84375 7.109375 -6.4375 7.109375 -5.796875 L 7.109375 0 Z M 8.671875 0 \"/>\n",
       "</symbol>\n",
       "<symbol overflow=\"visible\" id=\"glyph-1518428330974450-0-10\">\n",
       "<path style=\"stroke:none;\" d=\"M 8.453125 0 L 8.453125 -1.15625 L 5.953125 -1.15625 L 5.953125 -13.5 L 5.5625 -13.5 C 4.375 -12.296875 2.734375 -12.234375 1.765625 -12.1875 L 1.765625 -11.03125 C 2.4375 -11.0625 3.390625 -11.09375 4.375 -11.515625 L 4.375 -1.15625 L 1.890625 -1.15625 L 1.890625 0 Z M 8.453125 0 \"/>\n",
       "</symbol>\n",
       "<symbol overflow=\"visible\" id=\"glyph-1518428330974450-0-11\">\n",
       "<path style=\"stroke:none;\" d=\"M 9.109375 -6.5 C 9.109375 -8.0625 9.03125 -9.921875 8.1875 -11.53125 C 7.375 -13.03125 6 -13.5 4.984375 -13.5 C 3.8125 -13.5 2.40625 -12.96875 1.59375 -11.203125 C 0.9375 -9.734375 0.84375 -8.09375 0.84375 -6.5 C 0.84375 -4.921875 0.921875 -3.46875 1.515625 -2.015625 C 2.3125 -0.09375 3.828125 0.4375 4.953125 0.4375 C 6.421875 0.4375 7.671875 -0.375 8.3125 -1.75 C 8.90625 -3.046875 9.109375 -4.359375 9.109375 -6.5 Z M 7.546875 -6.734375 C 7.546875 -5.421875 7.546875 -4.15625 7.1875 -2.90625 C 6.671875 -1.09375 5.625 -0.78125 4.984375 -0.78125 C 3.9375 -0.78125 3.125 -1.53125 2.734375 -2.96875 C 2.40625 -4.109375 2.390625 -5.171875 2.390625 -6.734375 C 2.390625 -7.984375 2.390625 -9.1875 2.734375 -10.28125 C 2.84375 -10.65625 3.34375 -12.296875 4.953125 -12.296875 C 6.515625 -12.296875 7.03125 -10.78125 7.171875 -10.421875 C 7.546875 -9.296875 7.546875 -7.96875 7.546875 -6.734375 Z M 7.546875 -6.734375 \"/>\n",
       "</symbol>\n",
       "<symbol overflow=\"visible\" id=\"glyph-1518428330974450-0-12\">\n",
       "<path style=\"stroke:none;\" d=\"M 3.578125 0 L 3.578125 -1.65625 L 1.9375 -1.65625 L 1.9375 0 Z M 3.578125 0 \"/>\n",
       "</symbol>\n",
       "<symbol overflow=\"visible\" id=\"glyph-1518428330974450-0-13\">\n",
       "<path style=\"stroke:none;\" d=\"M 8.25 -4.359375 C 8.25 -5.046875 8.234375 -6.53125 7.453125 -7.734375 C 6.640625 -8.96875 5.421875 -9.1875 4.703125 -9.1875 C 2.484375 -9.1875 0.703125 -7.078125 0.703125 -4.5 C 0.703125 -1.875 2.609375 0.21875 5 0.21875 C 6.25 0.21875 7.390625 -0.265625 8.171875 -0.8125 L 8.046875 -2.109375 C 6.796875 -1.078125 5.484375 -1 5.015625 -1 C 3.421875 -1 2.15625 -2.40625 2.09375 -4.359375 Z M 7.109375 -5.453125 L 2.1875 -5.453125 C 2.515625 -6.96875 3.5625 -7.96875 4.703125 -7.96875 C 5.734375 -7.96875 6.859375 -7.296875 7.109375 -5.453125 Z M 7.109375 -5.453125 \"/>\n",
       "</symbol>\n",
       "<symbol overflow=\"visible\" id=\"glyph-1518428330974450-0-14\">\n",
       "<path style=\"stroke:none;\" d=\"M 9.65625 -7.8125 L 9.4375 -9.0625 C 8.046875 -9.0625 6.890625 -8.6875 6.296875 -8.421875 C 5.875 -8.765625 5.203125 -9.0625 4.40625 -9.0625 C 2.6875 -9.0625 1.234375 -7.625 1.234375 -5.8125 C 1.234375 -5.078125 1.5 -4.359375 1.890625 -3.84375 C 1.3125 -3.03125 1.3125 -2.25 1.3125 -2.15625 C 1.3125 -1.640625 1.5 -1.0625 1.828125 -0.640625 C 0.796875 -0.015625 0.5625 0.890625 0.5625 1.421875 C 0.5625 2.90625 2.53125 4.109375 4.953125 4.109375 C 7.40625 4.109375 9.390625 2.921875 9.390625 1.390625 C 9.390625 -1.375 6.0625 -1.375 5.28125 -1.375 L 3.53125 -1.375 C 3.265625 -1.375 2.375 -1.375 2.375 -2.4375 C 2.375 -2.65625 2.453125 -2.96875 2.59375 -3.140625 C 3.015625 -2.84375 3.671875 -2.5625 4.40625 -2.5625 C 6.203125 -2.5625 7.59375 -4.046875 7.59375 -5.8125 C 7.59375 -6.765625 7.15625 -7.515625 6.9375 -7.8125 L 7.015625 -7.796875 C 7.453125 -7.796875 8.015625 -7.875 8.484375 -7.875 C 8.84375 -7.875 9.65625 -7.8125 9.65625 -7.8125 Z M 6.203125 -5.8125 C 6.203125 -4.265625 5.265625 -3.703125 4.40625 -3.703125 C 3.671875 -3.703125 2.625 -4.15625 2.625 -5.8125 C 2.625 -7.46875 3.671875 -7.921875 4.40625 -7.921875 C 5.265625 -7.921875 6.203125 -7.375 6.203125 -5.8125 Z M 7.984375 1.4375 C 7.984375 2.3125 6.609375 2.96875 4.984375 2.96875 C 3.359375 2.96875 1.953125 2.34375 1.953125 1.421875 C 1.953125 1.359375 1.953125 0.0625 3.5 0.0625 L 5.296875 0.0625 C 5.734375 0.0625 7.984375 0.0625 7.984375 1.4375 Z M 7.984375 1.4375 \"/>\n",
       "</symbol>\n",
       "<symbol overflow=\"visible\" id=\"glyph-1518428330974450-0-15\">\n",
       "<path style=\"stroke:none;\" d=\"M 8.9375 0 L 8.9375 -1.421875 L 5.3125 -1.421875 C 5.078125 -1.421875 4.84375 -1.390625 4.609375 -1.390625 L 2.4375 -1.390625 C 3.0625 -1.953125 4.578125 -3.453125 5.203125 -4.03125 C 5.578125 -4.375 6.59375 -5.21875 6.96875 -5.578125 C 7.875 -6.46875 8.9375 -7.53125 8.9375 -9.21875 C 8.9375 -11.515625 7.328125 -13.5 4.703125 -13.5 C 2.4375 -13.5 1.3125 -11.953125 0.84375 -10.234375 C 1.078125 -9.90625 1.171875 -9.78125 1.21875 -9.71875 C 1.25 -9.6875 1.453125 -9.421875 1.65625 -9.140625 C 2.046875 -10.671875 2.609375 -12.234375 4.421875 -12.234375 C 6.296875 -12.234375 7.3125 -10.734375 7.3125 -9.1875 C 7.3125 -7.484375 6.171875 -6.359375 5 -5.15625 L 3.46875 -3.75 L 1 -1.28125 L 1 0 Z M 8.9375 0 \"/>\n",
       "</symbol>\n",
       "<symbol overflow=\"visible\" id=\"glyph-1518428330974450-0-16\">\n",
       "<path style=\"stroke:none;\" d=\"M 8.265625 -0.796875 L 8.140625 -2.125 C 7.125 -1.328125 6.0625 -1.0625 5.046875 -1.0625 C 3.390625 -1.0625 2.265625 -2.484375 2.265625 -4.4375 C 2.265625 -6 3.015625 -7.90625 5.125 -7.90625 C 6.15625 -7.90625 6.828125 -7.75 7.921875 -7.03125 L 8.171875 -8.328125 C 7 -9 6.3125 -9.1875 5.09375 -9.1875 C 2.328125 -9.1875 0.71875 -6.765625 0.71875 -4.421875 C 0.71875 -1.953125 2.53125 0.21875 5.015625 0.21875 C 6.09375 0.21875 7.1875 -0.0625 8.265625 -0.796875 Z M 8.265625 -0.796875 \"/>\n",
       "</symbol>\n",
       "<symbol overflow=\"visible\" id=\"glyph-1518428330974450-0-17\">\n",
       "<path style=\"stroke:none;\" d=\"M 6.515625 -7.734375 L 6.515625 -9.0625 C 4.734375 -9.046875 3.640625 -8.0625 3.03125 -7.15625 L 3.03125 -8.96875 L 1.640625 -8.96875 L 1.640625 0 L 3.125 0 L 3.125 -4.265625 C 3.125 -6.25 4.5625 -7.6875 6.515625 -7.734375 Z M 6.515625 -7.734375 \"/>\n",
       "</symbol>\n",
       "<symbol overflow=\"visible\" id=\"glyph-1518428330974450-0-18\">\n",
       "<path style=\"stroke:none;\" d=\"M 8.671875 0 L 8.671875 -5.9375 C 8.671875 -7.25 8.359375 -9.0625 5.9375 -9.0625 C 4.140625 -9.0625 3.171875 -7.703125 3.046875 -7.546875 L 3.046875 -8.96875 L 1.609375 -8.96875 L 1.609375 0 L 3.171875 0 L 3.171875 -4.875 C 3.171875 -6.203125 3.671875 -7.84375 5.171875 -7.84375 C 7.09375 -7.84375 7.109375 -6.4375 7.109375 -5.796875 L 7.109375 0 Z M 8.671875 0 \"/>\n",
       "</symbol>\n",
       "<symbol overflow=\"visible\" id=\"glyph-1518428330974450-0-19\">\n",
       "<path style=\"stroke:none;\" d=\"M 13.53125 -6.875 C 13.53125 -11.0625 10.640625 -14.265625 7.328125 -14.265625 C 3.9375 -14.265625 1.109375 -11.015625 1.109375 -6.875 C 1.109375 -2.65625 4.0625 0.4375 7.3125 0.4375 C 10.640625 0.4375 13.53125 -2.6875 13.53125 -6.875 Z M 11.75 -7.171875 C 11.75 -3.28125 9.609375 -0.859375 7.328125 -0.859375 C 4.984375 -0.859375 2.890625 -3.34375 2.890625 -7.171875 C 2.890625 -10.8125 5.078125 -12.984375 7.3125 -12.984375 C 9.625 -12.984375 11.75 -10.734375 11.75 -7.171875 Z M 11.75 -7.171875 \"/>\n",
       "</symbol>\n",
       "<symbol overflow=\"visible\" id=\"glyph-1518428330974450-0-20\">\n",
       "<path style=\"stroke:none;\" d=\"M 8.890625 -8.84375 L 7.390625 -8.84375 C 4.796875 -2.515625 4.765625 -1.59375 4.734375 -1.140625 L 4.71875 -1.140625 C 4.609375 -2.46875 3.015625 -6.171875 2.921875 -6.359375 L 1.859375 -8.84375 L 0.28125 -8.84375 L 4.140625 0 L 3.421875 1.796875 C 2.90625 2.953125 2.5625 2.953125 2.296875 2.953125 C 1.96875 2.953125 1.328125 2.875 0.734375 2.625 L 0.859375 3.921875 C 1.296875 4.03125 1.859375 4.078125 2.296875 4.078125 C 2.984375 4.078125 3.71875 3.84375 4.546875 1.8125 Z M 8.890625 -8.84375 \"/>\n",
       "</symbol>\n",
       "</g>\n",
       "<clipPath id=\"clip-1518428330974450-1\">\n",
       "  <path d=\"M 290 70 L 432.988281 70 L 432.988281 127.648438 L 290 127.648438 Z M 290 70 \"/>\n",
       "</clipPath>\n",
       "<clipPath id=\"clip-1518428330974450-2\">\n",
       "  <path d=\"M 290 69 L 432.988281 69 L 432.988281 127.648438 L 290 127.648438 Z M 290 69 \"/>\n",
       "</clipPath>\n",
       "</defs>\n",
       "<g id=\"surface1\">\n",
       "<path style=\"fill-rule:nonzero;fill:rgb(75%,75%,75%);fill-opacity:1;stroke-width:1.19553;stroke-linecap:butt;stroke-linejoin:miter;stroke:rgb(0%,0%,0%);stroke-opacity:1;stroke-miterlimit:10;\" d=\"M 85.038719 42.521062 L -85.039406 42.521062 L -85.039406 -42.521906 L 85.038719 -42.521906 Z M 85.038719 42.521062 \" transform=\"matrix(1,0,0,-1,163.098,70.357)\"/>\n",
       "<g style=\"fill:rgb(0%,0%,0%);fill-opacity:1;\">\n",
       "  <use xlink:href=\"#glyph-1518428330974450-0-1\" x=\"6.641\" y=\"77.162\"/>\n",
       "</g>\n",
       "<g style=\"fill:rgb(0%,0%,0%);fill-opacity:1;\">\n",
       "  <use xlink:href=\"#glyph-1518428330974450-0-2\" x=\"17.500278\" y=\"77.162\"/>\n",
       "</g>\n",
       "<g style=\"fill:rgb(0%,0%,0%);fill-opacity:1;\">\n",
       "  <use xlink:href=\"#glyph-1518428330974450-0-3\" x=\"26.90501\" y=\"77.162\"/>\n",
       "</g>\n",
       "<g style=\"fill:rgb(0%,0%,0%);fill-opacity:1;\">\n",
       "  <use xlink:href=\"#glyph-1518428330974450-0-4\" x=\"84.795\" y=\"20.469\"/>\n",
       "  <use xlink:href=\"#glyph-1518428330974450-0-2\" x=\"98.085162\" y=\"20.469\"/>\n",
       "</g>\n",
       "<g style=\"fill:rgb(0%,0%,0%);fill-opacity:1;\">\n",
       "  <use xlink:href=\"#glyph-1518428330974450-0-3\" x=\"107.489894\" y=\"20.469\"/>\n",
       "</g>\n",
       "<path style=\"fill:none;stroke-width:1.19553;stroke-linecap:butt;stroke-linejoin:miter;stroke:rgb(0%,0%,0%);stroke-opacity:1;stroke-miterlimit:10;\" d=\"M -119.172219 0.00153125 L -91.973 0.00153125 \" transform=\"matrix(1,0,0,-1,163.098,70.357)\"/>\n",
       "<path style=\" stroke:none;fill-rule:nonzero;fill:rgb(0%,0%,0%);fill-opacity:1;\" d=\"M 76.863281 70.355469 C 75.160156 70.039062 72.398438 69.082031 70.484375 67.964844 L 70.484375 72.75 C 72.398438 71.632812 75.160156 70.675781 76.863281 70.355469 \"/>\n",
       "<g style=\"fill:rgb(0%,0%,0%);fill-opacity:1;\">\n",
       "  <use xlink:href=\"#glyph-1518428330974450-0-5\" x=\"88.991\" y=\"48.815\"/>\n",
       "  <use xlink:href=\"#glyph-1518428330974450-0-6\" x=\"102.599966\" y=\"48.815\"/>\n",
       "  <use xlink:href=\"#glyph-1518428330974450-0-7\" x=\"107.362108\" y=\"48.815\"/>\n",
       "  <use xlink:href=\"#glyph-1518428330974450-0-8\" x=\"117.663478\" y=\"48.815\"/>\n",
       "  <use xlink:href=\"#glyph-1518428330974450-0-9\" x=\"124.856504\" y=\"48.815\"/>\n",
       "</g>\n",
       "<g style=\"fill:rgb(0%,0%,0%);fill-opacity:1;\">\n",
       "  <use xlink:href=\"#glyph-1518428330974450-0-10\" x=\"182.923\" y=\"48.546\"/>\n",
       "  <use xlink:href=\"#glyph-1518428330974450-0-11\" x=\"192.88564\" y=\"48.546\"/>\n",
       "  <use xlink:href=\"#glyph-1518428330974450-0-11\" x=\"202.84828\" y=\"48.546\"/>\n",
       "  <use xlink:href=\"#glyph-1518428330974450-0-12\" x=\"212.81092\" y=\"48.546\"/>\n",
       "  <use xlink:href=\"#glyph-1518428330974450-0-11\" x=\"218.350148\" y=\"48.546\"/>\n",
       "</g>\n",
       "<path style=\"fill:none;stroke-width:1.19553;stroke-linecap:butt;stroke-linejoin:miter;stroke:rgb(0%,0%,0%);stroke-opacity:1;stroke-miterlimit:10;\" d=\"M -20.101906 28.345281 L 6.249656 28.345281 \" transform=\"matrix(1,0,0,-1,163.098,70.357)\"/>\n",
       "<path style=\" stroke:none;fill-rule:nonzero;fill:rgb(0%,0%,0%);fill-opacity:1;\" d=\"M 175.085938 42.011719 C 173.386719 41.691406 170.621094 40.734375 168.710938 39.621094 L 168.710938 44.402344 C 170.621094 43.285156 173.386719 42.328125 175.085938 42.011719 \"/>\n",
       "<g style=\"fill:rgb(0%,0%,0%);fill-opacity:1;\">\n",
       "  <use xlink:href=\"#glyph-1518428330974450-0-9\" x=\"86.391\" y=\"75.219\"/>\n",
       "  <use xlink:href=\"#glyph-1518428330974450-0-13\" x=\"96.69237\" y=\"75.219\"/>\n",
       "  <use xlink:href=\"#glyph-1518428330974450-0-6\" x=\"105.539194\" y=\"75.219\"/>\n",
       "  <use xlink:href=\"#glyph-1518428330974450-0-14\" x=\"110.301336\" y=\"75.219\"/>\n",
       "  <use xlink:href=\"#glyph-1518428330974450-0-9\" x=\"120.263976\" y=\"75.219\"/>\n",
       "  <use xlink:href=\"#glyph-1518428330974450-0-8\" x=\"130.565346\" y=\"75.219\"/>\n",
       "</g>\n",
       "<g style=\"fill:rgb(0%,0%,0%);fill-opacity:1;\">\n",
       "  <use xlink:href=\"#glyph-1518428330974450-0-15\" x=\"182.923\" y=\"76.893\"/>\n",
       "  <use xlink:href=\"#glyph-1518428330974450-0-11\" x=\"192.88564\" y=\"76.893\"/>\n",
       "  <use xlink:href=\"#glyph-1518428330974450-0-11\" x=\"202.84828\" y=\"76.893\"/>\n",
       "  <use xlink:href=\"#glyph-1518428330974450-0-12\" x=\"212.81092\" y=\"76.893\"/>\n",
       "  <use xlink:href=\"#glyph-1518428330974450-0-11\" x=\"218.350148\" y=\"76.893\"/>\n",
       "</g>\n",
       "<path style=\"fill:none;stroke-width:1.19553;stroke-linecap:butt;stroke-linejoin:miter;stroke:rgb(0%,0%,0%);stroke-opacity:1;stroke-miterlimit:10;\" d=\"M -17.50425 0.00153125 L 6.249656 0.00153125 \" transform=\"matrix(1,0,0,-1,163.098,70.357)\"/>\n",
       "<path style=\" stroke:none;fill-rule:nonzero;fill:rgb(0%,0%,0%);fill-opacity:1;\" d=\"M 175.085938 70.355469 C 173.386719 70.039062 170.621094 69.082031 168.710938 67.964844 L 168.710938 72.75 C 170.621094 71.632812 173.386719 70.675781 175.085938 70.355469 \"/>\n",
       "<g style=\"fill:rgb(0%,0%,0%);fill-opacity:1;\">\n",
       "  <use xlink:href=\"#glyph-1518428330974450-0-16\" x=\"86.561\" y=\"103.187\"/>\n",
       "  <use xlink:href=\"#glyph-1518428330974450-0-2\" x=\"95.407824\" y=\"103.187\"/>\n",
       "</g>\n",
       "<g style=\"fill:rgb(0%,0%,0%);fill-opacity:1;\">\n",
       "  <use xlink:href=\"#glyph-1518428330974450-0-17\" x=\"104.812556\" y=\"103.187\"/>\n",
       "  <use xlink:href=\"#glyph-1518428330974450-0-18\" x=\"111.627002\" y=\"103.187\"/>\n",
       "  <use xlink:href=\"#glyph-1518428330974450-0-13\" x=\"121.928372\" y=\"103.187\"/>\n",
       "  <use xlink:href=\"#glyph-1518428330974450-0-17\" x=\"130.775196\" y=\"103.187\"/>\n",
       "</g>\n",
       "<g clip-path=\"url(#clip-1518428330974450-1)\" clip-rule=\"nonzero\">\n",
       "<path style=\" stroke:none;fill-rule:nonzero;fill:rgb(75%,75%,75%);fill-opacity:1;\" d=\"M 432.394531 70.355469 L 290.660156 70.355469 L 290.660156 127.050781 L 432.394531 127.050781 Z M 432.394531 70.355469 \"/>\n",
       "</g>\n",
       "<g clip-path=\"url(#clip-1518428330974450-2)\" clip-rule=\"nonzero\">\n",
       "<path style=\"fill:none;stroke-width:1.19553;stroke-linecap:butt;stroke-linejoin:miter;stroke:rgb(0%,0%,0%);stroke-opacity:1;stroke-miterlimit:10;\" d=\"M 269.296531 0.00153125 L 127.562156 0.00153125 L 127.562156 -56.693781 L 269.296531 -56.693781 Z M 269.296531 0.00153125 \" transform=\"matrix(1,0,0,-1,163.098,70.357)\"/>\n",
       "</g>\n",
       "<g style=\"fill:rgb(0%,0%,0%);fill-opacity:1;\">\n",
       "  <use xlink:href=\"#glyph-1518428330974450-0-19\" x=\"291.781\" y=\"58.43\"/>\n",
       "  <use xlink:href=\"#glyph-1518428330974450-0-17\" x=\"306.446006\" y=\"58.43\"/>\n",
       "  <use xlink:href=\"#glyph-1518428330974450-0-6\" x=\"313.260452\" y=\"58.43\"/>\n",
       "  <use xlink:href=\"#glyph-1518428330974450-0-14\" x=\"318.022594\" y=\"58.43\"/>\n",
       "  <use xlink:href=\"#glyph-1518428330974450-0-6\" x=\"327.985234\" y=\"58.43\"/>\n",
       "  <use xlink:href=\"#glyph-1518428330974450-0-18\" x=\"332.747376\" y=\"58.43\"/>\n",
       "  <use xlink:href=\"#glyph-1518428330974450-0-13\" x=\"343.048745\" y=\"58.43\"/>\n",
       "</g>\n",
       "<path style=\"fill:none;stroke-width:1.19553;stroke-linecap:butt;stroke-linejoin:miter;stroke:rgb(0%,0%,0%);stroke-opacity:1;stroke-miterlimit:10;\" d=\"M -17.672219 -28.346125 L 120.624656 -28.346125 \" transform=\"matrix(1,0,0,-1,163.098,70.357)\"/>\n",
       "<path style=\" stroke:none;fill-rule:nonzero;fill:rgb(0%,0%,0%);fill-opacity:1;\" d=\"M 289.464844 98.703125 C 287.761719 98.386719 285 97.429688 283.085938 96.3125 L 283.085938 101.09375 C 285 99.980469 287.761719 99.023438 289.464844 98.703125 \"/>\n",
       "<g style=\"fill:rgb(0%,0%,0%);fill-opacity:1;\">\n",
       "  <use xlink:href=\"#glyph-1518428330974450-0-3\" x=\"300.237\" y=\"88.954\"/>\n",
       "</g>\n",
       "<g style=\"fill:rgb(0%,0%,0%);fill-opacity:1;\">\n",
       "  <use xlink:href=\"#glyph-1518428330974450-0-11\" x=\"377.137\" y=\"91.066\"/>\n",
       "  <use xlink:href=\"#glyph-1518428330974450-0-12\" x=\"387.09964\" y=\"91.066\"/>\n",
       "  <use xlink:href=\"#glyph-1518428330974450-0-11\" x=\"392.638868\" y=\"91.066\"/>\n",
       "</g>\n",
       "<path style=\"fill:none;stroke-width:1.19553;stroke-linecap:butt;stroke-linejoin:miter;stroke:rgb(0%,0%,0%);stroke-opacity:1;stroke-miterlimit:10;\" d=\"M 154.163719 -14.17425 L 200.468406 -14.17425 \" transform=\"matrix(1,0,0,-1,163.098,70.357)\"/>\n",
       "<path style=\" stroke:none;fill-rule:nonzero;fill:rgb(0%,0%,0%);fill-opacity:1;\" d=\"M 369.304688 84.53125 C 367.601562 84.210938 364.839844 83.253906 362.925781 82.140625 L 362.925781 86.921875 C 364.839844 85.804688 367.601562 84.847656 369.304688 84.53125 \"/>\n",
       "<g style=\"fill:rgb(0%,0%,0%);fill-opacity:1;\">\n",
       "  <use xlink:href=\"#glyph-1518428330974450-0-20\" x=\"300.237\" y=\"115.258\"/>\n",
       "</g>\n",
       "<g style=\"fill:rgb(0%,0%,0%);fill-opacity:1;\">\n",
       "  <use xlink:href=\"#glyph-1518428330974450-0-11\" x=\"377.137\" y=\"119.413\"/>\n",
       "  <use xlink:href=\"#glyph-1518428330974450-0-12\" x=\"387.09964\" y=\"119.413\"/>\n",
       "  <use xlink:href=\"#glyph-1518428330974450-0-11\" x=\"392.638868\" y=\"119.413\"/>\n",
       "</g>\n",
       "<path style=\"fill:none;stroke-width:1.19553;stroke-linecap:butt;stroke-linejoin:miter;stroke:rgb(0%,0%,0%);stroke-opacity:1;stroke-miterlimit:10;\" d=\"M 154.163719 -42.521906 L 200.468406 -42.521906 \" transform=\"matrix(1,0,0,-1,163.098,70.357)\"/>\n",
       "<path style=\" stroke:none;fill-rule:nonzero;fill:rgb(0%,0%,0%);fill-opacity:1;\" d=\"M 369.304688 112.878906 C 367.601562 112.558594 364.839844 111.601562 362.925781 110.484375 L 362.925781 115.269531 C 364.839844 114.152344 367.601562 113.195312 369.304688 112.878906 \"/>\n",
       "<g style=\"fill:rgb(0%,0%,0%);fill-opacity:1;\">\n",
       "  <use xlink:href=\"#glyph-1518428330974450-0-9\" x=\"86.391\" y=\"75.219\"/>\n",
       "  <use xlink:href=\"#glyph-1518428330974450-0-13\" x=\"96.69237\" y=\"75.219\"/>\n",
       "  <use xlink:href=\"#glyph-1518428330974450-0-6\" x=\"105.539194\" y=\"75.219\"/>\n",
       "  <use xlink:href=\"#glyph-1518428330974450-0-14\" x=\"110.301336\" y=\"75.219\"/>\n",
       "  <use xlink:href=\"#glyph-1518428330974450-0-9\" x=\"120.263976\" y=\"75.219\"/>\n",
       "  <use xlink:href=\"#glyph-1518428330974450-0-8\" x=\"130.565346\" y=\"75.219\"/>\n",
       "</g>\n",
       "<g style=\"fill:rgb(0%,0%,0%);fill-opacity:1;\">\n",
       "  <use xlink:href=\"#glyph-1518428330974450-0-15\" x=\"182.923\" y=\"76.893\"/>\n",
       "  <use xlink:href=\"#glyph-1518428330974450-0-11\" x=\"192.88564\" y=\"76.893\"/>\n",
       "  <use xlink:href=\"#glyph-1518428330974450-0-11\" x=\"202.84828\" y=\"76.893\"/>\n",
       "  <use xlink:href=\"#glyph-1518428330974450-0-12\" x=\"212.81092\" y=\"76.893\"/>\n",
       "  <use xlink:href=\"#glyph-1518428330974450-0-11\" x=\"218.350148\" y=\"76.893\"/>\n",
       "</g>\n",
       "<path style=\"fill:none;stroke-width:1.19553;stroke-linecap:butt;stroke-linejoin:miter;stroke:rgb(0%,0%,0%);stroke-opacity:1;stroke-miterlimit:10;\" d=\"M -17.50425 0.00153125 L 6.249656 0.00153125 \" transform=\"matrix(1,0,0,-1,163.098,70.357)\"/>\n",
       "<path style=\" stroke:none;fill-rule:nonzero;fill:rgb(0%,0%,0%);fill-opacity:1;\" d=\"M 175.085938 70.355469 C 173.386719 70.039062 170.621094 69.082031 168.710938 67.964844 L 168.710938 72.75 C 170.621094 71.632812 173.386719 70.675781 175.085938 70.355469 \"/>\n",
       "</g>\n",
       "</svg>\n",
       "\n"
      ],
      "text/plain": [
       "TikzPictures.TikzPicture(L\"$    \\node(box)[draw, fill=lightgray, minimum width=3cm, minimum height=1.5cm]{};\n",
       "    \\node(nbox)[left of = box, xshift=-1.5cm]{box};\n",
       "    \\node(Box)[above of = box, xshift=-1.1cm]{Box};\n",
       "    \\draw[-latex] (nbox) -- (box);\n",
       "    \\node(nw) at(-0.9,0.5) {width};\n",
       "    \\node(w) at(0.75,0.5) {100.0};\n",
       "    \\draw[-latex](nw)--(w);\n",
       "    \\node(nh) at(-0.9,0) {height};\n",
       "    \\node(h) at(0.75,0) {200.0};\n",
       "    \\draw[-latex](nh)--(h);\n",
       "    \\node(nc) at(-0.9,-0.5) {corner};\n",
       "    \\node(origine) [draw, fill=lightgray, minimum width=2.5cm, minimum height=1cm] at (3.5, -0.5){};\n",
       "    \\node(Origine)[above of = origine, xshift=-0.7cm, , yshift=-0.2cm]{Origine};\n",
       "    \\draw[-latex] (nc) -- (origine);\n",
       "    \\node(nx) at(2.5,-0.25) {x};\n",
       "    \\node(x) at(4,-.25) {0.0};\n",
       "    \\draw[-latex](nx)--(x);\n",
       "    \\node(ny) at(2.5,-0.75) {y};\n",
       "    \\node(y) at(4,-.75) {0.0};\n",
       "    \\draw[-latex](ny)--(y);\n",
       "    \\node(nh) at(-0.9,0) {height};\n",
       "    \\node(h) at(0.75,0) {200.0};\n",
       "    \\draw[-latex](nh)--(h);\n",
       "$\", \"very thick, scale=2, transform shape\", \"    \\\\usepackage{newtxmath}\\n    \\\\renewcommand{\\\\familydefault}{\\\\sfdefault}\\n    \\\\usepackage{cancel}\\n\", true, true)"
      ]
     },
     "execution_count": 39,
     "metadata": {},
     "output_type": "execute_result"
    }
   ],
   "source": [
    "using TikzPictures\n",
    "TikzPicture(L\"\"\"\n",
    "    \\node(box)[draw, fill=lightgray, minimum width=3cm, minimum height=1.5cm]{};\n",
    "    \\node(nbox)[left of = box, xshift=-1.5cm]{box};\n",
    "    \\node(Box)[above of = box, xshift=-1.1cm]{Box};\n",
    "    \\draw[-latex] (nbox) -- (box);\n",
    "    \\node(nw) at(-0.9,0.5) {width};\n",
    "    \\node(w) at(0.75,0.5) {100.0};\n",
    "    \\draw[-latex](nw)--(w);\n",
    "    \\node(nh) at(-0.9,0) {height};\n",
    "    \\node(h) at(0.75,0) {200.0};\n",
    "    \\draw[-latex](nh)--(h);\n",
    "    \\node(nc) at(-0.9,-0.5) {corner};\n",
    "    \\node(origine) [draw, fill=lightgray, minimum width=2.5cm, minimum height=1cm] at (3.5, -0.5){};\n",
    "    \\node(Origine)[above of = origine, xshift=-0.7cm, , yshift=-0.2cm]{Origine};\n",
    "    \\draw[-latex] (nc) -- (origine);\n",
    "    \\node(nx) at(2.5,-0.25) {x};\n",
    "    \\node(x) at(4,-.25) {0.0};\n",
    "    \\draw[-latex](nx)--(x);\n",
    "    \\node(ny) at(2.5,-0.75) {y};\n",
    "    \\node(y) at(4,-.75) {0.0};\n",
    "    \\draw[-latex](ny)--(y);\n",
    "    \\node(nh) at(-0.9,0) {height};\n",
    "    \\node(h) at(0.75,0) {200.0};\n",
    "    \\draw[-latex](nh)--(h);\n",
    "\"\"\"; options=\"very thick, scale=2, transform shape\", preamble=\"\"\"\n",
    "    \\\\usepackage{newtxmath}\n",
    "    \\\\renewcommand{\\\\familydefault}{\\\\sfdefault}\n",
    "    \\\\usepackage{cancel}\n",
    "\"\"\")"
   ]
  },
  {
   "cell_type": "markdown",
   "metadata": {},
   "source": [
    "To find the x-coordinate of the left corner fo the `box`, we can use two times the `.` notation:"
   ]
  },
  {
   "cell_type": "code",
   "execution_count": 11,
   "metadata": {},
   "outputs": [
    {
     "data": {
      "text/plain": [
       "0.0"
      ]
     },
     "execution_count": 11,
     "metadata": {},
     "output_type": "execute_result"
    }
   ],
   "source": [
    "box.corner.x"
   ]
  },
  {
   "cell_type": "markdown",
   "metadata": {
    "slideshow": {
     "slide_type": "subslide"
    }
   },
   "source": [
    "# Objects as Function arguments\n",
    "\n",
    "You can pass an object as an argument in the usual way. For example:"
   ]
  },
  {
   "cell_type": "code",
   "execution_count": 12,
   "metadata": {},
   "outputs": [
    {
     "name": "stdout",
     "output_type": "stream",
     "text": [
      "(0.0, 0.0)\n"
     ]
    }
   ],
   "source": [
    "function printPoint(p)\n",
    "    println(\"($(p.x), $(p.y))\")\n",
    "end\n",
    "printPoint(origine)"
   ]
  },
  {
   "cell_type": "markdown",
   "metadata": {},
   "source": [
    "`print_point` takes a point as an argument and displays it in mathematical notation.\n",
    "\n",
    "Inside the function, `p` is an alias for `origine`. "
   ]
  },
  {
   "cell_type": "markdown",
   "metadata": {
    "slideshow": {
     "slide_type": "subslide"
    }
   },
   "source": [
    "You can change the state of an mutable object by making an assignment to one of its fields. For example, to change the size of a rectangle without changing its position, you can modify the values of `width` and `height`:"
   ]
  },
  {
   "cell_type": "code",
   "execution_count": 13,
   "metadata": {},
   "outputs": [
    {
     "data": {
      "text/plain": [
       "Rectangle(150, 300, Point(0.0, 0.0))"
      ]
     },
     "execution_count": 13,
     "metadata": {},
     "output_type": "execute_result"
    }
   ],
   "source": [
    "box.width = box.width + 50\n",
    "box.height = box.height + 100\n",
    "box"
   ]
  },
  {
   "cell_type": "markdown",
   "metadata": {},
   "source": [
    "You can also write functions that modify mutable objects. For example, `grow_rectangle` takes a `Rectangle` object and two numbers, dwidth and dheight, and adds the numbers to the width and height of the rectangle:"
   ]
  },
  {
   "cell_type": "code",
   "execution_count": 14,
   "metadata": {},
   "outputs": [
    {
     "data": {
      "text/plain": [
       "grow_rectangle (generic function with 1 method)"
      ]
     },
     "execution_count": 14,
     "metadata": {},
     "output_type": "execute_result"
    }
   ],
   "source": [
    "function grow_rectangle(rect::Rectangle, dwidth, dheight)\n",
    "    rect.width += dwidth\n",
    "    rect.height += dheight\n",
    "end"
   ]
  },
  {
   "cell_type": "markdown",
   "metadata": {},
   "source": [
    "Here is an example that demonstrates the effect:"
   ]
  },
  {
   "cell_type": "code",
   "execution_count": 15,
   "metadata": {},
   "outputs": [
    {
     "data": {
      "text/plain": [
       "Rectangle(200, 400, Point(0.0, 0.0))"
      ]
     },
     "execution_count": 15,
     "metadata": {},
     "output_type": "execute_result"
    }
   ],
   "source": [
    "grow_rectangle(box, 50, 100)\n",
    "box"
   ]
  },
  {
   "cell_type": "markdown",
   "metadata": {},
   "source": [
    "Inside the function, `rect` is an alias for `box`, so when the function modifies `rect`, `box` changes."
   ]
  },
  {
   "cell_type": "markdown",
   "metadata": {
    "slideshow": {
     "slide_type": "slide"
    }
   },
   "source": [
    "# Objects as return values\n",
    "\n",
    "Functions can return objects. For example, `find_center` takes a `Rectangle` as an argument and returns a `Point` that contains the coordinates of the center of the `Rectangle`:"
   ]
  },
  {
   "cell_type": "code",
   "execution_count": 16,
   "metadata": {},
   "outputs": [
    {
     "data": {
      "text/plain": [
       "find_center (generic function with 1 method)"
      ]
     },
     "execution_count": 16,
     "metadata": {},
     "output_type": "execute_result"
    }
   ],
   "source": [
    "function find_center(rect::Rectangle)\n",
    "    xc = rect.corner.x + rect.width/2\n",
    "    yc = rect.corner.y + rect.height/2\n",
    "    Point(xc, yc)\n",
    "end"
   ]
  },
  {
   "cell_type": "markdown",
   "metadata": {},
   "source": [
    "Here is an example that passes `box` as an argument and assigns the resulting `Point` to `center`:"
   ]
  },
  {
   "cell_type": "code",
   "execution_count": 17,
   "metadata": {},
   "outputs": [
    {
     "data": {
      "text/plain": [
       "Point(100.0, 200.0)"
      ]
     },
     "execution_count": 17,
     "metadata": {},
     "output_type": "execute_result"
    }
   ],
   "source": [
    "center = find_center(box)"
   ]
  },
  {
   "cell_type": "markdown",
   "metadata": {
    "slideshow": {
     "slide_type": "slide"
    }
   },
   "source": [
    "# Copying\n",
    "\n",
    "Aliasing can make a program difficult to read because changes in one place might have unexpected effects in another place. It is hard to keep track of all the variables that might refer to a given object.\n",
    "\n",
    "Copying an object is often an alternative to aliasing. Julia provides a function called `deepcopy` that can duplicate any object:"
   ]
  },
  {
   "cell_type": "code",
   "execution_count": 18,
   "metadata": {},
   "outputs": [
    {
     "data": {
      "text/plain": [
       "false"
      ]
     },
     "execution_count": 18,
     "metadata": {},
     "output_type": "execute_result"
    }
   ],
   "source": [
    "box2 = deepcopy(box)\n",
    "box2 === box"
   ]
  },
  {
   "cell_type": "code",
   "execution_count": 19,
   "metadata": {},
   "outputs": [
    {
     "data": {
      "text/plain": [
       "false"
      ]
     },
     "execution_count": 19,
     "metadata": {},
     "output_type": "execute_result"
    }
   ],
   "source": [
    "box2 == box"
   ]
  },
  {
   "cell_type": "markdown",
   "metadata": {},
   "source": [
    "The is operator indicates that `p1` and `p2` are not the same object, which is what we expected. But you might have expected `==` to yield `true` because these points contain the same data. In that case, you will be disappointed to learn that for mutable objects, the default behavior of the `==` operator is the same as the `===` operator; it checks object identity, not object equivalence. That’s because for mutable composite types, Julia doesn’t know what should be considered equivalent. At least, not yet."
   ]
  },
  {
   "cell_type": "markdown",
   "metadata": {
    "slideshow": {
     "slide_type": "slide"
    }
   },
   "source": [
    "# Debugging\n",
    "\n",
    "When you start working with objects, you are likely to encounter some new exceptions. If you try to access a field that doesn’t exist, you get:"
   ]
  },
  {
   "cell_type": "code",
   "execution_count": 20,
   "metadata": {},
   "outputs": [
    {
     "ename": "LoadError",
     "evalue": "\u001b[91mtype Point has no field z\u001b[39m",
     "output_type": "error",
     "traceback": [
      "\u001b[91mtype Point has no field z\u001b[39m",
      "",
      "Stacktrace:",
      " [1] \u001b[1minclude_string\u001b[22m\u001b[22m\u001b[1m(\u001b[22m\u001b[22m::String, ::String\u001b[1m)\u001b[22m\u001b[22m at \u001b[1m./loading.jl:522\u001b[22m\u001b[22m"
     ]
    }
   ],
   "source": [
    "p = Point(0.0, 0.0)\n",
    "p.z = 1.0"
   ]
  },
  {
   "cell_type": "markdown",
   "metadata": {},
   "source": [
    "If you are not sure what type an object is, you can ask:"
   ]
  },
  {
   "cell_type": "code",
   "execution_count": 21,
   "metadata": {},
   "outputs": [
    {
     "data": {
      "text/plain": [
       "Point"
      ]
     },
     "execution_count": 21,
     "metadata": {},
     "output_type": "execute_result"
    }
   ],
   "source": [
    "typeof(p)"
   ]
  },
  {
   "cell_type": "markdown",
   "metadata": {},
   "source": [
    "You can also use `isa` to check whether an object is an instance of a type:"
   ]
  },
  {
   "cell_type": "code",
   "execution_count": 22,
   "metadata": {},
   "outputs": [
    {
     "data": {
      "text/plain": [
       "true"
      ]
     },
     "execution_count": 22,
     "metadata": {},
     "output_type": "execute_result"
    }
   ],
   "source": [
    "p isa Point"
   ]
  },
  {
   "cell_type": "markdown",
   "metadata": {
    "slideshow": {
     "slide_type": "subslide"
    }
   },
   "source": [
    "If you are not sure whether an object has a particular attribute, you can use the built-in function `fieldnames`:"
   ]
  },
  {
   "cell_type": "code",
   "execution_count": 23,
   "metadata": {},
   "outputs": [
    {
     "data": {
      "text/plain": [
       "2-element Array{Symbol,1}:\n",
       " :x\n",
       " :y"
      ]
     },
     "execution_count": 23,
     "metadata": {},
     "output_type": "execute_result"
    }
   ],
   "source": [
    "fieldnames(p)"
   ]
  },
  {
   "cell_type": "code",
   "execution_count": null,
   "metadata": {},
   "outputs": [],
   "source": []
  }
 ],
 "metadata": {
  "celltoolbar": "Slideshow",
  "hide_code_all_hidden": false,
  "kernelspec": {
   "display_name": "Julia 0.6.2",
   "language": "julia",
   "name": "julia-0.6"
  },
  "language_info": {
   "file_extension": ".jl",
   "mimetype": "application/julia",
   "name": "julia",
   "version": "0.6.2"
  }
 },
 "nbformat": 4,
 "nbformat_minor": 2
}
