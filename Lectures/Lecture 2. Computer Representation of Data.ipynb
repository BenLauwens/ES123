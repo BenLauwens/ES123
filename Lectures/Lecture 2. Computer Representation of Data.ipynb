{
 "cells": [
  {
   "cell_type": "markdown",
   "metadata": {
    "slideshow": {
     "slide_type": "slide"
    }
   },
   "source": [
    "# Binary digits\n",
    "\n",
    "Data is kept in a computer as a series of high and low electronic signals, and so they are considered base 2 numbers.\n",
    "\n",
    "A single digit of a binary number is thus the *atom* of computing, since all information is composed of *binary digits* or *bits*.\n",
    "\n",
    "In any number base $b$, the value of the $i$th digit $d$ is\n",
    "$$d\\times b^i$$\n",
    "where $i$ starts at $0$ and increases from right to left, eg.\n",
    "\n",
    "$$1011_2 = (1\\times 2^3) + (0\\times 2^2) + (1\\times 1^1) + (1\\times 1^0)= 8_{10}+0_{10}+2_{10}+1_{10}=11_{10}$$\n",
    "\n",
    "The *least significant bit* is used to refer to the rightmost bit and *most significant bit* to the leftmost bit."
   ]
  },
  {
   "cell_type": "markdown",
   "metadata": {
    "slideshow": {
     "slide_type": "slide"
    }
   },
   "source": [
    "# Integers\n",
    "\n",
    "An *integer* is a number that can be written without a fractional component.\n",
    "\n",
    "Computers can perform operations on numbers whose precision is finite and fixed. The ARMv64 subset we have studied in previous lecture uses doublewords (64 bits) to store information. We like to use these 64 bits to encode both postive and negative numbers. The most used representation is two's complement:\n",
    "\n",
    "$$\n",
    "00000000\\_00000000\\_00000000\\_00000000\\_00000000\\_00000000\\_00000000\\_00000000_2 = 0_{10}\\\\\n",
    "00000000\\_00000000\\_00000000\\_00000000\\_00000000\\_00000000\\_00000000\\_00000001_2 = 1_{10}\\\\\n",
    "00000000\\_00000000\\_00000000\\_00000000\\_00000000\\_00000000\\_00000000\\_00000010_2 = 2_{10}\\\\\n",
    "\\cdots\\\\\n",
    "01111111\\_11111111\\_11111111\\_11111111\\_11111111\\_11111111\\_11111111\\_11111111_2 = 92233720360854775807_{10}\\\\\n",
    "10000000\\_00000000\\_00000000\\_00000000\\_00000000\\_00000000\\_00000000\\_00000000_2 = -92233720360854775808_{10}\\\\\n",
    "10000000\\_00000000\\_00000000\\_00000000\\_00000000\\_00000000\\_00000000\\_00000001_2 = -92233720360854775807_{10}\\\\\n",
    "\\cdots\\\\\n",
    "11111111\\_11111111\\_11111111\\_11111111\\_11111111\\_11111111\\_11111111\\_11111101_2 = -3_{10}\\\\\n",
    "11111111\\_11111111\\_11111111\\_11111111\\_11111111\\_11111111\\_11111111\\_11111110_2 = -2_{10}\\\\\n",
    "11111111\\_11111111\\_11111111\\_11111111\\_11111111\\_11111111\\_11111111\\_11111111_2 = -1_{10}\n",
    "$$"
   ]
  },
  {
   "cell_type": "markdown",
   "metadata": {
    "slideshow": {
     "slide_type": "subslide"
    }
   },
   "source": [
    "- Two's complement does have one negative number that has no corresponding positive number: $92233720360854775807_{10}$.\n",
    "\n",
    "- Two's complement has the advantage that all negative numbers have a $1$ in the most significant bit. Thus, hardware needs to test only this bit to see if a number is positive or negative (with the number $0$ is considered positive). This bit is often called the *sign bit*\n",
    "\n",
    "- The conversion to base $10$ is straightforward:\n",
    "$$(x_{63}\\times-2^{63})+(x_{62}\\times2^{62})+(x_{61}\\times2^{61})+\\cdots+(x_{1}\\times2^{1})+(x_{0}\\times2^{0})$$"
   ]
  },
  {
   "cell_type": "markdown",
   "metadata": {
    "slideshow": {
     "slide_type": "slide"
    }
   },
   "source": [
    "# Floating Point Numbers\n",
    "\n",
    "Programming languages also support numbers with fractions, which are called *reals* in mathematics:\n",
    "$$\n",
    "3.14159265\\dots_{10}: \\pi\\\\\n",
    "2.71828\\dots_{10}: e\\\\\n",
    "1.0_{10}\\times10^{-9}:0.000000001_{10}\\\\\n",
    "1.333333_{10}\\times10^1:\\frac{40_{10}}{3_{10}}\n",
    "$$\n",
    "The notation for the last two numbers is called *normalize scientific notation*, which has a single digit to the left of the decimal point different from $0$.\n",
    "\n",
    "Binary numbers can also be shown in scientific notation:\n",
    "$$1.0_2\\times2^{-1}$$\n",
    "The point in the expression is called *binary point*."
   ]
  },
  {
   "cell_type": "markdown",
   "metadata": {
    "slideshow": {
     "slide_type": "subslide"
    }
   },
   "source": [
    "Numbers for which the binary point is not fixed are called *floating point numbers*:\n",
    "$$(-1)^{S_2}\\times F_2\\times 2^{E_2}$$\n",
    "\n",
    "A designer of floating point representation must find a compromise between the size of the *fraction* and the size of the *exponent*. This tradeoff is between precision and range.\n",
    "\n",
    "The ARMv64 subset we have studied uses also doublewords to represent floating point values:\n",
    "\n",
    "- S_2: a single bit\n",
    "- F_2: 52 bits\n",
    "- E_2: 11 bits\n",
    "\n",
    "Values as large as $1.7976931348623157e308$ and as small as $-1.7976931348623157e308$ can be represented."
   ]
  },
  {
   "cell_type": "code",
   "execution_count": 5,
   "metadata": {},
   "outputs": [
    {
     "data": {
      "text/plain": [
       "-1.7976931348623157e308"
      ]
     },
     "execution_count": 5,
     "metadata": {},
     "output_type": "execute_result"
    }
   ],
   "source": [
    "nextfloat(-Inf)"
   ]
  },
  {
   "cell_type": "code",
   "execution_count": null,
   "metadata": {},
   "outputs": [],
   "source": []
  }
 ],
 "metadata": {
  "celltoolbar": "Slideshow",
  "kernelspec": {
   "display_name": "Julia 0.6",
   "language": "julia",
   "name": "julia-0.6"
  },
  "language_info": {
   "file_extension": ".jl",
   "mimetype": "application/julia",
   "name": "julia",
   "version": "0.6.2"
  }
 },
 "nbformat": 4,
 "nbformat_minor": 2
}
