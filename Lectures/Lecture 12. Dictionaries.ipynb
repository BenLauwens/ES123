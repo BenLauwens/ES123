{
 "cells": [
  {
   "cell_type": "markdown",
   "metadata": {
    "hideCode": false,
    "hidePrompt": false,
    "slideshow": {
     "slide_type": "slide"
    }
   },
   "source": [
    "# A dictionary is a mapping\n",
    "\n",
    "A dictionary is like an array, but more general. In an array, the indices have to be integers; in a dictionary they can be (almost) any type.\n",
    "A dictionary contains a collection of indices, which are called *keys*, and a collection of *values*. Each key is associated with a single value. The association of a key and a value is called a *key-value pair* or sometimes an item.\n",
    "\n",
    "In mathematical language, a dictionary represents a mapping from keys to values, so you can also say that each key “maps to” a value. As an example, we’ll build a dictionary that maps from English to Spanish words, so the keys and the values are all strings."
   ]
  },
  {
   "cell_type": "markdown",
   "metadata": {
    "hideCode": false,
    "hidePrompt": false,
    "slideshow": {
     "slide_type": "subslide"
    }
   },
   "source": [
    "The function `Dict` creates a new dictionary with no items. Because `Dict` is the name of a built-in function, you should avoid using it as a variable name."
   ]
  },
  {
   "cell_type": "code",
   "execution_count": 9,
   "metadata": {
    "hideCode": false,
    "hidePrompt": false
   },
   "outputs": [
    {
     "data": {
      "text/plain": [
       "Dict{Any,Any} with 0 entries"
      ]
     },
     "execution_count": 9,
     "metadata": {},
     "output_type": "execute_result"
    }
   ],
   "source": [
    "eng2sp = Dict()"
   ]
  },
  {
   "cell_type": "markdown",
   "metadata": {
    "hideCode": false,
    "hidePrompt": false
   },
   "source": [
    "To add items to the dictionary, you can use square brackets:"
   ]
  },
  {
   "cell_type": "code",
   "execution_count": 10,
   "metadata": {
    "hideCode": false,
    "hidePrompt": false
   },
   "outputs": [
    {
     "data": {
      "text/plain": [
       "\"uno\""
      ]
     },
     "execution_count": 10,
     "metadata": {},
     "output_type": "execute_result"
    }
   ],
   "source": [
    "eng2sp[\"one\"] = \"uno\""
   ]
  },
  {
   "cell_type": "markdown",
   "metadata": {
    "hideCode": false,
    "hidePrompt": false
   },
   "source": [
    "This line creates an item that maps from the key `\"one\"` to the value `\"uno\"`. If we print the dictionary again, we see a key-value pair:"
   ]
  },
  {
   "cell_type": "code",
   "execution_count": 11,
   "metadata": {
    "hideCode": false,
    "hidePrompt": false
   },
   "outputs": [
    {
     "data": {
      "text/plain": [
       "Dict{Any,Any} with 1 entry:\n",
       "  \"one\" => \"uno\""
      ]
     },
     "execution_count": 11,
     "metadata": {},
     "output_type": "execute_result"
    }
   ],
   "source": [
    "eng2sp"
   ]
  },
  {
   "cell_type": "markdown",
   "metadata": {
    "hideCode": false,
    "hidePrompt": false,
    "slideshow": {
     "slide_type": "subslide"
    }
   },
   "source": [
    "This output format is also an input format. For example, you can create a new dictionary with three items:"
   ]
  },
  {
   "cell_type": "code",
   "execution_count": 12,
   "metadata": {
    "hideCode": false,
    "hidePrompt": false
   },
   "outputs": [
    {
     "data": {
      "text/plain": [
       "Dict{String,String} with 3 entries:\n",
       "  \"two\"   => \"dos\"\n",
       "  \"one\"   => \"uno\"\n",
       "  \"three\" => \"tres\""
      ]
     },
     "execution_count": 12,
     "metadata": {},
     "output_type": "execute_result"
    }
   ],
   "source": [
    "eng2sp = Dict(\"one\" => \"uno\", \"two\" => \"dos\", \"three\" => \"tres\")"
   ]
  },
  {
   "cell_type": "markdown",
   "metadata": {
    "hideCode": false,
    "hidePrompt": false
   },
   "source": [
    "You might be surprised by the output. The order of the key-value pairs might not be the same. If you type the same example on your computer, you might get a different result. In general, the order of items in a dictionary is unpredictable."
   ]
  },
  {
   "cell_type": "markdown",
   "metadata": {
    "hideCode": false,
    "hidePrompt": false,
    "slideshow": {
     "slide_type": "subslide"
    }
   },
   "source": [
    "But that’s not a problem because the elements of a dictionary are never indexed with integer indices. Instead, you use the keys to look up the corresponding values:"
   ]
  },
  {
   "cell_type": "code",
   "execution_count": 13,
   "metadata": {
    "hideCode": false,
    "hidePrompt": false
   },
   "outputs": [
    {
     "data": {
      "text/plain": [
       "\"dos\""
      ]
     },
     "execution_count": 13,
     "metadata": {},
     "output_type": "execute_result"
    }
   ],
   "source": [
    "eng2sp[\"two\"]"
   ]
  },
  {
   "cell_type": "markdown",
   "metadata": {
    "hideCode": false,
    "hidePrompt": false
   },
   "source": [
    "The key `\"two\"` always maps to the value `\"dos\"` so the order of the items doesn’t matter.\n",
    "If the key isn’t in the dictionary, you get a `KeyError`:"
   ]
  },
  {
   "cell_type": "code",
   "execution_count": 14,
   "metadata": {
    "hideCode": false,
    "hidePrompt": false
   },
   "outputs": [
    {
     "ename": "LoadError",
     "evalue": "\u001b[91mKeyError: key \"four\" not found\u001b[39m",
     "output_type": "error",
     "traceback": [
      "\u001b[91mKeyError: key \"four\" not found\u001b[39m",
      "",
      "Stacktrace:",
      " [1] \u001b[1mgetindex\u001b[22m\u001b[22m\u001b[1m(\u001b[22m\u001b[22m::Dict{String,String}, ::String\u001b[1m)\u001b[22m\u001b[22m at \u001b[1m./dict.jl:474\u001b[22m\u001b[22m",
      " [2] \u001b[1minclude_string\u001b[22m\u001b[22m\u001b[1m(\u001b[22m\u001b[22m::String, ::String\u001b[1m)\u001b[22m\u001b[22m at \u001b[1m./loading.jl:522\u001b[22m\u001b[22m"
     ]
    }
   ],
   "source": [
    "eng2sp[\"four\"]"
   ]
  },
  {
   "cell_type": "markdown",
   "metadata": {
    "hideCode": false,
    "hidePrompt": false,
    "slideshow": {
     "slide_type": "subslide"
    }
   },
   "source": [
    "The `length` function works on dictionaries; it returns the number of key-value pairs:"
   ]
  },
  {
   "cell_type": "code",
   "execution_count": 15,
   "metadata": {
    "hideCode": false,
    "hidePrompt": false
   },
   "outputs": [
    {
     "data": {
      "text/plain": [
       "3"
      ]
     },
     "execution_count": 15,
     "metadata": {},
     "output_type": "execute_result"
    }
   ],
   "source": [
    "length(eng2sp)"
   ]
  },
  {
   "cell_type": "markdown",
   "metadata": {
    "hideCode": false,
    "hidePrompt": false
   },
   "source": [
    "To see whether something appears as a key in a dictionary, you can use the function `keys`, which returns a collection of keys, and then use the `in` operator:"
   ]
  },
  {
   "cell_type": "code",
   "execution_count": 18,
   "metadata": {
    "hideCode": false,
    "hidePrompt": false
   },
   "outputs": [
    {
     "data": {
      "text/plain": [
       "true"
      ]
     },
     "execution_count": 18,
     "metadata": {},
     "output_type": "execute_result"
    }
   ],
   "source": [
    "\"one\" in keys(eng2sp)"
   ]
  },
  {
   "cell_type": "markdown",
   "metadata": {
    "hideCode": false,
    "hidePrompt": false,
    "slideshow": {
     "slide_type": "subslide"
    }
   },
   "source": [
    "To see whether something appears as a value in a dictionary, you can use the method `values`, which returns a collection of values, and then use the `in` operator:"
   ]
  },
  {
   "cell_type": "code",
   "execution_count": 19,
   "metadata": {
    "hideCode": false,
    "hidePrompt": false
   },
   "outputs": [
    {
     "data": {
      "text/plain": [
       "true"
      ]
     },
     "execution_count": 19,
     "metadata": {},
     "output_type": "execute_result"
    }
   ],
   "source": [
    "\"uno\" in values(eng2sp)"
   ]
  },
  {
   "cell_type": "markdown",
   "metadata": {
    "hideCode": false,
    "hidePrompt": false
   },
   "source": [
    "The `in` operator uses different algorithms for arrays and dictionaries. For arrays, it searches the elements of the list in order. As the array gets longer, the search time gets longer in direct proportion.\n",
    "\n",
    "For dictionaries, Julia uses an algorithm called a *hashtable* that has a remarkable property: the `in` operator takes about the same amount of time no matter how many items are in the dictionary. "
   ]
  },
  {
   "cell_type": "markdown",
   "metadata": {
    "hideCode": false,
    "hidePrompt": false,
    "slideshow": {
     "slide_type": "slide"
    }
   },
   "source": [
    "# Dictionary as a collection of counters\n",
    "\n",
    "Suppose you are given a string and you want to count how many times each letter appears. There are several ways you could do it:\n",
    "\n",
    "- You could create 26 variables, one for each letter of the alphabet. Then you could traverse the string and, for each character, increment the corresponding counter, probably using a chained conditional.\n",
    "\n",
    "- You could create a list with 26 elements. Then you could convert each character to a number, use the number as an index into the list, and increment the appropriate counter.\n",
    "\n",
    "- You could create a dictionary with characters as keys and counters as the corresponding values. The first time you see a character, you would add an item to the dictionary. After that you would increment the value of an existing item.\n",
    "\n",
    "Each of these options performs the same computation, but each of them implements that computation in a different way."
   ]
  },
  {
   "cell_type": "markdown",
   "metadata": {
    "hideCode": false,
    "hidePrompt": false,
    "slideshow": {
     "slide_type": "subslide"
    }
   },
   "source": [
    "An *implementation* is a way of performing a computation; some implementations are better than others. For example, an advantage of the dictionary implementation is that we don’t have to know ahead of time which letters appear in the string and we only have to make room for the letters that do appear.\n",
    "\n",
    "Here is what the code might look like:"
   ]
  },
  {
   "cell_type": "code",
   "execution_count": 1,
   "metadata": {
    "hideCode": false,
    "hidePrompt": false
   },
   "outputs": [
    {
     "data": {
      "text/plain": [
       "histogram (generic function with 1 method)"
      ]
     },
     "execution_count": 1,
     "metadata": {},
     "output_type": "execute_result"
    }
   ],
   "source": [
    "function histogram(s)\n",
    "    d = Dict()\n",
    "    for c in s\n",
    "        if c ∉ keys(d)\n",
    "            d[c] = 1\n",
    "        else\n",
    "            d[c] += 1\n",
    "        end\n",
    "    end\n",
    "    d\n",
    "end"
   ]
  },
  {
   "cell_type": "markdown",
   "metadata": {
    "hideCode": false,
    "hidePrompt": false
   },
   "source": [
    "The name of the function is `histogram`, which is a statistical term for a collection of counters (or frequencies).\n",
    "The first line of the function creates an empty dictionary. The `for` loop traverses the string. Each time through the loop, if the character `c` is not in the dictionary, we create a new item with key `c` and the initial value `1` (since we have seen this letter once). If `c` is already in the dictionary we increment `d[c]`."
   ]
  },
  {
   "cell_type": "markdown",
   "metadata": {
    "hideCode": false,
    "hidePrompt": false,
    "slideshow": {
     "slide_type": "subslide"
    }
   },
   "source": [
    "Here’s how it works:"
   ]
  },
  {
   "cell_type": "code",
   "execution_count": 2,
   "metadata": {
    "hideCode": false,
    "hidePrompt": false
   },
   "outputs": [
    {
     "data": {
      "text/plain": [
       "Dict{Any,Any} with 8 entries:\n",
       "  'n' => 1\n",
       "  'b' => 1\n",
       "  'o' => 2\n",
       "  't' => 1\n",
       "  'a' => 1\n",
       "  'u' => 2\n",
       "  's' => 2\n",
       "  'r' => 2"
      ]
     },
     "execution_count": 2,
     "metadata": {},
     "output_type": "execute_result"
    }
   ],
   "source": [
    "histogram(\"brontosaurus\")"
   ]
  },
  {
   "cell_type": "markdown",
   "metadata": {
    "hideCode": false,
    "hidePrompt": false
   },
   "source": [
    "The histogram indicates that the letters `'a'` and `'b'` appear once; `'o'` appears twice, and so on."
   ]
  },
  {
   "cell_type": "markdown",
   "metadata": {
    "hideCode": false,
    "hidePrompt": false,
    "slideshow": {
     "slide_type": "subslide"
    }
   },
   "source": [
    "Dictionaries have a function called `get` that takes a key and a default value. If the key appears in the dictionary, get returns the corresponding value; otherwise it returns the default value. For example:"
   ]
  },
  {
   "cell_type": "code",
   "execution_count": 34,
   "metadata": {
    "hideCode": false,
    "hidePrompt": false
   },
   "outputs": [
    {
     "name": "stdout",
     "output_type": "stream",
     "text": [
      "1\n",
      "0\n"
     ]
    }
   ],
   "source": [
    "h = histogram(\"a\")\n",
    "println(get(h, 'a', 0))\n",
    "println(get(h, 'b', 0))"
   ]
  },
  {
   "cell_type": "markdown",
   "metadata": {
    "hideCode": false,
    "hidePrompt": false,
    "slideshow": {
     "slide_type": "slide"
    }
   },
   "source": [
    "# Looping and dictionaries\n",
    "\n",
    "You can traverse the keys of the dictionary in a `for` statement. For example, `print_hist` prints each key and the corresponding value:"
   ]
  },
  {
   "cell_type": "code",
   "execution_count": 4,
   "metadata": {
    "hideCode": false,
    "hidePrompt": false
   },
   "outputs": [
    {
     "data": {
      "text/plain": [
       "print_hist (generic function with 1 method)"
      ]
     },
     "execution_count": 4,
     "metadata": {},
     "output_type": "execute_result"
    }
   ],
   "source": [
    "function print_hist(h)\n",
    "    for k in keys(h)\n",
    "        println(k, \" \", h[k])\n",
    "    end\n",
    "end"
   ]
  },
  {
   "cell_type": "markdown",
   "metadata": {
    "hideCode": false,
    "hidePrompt": false
   },
   "source": [
    "Here’s what the output looks like:"
   ]
  },
  {
   "cell_type": "code",
   "execution_count": 5,
   "metadata": {
    "hideCode": false,
    "hidePrompt": false
   },
   "outputs": [
    {
     "name": "stdout",
     "output_type": "stream",
     "text": [
      "o 1\n",
      "a 1\n",
      "p 1\n",
      "t 1\n",
      "r 2\n"
     ]
    }
   ],
   "source": [
    "h = histogram(\"parrot\")\n",
    "print_hist(h)"
   ]
  },
  {
   "cell_type": "markdown",
   "metadata": {
    "hideCode": false,
    "hidePrompt": false,
    "slideshow": {
     "slide_type": "slide"
    }
   },
   "source": [
    "# Reverse lookup\n",
    "\n",
    "Given a dictionary `d` and a key `k`, it is easy to find the corresponding value `v = d[k]`. This operation is called a *lookup*.\n",
    "\n",
    "But what if you have `v` and you want to find `k`? You have two problems: first, there might be more than one key that maps to the value `v`. Depending on the application, you might be able to pick one, or you might have to make an array that contains all of them. Second, there is no simple syntax to do a *reverse lookup*; you have to search.\n",
    "\n",
    "Here is a function that takes a value and returns the first key that maps to that value:"
   ]
  },
  {
   "cell_type": "code",
   "execution_count": 8,
   "metadata": {
    "hideCode": false,
    "hidePrompt": false
   },
   "outputs": [
    {
     "data": {
      "text/plain": [
       "reverse_lookup (generic function with 1 method)"
      ]
     },
     "execution_count": 8,
     "metadata": {},
     "output_type": "execute_result"
    }
   ],
   "source": [
    "struct LookupError <: Exception end\n",
    "\n",
    "function reverse_lookup(d, v)\n",
    "    for key in keys(d)\n",
    "        value = d[key]\n",
    "        if value == v\n",
    "            return key\n",
    "        end\n",
    "    end\n",
    "    throw(LookupError())\n",
    "end"
   ]
  },
  {
   "cell_type": "markdown",
   "metadata": {
    "hideCode": false,
    "hidePrompt": false
   },
   "source": [
    "This function is yet another example of the search pattern, but it uses a feature we haven’t seen before, raise. The raise statement causes an exception; in this case it causes a `LookupError`, which is an `Exception` used to indicate that a key does not exist.\n",
    "\n",
    "If we get to the end of the loop, that means `v` doesn’t appear in the dictionary as a value, so we throw an exception."
   ]
  },
  {
   "cell_type": "markdown",
   "metadata": {
    "hideCode": false,
    "hidePrompt": false,
    "slideshow": {
     "slide_type": "subslide"
    }
   },
   "source": [
    "Here is an example of a successful reverse lookup:"
   ]
  },
  {
   "cell_type": "code",
   "execution_count": 9,
   "metadata": {
    "hideCode": false,
    "hidePrompt": false
   },
   "outputs": [
    {
     "data": {
      "text/plain": [
       "'r': ASCII/Unicode U+0072 (category Ll: Letter, lowercase)"
      ]
     },
     "execution_count": 9,
     "metadata": {},
     "output_type": "execute_result"
    }
   ],
   "source": [
    "h = histogram(\"parrot\")\n",
    "k = reverse_lookup(h, 2)"
   ]
  },
  {
   "cell_type": "markdown",
   "metadata": {
    "hideCode": false,
    "hidePrompt": false
   },
   "source": [
    "And an unsuccessful one:"
   ]
  },
  {
   "cell_type": "code",
   "execution_count": 10,
   "metadata": {
    "hideCode": false,
    "hidePrompt": false
   },
   "outputs": [
    {
     "ename": "LoadError",
     "evalue": "\u001b[91mLookupError()\u001b[39m",
     "output_type": "error",
     "traceback": [
      "\u001b[91mLookupError()\u001b[39m",
      "",
      "Stacktrace:",
      " [1] \u001b[1mreverse_lookup\u001b[22m\u001b[22m\u001b[1m(\u001b[22m\u001b[22m::Dict{Any,Any}, ::Int64\u001b[1m)\u001b[22m\u001b[22m at \u001b[1m./In[8]:10\u001b[22m\u001b[22m",
      " [2] \u001b[1minclude_string\u001b[22m\u001b[22m\u001b[1m(\u001b[22m\u001b[22m::String, ::String\u001b[1m)\u001b[22m\u001b[22m at \u001b[1m./loading.jl:522\u001b[22m\u001b[22m"
     ]
    }
   ],
   "source": [
    "k = reverse_lookup(h, 3)"
   ]
  },
  {
   "cell_type": "markdown",
   "metadata": {
    "hideCode": false,
    "hidePrompt": false
   },
   "source": [
    "A reverse lookup is much slower than a forward lookup; if you have to do it often, or if the dictionary gets big, the performance of your program will suffer."
   ]
  },
  {
   "cell_type": "markdown",
   "metadata": {
    "hideCode": false,
    "hidePrompt": false,
    "slideshow": {
     "slide_type": "slide"
    }
   },
   "source": [
    "# Dictionaries and arrays\n",
    "\n",
    "Arrays can appear as values in a dictionary. For example, if you are given a dictionary that maps from letters to frequencies, you might want to invert it; that is, create a dictionary that maps from frequencies to letters. Since there might be several letters with the same frequency, each value in the inverted dictionary should be an array of letters.\n",
    "\n",
    "Here is a function that inverts a dictionary:"
   ]
  },
  {
   "cell_type": "code",
   "execution_count": 13,
   "metadata": {
    "hideCode": false,
    "hidePrompt": false
   },
   "outputs": [
    {
     "data": {
      "text/plain": [
       "invert_dict (generic function with 1 method)"
      ]
     },
     "execution_count": 13,
     "metadata": {},
     "output_type": "execute_result"
    }
   ],
   "source": [
    "function invert_dict(d)\n",
    "    inverse = Dict()\n",
    "    for key in keys(d)\n",
    "        val = d[key]\n",
    "        if val ∉ keys(inverse)\n",
    "            inverse[val] = [key]\n",
    "        else\n",
    "            push!(inverse[val], key)\n",
    "        end\n",
    "    end\n",
    "    inverse\n",
    "end"
   ]
  },
  {
   "cell_type": "markdown",
   "metadata": {
    "hideCode": false,
    "hidePrompt": false,
    "slideshow": {
     "slide_type": "subslide"
    }
   },
   "source": [
    "Each time through the loop, `key` gets a key from `d` and `val` gets the corresponding value. If `val` is not in `inverse`, that means we haven’t seen it before, so we create a new item and initialize it with a *singleton* (an array that contains a single element). Otherwise we have seen this value before, so we append the corresponding key to the array.\n",
    "\n",
    "Here is an example:"
   ]
  },
  {
   "cell_type": "code",
   "execution_count": 14,
   "metadata": {
    "hideCode": false,
    "hideOutput": true,
    "hidePrompt": false
   },
   "outputs": [
    {
     "name": "stdout",
     "output_type": "stream",
     "text": [
      "Dict{Any,Any}(Pair{Any,Any}('o', 1),Pair{Any,Any}('a', 1),Pair{Any,Any}('p', 1),Pair{Any,Any}('t', 1),Pair{Any,Any}('r', 2))\n"
     ]
    },
    {
     "data": {
      "text/plain": [
       "Dict{Any,Any} with 2 entries:\n",
       "  2 => ['r']\n",
       "  1 => ['o', 'a', 'p', 't']"
      ]
     },
     "execution_count": 14,
     "metadata": {},
     "output_type": "execute_result"
    }
   ],
   "source": [
    "hist = histogram(\"parrot\")\n",
    "println(hist)\n",
    "inverse = invert_dict(hist)"
   ]
  },
  {
   "cell_type": "code",
   "execution_count": 113,
   "metadata": {
    "hideCode": true,
    "hidePrompt": true,
    "slideshow": {
     "slide_type": "subslide"
    }
   },
   "outputs": [
    {
     "data": {
      "image/svg+xml": [
       "<?xml version=\"1.0\" encoding=\"UTF-8\"?>\n",
       "<svg xmlns=\"http://www.w3.org/2000/svg\" xmlns:xlink=\"http://www.w3.org/1999/xlink\" width=\"574.938pt\" height=\"171.274pt\" viewBox=\"0 0 574.938 171.274\" version=\"1.1\">\n",
       "<defs>\n",
       "<g>\n",
       "<symbol overflow=\"visible\" id=\"glyph-1518428330974458-0-0\">\n",
       "<path style=\"stroke:none;\" d=\"\"/>\n",
       "</symbol>\n",
       "<symbol overflow=\"visible\" id=\"glyph-1518428330974458-0-1\">\n",
       "<path style=\"stroke:none;\" d=\"M 8.671875 0 L 8.671875 -5.9375 C 8.671875 -7.25 8.359375 -9.0625 5.9375 -9.0625 C 4.703125 -9.0625 3.75 -8.453125 3.109375 -7.625 L 3.109375 -13.828125 L 1.609375 -13.828125 L 1.609375 0 L 3.171875 0 L 3.171875 -4.875 C 3.171875 -6.203125 3.671875 -7.84375 5.171875 -7.84375 C 7.09375 -7.84375 7.109375 -6.4375 7.109375 -5.796875 L 7.109375 0 Z M 8.671875 0 \"/>\n",
       "</symbol>\n",
       "<symbol overflow=\"visible\" id=\"glyph-1518428330974458-0-2\">\n",
       "<path style=\"stroke:none;\" d=\"M 3.109375 0 L 3.109375 -8.84375 L 1.609375 -8.84375 L 1.609375 0 Z M 3.265625 -11.28125 L 3.265625 -13.046875 L 1.5 -13.046875 L 1.5 -11.28125 Z M 3.265625 -11.28125 \"/>\n",
       "</symbol>\n",
       "<symbol overflow=\"visible\" id=\"glyph-1518428330974458-0-3\">\n",
       "<path style=\"stroke:none;\" d=\"M 7.171875 -2.546875 C 7.171875 -3.640625 6.4375 -4.328125 6.390625 -4.375 C 5.625 -5.078125 5.078125 -5.203125 4.078125 -5.375 C 2.984375 -5.59375 2.078125 -5.796875 2.078125 -6.765625 C 2.078125 -8.015625 3.5 -8.015625 3.765625 -8.015625 C 4.40625 -8.015625 5.453125 -7.921875 6.59375 -7.25 L 6.828125 -8.546875 C 5.796875 -9.03125 4.984375 -9.1875 3.96875 -9.1875 C 3.46875 -9.1875 0.65625 -9.1875 0.65625 -6.578125 C 0.65625 -5.59375 1.234375 -4.953125 1.734375 -4.578125 C 2.34375 -4.140625 2.78125 -4.0625 3.890625 -3.84375 C 4.609375 -3.703125 5.75 -3.46875 5.75 -2.40625 C 5.75 -1.03125 4.1875 -1.03125 3.890625 -1.03125 C 2.265625 -1.03125 1.15625 -1.765625 0.796875 -2.015625 L 0.5625 -0.65625 C 1.1875 -0.34375 2.296875 0.21875 3.90625 0.21875 C 4.265625 0.21875 5.359375 0.21875 6.21875 -0.421875 C 6.828125 -0.890625 7.171875 -1.6875 7.171875 -2.546875 Z M 7.171875 -2.546875 \"/>\n",
       "</symbol>\n",
       "<symbol overflow=\"visible\" id=\"glyph-1518428330974458-0-4\">\n",
       "<path style=\"stroke:none;\" d=\"M 6.609375 -0.53125 L 6.296875 -1.71875 C 5.78125 -1.296875 5.140625 -1.0625 4.5 -1.0625 C 3.765625 -1.0625 3.484375 -1.65625 3.484375 -2.703125 L 3.484375 -7.6875 L 6.296875 -7.6875 L 6.296875 -8.84375 L 3.484375 -8.84375 L 3.484375 -11.375 L 2.109375 -11.375 L 2.109375 -8.84375 L 0.375 -8.84375 L 0.375 -7.6875 L 2.046875 -7.6875 L 2.046875 -2.375 C 2.046875 -1.171875 2.328125 0.21875 3.703125 0.21875 C 5.09375 0.21875 6.109375 -0.28125 6.609375 -0.53125 Z M 6.609375 -0.53125 \"/>\n",
       "</symbol>\n",
       "<symbol overflow=\"visible\" id=\"glyph-1518428330974458-0-5\">\n",
       "<path style=\"stroke:none;\" d=\"M 3.578125 -12.1875 L 3.578125 -13.828125 L 1.9375 -13.828125 L 1.9375 -12.171875 L 2.4375 -12.171875 L 1.9375 -9.6875 L 2.75 -9.6875 Z M 3.578125 -12.1875 \"/>\n",
       "</symbol>\n",
       "<symbol overflow=\"visible\" id=\"glyph-1518428330974458-0-6\">\n",
       "<path style=\"stroke:none;\" d=\"M 9.34375 -4.375 C 9.34375 -7.046875 7.34375 -9.1875 4.984375 -9.1875 C 2.53125 -9.1875 0.59375 -7 0.59375 -4.375 C 0.59375 -1.75 2.625 0.21875 4.953125 0.21875 C 7.34375 0.21875 9.34375 -1.796875 9.34375 -4.375 Z M 7.796875 -4.578125 C 7.796875 -2.234375 6.4375 -1.0625 4.953125 -1.0625 C 3.578125 -1.0625 2.15625 -2.171875 2.15625 -4.578125 C 2.15625 -7 3.671875 -7.96875 4.953125 -7.96875 C 6.359375 -7.96875 7.796875 -6.9375 7.796875 -4.578125 Z M 7.796875 -4.578125 \"/>\n",
       "</symbol>\n",
       "<symbol overflow=\"visible\" id=\"glyph-1518428330974458-0-7\">\n",
       "<path style=\"stroke:none;\" d=\"M 8.453125 0 L 8.453125 -1.15625 L 5.953125 -1.15625 L 5.953125 -13.5 L 5.5625 -13.5 C 4.375 -12.296875 2.734375 -12.234375 1.765625 -12.1875 L 1.765625 -11.03125 C 2.4375 -11.0625 3.390625 -11.09375 4.375 -11.515625 L 4.375 -1.15625 L 1.890625 -1.15625 L 1.890625 0 Z M 8.453125 0 \"/>\n",
       "</symbol>\n",
       "<symbol overflow=\"visible\" id=\"glyph-1518428330974458-0-8\">\n",
       "<path style=\"stroke:none;\" d=\"M 8.140625 0 L 8.140625 -5.75 C 8.140625 -7.796875 6.6875 -9.1875 4.859375 -9.1875 C 3.5625 -9.1875 2.671875 -8.859375 1.734375 -8.328125 L 1.859375 -7.015625 C 2.890625 -7.75 3.890625 -8.015625 4.859375 -8.015625 C 5.796875 -8.015625 6.59375 -7.21875 6.59375 -5.734375 L 6.59375 -4.875 C 3.609375 -4.84375 1.078125 -4 1.078125 -2.25 C 1.078125 -1.390625 1.609375 0.21875 3.34375 0.21875 C 3.625 0.21875 5.5 0.171875 6.65625 -0.71875 L 6.65625 0 Z M 6.59375 -2.625 C 6.59375 -2.25 6.59375 -1.75 5.921875 -1.375 C 5.34375 -1.015625 4.578125 -1 4.359375 -1 C 3.40625 -1 2.515625 -1.453125 2.515625 -2.296875 C 2.515625 -3.6875 5.734375 -3.828125 6.59375 -3.859375 Z M 6.59375 -2.625 \"/>\n",
       "</symbol>\n",
       "<symbol overflow=\"visible\" id=\"glyph-1518428330974458-0-9\">\n",
       "<path style=\"stroke:none;\" d=\"M 9.5625 -4.4375 C 9.5625 -6.828125 8.3125 -9.0625 6.390625 -9.0625 C 5.203125 -9.0625 4.046875 -8.640625 3.125 -7.875 L 3.125 -8.84375 L 1.640625 -8.84375 L 1.640625 3.859375 L 3.1875 3.859375 L 3.1875 -0.921875 C 3.8125 -0.34375 4.6875 0.21875 5.875 0.21875 C 7.8125 0.21875 9.5625 -1.734375 9.5625 -4.4375 Z M 8.015625 -4.4375 C 8.015625 -2.390625 6.59375 -1 5.09375 -1 C 4.328125 -1 3.78125 -1.390625 3.390625 -1.9375 C 3.1875 -2.234375 3.1875 -2.265625 3.1875 -2.625 L 3.1875 -6.640625 C 3.671875 -7.328125 4.4375 -7.796875 5.296875 -7.796875 C 6.8125 -7.796875 8.015625 -6.28125 8.015625 -4.4375 Z M 8.015625 -4.4375 \"/>\n",
       "</symbol>\n",
       "<symbol overflow=\"visible\" id=\"glyph-1518428330974458-0-10\">\n",
       "<path style=\"stroke:none;\" d=\"M 6.515625 -7.734375 L 6.515625 -9.0625 C 4.734375 -9.046875 3.640625 -8.0625 3.03125 -7.15625 L 3.03125 -8.96875 L 1.640625 -8.96875 L 1.640625 0 L 3.125 0 L 3.125 -4.265625 C 3.125 -6.25 4.5625 -7.6875 6.515625 -7.734375 Z M 6.515625 -7.734375 \"/>\n",
       "</symbol>\n",
       "<symbol overflow=\"visible\" id=\"glyph-1518428330974458-0-11\">\n",
       "<path style=\"stroke:none;\" d=\"M 8.9375 0 L 8.9375 -1.421875 L 5.3125 -1.421875 C 5.078125 -1.421875 4.84375 -1.390625 4.609375 -1.390625 L 2.4375 -1.390625 C 3.0625 -1.953125 4.578125 -3.453125 5.203125 -4.03125 C 5.578125 -4.375 6.59375 -5.21875 6.96875 -5.578125 C 7.875 -6.46875 8.9375 -7.53125 8.9375 -9.21875 C 8.9375 -11.515625 7.328125 -13.5 4.703125 -13.5 C 2.4375 -13.5 1.3125 -11.953125 0.84375 -10.234375 C 1.078125 -9.90625 1.171875 -9.78125 1.21875 -9.71875 C 1.25 -9.6875 1.453125 -9.421875 1.65625 -9.140625 C 2.046875 -10.671875 2.609375 -12.234375 4.421875 -12.234375 C 6.296875 -12.234375 7.3125 -10.734375 7.3125 -9.1875 C 7.3125 -7.484375 6.171875 -6.359375 5 -5.15625 L 3.46875 -3.75 L 1 -1.28125 L 1 0 Z M 8.9375 0 \"/>\n",
       "</symbol>\n",
       "<symbol overflow=\"visible\" id=\"glyph-1518428330974458-0-12\">\n",
       "<path style=\"stroke:none;\" d=\"M 8.671875 0 L 8.671875 -5.9375 C 8.671875 -7.25 8.359375 -9.0625 5.9375 -9.0625 C 4.140625 -9.0625 3.171875 -7.703125 3.046875 -7.546875 L 3.046875 -8.96875 L 1.609375 -8.96875 L 1.609375 0 L 3.171875 0 L 3.171875 -4.875 C 3.171875 -6.203125 3.671875 -7.84375 5.171875 -7.84375 C 7.09375 -7.84375 7.109375 -6.4375 7.109375 -5.796875 L 7.109375 0 Z M 8.671875 0 \"/>\n",
       "</symbol>\n",
       "<symbol overflow=\"visible\" id=\"glyph-1518428330974458-0-13\">\n",
       "<path style=\"stroke:none;\" d=\"M 8.890625 -8.84375 L 7.390625 -8.84375 L 5.8125 -4.703125 C 5.40625 -3.609375 4.78125 -1.984375 4.625 -1.0625 L 4.609375 -1.0625 C 4.484375 -1.765625 3.96875 -3.140625 3.765625 -3.6875 L 1.828125 -8.84375 L 0.28125 -8.84375 L 3.703125 0 L 5.453125 0 Z M 8.890625 -8.84375 \"/>\n",
       "</symbol>\n",
       "<symbol overflow=\"visible\" id=\"glyph-1518428330974458-0-14\">\n",
       "<path style=\"stroke:none;\" d=\"M 8.25 -4.359375 C 8.25 -5.046875 8.234375 -6.53125 7.453125 -7.734375 C 6.640625 -8.96875 5.421875 -9.1875 4.703125 -9.1875 C 2.484375 -9.1875 0.703125 -7.078125 0.703125 -4.5 C 0.703125 -1.875 2.609375 0.21875 5 0.21875 C 6.25 0.21875 7.390625 -0.265625 8.171875 -0.8125 L 8.046875 -2.109375 C 6.796875 -1.078125 5.484375 -1 5.015625 -1 C 3.421875 -1 2.15625 -2.40625 2.09375 -4.359375 Z M 7.109375 -5.453125 L 2.1875 -5.453125 C 2.515625 -6.96875 3.5625 -7.96875 4.703125 -7.96875 C 5.734375 -7.96875 6.859375 -7.296875 7.109375 -5.453125 Z M 7.109375 -5.453125 \"/>\n",
       "</symbol>\n",
       "<symbol overflow=\"visible\" id=\"glyph-1518428330974458-0-15\">\n",
       "<path style=\"stroke:none;\" d=\"M 9.109375 -3.578125 C 9.109375 -5.40625 7.703125 -6.640625 6.359375 -7.046875 C 7.875 -7.875 8.5625 -9.21875 8.5625 -10.484375 C 8.5625 -12.1875 6.90625 -13.5 4.9375 -13.5 C 3.40625 -13.5 1.953125 -12.703125 1.109375 -11.3125 L 1.828125 -10.234375 C 2.40625 -11.640625 3.703125 -12.34375 4.921875 -12.34375 C 5.953125 -12.34375 6.9375 -11.75 6.9375 -10.484375 C 6.9375 -9.265625 6.109375 -8.09375 4.90625 -7.8125 C 4.78125 -7.796875 4.734375 -7.796875 3.328125 -7.671875 L 3.328125 -6.453125 L 4.734375 -6.453125 C 6.890625 -6.453125 7.328125 -4.609375 7.328125 -3.609375 C 7.328125 -2.046875 6.421875 -0.78125 4.875 -0.78125 C 3.5 -0.78125 1.9375 -1.46875 1.0625 -2.828125 L 0.84375 -1.640625 C 2.296875 0.234375 4.125 0.4375 4.921875 0.4375 C 7.34375 0.4375 9.109375 -1.5 9.109375 -3.578125 Z M 9.109375 -3.578125 \"/>\n",
       "</symbol>\n",
       "<symbol overflow=\"visible\" id=\"glyph-1518428330974458-0-16\">\n",
       "<path style=\"stroke:none;\" d=\"M 9.390625 -3.40625 L 9.390625 -4.625 L 7.40625 -4.625 L 7.40625 -13.0625 L 5.59375 -13.0625 L 0.5625 -4.625 L 0.5625 -3.40625 L 5.84375 -3.40625 L 5.84375 0 L 7.40625 0 L 7.40625 -3.40625 Z M 5.953125 -4.625 L 2.109375 -4.625 C 3.140625 -6.328125 5.9375 -11.0625 5.953125 -12.1875 Z M 5.953125 -4.625 \"/>\n",
       "</symbol>\n",
       "</g>\n",
       "<clipPath id=\"clip-1518428330974458-1\">\n",
       "  <path d=\"M 332 0 L 391 0 L 391 171.273438 L 332 171.273438 Z M 332 0 \"/>\n",
       "</clipPath>\n",
       "<clipPath id=\"clip-1518428330974458-2\">\n",
       "  <path d=\"M 432 0 L 574.9375 0 L 574.9375 114 L 432 114 Z M 432 0 \"/>\n",
       "</clipPath>\n",
       "<clipPath id=\"clip-1518428330974458-3\">\n",
       "  <path d=\"M 432 0 L 574.9375 0 L 574.9375 115 L 432 115 Z M 432 0 \"/>\n",
       "</clipPath>\n",
       "<clipPath id=\"clip-1518428330974458-4\">\n",
       "  <path d=\"M 432 142 L 574.9375 142 L 574.9375 171 L 432 171 Z M 432 142 \"/>\n",
       "</clipPath>\n",
       "<clipPath id=\"clip-1518428330974458-5\">\n",
       "  <path d=\"M 432 141 L 574.9375 141 L 574.9375 171.273438 L 432 171.273438 Z M 432 141 \"/>\n",
       "</clipPath>\n",
       "</defs>\n",
       "<g id=\"surface1\">\n",
       "<path style=\"fill-rule:nonzero;fill:rgb(75%,75%,75%);fill-opacity:1;stroke-width:1.19553;stroke-linecap:butt;stroke-linejoin:miter;stroke:rgb(0%,0%,0%);stroke-opacity:1;stroke-miterlimit:10;\" d=\"M 70.868844 70.867469 L -70.865531 70.867469 L -70.865531 -70.866906 L 70.868844 -70.866906 Z M 70.868844 70.867469 \" transform=\"matrix(1,0,0,-1,134.971,85.637)\"/>\n",
       "<g style=\"fill:rgb(0%,0%,0%);fill-opacity:1;\">\n",
       "  <use xlink:href=\"#glyph-1518428330974458-0-1\" x=\"6.641\" y=\"92.441\"/>\n",
       "  <use xlink:href=\"#glyph-1518428330974458-0-2\" x=\"16.94237\" y=\"92.441\"/>\n",
       "  <use xlink:href=\"#glyph-1518428330974458-0-3\" x=\"21.704512\" y=\"92.441\"/>\n",
       "  <use xlink:href=\"#glyph-1518428330974458-0-4\" x=\"29.335894\" y=\"92.441\"/>\n",
       "</g>\n",
       "<g style=\"fill:rgb(0%,0%,0%);fill-opacity:1;\">\n",
       "  <use xlink:href=\"#glyph-1518428330974458-0-5\" x=\"67.757\" y=\"35.748\"/>\n",
       "  <use xlink:href=\"#glyph-1518428330974458-0-6\" x=\"73.296228\" y=\"35.748\"/>\n",
       "  <use xlink:href=\"#glyph-1518428330974458-0-5\" x=\"83.258868\" y=\"35.748\"/>\n",
       "</g>\n",
       "<g style=\"fill:rgb(0%,0%,0%);fill-opacity:1;\">\n",
       "  <use xlink:href=\"#glyph-1518428330974458-0-7\" x=\"158.336\" y=\"35.699\"/>\n",
       "</g>\n",
       "<path style=\"fill:none;stroke-width:1.19553;stroke-linecap:butt;stroke-linejoin:miter;stroke:rgb(0%,0%,0%);stroke-opacity:1;stroke-miterlimit:10;\" d=\"M -38.338188 56.691687 L 9.790719 56.691687 \" transform=\"matrix(1,0,0,-1,134.971,85.637)\"/>\n",
       "<path style=\" stroke:none;fill-rule:nonzero;fill:rgb(0%,0%,0%);fill-opacity:1;\" d=\"M 150.5 28.945312 C 148.800781 28.625 146.035156 27.667969 144.125 26.550781 L 144.125 31.335938 C 146.035156 30.21875 148.800781 29.261719 150.5 28.945312 \"/>\n",
       "<g style=\"fill:rgb(0%,0%,0%);fill-opacity:1;\">\n",
       "  <use xlink:href=\"#glyph-1518428330974458-0-5\" x=\"67.947\" y=\"64.095\"/>\n",
       "  <use xlink:href=\"#glyph-1518428330974458-0-8\" x=\"73.486228\" y=\"64.095\"/>\n",
       "  <use xlink:href=\"#glyph-1518428330974458-0-5\" x=\"83.070288\" y=\"64.095\"/>\n",
       "</g>\n",
       "<g style=\"fill:rgb(0%,0%,0%);fill-opacity:1;\">\n",
       "  <use xlink:href=\"#glyph-1518428330974458-0-7\" x=\"158.336\" y=\"64.045\"/>\n",
       "</g>\n",
       "<path style=\"fill:none;stroke-width:1.19553;stroke-linecap:butt;stroke-linejoin:miter;stroke:rgb(0%,0%,0%);stroke-opacity:1;stroke-miterlimit:10;\" d=\"M -38.525688 28.347937 L 9.790719 28.347937 \" transform=\"matrix(1,0,0,-1,134.971,85.637)\"/>\n",
       "<path style=\" stroke:none;fill-rule:nonzero;fill:rgb(0%,0%,0%);fill-opacity:1;\" d=\"M 150.5 57.289062 C 148.800781 56.972656 146.035156 56.015625 144.125 54.898438 L 144.125 59.679688 C 146.035156 58.566406 148.800781 57.609375 150.5 57.289062 \"/>\n",
       "<g style=\"fill:rgb(0%,0%,0%);fill-opacity:1;\">\n",
       "  <use xlink:href=\"#glyph-1518428330974458-0-5\" x=\"67.588\" y=\"90.618\"/>\n",
       "  <use xlink:href=\"#glyph-1518428330974458-0-9\" x=\"73.127228\" y=\"90.618\"/>\n",
       "  <use xlink:href=\"#glyph-1518428330974458-0-5\" x=\"83.428598\" y=\"90.618\"/>\n",
       "</g>\n",
       "<g style=\"fill:rgb(0%,0%,0%);fill-opacity:1;\">\n",
       "  <use xlink:href=\"#glyph-1518428330974458-0-7\" x=\"158.336\" y=\"92.392\"/>\n",
       "</g>\n",
       "<path style=\"fill:none;stroke-width:1.19553;stroke-linecap:butt;stroke-linejoin:miter;stroke:rgb(0%,0%,0%);stroke-opacity:1;stroke-miterlimit:10;\" d=\"M -38.166313 0.00028125 L 9.790719 0.00028125 \" transform=\"matrix(1,0,0,-1,134.971,85.637)\"/>\n",
       "<path style=\" stroke:none;fill-rule:nonzero;fill:rgb(0%,0%,0%);fill-opacity:1;\" d=\"M 150.5 85.636719 C 148.800781 85.316406 146.035156 84.363281 144.125 83.246094 L 144.125 88.027344 C 146.035156 86.914062 148.800781 85.957031 150.5 85.636719 \"/>\n",
       "<g style=\"fill:rgb(0%,0%,0%);fill-opacity:1;\">\n",
       "  <use xlink:href=\"#glyph-1518428330974458-0-5\" x=\"69.142\" y=\"120.788\"/>\n",
       "  <use xlink:href=\"#glyph-1518428330974458-0-4\" x=\"74.681228\" y=\"120.788\"/>\n",
       "  <use xlink:href=\"#glyph-1518428330974458-0-5\" x=\"81.874254\" y=\"120.788\"/>\n",
       "</g>\n",
       "<g style=\"fill:rgb(0%,0%,0%);fill-opacity:1;\">\n",
       "  <use xlink:href=\"#glyph-1518428330974458-0-7\" x=\"158.336\" y=\"120.738\"/>\n",
       "</g>\n",
       "<path style=\"fill:none;stroke-width:1.19553;stroke-linecap:butt;stroke-linejoin:miter;stroke:rgb(0%,0%,0%);stroke-opacity:1;stroke-miterlimit:10;\" d=\"M -39.721 -28.347375 L 9.790719 -28.347375 \" transform=\"matrix(1,0,0,-1,134.971,85.637)\"/>\n",
       "<path style=\" stroke:none;fill-rule:nonzero;fill:rgb(0%,0%,0%);fill-opacity:1;\" d=\"M 150.5 113.984375 C 148.800781 113.664062 146.035156 112.707031 144.125 111.59375 L 144.125 116.375 C 146.035156 115.257812 148.800781 114.300781 150.5 113.984375 \"/>\n",
       "<g style=\"fill:rgb(0%,0%,0%);fill-opacity:1;\">\n",
       "  <use xlink:href=\"#glyph-1518428330974458-0-5\" x=\"69.331\" y=\"149.244\"/>\n",
       "  <use xlink:href=\"#glyph-1518428330974458-0-10\" x=\"74.870228\" y=\"149.244\"/>\n",
       "  <use xlink:href=\"#glyph-1518428330974458-0-5\" x=\"81.684674\" y=\"149.244\"/>\n",
       "</g>\n",
       "<g style=\"fill:rgb(0%,0%,0%);fill-opacity:1;\">\n",
       "  <use xlink:href=\"#glyph-1518428330974458-0-11\" x=\"158.336\" y=\"149.084\"/>\n",
       "</g>\n",
       "<path style=\"fill:none;stroke-width:1.19553;stroke-linecap:butt;stroke-linejoin:miter;stroke:rgb(0%,0%,0%);stroke-opacity:1;stroke-miterlimit:10;\" d=\"M -39.9085 -56.695031 L 9.790719 -56.695031 \" transform=\"matrix(1,0,0,-1,134.971,85.637)\"/>\n",
       "<path style=\" stroke:none;fill-rule:nonzero;fill:rgb(0%,0%,0%);fill-opacity:1;\" d=\"M 150.5 142.332031 C 148.800781 142.011719 146.035156 141.054688 144.125 139.941406 L 144.125 144.722656 C 146.035156 143.605469 148.800781 142.648438 150.5 142.332031 \"/>\n",
       "<path style=\" stroke:none;fill-rule:nonzero;fill:rgb(75%,75%,75%);fill-opacity:1;\" d=\"M 390.09375 0.597656 L 333.398438 0.597656 L 333.398438 170.675781 L 390.09375 170.675781 Z M 390.09375 0.597656 \"/>\n",
       "<g clip-path=\"url(#clip-1518428330974458-1)\" clip-rule=\"nonzero\">\n",
       "<path style=\"fill:none;stroke-width:1.19553;stroke-linecap:butt;stroke-linejoin:miter;stroke:rgb(0%,0%,0%);stroke-opacity:1;stroke-miterlimit:10;\" d=\"M 255.12275 85.039344 L 198.427437 85.039344 L 198.427437 -85.038781 L 255.12275 -85.038781 Z M 255.12275 85.039344 \" transform=\"matrix(1,0,0,-1,134.971,85.637)\"/>\n",
       "</g>\n",
       "<g style=\"fill:rgb(0%,0%,0%);fill-opacity:1;\">\n",
       "  <use xlink:href=\"#glyph-1518428330974458-0-2\" x=\"248.509\" y=\"92.053\"/>\n",
       "  <use xlink:href=\"#glyph-1518428330974458-0-12\" x=\"253.271142\" y=\"92.053\"/>\n",
       "  <use xlink:href=\"#glyph-1518428330974458-0-13\" x=\"263.572512\" y=\"92.053\"/>\n",
       "  <use xlink:href=\"#glyph-1518428330974458-0-14\" x=\"272.758066\" y=\"92.053\"/>\n",
       "  <use xlink:href=\"#glyph-1518428330974458-0-10\" x=\"281.60489\" y=\"92.053\"/>\n",
       "  <use xlink:href=\"#glyph-1518428330974458-0-3\" x=\"288.419336\" y=\"92.053\"/>\n",
       "  <use xlink:href=\"#glyph-1518428330974458-0-14\" x=\"296.050718\" y=\"92.053\"/>\n",
       "</g>\n",
       "<g style=\"fill:rgb(0%,0%,0%);fill-opacity:1;\">\n",
       "  <use xlink:href=\"#glyph-1518428330974458-0-7\" x=\"356.761\" y=\"64.045\"/>\n",
       "</g>\n",
       "<g style=\"fill:rgb(0%,0%,0%);fill-opacity:1;\">\n",
       "  <use xlink:href=\"#glyph-1518428330974458-0-11\" x=\"356.761\" y=\"163.258\"/>\n",
       "</g>\n",
       "<g clip-path=\"url(#clip-1518428330974458-2)\" clip-rule=\"nonzero\">\n",
       "<path style=\" stroke:none;fill-rule:nonzero;fill:rgb(75%,75%,75%);fill-opacity:1;\" d=\"M 574.347656 0.597656 L 432.613281 0.597656 L 432.613281 113.984375 L 574.347656 113.984375 Z M 574.347656 0.597656 \"/>\n",
       "</g>\n",
       "<g clip-path=\"url(#clip-1518428330974458-3)\" clip-rule=\"nonzero\">\n",
       "<path style=\"fill:none;stroke-width:1.19553;stroke-linecap:butt;stroke-linejoin:miter;stroke:rgb(0%,0%,0%);stroke-opacity:1;stroke-miterlimit:10;\" d=\"M 439.376656 85.039344 L 297.642281 85.039344 L 297.642281 -28.347375 L 439.376656 -28.347375 Z M 439.376656 85.039344 \" transform=\"matrix(1,0,0,-1,134.971,85.637)\"/>\n",
       "</g>\n",
       "<g clip-path=\"url(#clip-1518428330974458-4)\" clip-rule=\"nonzero\">\n",
       "<path style=\" stroke:none;fill-rule:nonzero;fill:rgb(75%,75%,75%);fill-opacity:1;\" d=\"M 574.347656 142.332031 L 432.613281 142.332031 L 432.613281 170.675781 L 574.347656 170.675781 Z M 574.347656 142.332031 \"/>\n",
       "</g>\n",
       "<g clip-path=\"url(#clip-1518428330974458-5)\" clip-rule=\"nonzero\">\n",
       "<path style=\"fill:none;stroke-width:1.19553;stroke-linecap:butt;stroke-linejoin:miter;stroke:rgb(0%,0%,0%);stroke-opacity:1;stroke-miterlimit:10;\" d=\"M 439.376656 -56.695031 L 297.642281 -56.695031 L 297.642281 -85.038781 L 439.376656 -85.038781 Z M 439.376656 -56.695031 \" transform=\"matrix(1,0,0,-1,134.971,85.637)\"/>\n",
       "</g>\n",
       "<path style=\"fill:none;stroke-width:1.19553;stroke-linecap:butt;stroke-linejoin:miter;stroke:rgb(0%,0%,0%);stroke-opacity:1;stroke-miterlimit:10;\" d=\"M 239.5915 28.347937 L 290.708687 28.347937 \" transform=\"matrix(1,0,0,-1,134.971,85.637)\"/>\n",
       "<path style=\" stroke:none;fill-rule:nonzero;fill:rgb(0%,0%,0%);fill-opacity:1;\" d=\"M 431.417969 57.289062 C 429.714844 56.972656 426.953125 56.015625 425.039062 54.898438 L 425.039062 59.679688 C 426.953125 58.566406 429.714844 57.609375 431.417969 57.289062 \"/>\n",
       "<path style=\"fill:none;stroke-width:1.19553;stroke-linecap:butt;stroke-linejoin:miter;stroke:rgb(0%,0%,0%);stroke-opacity:1;stroke-miterlimit:10;\" d=\"M 239.5915 -70.866906 L 290.708687 -70.866906 \" transform=\"matrix(1,0,0,-1,134.971,85.637)\"/>\n",
       "<path style=\" stroke:none;fill-rule:nonzero;fill:rgb(0%,0%,0%);fill-opacity:1;\" d=\"M 431.417969 156.503906 C 429.714844 156.183594 426.953125 155.230469 425.039062 154.113281 L 425.039062 158.894531 C 426.953125 157.777344 429.714844 156.824219 431.417969 156.503906 \"/>\n",
       "<g style=\"fill:rgb(0%,0%,0%);fill-opacity:1;\">\n",
       "  <use xlink:href=\"#glyph-1518428330974458-0-7\" x=\"441.8\" y=\"21.525\"/>\n",
       "</g>\n",
       "<g style=\"fill:rgb(0%,0%,0%);fill-opacity:1;\">\n",
       "  <use xlink:href=\"#glyph-1518428330974458-0-11\" x=\"441.8\" y=\"49.872\"/>\n",
       "</g>\n",
       "<g style=\"fill:rgb(0%,0%,0%);fill-opacity:1;\">\n",
       "  <use xlink:href=\"#glyph-1518428330974458-0-15\" x=\"441.8\" y=\"77.999\"/>\n",
       "</g>\n",
       "<g style=\"fill:rgb(0%,0%,0%);fill-opacity:1;\">\n",
       "  <use xlink:href=\"#glyph-1518428330974458-0-16\" x=\"441.8\" y=\"106.346\"/>\n",
       "</g>\n",
       "<g style=\"fill:rgb(0%,0%,0%);fill-opacity:1;\">\n",
       "  <use xlink:href=\"#glyph-1518428330974458-0-7\" x=\"441.8\" y=\"163.258\"/>\n",
       "</g>\n",
       "<g style=\"fill:rgb(0%,0%,0%);fill-opacity:1;\">\n",
       "  <use xlink:href=\"#glyph-1518428330974458-0-5\" x=\"521.3\" y=\"21.575\"/>\n",
       "  <use xlink:href=\"#glyph-1518428330974458-0-6\" x=\"526.839228\" y=\"21.575\"/>\n",
       "  <use xlink:href=\"#glyph-1518428330974458-0-5\" x=\"536.801868\" y=\"21.575\"/>\n",
       "</g>\n",
       "<g style=\"fill:rgb(0%,0%,0%);fill-opacity:1;\">\n",
       "  <use xlink:href=\"#glyph-1518428330974458-0-5\" x=\"521.49\" y=\"49.922\"/>\n",
       "  <use xlink:href=\"#glyph-1518428330974458-0-8\" x=\"527.029228\" y=\"49.922\"/>\n",
       "  <use xlink:href=\"#glyph-1518428330974458-0-5\" x=\"536.613288\" y=\"49.922\"/>\n",
       "</g>\n",
       "<g style=\"fill:rgb(0%,0%,0%);fill-opacity:1;\">\n",
       "  <use xlink:href=\"#glyph-1518428330974458-0-5\" x=\"521.131\" y=\"76.445\"/>\n",
       "  <use xlink:href=\"#glyph-1518428330974458-0-9\" x=\"526.670228\" y=\"76.445\"/>\n",
       "  <use xlink:href=\"#glyph-1518428330974458-0-5\" x=\"536.971598\" y=\"76.445\"/>\n",
       "</g>\n",
       "<g style=\"fill:rgb(0%,0%,0%);fill-opacity:1;\">\n",
       "  <use xlink:href=\"#glyph-1518428330974458-0-5\" x=\"522.685\" y=\"106.615\"/>\n",
       "  <use xlink:href=\"#glyph-1518428330974458-0-4\" x=\"528.224228\" y=\"106.615\"/>\n",
       "  <use xlink:href=\"#glyph-1518428330974458-0-5\" x=\"535.417254\" y=\"106.615\"/>\n",
       "</g>\n",
       "<g style=\"fill:rgb(0%,0%,0%);fill-opacity:1;\">\n",
       "  <use xlink:href=\"#glyph-1518428330974458-0-5\" x=\"522.875\" y=\"163.417\"/>\n",
       "  <use xlink:href=\"#glyph-1518428330974458-0-10\" x=\"528.414228\" y=\"163.417\"/>\n",
       "  <use xlink:href=\"#glyph-1518428330974458-0-5\" x=\"535.228674\" y=\"163.417\"/>\n",
       "</g>\n",
       "<path style=\"fill:none;stroke-width:1.19553;stroke-linecap:butt;stroke-linejoin:miter;stroke:rgb(0%,0%,0%);stroke-opacity:1;stroke-miterlimit:10;\" d=\"M 324.634469 70.867469 L 372.759469 70.867469 \" transform=\"matrix(1,0,0,-1,134.971,85.637)\"/>\n",
       "<path style=\" stroke:none;fill-rule:nonzero;fill:rgb(0%,0%,0%);fill-opacity:1;\" d=\"M 513.46875 14.769531 C 511.769531 14.453125 509.003906 13.496094 507.09375 12.378906 L 507.09375 17.160156 C 509.003906 16.046875 511.769531 15.089844 513.46875 14.769531 \"/>\n",
       "<path style=\"fill:none;stroke-width:1.19553;stroke-linecap:butt;stroke-linejoin:miter;stroke:rgb(0%,0%,0%);stroke-opacity:1;stroke-miterlimit:10;\" d=\"M 324.634469 42.519812 L 372.946969 42.519812 \" transform=\"matrix(1,0,0,-1,134.971,85.637)\"/>\n",
       "<path style=\" stroke:none;fill-rule:nonzero;fill:rgb(0%,0%,0%);fill-opacity:1;\" d=\"M 513.660156 43.117188 C 511.957031 42.796875 509.195312 41.839844 507.28125 40.726562 L 507.28125 45.507812 C 509.195312 44.390625 511.957031 43.4375 513.660156 43.117188 \"/>\n",
       "<path style=\"fill:none;stroke-width:1.19553;stroke-linecap:butt;stroke-linejoin:miter;stroke:rgb(0%,0%,0%);stroke-opacity:1;stroke-miterlimit:10;\" d=\"M 324.634469 14.172156 L 372.5915 14.172156 \" transform=\"matrix(1,0,0,-1,134.971,85.637)\"/>\n",
       "<path style=\" stroke:none;fill-rule:nonzero;fill:rgb(0%,0%,0%);fill-opacity:1;\" d=\"M 513.300781 71.464844 C 511.597656 71.144531 508.835938 70.1875 506.921875 69.074219 L 506.921875 73.855469 C 508.835938 72.738281 511.597656 71.78125 513.300781 71.464844 \"/>\n",
       "<path style=\"fill:none;stroke-width:1.19553;stroke-linecap:butt;stroke-linejoin:miter;stroke:rgb(0%,0%,0%);stroke-opacity:1;stroke-miterlimit:10;\" d=\"M 324.634469 -14.171594 L 374.146187 -14.171594 \" transform=\"matrix(1,0,0,-1,134.971,85.637)\"/>\n",
       "<path style=\" stroke:none;fill-rule:nonzero;fill:rgb(0%,0%,0%);fill-opacity:1;\" d=\"M 514.855469 99.808594 C 513.152344 99.492188 510.390625 98.535156 508.476562 97.417969 L 508.476562 102.203125 C 510.390625 101.085938 513.152344 100.128906 514.855469 99.808594 \"/>\n",
       "<path style=\"fill:none;stroke-width:1.19553;stroke-linecap:butt;stroke-linejoin:miter;stroke:rgb(0%,0%,0%);stroke-opacity:1;stroke-miterlimit:10;\" d=\"M 324.634469 -70.866906 L 374.333687 -70.866906 \" transform=\"matrix(1,0,0,-1,134.971,85.637)\"/>\n",
       "<path style=\" stroke:none;fill-rule:nonzero;fill:rgb(0%,0%,0%);fill-opacity:1;\" d=\"M 515.042969 156.503906 C 513.34375 156.183594 510.578125 155.230469 508.667969 154.113281 L 508.667969 158.894531 C 510.578125 157.777344 513.34375 156.824219 515.042969 156.503906 \"/>\n",
       "</g>\n",
       "</svg>\n",
       "\n"
      ],
      "text/plain": [
       "TikzPictures.TikzPicture(L\"$    \\node(hist) [draw, fill=lightgray, minimum width=2.5cm, minimum height=2.5cm]{};\n",
       "    \\node(nhist)[left of = hist, xshift=-1cm]{hist};\n",
       "    \\node(no) at(-1,1) {'o'};\n",
       "    \\node(o) at(0.5,1) {1};\n",
       "    \\draw[-latex](no)--(o);\n",
       "    \\node(na) at(-1,0.5) {'a'};\n",
       "    \\node(a) at(0.5,0.5) {1};\n",
       "    \\draw[-latex](na)--(a);\n",
       "    \\node(np) at(-1,0) {'p'};\n",
       "    \\node(p) at(0.5,0) {1};\n",
       "    \\draw[-latex](np)--(p);\n",
       "    \\node(nt) at(-1,-0.5) {'t'};\n",
       "    \\node(t) at(0.5,-0.5) {1};\n",
       "    \\draw[-latex](nt)--(t);\n",
       "    \\node(nr) at(-1,-1) {'r'};\n",
       "    \\node(r) at(0.5,-1) {2};\n",
       "    \\draw[-latex](nr)--(r);\n",
       "    \\node(inverse) [draw, right of = hist, xshift=3cm, fill=lightgray, minimum width=1cm, minimum height=3cm]{};\n",
       "    \\node(ninverse)[left of = inverse, xshift=-0.5cm]{inverse};\n",
       "    \\node(n1) at(4,0.5){1};\n",
       "    \\node(n2) at(4,-1.25){2};\n",
       "    \\node(a1) [draw, fill=lightgray, minimum width=2.5cm, minimum height=2cm] at(6.5,0.5){};\n",
       "    \\node(a2) [draw, fill=lightgray, minimum width=2.5cm, minimum height=0.5cm] at(6.5,-1.25){};\n",
       "    \\draw[-latex](n1)--(a1);\n",
       "    \\draw[-latex](n2)--(a2);\n",
       "    \\node(t1) at(5.5, 1.25){1};\n",
       "    \\node(t2) at(5.5, 0.75){2};\n",
       "    \\node(t3) at(5.5, 0.25){3};\n",
       "    \\node(t4) at(5.5, -0.25){4};\n",
       "    \\node(tt1) at(5.5, -1.25){1};\n",
       "    \\node(v1) at(7, 1.25){'o'};\n",
       "    \\node(v2) at(7, 0.75){'a'};\n",
       "    \\node(v3) at(7, 0.25){'p'};\n",
       "    \\node(v4) at(7, -0.25){'t'};\n",
       "    \\node(vv1) at(7, -1.25){'r'};\n",
       "    \\draw[-latex](t1)--(v1);\n",
       "    \\draw[-latex](t2)--(v2);\n",
       "    \\draw[-latex](t3)--(v3);\n",
       "    \\draw[-latex](t4)--(v4);\n",
       "    \\draw[-latex](tt1)--(vv1);\n",
       "$\", \"very thick, scale=2, transform shape\", \"    \\\\usepackage{newtxmath}\\n    \\\\renewcommand{\\\\familydefault}{\\\\sfdefault}\\n    \\\\usepackage{cancel}\\n\", true, true)"
      ]
     },
     "execution_count": 113,
     "metadata": {},
     "output_type": "execute_result"
    }
   ],
   "source": [
    "using TikzPictures\n",
    "TikzPicture(L\"\"\"\n",
    "    \\node(hist) [draw, fill=lightgray, minimum width=2.5cm, minimum height=2.5cm]{};\n",
    "    \\node(nhist)[left of = hist, xshift=-1cm]{hist};\n",
    "    \\node(no) at(-1,1) {'o'};\n",
    "    \\node(o) at(0.5,1) {1};\n",
    "    \\draw[-latex](no)--(o);\n",
    "    \\node(na) at(-1,0.5) {'a'};\n",
    "    \\node(a) at(0.5,0.5) {1};\n",
    "    \\draw[-latex](na)--(a);\n",
    "    \\node(np) at(-1,0) {'p'};\n",
    "    \\node(p) at(0.5,0) {1};\n",
    "    \\draw[-latex](np)--(p);\n",
    "    \\node(nt) at(-1,-0.5) {'t'};\n",
    "    \\node(t) at(0.5,-0.5) {1};\n",
    "    \\draw[-latex](nt)--(t);\n",
    "    \\node(nr) at(-1,-1) {'r'};\n",
    "    \\node(r) at(0.5,-1) {2};\n",
    "    \\draw[-latex](nr)--(r);\n",
    "    \\node(inverse) [draw, right of = hist, xshift=3cm, fill=lightgray, minimum width=1cm, minimum height=3cm]{};\n",
    "    \\node(ninverse)[left of = inverse, xshift=-0.5cm]{inverse};\n",
    "    \\node(n1) at(4,0.5){1};\n",
    "    \\node(n2) at(4,-1.25){2};\n",
    "    \\node(a1) [draw, fill=lightgray, minimum width=2.5cm, minimum height=2cm] at(6.5,0.5){};\n",
    "    \\node(a2) [draw, fill=lightgray, minimum width=2.5cm, minimum height=0.5cm] at(6.5,-1.25){};\n",
    "    \\draw[-latex](n1)--(a1);\n",
    "    \\draw[-latex](n2)--(a2);\n",
    "    \\node(t1) at(5.5, 1.25){1};\n",
    "    \\node(t2) at(5.5, 0.75){2};\n",
    "    \\node(t3) at(5.5, 0.25){3};\n",
    "    \\node(t4) at(5.5, -0.25){4};\n",
    "    \\node(tt1) at(5.5, -1.25){1};\n",
    "    \\node(v1) at(7, 1.25){'o'};\n",
    "    \\node(v2) at(7, 0.75){'a'};\n",
    "    \\node(v3) at(7, 0.25){'p'};\n",
    "    \\node(v4) at(7, -0.25){'t'};\n",
    "    \\node(vv1) at(7, -1.25){'r'};\n",
    "    \\draw[-latex](t1)--(v1);\n",
    "    \\draw[-latex](t2)--(v2);\n",
    "    \\draw[-latex](t3)--(v3);\n",
    "    \\draw[-latex](t4)--(v4);\n",
    "    \\draw[-latex](tt1)--(vv1);\n",
    "\"\"\"; options=\"very thick, scale=2, transform shape\", preamble=\"\"\"\n",
    "    \\\\usepackage{newtxmath}\n",
    "    \\\\renewcommand{\\\\familydefault}{\\\\sfdefault}\n",
    "    \\\\usepackage{cancel}\n",
    "\"\"\")"
   ]
  },
  {
   "cell_type": "markdown",
   "metadata": {},
   "source": [
    "I mentioned earlier that a dictionary is implemented using a hashtable and that means that the keys have to be hashable.\n",
    "\n",
    "A hash is a function that takes a value (of any kind) and returns an integer. Dictionaries use these integers, called hash values, to store and look up key-value pairs."
   ]
  },
  {
   "cell_type": "markdown",
   "metadata": {
    "slideshow": {
     "slide_type": "slide"
    }
   },
   "source": [
    "# Memos\n",
    "\n",
    "If you played with the `fibonacci` function, you might have noticed that the bigger the argument you provide, the longer the function takes to run. Furthermore, the run time increases quickly.\n",
    "\n",
    "To understand why we can look at the *call graph* for fibonacci with `n=4`:"
   ]
  },
  {
   "cell_type": "code",
   "execution_count": 155,
   "metadata": {
    "hideCode": true,
    "hidePrompt": true
   },
   "outputs": [
    {
     "data": {
      "image/svg+xml": [
       "<?xml version=\"1.0\" encoding=\"UTF-8\"?>\n",
       "<svg xmlns=\"http://www.w3.org/2000/svg\" xmlns:xlink=\"http://www.w3.org/1999/xlink\" width=\"780.723pt\" height=\"313.006pt\" viewBox=\"0 0 780.723 313.006\" version=\"1.1\">\n",
       "<defs>\n",
       "<g>\n",
       "<symbol overflow=\"visible\" id=\"glyph-1518428330974499-0-0\">\n",
       "<path style=\"stroke:none;\" d=\"\"/>\n",
       "</symbol>\n",
       "<symbol overflow=\"visible\" id=\"glyph-1518428330974499-0-1\">\n",
       "<path style=\"stroke:none;\" d=\"M 9.109375 -12.1875 L 9.109375 -13.84375 L 7.453125 -13.84375 L 7.453125 -12.1875 Z M 9.03125 0 L 9.03125 -8.84375 L 7.53125 -8.84375 L 7.53125 0 Z M 5.859375 -7.6875 L 5.859375 -8.84375 L 3.453125 -8.84375 L 3.453125 -11.25 C 3.453125 -12.53125 4.15625 -12.828125 4.65625 -12.828125 C 5.078125 -12.828125 5.515625 -12.6875 5.859375 -12.46875 L 5.859375 -13.828125 C 5.734375 -13.859375 5.234375 -14.046875 4.65625 -14.046875 C 3.1875 -14.046875 2.015625 -12.65625 2.015625 -10.65625 L 2.015625 -8.84375 L 0.53125 -8.84375 L 0.53125 -7.6875 L 2.015625 -7.6875 L 2.015625 0 L 3.5 0 L 3.5 -7.6875 Z M 5.859375 -7.6875 \"/>\n",
       "</symbol>\n",
       "<symbol overflow=\"visible\" id=\"glyph-1518428330974499-0-2\">\n",
       "<path style=\"stroke:none;\" d=\"M 9.5625 -4.4375 C 9.5625 -6.90625 8.203125 -9.0625 6.328125 -9.0625 C 5.5625 -9.0625 4.328125 -8.859375 3.125 -7.890625 L 3.125 -13.828125 L 1.640625 -13.828125 L 1.640625 0 L 3.1875 0 L 3.1875 -0.921875 C 3.671875 -0.484375 4.515625 0.21875 5.859375 0.21875 C 7.84375 0.21875 9.5625 -1.765625 9.5625 -4.4375 Z M 8.015625 -4.4375 C 8.015625 -1.859375 6.328125 -1 5.125 -1 C 4.34375 -1 3.6875 -1.359375 3.1875 -2.265625 L 3.1875 -6.671875 C 3.5 -7.15625 4.21875 -7.84375 5.3125 -7.84375 C 6.5 -7.84375 8.015625 -7 8.015625 -4.4375 Z M 8.015625 -4.4375 \"/>\n",
       "</symbol>\n",
       "<symbol overflow=\"visible\" id=\"glyph-1518428330974499-0-3\">\n",
       "<path style=\"stroke:none;\" d=\"M 9.34375 -4.375 C 9.34375 -7.046875 7.34375 -9.1875 4.984375 -9.1875 C 2.53125 -9.1875 0.59375 -7 0.59375 -4.375 C 0.59375 -1.75 2.625 0.21875 4.953125 0.21875 C 7.34375 0.21875 9.34375 -1.796875 9.34375 -4.375 Z M 7.796875 -4.578125 C 7.796875 -2.234375 6.4375 -1.0625 4.953125 -1.0625 C 3.578125 -1.0625 2.15625 -2.171875 2.15625 -4.578125 C 2.15625 -7 3.671875 -7.96875 4.953125 -7.96875 C 6.359375 -7.96875 7.796875 -6.9375 7.796875 -4.578125 Z M 7.796875 -4.578125 \"/>\n",
       "</symbol>\n",
       "<symbol overflow=\"visible\" id=\"glyph-1518428330974499-0-4\">\n",
       "<path style=\"stroke:none;\" d=\"M 8.671875 0 L 8.671875 -5.9375 C 8.671875 -7.25 8.359375 -9.0625 5.9375 -9.0625 C 4.140625 -9.0625 3.171875 -7.703125 3.046875 -7.546875 L 3.046875 -8.96875 L 1.609375 -8.96875 L 1.609375 0 L 3.171875 0 L 3.171875 -4.875 C 3.171875 -6.203125 3.671875 -7.84375 5.171875 -7.84375 C 7.09375 -7.84375 7.109375 -6.4375 7.109375 -5.796875 L 7.109375 0 Z M 8.671875 0 \"/>\n",
       "</symbol>\n",
       "<symbol overflow=\"visible\" id=\"glyph-1518428330974499-0-5\">\n",
       "<path style=\"stroke:none;\" d=\"M 8.140625 0 L 8.140625 -5.75 C 8.140625 -7.796875 6.6875 -9.1875 4.859375 -9.1875 C 3.5625 -9.1875 2.671875 -8.859375 1.734375 -8.328125 L 1.859375 -7.015625 C 2.890625 -7.75 3.890625 -8.015625 4.859375 -8.015625 C 5.796875 -8.015625 6.59375 -7.21875 6.59375 -5.734375 L 6.59375 -4.875 C 3.609375 -4.84375 1.078125 -4 1.078125 -2.25 C 1.078125 -1.390625 1.609375 0.21875 3.34375 0.21875 C 3.625 0.21875 5.5 0.171875 6.65625 -0.71875 L 6.65625 0 Z M 6.59375 -2.625 C 6.59375 -2.25 6.59375 -1.75 5.921875 -1.375 C 5.34375 -1.015625 4.578125 -1 4.359375 -1 C 3.40625 -1 2.515625 -1.453125 2.515625 -2.296875 C 2.515625 -3.6875 5.734375 -3.828125 6.59375 -3.859375 Z M 6.59375 -2.625 \"/>\n",
       "</symbol>\n",
       "<symbol overflow=\"visible\" id=\"glyph-1518428330974499-0-6\">\n",
       "<path style=\"stroke:none;\" d=\"M 8.265625 -0.796875 L 8.140625 -2.125 C 7.125 -1.328125 6.0625 -1.0625 5.046875 -1.0625 C 3.390625 -1.0625 2.265625 -2.484375 2.265625 -4.4375 C 2.265625 -6 3.015625 -7.90625 5.125 -7.90625 C 6.15625 -7.90625 6.828125 -7.75 7.921875 -7.03125 L 8.171875 -8.328125 C 7 -9 6.3125 -9.1875 5.09375 -9.1875 C 2.328125 -9.1875 0.71875 -6.765625 0.71875 -4.421875 C 0.71875 -1.953125 2.53125 0.21875 5.015625 0.21875 C 6.09375 0.21875 7.1875 -0.0625 8.265625 -0.796875 Z M 8.265625 -0.796875 \"/>\n",
       "</symbol>\n",
       "<symbol overflow=\"visible\" id=\"glyph-1518428330974499-0-7\">\n",
       "<path style=\"stroke:none;\" d=\"M 3.109375 0 L 3.109375 -8.84375 L 1.609375 -8.84375 L 1.609375 0 Z M 3.265625 -11.28125 L 3.265625 -13.046875 L 1.5 -13.046875 L 1.5 -11.28125 Z M 3.265625 -11.28125 \"/>\n",
       "</symbol>\n",
       "<symbol overflow=\"visible\" id=\"glyph-1518428330974499-0-8\">\n",
       "<path style=\"stroke:none;\" d=\"M 9.390625 -3.40625 L 9.390625 -4.625 L 7.40625 -4.625 L 7.40625 -13.0625 L 5.59375 -13.0625 L 0.5625 -4.625 L 0.5625 -3.40625 L 5.84375 -3.40625 L 5.84375 0 L 7.40625 0 L 7.40625 -3.40625 Z M 5.953125 -4.625 L 2.109375 -4.625 C 3.140625 -6.328125 5.9375 -11.0625 5.953125 -12.1875 Z M 5.953125 -4.625 \"/>\n",
       "</symbol>\n",
       "<symbol overflow=\"visible\" id=\"glyph-1518428330974499-0-9\">\n",
       "<path style=\"stroke:none;\" d=\"M 9.109375 -3.578125 C 9.109375 -5.40625 7.703125 -6.640625 6.359375 -7.046875 C 7.875 -7.875 8.5625 -9.21875 8.5625 -10.484375 C 8.5625 -12.1875 6.90625 -13.5 4.9375 -13.5 C 3.40625 -13.5 1.953125 -12.703125 1.109375 -11.3125 L 1.828125 -10.234375 C 2.40625 -11.640625 3.703125 -12.34375 4.921875 -12.34375 C 5.953125 -12.34375 6.9375 -11.75 6.9375 -10.484375 C 6.9375 -9.265625 6.109375 -8.09375 4.90625 -7.8125 C 4.78125 -7.796875 4.734375 -7.796875 3.328125 -7.671875 L 3.328125 -6.453125 L 4.734375 -6.453125 C 6.890625 -6.453125 7.328125 -4.609375 7.328125 -3.609375 C 7.328125 -2.046875 6.421875 -0.78125 4.875 -0.78125 C 3.5 -0.78125 1.9375 -1.46875 1.0625 -2.828125 L 0.84375 -1.640625 C 2.296875 0.234375 4.125 0.4375 4.921875 0.4375 C 7.34375 0.4375 9.109375 -1.5 9.109375 -3.578125 Z M 9.109375 -3.578125 \"/>\n",
       "</symbol>\n",
       "<symbol overflow=\"visible\" id=\"glyph-1518428330974499-0-10\">\n",
       "<path style=\"stroke:none;\" d=\"M 8.9375 0 L 8.9375 -1.421875 L 5.3125 -1.421875 C 5.078125 -1.421875 4.84375 -1.390625 4.609375 -1.390625 L 2.4375 -1.390625 C 3.0625 -1.953125 4.578125 -3.453125 5.203125 -4.03125 C 5.578125 -4.375 6.59375 -5.21875 6.96875 -5.578125 C 7.875 -6.46875 8.9375 -7.53125 8.9375 -9.21875 C 8.9375 -11.515625 7.328125 -13.5 4.703125 -13.5 C 2.4375 -13.5 1.3125 -11.953125 0.84375 -10.234375 C 1.078125 -9.90625 1.171875 -9.78125 1.21875 -9.71875 C 1.25 -9.6875 1.453125 -9.421875 1.65625 -9.140625 C 2.046875 -10.671875 2.609375 -12.234375 4.421875 -12.234375 C 6.296875 -12.234375 7.3125 -10.734375 7.3125 -9.1875 C 7.3125 -7.484375 6.171875 -6.359375 5 -5.15625 L 3.46875 -3.75 L 1 -1.28125 L 1 0 Z M 8.9375 0 \"/>\n",
       "</symbol>\n",
       "<symbol overflow=\"visible\" id=\"glyph-1518428330974499-0-11\">\n",
       "<path style=\"stroke:none;\" d=\"M 8.453125 0 L 8.453125 -1.15625 L 5.953125 -1.15625 L 5.953125 -13.5 L 5.5625 -13.5 C 4.375 -12.296875 2.734375 -12.234375 1.765625 -12.1875 L 1.765625 -11.03125 C 2.4375 -11.0625 3.390625 -11.09375 4.375 -11.515625 L 4.375 -1.15625 L 1.890625 -1.15625 L 1.890625 0 Z M 8.453125 0 \"/>\n",
       "</symbol>\n",
       "<symbol overflow=\"visible\" id=\"glyph-1518428330974499-0-12\">\n",
       "<path style=\"stroke:none;\" d=\"M 9.109375 -6.5 C 9.109375 -8.0625 9.03125 -9.921875 8.1875 -11.53125 C 7.375 -13.03125 6 -13.5 4.984375 -13.5 C 3.8125 -13.5 2.40625 -12.96875 1.59375 -11.203125 C 0.9375 -9.734375 0.84375 -8.09375 0.84375 -6.5 C 0.84375 -4.921875 0.921875 -3.46875 1.515625 -2.015625 C 2.3125 -0.09375 3.828125 0.4375 4.953125 0.4375 C 6.421875 0.4375 7.671875 -0.375 8.3125 -1.75 C 8.90625 -3.046875 9.109375 -4.359375 9.109375 -6.5 Z M 7.546875 -6.734375 C 7.546875 -5.421875 7.546875 -4.15625 7.1875 -2.90625 C 6.671875 -1.09375 5.625 -0.78125 4.984375 -0.78125 C 3.9375 -0.78125 3.125 -1.53125 2.734375 -2.96875 C 2.40625 -4.109375 2.390625 -5.171875 2.390625 -6.734375 C 2.390625 -7.984375 2.390625 -9.1875 2.734375 -10.28125 C 2.84375 -10.65625 3.34375 -12.296875 4.953125 -12.296875 C 6.515625 -12.296875 7.03125 -10.78125 7.171875 -10.421875 C 7.546875 -9.296875 7.546875 -7.96875 7.546875 -6.734375 Z M 7.546875 -6.734375 \"/>\n",
       "</symbol>\n",
       "</g>\n",
       "<clipPath id=\"clip-1518428330974499-1\">\n",
       "  <path d=\"M 666 170 L 780.722656 170 L 780.722656 228 L 666 228 Z M 666 170 \"/>\n",
       "</clipPath>\n",
       "<clipPath id=\"clip-1518428330974499-2\">\n",
       "  <path d=\"M 0 255 L 115 255 L 115 313.007812 L 0 313.007812 Z M 0 255 \"/>\n",
       "</clipPath>\n",
       "<clipPath id=\"clip-1518428330974499-3\">\n",
       "  <path d=\"M 198 255 L 314 255 L 314 313.007812 L 198 313.007812 Z M 198 255 \"/>\n",
       "</clipPath>\n",
       "</defs>\n",
       "<g id=\"surface1\">\n",
       "<path style=\"fill-rule:nonzero;fill:rgb(75%,75%,75%);fill-opacity:1;stroke-width:1.19553;stroke-linecap:butt;stroke-linejoin:miter;stroke:rgb(0%,0%,0%);stroke-opacity:1;stroke-miterlimit:10;\" d=\"M 56.692156 28.346344 L -56.694562 28.346344 L -56.694562 -28.345063 L 56.692156 -28.345063 Z M 56.692156 28.346344 \" transform=\"matrix(1,0,0,-1,439.968,28.944)\"/>\n",
       "<g style=\"fill:rgb(0%,0%,0%);fill-opacity:1;\">\n",
       "  <use xlink:href=\"#glyph-1518428330974499-0-1\" x=\"402.319\" y=\"21.685\"/>\n",
       "  <use xlink:href=\"#glyph-1518428330974499-0-2\" x=\"412.99895\" y=\"21.685\"/>\n",
       "</g>\n",
       "<g style=\"fill:rgb(0%,0%,0%);fill-opacity:1;\">\n",
       "  <use xlink:href=\"#glyph-1518428330974499-0-3\" x=\"423.858228\" y=\"21.685\"/>\n",
       "  <use xlink:href=\"#glyph-1518428330974499-0-4\" x=\"433.820868\" y=\"21.685\"/>\n",
       "  <use xlink:href=\"#glyph-1518428330974499-0-4\" x=\"444.122237\" y=\"21.685\"/>\n",
       "  <use xlink:href=\"#glyph-1518428330974499-0-5\" x=\"454.423607\" y=\"21.685\"/>\n",
       "  <use xlink:href=\"#glyph-1518428330974499-0-6\" x=\"464.007667\" y=\"21.685\"/>\n",
       "  <use xlink:href=\"#glyph-1518428330974499-0-7\" x=\"472.854491\" y=\"21.685\"/>\n",
       "</g>\n",
       "<g style=\"fill:rgb(0%,0%,0%);fill-opacity:1;\">\n",
       "  <use xlink:href=\"#glyph-1518428330974499-0-4\" x=\"406.471\" y=\"47.65\"/>\n",
       "</g>\n",
       "<g style=\"fill:rgb(0%,0%,0%);fill-opacity:1;\">\n",
       "  <use xlink:href=\"#glyph-1518428330974499-0-8\" x=\"463.333\" y=\"49.653\"/>\n",
       "</g>\n",
       "<path style=\"fill:none;stroke-width:1.19553;stroke-linecap:butt;stroke-linejoin:miter;stroke:rgb(0%,0%,0%);stroke-opacity:1;stroke-miterlimit:10;\" d=\"M -15.358625 -14.173188 L 9.789813 -14.173188 \" transform=\"matrix(1,0,0,-1,439.968,28.944)\"/>\n",
       "<path style=\" stroke:none;fill-rule:nonzero;fill:rgb(0%,0%,0%);fill-opacity:1;\" d=\"M 455.496094 43.117188 C 453.796875 42.796875 451.035156 41.84375 449.121094 40.726562 L 449.121094 45.507812 C 451.035156 44.394531 453.796875 43.4375 455.496094 43.117188 \"/>\n",
       "<path style=\"fill-rule:nonzero;fill:rgb(75%,75%,75%);fill-opacity:1;stroke-width:1.19553;stroke-linecap:butt;stroke-linejoin:miter;stroke:rgb(0%,0%,0%);stroke-opacity:1;stroke-miterlimit:10;\" d=\"M -127.56175 -56.692719 L -240.948469 -56.692719 L -240.948469 -113.388031 L -127.56175 -113.388031 Z M -127.56175 -56.692719 \" transform=\"matrix(1,0,0,-1,439.968,28.944)\"/>\n",
       "<g style=\"fill:rgb(0%,0%,0%);fill-opacity:1;\">\n",
       "  <use xlink:href=\"#glyph-1518428330974499-0-1\" x=\"218.067\" y=\"106.724\"/>\n",
       "  <use xlink:href=\"#glyph-1518428330974499-0-2\" x=\"228.74695\" y=\"106.724\"/>\n",
       "</g>\n",
       "<g style=\"fill:rgb(0%,0%,0%);fill-opacity:1;\">\n",
       "  <use xlink:href=\"#glyph-1518428330974499-0-3\" x=\"239.606228\" y=\"106.724\"/>\n",
       "  <use xlink:href=\"#glyph-1518428330974499-0-4\" x=\"249.568868\" y=\"106.724\"/>\n",
       "  <use xlink:href=\"#glyph-1518428330974499-0-4\" x=\"259.870237\" y=\"106.724\"/>\n",
       "  <use xlink:href=\"#glyph-1518428330974499-0-5\" x=\"270.171607\" y=\"106.724\"/>\n",
       "  <use xlink:href=\"#glyph-1518428330974499-0-6\" x=\"279.755667\" y=\"106.724\"/>\n",
       "  <use xlink:href=\"#glyph-1518428330974499-0-7\" x=\"288.602491\" y=\"106.724\"/>\n",
       "</g>\n",
       "<g style=\"fill:rgb(0%,0%,0%);fill-opacity:1;\">\n",
       "  <use xlink:href=\"#glyph-1518428330974499-0-4\" x=\"222.219\" y=\"132.689\"/>\n",
       "</g>\n",
       "<g style=\"fill:rgb(0%,0%,0%);fill-opacity:1;\">\n",
       "  <use xlink:href=\"#glyph-1518428330974499-0-9\" x=\"279.081\" y=\"134.692\"/>\n",
       "</g>\n",
       "<path style=\"fill:none;stroke-width:1.19553;stroke-linecap:butt;stroke-linejoin:miter;stroke:rgb(0%,0%,0%);stroke-opacity:1;stroke-miterlimit:10;\" d=\"M -199.612531 -99.21225 L -174.464094 -99.21225 \" transform=\"matrix(1,0,0,-1,439.968,28.944)\"/>\n",
       "<path style=\" stroke:none;fill-rule:nonzero;fill:rgb(0%,0%,0%);fill-opacity:1;\" d=\"M 271.242188 128.15625 C 269.542969 127.839844 266.777344 126.882812 264.867188 125.765625 L 264.867188 130.550781 C 266.777344 129.433594 269.542969 128.476562 271.242188 128.15625 \"/>\n",
       "<path style=\"fill-rule:nonzero;fill:rgb(75%,75%,75%);fill-opacity:1;stroke-width:1.19553;stroke-linecap:butt;stroke-linejoin:miter;stroke:rgb(0%,0%,0%);stroke-opacity:1;stroke-miterlimit:10;\" d=\"M 240.946063 -56.692719 L 127.559344 -56.692719 L 127.559344 -113.388031 L 240.946063 -113.388031 Z M 240.946063 -56.692719 \" transform=\"matrix(1,0,0,-1,439.968,28.944)\"/>\n",
       "<g style=\"fill:rgb(0%,0%,0%);fill-opacity:1;\">\n",
       "  <use xlink:href=\"#glyph-1518428330974499-0-1\" x=\"586.571\" y=\"106.724\"/>\n",
       "  <use xlink:href=\"#glyph-1518428330974499-0-2\" x=\"597.25095\" y=\"106.724\"/>\n",
       "</g>\n",
       "<g style=\"fill:rgb(0%,0%,0%);fill-opacity:1;\">\n",
       "  <use xlink:href=\"#glyph-1518428330974499-0-3\" x=\"608.110228\" y=\"106.724\"/>\n",
       "  <use xlink:href=\"#glyph-1518428330974499-0-4\" x=\"618.072868\" y=\"106.724\"/>\n",
       "  <use xlink:href=\"#glyph-1518428330974499-0-4\" x=\"628.374237\" y=\"106.724\"/>\n",
       "  <use xlink:href=\"#glyph-1518428330974499-0-5\" x=\"638.675607\" y=\"106.724\"/>\n",
       "  <use xlink:href=\"#glyph-1518428330974499-0-6\" x=\"648.259667\" y=\"106.724\"/>\n",
       "  <use xlink:href=\"#glyph-1518428330974499-0-7\" x=\"657.106491\" y=\"106.724\"/>\n",
       "</g>\n",
       "<g style=\"fill:rgb(0%,0%,0%);fill-opacity:1;\">\n",
       "  <use xlink:href=\"#glyph-1518428330974499-0-4\" x=\"590.722\" y=\"132.689\"/>\n",
       "</g>\n",
       "<g style=\"fill:rgb(0%,0%,0%);fill-opacity:1;\">\n",
       "  <use xlink:href=\"#glyph-1518428330974499-0-10\" x=\"647.585\" y=\"134.911\"/>\n",
       "</g>\n",
       "<path style=\"fill:none;stroke-width:1.19553;stroke-linecap:butt;stroke-linejoin:miter;stroke:rgb(0%,0%,0%);stroke-opacity:1;stroke-miterlimit:10;\" d=\"M 168.895281 -99.21225 L 194.043719 -99.21225 \" transform=\"matrix(1,0,0,-1,439.968,28.944)\"/>\n",
       "<path style=\" stroke:none;fill-rule:nonzero;fill:rgb(0%,0%,0%);fill-opacity:1;\" d=\"M 639.75 128.15625 C 638.050781 127.839844 635.289062 126.882812 633.375 125.765625 L 633.375 130.550781 C 635.289062 129.433594 638.050781 128.476562 639.75 128.15625 \"/>\n",
       "<path style=\"fill-rule:nonzero;fill:rgb(75%,75%,75%);fill-opacity:1;stroke-width:1.19553;stroke-linecap:butt;stroke-linejoin:miter;stroke:rgb(0%,0%,0%);stroke-opacity:1;stroke-miterlimit:10;\" d=\"M -226.772687 -141.735688 L -340.163312 -141.735688 L -340.163312 -198.427094 L -226.772687 -198.427094 Z M -226.772687 -141.735688 \" transform=\"matrix(1,0,0,-1,439.968,28.944)\"/>\n",
       "<g style=\"fill:rgb(0%,0%,0%);fill-opacity:1;\">\n",
       "  <use xlink:href=\"#glyph-1518428330974499-0-1\" x=\"118.854\" y=\"191.763\"/>\n",
       "  <use xlink:href=\"#glyph-1518428330974499-0-2\" x=\"129.53395\" y=\"191.763\"/>\n",
       "</g>\n",
       "<g style=\"fill:rgb(0%,0%,0%);fill-opacity:1;\">\n",
       "  <use xlink:href=\"#glyph-1518428330974499-0-3\" x=\"140.393228\" y=\"191.763\"/>\n",
       "  <use xlink:href=\"#glyph-1518428330974499-0-4\" x=\"150.355868\" y=\"191.763\"/>\n",
       "  <use xlink:href=\"#glyph-1518428330974499-0-4\" x=\"160.657237\" y=\"191.763\"/>\n",
       "  <use xlink:href=\"#glyph-1518428330974499-0-5\" x=\"170.958607\" y=\"191.763\"/>\n",
       "  <use xlink:href=\"#glyph-1518428330974499-0-6\" x=\"180.542667\" y=\"191.763\"/>\n",
       "  <use xlink:href=\"#glyph-1518428330974499-0-7\" x=\"189.389491\" y=\"191.763\"/>\n",
       "</g>\n",
       "<g style=\"fill:rgb(0%,0%,0%);fill-opacity:1;\">\n",
       "  <use xlink:href=\"#glyph-1518428330974499-0-4\" x=\"123.006\" y=\"217.729\"/>\n",
       "</g>\n",
       "<g style=\"fill:rgb(0%,0%,0%);fill-opacity:1;\">\n",
       "  <use xlink:href=\"#glyph-1518428330974499-0-10\" x=\"179.868\" y=\"219.95\"/>\n",
       "</g>\n",
       "<path style=\"fill:none;stroke-width:1.19553;stroke-linecap:butt;stroke-linejoin:miter;stroke:rgb(0%,0%,0%);stroke-opacity:1;stroke-miterlimit:10;\" d=\"M -298.827375 -184.255219 L -273.678937 -184.255219 \" transform=\"matrix(1,0,0,-1,439.968,28.944)\"/>\n",
       "<path style=\" stroke:none;fill-rule:nonzero;fill:rgb(0%,0%,0%);fill-opacity:1;\" d=\"M 172.027344 213.199219 C 170.328125 212.878906 167.566406 211.921875 165.652344 210.808594 L 165.652344 215.589844 C 167.566406 214.472656 170.328125 213.515625 172.027344 213.199219 \"/>\n",
       "<path style=\"fill-rule:nonzero;fill:rgb(75%,75%,75%);fill-opacity:1;stroke-width:1.19553;stroke-linecap:butt;stroke-linejoin:miter;stroke:rgb(0%,0%,0%);stroke-opacity:1;stroke-miterlimit:10;\" d=\"M -28.346906 -141.735688 L -141.733625 -141.735688 L -141.733625 -198.427094 L -28.346906 -198.427094 Z M -28.346906 -141.735688 \" transform=\"matrix(1,0,0,-1,439.968,28.944)\"/>\n",
       "<g style=\"fill:rgb(0%,0%,0%);fill-opacity:1;\">\n",
       "  <use xlink:href=\"#glyph-1518428330974499-0-1\" x=\"317.28\" y=\"191.763\"/>\n",
       "  <use xlink:href=\"#glyph-1518428330974499-0-2\" x=\"327.95995\" y=\"191.763\"/>\n",
       "</g>\n",
       "<g style=\"fill:rgb(0%,0%,0%);fill-opacity:1;\">\n",
       "  <use xlink:href=\"#glyph-1518428330974499-0-3\" x=\"338.799302\" y=\"191.763\"/>\n",
       "  <use xlink:href=\"#glyph-1518428330974499-0-4\" x=\"348.761942\" y=\"191.763\"/>\n",
       "  <use xlink:href=\"#glyph-1518428330974499-0-4\" x=\"359.063312\" y=\"191.763\"/>\n",
       "  <use xlink:href=\"#glyph-1518428330974499-0-5\" x=\"369.364682\" y=\"191.763\"/>\n",
       "  <use xlink:href=\"#glyph-1518428330974499-0-6\" x=\"378.948742\" y=\"191.763\"/>\n",
       "  <use xlink:href=\"#glyph-1518428330974499-0-7\" x=\"387.795566\" y=\"191.763\"/>\n",
       "</g>\n",
       "<g style=\"fill:rgb(0%,0%,0%);fill-opacity:1;\">\n",
       "  <use xlink:href=\"#glyph-1518428330974499-0-4\" x=\"321.431\" y=\"217.729\"/>\n",
       "</g>\n",
       "<g style=\"fill:rgb(0%,0%,0%);fill-opacity:1;\">\n",
       "  <use xlink:href=\"#glyph-1518428330974499-0-11\" x=\"378.293\" y=\"219.95\"/>\n",
       "</g>\n",
       "<path style=\"fill:none;stroke-width:1.19553;stroke-linecap:butt;stroke-linejoin:miter;stroke:rgb(0%,0%,0%);stroke-opacity:1;stroke-miterlimit:10;\" d=\"M -100.401594 -184.255219 L -75.24925 -184.255219 \" transform=\"matrix(1,0,0,-1,439.968,28.944)\"/>\n",
       "<path style=\" stroke:none;fill-rule:nonzero;fill:rgb(0%,0%,0%);fill-opacity:1;\" d=\"M 370.457031 213.199219 C 368.757812 212.878906 365.992188 211.921875 364.082031 210.808594 L 364.082031 215.589844 C 365.992188 214.472656 368.757812 213.515625 370.457031 213.199219 \"/>\n",
       "<path style=\"fill-rule:nonzero;fill:rgb(75%,75%,75%);fill-opacity:1;stroke-width:1.19553;stroke-linecap:butt;stroke-linejoin:miter;stroke:rgb(0%,0%,0%);stroke-opacity:1;stroke-miterlimit:10;\" d=\"M 141.735125 -141.735688 L 28.348406 -141.735688 L 28.348406 -198.427094 L 141.735125 -198.427094 Z M 141.735125 -141.735688 \" transform=\"matrix(1,0,0,-1,439.968,28.944)\"/>\n",
       "<g style=\"fill:rgb(0%,0%,0%);fill-opacity:1;\">\n",
       "  <use xlink:href=\"#glyph-1518428330974499-0-1\" x=\"487.358\" y=\"191.763\"/>\n",
       "  <use xlink:href=\"#glyph-1518428330974499-0-2\" x=\"498.03795\" y=\"191.763\"/>\n",
       "</g>\n",
       "<g style=\"fill:rgb(0%,0%,0%);fill-opacity:1;\">\n",
       "  <use xlink:href=\"#glyph-1518428330974499-0-3\" x=\"508.897228\" y=\"191.763\"/>\n",
       "  <use xlink:href=\"#glyph-1518428330974499-0-4\" x=\"518.859868\" y=\"191.763\"/>\n",
       "  <use xlink:href=\"#glyph-1518428330974499-0-4\" x=\"529.161237\" y=\"191.763\"/>\n",
       "  <use xlink:href=\"#glyph-1518428330974499-0-5\" x=\"539.462607\" y=\"191.763\"/>\n",
       "  <use xlink:href=\"#glyph-1518428330974499-0-6\" x=\"549.046667\" y=\"191.763\"/>\n",
       "  <use xlink:href=\"#glyph-1518428330974499-0-7\" x=\"557.893491\" y=\"191.763\"/>\n",
       "</g>\n",
       "<g style=\"fill:rgb(0%,0%,0%);fill-opacity:1;\">\n",
       "  <use xlink:href=\"#glyph-1518428330974499-0-4\" x=\"491.51\" y=\"217.729\"/>\n",
       "</g>\n",
       "<g style=\"fill:rgb(0%,0%,0%);fill-opacity:1;\">\n",
       "  <use xlink:href=\"#glyph-1518428330974499-0-11\" x=\"548.372\" y=\"219.95\"/>\n",
       "</g>\n",
       "<path style=\"fill:none;stroke-width:1.19553;stroke-linecap:butt;stroke-linejoin:miter;stroke:rgb(0%,0%,0%);stroke-opacity:1;stroke-miterlimit:10;\" d=\"M 69.680438 -184.255219 L 94.828875 -184.255219 \" transform=\"matrix(1,0,0,-1,439.968,28.944)\"/>\n",
       "<path style=\" stroke:none;fill-rule:nonzero;fill:rgb(0%,0%,0%);fill-opacity:1;\" d=\"M 540.539062 213.199219 C 538.835938 212.878906 536.074219 211.921875 534.160156 210.808594 L 534.160156 215.589844 C 536.074219 214.472656 538.835938 213.515625 540.539062 213.199219 \"/>\n",
       "<g clip-path=\"url(#clip-1518428330974499-1)\" clip-rule=\"nonzero\">\n",
       "<path style=\"fill-rule:nonzero;fill:rgb(75%,75%,75%);fill-opacity:1;stroke-width:1.19553;stroke-linecap:butt;stroke-linejoin:miter;stroke:rgb(0%,0%,0%);stroke-opacity:1;stroke-miterlimit:10;\" d=\"M 340.160906 -141.735688 L 226.774188 -141.735688 L 226.774188 -198.427094 L 340.160906 -198.427094 Z M 340.160906 -141.735688 \" transform=\"matrix(1,0,0,-1,439.968,28.944)\"/>\n",
       "</g>\n",
       "<g style=\"fill:rgb(0%,0%,0%);fill-opacity:1;\">\n",
       "  <use xlink:href=\"#glyph-1518428330974499-0-1\" x=\"685.783\" y=\"191.763\"/>\n",
       "  <use xlink:href=\"#glyph-1518428330974499-0-2\" x=\"696.46295\" y=\"191.763\"/>\n",
       "</g>\n",
       "<g style=\"fill:rgb(0%,0%,0%);fill-opacity:1;\">\n",
       "  <use xlink:href=\"#glyph-1518428330974499-0-3\" x=\"707.322228\" y=\"191.763\"/>\n",
       "  <use xlink:href=\"#glyph-1518428330974499-0-4\" x=\"717.284868\" y=\"191.763\"/>\n",
       "  <use xlink:href=\"#glyph-1518428330974499-0-4\" x=\"727.586237\" y=\"191.763\"/>\n",
       "  <use xlink:href=\"#glyph-1518428330974499-0-5\" x=\"737.887607\" y=\"191.763\"/>\n",
       "  <use xlink:href=\"#glyph-1518428330974499-0-6\" x=\"747.471667\" y=\"191.763\"/>\n",
       "  <use xlink:href=\"#glyph-1518428330974499-0-7\" x=\"756.318491\" y=\"191.763\"/>\n",
       "</g>\n",
       "<g style=\"fill:rgb(0%,0%,0%);fill-opacity:1;\">\n",
       "  <use xlink:href=\"#glyph-1518428330974499-0-4\" x=\"689.935\" y=\"217.729\"/>\n",
       "</g>\n",
       "<g style=\"fill:rgb(0%,0%,0%);fill-opacity:1;\">\n",
       "  <use xlink:href=\"#glyph-1518428330974499-0-12\" x=\"746.797\" y=\"219.731\"/>\n",
       "</g>\n",
       "<path style=\"fill:none;stroke-width:1.19553;stroke-linecap:butt;stroke-linejoin:miter;stroke:rgb(0%,0%,0%);stroke-opacity:1;stroke-miterlimit:10;\" d=\"M 268.110125 -184.255219 L 293.258563 -184.255219 \" transform=\"matrix(1,0,0,-1,439.968,28.944)\"/>\n",
       "<path style=\" stroke:none;fill-rule:nonzero;fill:rgb(0%,0%,0%);fill-opacity:1;\" d=\"M 738.964844 213.199219 C 737.265625 212.878906 734.5 211.921875 732.589844 210.808594 L 732.589844 215.589844 C 734.5 214.472656 737.265625 213.515625 738.964844 213.199219 \"/>\n",
       "<path style=\" stroke:none;fill-rule:nonzero;fill:rgb(75%,75%,75%);fill-opacity:1;\" d=\"M 113.980469 255.71875 L 0.59375 255.71875 L 0.59375 312.410156 L 113.980469 312.410156 Z M 113.980469 255.71875 \"/>\n",
       "<g clip-path=\"url(#clip-1518428330974499-2)\" clip-rule=\"nonzero\">\n",
       "<path style=\"fill:none;stroke-width:1.19553;stroke-linecap:butt;stroke-linejoin:miter;stroke:rgb(0%,0%,0%);stroke-opacity:1;stroke-miterlimit:10;\" d=\"M -325.987531 -226.77475 L -439.37425 -226.77475 L -439.37425 -283.466156 L -325.987531 -283.466156 Z M -325.987531 -226.77475 \" transform=\"matrix(1,0,0,-1,439.968,28.944)\"/>\n",
       "</g>\n",
       "<g style=\"fill:rgb(0%,0%,0%);fill-opacity:1;\">\n",
       "  <use xlink:href=\"#glyph-1518428330974499-0-1\" x=\"19.642\" y=\"276.803\"/>\n",
       "  <use xlink:href=\"#glyph-1518428330974499-0-2\" x=\"30.32195\" y=\"276.803\"/>\n",
       "</g>\n",
       "<g style=\"fill:rgb(0%,0%,0%);fill-opacity:1;\">\n",
       "  <use xlink:href=\"#glyph-1518428330974499-0-3\" x=\"41.181228\" y=\"276.803\"/>\n",
       "  <use xlink:href=\"#glyph-1518428330974499-0-4\" x=\"51.143868\" y=\"276.803\"/>\n",
       "  <use xlink:href=\"#glyph-1518428330974499-0-4\" x=\"61.445237\" y=\"276.803\"/>\n",
       "  <use xlink:href=\"#glyph-1518428330974499-0-5\" x=\"71.746607\" y=\"276.803\"/>\n",
       "  <use xlink:href=\"#glyph-1518428330974499-0-6\" x=\"81.330667\" y=\"276.803\"/>\n",
       "  <use xlink:href=\"#glyph-1518428330974499-0-7\" x=\"90.177491\" y=\"276.803\"/>\n",
       "</g>\n",
       "<g style=\"fill:rgb(0%,0%,0%);fill-opacity:1;\">\n",
       "  <use xlink:href=\"#glyph-1518428330974499-0-4\" x=\"23.794\" y=\"302.768\"/>\n",
       "</g>\n",
       "<g style=\"fill:rgb(0%,0%,0%);fill-opacity:1;\">\n",
       "  <use xlink:href=\"#glyph-1518428330974499-0-11\" x=\"80.656\" y=\"304.99\"/>\n",
       "</g>\n",
       "<path style=\"fill:none;stroke-width:1.19553;stroke-linecap:butt;stroke-linejoin:miter;stroke:rgb(0%,0%,0%);stroke-opacity:1;stroke-miterlimit:10;\" d=\"M -398.042219 -269.294281 L -372.889875 -269.294281 \" transform=\"matrix(1,0,0,-1,439.968,28.944)\"/>\n",
       "<path style=\" stroke:none;fill-rule:nonzero;fill:rgb(0%,0%,0%);fill-opacity:1;\" d=\"M 72.816406 298.238281 C 71.113281 297.917969 68.351562 296.964844 66.4375 295.847656 L 66.4375 300.628906 C 68.351562 299.515625 71.113281 298.558594 72.816406 298.238281 \"/>\n",
       "<path style=\" stroke:none;fill-rule:nonzero;fill:rgb(75%,75%,75%);fill-opacity:1;\" d=\"M 312.40625 255.71875 L 199.019531 255.71875 L 199.019531 312.410156 L 312.40625 312.410156 Z M 312.40625 255.71875 \"/>\n",
       "<g clip-path=\"url(#clip-1518428330974499-3)\" clip-rule=\"nonzero\">\n",
       "<path style=\"fill:none;stroke-width:1.19553;stroke-linecap:butt;stroke-linejoin:miter;stroke:rgb(0%,0%,0%);stroke-opacity:1;stroke-miterlimit:10;\" d=\"M -127.56175 -226.77475 L -240.948469 -226.77475 L -240.948469 -283.466156 L -127.56175 -283.466156 Z M -127.56175 -226.77475 \" transform=\"matrix(1,0,0,-1,439.968,28.944)\"/>\n",
       "</g>\n",
       "<g style=\"fill:rgb(0%,0%,0%);fill-opacity:1;\">\n",
       "  <use xlink:href=\"#glyph-1518428330974499-0-1\" x=\"218.067\" y=\"276.803\"/>\n",
       "  <use xlink:href=\"#glyph-1518428330974499-0-2\" x=\"228.74695\" y=\"276.803\"/>\n",
       "</g>\n",
       "<g style=\"fill:rgb(0%,0%,0%);fill-opacity:1;\">\n",
       "  <use xlink:href=\"#glyph-1518428330974499-0-3\" x=\"239.606228\" y=\"276.803\"/>\n",
       "  <use xlink:href=\"#glyph-1518428330974499-0-4\" x=\"249.568868\" y=\"276.803\"/>\n",
       "  <use xlink:href=\"#glyph-1518428330974499-0-4\" x=\"259.870237\" y=\"276.803\"/>\n",
       "  <use xlink:href=\"#glyph-1518428330974499-0-5\" x=\"270.171607\" y=\"276.803\"/>\n",
       "  <use xlink:href=\"#glyph-1518428330974499-0-6\" x=\"279.755667\" y=\"276.803\"/>\n",
       "  <use xlink:href=\"#glyph-1518428330974499-0-7\" x=\"288.602491\" y=\"276.803\"/>\n",
       "</g>\n",
       "<g style=\"fill:rgb(0%,0%,0%);fill-opacity:1;\">\n",
       "  <use xlink:href=\"#glyph-1518428330974499-0-4\" x=\"222.219\" y=\"302.768\"/>\n",
       "</g>\n",
       "<g style=\"fill:rgb(0%,0%,0%);fill-opacity:1;\">\n",
       "  <use xlink:href=\"#glyph-1518428330974499-0-12\" x=\"279.081\" y=\"304.771\"/>\n",
       "</g>\n",
       "<path style=\"fill:none;stroke-width:1.19553;stroke-linecap:butt;stroke-linejoin:miter;stroke:rgb(0%,0%,0%);stroke-opacity:1;stroke-miterlimit:10;\" d=\"M -199.612531 -269.294281 L -174.464094 -269.294281 \" transform=\"matrix(1,0,0,-1,439.968,28.944)\"/>\n",
       "<path style=\" stroke:none;fill-rule:nonzero;fill:rgb(0%,0%,0%);fill-opacity:1;\" d=\"M 271.242188 298.238281 C 269.542969 297.917969 266.777344 296.964844 264.867188 295.847656 L 264.867188 300.628906 C 266.777344 299.515625 269.542969 298.558594 271.242188 298.238281 \"/>\n",
       "<path style=\"fill:none;stroke-width:1.19553;stroke-linecap:butt;stroke-linejoin:miter;stroke:rgb(0%,0%,0%);stroke-opacity:1;stroke-miterlimit:10;\" d=\"M -57.889875 -26.720063 L -121.151594 -55.942719 \" transform=\"matrix(1,0,0,-1,439.968,28.944)\"/>\n",
       "<path style=\" stroke:none;fill-rule:nonzero;fill:rgb(0%,0%,0%);fill-opacity:1;\" d=\"M 313.601562 87.292969 C 315.28125 86.871094 318.191406 86.578125 320.398438 86.789062 L 318.390625 82.445312 C 317.121094 84.261719 315.015625 86.289062 313.601562 87.292969 \"/>\n",
       "<path style=\"fill:none;stroke-width:1.19553;stroke-linecap:butt;stroke-linejoin:miter;stroke:rgb(0%,0%,0%);stroke-opacity:1;stroke-miterlimit:10;\" d=\"M 57.887469 -26.720063 L 121.153094 -55.942719 \" transform=\"matrix(1,0,0,-1,439.968,28.944)\"/>\n",
       "<path style=\" stroke:none;fill-rule:nonzero;fill:rgb(0%,0%,0%);fill-opacity:1;\" d=\"M 566.332031 87.292969 C 564.921875 86.289062 562.8125 84.261719 561.542969 82.445312 L 559.535156 86.789062 C 561.742188 86.578125 564.65625 86.871094 566.332031 87.292969 \"/>\n",
       "<path style=\"fill:none;stroke-width:1.19553;stroke-linecap:butt;stroke-linejoin:miter;stroke:rgb(0%,0%,0%);stroke-opacity:1;stroke-miterlimit:10;\" d=\"M -218.714094 -114.583344 L -244.643781 -136.794281 \" transform=\"matrix(1,0,0,-1,439.968,28.944)\"/>\n",
       "<path style=\" stroke:none;fill-rule:nonzero;fill:rgb(0%,0%,0%);fill-opacity:1;\" d=\"M 190.953125 169.484375 C 192.457031 168.617188 195.1875 167.542969 197.371094 167.144531 L 194.25 163.5 C 193.523438 165.597656 192.039062 168.128906 190.953125 169.484375 \"/>\n",
       "<path style=\"fill:none;stroke-width:1.19553;stroke-linecap:butt;stroke-linejoin:miter;stroke:rgb(0%,0%,0%);stroke-opacity:1;stroke-miterlimit:10;\" d=\"M -149.796125 -114.583344 L -123.866437 -136.794281 \" transform=\"matrix(1,0,0,-1,439.968,28.944)\"/>\n",
       "<path style=\" stroke:none;fill-rule:nonzero;fill:rgb(0%,0%,0%);fill-opacity:1;\" d=\"M 320.472656 169.484375 C 319.386719 168.128906 317.90625 165.597656 317.175781 163.5 L 314.054688 167.144531 C 316.242188 167.542969 318.96875 168.617188 320.472656 169.484375 \"/>\n",
       "<path style=\"fill:none;stroke-width:1.19553;stroke-linecap:butt;stroke-linejoin:miter;stroke:rgb(0%,0%,0%);stroke-opacity:1;stroke-miterlimit:10;\" d=\"M 149.797625 -114.583344 L 123.867938 -136.794281 \" transform=\"matrix(1,0,0,-1,439.968,28.944)\"/>\n",
       "<path style=\" stroke:none;fill-rule:nonzero;fill:rgb(0%,0%,0%);fill-opacity:1;\" d=\"M 559.460938 169.484375 C 560.964844 168.617188 563.695312 167.542969 565.878906 167.144531 L 562.757812 163.5 C 562.03125 165.597656 560.550781 168.128906 559.460938 169.484375 \"/>\n",
       "<path style=\"fill:none;stroke-width:1.19553;stroke-linecap:butt;stroke-linejoin:miter;stroke:rgb(0%,0%,0%);stroke-opacity:1;stroke-miterlimit:10;\" d=\"M 218.711688 -114.583344 L 244.641375 -136.794281 \" transform=\"matrix(1,0,0,-1,439.968,28.944)\"/>\n",
       "<path style=\" stroke:none;fill-rule:nonzero;fill:rgb(0%,0%,0%);fill-opacity:1;\" d=\"M 688.984375 169.484375 C 687.894531 168.128906 686.414062 165.597656 685.683594 163.5 L 682.5625 167.144531 C 684.75 167.542969 687.480469 168.617188 688.984375 169.484375 \"/>\n",
       "<path style=\"fill:none;stroke-width:1.19553;stroke-linecap:butt;stroke-linejoin:miter;stroke:rgb(0%,0%,0%);stroke-opacity:1;stroke-miterlimit:10;\" d=\"M -317.925031 -199.622406 L -343.854719 -221.833344 \" transform=\"matrix(1,0,0,-1,439.968,28.944)\"/>\n",
       "<path style=\" stroke:none;fill-rule:nonzero;fill:rgb(0%,0%,0%);fill-opacity:1;\" d=\"M 91.738281 254.523438 C 93.242188 253.65625 95.972656 252.582031 98.160156 252.183594 L 95.039062 248.539062 C 94.308594 250.636719 92.828125 253.171875 91.738281 254.523438 \"/>\n",
       "<path style=\"fill:none;stroke-width:1.19553;stroke-linecap:butt;stroke-linejoin:miter;stroke:rgb(0%,0%,0%);stroke-opacity:1;stroke-miterlimit:10;\" d=\"M -249.010969 -199.622406 L -223.081281 -221.833344 \" transform=\"matrix(1,0,0,-1,439.968,28.944)\"/>\n",
       "<path style=\" stroke:none;fill-rule:nonzero;fill:rgb(0%,0%,0%);fill-opacity:1;\" d=\"M 221.261719 254.523438 C 220.171875 253.171875 218.691406 250.636719 217.960938 248.539062 L 214.839844 252.183594 C 217.027344 252.582031 219.757812 253.65625 221.261719 254.523438 \"/>\n",
       "</g>\n",
       "</svg>\n",
       "\n"
      ],
      "text/plain": [
       "TikzPictures.TikzPicture(L\"$    \\node(fib4) [draw, fill=lightgray, minimum width=2cm, minimum height=1cm]{};\n",
       "    \\node at (0,0.25){fibonnaci};\n",
       "    \\node(f4n) at (-0.5, -0.25){n};\n",
       "    \\node(f4) at (0.5, -0.25){4};\n",
       "    \\draw[-latex] (f4n)--(f4);\n",
       "    \\node(fib3) [draw, fill=lightgray, minimum width=2cm, minimum height=1cm] at(-3.25,-1.5){};\n",
       "    \\node at (-3.25,-1.25){fibonnaci};\n",
       "    \\node(f3n) at (-3.75, -1.75){n};\n",
       "    \\node(f3) at (-2.75, -1.75){3};\n",
       "    \\draw[-latex] (f3n)--(f3);\n",
       "    \\node(fib2) [draw, fill=lightgray, minimum width=2cm, minimum height=1cm] at(3.25,-1.5){};\n",
       "    \\node at (3.25,-1.25){fibonnaci};\n",
       "    \\node(f2n) at (2.75, -1.75){n};\n",
       "    \\node(f2) at (3.75, -1.75){2};\n",
       "    \\draw[-latex] (f2n)--(f2);\n",
       "    \\node(fib22) [draw, fill=lightgray, minimum width=2cm, minimum height=1cm] at(-5,-3){};\n",
       "    \\node at (-5,-2.75){fibonnaci};\n",
       "    \\node(f22n) at (-5.5, -3.25){n};\n",
       "    \\node(f22) at (-4.5, -3.25){2};\n",
       "    \\draw[-latex] (f22n)--(f22);\n",
       "    \\node(fib1) [draw, fill=lightgray, minimum width=2cm, minimum height=1cm] at(-1.5,-3){};\n",
       "    \\node at (-1.5,-2.75){fibonnaci};\n",
       "    \\node(f1n) at (-2, -3.25){n};\n",
       "    \\node(f1) at (-1, -3.25){1};\n",
       "    \\draw[-latex] (f1n)--(f1);\n",
       "    \\node(fib11) [draw, fill=lightgray, minimum width=2cm, minimum height=1cm] at(1.5,-3){};\n",
       "    \\node at (1.5,-2.75){fibonnaci};\n",
       "    \\node(f11n) at (1, -3.25){n};\n",
       "    \\node(f11) at (2, -3.25){1};\n",
       "    \\draw[-latex] (f11n)--(f11);\n",
       "    \\node(fib0) [draw, fill=lightgray, minimum width=2cm, minimum height=1cm] at(5,-3){};\n",
       "    \\node at (5,-2.75){fibonnaci};\n",
       "    \\node(f0n) at (4.5, -3.25){n};\n",
       "    \\node(f0) at (5.5, -3.25){0};\n",
       "    \\draw[-latex] (f0n)--(f0);\n",
       "    \\node(fib111) [draw, fill=lightgray, minimum width=2cm, minimum height=1cm] at(-6.75,-4.5){};\n",
       "    \\node at (-6.75,-4.25){fibonnaci};\n",
       "    \\node(f111n) at (-7.25, -4.75){n};\n",
       "    \\node(f111) at (-6.25, -4.75){1};\n",
       "    \\draw[-latex] (f111n)--(f111);\n",
       "    \\node(fib00) [draw, fill=lightgray, minimum width=2cm, minimum height=1cm] at(-3.25,-4.5){};\n",
       "    \\node at (-3.25,-4.25){fibonnaci};\n",
       "    \\node(f00n) at (-3.75, -4.75){n};\n",
       "    \\node(f00) at (-2.75, -4.75){0};\n",
       "    \\draw[-latex] (f00n)--(f00);\n",
       "    \\draw[-latex] (fib4)--(fib3);\n",
       "    \\draw[-latex] (fib4)--(fib2);\n",
       "    \\draw[-latex] (fib3)--(fib22);\n",
       "    \\draw[-latex] (fib3)--(fib1);\n",
       "    \\draw[-latex] (fib2)--(fib11);\n",
       "    \\draw[-latex] (fib2)--(fib0);\n",
       "    \\draw[-latex] (fib22)--(fib111);\n",
       "    \\draw[-latex] (fib22)--(fib00);\n",
       "$\", \"very thick, scale=2, transform shape\", \"    \\\\usepackage{newtxmath}\\n    \\\\renewcommand{\\\\familydefault}{\\\\sfdefault}\\n    \\\\usepackage{cancel}\\n\", true, true)"
      ]
     },
     "execution_count": 155,
     "metadata": {},
     "output_type": "execute_result"
    }
   ],
   "source": [
    "using TikzPictures\n",
    "TikzPicture(L\"\"\"\n",
    "    \\node(fib4) [draw, fill=lightgray, minimum width=2cm, minimum height=1cm]{};\n",
    "    \\node at (0,0.25){fibonnaci};\n",
    "    \\node(f4n) at (-0.5, -0.25){n};\n",
    "    \\node(f4) at (0.5, -0.25){4};\n",
    "    \\draw[-latex] (f4n)--(f4);\n",
    "    \\node(fib3) [draw, fill=lightgray, minimum width=2cm, minimum height=1cm] at(-3.25,-1.5){};\n",
    "    \\node at (-3.25,-1.25){fibonnaci};\n",
    "    \\node(f3n) at (-3.75, -1.75){n};\n",
    "    \\node(f3) at (-2.75, -1.75){3};\n",
    "    \\draw[-latex] (f3n)--(f3);\n",
    "    \\node(fib2) [draw, fill=lightgray, minimum width=2cm, minimum height=1cm] at(3.25,-1.5){};\n",
    "    \\node at (3.25,-1.25){fibonnaci};\n",
    "    \\node(f2n) at (2.75, -1.75){n};\n",
    "    \\node(f2) at (3.75, -1.75){2};\n",
    "    \\draw[-latex] (f2n)--(f2);\n",
    "    \\node(fib22) [draw, fill=lightgray, minimum width=2cm, minimum height=1cm] at(-5,-3){};\n",
    "    \\node at (-5,-2.75){fibonnaci};\n",
    "    \\node(f22n) at (-5.5, -3.25){n};\n",
    "    \\node(f22) at (-4.5, -3.25){2};\n",
    "    \\draw[-latex] (f22n)--(f22);\n",
    "    \\node(fib1) [draw, fill=lightgray, minimum width=2cm, minimum height=1cm] at(-1.5,-3){};\n",
    "    \\node at (-1.5,-2.75){fibonnaci};\n",
    "    \\node(f1n) at (-2, -3.25){n};\n",
    "    \\node(f1) at (-1, -3.25){1};\n",
    "    \\draw[-latex] (f1n)--(f1);\n",
    "    \\node(fib11) [draw, fill=lightgray, minimum width=2cm, minimum height=1cm] at(1.5,-3){};\n",
    "    \\node at (1.5,-2.75){fibonnaci};\n",
    "    \\node(f11n) at (1, -3.25){n};\n",
    "    \\node(f11) at (2, -3.25){1};\n",
    "    \\draw[-latex] (f11n)--(f11);\n",
    "    \\node(fib0) [draw, fill=lightgray, minimum width=2cm, minimum height=1cm] at(5,-3){};\n",
    "    \\node at (5,-2.75){fibonnaci};\n",
    "    \\node(f0n) at (4.5, -3.25){n};\n",
    "    \\node(f0) at (5.5, -3.25){0};\n",
    "    \\draw[-latex] (f0n)--(f0);\n",
    "    \\node(fib111) [draw, fill=lightgray, minimum width=2cm, minimum height=1cm] at(-6.75,-4.5){};\n",
    "    \\node at (-6.75,-4.25){fibonnaci};\n",
    "    \\node(f111n) at (-7.25, -4.75){n};\n",
    "    \\node(f111) at (-6.25, -4.75){1};\n",
    "    \\draw[-latex] (f111n)--(f111);\n",
    "    \\node(fib00) [draw, fill=lightgray, minimum width=2cm, minimum height=1cm] at(-3.25,-4.5){};\n",
    "    \\node at (-3.25,-4.25){fibonnaci};\n",
    "    \\node(f00n) at (-3.75, -4.75){n};\n",
    "    \\node(f00) at (-2.75, -4.75){0};\n",
    "    \\draw[-latex] (f00n)--(f00);\n",
    "    \\draw[-latex] (fib4)--(fib3);\n",
    "    \\draw[-latex] (fib4)--(fib2);\n",
    "    \\draw[-latex] (fib3)--(fib22);\n",
    "    \\draw[-latex] (fib3)--(fib1);\n",
    "    \\draw[-latex] (fib2)--(fib11);\n",
    "    \\draw[-latex] (fib2)--(fib0);\n",
    "    \\draw[-latex] (fib22)--(fib111);\n",
    "    \\draw[-latex] (fib22)--(fib00);\n",
    "\"\"\"; options=\"very thick, scale=2, transform shape\", preamble=\"\"\"\n",
    "    \\\\usepackage{newtxmath}\n",
    "    \\\\renewcommand{\\\\familydefault}{\\\\sfdefault}\n",
    "    \\\\usepackage{cancel}\n",
    "\"\"\")"
   ]
  },
  {
   "cell_type": "markdown",
   "metadata": {
    "slideshow": {
     "slide_type": "subslide"
    }
   },
   "source": [
    "A call graph shows a set of function frames, with lines connecting each frame to the frames of the functions it calls. At the top of the graph, `fibonacci` with `n=4` calls `fibonacci` with `n=3` and `n=2`. In turn, `fibonacci` with `n=3` calls `fibonacci` with `n=2` and `n=1`. And so on.\n",
    "\n",
    "Count how many times `fibonacci(0)` and `fibonacci(1)` are called. This is an inefficient solution to the problem, and it gets worse as the argument gets bigger.\n",
    "\n",
    "One solution is to keep track of values that have already been computed by storing them in a dictionary. A previously computed value that is stored for later use is called a *memo*. "
   ]
  },
  {
   "cell_type": "markdown",
   "metadata": {
    "slideshow": {
     "slide_type": "subslide"
    }
   },
   "source": [
    "Here is a “memoized” version of fibonacci:"
   ]
  },
  {
   "cell_type": "code",
   "execution_count": 160,
   "metadata": {},
   "outputs": [
    {
     "data": {
      "text/plain": [
       "55"
      ]
     },
     "execution_count": 160,
     "metadata": {},
     "output_type": "execute_result"
    }
   ],
   "source": [
    "known = Dict(0=>0, 1=>1)\n",
    "\n",
    "function fibonacci(n)\n",
    "    if n ∈ keys(known)\n",
    "        return known[n]\n",
    "    end\n",
    "    res = fibonacci(n-1) + fibonacci(n-2)\n",
    "    known[n] = res\n",
    "    res\n",
    "end\n",
    "\n",
    "fibonacci(10)"
   ]
  },
  {
   "cell_type": "markdown",
   "metadata": {
    "slideshow": {
     "slide_type": "subslide"
    }
   },
   "source": [
    "`known` is a dictionary that keeps track of the Fibonacci numbers we already know. It starts with two items: `0` maps to `0` and `1` maps to `1`.\n",
    "\n",
    "Whenever `fibonacci` is called, it checks `known`. If the result is already there, it can return immediately. Otherwise it has to compute the new value, add it to the dictionary, and return it.\n",
    "\n",
    "If you run this version of fibonacci and compare it with the original, you will find that it is much faster."
   ]
  },
  {
   "cell_type": "markdown",
   "metadata": {
    "slideshow": {
     "slide_type": "slide"
    }
   },
   "source": [
    "# Debugging\n",
    "\n",
    "As you work with bigger datasets it can become unwieldy to debug by printing and checking the output by hand. Here are some suggestions for debugging large datasets:\n",
    "\n",
    "- Scale down the input:\n",
    "\n",
    "    If possible, reduce the size of the dataset. For example if the program reads a text file, start with just the first 10 lines, or with the smallest example you can find. You can either edit the files themselves, or (better) modify the program so it reads only the first n lines.\n",
    "    \n",
    "    If there is an error, you can reduce n to the smallest value that manifests the error, and then increase it gradually as you find and correct errors."
   ]
  },
  {
   "cell_type": "markdown",
   "metadata": {
    "slideshow": {
     "slide_type": "subslide"
    }
   },
   "source": [
    "- Check summaries and types:\n",
    "\n",
    "    Instead of printing and checking the entire dataset, consider printing summaries of the data: for example, the number of items in a dictionary or the total of a list of numbers.\n",
    "    \n",
    "    A common cause of runtime errors is a value that is not the right type. For debugging this kind of error, it is often enough to print the type of a value."
   ]
  },
  {
   "cell_type": "markdown",
   "metadata": {
    "slideshow": {
     "slide_type": "subslide"
    }
   },
   "source": [
    "- Write self-checks:\n",
    "\n",
    "    Sometimes you can write code to check for errors automatically. For example, if you are computing the average of a list of numbers, you could check that the result is not greater than the largest element in the list or less than the smallest. This is called a “sanity check” because it detects results that are “insane”.\n",
    "    \n",
    "    Another kind of check compares the results of two different computations to see if they are consistent. This is called a “consistency check”."
   ]
  },
  {
   "cell_type": "markdown",
   "metadata": {
    "slideshow": {
     "slide_type": "subslide"
    }
   },
   "source": [
    "- Format the output:\n",
    "\n",
    "    Formatting debugging output can make it easier to spot an error.\n",
    "    \n",
    "Again, time you spend building scaffolding can reduce the time you spend debugging."
   ]
  }
 ],
 "metadata": {
  "celltoolbar": "Slideshow",
  "hide_code_all_hidden": false,
  "kernelspec": {
   "display_name": "Julia 0.6.2",
   "language": "julia",
   "name": "julia-0.6"
  },
  "language_info": {
   "file_extension": ".jl",
   "mimetype": "application/julia",
   "name": "julia",
   "version": "0.6.2"
  },
  "livereveal": {
   "controls": "false",
   "scroll": "true",
   "start_slideshow_at": "selected"
  }
 },
 "nbformat": 4,
 "nbformat_minor": 2
}
