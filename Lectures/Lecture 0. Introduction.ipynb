{
 "cells": [
  {
   "cell_type": "markdown",
   "metadata": {
    "slideshow": {
     "slide_type": "slide"
    }
   },
   "source": [
    "# Who are we?\n",
    "\n",
    "- Maj IMM Ben Lauwens, 150 POL, D30.11, ben.lauwens@rma.ac.be\n",
    "\n",
    "- Cdt IMM François Dossogne, 140 POL, D30.25 , francois.dossogne@rma.ac.be"
   ]
  },
  {
   "cell_type": "markdown",
   "metadata": {
    "slideshow": {
     "slide_type": "subslide"
    }
   },
   "source": [
    "# Course description\n",
    "\n",
    "Introductory programming course with an emphasis on learning to program in contrast to learning a programming language.\n",
    "\n",
    "In the first part the students will discover the most important imperative programming techniques based on toy programming problems in Octave, Python, Julia and C++.\n",
    "\n",
    "In the second part they will develop hands-on the skills to successfully finish a programming project."
   ]
  },
  {
   "cell_type": "markdown",
   "metadata": {
    "slideshow": {
     "slide_type": "subslide"
    }
   },
   "source": [
    "# Course Materials\n",
    "\n",
    "- Handbooks:\n",
    "    - Computer Organization and Design, David Patterson and John Hennessy\n",
    "    - Think like a Programmer, Anton Spraul\n",
    "    - Think Python, Allan Downley\n",
    "    - Programming, Principles and Practice using C++, Bjarne Stroustrup\n",
    "    - Fortran 95/2003 for Scientists and Engineers\n",
    "    - [Octave Documentation](https://www.gnu.org/software/octave/doc/v4.2.1/)\n",
    "    - [Julia Documentation](https://docs.julialang.org/en/stable/)\n",
    "    - [Python Documentation](https://docs.python.org/3/)\n",
    "    - [C++ Documenation](http://en.cppreference.com/w/)\n",
    "    \n",
    "- Jupyter notebooks: Lectures and Assignments"
   ]
  },
  {
   "cell_type": "markdown",
   "metadata": {},
   "source": [
    "# Evaluation\n",
    "\n",
    "- Tests:\n",
    "    - 1 written test after first part\n",
    "    - continuous evaluation of the mini-projects\n",
    "- Exam: \n",
    "    - oral defense after written and computer preparation"
   ]
  },
  {
   "cell_type": "markdown",
   "metadata": {},
   "source": [
    "# Schedule\n",
    "\n",
    "- Monday: 3-4 / 5-6\n",
    "- Thursday: 3-4 / 5-6\n",
    "- Theory (16h) followed by exercises (14h): 16x3h + 14x2h = 76h\n",
    "- Mini-projects: guidance (9h) and hands-on (16hr): 9x3h + 18x2h = 63h"
   ]
  }
 ],
 "metadata": {
  "celltoolbar": "Slideshow",
  "kernelspec": {
   "display_name": "Julia 0.6",
   "language": "julia",
   "name": "julia-0.6"
  },
  "language_info": {
   "file_extension": ".jl",
   "mimetype": "application/julia",
   "name": "julia",
   "version": "0.6.2"
  },
  "livereveal": {
   "controls": "false",
   "scroll": "true",
   "start_slideshow_at": "selected"
  }
 },
 "nbformat": 4,
 "nbformat_minor": 2
}
