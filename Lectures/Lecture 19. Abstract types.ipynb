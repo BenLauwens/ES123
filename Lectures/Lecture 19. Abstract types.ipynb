{
 "cells": [
  {
   "cell_type": "markdown",
   "metadata": {
    "slideshow": {
     "slide_type": "slide"
    }
   },
   "source": [
    "# Introduction \n",
    "\n",
    "In this lecture I demonstrate the power of the type system of Julia using types that represent playing cards, decks of cards, and poker hands.\n",
    "\n",
    "If you don’t play poker, you can read about it at http://en.wikipedia.org/wiki/Poker, but you don’t have to; I’ll tell you what you need to know for the exercises."
   ]
  },
  {
   "cell_type": "markdown",
   "metadata": {
    "slideshow": {
     "slide_type": "slide"
    }
   },
   "source": [
    "# Card objects\n",
    "\n",
    "There are fifty-two cards in a deck, each of which belongs to one of four suits and one of thirteen ranks. The suits are Spades, Hearts, Diamonds, and Clubs. The ranks are Ace, 2, 3, 4, 5, 6, 7, 8, 9, 10, Jack, Queen, and King. Depending on the game that you are playing, an Ace may be higher than King or lower than 2.\n",
    "\n",
    "If we want to define a new object to represent a playing card, it is obvious what the attributes should be: rank and suit. It is not as obvious what type the attributes should be. One possibility is to use strings containing words like `\"Spade\"` for suits and `\"Queen\"` for ranks. One problem with this implementation is that it would not be easy to compare cards to see which had a higher rank or suit."
   ]
  },
  {
   "cell_type": "markdown",
   "metadata": {
    "slideshow": {
     "slide_type": "subslide"
    }
   },
   "source": [
    "An alternative is to use integers to encode the ranks and suits. In this context, “encode” means that we are going to define a mapping between numbers and suits, or between numbers and ranks. This kind of encoding is not meant to be a secret (that would be “encryption”).\n",
    "\n",
    "For example, this table shows the suits and the corresponding integer codes:\n",
    "\n",
    "- Spades  ↦  4\n",
    "- Hearts  ↦  3\n",
    "- Diamonds  ↦  2\n",
    "- Clubs  ↦  1\n",
    "\n",
    "This code makes it easy to compare cards; because higher suits map to higher numbers, we can compare suits by comparing their codes."
   ]
  },
  {
   "cell_type": "markdown",
   "metadata": {
    "slideshow": {
     "slide_type": "subslide"
    }
   },
   "source": [
    "I am using the ↦ symbol to make it clear that these mappings are not part of the Julia program. They are part of the program design, but they don’t appear explicitly in the code.\n",
    "\n",
    "The struct definition for `Card` looks like this:"
   ]
  },
  {
   "cell_type": "code",
   "execution_count": 1,
   "metadata": {},
   "outputs": [],
   "source": [
    "struct Card\n",
    "    suit :: Int\n",
    "    rank :: Int\n",
    "    function Card(suit::Int, rank::Int)\n",
    "        @assert(1 ≤ suit ≤ 4, \"suit is between 1 and 4\")\n",
    "        @assert(1 ≤ rank ≤ 13, \"rank is between 1 and 13\")\n",
    "        new(suit, rank)\n",
    "    end\n",
    "end"
   ]
  },
  {
   "cell_type": "markdown",
   "metadata": {},
   "source": [
    "To create a `Card`, you call `Card` with the suit and rank of the card you want."
   ]
  },
  {
   "cell_type": "code",
   "execution_count": 2,
   "metadata": {},
   "outputs": [
    {
     "data": {
      "text/plain": [
       "Card(2, 12)"
      ]
     },
     "execution_count": 2,
     "metadata": {},
     "output_type": "execute_result"
    }
   ],
   "source": [
    "queen_of_diamonds = Card(2, 12)"
   ]
  },
  {
   "cell_type": "markdown",
   "metadata": {
    "slideshow": {
     "slide_type": "slide"
    }
   },
   "source": [
    "# Constants\n",
    "\n",
    "In order to print `Card` objects in a way that people can easily read, we need a mapping from the integer codes to the corresponding ranks and suits. A natural way to do that is with arrays of strings:"
   ]
  },
  {
   "cell_type": "code",
   "execution_count": 4,
   "metadata": {},
   "outputs": [
    {
     "name": "stderr",
     "output_type": "stream",
     "text": [
      "WARNING: redefining constant suit_names\n",
      "WARNING: redefining constant rank_names\n"
     ]
    }
   ],
   "source": [
    "const suit_names = [\"Clubs\", \"Diamonds\", \"Hearts\", \"Spades\"]\n",
    "const rank_names = [\"Ace\", \"2\", \"3\", \"4\", \"5\", \"6\", \"7\", \n",
    "              \"8\", \"9\", \"10\", \"Jack\", \"Queen\", \"King\"];"
   ]
  },
  {
   "cell_type": "markdown",
   "metadata": {},
   "source": [
    "Variables like `suit_names` and `rank_names`, which are defined outside of a type definition and of any method, are called `global` variables. The keyword `const` solves the performance problem of global variables."
   ]
  },
  {
   "cell_type": "markdown",
   "metadata": {
    "slideshow": {
     "slide_type": "subslide"
    }
   },
   "source": [
    "Now we can an appropriate `show` method:"
   ]
  },
  {
   "cell_type": "code",
   "execution_count": 5,
   "metadata": {},
   "outputs": [],
   "source": [
    "function Base.show(io::IO, card::Card)\n",
    "    print(io, rank_names[card.rank], \" of \", suit_names[card.suit])\n",
    "end"
   ]
  },
  {
   "cell_type": "markdown",
   "metadata": {},
   "source": [
    "With the methods we have so far, we can create and print cards:"
   ]
  },
  {
   "cell_type": "code",
   "execution_count": 6,
   "metadata": {},
   "outputs": [
    {
     "data": {
      "text/plain": [
       "Jack of Diamonds"
      ]
     },
     "execution_count": 6,
     "metadata": {},
     "output_type": "execute_result"
    }
   ],
   "source": [
    "card1 = Card(2, 11)"
   ]
  },
  {
   "cell_type": "markdown",
   "metadata": {
    "slideshow": {
     "slide_type": "subslide"
    }
   },
   "source": [
    "# Comparing cards\n",
    "\n",
    "For built-in types, there are relational operators (`<`, `>`, `==`, etc.) that compare values and determine when one is greater than, less than, or equal to another. For programmer-defined types, we can override the behavior of the built-in operators by providing a method named: `Base.isless`.\n",
    "\n",
    "The correct ordering for cards is not obvious. For example, which is better, the 3 of Clubs or the 2 of Diamonds? One has a higher rank, but the other has a higher suit. In order to compare cards, you have to decide whether rank or suit is more important.\n",
    "\n",
    "The answer might depend on what game you are playing, but to keep things simple, we’ll make the arbitrary choice that suit is more important, so all of the Spades outrank all of the Diamonds, and so on."
   ]
  },
  {
   "cell_type": "markdown",
   "metadata": {
    "slideshow": {
     "slide_type": "subslide"
    }
   },
   "source": [
    "With that decided, we can write `Base.isless`:"
   ]
  },
  {
   "cell_type": "code",
   "execution_count": 7,
   "metadata": {},
   "outputs": [],
   "source": [
    "function Base.isless(c1::Card, c2::Card)\n",
    "    isless((c1.suit, c1.rank), (c2.suit, c2.rank))\n",
    "end"
   ]
  },
  {
   "cell_type": "markdown",
   "metadata": {
    "slideshow": {
     "slide_type": "slide"
    }
   },
   "source": [
    "# Unit testing\n",
    "\n",
    "*Unit testing* is a way to see if your code is correct by checking that the results are what you expect. It can be helpful to ensure your code still works after you make changes, and can be used when developing as a way of specifying the behaviors your code should have when complete.\n",
    "\n",
    "Simple unit testing can be performed with the `@test()` macros:"
   ]
  },
  {
   "cell_type": "code",
   "execution_count": 15,
   "metadata": {},
   "outputs": [
    {
     "data": {
      "text/plain": [
       "\u001b[1m\u001b[32mTest Passed\u001b[39m\u001b[22m"
      ]
     },
     "execution_count": 15,
     "metadata": {},
     "output_type": "execute_result"
    }
   ],
   "source": [
    "using Base.Test\n",
    "\n",
    "@test Card(1,4) < Card(2,4)\n",
    "@test Card(3,12) ≤ Card(3,13)\n",
    "@test Card(3,12) > Card(3,11)\n",
    "@test Card(3, 4) ≥ Card(3,4)"
   ]
  },
  {
   "cell_type": "markdown",
   "metadata": {},
   "source": [
    "Tests that the expression after `@test` evaluates to `true`. Returns a `\"Test Passed\"` if it does, a `\"Test Failed\"` if it is `false`, and an `\"Error Result\"` if it could not be evaluated."
   ]
  },
  {
   "cell_type": "markdown",
   "metadata": {
    "slideshow": {
     "slide_type": "slide"
    }
   },
   "source": [
    "# Decks\n",
    "\n",
    "Now that we have Cards, the next step is to define Decks. Since a deck is made up of cards, it is natural for each Deck to contain an array of cards as an attribute.\n",
    "\n",
    "The following is a class definition for `Deck`. The constructor creates the attribute cards and generates the standard set of fifty-two cards:"
   ]
  },
  {
   "cell_type": "code",
   "execution_count": 16,
   "metadata": {},
   "outputs": [],
   "source": [
    "struct Deck\n",
    "    cards :: Array{Card, 1}\n",
    "    function Deck()\n",
    "        deck = new(Card[])\n",
    "        for suit in 1:4\n",
    "            for rank in 1:13\n",
    "                push!(deck.cards, Card(suit, rank))\n",
    "            end\n",
    "        end\n",
    "        deck\n",
    "    end\n",
    "end"
   ]
  },
  {
   "cell_type": "markdown",
   "metadata": {},
   "source": [
    "The easiest way to populate the deck is with a nested loop. The outer loop enumerates the suits from 1 to 4. The inner loop enumerates the ranks from 1 to 13. Each iteration creates a new `Card` with the current suit and rank, and pushes it to `deck.cards`."
   ]
  },
  {
   "cell_type": "markdown",
   "metadata": {
    "slideshow": {
     "slide_type": "subslide"
    }
   },
   "source": [
    "Here is a `Base.show` method for `Deck`:"
   ]
  },
  {
   "cell_type": "code",
   "execution_count": 17,
   "metadata": {},
   "outputs": [],
   "source": [
    "function Base.show(io::IO, deck::Deck)\n",
    "    for card in deck.cards\n",
    "        println(io, card)\n",
    "    end\n",
    "end"
   ]
  },
  {
   "cell_type": "markdown",
   "metadata": {},
   "source": [
    "Here’s what the result looks like:"
   ]
  },
  {
   "cell_type": "code",
   "execution_count": 30,
   "metadata": {},
   "outputs": [
    {
     "name": "stdout",
     "output_type": "stream",
     "text": [
      "Ace of Clubs\n",
      "2 of Clubs\n",
      "3 of Clubs\n",
      "4 of Clubs\n",
      "5 of Clubs\n",
      "6 of Clubs\n",
      "7 of Clubs\n",
      "8 of Clubs\n",
      "9 of Clubs\n",
      "10 of Clubs\n",
      "Jack of Clubs\n",
      "Queen of Clubs\n",
      "King of Clubs\n",
      "Ace of Diamonds\n",
      "2 of Diamonds\n",
      "3 of Diamonds\n",
      "4 of Diamonds\n",
      "5 of Diamonds\n",
      "6 of Diamonds\n",
      "7 of Diamonds\n",
      "8 of Diamonds\n",
      "9 of Diamonds\n",
      "10 of Diamonds\n",
      "Jack of Diamonds\n",
      "Queen of Diamonds\n",
      "King of Diamonds\n",
      "Ace of Hearts\n",
      "2 of Hearts\n",
      "3 of Hearts\n",
      "4 of Hearts\n",
      "5 of Hearts\n",
      "6 of Hearts\n",
      "7 of Hearts\n",
      "8 of Hearts\n",
      "9 of Hearts\n",
      "10 of Hearts\n",
      "Jack of Hearts\n",
      "Queen of Hearts\n",
      "King of Hearts\n",
      "Ace of Spades\n",
      "2 of Spades\n",
      "3 of Spades\n",
      "4 of Spades\n",
      "5 of Spades\n",
      "6 of Spades\n",
      "7 of Spades\n",
      "8 of Spades\n",
      "9 of Spades\n",
      "10 of Spades\n",
      "Jack of Spades\n",
      "Queen of Spades\n",
      "King of Spades\n",
      "\n"
     ]
    }
   ],
   "source": [
    "deck = Deck()\n",
    "println(deck)"
   ]
  },
  {
   "cell_type": "markdown",
   "metadata": {
    "slideshow": {
     "slide_type": "slide"
    }
   },
   "source": [
    "# Add, remove, shuffle and sort\n",
    "\n",
    "To deal cards, we would like a method that removes a card from the deck and returns it. The array method `pop!` provides a convenient way to do that:"
   ]
  },
  {
   "cell_type": "code",
   "execution_count": 19,
   "metadata": {},
   "outputs": [
    {
     "data": {
      "text/plain": [
       "pop_card! (generic function with 1 method)"
      ]
     },
     "execution_count": 19,
     "metadata": {},
     "output_type": "execute_result"
    }
   ],
   "source": [
    "function pop_card!(deck::Deck)\n",
    "   pop!(deck.cards) \n",
    "end"
   ]
  },
  {
   "cell_type": "markdown",
   "metadata": {},
   "source": [
    "Since `pop!` removes the last card in the array, we are dealing from the bottom of the deck."
   ]
  },
  {
   "cell_type": "markdown",
   "metadata": {
    "slideshow": {
     "slide_type": "subslide"
    }
   },
   "source": [
    "To add a card, we can use the array method `push!`:"
   ]
  },
  {
   "cell_type": "code",
   "execution_count": 32,
   "metadata": {},
   "outputs": [
    {
     "data": {
      "text/plain": [
       "add_card! (generic function with 1 method)"
      ]
     },
     "execution_count": 32,
     "metadata": {},
     "output_type": "execute_result"
    }
   ],
   "source": [
    "function add_card!(deck::Deck, card::Card)\n",
    "    push!(deck.cards, card)\n",
    "    nothing\n",
    "end"
   ]
  },
  {
   "cell_type": "markdown",
   "metadata": {},
   "source": [
    "A method like this that uses another method without doing much work is sometimes called a veneer. The metaphor comes from woodworking, where a veneer is a thin layer of good quality wood glued to the surface of a cheaper piece of wood to improve the appearance.\n",
    "\n",
    "In this case `add_card!` is a “thin” method that expresses a list operation in terms appropriate for decks. It improves the appearance, or interface, of the implementation."
   ]
  },
  {
   "cell_type": "markdown",
   "metadata": {
    "slideshow": {
     "slide_type": "subslide"
    }
   },
   "source": [
    "As another example, we can write a method named `shuffle_deck!` using the function `shuffle!`:"
   ]
  },
  {
   "cell_type": "code",
   "execution_count": 34,
   "metadata": {},
   "outputs": [
    {
     "data": {
      "text/plain": [
       "shuffle_deck! (generic function with 1 method)"
      ]
     },
     "execution_count": 34,
     "metadata": {},
     "output_type": "execute_result"
    }
   ],
   "source": [
    "function shuffle_deck!(deck::Deck)\n",
    "    shuffle!(deck.cards)\n",
    "    nothing\n",
    "end"
   ]
  },
  {
   "cell_type": "markdown",
   "metadata": {},
   "source": [
    "Write a method named `sort_deck!` that uses the function `sort!` to sort the cards in a `Deck`. `sort!` uses the `Base.isless` method we defined to determine the order."
   ]
  },
  {
   "cell_type": "code",
   "execution_count": 35,
   "metadata": {
    "slideshow": {
     "slide_type": "subslide"
    }
   },
   "outputs": [
    {
     "data": {
      "text/plain": [
       "sort_deck! (generic function with 1 method)"
      ]
     },
     "execution_count": 35,
     "metadata": {},
     "output_type": "execute_result"
    }
   ],
   "source": [
    "function sort_deck!(deck::Deck)\n",
    "    sort!(deck.cards)\n",
    "    nothing\n",
    "end"
   ]
  },
  {
   "cell_type": "markdown",
   "metadata": {},
   "source": [
    "We can now check these functions:"
   ]
  },
  {
   "cell_type": "code",
   "execution_count": 38,
   "metadata": {
    "slideshow": {
     "slide_type": "subslide"
    }
   },
   "outputs": [
    {
     "name": "stdout",
     "output_type": "stream",
     "text": [
      "King of Spades\n"
     ]
    }
   ],
   "source": [
    "deck = Deck()\n",
    "card = pop_card!(deck)\n",
    "println(card)"
   ]
  },
  {
   "cell_type": "code",
   "execution_count": 39,
   "metadata": {
    "slideshow": {
     "slide_type": "subslide"
    }
   },
   "outputs": [
    {
     "name": "stdout",
     "output_type": "stream",
     "text": [
      "7 of Clubs\n",
      "King of Clubs\n",
      "7 of Hearts\n",
      "5 of Spades\n",
      "4 of Clubs\n",
      "2 of Diamonds\n",
      "3 of Clubs\n",
      "Ace of Diamonds\n",
      "Jack of Clubs\n",
      "Ace of Hearts\n",
      "2 of Clubs\n",
      "10 of Diamonds\n",
      "8 of Hearts\n",
      "10 of Clubs\n",
      "Ace of Clubs\n",
      "King of Diamonds\n",
      "3 of Diamonds\n",
      "6 of Diamonds\n",
      "Queen of Spades\n",
      "8 of Spades\n",
      "4 of Diamonds\n",
      "Jack of Spades\n",
      "8 of Diamonds\n",
      "3 of Spades\n",
      "2 of Hearts\n",
      "5 of Diamonds\n",
      "Queen of Hearts\n",
      "5 of Hearts\n",
      "6 of Clubs\n",
      "4 of Hearts\n",
      "8 of Clubs\n",
      "6 of Spades\n",
      "4 of Spades\n",
      "3 of Hearts\n",
      "9 of Hearts\n",
      "7 of Diamonds\n",
      "9 of Diamonds\n",
      "9 of Spades\n",
      "5 of Clubs\n",
      "Queen of Clubs\n",
      "6 of Hearts\n",
      "Jack of Hearts\n",
      "9 of Clubs\n",
      "King of Hearts\n",
      "2 of Spades\n",
      "Jack of Diamonds\n",
      "10 of Spades\n",
      "7 of Spades\n",
      "10 of Hearts\n",
      "Ace of Spades\n",
      "Queen of Diamonds\n",
      "\n"
     ]
    }
   ],
   "source": [
    "shuffle_deck!(deck)\n",
    "println(deck)"
   ]
  },
  {
   "cell_type": "code",
   "execution_count": 40,
   "metadata": {
    "slideshow": {
     "slide_type": "subslide"
    }
   },
   "outputs": [
    {
     "name": "stdout",
     "output_type": "stream",
     "text": [
      "Ace of Clubs\n",
      "2 of Clubs\n",
      "3 of Clubs\n",
      "4 of Clubs\n",
      "5 of Clubs\n",
      "6 of Clubs\n",
      "7 of Clubs\n",
      "8 of Clubs\n",
      "9 of Clubs\n",
      "10 of Clubs\n",
      "Jack of Clubs\n",
      "Queen of Clubs\n",
      "King of Clubs\n",
      "Ace of Diamonds\n",
      "2 of Diamonds\n",
      "3 of Diamonds\n",
      "4 of Diamonds\n",
      "5 of Diamonds\n",
      "6 of Diamonds\n",
      "7 of Diamonds\n",
      "8 of Diamonds\n",
      "9 of Diamonds\n",
      "10 of Diamonds\n",
      "Jack of Diamonds\n",
      "Queen of Diamonds\n",
      "King of Diamonds\n",
      "Ace of Hearts\n",
      "2 of Hearts\n",
      "3 of Hearts\n",
      "4 of Hearts\n",
      "5 of Hearts\n",
      "6 of Hearts\n",
      "7 of Hearts\n",
      "8 of Hearts\n",
      "9 of Hearts\n",
      "10 of Hearts\n",
      "Jack of Hearts\n",
      "Queen of Hearts\n",
      "King of Hearts\n",
      "Ace of Spades\n",
      "2 of Spades\n",
      "3 of Spades\n",
      "4 of Spades\n",
      "5 of Spades\n",
      "6 of Spades\n",
      "7 of Spades\n",
      "8 of Spades\n",
      "9 of Spades\n",
      "10 of Spades\n",
      "Jack of Spades\n",
      "Queen of Spades\n",
      "King of Spades\n",
      "\n"
     ]
    }
   ],
   "source": [
    "add_card!(deck, card)\n",
    "sort_deck!(deck)\n",
    "println(deck)"
   ]
  },
  {
   "cell_type": "markdown",
   "metadata": {
    "slideshow": {
     "slide_type": "slide"
    }
   },
   "source": [
    "# Abstract types\n",
    "\n",
    "We want a class to represent a “hand”, that is, the cards held by one player. A hand is similar to a deck: both are made up of a collection of cards, and both require operations like adding and removing cards.\n",
    "\n",
    "A hand is also different from a deck; there are operations we want for hands that don’t make sense for a deck. For example, in poker we might compare two hands to see which one wins. In bridge, we might compute a score for a hand in order to make a bid.\n",
    "\n",
    "So we need a way to group related *concrete types*. In Julia this is done by defining an *abstract type* that serves as a parent in a type graph for both `Deck` and `Hand`."
   ]
  },
  {
   "cell_type": "markdown",
   "metadata": {
    "slideshow": {
     "slide_type": "subslide"
    }
   },
   "source": [
    "Let's call this abstract type `CardSet`:"
   ]
  },
  {
   "cell_type": "code",
   "execution_count": 1,
   "metadata": {},
   "outputs": [],
   "source": [
    "abstract type CardSet <: Any end"
   ]
  },
  {
   "cell_type": "markdown",
   "metadata": {},
   "source": [
    "The `abstract type` keyword introduces a new abstract type. The name can be optionally followed by `<:` and an already-existing abstract type, indicating that the newly declared abstract type is a subtype of this \"parent\" type.\n",
    "\n",
    "When no supertype is given, the default supertype is `Any` – a predefined abstract type that all objects are instances of and all types are subtypes of."
   ]
  },
  {
   "cell_type": "markdown",
   "metadata": {
    "slideshow": {
     "slide_type": "subslide"
    }
   },
   "source": [
    "We can now express that `Deck` is a descendant of `CardSet`. First we have now to restart the kernel and run the following code:"
   ]
  },
  {
   "cell_type": "code",
   "execution_count": 2,
   "metadata": {},
   "outputs": [],
   "source": [
    "struct Card\n",
    "    suit :: Int\n",
    "    rank :: Int\n",
    "    function Card(suit::Int, rank::Int)\n",
    "        @assert(1 ≤ suit ≤ 4, \"suit is between 1 and 4\")\n",
    "        @assert(1 ≤ rank ≤ 13, \"rank is between 1 and 13\")\n",
    "        new(suit, rank)\n",
    "    end\n",
    "end\n",
    "\n",
    "const suit_names = [\"Clubs\", \"Diamonds\", \"Hearts\", \"Spades\"]\n",
    "const rank_names = [\"Ace\", \"2\", \"3\", \"4\", \"5\", \"6\", \"7\", \n",
    "              \"8\", \"9\", \"10\", \"Jack\", \"Queen\", \"King\"];\n",
    "\n",
    "function Base.show(io::IO, card::Card)\n",
    "    print(io, rank_names[card.rank], \" of \", suit_names[card.suit])\n",
    "end\n",
    "\n",
    "function Base.isless(c1::Card, c2::Card)\n",
    "    isless((c1.suit, c1.rank), (c2.suit, c2.rank))\n",
    "end"
   ]
  },
  {
   "cell_type": "markdown",
   "metadata": {
    "slideshow": {
     "slide_type": "subslide"
    }
   },
   "source": [
    "After the name of the struct we put `<:` and the name of the abstract type that is the \"parent\":"
   ]
  },
  {
   "cell_type": "code",
   "execution_count": 3,
   "metadata": {
    "slideshow": {
     "slide_type": "-"
    }
   },
   "outputs": [],
   "source": [
    "struct Deck <: CardSet\n",
    "    cards :: Array{Card, 1}\n",
    "    function Deck()\n",
    "        deck = new(Card[])\n",
    "        for suit in 1:4\n",
    "            for rank in 1:13\n",
    "                push!(deck.cards, Card(suit, rank))\n",
    "            end\n",
    "        end\n",
    "        deck\n",
    "    end\n",
    "end"
   ]
  },
  {
   "cell_type": "markdown",
   "metadata": {},
   "source": [
    "The operator `isa` checks whether an object is of a given type:"
   ]
  },
  {
   "cell_type": "code",
   "execution_count": 4,
   "metadata": {},
   "outputs": [
    {
     "data": {
      "text/plain": [
       "true"
      ]
     },
     "execution_count": 4,
     "metadata": {},
     "output_type": "execute_result"
    }
   ],
   "source": [
    "deck = Deck()\n",
    "deck isa CardSet"
   ]
  },
  {
   "cell_type": "markdown",
   "metadata": {
    "slideshow": {
     "slide_type": "subslide"
    }
   },
   "source": [
    "A hand is also a kind of `CardSet`:"
   ]
  },
  {
   "cell_type": "code",
   "execution_count": 5,
   "metadata": {},
   "outputs": [],
   "source": [
    "struct Hand <: CardSet\n",
    "    cards :: Array{Card, 1}\n",
    "    label :: String\n",
    "    function Hand(label::String=\"\")\n",
    "        new(Card[], label)\n",
    "    end\n",
    "end"
   ]
  },
  {
   "cell_type": "markdown",
   "metadata": {},
   "source": [
    "Instead of populating the hand with 52 new cards, the constructor for `Hand` initializes `cards` with an empty array. An optional argument can be passed to the constructor giving a `label` to the `Hand`."
   ]
  },
  {
   "cell_type": "code",
   "execution_count": 6,
   "metadata": {},
   "outputs": [
    {
     "data": {
      "text/plain": [
       "0-element Array{Card,1}"
      ]
     },
     "execution_count": 6,
     "metadata": {},
     "output_type": "execute_result"
    }
   ],
   "source": [
    "hand = Hand(\"new hand\")\n",
    "hand.cards"
   ]
  },
  {
   "cell_type": "markdown",
   "metadata": {
    "slideshow": {
     "slide_type": "slide"
    }
   },
   "source": [
    "# Methods\n",
    "\n",
    "We can now express the common operations between `Deck` and `Hand` as methods having as argument `CardSet`:"
   ]
  },
  {
   "cell_type": "code",
   "execution_count": 22,
   "metadata": {},
   "outputs": [
    {
     "data": {
      "text/plain": [
       "add_card! (generic function with 1 method)"
      ]
     },
     "execution_count": 22,
     "metadata": {},
     "output_type": "execute_result"
    }
   ],
   "source": [
    "function Base.show(io::IO, cs::CardSet)\n",
    "    for card in cs.cards\n",
    "        println(io, card)\n",
    "    end\n",
    "end\n",
    "\n",
    "function pop_card!(cs::CardSet)\n",
    "   pop!(cs.cards) \n",
    "end\n",
    "\n",
    "function add_card!(cs::CardSet, card::Card)\n",
    "    push!(cs.cards, card)\n",
    "    nothing\n",
    "end"
   ]
  },
  {
   "cell_type": "markdown",
   "metadata": {
    "slideshow": {
     "slide_type": "subslide"
    }
   },
   "source": [
    "Shuffle is only applicable to `Deck`:"
   ]
  },
  {
   "cell_type": "code",
   "execution_count": 19,
   "metadata": {},
   "outputs": [
    {
     "data": {
      "text/plain": [
       "show (generic function with 2 methods)"
      ]
     },
     "execution_count": 19,
     "metadata": {},
     "output_type": "execute_result"
    }
   ],
   "source": [
    "function shuffle_deck!(deck::Deck)\n",
    "    shuffle!(deck.cards)\n",
    "    nothing\n",
    "end"
   ]
  },
  {
   "cell_type": "markdown",
   "metadata": {},
   "source": [
    "Sort is only useful for `Hand`:"
   ]
  },
  {
   "cell_type": "code",
   "execution_count": 20,
   "metadata": {},
   "outputs": [
    {
     "data": {
      "text/plain": [
       "show (generic function with 3 methods)"
      ]
     },
     "execution_count": 20,
     "metadata": {},
     "output_type": "execute_result"
    }
   ],
   "source": [
    "function sort_hand!(hand::Hand)\n",
    "    sort!(hand.cards)\n",
    "    nothing\n",
    "end"
   ]
  },
  {
   "cell_type": "markdown",
   "metadata": {
    "slideshow": {
     "slide_type": "subslide"
    }
   },
   "source": [
    "We can use `pop_card` and `add_card` to deal a card:"
   ]
  },
  {
   "cell_type": "code",
   "execution_count": 23,
   "metadata": {},
   "outputs": [
    {
     "name": "stdout",
     "output_type": "stream",
     "text": [
      "10 of Hearts\n",
      "6 of Clubs\n",
      "2 of Hearts\n",
      "7 of Hearts\n",
      "\n"
     ]
    }
   ],
   "source": [
    "deck = Deck()\n",
    "shuffle_deck!(deck)\n",
    "card = pop_card!(deck)\n",
    "add_card!(hand, card)\n",
    "println(hand)"
   ]
  },
  {
   "cell_type": "markdown",
   "metadata": {
    "slideshow": {
     "slide_type": "subslide"
    }
   },
   "source": [
    "A natural next step is to encapsulate this code in a method called `move_cards!`:"
   ]
  },
  {
   "cell_type": "code",
   "execution_count": 24,
   "metadata": {},
   "outputs": [
    {
     "data": {
      "text/plain": [
       "move_card! (generic function with 1 method)"
      ]
     },
     "execution_count": 24,
     "metadata": {},
     "output_type": "execute_result"
    }
   ],
   "source": [
    "function move_cards!(cs1::CardSet, cs2::CardSet, n::Int)\n",
    "    @assert 1 ≤ n ≤ length(cs1.cards)\n",
    "    for i in 1:n\n",
    "        card = pop_card!(cs1)\n",
    "        add_card!(cs2, card)\n",
    "    end\n",
    "    nothing\n",
    "end"
   ]
  },
  {
   "cell_type": "markdown",
   "metadata": {},
   "source": [
    "`deal_cards!` takes three arguments, two `CardSet` objects and the number of cards to deal. It modifies both `CardSet` objects, and returns `nothing`.\n",
    "\n",
    "In some games, cards are moved from one hand to another, or from a hand back to the deck. You can use `move_cards!` for any of these operations: `cs1` and `cs2` can be either a `Deck` or a `Hand`."
   ]
  },
  {
   "cell_type": "markdown",
   "metadata": {
    "slideshow": {
     "slide_type": "slide"
    }
   },
   "source": [
    "# Type diagrams\n",
    "\n",
    "So far we have seen stack diagrams, which show the state of a program, and object diagrams, which show the attributes of an object and their values. These diagrams represent a snapshot in the execution of a program, so they change as the program runs.\n",
    "\n",
    "They are also highly detailed; for some purposes, too detailed. A *type diagram* is a more abstract representation of the structure of a program. Instead of showing individual objects, it shows types and the relationships between them."
   ]
  },
  {
   "cell_type": "markdown",
   "metadata": {
    "slideshow": {
     "slide_type": "subslide"
    }
   },
   "source": [
    "There are several kinds of relationship between types:\n",
    "\n",
    "- Objects of a concrete type might contain references to objects of another type. For example, each `Rectangle` contains a reference to a `Point`, and each `Deck` contains references to an array of `Card`s. This kind of relationship is called *HAS-A*, as in, “a `Rectangle` has a `Point`.\n",
    "\n",
    "- One type might inherit from an abstract type. This relationship is called *IS-A*, as in, “a `Hand` is a kind of a `CardSet`.”\n",
    "\n",
    "- One type might depend on another in the sense that objects of one type take objects of the second type as parameters, or use objects of the second type as part of a computation. This kind of relationship is called a *dependency*."
   ]
  },
  {
   "cell_type": "code",
   "execution_count": 70,
   "metadata": {
    "hideCode": true,
    "hidePrompt": true,
    "slideshow": {
     "slide_type": "subslide"
    }
   },
   "outputs": [
    {
     "data": {
      "image/svg+xml": [
       "<?xml version=\"1.0\" encoding=\"UTF-8\"?>\n",
       "<svg xmlns=\"http://www.w3.org/2000/svg\" xmlns:xlink=\"http://www.w3.org/1999/xlink\" width=\"483.085pt\" height=\"284.66pt\" viewBox=\"0 0 483.085 284.66\" version=\"1.1\">\n",
       "<defs>\n",
       "<g>\n",
       "<symbol overflow=\"visible\" id=\"glyph-1518428330974452-0-0\">\n",
       "<path style=\"stroke:none;\" d=\"\"/>\n",
       "</symbol>\n",
       "<symbol overflow=\"visible\" id=\"glyph-1518428330974452-0-1\">\n",
       "<path style=\"stroke:none;\" d=\"M 11.6875 -0.890625 L 11.578125 -2.265625 C 11 -1.875 10.421875 -1.5 9.734375 -1.296875 C 9.109375 -1.078125 8.40625 -1.0625 7.734375 -1.0625 C 6.4375 -1.0625 5.265625 -1.75 4.4375 -2.765625 C 3.53125 -3.9375 3.09375 -5.421875 3.09375 -6.90625 C 3.09375 -8.40625 3.53125 -9.90625 4.4375 -11.078125 C 5.265625 -12.09375 6.4375 -12.796875 7.734375 -12.796875 C 8.328125 -12.796875 8.9375 -12.734375 9.515625 -12.546875 C 10.125 -12.375 10.671875 -12.078125 11.203125 -11.71875 L 11.46875 -13.34375 C 10.875 -13.59375 10.265625 -13.78125 9.625 -13.90625 C 9 -14.03125 8.359375 -14.0625 7.734375 -14.0625 C 5.96875 -14.0625 4.359375 -13.265625 3.1875 -11.96875 C 1.953125 -10.578125 1.3125 -8.765625 1.3125 -6.90625 C 1.3125 -5.0625 1.953125 -3.25 3.1875 -1.875 C 4.359375 -0.578125 5.96875 0.21875 7.734375 0.21875 C 8.421875 0.21875 9.125 0.203125 9.796875 0 C 10.484375 -0.171875 11.09375 -0.53125 11.6875 -0.890625 Z M 11.6875 -0.890625 \"/>\n",
       "</symbol>\n",
       "<symbol overflow=\"visible\" id=\"glyph-1518428330974452-0-2\">\n",
       "<path style=\"stroke:none;\" d=\"M 8.140625 0 L 8.140625 -5.75 C 8.140625 -7.796875 6.6875 -9.1875 4.859375 -9.1875 C 3.5625 -9.1875 2.671875 -8.859375 1.734375 -8.328125 L 1.859375 -7.015625 C 2.890625 -7.75 3.890625 -8.015625 4.859375 -8.015625 C 5.796875 -8.015625 6.59375 -7.21875 6.59375 -5.734375 L 6.59375 -4.875 C 3.609375 -4.84375 1.078125 -4 1.078125 -2.25 C 1.078125 -1.390625 1.609375 0.21875 3.34375 0.21875 C 3.625 0.21875 5.5 0.171875 6.65625 -0.71875 L 6.65625 0 Z M 6.59375 -2.625 C 6.59375 -2.25 6.59375 -1.75 5.921875 -1.375 C 5.34375 -1.015625 4.578125 -1 4.359375 -1 C 3.40625 -1 2.515625 -1.453125 2.515625 -2.296875 C 2.515625 -3.6875 5.734375 -3.828125 6.59375 -3.859375 Z M 6.59375 -2.625 \"/>\n",
       "</symbol>\n",
       "<symbol overflow=\"visible\" id=\"glyph-1518428330974452-0-3\">\n",
       "<path style=\"stroke:none;\" d=\"M 6.515625 -7.734375 L 6.515625 -9.0625 C 4.734375 -9.046875 3.640625 -8.0625 3.03125 -7.15625 L 3.03125 -8.96875 L 1.640625 -8.96875 L 1.640625 0 L 3.125 0 L 3.125 -4.265625 C 3.125 -6.25 4.5625 -7.6875 6.515625 -7.734375 Z M 6.515625 -7.734375 \"/>\n",
       "</symbol>\n",
       "<symbol overflow=\"visible\" id=\"glyph-1518428330974452-0-4\">\n",
       "<path style=\"stroke:none;\" d=\"M 8.640625 0 L 8.640625 -13.828125 L 7.15625 -13.828125 L 7.15625 -7.96875 C 6.09375 -8.84375 4.984375 -9.0625 4.25 -9.0625 C 2.265625 -9.0625 0.71875 -7 0.71875 -4.421875 C 0.71875 -1.8125 2.25 0.21875 4.140625 0.21875 C 4.796875 0.21875 5.96875 0.046875 7.09375 -1.03125 L 7.09375 0 Z M 7.09375 -2.765625 C 7.09375 -2.484375 7.078125 -2.125 6.4375 -1.546875 C 5.96875 -1.15625 5.484375 -1 4.953125 -1 C 3.71875 -1 2.265625 -1.9375 2.265625 -4.40625 C 2.265625 -7.03125 3.984375 -7.84375 5.15625 -7.84375 C 6.0625 -7.84375 6.65625 -7.390625 7.09375 -6.75 Z M 7.09375 -2.765625 \"/>\n",
       "</symbol>\n",
       "<symbol overflow=\"visible\" id=\"glyph-1518428330974452-0-5\">\n",
       "<path style=\"stroke:none;\" d=\"M 9.9375 -3.765625 C 9.9375 -5.0625 9.328125 -6.015625 8.890625 -6.5 C 7.953125 -7.484375 7.296875 -7.671875 5.453125 -8.125 C 4.296875 -8.40625 3.984375 -8.484375 3.390625 -9 C 3.25 -9.125 2.6875 -9.703125 2.6875 -10.578125 C 2.6875 -11.75 3.765625 -12.953125 5.59375 -12.953125 C 7.265625 -12.953125 8.234375 -12.296875 8.96875 -11.671875 L 9.265625 -13.265625 C 8.171875 -13.921875 7.078125 -14.265625 5.625 -14.265625 C 2.84375 -14.265625 1.109375 -12.3125 1.109375 -10.34375 C 1.109375 -9.484375 1.390625 -8.640625 2.1875 -7.8125 C 3.03125 -6.90625 3.90625 -6.671875 5.078125 -6.390625 C 6.765625 -5.96875 6.96875 -5.921875 7.53125 -5.421875 C 7.921875 -5.078125 8.359375 -4.421875 8.359375 -3.5625 C 8.359375 -2.25 7.265625 -0.9375 5.453125 -0.9375 C 4.640625 -0.9375 2.84375 -1.140625 1.171875 -2.546875 L 0.875 -0.9375 C 2.625 0.15625 4.21875 0.4375 5.484375 0.4375 C 8.109375 0.4375 9.9375 -1.578125 9.9375 -3.765625 Z M 9.9375 -3.765625 \"/>\n",
       "</symbol>\n",
       "<symbol overflow=\"visible\" id=\"glyph-1518428330974452-0-6\">\n",
       "<path style=\"stroke:none;\" d=\"M 8.25 -4.359375 C 8.25 -5.046875 8.234375 -6.53125 7.453125 -7.734375 C 6.640625 -8.96875 5.421875 -9.1875 4.703125 -9.1875 C 2.484375 -9.1875 0.703125 -7.078125 0.703125 -4.5 C 0.703125 -1.875 2.609375 0.21875 5 0.21875 C 6.25 0.21875 7.390625 -0.265625 8.171875 -0.8125 L 8.046875 -2.109375 C 6.796875 -1.078125 5.484375 -1 5.015625 -1 C 3.421875 -1 2.15625 -2.40625 2.09375 -4.359375 Z M 7.109375 -5.453125 L 2.1875 -5.453125 C 2.515625 -6.96875 3.5625 -7.96875 4.703125 -7.96875 C 5.734375 -7.96875 6.859375 -7.296875 7.109375 -5.453125 Z M 7.109375 -5.453125 \"/>\n",
       "</symbol>\n",
       "<symbol overflow=\"visible\" id=\"glyph-1518428330974452-0-7\">\n",
       "<path style=\"stroke:none;\" d=\"M 6.609375 -0.53125 L 6.296875 -1.71875 C 5.78125 -1.296875 5.140625 -1.0625 4.5 -1.0625 C 3.765625 -1.0625 3.484375 -1.65625 3.484375 -2.703125 L 3.484375 -7.6875 L 6.296875 -7.6875 L 6.296875 -8.84375 L 3.484375 -8.84375 L 3.484375 -11.375 L 2.109375 -11.375 L 2.109375 -8.84375 L 0.375 -8.84375 L 0.375 -7.6875 L 2.046875 -7.6875 L 2.046875 -2.375 C 2.046875 -1.171875 2.328125 0.21875 3.703125 0.21875 C 5.09375 0.21875 6.109375 -0.28125 6.609375 -0.53125 Z M 6.609375 -0.53125 \"/>\n",
       "</symbol>\n",
       "<symbol overflow=\"visible\" id=\"glyph-1518428330974452-0-8\">\n",
       "<path style=\"stroke:none;\" d=\"M 13.25 -6.796875 C 13.25 -10.65625 10.5625 -13.828125 7.125 -13.828125 L 1.90625 -13.828125 L 1.90625 0 L 7.15625 0 C 10.53125 0 13.25 -3.03125 13.25 -6.796875 Z M 11.53125 -6.796875 C 11.53125 -3.40625 9.46875 -1.109375 6.671875 -1.109375 L 3.625 -1.109375 L 3.625 -12.703125 L 6.671875 -12.703125 C 9.46875 -12.703125 11.53125 -10.296875 11.53125 -6.796875 Z M 11.53125 -6.796875 \"/>\n",
       "</symbol>\n",
       "<symbol overflow=\"visible\" id=\"glyph-1518428330974452-0-9\">\n",
       "<path style=\"stroke:none;\" d=\"M 8.265625 -0.796875 L 8.140625 -2.125 C 7.125 -1.328125 6.0625 -1.0625 5.046875 -1.0625 C 3.390625 -1.0625 2.265625 -2.484375 2.265625 -4.4375 C 2.265625 -6 3.015625 -7.90625 5.125 -7.90625 C 6.15625 -7.90625 6.828125 -7.75 7.921875 -7.03125 L 8.171875 -8.328125 C 7 -9 6.3125 -9.1875 5.09375 -9.1875 C 2.328125 -9.1875 0.71875 -6.765625 0.71875 -4.421875 C 0.71875 -1.953125 2.53125 0.21875 5.015625 0.21875 C 6.09375 0.21875 7.1875 -0.0625 8.265625 -0.796875 Z M 8.265625 -0.796875 \"/>\n",
       "</symbol>\n",
       "<symbol overflow=\"visible\" id=\"glyph-1518428330974452-0-10\">\n",
       "<path style=\"stroke:none;\" d=\"M 9.390625 0 L 5.59375 -5.421875 L 8.9375 -8.84375 L 7.15625 -8.84375 L 3.109375 -4.703125 L 3.109375 -13.828125 L 1.671875 -13.828125 L 1.671875 0 L 3.046875 0 L 3.046875 -2.8125 L 4.640625 -4.46875 L 7.75 0 Z M 9.390625 0 \"/>\n",
       "</symbol>\n",
       "<symbol overflow=\"visible\" id=\"glyph-1518428330974452-0-11\">\n",
       "<path style=\"stroke:none;\" d=\"M 12.21875 0 L 12.21875 -13.828125 L 10.4375 -13.828125 L 10.4375 -7.796875 L 3.640625 -7.796875 L 3.640625 -13.828125 L 1.875 -13.828125 L 1.875 0 L 3.640625 0 L 3.640625 -6.578125 L 10.4375 -6.578125 L 10.4375 0 Z M 12.21875 0 \"/>\n",
       "</symbol>\n",
       "<symbol overflow=\"visible\" id=\"glyph-1518428330974452-0-12\">\n",
       "<path style=\"stroke:none;\" d=\"M 8.671875 0 L 8.671875 -5.9375 C 8.671875 -7.25 8.359375 -9.0625 5.9375 -9.0625 C 4.140625 -9.0625 3.171875 -7.703125 3.046875 -7.546875 L 3.046875 -8.96875 L 1.609375 -8.96875 L 1.609375 0 L 3.171875 0 L 3.171875 -4.875 C 3.171875 -6.203125 3.671875 -7.84375 5.171875 -7.84375 C 7.09375 -7.84375 7.109375 -6.4375 7.109375 -5.796875 L 7.109375 0 Z M 8.671875 0 \"/>\n",
       "</symbol>\n",
       "<symbol overflow=\"visible\" id=\"glyph-1518428330974452-0-13\">\n",
       "<path style=\"stroke:none;\" d=\"M 8.671875 -8.6875 C 8.671875 -8.921875 8.5625 -9.109375 8.390625 -9.21875 C 8.25 -9.328125 7.59375 -9.640625 5.96875 -10.515625 L 8.140625 -11.6875 C 8.46875 -11.875 8.671875 -11.96875 8.671875 -12.34375 C 8.671875 -12.828125 8.265625 -13.0625 7.984375 -13.0625 C 7.765625 -13.0625 7.6875 -13.015625 7.40625 -12.8125 L 5.5 -11.46875 C 5.53125 -12.078125 5.65625 -13.75 5.65625 -14.25 C 5.65625 -14.78125 5.21875 -14.9375 4.984375 -14.9375 C 4.65625 -14.9375 4.28125 -14.734375 4.28125 -14.25 C 4.28125 -13.75 4.40625 -12.078125 4.4375 -11.46875 L 2.484375 -12.84375 C 2.1875 -13.0625 2.046875 -13.0625 1.953125 -13.0625 C 1.671875 -13.0625 1.28125 -12.828125 1.28125 -12.34375 C 1.28125 -12.109375 1.375 -11.9375 1.546875 -11.8125 C 1.6875 -11.71875 2.34375 -11.390625 3.96875 -10.515625 L 1.796875 -9.34375 C 1.46875 -9.15625 1.28125 -9.0625 1.28125 -8.6875 C 1.28125 -8.203125 1.671875 -7.96875 1.953125 -7.96875 C 2.171875 -7.96875 2.25 -8.03125 2.53125 -8.234375 L 4.4375 -9.5625 C 4.40625 -8.96875 4.28125 -7.296875 4.28125 -6.796875 C 4.28125 -6.25 4.71875 -6.09375 4.953125 -6.09375 C 5.28125 -6.09375 5.65625 -6.296875 5.65625 -6.796875 C 5.65625 -7.296875 5.53125 -8.96875 5.5 -9.5625 L 7.34375 -8.28125 C 7.6875 -8.03125 7.765625 -7.96875 7.984375 -7.96875 C 8.265625 -7.96875 8.671875 -8.203125 8.671875 -8.6875 Z M 8.671875 -8.6875 \"/>\n",
       "</symbol>\n",
       "</g>\n",
       "<clipPath id=\"clip-1518428330974452-1\">\n",
       "  <path d=\"M 340 113 L 483.085938 113 L 483.085938 172 L 340 172 Z M 340 113 \"/>\n",
       "</clipPath>\n",
       "<clipPath id=\"clip-1518428330974452-2\">\n",
       "  <path d=\"M 170 227 L 313 227 L 313 284.660156 L 170 284.660156 Z M 170 227 \"/>\n",
       "</clipPath>\n",
       "<clipPath id=\"clip-1518428330974452-3\">\n",
       "  <path d=\"M 170 226 L 314 226 L 314 284.660156 L 170 284.660156 Z M 170 226 \"/>\n",
       "</clipPath>\n",
       "</defs>\n",
       "<g id=\"surface1\">\n",
       "<path style=\"fill-rule:nonzero;fill:rgb(75%,75%,75%);fill-opacity:1;stroke-width:1.19553;stroke-linecap:butt;stroke-linejoin:miter;stroke:rgb(0%,0%,0%);stroke-opacity:1;stroke-miterlimit:10;\" d=\"M 70.867156 28.346344 L -70.867219 28.346344 L -70.867219 -28.345062 L 70.867156 -28.345062 Z M 70.867156 28.346344 \" transform=\"matrix(1,0,0,-1,241.543,28.944)\"/>\n",
       "<g style=\"fill:rgb(0%,0%,0%);fill-opacity:1;\">\n",
       "  <use xlink:href=\"#glyph-1518428330974452-0-1\" x=\"208.546\" y=\"35.858\"/>\n",
       "  <use xlink:href=\"#glyph-1518428330974452-0-2\" x=\"221.278254\" y=\"35.858\"/>\n",
       "</g>\n",
       "<g style=\"fill:rgb(0%,0%,0%);fill-opacity:1;\">\n",
       "  <use xlink:href=\"#glyph-1518428330974452-0-3\" x=\"230.304406\" y=\"35.858\"/>\n",
       "  <use xlink:href=\"#glyph-1518428330974452-0-4\" x=\"237.118852\" y=\"35.858\"/>\n",
       "  <use xlink:href=\"#glyph-1518428330974452-0-5\" x=\"247.420221\" y=\"35.858\"/>\n",
       "  <use xlink:href=\"#glyph-1518428330974452-0-6\" x=\"258.498677\" y=\"35.858\"/>\n",
       "  <use xlink:href=\"#glyph-1518428330974452-0-7\" x=\"267.345501\" y=\"35.858\"/>\n",
       "</g>\n",
       "<path style=\"fill-rule:nonzero;fill:rgb(75%,75%,75%);fill-opacity:1;stroke-width:1.19553;stroke-linecap:butt;stroke-linejoin:miter;stroke:rgb(0%,0%,0%);stroke-opacity:1;stroke-miterlimit:10;\" d=\"M -99.214875 -85.040375 L -240.94925 -85.040375 L -240.94925 -141.735687 L -99.214875 -141.735687 Z M -99.214875 -85.040375 \" transform=\"matrix(1,0,0,-1,241.543,28.944)\"/>\n",
       "<g style=\"fill:rgb(0%,0%,0%);fill-opacity:1;\">\n",
       "  <use xlink:href=\"#glyph-1518428330974452-0-8\" x=\"50.552\" y=\"149.135\"/>\n",
       "  <use xlink:href=\"#glyph-1518428330974452-0-6\" x=\"64.938052\" y=\"149.135\"/>\n",
       "  <use xlink:href=\"#glyph-1518428330974452-0-9\" x=\"73.784876\" y=\"149.135\"/>\n",
       "  <use xlink:href=\"#glyph-1518428330974452-0-10\" x=\"82.631701\" y=\"149.135\"/>\n",
       "</g>\n",
       "<path style=\" stroke:none;fill-rule:nonzero;fill:rgb(75%,75%,75%);fill-opacity:1;\" d=\"M 482.492188 113.984375 L 340.757812 113.984375 L 340.757812 170.679688 L 482.492188 170.679688 Z M 482.492188 113.984375 \"/>\n",
       "<g clip-path=\"url(#clip-1518428330974452-1)\" clip-rule=\"nonzero\">\n",
       "<path style=\"fill:none;stroke-width:1.19553;stroke-linecap:butt;stroke-linejoin:miter;stroke:rgb(0%,0%,0%);stroke-opacity:1;stroke-miterlimit:10;\" d=\"M 240.949188 -85.040375 L 99.214813 -85.040375 L 99.214813 -141.735687 L 240.949188 -141.735687 Z M 240.949188 -85.040375 \" transform=\"matrix(1,0,0,-1,241.543,28.944)\"/>\n",
       "</g>\n",
       "<g style=\"fill:rgb(0%,0%,0%);fill-opacity:1;\">\n",
       "  <use xlink:href=\"#glyph-1518428330974452-0-11\" x=\"389.474\" y=\"149.135\"/>\n",
       "  <use xlink:href=\"#glyph-1518428330974452-0-2\" x=\"403.581098\" y=\"149.135\"/>\n",
       "  <use xlink:href=\"#glyph-1518428330974452-0-12\" x=\"413.165158\" y=\"149.135\"/>\n",
       "  <use xlink:href=\"#glyph-1518428330974452-0-4\" x=\"423.466528\" y=\"149.135\"/>\n",
       "</g>\n",
       "<g clip-path=\"url(#clip-1518428330974452-2)\" clip-rule=\"nonzero\">\n",
       "<path style=\" stroke:none;fill-rule:nonzero;fill:rgb(75%,75%,75%);fill-opacity:1;\" d=\"M 312.410156 227.371094 L 170.675781 227.371094 L 170.675781 284.066406 L 312.410156 284.066406 Z M 312.410156 227.371094 \"/>\n",
       "</g>\n",
       "<g clip-path=\"url(#clip-1518428330974452-3)\" clip-rule=\"nonzero\">\n",
       "<path style=\"fill:none;stroke-width:1.19553;stroke-linecap:butt;stroke-linejoin:miter;stroke:rgb(0%,0%,0%);stroke-opacity:1;stroke-miterlimit:10;\" d=\"M 70.867156 -198.427094 L -70.867219 -198.427094 L -70.867219 -255.122406 L 70.867156 -255.122406 Z M 70.867156 -198.427094 \" transform=\"matrix(1,0,0,-1,241.543,28.944)\"/>\n",
       "</g>\n",
       "<g style=\"fill:rgb(0%,0%,0%);fill-opacity:1;\">\n",
       "  <use xlink:href=\"#glyph-1518428330974452-0-1\" x=\"222.105\" y=\"262.64\"/>\n",
       "  <use xlink:href=\"#glyph-1518428330974452-0-2\" x=\"234.837254\" y=\"262.64\"/>\n",
       "</g>\n",
       "<g style=\"fill:rgb(0%,0%,0%);fill-opacity:1;\">\n",
       "  <use xlink:href=\"#glyph-1518428330974452-0-3\" x=\"243.863406\" y=\"262.64\"/>\n",
       "  <use xlink:href=\"#glyph-1518428330974452-0-4\" x=\"250.677852\" y=\"262.64\"/>\n",
       "</g>\n",
       "<path style=\"fill:none;stroke-width:1.19553;stroke-linecap:butt;stroke-linejoin:miter;stroke:rgb(0%,0%,0%);stroke-opacity:1;stroke-miterlimit:10;\" d=\"M -125.769562 -83.845062 L -56.51175 -37.688812 \" transform=\"matrix(1,0,0,-1,241.543,28.944)\"/>\n",
       "<path style=\"fill:none;stroke-width:1.19553;stroke-linecap:butt;stroke-linejoin:miter;stroke:rgb(0%,0%,0%);stroke-opacity:1;stroke-miterlimit:10;\" d=\"M 13.607888 -0.00110723 L 0.596125 6.648744 L 0.59818 0.0013068 L 0.598074 -6.649371 Z M 13.607888 -0.00110723 \" transform=\"matrix(0.83461,-0.55623,-0.55623,-0.83461,184.78273,66.79866)\"/>\n",
       "<path style=\"fill:none;stroke-width:1.19553;stroke-linecap:butt;stroke-linejoin:miter;stroke:rgb(0%,0%,0%);stroke-opacity:1;stroke-miterlimit:10;\" d=\"M 125.773406 -83.845062 L 56.511688 -37.688812 \" transform=\"matrix(1,0,0,-1,241.543,28.944)\"/>\n",
       "<path style=\"fill:none;stroke-width:1.19553;stroke-linecap:butt;stroke-linejoin:miter;stroke:rgb(0%,0%,0%);stroke-opacity:1;stroke-miterlimit:10;\" d=\"M 13.60794 0.00114179 L 0.598126 6.649406 L 0.598232 -0.00127225 L 0.596177 -6.64871 Z M 13.60794 0.00114179 \" transform=\"matrix(-0.83461,-0.55623,-0.55623,0.83461,298.30327,66.79866)\"/>\n",
       "<path style=\"fill:none;stroke-width:1.19553;stroke-linecap:butt;stroke-linejoin:miter;stroke:rgb(0%,0%,0%);stroke-opacity:1;stroke-miterlimit:10;\" d=\"M -125.769562 -142.931 L -45.902375 -196.157562 \" transform=\"matrix(1,0,0,-1,241.543,28.944)\"/>\n",
       "<path style=\"fill:none;stroke-width:1.19553;stroke-linecap:butt;stroke-linejoin:miter;stroke:rgb(0%,0%,0%);stroke-opacity:1;stroke-miterlimit:10;\" d=\"M 0.0000116824 7.473579 L 14.945389 -0.00022739 L -0.0000181785 -7.470733 \" transform=\"matrix(0.83461,0.55623,0.55623,-0.83461,183.66718,217.12033)\"/>\n",
       "<path style=\"fill:none;stroke-width:1.19553;stroke-linecap:butt;stroke-linejoin:miter;stroke:rgb(0%,0%,0%);stroke-opacity:1;stroke-miterlimit:10;\" d=\"M 125.773406 -142.931 L 45.902313 -196.157562 \" transform=\"matrix(1,0,0,-1,241.543,28.944)\"/>\n",
       "<path style=\"fill:none;stroke-width:1.19553;stroke-linecap:butt;stroke-linejoin:miter;stroke:rgb(0%,0%,0%);stroke-opacity:1;stroke-miterlimit:10;\" d=\"M 0.0000336753 7.470699 L 14.945441 0.000192831 L 0.0000635362 -7.473614 \" transform=\"matrix(-0.83461,0.55623,0.55623,0.83461,299.41882,217.12033)\"/>\n",
       "<g style=\"fill:rgb(0%,0%,0%);fill-opacity:1;\">\n",
       "  <use xlink:href=\"#glyph-1518428330974452-0-13\" x=\"191.207\" y=\"217.833\"/>\n",
       "</g>\n",
       "<g style=\"fill:rgb(0%,0%,0%);fill-opacity:1;\">\n",
       "  <use xlink:href=\"#glyph-1518428330974452-0-13\" x=\"281.916\" y=\"217.833\"/>\n",
       "</g>\n",
       "</g>\n",
       "</svg>\n",
       "\n"
      ],
      "text/plain": [
       "TikzPictures.TikzPicture(L\"$    \\node(cs) [draw, fill=lightgray, minimum width=2.5cm, minimum height=1cm]{CardSet};\n",
       "    \\node(de) [draw, fill=lightgray, minimum width=2.5cm, minimum height=1cm] at(-3, -2) {Deck};\n",
       "    \\node(ha) [draw, fill=lightgray, minimum width=2.5cm, minimum height=1cm] at(3, -2) {Hand};\n",
       "    \\node(ca) [draw, fill=lightgray, minimum width=2.5cm, minimum height=1cm] at(0, -4) {Card};\n",
       "    \\draw[arrows = {-Triangle[line width=1.2pt, open, length=15pt, width=15pt]}] (de)--(cs);\n",
       "    \\draw[arrows = {-Triangle[line width=1.2pt, open, length=15pt, width=15pt]}] (ha)--(cs);\n",
       "    \\draw[arrows = {-Straight Barb[line width=1.2pt, length=15pt, width=15pt]}] (de)--(ca);\n",
       "    \\draw[arrows = {-Straight Barb[line width=1.2pt, length=15pt, width=15pt]}] (ha)--(ca);\n",
       "    \\node at(-0.8, -3.2){*};\n",
       "    \\node at(0.8, -3.2){*};\n",
       "$\", \"very thick, scale=2, transform shape\", \"    \\\\usepackage{newtxmath}\\n    \\\\renewcommand{\\\\familydefault}{\\\\sfdefault}\\n    \\\\usepackage{cancel}\\n    \\\\usetikzlibrary{arrows.meta}\\n\", true, true)"
      ]
     },
     "execution_count": 70,
     "metadata": {},
     "output_type": "execute_result"
    }
   ],
   "source": [
    "using TikzPictures\n",
    "TikzPicture(L\"\"\"\n",
    "    \\node(cs) [draw, fill=lightgray, minimum width=2.5cm, minimum height=1cm]{CardSet};\n",
    "    \\node(de) [draw, fill=lightgray, minimum width=2.5cm, minimum height=1cm] at(-3, -2) {Deck};\n",
    "    \\node(ha) [draw, fill=lightgray, minimum width=2.5cm, minimum height=1cm] at(3, -2) {Hand};\n",
    "    \\node(ca) [draw, fill=lightgray, minimum width=2.5cm, minimum height=1cm] at(0, -4) {Card};\n",
    "    \\draw[arrows = {-Triangle[line width=1.2pt, open, length=15pt, width=15pt]}] (de)--(cs);\n",
    "    \\draw[arrows = {-Triangle[line width=1.2pt, open, length=15pt, width=15pt]}] (ha)--(cs);\n",
    "    \\draw[arrows = {-Straight Barb[line width=1.2pt, length=15pt, width=15pt]}] (de)--(ca);\n",
    "    \\draw[arrows = {-Straight Barb[line width=1.2pt, length=15pt, width=15pt]}] (ha)--(ca);\n",
    "    \\node at(-0.8, -3.2){*};\n",
    "    \\node at(0.8, -3.2){*};\n",
    "\"\"\"; options=\"very thick, scale=2, transform shape\", preamble=\"\"\"\n",
    "    \\\\usepackage{newtxmath}\n",
    "    \\\\renewcommand{\\\\familydefault}{\\\\sfdefault}\n",
    "    \\\\usepackage{cancel}\n",
    "    \\\\usetikzlibrary{arrows.meta}\n",
    "\"\"\")"
   ]
  },
  {
   "cell_type": "markdown",
   "metadata": {
    "slideshow": {
     "slide_type": "subslide"
    }
   },
   "source": [
    "The arrow with a hollow triangle head represents an IS-A relationship; in this case it indicates that `Hand` inherits from `CardSet`.\n",
    "\n",
    "The standard arrow head represents a HAS-A relationship; in this case a `Deck` has references to `Card` objects.\n",
    "\n",
    "The star (`*`) near the arrow head is a multiplicity; it indicates how many `Card`s a `Deck` has. A multiplicity can be a simple number, like `52`, a range, `like 5:7` or a star, which indicates that a `Deck` can have any number of `Card`s.\n",
    "\n",
    "There are no dependencies in this diagram. They would normally be shown with a dashed arrow. Or if there are a lot of dependencies, they are sometimes omitted"
   ]
  },
  {
   "cell_type": "markdown",
   "metadata": {
    "slideshow": {
     "slide_type": "slide"
    }
   },
   "source": [
    "# Debugging\n",
    "\n",
    "To know of an object has a IS-A relationship with a certain type, we can use the operator `isa`:"
   ]
  },
  {
   "cell_type": "code",
   "execution_count": 28,
   "metadata": {},
   "outputs": [
    {
     "data": {
      "text/plain": [
       "true"
      ]
     },
     "execution_count": 28,
     "metadata": {},
     "output_type": "execute_result"
    }
   ],
   "source": [
    "hand isa CardSet"
   ]
  },
  {
   "cell_type": "markdown",
   "metadata": {},
   "source": [
    "But `hand` is not of type `CardSet`:"
   ]
  },
  {
   "cell_type": "code",
   "execution_count": 26,
   "metadata": {},
   "outputs": [
    {
     "data": {
      "text/plain": [
       "Hand"
      ]
     },
     "execution_count": 26,
     "metadata": {},
     "output_type": "execute_result"
    }
   ],
   "source": [
    "typeof(hand)"
   ]
  },
  {
   "cell_type": "markdown",
   "metadata": {},
   "source": [
    "`typeof` returns always the concrete type of the object. "
   ]
  },
  {
   "cell_type": "markdown",
   "metadata": {},
   "source": [
    "We can also test whether a type is an descendant of another type with the operator `<:`:"
   ]
  },
  {
   "cell_type": "code",
   "execution_count": 29,
   "metadata": {},
   "outputs": [
    {
     "data": {
      "text/plain": [
       "true"
      ]
     },
     "execution_count": 29,
     "metadata": {},
     "output_type": "execute_result"
    }
   ],
   "source": [
    "Hand <: CardSet"
   ]
  }
 ],
 "metadata": {
  "kernelspec": {
   "display_name": "Julia 0.6.2",
   "language": "julia",
   "name": "julia-0.6"
  },
  "language_info": {
   "file_extension": ".jl",
   "mimetype": "application/julia",
   "name": "julia",
   "version": "0.6.2"
  }
 },
 "nbformat": 4,
 "nbformat_minor": 2
}
