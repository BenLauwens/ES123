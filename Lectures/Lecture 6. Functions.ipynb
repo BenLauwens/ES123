{
 "cells": [
  {
   "cell_type": "markdown",
   "metadata": {
    "hideCode": false,
    "hidePrompt": false,
    "slideshow": {
     "slide_type": "slide"
    }
   },
   "source": [
    "# Definition\n",
    "\n",
    "In the context of programming, a *function* is a named sequence of statements that performs a computation. When you define a function, you specify the name and the sequence of statements. Later, you can *call* the function by name."
   ]
  },
  {
   "cell_type": "markdown",
   "metadata": {
    "hideCode": false,
    "hidePrompt": false,
    "slideshow": {
     "slide_type": "slide"
    }
   },
   "source": [
    "# Function Calls\n",
    "\n",
    "We have already seen one example of a function call:"
   ]
  },
  {
   "cell_type": "code",
   "execution_count": 1,
   "metadata": {
    "hideCode": false,
    "hidePrompt": false
   },
   "outputs": [
    {
     "data": {
      "text/plain": [
       "Int64"
      ]
     },
     "execution_count": 1,
     "metadata": {},
     "output_type": "execute_result"
    }
   ],
   "source": [
    "typeof(42)"
   ]
  },
  {
   "cell_type": "markdown",
   "metadata": {
    "hideCode": false,
    "hidePrompt": false
   },
   "source": [
    "The name of the function is `typeof`. The expression in parentheses is called the *argument* of the function. The result, for this function, is the *type* of the argument.\n",
    "\n",
    "It is common to say that a function *takes* an argument and *returns* a result. The result is also called the *return value*."
   ]
  },
  {
   "cell_type": "markdown",
   "metadata": {
    "hideCode": false,
    "hidePrompt": false,
    "slideshow": {
     "slide_type": "subslide"
    }
   },
   "source": [
    "Julia (Python) provides functions that convert values from one type to another. The `parse`(`int`) function takes any value and converts it to an integer, if it can, or complains otherwise:"
   ]
  },
  {
   "cell_type": "code",
   "execution_count": 2,
   "metadata": {
    "hideCode": false,
    "hidePrompt": false
   },
   "outputs": [
    {
     "data": {
      "text/plain": [
       "32"
      ]
     },
     "execution_count": 2,
     "metadata": {},
     "output_type": "execute_result"
    }
   ],
   "source": [
    "parse(Int, \"32\")"
   ]
  },
  {
   "cell_type": "code",
   "execution_count": 3,
   "metadata": {
    "hideCode": false,
    "hidePrompt": false
   },
   "outputs": [
    {
     "ename": "LoadError",
     "evalue": "\u001b[91mArgumentError: invalid base 10 digit 'H' in \"Hello\"\u001b[39m",
     "output_type": "error",
     "traceback": [
      "\u001b[91mArgumentError: invalid base 10 digit 'H' in \"Hello\"\u001b[39m",
      "",
      "Stacktrace:",
      " [1] \u001b[1mtryparse_internal\u001b[22m\u001b[22m\u001b[1m(\u001b[22m\u001b[22m::Type{Int64}, ::String, ::Int64, ::Int64, ::Int64, ::Bool\u001b[1m)\u001b[22m\u001b[22m at \u001b[1m./parse.jl:89\u001b[22m\u001b[22m",
      " [2] \u001b[1mparse\u001b[22m\u001b[22m\u001b[1m(\u001b[22m\u001b[22m::Type{Int64}, ::String\u001b[1m)\u001b[22m\u001b[22m at \u001b[1m./parse.jl:184\u001b[22m\u001b[22m",
      " [3] \u001b[1minclude_string\u001b[22m\u001b[22m\u001b[1m(\u001b[22m\u001b[22m::String, ::String\u001b[1m)\u001b[22m\u001b[22m at \u001b[1m./loading.jl:522\u001b[22m\u001b[22m"
     ]
    }
   ],
   "source": [
    "parse(Int, \"Hello\")"
   ]
  },
  {
   "cell_type": "code",
   "execution_count": 4,
   "metadata": {
    "hideCode": false,
    "hidePrompt": false,
    "slideshow": {
     "slide_type": "skip"
    }
   },
   "outputs": [],
   "source": [
    "using PyCall"
   ]
  },
  {
   "cell_type": "code",
   "execution_count": 5,
   "metadata": {
    "hideCode": false,
    "hidePrompt": false
   },
   "outputs": [
    {
     "data": {
      "text/plain": [
       "32"
      ]
     },
     "execution_count": 5,
     "metadata": {},
     "output_type": "execute_result"
    }
   ],
   "source": [
    "py\"int('32')\""
   ]
  },
  {
   "cell_type": "code",
   "execution_count": 6,
   "metadata": {
    "hideCode": false,
    "hidePrompt": false
   },
   "outputs": [
    {
     "ename": "LoadError",
     "evalue": "\u001b[91mPyError (ccall(@pysym(:PyEval_EvalCode), PyPtr, (PyPtr, PyPtr, PyPtr), o, globals, locals)) <class 'ValueError'>\nValueError(\"invalid literal for int() with base 10: 'Hello'\",)\n  File \"/home/jupyter/.julia/v0.6/PyCall/src/pyeval.jl\", line 1, in <module>\n    const Py_single_input = 256  # from Python.h\n\u001b[39m",
     "output_type": "error",
     "traceback": [
      "\u001b[91mPyError (ccall(@pysym(:PyEval_EvalCode), PyPtr, (PyPtr, PyPtr, PyPtr), o, globals, locals)) <class 'ValueError'>\nValueError(\"invalid literal for int() with base 10: 'Hello'\",)\n  File \"/home/jupyter/.julia/v0.6/PyCall/src/pyeval.jl\", line 1, in <module>\n    const Py_single_input = 256  # from Python.h\n\u001b[39m",
      "",
      "Stacktrace:",
      " [1] \u001b[1mpyerr_check\u001b[22m\u001b[22m at \u001b[1m/home/jupyter/.julia/v0.6/PyCall/src/exception.jl:56\u001b[22m\u001b[22m [inlined]",
      " [2] \u001b[1mpyerr_check\u001b[22m\u001b[22m at \u001b[1m/home/jupyter/.julia/v0.6/PyCall/src/exception.jl:61\u001b[22m\u001b[22m [inlined]",
      " [3] \u001b[1mmacro expansion\u001b[22m\u001b[22m at \u001b[1m/home/jupyter/.julia/v0.6/PyCall/src/exception.jl:81\u001b[22m\u001b[22m [inlined]",
      " [4] \u001b[1mpyeval_\u001b[22m\u001b[22m\u001b[1m(\u001b[22m\u001b[22m::String, ::PyCall.PyDict{String,PyCall.PyObject,false}, ::PyCall.PyDict{String,PyCall.PyObject,false}, ::Int64, ::String\u001b[1m)\u001b[22m\u001b[22m at \u001b[1m/home/jupyter/.julia/v0.6/PyCall/src/pyeval.jl:23\u001b[22m\u001b[22m",
      " [5] \u001b[1minclude_string\u001b[22m\u001b[22m\u001b[1m(\u001b[22m\u001b[22m::String, ::String\u001b[1m)\u001b[22m\u001b[22m at \u001b[1m./loading.jl:522\u001b[22m\u001b[22m"
     ]
    }
   ],
   "source": [
    "py\"int('Hello')\""
   ]
  },
  {
   "cell_type": "markdown",
   "metadata": {
    "hideCode": false,
    "hidePrompt": false,
    "slideshow": {
     "slide_type": "subslide"
    }
   },
   "source": [
    "`round, floor, ceil, trunc` (`int`) can convert floating-point values to integers."
   ]
  },
  {
   "cell_type": "code",
   "execution_count": 7,
   "metadata": {
    "hideCode": false,
    "hidePrompt": false
   },
   "outputs": [
    {
     "data": {
      "text/plain": [
       "4"
      ]
     },
     "execution_count": 7,
     "metadata": {},
     "output_type": "execute_result"
    }
   ],
   "source": [
    "round(Int, 3.99999)"
   ]
  },
  {
   "cell_type": "code",
   "execution_count": 8,
   "metadata": {
    "hideCode": false,
    "hidePrompt": false
   },
   "outputs": [
    {
     "data": {
      "text/plain": [
       "-2"
      ]
     },
     "execution_count": 8,
     "metadata": {},
     "output_type": "execute_result"
    }
   ],
   "source": [
    "trunc(Int, -2.3)"
   ]
  },
  {
   "cell_type": "code",
   "execution_count": 9,
   "metadata": {
    "hideCode": false,
    "hidePrompt": false
   },
   "outputs": [
    {
     "data": {
      "text/plain": [
       "3"
      ]
     },
     "execution_count": 9,
     "metadata": {},
     "output_type": "execute_result"
    }
   ],
   "source": [
    "py\"int(3.99999)\""
   ]
  },
  {
   "cell_type": "code",
   "execution_count": 10,
   "metadata": {
    "hideCode": false,
    "hidePrompt": false
   },
   "outputs": [
    {
     "data": {
      "text/plain": [
       "-2"
      ]
     },
     "execution_count": 10,
     "metadata": {},
     "output_type": "execute_result"
    }
   ],
   "source": [
    "py\"int(-2.3)\""
   ]
  },
  {
   "cell_type": "markdown",
   "metadata": {
    "hideCode": false,
    "hidePrompt": false,
    "slideshow": {
     "slide_type": "subslide"
    }
   },
   "source": [
    "`float` converts integers and strings to floating-point numbers:"
   ]
  },
  {
   "cell_type": "code",
   "execution_count": 11,
   "metadata": {
    "hideCode": false,
    "hidePrompt": false
   },
   "outputs": [
    {
     "data": {
      "text/plain": [
       "32.0"
      ]
     },
     "execution_count": 11,
     "metadata": {},
     "output_type": "execute_result"
    }
   ],
   "source": [
    "float(32)"
   ]
  },
  {
   "cell_type": "code",
   "execution_count": 12,
   "metadata": {
    "hideCode": false,
    "hidePrompt": false
   },
   "outputs": [
    {
     "data": {
      "text/plain": [
       "3.14159"
      ]
     },
     "execution_count": 12,
     "metadata": {},
     "output_type": "execute_result"
    }
   ],
   "source": [
    "float(\"3.14159\")"
   ]
  },
  {
   "cell_type": "markdown",
   "metadata": {
    "hideCode": false,
    "hidePrompt": false
   },
   "source": [
    "Finally, in Julia a value can be converted to a string by interpolation."
   ]
  },
  {
   "cell_type": "code",
   "execution_count": 13,
   "metadata": {
    "hideCode": false,
    "hidePrompt": false
   },
   "outputs": [
    {
     "data": {
      "text/plain": [
       "\"32\""
      ]
     },
     "execution_count": 13,
     "metadata": {},
     "output_type": "execute_result"
    }
   ],
   "source": [
    "a = 32\n",
    "\"$a\""
   ]
  },
  {
   "cell_type": "markdown",
   "metadata": {
    "hideCode": false,
    "hidePrompt": false
   },
   "source": [
    "In Python `str` converts its argument to a string."
   ]
  },
  {
   "cell_type": "code",
   "execution_count": 14,
   "metadata": {
    "hideCode": false,
    "hidePrompt": false
   },
   "outputs": [
    {
     "data": {
      "text/plain": [
       "\"3.14159\""
      ]
     },
     "execution_count": 14,
     "metadata": {},
     "output_type": "execute_result"
    }
   ],
   "source": [
    "py\"str(3.14159)\""
   ]
  },
  {
   "cell_type": "markdown",
   "metadata": {
    "hideCode": false,
    "hidePrompt": false,
    "slideshow": {
     "slide_type": "slide"
    }
   },
   "source": [
    "# Math functions\n",
    "\n",
    "In Julia,  most of the familiar mathematical functions are directly available:"
   ]
  },
  {
   "cell_type": "code",
   "execution_count": 15,
   "metadata": {
    "hideCode": false,
    "hidePrompt": false
   },
   "outputs": [
    {
     "data": {
      "text/plain": [
       "0.644217687237691"
      ]
     },
     "execution_count": 15,
     "metadata": {},
     "output_type": "execute_result"
    }
   ],
   "source": [
    "radians = 0.7\n",
    "height = sin(radians)"
   ]
  },
  {
   "cell_type": "markdown",
   "metadata": {
    "hideCode": false,
    "hidePrompt": false,
    "slideshow": {
     "slide_type": "subslide"
    }
   },
   "source": [
    "Python has a math module that provides most of the familiar mathematical functions. A *module* is a file that contains a collection of related functions.\n",
    "\n",
    "Before we can use the functions in a module, we have to import it with an import statement:\n",
    "```python\n",
    "import math\n",
    "```\n",
    "This statement creates a module object named math.\n",
    "\n",
    "The module object contains the functions and variables defined in the module. To access one of the functions, you have to specify the name of the module and the name of the function, separated by a dot (also known as a period). This format is called dot notation.\n",
    "```python\n",
    "radians = 0.7\n",
    "height = math.sin(radians)\n",
    "```"
   ]
  },
  {
   "cell_type": "markdown",
   "metadata": {
    "hideCode": false,
    "hidePrompt": false,
    "slideshow": {
     "slide_type": "subslide"
    }
   },
   "source": [
    "C++ has a math library. Its header has to be included in the source before we can use the function in a library:\n",
    "```C++\n",
    "#include <math.h> \n",
    "\n",
    "auto radians {0.7};\n",
    "auto height {sin(radians)};\n",
    "```"
   ]
  },
  {
   "cell_type": "markdown",
   "metadata": {
    "hideCode": false,
    "hidePrompt": false,
    "slideshow": {
     "slide_type": "subslide"
    }
   },
   "source": [
    "The examples show that `sin` and the other trigonometric functions takes arguments in radians. To convert from degrees to radians, divide by `180` and multiply by `π`:"
   ]
  },
  {
   "cell_type": "code",
   "execution_count": 16,
   "metadata": {
    "hideCode": false,
    "hidePrompt": false
   },
   "outputs": [
    {
     "data": {
      "text/plain": [
       "0.7071067811865475"
      ]
     },
     "execution_count": 16,
     "metadata": {},
     "output_type": "execute_result"
    }
   ],
   "source": [
    "degrees = 45\n",
    "radians = degrees / 180.0 * π\n",
    "sin(radians)"
   ]
  },
  {
   "cell_type": "markdown",
   "metadata": {
    "hideCode": false,
    "hidePrompt": false
   },
   "source": [
    "In Python: \n",
    "```python\n",
    "degrees = 45\n",
    "radians = degrees / 180.0 * math.pi\n",
    "math.sin(radians)\n",
    "```\n",
    "In C++:\n",
    "```C++\n",
    "auto degrees {45};\n",
    "auto radians {degrees / 180.0 * M_PI};\n",
    "sin(radians);\n",
    "```"
   ]
  },
  {
   "cell_type": "markdown",
   "metadata": {
    "hideCode": false,
    "hidePrompt": false,
    "slideshow": {
     "slide_type": "subslide"
    }
   },
   "source": [
    "# Composition\n",
    "\n",
    "So far, we have looked at the elements of a program—variables, expressions, and statements—in isolation, without talking about how to combine them.\n",
    "\n",
    "One of the most useful features of programming languages is their ability to take small building blocks and compose them. For example, the argument of a function can be any kind of expression, including arithmetic operators:\n"
   ]
  },
  {
   "cell_type": "code",
   "execution_count": 17,
   "metadata": {
    "hideCode": false,
    "hidePrompt": false
   },
   "outputs": [
    {
     "data": {
      "text/plain": [
       "0.7071067811865475"
      ]
     },
     "execution_count": 17,
     "metadata": {},
     "output_type": "execute_result"
    }
   ],
   "source": [
    "x = sin(degrees / 360.0 * 2 * π)"
   ]
  },
  {
   "cell_type": "markdown",
   "metadata": {
    "hideCode": false,
    "hidePrompt": false
   },
   "source": [
    "And even function calls:"
   ]
  },
  {
   "cell_type": "code",
   "execution_count": 18,
   "metadata": {
    "hideCode": false,
    "hidePrompt": false
   },
   "outputs": [
    {
     "data": {
      "text/plain": [
       "1.7071067811865475"
      ]
     },
     "execution_count": 18,
     "metadata": {},
     "output_type": "execute_result"
    }
   ],
   "source": [
    "x = exp(log(x+1))"
   ]
  },
  {
   "cell_type": "markdown",
   "metadata": {
    "hideCode": false,
    "hidePrompt": false,
    "slideshow": {
     "slide_type": "subslide"
    }
   },
   "source": [
    "Almost anywhere you can put a value, you can put an arbitrary expression, with one exception: the left side of an assignment statement has to be a variable name. Any other expression on the left side is a syntax error."
   ]
  },
  {
   "cell_type": "code",
   "execution_count": 19,
   "metadata": {
    "hideCode": false,
    "hidePrompt": false
   },
   "outputs": [
    {
     "data": {
      "text/plain": [
       "180"
      ]
     },
     "execution_count": 19,
     "metadata": {},
     "output_type": "execute_result"
    }
   ],
   "source": [
    "hours = 3\n",
    "minutes = hours * 60"
   ]
  },
  {
   "cell_type": "code",
   "execution_count": 20,
   "metadata": {
    "hideCode": false,
    "hidePrompt": false
   },
   "outputs": [
    {
     "ename": "LoadError",
     "evalue": "\u001b[91msyntax: \"60\" is not a valid function argument name\u001b[39m",
     "output_type": "error",
     "traceback": [
      "\u001b[91msyntax: \"60\" is not a valid function argument name\u001b[39m",
      "",
      "Stacktrace:",
      " [1] \u001b[1minclude_string\u001b[22m\u001b[22m\u001b[1m(\u001b[22m\u001b[22m::String, ::String\u001b[1m)\u001b[22m\u001b[22m at \u001b[1m./loading.jl:522\u001b[22m\u001b[22m"
     ]
    }
   ],
   "source": [
    "hours * 60 = minutes"
   ]
  },
  {
   "cell_type": "markdown",
   "metadata": {
    "hideCode": false,
    "hidePrompt": false,
    "slideshow": {
     "slide_type": "slide"
    }
   },
   "source": [
    "# Adding new functions\n",
    "\n",
    "So far, we have only been using the functions that come with Julia or Python, but it is also possible to add new functions. A function definition specifies the name of a new function and the sequence of statements that run when the function is called."
   ]
  },
  {
   "cell_type": "markdown",
   "metadata": {
    "hideCode": false,
    "hidePrompt": false,
    "slideshow": {
     "slide_type": "subslide"
    }
   },
   "source": [
    "Here is an example in Julia:"
   ]
  },
  {
   "cell_type": "code",
   "execution_count": 21,
   "metadata": {
    "hideCode": false,
    "hidePrompt": false
   },
   "outputs": [
    {
     "data": {
      "text/plain": [
       "print_lyrics (generic function with 1 method)"
      ]
     },
     "execution_count": 21,
     "metadata": {},
     "output_type": "execute_result"
    }
   ],
   "source": [
    "function print_lyrics()\n",
    "    println(\"I'm a lumberjack, and I'm okay.\")\n",
    "    println(\"I sleep all night and I work all day.\")\n",
    "end"
   ]
  },
  {
   "cell_type": "markdown",
   "metadata": {
    "hideCode": false,
    "hidePrompt": false
   },
   "source": [
    "`function` is a keyword that indicates that this is a function definition. The name of the function is `print_lyrics`. The rules for function names are the same as for variable names: letters, numbers and underscore are legal, but the first character can’t be a number. You can’t use a keyword as the name of a function, and you should avoid having a variable and a function with the same name.\n",
    "\n",
    "The empty parentheses after the name indicate that this function doesn’t take any arguments.\n",
    "\n",
    "The first line of the function definition is called the header; the rest is called the body. The body is terminated with the `end` keyword. The body can contain any number of statements."
   ]
  },
  {
   "cell_type": "markdown",
   "metadata": {
    "hideCode": false,
    "hidePrompt": false,
    "slideshow": {
     "slide_type": "subslide"
    }
   },
   "source": [
    "Python:\n",
    "```python\n",
    "def print_lyrics():\n",
    "    print(\"I'm a lumberjack, and I'm okay.\")\n",
    "    print(\"I sleep all night and I work all day.\")\n",
    "```\n",
    "\n",
    "`def` is a keyword that indicates that this is a function definition. The name of the function is `print_lyrics`. The rules for function names are the same as for variable names: letters, numbers and underscore are legal, but the first character can’t be a number. You can’t use a keyword as the name of a function, and you should avoid having a variable and a function with the same name.\n",
    "\n",
    "The empty parentheses after the name indicate that this function doesn’t take any arguments.\n",
    "\n",
    "The first line of the function definition is called the header; the rest is called the body. The header has to end with a colon and the body has to be indented. By convention, indentation is always four spaces. The body can contain any number of statements."
   ]
  },
  {
   "cell_type": "markdown",
   "metadata": {
    "hideCode": false,
    "hidePrompt": false,
    "slideshow": {
     "slide_type": "subslide"
    }
   },
   "source": [
    "C++:\n",
    "```C++\n",
    "void print_lyrics(){\n",
    "    std::cout << \"I'm a lumberjack, and I'm okay.\" << std::endl;\n",
    "    std::cout << \"I sleep all night and I work all day.\" << std::endl;\n",
    "}\n",
    "```\n",
    "`void` is a keyword indicating that the function returns nothing. The name of the function is `print_lyrics`. The rules for function names are the same as for variable names: letters, numbers and underscore are legal, but the first character can’t be a number. You can’t use a keyword as the name of a function, and you should avoid having a variable and a function with the same name.\n",
    "\n",
    "The empty parentheses after the name indicate that this function doesn’t take any arguments.\n",
    "\n",
    "The first line of the function definition is called the header; the rest is called the body. The body starts with `{` and ends with `}`. The body can contain any number of statements."
   ]
  },
  {
   "cell_type": "markdown",
   "metadata": {
    "hideCode": false,
    "hidePrompt": false,
    "slideshow": {
     "slide_type": "subslide"
    }
   },
   "source": [
    "Defining a function creates a function object, which is a subtype of `Function`:"
   ]
  },
  {
   "cell_type": "code",
   "execution_count": 22,
   "metadata": {
    "hideCode": false,
    "hidePrompt": false
   },
   "outputs": [
    {
     "data": {
      "text/plain": [
       "true"
      ]
     },
     "execution_count": 22,
     "metadata": {},
     "output_type": "execute_result"
    }
   ],
   "source": [
    "isa(print_lyrics, Function)"
   ]
  },
  {
   "cell_type": "markdown",
   "metadata": {
    "hideCode": false,
    "hidePrompt": false
   },
   "source": [
    "The syntax for calling the new function is the same as for built-in functions:"
   ]
  },
  {
   "cell_type": "code",
   "execution_count": 23,
   "metadata": {
    "hideCode": false,
    "hidePrompt": false
   },
   "outputs": [
    {
     "name": "stdout",
     "output_type": "stream",
     "text": [
      "I'm a lumberjack, and I'm okay.\n",
      "I sleep all night and I work all day.\n"
     ]
    }
   ],
   "source": [
    "print_lyrics()"
   ]
  },
  {
   "cell_type": "markdown",
   "metadata": {
    "hideCode": false,
    "hidePrompt": false,
    "slideshow": {
     "slide_type": "subslide"
    }
   },
   "source": [
    "Once you have defined a function, you can use it inside another function. For example, to repeat the previous refrain, we could write a function called `repeat_lyrics`:"
   ]
  },
  {
   "cell_type": "code",
   "execution_count": 24,
   "metadata": {
    "hideCode": false,
    "hidePrompt": false
   },
   "outputs": [
    {
     "data": {
      "text/plain": [
       "repeat_lyrics (generic function with 1 method)"
      ]
     },
     "execution_count": 24,
     "metadata": {},
     "output_type": "execute_result"
    }
   ],
   "source": [
    "function repeat_lyrics()\n",
    "    print_lyrics()\n",
    "    print_lyrics()\n",
    "end"
   ]
  },
  {
   "cell_type": "markdown",
   "metadata": {
    "hideCode": false,
    "hidePrompt": false
   },
   "source": [
    "And then call repeat_lyrics:"
   ]
  },
  {
   "cell_type": "code",
   "execution_count": 25,
   "metadata": {
    "hideCode": false,
    "hidePrompt": false
   },
   "outputs": [
    {
     "name": "stdout",
     "output_type": "stream",
     "text": [
      "I'm a lumberjack, and I'm okay.\n",
      "I sleep all night and I work all day.\n",
      "I'm a lumberjack, and I'm okay.\n",
      "I sleep all night and I work all day.\n"
     ]
    }
   ],
   "source": [
    "repeat_lyrics()"
   ]
  },
  {
   "cell_type": "markdown",
   "metadata": {
    "hideCode": false,
    "hidePrompt": false
   },
   "source": [
    "But that’s not really how the song goes."
   ]
  },
  {
   "cell_type": "markdown",
   "metadata": {
    "hideCode": false,
    "hidePrompt": false,
    "slideshow": {
     "slide_type": "slide"
    }
   },
   "source": [
    "# Definitions and Uses\n",
    "\n",
    "Pulling together the code fragments from the previous section, the whole program looks like this:\n",
    "```julia\n",
    "function print_lyrics()\n",
    "    println(\"I'm a lumberjack, and I'm okay.\")\n",
    "    println(\"I sleep all night and I work all day.\")\n",
    "end\n",
    "\n",
    "function repeat_lyrics()\n",
    "    print_lyrics()\n",
    "    print_lyrics()\n",
    "end\n",
    "\n",
    "repeat_lyrics()\n",
    "```"
   ]
  },
  {
   "cell_type": "markdown",
   "metadata": {
    "hideCode": false,
    "hidePrompt": false,
    "slideshow": {
     "slide_type": "subslide"
    }
   },
   "source": [
    "This program contains two function definitions: `print_lyrics` and `repeat_lyrics`. Function definitions get executed just like other statements, but the effect is to create function objects. The statements inside the function do not run until the function is called, and the function definition generates no output.\n",
    "\n",
    "As you might expect, you have to create a function before you can run it. In other words, the function definition has to run before the function gets called."
   ]
  },
  {
   "cell_type": "markdown",
   "metadata": {
    "hideCode": false,
    "hidePrompt": false,
    "slideshow": {
     "slide_type": "slide"
    }
   },
   "source": [
    "# Flow of Execution\n",
    "\n",
    "To ensure that a function is defined before its first use, you have to know the order statements run in, which is called the *flow of execution*.\n",
    "\n",
    "Execution always begins at the first statement of the program. Statements are run one at a time, in order from top to bottom.\n",
    "\n",
    "Function definitions do not alter the flow of execution of the program, but remember that statements inside the function don’t run until the function is called."
   ]
  },
  {
   "cell_type": "markdown",
   "metadata": {
    "hideCode": false,
    "hidePrompt": false,
    "slideshow": {
     "slide_type": "subslide"
    }
   },
   "source": [
    "A function call is like a detour in the flow of execution. Instead of going to the next statement, the flow jumps to the body of the function, runs the statements there, and then comes back to pick up where it left off.\n",
    "\n",
    "That sounds simple enough, until you remember that one function can call another. While in the middle of one function, the program might have to run the statements in another function. Then, while running that new function, the program might have to run yet another function!\n",
    "\n",
    "Fortunately, programs are good at keeping track of where they are, so each time a function completes, the program picks up where it left off in the function that called it. When it gets to the end of the program, it terminates.\n",
    "\n",
    "In summary, when you read a program, you don’t always want to read from top to bottom. Sometimes it makes more sense if you follow the flow of execution."
   ]
  },
  {
   "cell_type": "markdown",
   "metadata": {
    "hideCode": false,
    "hidePrompt": false,
    "slideshow": {
     "slide_type": "slide"
    }
   },
   "source": [
    "# Parameters and Arguments\n",
    "\n",
    "Some of the functions we have seen require *arguments*. For example, when you call `sin` you pass a number as an argument. Some functions take more than one argument: `log` takes two, the base and the value.\n",
    "\n",
    "Inside the function, the arguments are assigned to variables called *parameters*. Here is a definition for a function that takes an argument:"
   ]
  },
  {
   "cell_type": "code",
   "execution_count": 26,
   "metadata": {
    "hideCode": false,
    "hidePrompt": false
   },
   "outputs": [
    {
     "data": {
      "text/plain": [
       "print_twice (generic function with 1 method)"
      ]
     },
     "execution_count": 26,
     "metadata": {},
     "output_type": "execute_result"
    }
   ],
   "source": [
    "function print_twice(bruce)\n",
    "    println(bruce)\n",
    "    println(bruce)\n",
    "end"
   ]
  },
  {
   "cell_type": "markdown",
   "metadata": {
    "hideCode": false,
    "hidePrompt": false
   },
   "source": [
    "This function assigns the argument to a parameter named `bruce`. When the function is called, it prints the value of the parameter (whatever it is) twice."
   ]
  },
  {
   "cell_type": "code",
   "execution_count": 27,
   "metadata": {
    "hideCode": false,
    "hidePrompt": false,
    "slideshow": {
     "slide_type": "subslide"
    }
   },
   "outputs": [
    {
     "name": "stdout",
     "output_type": "stream",
     "text": [
      "Spam\n",
      "Spam\n"
     ]
    }
   ],
   "source": [
    "print_twice(\"Spam\")"
   ]
  },
  {
   "cell_type": "code",
   "execution_count": 28,
   "metadata": {
    "hideCode": false,
    "hidePrompt": false
   },
   "outputs": [
    {
     "name": "stdout",
     "output_type": "stream",
     "text": [
      "42\n",
      "42\n"
     ]
    }
   ],
   "source": [
    "print_twice(42)"
   ]
  },
  {
   "cell_type": "markdown",
   "metadata": {
    "hideCode": false,
    "hidePrompt": false,
    "slideshow": {
     "slide_type": "-"
    }
   },
   "source": [
    "The same rules of composition that apply to built-in functions also apply to programmer-defined functions, so we can use any kind of expression as an argument for `print_twice`:"
   ]
  },
  {
   "cell_type": "code",
   "execution_count": 29,
   "metadata": {
    "hideCode": false,
    "hidePrompt": false
   },
   "outputs": [
    {
     "name": "stdout",
     "output_type": "stream",
     "text": [
      "Spam Spam Spam Spam \n",
      "Spam Spam Spam Spam \n"
     ]
    }
   ],
   "source": [
    "print_twice(\"Spam \"^4)"
   ]
  },
  {
   "cell_type": "code",
   "execution_count": 30,
   "metadata": {
    "hideCode": false,
    "hidePrompt": false
   },
   "outputs": [
    {
     "name": "stdout",
     "output_type": "stream",
     "text": [
      "-1.0\n",
      "-1.0\n"
     ]
    }
   ],
   "source": [
    "print_twice(cos(π))"
   ]
  },
  {
   "cell_type": "markdown",
   "metadata": {
    "hideCode": false,
    "hidePrompt": false
   },
   "source": [
    "The argument is evaluated before the function is called, so in the examples the expressions `\"Spam \"^4` and `cos(π)` are only evaluated once."
   ]
  },
  {
   "cell_type": "markdown",
   "metadata": {
    "hideCode": false,
    "hidePrompt": false,
    "slideshow": {
     "slide_type": "subslide"
    }
   },
   "source": [
    "You can also use a variable as an argument:"
   ]
  },
  {
   "cell_type": "code",
   "execution_count": 31,
   "metadata": {
    "hideCode": false,
    "hidePrompt": false
   },
   "outputs": [
    {
     "name": "stdout",
     "output_type": "stream",
     "text": [
      "Eric, the half a bee.\n",
      "Eric, the half a bee.\n"
     ]
    }
   ],
   "source": [
    "michael = \"Eric, the half a bee.\"\n",
    "print_twice(michael)"
   ]
  },
  {
   "cell_type": "markdown",
   "metadata": {
    "hideCode": false,
    "hidePrompt": false
   },
   "source": [
    "The name of the variable we pass as an argument (`michael`) has nothing to do with the name of the parameter (`bruce`). It doesn’t matter what the value was called back home (in the caller); here in `print_twice`, we call everybody `bruce`."
   ]
  },
  {
   "cell_type": "markdown",
   "metadata": {
    "hideCode": false,
    "hidePrompt": false,
    "slideshow": {
     "slide_type": "slide"
    }
   },
   "source": [
    "# Variables and Parameters are local\n",
    "\n",
    "When you create a variable inside a function, it is *local*, which means that it only exists inside the function. For example:"
   ]
  },
  {
   "cell_type": "code",
   "execution_count": 32,
   "metadata": {
    "hideCode": false,
    "hidePrompt": false
   },
   "outputs": [
    {
     "data": {
      "text/plain": [
       "cat_twice (generic function with 1 method)"
      ]
     },
     "execution_count": 32,
     "metadata": {},
     "output_type": "execute_result"
    }
   ],
   "source": [
    "function cat_twice(part1, part2)\n",
    "    concat = part1 * part2\n",
    "    print_twice(concat)\n",
    "end"
   ]
  },
  {
   "cell_type": "markdown",
   "metadata": {
    "hideCode": false,
    "hidePrompt": false
   },
   "source": [
    "This function takes two arguments, concatenates them, and prints the result twice. Here is an example that uses it:"
   ]
  },
  {
   "cell_type": "code",
   "execution_count": 33,
   "metadata": {
    "hideCode": false,
    "hidePrompt": false
   },
   "outputs": [
    {
     "name": "stdout",
     "output_type": "stream",
     "text": [
      "Bing tiddle tiddle bang.\n",
      "Bing tiddle tiddle bang.\n"
     ]
    }
   ],
   "source": [
    "line1 = \"Bing tiddle \"\n",
    "line2 = \"tiddle bang.\"\n",
    "cat_twice(line1, line2)"
   ]
  },
  {
   "cell_type": "markdown",
   "metadata": {
    "hideCode": false,
    "hidePrompt": false,
    "slideshow": {
     "slide_type": "subslide"
    }
   },
   "source": [
    "When `cat_twice` terminates, the variable `cat` is destroyed. If we try to print it, we get an exception:"
   ]
  },
  {
   "cell_type": "code",
   "execution_count": 34,
   "metadata": {
    "hideCode": false,
    "hidePrompt": false
   },
   "outputs": [
    {
     "ename": "LoadError",
     "evalue": "\u001b[91mUndefVarError: concat not defined\u001b[39m",
     "output_type": "error",
     "traceback": [
      "\u001b[91mUndefVarError: concat not defined\u001b[39m",
      "",
      "Stacktrace:",
      " [1] \u001b[1minclude_string\u001b[22m\u001b[22m\u001b[1m(\u001b[22m\u001b[22m::String, ::String\u001b[1m)\u001b[22m\u001b[22m at \u001b[1m./loading.jl:522\u001b[22m\u001b[22m"
     ]
    }
   ],
   "source": [
    "println(concat)"
   ]
  },
  {
   "cell_type": "markdown",
   "metadata": {
    "hideCode": false,
    "hidePrompt": false
   },
   "source": [
    "Parameters are also local. For example, outside `print_twice`, there is no such thing as `bruce`."
   ]
  },
  {
   "cell_type": "markdown",
   "metadata": {
    "hideCode": false,
    "hidePrompt": false,
    "slideshow": {
     "slide_type": "slide"
    }
   },
   "source": [
    "# Stack Diagrams\n",
    "\n",
    "To keep track of which variables can be used where, it is sometimes useful to draw a *stack diagram*. Like state diagrams, stack diagrams show the value of each variable, but they also show the function each variable belongs to.\n",
    "\n",
    "Each function is represented by a *frame*. A frame is a box with the name of a function beside it and the parameters and variables of the function inside it."
   ]
  },
  {
   "cell_type": "code",
   "execution_count": 35,
   "metadata": {
    "hideCode": true,
    "hidePrompt": true
   },
   "outputs": [
    {
     "data": {
      "image/svg+xml": [
       "<?xml version=\"1.0\" encoding=\"UTF-8\"?>\n",
       "<svg xmlns=\"http://www.w3.org/2000/svg\" xmlns:xlink=\"http://www.w3.org/1999/xlink\" width=\"683.05pt\" height=\"355.776pt\" viewBox=\"0 0 683.05 355.776\" version=\"1.1\">\n",
       "<defs>\n",
       "<g>\n",
       "<symbol overflow=\"visible\" id=\"glyph-1518428330974419-0-0\">\n",
       "<path style=\"stroke:none;\" d=\"\"/>\n",
       "</symbol>\n",
       "<symbol overflow=\"visible\" id=\"glyph-1518428330974419-0-1\">\n",
       "<path style=\"stroke:none;\" d=\"M 7.625 0 L 7.625 -0.921875 C 5.625 -0.921875 5.296875 -0.921875 5.296875 -2.265625 L 5.296875 -20.75 L 0.984375 -20.421875 L 0.984375 -19.484375 C 3.078125 -19.484375 3.3125 -19.28125 3.3125 -17.8125 L 3.3125 -2.265625 C 3.3125 -0.921875 2.984375 -0.921875 0.984375 -0.921875 L 0.984375 0 L 4.296875 -0.09375 Z M 7.625 0 \"/>\n",
       "</symbol>\n",
       "<symbol overflow=\"visible\" id=\"glyph-1518428330974419-0-2\">\n",
       "<path style=\"stroke:none;\" d=\"M 7.390625 0 L 7.390625 -0.921875 C 5.40625 -0.921875 5.296875 -1.078125 5.296875 -2.234375 L 5.296875 -13.21875 L 1.109375 -12.890625 L 1.109375 -11.953125 C 3.046875 -11.953125 3.3125 -11.78125 3.3125 -10.3125 L 3.3125 -2.265625 C 3.3125 -0.921875 2.984375 -0.921875 0.984375 -0.921875 L 0.984375 0 L 4.28125 -0.09375 C 5.328125 -0.09375 6.359375 -0.03125 7.390625 0 Z M 5.734375 -18.046875 C 5.734375 -18.859375 5.046875 -19.640625 4.15625 -19.640625 C 3.140625 -19.640625 2.546875 -18.796875 2.546875 -18.046875 C 2.546875 -17.25 3.234375 -16.46875 4.125 -16.46875 C 5.140625 -16.46875 5.734375 -17.3125 5.734375 -18.046875 Z M 5.734375 -18.046875 \"/>\n",
       "</symbol>\n",
       "<symbol overflow=\"visible\" id=\"glyph-1518428330974419-0-3\">\n",
       "<path style=\"stroke:none;\" d=\"M 15.984375 0 L 15.984375 -0.921875 C 14.4375 -0.921875 13.6875 -0.921875 13.65625 -1.828125 L 13.65625 -7.53125 C 13.65625 -10.109375 13.65625 -11.03125 12.734375 -12.109375 C 12.3125 -12.609375 11.328125 -13.21875 9.59375 -13.21875 C 7.40625 -13.21875 6.015625 -11.921875 5.171875 -10.078125 L 5.171875 -13.21875 L 0.953125 -12.890625 L 0.953125 -11.953125 C 3.046875 -11.953125 3.28125 -11.75 3.28125 -10.28125 L 3.28125 -2.265625 C 3.28125 -0.921875 2.953125 -0.921875 0.953125 -0.921875 L 0.953125 0 L 4.328125 -0.09375 L 7.6875 0 L 7.6875 -0.921875 C 5.671875 -0.921875 5.34375 -0.921875 5.34375 -2.265625 L 5.34375 -7.765625 C 5.34375 -10.875 7.46875 -12.546875 9.390625 -12.546875 C 11.265625 -12.546875 11.59375 -10.9375 11.59375 -9.234375 L 11.59375 -2.265625 C 11.59375 -0.921875 11.265625 -0.921875 9.265625 -0.921875 L 9.265625 0 L 12.640625 -0.09375 Z M 15.984375 0 \"/>\n",
       "</symbol>\n",
       "<symbol overflow=\"visible\" id=\"glyph-1518428330974419-0-4\">\n",
       "<path style=\"stroke:none;\" d=\"M 12.40625 -3.5625 C 12.40625 -3.859375 12.171875 -3.921875 12.015625 -3.921875 C 11.75 -3.921875 11.6875 -3.734375 11.625 -3.5 C 10.578125 -0.421875 7.890625 -0.421875 7.59375 -0.421875 C 6.09375 -0.421875 4.90625 -1.3125 4.21875 -2.421875 C 3.3125 -3.859375 3.3125 -5.828125 3.3125 -6.90625 L 11.65625 -6.90625 C 12.3125 -6.90625 12.40625 -6.90625 12.40625 -7.53125 C 12.40625 -10.484375 10.796875 -13.390625 7.046875 -13.390625 C 3.59375 -13.390625 0.84375 -10.3125 0.84375 -6.578125 C 0.84375 -2.578125 3.96875 0.328125 7.40625 0.328125 C 11.0625 0.328125 12.40625 -2.984375 12.40625 -3.5625 Z M 10.4375 -7.53125 L 3.34375 -7.53125 C 3.53125 -11.984375 6.03125 -12.734375 7.046875 -12.734375 C 10.140625 -12.734375 10.4375 -8.703125 10.4375 -7.53125 Z M 10.4375 -7.53125 \"/>\n",
       "</symbol>\n",
       "<symbol overflow=\"visible\" id=\"glyph-1518428330974419-0-5\">\n",
       "<path style=\"stroke:none;\" d=\"M 12.53125 0 L 12.53125 -0.921875 L 11.5625 -0.921875 C 8.875 -0.921875 8.78125 -1.25 8.78125 -2.359375 L 8.78125 -19.125 C 8.78125 -19.84375 8.78125 -19.90625 8.09375 -19.90625 C 6.25 -18 3.609375 -18 2.65625 -18 L 2.65625 -17.0625 C 3.265625 -17.0625 5.015625 -17.0625 6.578125 -17.84375 L 6.578125 -2.359375 C 6.578125 -1.28125 6.484375 -0.921875 3.796875 -0.921875 L 2.84375 -0.921875 L 2.84375 0 C 3.890625 -0.09375 6.484375 -0.09375 7.6875 -0.09375 C 8.875 -0.09375 11.484375 -0.09375 12.53125 0 Z M 12.53125 0 \"/>\n",
       "</symbol>\n",
       "<symbol overflow=\"visible\" id=\"glyph-1518428330974419-0-6\">\n",
       "<path style=\"stroke:none;\" d=\"M 6.15625 -17.609375 C 6.15625 -19.40625 5.4375 -20.75 4.15625 -20.75 C 3.109375 -20.75 2.578125 -19.9375 2.578125 -19.15625 C 2.578125 -18.375 3.078125 -17.578125 4.15625 -17.578125 C 4.75 -17.578125 5.171875 -17.875 5.34375 -18.046875 C 5.375 -18.109375 5.4375 -18.140625 5.4375 -18.140625 C 5.4375 -18.140625 5.5 -17.71875 5.5 -17.609375 C 5.5 -16.65625 5.296875 -14.5 3.40625 -12.640625 C 3.046875 -12.28125 3.046875 -12.21875 3.046875 -12.140625 C 3.046875 -11.921875 3.203125 -11.8125 3.34375 -11.8125 C 3.671875 -11.8125 6.15625 -14.078125 6.15625 -17.609375 Z M 11.953125 -17.609375 C 11.953125 -19.40625 11.234375 -20.75 9.953125 -20.75 C 8.90625 -20.75 8.375 -19.9375 8.375 -19.15625 C 8.375 -18.375 8.875 -17.578125 9.953125 -17.578125 C 10.546875 -17.578125 10.96875 -17.875 11.15625 -18.046875 C 11.171875 -18.109375 11.234375 -18.140625 11.234375 -18.140625 C 11.234375 -18.140625 11.296875 -17.71875 11.296875 -17.609375 C 11.296875 -16.65625 11.09375 -14.5 9.203125 -12.640625 C 8.84375 -12.28125 8.84375 -12.21875 8.84375 -12.140625 C 8.84375 -11.921875 9 -11.8125 9.140625 -11.8125 C 9.46875 -11.8125 11.953125 -14.078125 11.953125 -17.609375 Z M 11.953125 -17.609375 \"/>\n",
       "</symbol>\n",
       "<symbol overflow=\"visible\" id=\"glyph-1518428330974419-0-7\">\n",
       "<path style=\"stroke:none;\" d=\"M 19.453125 -5.46875 C 19.453125 -8.078125 17 -10.3125 13.6875 -10.671875 C 16.59375 -11.234375 18.65625 -13.15625 18.65625 -15.359375 C 18.65625 -17.96875 15.90625 -20.421875 12.015625 -20.421875 L 1.078125 -20.421875 L 1.078125 -19.484375 L 1.796875 -19.484375 C 4.09375 -19.484375 4.15625 -19.15625 4.15625 -18.078125 L 4.15625 -2.328125 C 4.15625 -1.25 4.09375 -0.921875 1.796875 -0.921875 L 1.078125 -0.921875 L 1.078125 0 L 12.796875 0 C 16.765625 0 19.453125 -2.65625 19.453125 -5.46875 Z M 15.75 -15.359375 C 15.75 -13.453125 14.28125 -10.9375 10.96875 -10.9375 L 6.640625 -10.9375 L 6.640625 -18.296875 C 6.640625 -19.28125 6.703125 -19.484375 8.09375 -19.484375 L 11.8125 -19.484375 C 14.703125 -19.484375 15.75 -16.953125 15.75 -15.359375 Z M 16.46875 -5.5 C 16.46875 -3.375 14.921875 -0.921875 11.84375 -0.921875 L 8.09375 -0.921875 C 6.703125 -0.921875 6.640625 -1.140625 6.640625 -2.125 L 6.640625 -10.28125 L 12.25 -10.28125 C 15.21875 -10.28125 16.46875 -7.5 16.46875 -5.5 Z M 16.46875 -5.5 \"/>\n",
       "</symbol>\n",
       "<symbol overflow=\"visible\" id=\"glyph-1518428330974419-0-8\">\n",
       "<path style=\"stroke:none;\" d=\"M 14.5 -12.078125 C 14.5 -12.578125 14.140625 -13.546875 12.96875 -13.546875 C 12.375 -13.546875 11.0625 -13.359375 9.796875 -12.140625 C 8.546875 -13.125 7.296875 -13.21875 6.640625 -13.21875 C 3.859375 -13.21875 1.796875 -11.15625 1.796875 -8.84375 C 1.796875 -7.53125 2.453125 -6.390625 3.203125 -5.765625 C 2.8125 -5.328125 2.265625 -4.328125 2.265625 -3.28125 C 2.265625 -2.359375 2.65625 -1.21875 3.59375 -0.625 C 1.796875 -0.125 0.84375 1.171875 0.84375 2.359375 C 0.84375 4.515625 3.796875 6.15625 7.4375 6.15625 C 10.96875 6.15625 14.078125 4.640625 14.078125 2.296875 C 14.078125 1.25 13.65625 -0.265625 12.140625 -1.109375 C 10.546875 -1.9375 8.8125 -1.9375 7 -1.9375 C 6.25 -1.9375 4.96875 -1.9375 4.75 -1.96875 C 3.796875 -2.09375 3.171875 -3.015625 3.171875 -3.96875 C 3.171875 -4.09375 3.171875 -4.78125 3.671875 -5.375 C 4.84375 -4.546875 6.0625 -4.453125 6.640625 -4.453125 C 9.421875 -4.453125 11.484375 -6.515625 11.484375 -8.8125 C 11.484375 -9.921875 11 -11.03125 10.25 -11.71875 C 11.328125 -12.734375 12.40625 -12.890625 12.9375 -12.890625 C 12.9375 -12.890625 13.15625 -12.890625 13.234375 -12.859375 C 12.90625 -12.734375 12.765625 -12.40625 12.765625 -12.046875 C 12.765625 -11.53125 13.15625 -11.171875 13.625 -11.171875 C 13.921875 -11.171875 14.5 -11.390625 14.5 -12.078125 Z M 9.234375 -8.84375 C 9.234375 -8.046875 9.203125 -7.078125 8.765625 -6.34375 C 8.515625 -5.984375 7.828125 -5.140625 6.640625 -5.140625 C 4.03125 -5.140625 4.03125 -8.125 4.03125 -8.8125 C 4.03125 -9.625 4.0625 -10.578125 4.515625 -11.328125 C 4.75 -11.6875 5.4375 -12.53125 6.640625 -12.53125 C 9.234375 -12.53125 9.234375 -9.53125 9.234375 -8.84375 Z M 12.53125 2.359375 C 12.53125 3.96875 10.40625 5.46875 7.46875 5.46875 C 4.453125 5.46875 2.390625 3.953125 2.390625 2.359375 C 2.390625 0.984375 3.53125 -0.125 4.84375 -0.203125 L 6.609375 -0.203125 C 9.171875 -0.203125 12.53125 -0.203125 12.53125 2.359375 Z M 12.53125 2.359375 \"/>\n",
       "</symbol>\n",
       "<symbol overflow=\"visible\" id=\"glyph-1518428330974419-0-9\">\n",
       "<path style=\"stroke:none;\" d=\"M 9.921875 -3.703125 L 9.921875 -5.40625 L 9.171875 -5.40625 L 9.171875 -3.765625 C 9.171875 -1.546875 8.28125 -0.421875 7.171875 -0.421875 C 5.171875 -0.421875 5.171875 -3.140625 5.171875 -3.640625 L 5.171875 -11.953125 L 9.453125 -11.953125 L 9.453125 -12.890625 L 5.171875 -12.890625 L 5.171875 -18.375 L 4.421875 -18.375 C 4.390625 -15.9375 3.5 -12.734375 0.5625 -12.609375 L 0.5625 -11.953125 L 3.109375 -11.953125 L 3.109375 -3.703125 C 3.109375 -0.03125 5.890625 0.328125 6.96875 0.328125 C 9.09375 0.328125 9.921875 -1.796875 9.921875 -3.703125 Z M 9.921875 -3.703125 \"/>\n",
       "</symbol>\n",
       "<symbol overflow=\"visible\" id=\"glyph-1518428330974419-0-10\">\n",
       "<path style=\"stroke:none;\" d=\"M 15.75 0 L 15.75 -0.921875 C 13.65625 -0.921875 13.421875 -1.140625 13.421875 -2.59375 L 13.421875 -20.75 L 9.109375 -20.421875 L 9.109375 -19.484375 C 11.203125 -19.484375 11.453125 -19.28125 11.453125 -17.8125 L 11.453125 -11.359375 C 10.578125 -12.4375 9.296875 -13.21875 7.6875 -13.21875 C 4.15625 -13.21875 1.015625 -10.28125 1.015625 -6.421875 C 1.015625 -2.625 3.953125 0.328125 7.359375 0.328125 C 9.265625 0.328125 10.609375 -0.6875 11.359375 -1.640625 L 11.359375 0.328125 Z M 11.359375 -3.53125 C 11.359375 -2.984375 11.359375 -2.921875 11.03125 -2.421875 C 10.140625 -0.984375 8.78125 -0.328125 7.5 -0.328125 C 6.15625 -0.328125 5.078125 -1.109375 4.359375 -2.234375 C 3.59375 -3.46875 3.5 -5.171875 3.5 -6.390625 C 3.5 -7.5 3.5625 -9.296875 4.421875 -10.640625 C 5.046875 -11.5625 6.1875 -12.546875 7.796875 -12.546875 C 8.84375 -12.546875 10.109375 -12.109375 11.03125 -10.765625 C 11.359375 -10.25 11.359375 -10.1875 11.359375 -9.65625 Z M 11.359375 -3.53125 \"/>\n",
       "</symbol>\n",
       "<symbol overflow=\"visible\" id=\"glyph-1518428330974419-0-11\">\n",
       "<path style=\"stroke:none;\" d=\"M 13.421875 -5.203125 L 12.671875 -5.203125 C 12.53125 -4.296875 12.3125 -2.984375 12.015625 -2.546875 C 11.8125 -2.296875 9.828125 -2.296875 9.171875 -2.296875 L 3.796875 -2.296875 L 6.96875 -5.375 C 11.625 -9.5 13.421875 -11.125 13.421875 -14.109375 C 13.421875 -17.515625 10.734375 -19.90625 7.078125 -19.90625 C 3.703125 -19.90625 1.5 -17.15625 1.5 -14.5 C 1.5 -12.828125 2.984375 -12.828125 3.078125 -12.828125 C 3.59375 -12.828125 4.640625 -13.1875 4.640625 -14.40625 C 4.640625 -15.1875 4.09375 -15.96875 3.046875 -15.96875 C 2.8125 -15.96875 2.75 -15.96875 2.65625 -15.9375 C 3.34375 -17.875 4.96875 -18.984375 6.703125 -18.984375 C 9.421875 -18.984375 10.703125 -16.5625 10.703125 -14.109375 C 10.703125 -11.71875 9.203125 -9.359375 7.5625 -7.5 L 1.828125 -1.109375 C 1.5 -0.78125 1.5 -0.71875 1.5 0 L 12.578125 0 Z M 13.421875 -5.203125 \"/>\n",
       "</symbol>\n",
       "<symbol overflow=\"visible\" id=\"glyph-1518428330974419-0-12\">\n",
       "<path style=\"stroke:none;\" d=\"M 15.578125 -6.453125 C 15.578125 -10.25 12.640625 -13.21875 9.234375 -13.21875 C 6.90625 -13.21875 5.625 -11.8125 5.140625 -11.265625 L 5.140625 -20.75 L 0.84375 -20.421875 L 0.84375 -19.484375 C 2.921875 -19.484375 3.171875 -19.28125 3.171875 -17.8125 L 3.171875 0 L 3.921875 0 L 4.984375 -1.859375 C 5.4375 -1.171875 6.703125 0.328125 8.90625 0.328125 C 12.46875 0.328125 15.578125 -2.59375 15.578125 -6.453125 Z M 13.09375 -6.484375 C 13.09375 -5.375 13.03125 -3.59375 12.171875 -2.234375 C 11.53125 -1.3125 10.40625 -0.328125 8.78125 -0.328125 C 7.4375 -0.328125 6.359375 -1.046875 5.65625 -2.15625 C 5.234375 -2.78125 5.234375 -2.875 5.234375 -3.40625 L 5.234375 -9.5625 C 5.234375 -10.140625 5.234375 -10.15625 5.5625 -10.640625 C 6.71875 -12.3125 8.375 -12.546875 9.09375 -12.546875 C 10.4375 -12.546875 11.515625 -11.78125 12.21875 -10.640625 C 13 -9.421875 13.09375 -7.71875 13.09375 -6.484375 Z M 13.09375 -6.484375 \"/>\n",
       "</symbol>\n",
       "<symbol overflow=\"visible\" id=\"glyph-1518428330974419-0-13\">\n",
       "<path style=\"stroke:none;\" d=\"M 14.4375 -2.65625 L 14.4375 -4.328125 L 13.6875 -4.328125 L 13.6875 -2.65625 C 13.6875 -0.921875 12.9375 -0.75 12.609375 -0.75 C 11.625 -0.75 11.515625 -2.09375 11.515625 -2.234375 L 11.515625 -8.21875 C 11.515625 -9.46875 11.515625 -10.640625 10.4375 -11.75 C 9.265625 -12.90625 7.765625 -13.390625 6.34375 -13.390625 C 3.890625 -13.390625 1.828125 -11.984375 1.828125 -10.015625 C 1.828125 -9.109375 2.421875 -8.609375 3.203125 -8.609375 C 4.03125 -8.609375 4.578125 -9.203125 4.578125 -9.984375 C 4.578125 -10.34375 4.421875 -11.328125 3.046875 -11.359375 C 3.859375 -12.40625 5.328125 -12.734375 6.28125 -12.734375 C 7.734375 -12.734375 9.453125 -11.5625 9.453125 -8.90625 L 9.453125 -7.796875 C 7.921875 -7.71875 5.828125 -7.625 3.953125 -6.71875 C 1.703125 -5.703125 0.953125 -4.15625 0.953125 -2.84375 C 0.953125 -0.421875 3.859375 0.328125 5.734375 0.328125 C 7.71875 0.328125 9.09375 -0.859375 9.65625 -2.265625 C 9.78125 -1.078125 10.578125 0.171875 11.984375 0.171875 C 12.609375 0.171875 14.4375 -0.234375 14.4375 -2.65625 Z M 9.453125 -4.1875 C 9.453125 -1.34375 7.296875 -0.328125 5.953125 -0.328125 C 4.484375 -0.328125 3.265625 -1.375 3.265625 -2.875 C 3.265625 -4.515625 4.515625 -7 9.453125 -7.171875 Z M 9.453125 -4.1875 \"/>\n",
       "</symbol>\n",
       "<symbol overflow=\"visible\" id=\"glyph-1518428330974419-0-14\">\n",
       "<path style=\"stroke:none;\" d=\"M 5.734375 -1.578125 C 5.734375 -2.453125 5.015625 -3.171875 4.15625 -3.171875 C 3.28125 -3.171875 2.578125 -2.453125 2.578125 -1.578125 C 2.578125 -0.71875 3.28125 0 4.15625 0 C 5.015625 0 5.734375 -0.71875 5.734375 -1.578125 Z M 5.734375 -1.578125 \"/>\n",
       "</symbol>\n",
       "<symbol overflow=\"visible\" id=\"glyph-1518428330974419-0-15\">\n",
       "<path style=\"stroke:none;\" d=\"M 22.421875 4.125 L 22.421875 3.34375 L 0 3.34375 L 0 4.125 Z M 22.421875 4.125 \"/>\n",
       "</symbol>\n",
       "<symbol overflow=\"visible\" id=\"glyph-1518428330974419-0-16\">\n",
       "<path style=\"stroke:none;\" d=\"M 24.296875 0 L 24.296875 -0.921875 C 22.75 -0.921875 22 -0.921875 21.96875 -1.828125 L 21.96875 -7.53125 C 21.96875 -10.109375 21.96875 -11.03125 21.046875 -12.109375 C 20.625 -12.609375 19.640625 -13.21875 17.90625 -13.21875 C 15.390625 -13.21875 14.078125 -11.421875 13.5625 -10.28125 C 13.15625 -12.890625 10.9375 -13.21875 9.59375 -13.21875 C 7.40625 -13.21875 6.015625 -11.921875 5.171875 -10.078125 L 5.171875 -13.21875 L 0.953125 -12.890625 L 0.953125 -11.953125 C 3.046875 -11.953125 3.28125 -11.75 3.28125 -10.28125 L 3.28125 -2.265625 C 3.28125 -0.921875 2.953125 -0.921875 0.953125 -0.921875 L 0.953125 0 L 4.328125 -0.09375 L 7.6875 0 L 7.6875 -0.921875 C 5.671875 -0.921875 5.34375 -0.921875 5.34375 -2.265625 L 5.34375 -7.765625 C 5.34375 -10.875 7.46875 -12.546875 9.390625 -12.546875 C 11.265625 -12.546875 11.59375 -10.9375 11.59375 -9.234375 L 11.59375 -2.265625 C 11.59375 -0.921875 11.265625 -0.921875 9.265625 -0.921875 L 9.265625 0 L 12.640625 -0.09375 L 15.984375 0 L 15.984375 -0.921875 C 13.984375 -0.921875 13.65625 -0.921875 13.65625 -2.265625 L 13.65625 -7.765625 C 13.65625 -10.875 15.78125 -12.546875 17.6875 -12.546875 C 19.578125 -12.546875 19.90625 -10.9375 19.90625 -9.234375 L 19.90625 -2.265625 C 19.90625 -0.921875 19.578125 -0.921875 17.578125 -0.921875 L 17.578125 0 L 20.953125 -0.09375 Z M 24.296875 0 \"/>\n",
       "</symbol>\n",
       "<symbol overflow=\"visible\" id=\"glyph-1518428330974419-0-17\">\n",
       "<path style=\"stroke:none;\" d=\"M 15.578125 -6.453125 C 15.578125 -10.25 12.671875 -13.21875 9.328125 -13.21875 C 7 -13.21875 5.734375 -11.890625 5.140625 -11.234375 L 5.140625 -13.21875 L 0.84375 -12.890625 L 0.84375 -11.953125 C 2.953125 -11.953125 3.171875 -11.78125 3.171875 -10.46875 L 3.171875 3.53125 C 3.171875 4.875 2.84375 4.875 0.84375 4.875 L 0.84375 5.796875 L 4.1875 5.703125 L 7.5625 5.796875 L 7.5625 4.875 C 5.5625 4.875 5.234375 4.875 5.234375 3.53125 L 5.234375 -1.765625 C 5.375 -1.28125 6.640625 0.328125 8.90625 0.328125 C 12.46875 0.328125 15.578125 -2.59375 15.578125 -6.453125 Z M 13.09375 -6.453125 C 13.09375 -2.84375 11 -0.328125 8.78125 -0.328125 C 7.59375 -0.328125 6.453125 -0.921875 5.65625 -2.15625 C 5.234375 -2.78125 5.234375 -2.8125 5.234375 -3.40625 L 5.234375 -10.078125 C 6.09375 -11.59375 7.5625 -12.46875 9.09375 -12.46875 C 11.265625 -12.46875 13.09375 -9.828125 13.09375 -6.453125 Z M 13.09375 -6.453125 \"/>\n",
       "</symbol>\n",
       "<symbol overflow=\"visible\" id=\"glyph-1518428330974419-0-18\">\n",
       "<path style=\"stroke:none;\" d=\"M 10.875 -11.390625 C 10.875 -12.34375 9.953125 -13.21875 8.671875 -13.21875 C 6.484375 -13.21875 5.40625 -11.203125 4.984375 -9.921875 L 4.984375 -13.21875 L 0.84375 -12.890625 L 0.84375 -11.953125 C 2.921875 -11.953125 3.171875 -11.75 3.171875 -10.28125 L 3.171875 -2.265625 C 3.171875 -0.921875 2.84375 -0.921875 0.84375 -0.921875 L 0.84375 0 L 4.25 -0.09375 C 5.4375 -0.09375 6.84375 -0.09375 8.046875 0 L 8.046875 -0.921875 L 7.40625 -0.921875 C 5.203125 -0.921875 5.140625 -1.25 5.140625 -2.328125 L 5.140625 -6.9375 C 5.140625 -9.890625 6.390625 -12.546875 8.671875 -12.546875 C 8.875 -12.546875 8.9375 -12.546875 9 -12.53125 C 8.90625 -12.5 8.3125 -12.140625 8.3125 -11.359375 C 8.3125 -10.515625 8.9375 -10.078125 9.59375 -10.078125 C 10.140625 -10.078125 10.875 -10.4375 10.875 -11.390625 Z M 10.875 -11.390625 \"/>\n",
       "</symbol>\n",
       "<symbol overflow=\"visible\" id=\"glyph-1518428330974419-0-19\">\n",
       "<path style=\"stroke:none;\" d=\"M 12.40625 -3.5625 C 12.40625 -3.859375 12.109375 -3.859375 12.015625 -3.859375 C 11.75 -3.859375 11.6875 -3.734375 11.625 -3.5625 C 10.765625 -0.78125 8.8125 -0.421875 7.71875 -0.421875 C 6.125 -0.421875 3.5 -1.703125 3.5 -6.515625 C 3.5 -11.390625 5.953125 -12.640625 7.53125 -12.640625 C 7.796875 -12.640625 9.6875 -12.609375 10.734375 -11.53125 C 9.5 -11.453125 9.328125 -10.546875 9.328125 -10.15625 C 9.328125 -9.390625 9.859375 -8.78125 10.703125 -8.78125 C 11.484375 -8.78125 12.078125 -9.296875 12.078125 -10.1875 C 12.078125 -12.21875 9.796875 -13.390625 7.5 -13.390625 C 3.765625 -13.390625 1.015625 -10.15625 1.015625 -6.453125 C 1.015625 -2.625 3.96875 0.328125 7.4375 0.328125 C 11.453125 0.328125 12.40625 -3.265625 12.40625 -3.5625 Z M 12.40625 -3.5625 \"/>\n",
       "</symbol>\n",
       "<symbol overflow=\"visible\" id=\"glyph-1518428330974419-0-20\">\n",
       "<path style=\"stroke:none;\" d=\"M 14.078125 -6.390625 C 14.078125 -10.21875 11.09375 -13.390625 7.46875 -13.390625 C 3.734375 -13.390625 0.84375 -10.140625 0.84375 -6.390625 C 0.84375 -2.546875 3.953125 0.328125 7.4375 0.328125 C 11.0625 0.328125 14.078125 -2.59375 14.078125 -6.390625 Z M 11.59375 -6.640625 C 11.59375 -5.5625 11.59375 -3.953125 10.9375 -2.625 C 10.28125 -1.28125 8.96875 -0.421875 7.46875 -0.421875 C 6.1875 -0.421875 4.875 -1.046875 4.0625 -2.421875 C 3.3125 -3.734375 3.3125 -5.5625 3.3125 -6.640625 C 3.3125 -7.796875 3.3125 -9.421875 4.03125 -10.734375 C 4.84375 -12.109375 6.25 -12.734375 7.4375 -12.734375 C 8.765625 -12.734375 10.046875 -12.078125 10.828125 -10.796875 C 11.59375 -9.5 11.59375 -7.765625 11.59375 -6.640625 Z M 11.59375 -6.640625 \"/>\n",
       "</symbol>\n",
       "<symbol overflow=\"visible\" id=\"glyph-1518428330974419-0-21\">\n",
       "<path style=\"stroke:none;\" d=\"M 21.015625 -11.953125 L 21.015625 -12.890625 C 20.359375 -12.828125 19.484375 -12.796875 18.828125 -12.796875 L 16.046875 -12.890625 L 16.046875 -11.953125 C 17.125 -11.921875 17.78125 -11.390625 17.78125 -10.515625 C 17.78125 -10.34375 17.78125 -10.28125 17.640625 -9.890625 L 14.921875 -2.234375 L 11.953125 -10.578125 C 11.84375 -10.9375 11.8125 -11 11.8125 -11.15625 C 11.8125 -11.953125 12.96875 -11.953125 13.5625 -11.953125 L 13.5625 -12.890625 L 10.46875 -12.796875 C 9.5625 -12.796875 8.703125 -12.828125 7.796875 -12.890625 L 7.796875 -11.953125 C 8.90625 -11.953125 9.390625 -11.890625 9.6875 -11.515625 C 9.828125 -11.328125 10.15625 -10.4375 10.375 -9.859375 L 7.796875 -2.625 L 4.96875 -10.609375 C 4.8125 -10.96875 4.8125 -11.03125 4.8125 -11.15625 C 4.8125 -11.953125 5.984375 -11.953125 6.578125 -11.953125 L 6.578125 -12.890625 L 3.3125 -12.796875 L 0.53125 -12.890625 L 0.53125 -11.953125 C 2.03125 -11.953125 2.390625 -11.859375 2.75 -10.90625 L 6.515625 -0.328125 C 6.671875 0.09375 6.75 0.328125 7.140625 0.328125 C 7.53125 0.328125 7.59375 0.15625 7.734375 -0.265625 L 10.765625 -8.734375 L 13.8125 -0.234375 C 13.921875 0.09375 14.015625 0.328125 14.40625 0.328125 C 14.796875 0.328125 14.890625 0.0625 15 -0.234375 L 18.5 -10.046875 C 19.046875 -11.53125 19.96875 -11.921875 21.015625 -11.953125 Z M 21.015625 -11.953125 \"/>\n",
       "</symbol>\n",
       "<symbol overflow=\"visible\" id=\"glyph-1518428330974419-0-22\">\n",
       "<path style=\"stroke:none;\" d=\"M 15.984375 0 L 15.984375 -0.921875 C 13.90625 -0.921875 13.65625 -1.140625 13.65625 -2.59375 L 13.65625 -13.21875 L 9.265625 -12.890625 L 9.265625 -11.953125 C 11.359375 -11.953125 11.59375 -11.75 11.59375 -10.28125 L 11.59375 -4.96875 C 11.59375 -2.359375 10.15625 -0.328125 7.984375 -0.328125 C 5.46875 -0.328125 5.34375 -1.734375 5.34375 -3.28125 L 5.34375 -13.21875 L 0.953125 -12.890625 L 0.953125 -11.953125 C 3.28125 -11.953125 3.28125 -11.859375 3.28125 -9.203125 L 3.28125 -4.71875 C 3.28125 -2.390625 3.28125 0.328125 7.828125 0.328125 C 9.5 0.328125 10.828125 -0.515625 11.6875 -2.359375 L 11.6875 0.328125 Z M 15.984375 0 \"/>\n",
       "</symbol>\n",
       "<symbol overflow=\"visible\" id=\"glyph-1518428330974419-1-0\">\n",
       "<path style=\"stroke:none;\" d=\"\"/>\n",
       "</symbol>\n",
       "<symbol overflow=\"visible\" id=\"glyph-1518428330974419-1-1\">\n",
       "<path style=\"stroke:none;\" d=\"M 28.75 -7.71875 L 22.890625 -13.8125 L 21.96875 -12.828125 L 25.53125 -8.515625 L 1.859375 -8.515625 L 1.859375 -6.84375 L 25.53125 -6.84375 L 21.96875 -2.546875 L 22.890625 -1.546875 Z M 28.75 -7.71875 \"/>\n",
       "</symbol>\n",
       "</g>\n",
       "<clipPath id=\"clip-1518428330974419-1\">\n",
       "  <path d=\"M 171 0 L 683.050781 0 L 683.050781 102 L 171 102 Z M 171 0 \"/>\n",
       "</clipPath>\n",
       "<clipPath id=\"clip-1518428330974419-2\">\n",
       "  <path d=\"M 171 126 L 683.050781 126 L 683.050781 274 L 171 274 Z M 171 126 \"/>\n",
       "</clipPath>\n",
       "<clipPath id=\"clip-1518428330974419-3\">\n",
       "  <path d=\"M 172 299 L 683 299 L 683 355.777344 L 172 355.777344 Z M 172 299 \"/>\n",
       "</clipPath>\n",
       "<clipPath id=\"clip-1518428330974419-4\">\n",
       "  <path d=\"M 171 298 L 683.050781 298 L 683.050781 355.777344 L 171 355.777344 Z M 171 298 \"/>\n",
       "</clipPath>\n",
       "</defs>\n",
       "<g id=\"surface1\">\n",
       "<path style=\" stroke:none;fill-rule:nonzero;fill:rgb(75%,75%,75%);fill-opacity:1;\" d=\"M 682.457031 0.597656 L 172.210938 0.597656 L 172.210938 101.21875 L 682.457031 101.21875 Z M 682.457031 0.597656 \"/>\n",
       "<g clip-path=\"url(#clip-1518428330974419-1)\" clip-rule=\"nonzero\">\n",
       "<path style=\"fill:none;stroke-width:1.19553;stroke-linecap:butt;stroke-linejoin:miter;stroke:rgb(0%,0%,0%);stroke-opacity:1;stroke-miterlimit:10;\" d=\"M 255.123031 50.310344 L -255.123063 50.310344 L -255.123063 -50.31075 L 255.123031 -50.31075 Z M 255.123031 50.310344 \" transform=\"matrix(1,0,0,-1,427.334,50.908)\"/>\n",
       "</g>\n",
       "<g style=\"fill:rgb(0%,0%,0%);fill-opacity:1;\">\n",
       "  <use xlink:href=\"#glyph-1518428330974419-0-1\" x=\"282.908\" y=\"35.664\"/>\n",
       "  <use xlink:href=\"#glyph-1518428330974419-0-2\" x=\"291.216842\" y=\"35.664\"/>\n",
       "  <use xlink:href=\"#glyph-1518428330974419-0-3\" x=\"299.525684\" y=\"35.664\"/>\n",
       "  <use xlink:href=\"#glyph-1518428330974419-0-4\" x=\"316.143367\" y=\"35.664\"/>\n",
       "  <use xlink:href=\"#glyph-1518428330974419-0-5\" x=\"329.413604\" y=\"35.664\"/>\n",
       "</g>\n",
       "<g style=\"fill:rgb(0%,0%,0%);fill-opacity:1;\">\n",
       "  <use xlink:href=\"#glyph-1518428330974419-1-1\" x=\"352.658\" y=\"35.664\"/>\n",
       "</g>\n",
       "<g style=\"fill:rgb(0%,0%,0%);fill-opacity:1;\">\n",
       "  <use xlink:href=\"#glyph-1518428330974419-0-6\" x=\"391.568\" y=\"35.664\"/>\n",
       "  <use xlink:href=\"#glyph-1518428330974419-0-7\" x=\"405.675098\" y=\"35.664\"/>\n",
       "  <use xlink:href=\"#glyph-1518428330974419-0-2\" x=\"426.835746\" y=\"35.664\"/>\n",
       "  <use xlink:href=\"#glyph-1518428330974419-0-3\" x=\"435.144587\" y=\"35.664\"/>\n",
       "  <use xlink:href=\"#glyph-1518428330974419-0-8\" x=\"451.762271\" y=\"35.664\"/>\n",
       "</g>\n",
       "<g style=\"fill:rgb(0%,0%,0%);fill-opacity:1;\">\n",
       "  <use xlink:href=\"#glyph-1518428330974419-0-9\" x=\"476.658908\" y=\"35.664\"/>\n",
       "  <use xlink:href=\"#glyph-1518428330974419-0-2\" x=\"488.285309\" y=\"35.664\"/>\n",
       "  <use xlink:href=\"#glyph-1518428330974419-0-10\" x=\"496.594151\" y=\"35.664\"/>\n",
       "  <use xlink:href=\"#glyph-1518428330974419-0-10\" x=\"513.211834\" y=\"35.664\"/>\n",
       "  <use xlink:href=\"#glyph-1518428330974419-0-1\" x=\"529.829518\" y=\"35.664\"/>\n",
       "  <use xlink:href=\"#glyph-1518428330974419-0-4\" x=\"538.13836\" y=\"35.664\"/>\n",
       "  <use xlink:href=\"#glyph-1518428330974419-0-6\" x=\"551.408596\" y=\"35.664\"/>\n",
       "</g>\n",
       "<g style=\"fill:rgb(0%,0%,0%);fill-opacity:1;\">\n",
       "  <use xlink:href=\"#glyph-1518428330974419-0-1\" x=\"282.908\" y=\"80.496\"/>\n",
       "  <use xlink:href=\"#glyph-1518428330974419-0-2\" x=\"291.216842\" y=\"80.496\"/>\n",
       "  <use xlink:href=\"#glyph-1518428330974419-0-3\" x=\"299.525684\" y=\"80.496\"/>\n",
       "  <use xlink:href=\"#glyph-1518428330974419-0-4\" x=\"316.143367\" y=\"80.496\"/>\n",
       "  <use xlink:href=\"#glyph-1518428330974419-0-11\" x=\"329.413604\" y=\"80.496\"/>\n",
       "</g>\n",
       "<g style=\"fill:rgb(0%,0%,0%);fill-opacity:1;\">\n",
       "  <use xlink:href=\"#glyph-1518428330974419-1-1\" x=\"352.658\" y=\"80.496\"/>\n",
       "</g>\n",
       "<g style=\"fill:rgb(0%,0%,0%);fill-opacity:1;\">\n",
       "  <use xlink:href=\"#glyph-1518428330974419-0-6\" x=\"391.568\" y=\"80.496\"/>\n",
       "  <use xlink:href=\"#glyph-1518428330974419-0-9\" x=\"405.675098\" y=\"80.496\"/>\n",
       "  <use xlink:href=\"#glyph-1518428330974419-0-2\" x=\"417.301499\" y=\"80.496\"/>\n",
       "  <use xlink:href=\"#glyph-1518428330974419-0-10\" x=\"425.610341\" y=\"80.496\"/>\n",
       "  <use xlink:href=\"#glyph-1518428330974419-0-10\" x=\"442.228024\" y=\"80.496\"/>\n",
       "  <use xlink:href=\"#glyph-1518428330974419-0-1\" x=\"458.845708\" y=\"80.496\"/>\n",
       "  <use xlink:href=\"#glyph-1518428330974419-0-4\" x=\"467.15455\" y=\"80.496\"/>\n",
       "</g>\n",
       "<g style=\"fill:rgb(0%,0%,0%);fill-opacity:1;\">\n",
       "  <use xlink:href=\"#glyph-1518428330974419-0-12\" x=\"490.377464\" y=\"80.496\"/>\n",
       "  <use xlink:href=\"#glyph-1518428330974419-0-13\" x=\"506.995147\" y=\"80.496\"/>\n",
       "  <use xlink:href=\"#glyph-1518428330974419-0-3\" x=\"521.939107\" y=\"80.496\"/>\n",
       "  <use xlink:href=\"#glyph-1518428330974419-0-8\" x=\"538.556791\" y=\"80.496\"/>\n",
       "  <use xlink:href=\"#glyph-1518428330974419-0-14\" x=\"553.500751\" y=\"80.496\"/>\n",
       "</g>\n",
       "<g style=\"fill:rgb(0%,0%,0%);fill-opacity:1;\">\n",
       "  <use xlink:href=\"#glyph-1518428330974419-0-6\" x=\"557.655171\" y=\"80.496\"/>\n",
       "</g>\n",
       "<g style=\"fill:rgb(0%,0%,0%);fill-opacity:1;\">\n",
       "  <use xlink:href=\"#glyph-1518428330974419-0-15\" x=\"9.962\" y=\"58.664\"/>\n",
       "  <use xlink:href=\"#glyph-1518428330974419-0-15\" x=\"32.37794\" y=\"58.664\"/>\n",
       "  <use xlink:href=\"#glyph-1518428330974419-0-16\" x=\"54.79388\" y=\"58.664\"/>\n",
       "  <use xlink:href=\"#glyph-1518428330974419-0-13\" x=\"79.690517\" y=\"58.664\"/>\n",
       "  <use xlink:href=\"#glyph-1518428330974419-0-2\" x=\"94.634477\" y=\"58.664\"/>\n",
       "  <use xlink:href=\"#glyph-1518428330974419-0-3\" x=\"102.943319\" y=\"58.664\"/>\n",
       "  <use xlink:href=\"#glyph-1518428330974419-0-15\" x=\"119.561003\" y=\"58.664\"/>\n",
       "  <use xlink:href=\"#glyph-1518428330974419-0-15\" x=\"141.976943\" y=\"58.664\"/>\n",
       "</g>\n",
       "<path style=\" stroke:none;fill-rule:nonzero;fill:rgb(75%,75%,75%);fill-opacity:1;\" d=\"M 682.457031 127 L 172.210938 127 L 172.210938 272.457031 L 682.457031 272.457031 Z M 682.457031 127 \"/>\n",
       "<g clip-path=\"url(#clip-1518428330974419-2)\" clip-rule=\"nonzero\">\n",
       "<path style=\"fill:none;stroke-width:1.19553;stroke-linecap:butt;stroke-linejoin:miter;stroke:rgb(0%,0%,0%);stroke-opacity:1;stroke-miterlimit:10;\" d=\"M 255.123031 -76.092 L -255.123063 -76.092 L -255.123063 -221.549031 L 255.123031 -221.549031 Z M 255.123031 -76.092 \" transform=\"matrix(1,0,0,-1,427.334,50.908)\"/>\n",
       "</g>\n",
       "<g style=\"fill:rgb(0%,0%,0%);fill-opacity:1;\">\n",
       "  <use xlink:href=\"#glyph-1518428330974419-0-17\" x=\"208.279\" y=\"162.069\"/>\n",
       "  <use xlink:href=\"#glyph-1518428330974419-0-13\" x=\"224.896684\" y=\"162.069\"/>\n",
       "  <use xlink:href=\"#glyph-1518428330974419-0-18\" x=\"239.840644\" y=\"162.069\"/>\n",
       "  <use xlink:href=\"#glyph-1518428330974419-0-9\" x=\"251.556708\" y=\"162.069\"/>\n",
       "  <use xlink:href=\"#glyph-1518428330974419-0-5\" x=\"263.183109\" y=\"162.069\"/>\n",
       "</g>\n",
       "<g style=\"fill:rgb(0%,0%,0%);fill-opacity:1;\">\n",
       "  <use xlink:href=\"#glyph-1518428330974419-1-1\" x=\"286.429\" y=\"162.069\"/>\n",
       "</g>\n",
       "<g style=\"fill:rgb(0%,0%,0%);fill-opacity:1;\">\n",
       "  <use xlink:href=\"#glyph-1518428330974419-0-6\" x=\"325.336\" y=\"162.069\"/>\n",
       "  <use xlink:href=\"#glyph-1518428330974419-0-7\" x=\"339.443098\" y=\"162.069\"/>\n",
       "  <use xlink:href=\"#glyph-1518428330974419-0-2\" x=\"360.603746\" y=\"162.069\"/>\n",
       "  <use xlink:href=\"#glyph-1518428330974419-0-3\" x=\"368.912587\" y=\"162.069\"/>\n",
       "  <use xlink:href=\"#glyph-1518428330974419-0-8\" x=\"385.530271\" y=\"162.069\"/>\n",
       "</g>\n",
       "<g style=\"fill:rgb(0%,0%,0%);fill-opacity:1;\">\n",
       "  <use xlink:href=\"#glyph-1518428330974419-0-9\" x=\"410.426908\" y=\"162.069\"/>\n",
       "  <use xlink:href=\"#glyph-1518428330974419-0-2\" x=\"422.053309\" y=\"162.069\"/>\n",
       "  <use xlink:href=\"#glyph-1518428330974419-0-10\" x=\"430.362151\" y=\"162.069\"/>\n",
       "  <use xlink:href=\"#glyph-1518428330974419-0-10\" x=\"446.979834\" y=\"162.069\"/>\n",
       "  <use xlink:href=\"#glyph-1518428330974419-0-1\" x=\"463.597518\" y=\"162.069\"/>\n",
       "  <use xlink:href=\"#glyph-1518428330974419-0-4\" x=\"471.90636\" y=\"162.069\"/>\n",
       "  <use xlink:href=\"#glyph-1518428330974419-0-6\" x=\"485.176596\" y=\"162.069\"/>\n",
       "</g>\n",
       "<g style=\"fill:rgb(0%,0%,0%);fill-opacity:1;\">\n",
       "  <use xlink:href=\"#glyph-1518428330974419-0-17\" x=\"208.279\" y=\"206.901\"/>\n",
       "  <use xlink:href=\"#glyph-1518428330974419-0-13\" x=\"224.896684\" y=\"206.901\"/>\n",
       "  <use xlink:href=\"#glyph-1518428330974419-0-18\" x=\"239.840644\" y=\"206.901\"/>\n",
       "  <use xlink:href=\"#glyph-1518428330974419-0-9\" x=\"251.556708\" y=\"206.901\"/>\n",
       "  <use xlink:href=\"#glyph-1518428330974419-0-11\" x=\"263.183109\" y=\"206.901\"/>\n",
       "</g>\n",
       "<g style=\"fill:rgb(0%,0%,0%);fill-opacity:1;\">\n",
       "  <use xlink:href=\"#glyph-1518428330974419-1-1\" x=\"286.429\" y=\"206.901\"/>\n",
       "</g>\n",
       "<g style=\"fill:rgb(0%,0%,0%);fill-opacity:1;\">\n",
       "  <use xlink:href=\"#glyph-1518428330974419-0-6\" x=\"325.336\" y=\"206.901\"/>\n",
       "  <use xlink:href=\"#glyph-1518428330974419-0-9\" x=\"339.443098\" y=\"206.901\"/>\n",
       "  <use xlink:href=\"#glyph-1518428330974419-0-2\" x=\"351.069499\" y=\"206.901\"/>\n",
       "  <use xlink:href=\"#glyph-1518428330974419-0-10\" x=\"359.378341\" y=\"206.901\"/>\n",
       "  <use xlink:href=\"#glyph-1518428330974419-0-10\" x=\"375.996024\" y=\"206.901\"/>\n",
       "  <use xlink:href=\"#glyph-1518428330974419-0-1\" x=\"392.613708\" y=\"206.901\"/>\n",
       "  <use xlink:href=\"#glyph-1518428330974419-0-4\" x=\"400.92255\" y=\"206.901\"/>\n",
       "</g>\n",
       "<g style=\"fill:rgb(0%,0%,0%);fill-opacity:1;\">\n",
       "  <use xlink:href=\"#glyph-1518428330974419-0-12\" x=\"424.145464\" y=\"206.901\"/>\n",
       "  <use xlink:href=\"#glyph-1518428330974419-0-13\" x=\"440.763147\" y=\"206.901\"/>\n",
       "  <use xlink:href=\"#glyph-1518428330974419-0-3\" x=\"455.707107\" y=\"206.901\"/>\n",
       "  <use xlink:href=\"#glyph-1518428330974419-0-8\" x=\"472.324791\" y=\"206.901\"/>\n",
       "  <use xlink:href=\"#glyph-1518428330974419-0-14\" x=\"487.268751\" y=\"206.901\"/>\n",
       "</g>\n",
       "<g style=\"fill:rgb(0%,0%,0%);fill-opacity:1;\">\n",
       "  <use xlink:href=\"#glyph-1518428330974419-0-6\" x=\"491.423171\" y=\"206.901\"/>\n",
       "</g>\n",
       "<g style=\"fill:rgb(0%,0%,0%);fill-opacity:1;\">\n",
       "  <use xlink:href=\"#glyph-1518428330974419-0-19\" x=\"193.453\" y=\"251.733\"/>\n",
       "  <use xlink:href=\"#glyph-1518428330974419-0-20\" x=\"206.723236\" y=\"251.733\"/>\n",
       "  <use xlink:href=\"#glyph-1518428330974419-0-3\" x=\"221.667196\" y=\"251.733\"/>\n",
       "  <use xlink:href=\"#glyph-1518428330974419-0-19\" x=\"238.28488\" y=\"251.733\"/>\n",
       "  <use xlink:href=\"#glyph-1518428330974419-0-13\" x=\"251.555116\" y=\"251.733\"/>\n",
       "  <use xlink:href=\"#glyph-1518428330974419-0-9\" x=\"266.499076\" y=\"251.733\"/>\n",
       "</g>\n",
       "<g style=\"fill:rgb(0%,0%,0%);fill-opacity:1;\">\n",
       "  <use xlink:href=\"#glyph-1518428330974419-1-1\" x=\"286.429\" y=\"251.733\"/>\n",
       "</g>\n",
       "<g style=\"fill:rgb(0%,0%,0%);fill-opacity:1;\">\n",
       "  <use xlink:href=\"#glyph-1518428330974419-0-6\" x=\"325.336\" y=\"251.733\"/>\n",
       "  <use xlink:href=\"#glyph-1518428330974419-0-7\" x=\"339.443098\" y=\"251.733\"/>\n",
       "  <use xlink:href=\"#glyph-1518428330974419-0-2\" x=\"360.603746\" y=\"251.733\"/>\n",
       "  <use xlink:href=\"#glyph-1518428330974419-0-3\" x=\"368.912587\" y=\"251.733\"/>\n",
       "  <use xlink:href=\"#glyph-1518428330974419-0-8\" x=\"385.530271\" y=\"251.733\"/>\n",
       "</g>\n",
       "<g style=\"fill:rgb(0%,0%,0%);fill-opacity:1;\">\n",
       "  <use xlink:href=\"#glyph-1518428330974419-0-9\" x=\"410.426908\" y=\"251.733\"/>\n",
       "  <use xlink:href=\"#glyph-1518428330974419-0-2\" x=\"422.053309\" y=\"251.733\"/>\n",
       "  <use xlink:href=\"#glyph-1518428330974419-0-10\" x=\"430.362151\" y=\"251.733\"/>\n",
       "  <use xlink:href=\"#glyph-1518428330974419-0-10\" x=\"446.979834\" y=\"251.733\"/>\n",
       "  <use xlink:href=\"#glyph-1518428330974419-0-1\" x=\"463.597518\" y=\"251.733\"/>\n",
       "  <use xlink:href=\"#glyph-1518428330974419-0-4\" x=\"471.90636\" y=\"251.733\"/>\n",
       "</g>\n",
       "<g style=\"fill:rgb(0%,0%,0%);fill-opacity:1;\">\n",
       "  <use xlink:href=\"#glyph-1518428330974419-0-9\" x=\"495.129274\" y=\"251.733\"/>\n",
       "  <use xlink:href=\"#glyph-1518428330974419-0-2\" x=\"506.755674\" y=\"251.733\"/>\n",
       "  <use xlink:href=\"#glyph-1518428330974419-0-10\" x=\"515.064516\" y=\"251.733\"/>\n",
       "  <use xlink:href=\"#glyph-1518428330974419-0-10\" x=\"531.6822\" y=\"251.733\"/>\n",
       "  <use xlink:href=\"#glyph-1518428330974419-0-1\" x=\"548.299883\" y=\"251.733\"/>\n",
       "  <use xlink:href=\"#glyph-1518428330974419-0-4\" x=\"556.608725\" y=\"251.733\"/>\n",
       "</g>\n",
       "<g style=\"fill:rgb(0%,0%,0%);fill-opacity:1;\">\n",
       "  <use xlink:href=\"#glyph-1518428330974419-0-12\" x=\"579.831639\" y=\"251.733\"/>\n",
       "  <use xlink:href=\"#glyph-1518428330974419-0-13\" x=\"596.449322\" y=\"251.733\"/>\n",
       "  <use xlink:href=\"#glyph-1518428330974419-0-3\" x=\"611.393282\" y=\"251.733\"/>\n",
       "  <use xlink:href=\"#glyph-1518428330974419-0-8\" x=\"628.010966\" y=\"251.733\"/>\n",
       "  <use xlink:href=\"#glyph-1518428330974419-0-14\" x=\"642.954926\" y=\"251.733\"/>\n",
       "</g>\n",
       "<g style=\"fill:rgb(0%,0%,0%);fill-opacity:1;\">\n",
       "  <use xlink:href=\"#glyph-1518428330974419-0-6\" x=\"647.109347\" y=\"251.733\"/>\n",
       "</g>\n",
       "<g style=\"fill:rgb(0%,0%,0%);fill-opacity:1;\">\n",
       "  <use xlink:href=\"#glyph-1518428330974419-0-19\" x=\"22.44\" y=\"207.481\"/>\n",
       "  <use xlink:href=\"#glyph-1518428330974419-0-13\" x=\"35.710236\" y=\"207.481\"/>\n",
       "  <use xlink:href=\"#glyph-1518428330974419-0-9\" x=\"50.654196\" y=\"207.481\"/>\n",
       "  <use xlink:href=\"#glyph-1518428330974419-0-15\" x=\"62.280597\" y=\"207.481\"/>\n",
       "  <use xlink:href=\"#glyph-1518428330974419-0-9\" x=\"84.696537\" y=\"207.481\"/>\n",
       "</g>\n",
       "<g style=\"fill:rgb(0%,0%,0%);fill-opacity:1;\">\n",
       "  <use xlink:href=\"#glyph-1518428330974419-0-21\" x=\"95.486076\" y=\"207.481\"/>\n",
       "  <use xlink:href=\"#glyph-1518428330974419-0-2\" x=\"117.065155\" y=\"207.481\"/>\n",
       "  <use xlink:href=\"#glyph-1518428330974419-0-19\" x=\"125.373996\" y=\"207.481\"/>\n",
       "  <use xlink:href=\"#glyph-1518428330974419-0-4\" x=\"138.644233\" y=\"207.481\"/>\n",
       "</g>\n",
       "<g clip-path=\"url(#clip-1518428330974419-3)\" clip-rule=\"nonzero\">\n",
       "<path style=\" stroke:none;fill-rule:nonzero;fill:rgb(75%,75%,75%);fill-opacity:1;\" d=\"M 682.457031 299.390625 L 172.210938 299.390625 L 172.210938 355.183594 L 682.457031 355.183594 Z M 682.457031 299.390625 \"/>\n",
       "</g>\n",
       "<g clip-path=\"url(#clip-1518428330974419-4)\" clip-rule=\"nonzero\">\n",
       "<path style=\"fill:none;stroke-width:1.19553;stroke-linecap:butt;stroke-linejoin:miter;stroke:rgb(0%,0%,0%);stroke-opacity:1;stroke-miterlimit:10;\" d=\"M 255.123031 -248.482625 L -255.123063 -248.482625 L -255.123063 -304.275594 L 255.123031 -304.275594 Z M 255.123031 -248.482625 \" transform=\"matrix(1,0,0,-1,427.334,50.908)\"/>\n",
       "</g>\n",
       "<g style=\"fill:rgb(0%,0%,0%);fill-opacity:1;\">\n",
       "  <use xlink:href=\"#glyph-1518428330974419-0-12\" x=\"185.1\" y=\"334.458\"/>\n",
       "  <use xlink:href=\"#glyph-1518428330974419-0-18\" x=\"201.717684\" y=\"334.458\"/>\n",
       "  <use xlink:href=\"#glyph-1518428330974419-0-22\" x=\"213.433748\" y=\"334.458\"/>\n",
       "  <use xlink:href=\"#glyph-1518428330974419-0-19\" x=\"230.051432\" y=\"334.458\"/>\n",
       "  <use xlink:href=\"#glyph-1518428330974419-0-4\" x=\"243.321668\" y=\"334.458\"/>\n",
       "</g>\n",
       "<g style=\"fill:rgb(0%,0%,0%);fill-opacity:1;\">\n",
       "  <use xlink:href=\"#glyph-1518428330974419-1-1\" x=\"264.894\" y=\"334.458\"/>\n",
       "</g>\n",
       "<g style=\"fill:rgb(0%,0%,0%);fill-opacity:1;\">\n",
       "  <use xlink:href=\"#glyph-1518428330974419-0-6\" x=\"303.801\" y=\"334.458\"/>\n",
       "  <use xlink:href=\"#glyph-1518428330974419-0-7\" x=\"317.908098\" y=\"334.458\"/>\n",
       "  <use xlink:href=\"#glyph-1518428330974419-0-2\" x=\"339.068746\" y=\"334.458\"/>\n",
       "  <use xlink:href=\"#glyph-1518428330974419-0-3\" x=\"347.377587\" y=\"334.458\"/>\n",
       "  <use xlink:href=\"#glyph-1518428330974419-0-8\" x=\"363.995271\" y=\"334.458\"/>\n",
       "</g>\n",
       "<g style=\"fill:rgb(0%,0%,0%);fill-opacity:1;\">\n",
       "  <use xlink:href=\"#glyph-1518428330974419-0-9\" x=\"388.891908\" y=\"334.458\"/>\n",
       "  <use xlink:href=\"#glyph-1518428330974419-0-2\" x=\"400.518309\" y=\"334.458\"/>\n",
       "  <use xlink:href=\"#glyph-1518428330974419-0-10\" x=\"408.827151\" y=\"334.458\"/>\n",
       "  <use xlink:href=\"#glyph-1518428330974419-0-10\" x=\"425.444834\" y=\"334.458\"/>\n",
       "  <use xlink:href=\"#glyph-1518428330974419-0-1\" x=\"442.062518\" y=\"334.458\"/>\n",
       "  <use xlink:href=\"#glyph-1518428330974419-0-4\" x=\"450.37136\" y=\"334.458\"/>\n",
       "</g>\n",
       "<g style=\"fill:rgb(0%,0%,0%);fill-opacity:1;\">\n",
       "  <use xlink:href=\"#glyph-1518428330974419-0-9\" x=\"473.594274\" y=\"334.458\"/>\n",
       "  <use xlink:href=\"#glyph-1518428330974419-0-2\" x=\"485.220674\" y=\"334.458\"/>\n",
       "  <use xlink:href=\"#glyph-1518428330974419-0-10\" x=\"493.529516\" y=\"334.458\"/>\n",
       "  <use xlink:href=\"#glyph-1518428330974419-0-10\" x=\"510.1472\" y=\"334.458\"/>\n",
       "  <use xlink:href=\"#glyph-1518428330974419-0-1\" x=\"526.764883\" y=\"334.458\"/>\n",
       "  <use xlink:href=\"#glyph-1518428330974419-0-4\" x=\"535.073725\" y=\"334.458\"/>\n",
       "</g>\n",
       "<g style=\"fill:rgb(0%,0%,0%);fill-opacity:1;\">\n",
       "  <use xlink:href=\"#glyph-1518428330974419-0-12\" x=\"558.296639\" y=\"334.458\"/>\n",
       "  <use xlink:href=\"#glyph-1518428330974419-0-13\" x=\"574.914322\" y=\"334.458\"/>\n",
       "  <use xlink:href=\"#glyph-1518428330974419-0-3\" x=\"589.858282\" y=\"334.458\"/>\n",
       "  <use xlink:href=\"#glyph-1518428330974419-0-8\" x=\"606.475966\" y=\"334.458\"/>\n",
       "  <use xlink:href=\"#glyph-1518428330974419-0-14\" x=\"621.419926\" y=\"334.458\"/>\n",
       "</g>\n",
       "<g style=\"fill:rgb(0%,0%,0%);fill-opacity:1;\">\n",
       "  <use xlink:href=\"#glyph-1518428330974419-0-6\" x=\"625.574347\" y=\"334.458\"/>\n",
       "</g>\n",
       "<g style=\"fill:rgb(0%,0%,0%);fill-opacity:1;\">\n",
       "  <use xlink:href=\"#glyph-1518428330974419-0-17\" x=\"10.335\" y=\"334.199\"/>\n",
       "  <use xlink:href=\"#glyph-1518428330974419-0-18\" x=\"26.952684\" y=\"334.199\"/>\n",
       "  <use xlink:href=\"#glyph-1518428330974419-0-2\" x=\"38.668748\" y=\"334.199\"/>\n",
       "  <use xlink:href=\"#glyph-1518428330974419-0-3\" x=\"46.97759\" y=\"334.199\"/>\n",
       "</g>\n",
       "<g style=\"fill:rgb(0%,0%,0%);fill-opacity:1;\">\n",
       "  <use xlink:href=\"#glyph-1518428330974419-0-9\" x=\"62.758412\" y=\"334.199\"/>\n",
       "  <use xlink:href=\"#glyph-1518428330974419-0-15\" x=\"74.384813\" y=\"334.199\"/>\n",
       "  <use xlink:href=\"#glyph-1518428330974419-0-9\" x=\"96.800753\" y=\"334.199\"/>\n",
       "</g>\n",
       "<g style=\"fill:rgb(0%,0%,0%);fill-opacity:1;\">\n",
       "  <use xlink:href=\"#glyph-1518428330974419-0-21\" x=\"107.590292\" y=\"334.199\"/>\n",
       "  <use xlink:href=\"#glyph-1518428330974419-0-2\" x=\"129.16937\" y=\"334.199\"/>\n",
       "  <use xlink:href=\"#glyph-1518428330974419-0-19\" x=\"137.478212\" y=\"334.199\"/>\n",
       "  <use xlink:href=\"#glyph-1518428330974419-0-4\" x=\"150.748448\" y=\"334.199\"/>\n",
       "</g>\n",
       "</g>\n",
       "</svg>\n",
       "\n"
      ],
      "text/plain": [
       "TikzPictures.TikzPicture(L\"    \\node (main) [draw, fill=lightgray, minimum width=6cm] {$\\begin{aligned}\n",
       "    \\textrm{line1}&\\rightarrow \\textrm{\\\"Bing tiddle\\\"}\\\\\n",
       "    \\textrm{line2}&\\rightarrow \\textrm{\\\"tiddle bang.\\\"}\n",
       "    \\end{aligned}$};\n",
       "    \\node [left of=main, xshift=-3cm] {\\textrm{\\_\\_main\\_\\_}};\n",
       "    \\node (cat) [draw, fill=lightgray, below of=main, yshift=-0.75cm,minimum width=6cm] {$\\begin{aligned}\n",
       "    \\textrm{part1}&\\rightarrow \\textrm{\\\"Bing tiddle\\\"}\\\\\n",
       "    \\textrm{part2}&\\rightarrow \\textrm{\\\"tiddle bang.\\\"}\\\\\n",
       "    \\textrm{concat}&\\rightarrow \\textrm{\\\"Bing tiddle tiddle bang.\\\"}\n",
       "    \\end{aligned}$};\n",
       "    \\node [left of=cat, xshift=-3cm] {\\textrm{cat\\_twice}};\n",
       "    \\node (print) [draw, fill=lightgray, below of=cat, yshift=-0.5cm,minimum width=6cm] {$\\begin{aligned}\n",
       "    \\textrm{bruce}&\\rightarrow \\textrm{\\\"Bing tiddle tiddle bang.\\\"}\n",
       "    \\end{aligned}$};\n",
       "    \\node [left of=print, xshift=-3cm] {\\textrm{print\\_twice}};\n",
       "\", \"very thick, scale=3, transform shape\", \"    \\\\usepackage{newtxmath}\\n    \\\\renewcommand{\\\\familydefault}{\\\\sfdefault}\\n\", true, true)"
      ]
     },
     "execution_count": 35,
     "metadata": {},
     "output_type": "execute_result"
    }
   ],
   "source": [
    "using TikzPictures\n",
    "TikzPicture(L\"\"\"\n",
    "    \\node (main) [draw, fill=lightgray, minimum width=6cm] {$\\begin{aligned}\n",
    "    \\textrm{line1}&\\rightarrow \\textrm{\"Bing tiddle\"}\\\\\n",
    "    \\textrm{line2}&\\rightarrow \\textrm{\"tiddle bang.\"}\n",
    "    \\end{aligned}$};\n",
    "    \\node [left of=main, xshift=-3cm] {\\textrm{\\_\\_main\\_\\_}};\n",
    "    \\node (cat) [draw, fill=lightgray, below of=main, yshift=-0.75cm,minimum width=6cm] {$\\begin{aligned}\n",
    "    \\textrm{part1}&\\rightarrow \\textrm{\"Bing tiddle\"}\\\\\n",
    "    \\textrm{part2}&\\rightarrow \\textrm{\"tiddle bang.\"}\\\\\n",
    "    \\textrm{concat}&\\rightarrow \\textrm{\"Bing tiddle tiddle bang.\"}\n",
    "    \\end{aligned}$};\n",
    "    \\node [left of=cat, xshift=-3cm] {\\textrm{cat\\_twice}};\n",
    "    \\node (print) [draw, fill=lightgray, below of=cat, yshift=-0.5cm,minimum width=6cm] {$\\begin{aligned}\n",
    "    \\textrm{bruce}&\\rightarrow \\textrm{\"Bing tiddle tiddle bang.\"}\n",
    "    \\end{aligned}$};\n",
    "    \\node [left of=print, xshift=-3cm] {\\textrm{print\\_twice}};\n",
    "\"\"\"; options=\"very thick, scale=3, transform shape\", preamble=\"\"\"\n",
    "    \\\\usepackage{newtxmath}\n",
    "    \\\\renewcommand{\\\\familydefault}{\\\\sfdefault}\n",
    "\"\"\")"
   ]
  },
  {
   "cell_type": "markdown",
   "metadata": {
    "slideshow": {
     "slide_type": "subslide"
    }
   },
   "source": [
    "The frames are arranged in a stack that indicates which function called which, and so on. In this example, `print_twice` was called by `cat_twice`, and cat_twice was called by `__main__`, which is a special name for the topmost frame. When you create a variable outside of any function, it belongs to `__main__`.\n",
    "\n",
    "Each parameter refers to the same value as its corresponding argument. So, `part1` has the same value as `line1`, `part2` has the same value as `line2`, and `bruce` has the same value as `cat`.\n",
    "\n",
    "If an error occurs during a function call, Julia and Python print the name of the function, the name of the function that called it, and the name of the function that called that, all the way back to `__main__`."
   ]
  },
  {
   "cell_type": "markdown",
   "metadata": {
    "slideshow": {
     "slide_type": "subslide"
    }
   },
   "source": [
    "For example, if you try to access `concat` from within print_twice, you get an `UndefVarError`:"
   ]
  },
  {
   "cell_type": "code",
   "execution_count": 36,
   "metadata": {},
   "outputs": [
    {
     "data": {
      "text/plain": [
       "print_twice (generic function with 1 method)"
      ]
     },
     "execution_count": 36,
     "metadata": {},
     "output_type": "execute_result"
    }
   ],
   "source": [
    "function print_twice(bruce)\n",
    "    println(concat)\n",
    "    println(bruce)\n",
    "end"
   ]
  },
  {
   "cell_type": "code",
   "execution_count": 37,
   "metadata": {},
   "outputs": [
    {
     "ename": "LoadError",
     "evalue": "\u001b[91mUndefVarError: concat not defined\u001b[39m",
     "output_type": "error",
     "traceback": [
      "\u001b[91mUndefVarError: concat not defined\u001b[39m",
      "",
      "Stacktrace:",
      " [1] \u001b[1mprint_twice\u001b[22m\u001b[22m at \u001b[1m./In[36]:2\u001b[22m\u001b[22m [inlined]",
      " [2] \u001b[1mcat_twice\u001b[22m\u001b[22m\u001b[1m(\u001b[22m\u001b[22m::String, ::String\u001b[1m)\u001b[22m\u001b[22m at \u001b[1m./In[32]:3\u001b[22m\u001b[22m",
      " [3] \u001b[1minclude_string\u001b[22m\u001b[22m\u001b[1m(\u001b[22m\u001b[22m::String, ::String\u001b[1m)\u001b[22m\u001b[22m at \u001b[1m./loading.jl:522\u001b[22m\u001b[22m"
     ]
    }
   ],
   "source": [
    "cat_twice(line1, line2)"
   ]
  },
  {
   "cell_type": "markdown",
   "metadata": {},
   "source": [
    "This list of functions is called a `traceback`. It tells you what program file the error occurred in, and what line, and what functions were executing at the time. It also shows the line of code that caused the error.\n",
    "\n",
    "The order of the functions in the traceback is the same as the order of the frames in the stack diagram. The function that is currently running is at the bottom."
   ]
  },
  {
   "cell_type": "markdown",
   "metadata": {
    "slideshow": {
     "slide_type": "slide"
    }
   },
   "source": [
    "# Fruitful Functions and Void Functions\n",
    "\n",
    "Some of the functions we have used, such as the math functions, return results; for lack of a better name, I call them fruitful functions. Other functions, like `print_twice`, perform an action but don’t return a value. They are called `void` functions.\n",
    "\n",
    "When you call a fruitful function, you almost always want to do something with the result; for example, you might assign it to a variable or use it as part of an expression:"
   ]
  },
  {
   "cell_type": "code",
   "execution_count": 38,
   "metadata": {},
   "outputs": [
    {
     "data": {
      "text/plain": [
       "1.618033988749895"
      ]
     },
     "execution_count": 38,
     "metadata": {},
     "output_type": "execute_result"
    }
   ],
   "source": [
    "x = cos(radians)\n",
    "golden = (sqrt(5) + 1) / 2"
   ]
  },
  {
   "cell_type": "markdown",
   "metadata": {},
   "source": [
    "When you call a function in interactive mode, Julia and Python display the result. \n",
    "\n",
    "But in a script, if you call a fruitful function all by itself, the return value is lost forever!"
   ]
  },
  {
   "cell_type": "markdown",
   "metadata": {
    "slideshow": {
     "slide_type": "subslide"
    }
   },
   "source": [
    "Void functions might display something on the screen or have some other effect, but they don’t have a return value. If you assign the result to a variable, you get a special value called `nothing`."
   ]
  },
  {
   "cell_type": "code",
   "execution_count": 39,
   "metadata": {
    "slideshow": {
     "slide_type": "skip"
    }
   },
   "outputs": [
    {
     "data": {
      "text/plain": [
       "print_twice (generic function with 1 method)"
      ]
     },
     "execution_count": 39,
     "metadata": {},
     "output_type": "execute_result"
    }
   ],
   "source": [
    "function print_twice(bruce)\n",
    "    println(bruce)\n",
    "    println(bruce)\n",
    "end"
   ]
  },
  {
   "cell_type": "code",
   "execution_count": 40,
   "metadata": {},
   "outputs": [
    {
     "name": "stdout",
     "output_type": "stream",
     "text": [
      "Bing\n",
      "Bing\n"
     ]
    }
   ],
   "source": [
    "result = print_twice(\"Bing\")"
   ]
  },
  {
   "cell_type": "code",
   "execution_count": 41,
   "metadata": {},
   "outputs": [
    {
     "name": "stdout",
     "output_type": "stream",
     "text": [
      "nothing\n"
     ]
    }
   ],
   "source": [
    "println(result)"
   ]
  },
  {
   "cell_type": "markdown",
   "metadata": {},
   "source": [
    "The value `nothing` is not the same as the string `\"nothing\"`. It is a special value that has its own type:"
   ]
  },
  {
   "cell_type": "code",
   "execution_count": 42,
   "metadata": {},
   "outputs": [
    {
     "data": {
      "text/plain": [
       "Void"
      ]
     },
     "execution_count": 42,
     "metadata": {},
     "output_type": "execute_result"
    }
   ],
   "source": [
    "typeof(nothing)"
   ]
  },
  {
   "cell_type": "markdown",
   "metadata": {},
   "source": [
    "The functions we have written so far are all `Void`. We will start writing fruitful functions in a few lectures."
   ]
  },
  {
   "cell_type": "markdown",
   "metadata": {
    "slideshow": {
     "slide_type": "slide"
    }
   },
   "source": [
    "# Why Functions?\n",
    "\n",
    "It may not be clear why it is worth the trouble to divide a program into functions. There are several reasons:\n",
    "\n",
    "- Creating a new function gives you an opportunity to name a group of statements, which makes your program easier to read and debug.\n",
    "\n",
    "- Functions can make a program smaller by eliminating repetitive code. Later, if you make a change, you only have to make it in one place.\n",
    "\n",
    "- Dividing a long program into functions allows you to debug the parts one at a time and then assemble them into a working whole.\n",
    "\n",
    "- Well-designed functions are often useful for many programs. Once you write and debug one, you can reuse it."
   ]
  },
  {
   "cell_type": "markdown",
   "metadata": {
    "slideshow": {
     "slide_type": "slide"
    }
   },
   "source": [
    "# Case study: Interface Design\n",
    "\n",
    "This section presents a case study that demonstrates a process for designing functions that work together.\n",
    "\n",
    "It introduces the turtle module, which allows you to create images using turtle graphics. "
   ]
  },
  {
   "cell_type": "markdown",
   "metadata": {
    "slideshow": {
     "slide_type": "subslide"
    }
   },
   "source": [
    "## The Turtle Module\n",
    "\n",
    "To check whether you have the Turtle module, type"
   ]
  },
  {
   "cell_type": "code",
   "execution_count": 43,
   "metadata": {},
   "outputs": [
    {
     "data": {
      "text/plain": [
       "Luxor.Turtle(0.0, 0.0, true, 0.0, (0.0, 0.0, 0.0))"
      ]
     },
     "execution_count": 43,
     "metadata": {},
     "output_type": "execute_result"
    }
   ],
   "source": [
    "using Luxor\n",
    "🐢 = Turtle()"
   ]
  },
  {
   "cell_type": "markdown",
   "metadata": {},
   "source": [
    "As in Python, a module in Julia is a file that contains a collection of related functions.\n",
    "\n",
    "Before we can use the functions in a module, we have to import it with an `using` statement:\n",
    "```julia\n",
    "using Luxor\n",
    "```\n",
    "\n",
    "This statement creates a module object named `Luxor` and all exported functions are directly available."
   ]
  },
  {
   "cell_type": "markdown",
   "metadata": {
    "slideshow": {
     "slide_type": "subslide"
    }
   },
   "source": [
    "The `Luxor` module provides a function called `Turtle` that creates a Turtle object, which we assign to a variable named 🐢.\n",
    "\n",
    "Once you create a Turtle, you can call a function to move it around a drawing. For example, to move the turtle forward:"
   ]
  },
  {
   "cell_type": "code",
   "execution_count": 44,
   "metadata": {},
   "outputs": [
    {
     "data": {
      "image/svg+xml": [
       "<?xml version=\"1.0\" encoding=\"UTF-8\"?>\n",
       "<svg xmlns=\"http://www.w3.org/2000/svg\" xmlns:xlink=\"http://www.w3.org/1999/xlink\" width=\"600pt\" height=\"600pt\" viewBox=\"0 0 600 600\" version=\"1.1\">\n",
       "<g id=\"surface1\">\n",
       "<rect x=\"0\" y=\"0\" width=\"600\" height=\"600\" style=\"fill:rgb(100%,100%,100%);fill-opacity:1;stroke:none;\"/>\n",
       "<path style=\"fill:none;stroke-width:2;stroke-linecap:butt;stroke-linejoin:miter;stroke:rgb(0%,0%,0%);stroke-opacity:1;stroke-miterlimit:10;\" d=\"M 300 300 L 400 300 \"/>\n",
       "</g>\n",
       "</svg>\n"
      ]
     },
     "metadata": {},
     "output_type": "display_data"
    }
   ],
   "source": [
    "@svg begin\n",
    "    Forward(🐢, 100)\n",
    "end"
   ]
  },
  {
   "cell_type": "markdown",
   "metadata": {
    "slideshow": {
     "slide_type": "subslide"
    }
   },
   "source": [
    "The `@svg` keyword starts a macro that draws a svg picture. Macros are an important feature of Julia. We will use them but we won't detail how to create them.\n",
    "\n",
    "The arguments of `Forward` are the Turtle and a distance in pixels, so the actual size depends on your display.\n",
    "\n",
    "Another you can call on a Turtle is `Turn` for turning. The second argument for `Turn` is an angle in degrees.\n",
    "\n",
    "Also, each Turtle is holding a pen, which is either down or up; if the pen is down, the Turtle leaves a trail when it moves. The functions `Penup` and `Pendown` stand for “pen up” and “pen down”."
   ]
  },
  {
   "cell_type": "markdown",
   "metadata": {
    "slideshow": {
     "slide_type": "subslide"
    }
   },
   "source": [
    "To draw a right angle:"
   ]
  },
  {
   "cell_type": "code",
   "execution_count": 45,
   "metadata": {},
   "outputs": [
    {
     "data": {
      "image/svg+xml": [
       "<?xml version=\"1.0\" encoding=\"UTF-8\"?>\n",
       "<svg xmlns=\"http://www.w3.org/2000/svg\" xmlns:xlink=\"http://www.w3.org/1999/xlink\" width=\"600pt\" height=\"600pt\" viewBox=\"0 0 600 600\" version=\"1.1\">\n",
       "<g id=\"surface6\">\n",
       "<rect x=\"0\" y=\"0\" width=\"600\" height=\"600\" style=\"fill:rgb(100%,100%,100%);fill-opacity:1;stroke:none;\"/>\n",
       "<path style=\"fill:none;stroke-width:2;stroke-linecap:butt;stroke-linejoin:miter;stroke:rgb(0%,0%,0%);stroke-opacity:1;stroke-miterlimit:10;\" d=\"M 300 300 L 400 300 \"/>\n",
       "<path style=\"fill:none;stroke-width:2;stroke-linecap:butt;stroke-linejoin:miter;stroke:rgb(0%,0%,0%);stroke-opacity:1;stroke-miterlimit:10;\" d=\"M 400 300 L 400 200 \"/>\n",
       "</g>\n",
       "</svg>\n"
      ]
     },
     "metadata": {},
     "output_type": "display_data"
    }
   ],
   "source": [
    "🐢 = Turtle()\n",
    "@svg begin\n",
    "    Forward(🐢, 100)\n",
    "    Turn(🐢, -90)\n",
    "    Forward(🐢, 100)\n",
    "end"
   ]
  },
  {
   "cell_type": "markdown",
   "metadata": {
    "slideshow": {
     "slide_type": "subslide"
    }
   },
   "source": [
    "When you run this program, you should see the Turtle move east and then north, leaving two line segments behind.\n",
    "\n",
    "Now modify the program to draw a square. Don’t go on until you’ve got it working!"
   ]
  },
  {
   "cell_type": "markdown",
   "metadata": {
    "slideshow": {
     "slide_type": "subslide"
    }
   },
   "source": [
    "## Simple repetition\n",
    "\n",
    "Chances are you wrote something like this:"
   ]
  },
  {
   "cell_type": "code",
   "execution_count": 46,
   "metadata": {},
   "outputs": [
    {
     "data": {
      "image/svg+xml": [
       "<?xml version=\"1.0\" encoding=\"UTF-8\"?>\n",
       "<svg xmlns=\"http://www.w3.org/2000/svg\" xmlns:xlink=\"http://www.w3.org/1999/xlink\" width=\"600pt\" height=\"600pt\" viewBox=\"0 0 600 600\" version=\"1.1\">\n",
       "<g id=\"surface11\">\n",
       "<rect x=\"0\" y=\"0\" width=\"600\" height=\"600\" style=\"fill:rgb(100%,100%,100%);fill-opacity:1;stroke:none;\"/>\n",
       "<path style=\"fill:none;stroke-width:2;stroke-linecap:butt;stroke-linejoin:miter;stroke:rgb(0%,0%,0%);stroke-opacity:1;stroke-miterlimit:10;\" d=\"M 300 300 L 400 300 \"/>\n",
       "<path style=\"fill:none;stroke-width:2;stroke-linecap:butt;stroke-linejoin:miter;stroke:rgb(0%,0%,0%);stroke-opacity:1;stroke-miterlimit:10;\" d=\"M 400 300 L 400 200 \"/>\n",
       "<path style=\"fill:none;stroke-width:2;stroke-linecap:butt;stroke-linejoin:miter;stroke:rgb(0%,0%,0%);stroke-opacity:1;stroke-miterlimit:10;\" d=\"M 400 200 L 300 200 \"/>\n",
       "<path style=\"fill:none;stroke-width:2;stroke-linecap:butt;stroke-linejoin:miter;stroke:rgb(0%,0%,0%);stroke-opacity:1;stroke-miterlimit:10;\" d=\"M 300 200 L 300 300 \"/>\n",
       "</g>\n",
       "</svg>\n"
      ]
     },
     "metadata": {},
     "output_type": "display_data"
    }
   ],
   "source": [
    "🐢 = Turtle()\n",
    "@svg begin\n",
    "    Forward(🐢, 100)\n",
    "    Turn(🐢, -90)\n",
    "    Forward(🐢, 100)\n",
    "    Turn(🐢, -90)\n",
    "    Forward(🐢, 100)\n",
    "    Turn(🐢, -90)\n",
    "    Forward(🐢, 100)\n",
    "end"
   ]
  },
  {
   "cell_type": "markdown",
   "metadata": {
    "slideshow": {
     "slide_type": "subslide"
    }
   },
   "source": [
    "We can do the same thing more concisely with a `for`\n",
    " statement."
   ]
  },
  {
   "cell_type": "code",
   "execution_count": 47,
   "metadata": {},
   "outputs": [
    {
     "name": "stdout",
     "output_type": "stream",
     "text": [
      "Hello!\n",
      "Hello!\n",
      "Hello!\n",
      "Hello!\n"
     ]
    }
   ],
   "source": [
    "for i in 1:4\n",
    "    println(\"Hello!\")\n",
    "end"
   ]
  },
  {
   "cell_type": "markdown",
   "metadata": {},
   "source": [
    "This is the simplest use of the for statement; we will see more later. But that should be enough to let you rewrite your square-drawing program. Don’t go on until you do."
   ]
  },
  {
   "cell_type": "markdown",
   "metadata": {
    "slideshow": {
     "slide_type": "subslide"
    }
   },
   "source": [
    "Here is a `for` statement that draws a square:"
   ]
  },
  {
   "cell_type": "code",
   "execution_count": 48,
   "metadata": {},
   "outputs": [
    {
     "data": {
      "image/svg+xml": [
       "<?xml version=\"1.0\" encoding=\"UTF-8\"?>\n",
       "<svg xmlns=\"http://www.w3.org/2000/svg\" xmlns:xlink=\"http://www.w3.org/1999/xlink\" width=\"600pt\" height=\"600pt\" viewBox=\"0 0 600 600\" version=\"1.1\">\n",
       "<g id=\"surface16\">\n",
       "<rect x=\"0\" y=\"0\" width=\"600\" height=\"600\" style=\"fill:rgb(100%,100%,100%);fill-opacity:1;stroke:none;\"/>\n",
       "<path style=\"fill:none;stroke-width:2;stroke-linecap:butt;stroke-linejoin:miter;stroke:rgb(0%,0%,0%);stroke-opacity:1;stroke-miterlimit:10;\" d=\"M 300 300 L 400 300 \"/>\n",
       "<path style=\"fill:none;stroke-width:2;stroke-linecap:butt;stroke-linejoin:miter;stroke:rgb(0%,0%,0%);stroke-opacity:1;stroke-miterlimit:10;\" d=\"M 400 300 L 400 200 \"/>\n",
       "<path style=\"fill:none;stroke-width:2;stroke-linecap:butt;stroke-linejoin:miter;stroke:rgb(0%,0%,0%);stroke-opacity:1;stroke-miterlimit:10;\" d=\"M 400 200 L 300 200 \"/>\n",
       "<path style=\"fill:none;stroke-width:2;stroke-linecap:butt;stroke-linejoin:miter;stroke:rgb(0%,0%,0%);stroke-opacity:1;stroke-miterlimit:10;\" d=\"M 300 200 L 300 300 \"/>\n",
       "</g>\n",
       "</svg>\n"
      ]
     },
     "metadata": {},
     "output_type": "display_data"
    }
   ],
   "source": [
    "🐢 = Turtle()\n",
    "@svg begin\n",
    "    for i in 1:4\n",
    "        Forward(🐢, 100)\n",
    "        Turn(🐢, -90)\n",
    "    end\n",
    "end"
   ]
  },
  {
   "cell_type": "markdown",
   "metadata": {
    "slideshow": {
     "slide_type": "subslide"
    }
   },
   "source": [
    "The syntax of a `for` statement is similar to a function definition. It has a header and a body. The body can contain any number of statements and is terminated with the `end` keyword.\n",
    "\n",
    "A `for` statement is also called a loop because the flow of execution runs through the body and then loops back to the top. In this case, it runs the body four times.\n",
    "\n",
    "This version is actually a little different from the previous square-drawing code because it makes another turn after drawing the last side of the square. The extra turn takes more time, but it simplifies the code if we do the same thing every time through the loop. This version also has the effect of leaving the turtle back in the starting position, facing in the starting direction."
   ]
  },
  {
   "cell_type": "markdown",
   "metadata": {
    "slideshow": {
     "slide_type": "subslide"
    }
   },
   "source": [
    "In python, the `for` statement is similar:\n",
    "```python\n",
    "for i in range(4):\n",
    "    print('Hello!)\n",
    "```\n",
    "The syntax of a `for` statement is similar to a function definition. It has a header that ends with a colon and an indented body. The body can contain any number of statements."
   ]
  },
  {
   "cell_type": "markdown",
   "metadata": {
    "slideshow": {
     "slide_type": "subslide"
    }
   },
   "source": [
    "In C++, the `for` statement is more complicated:\n",
    "```C++\n",
    "for(int i=0; i<=3; i++){\n",
    "    std::cout << \"Hello!\" << std::endl;\n",
    "}\n",
    "```\n",
    "The syntax of a `for` statement is similar to a function definition. It has a header and a body. The body can contain any number of statements and starts with the `{` and ends with `}`. The header has 3 fields separated by a `;`:\n",
    "\n",
    "- `int i=0`, initializes the loop variable `i`\n",
    "- `i<=3`, gives the running condition\n",
    "- `i++`, gives the increment of `i`"
   ]
  },
  {
   "cell_type": "markdown",
   "metadata": {
    "slideshow": {
     "slide_type": "subslide"
    }
   },
   "source": [
    "## Exercises\n",
    "\n",
    "The following is a series of exercises using TurtleWorld. They are meant to be fun, but they have a point, too. While you are working on them, think about what the point is.\n",
    "\n",
    "The following sections have solutions to the exercises, so don’t look until you have finished (or at least tried).\n",
    "\n",
    "- Write a function called `square` that takes a parameter named `t`, which is a turtle. It should use the turtle to draw a square. Write a function call that passes `🐢` as an argument to `square`, and then run again.\n",
    "\n",
    "- Add another parameter, named `length`, to `square`. Modify the body so length of the sides is `length`, and then modify the function call to provide a second argument. Run again. Test your program with a range of values for `length`."
   ]
  },
  {
   "cell_type": "markdown",
   "metadata": {
    "slideshow": {
     "slide_type": "subslide"
    }
   },
   "source": [
    "- Make a copy of `square` and change the name to `polygon`. Add another parameter named `n` and modify the body so it draws an n-sided regular polygon. Hint: The exterior angles of an n-sided regular polygon are `360/n` degrees.\n",
    "\n",
    "- Write a function called `circle` that takes a turtle, `t`, and radius, `r`, as parameters and that draws an approximate circle by calling polygon with an appropriate length and number of sides. Test your function with a range of values of `r`.\n",
    "\n",
    "Hint: figure out the circumference of the circle and make sure that `length * n = circumference`.\n",
    "\n",
    "- Make a more general version of circle called `arc` that takes an additional parameter `angle`, which determines what fraction of a circle to draw. `angle` is in units of degrees, so when `angle=360`, `arc` should draw a complete circle."
   ]
  },
  {
   "cell_type": "markdown",
   "metadata": {
    "slideshow": {
     "slide_type": "subslide"
    }
   },
   "source": [
    "## Encapsulation\n",
    "\n",
    "The first exercise asks you to put your square-drawing code into a function definition and then call the function, passing the turtle as a parameter. Here is a solution:"
   ]
  },
  {
   "cell_type": "code",
   "execution_count": 66,
   "metadata": {},
   "outputs": [
    {
     "data": {
      "image/svg+xml": [
       "<?xml version=\"1.0\" encoding=\"UTF-8\"?>\n",
       "<svg xmlns=\"http://www.w3.org/2000/svg\" xmlns:xlink=\"http://www.w3.org/1999/xlink\" width=\"600pt\" height=\"600pt\" viewBox=\"0 0 600 600\" version=\"1.1\">\n",
       "<g id=\"surface86\">\n",
       "<rect x=\"0\" y=\"0\" width=\"600\" height=\"600\" style=\"fill:rgb(100%,100%,100%);fill-opacity:1;stroke:none;\"/>\n",
       "<path style=\"fill:none;stroke-width:2;stroke-linecap:butt;stroke-linejoin:miter;stroke:rgb(0%,0%,0%);stroke-opacity:1;stroke-miterlimit:10;\" d=\"M 300 300 L 400 300 \"/>\n",
       "<path style=\"fill:none;stroke-width:2;stroke-linecap:butt;stroke-linejoin:miter;stroke:rgb(0%,0%,0%);stroke-opacity:1;stroke-miterlimit:10;\" d=\"M 400 300 L 400 200 \"/>\n",
       "<path style=\"fill:none;stroke-width:2;stroke-linecap:butt;stroke-linejoin:miter;stroke:rgb(0%,0%,0%);stroke-opacity:1;stroke-miterlimit:10;\" d=\"M 400 200 L 300 200 \"/>\n",
       "<path style=\"fill:none;stroke-width:2;stroke-linecap:butt;stroke-linejoin:miter;stroke:rgb(0%,0%,0%);stroke-opacity:1;stroke-miterlimit:10;\" d=\"M 300 200 L 300 300 \"/>\n",
       "</g>\n",
       "</svg>\n"
      ]
     },
     "metadata": {},
     "output_type": "display_data"
    }
   ],
   "source": [
    "function square(t)\n",
    "    for i in 1:4\n",
    "        Forward(t, 100)\n",
    "        Turn(t, -90)\n",
    "    end\n",
    "end\n",
    "🐢 = Turtle()\n",
    "@svg begin\n",
    "    square(🐢)\n",
    "end"
   ]
  },
  {
   "cell_type": "markdown",
   "metadata": {
    "slideshow": {
     "slide_type": "subslide"
    }
   },
   "source": [
    "Inside the function, `t` refers to the same turtle `🐢`, so `Turn(t, 90)` has the same effect as `Turn(🐢, 90)`. In that case, why not call the parameter `🐢`? The idea is that `t` can be any turtle, not just `🐢`, so you could create a second turtle and pass it as an argument to square:"
   ]
  },
  {
   "cell_type": "code",
   "execution_count": 50,
   "metadata": {},
   "outputs": [
    {
     "data": {
      "image/svg+xml": [
       "<?xml version=\"1.0\" encoding=\"UTF-8\"?>\n",
       "<svg xmlns=\"http://www.w3.org/2000/svg\" xmlns:xlink=\"http://www.w3.org/1999/xlink\" width=\"600pt\" height=\"600pt\" viewBox=\"0 0 600 600\" version=\"1.1\">\n",
       "<g id=\"surface26\">\n",
       "<rect x=\"0\" y=\"0\" width=\"600\" height=\"600\" style=\"fill:rgb(100%,100%,100%);fill-opacity:1;stroke:none;\"/>\n",
       "<path style=\"fill:none;stroke-width:2;stroke-linecap:butt;stroke-linejoin:miter;stroke:rgb(0%,0%,0%);stroke-opacity:1;stroke-miterlimit:10;\" d=\"M 300 300 L 400 300 \"/>\n",
       "<path style=\"fill:none;stroke-width:2;stroke-linecap:butt;stroke-linejoin:miter;stroke:rgb(0%,0%,0%);stroke-opacity:1;stroke-miterlimit:10;\" d=\"M 400 300 L 400 200 \"/>\n",
       "<path style=\"fill:none;stroke-width:2;stroke-linecap:butt;stroke-linejoin:miter;stroke:rgb(0%,0%,0%);stroke-opacity:1;stroke-miterlimit:10;\" d=\"M 400 200 L 300 200 \"/>\n",
       "<path style=\"fill:none;stroke-width:2;stroke-linecap:butt;stroke-linejoin:miter;stroke:rgb(0%,0%,0%);stroke-opacity:1;stroke-miterlimit:10;\" d=\"M 300 200 L 300 300 \"/>\n",
       "</g>\n",
       "</svg>\n"
      ]
     },
     "metadata": {},
     "output_type": "display_data"
    }
   ],
   "source": [
    "🐸 = Turtle()\n",
    "@svg begin\n",
    "   square(🐸) \n",
    "end"
   ]
  },
  {
   "cell_type": "markdown",
   "metadata": {
    "slideshow": {
     "slide_type": "subslide"
    }
   },
   "source": [
    "Wrapping a piece of code up in a function is called *encapsulation*. One of the benefits of encapsulation is that it attaches a name to the code, which serves as a kind of documentation. Another advantage is that if you re-use the code, it is more concise to call a function twice than to copy and paste the body!"
   ]
  },
  {
   "cell_type": "markdown",
   "metadata": {
    "slideshow": {
     "slide_type": "subslide"
    }
   },
   "source": [
    "## Generalization\n",
    "\n",
    "The next step is to add a `length` parameter to `square`. Here is a solution:"
   ]
  },
  {
   "cell_type": "code",
   "execution_count": 68,
   "metadata": {},
   "outputs": [
    {
     "data": {
      "image/svg+xml": [
       "<?xml version=\"1.0\" encoding=\"UTF-8\"?>\n",
       "<svg xmlns=\"http://www.w3.org/2000/svg\" xmlns:xlink=\"http://www.w3.org/1999/xlink\" width=\"600pt\" height=\"600pt\" viewBox=\"0 0 600 600\" version=\"1.1\">\n",
       "<g id=\"surface96\">\n",
       "<rect x=\"0\" y=\"0\" width=\"600\" height=\"600\" style=\"fill:rgb(100%,100%,100%);fill-opacity:1;stroke:none;\"/>\n",
       "<path style=\"fill:none;stroke-width:2;stroke-linecap:butt;stroke-linejoin:miter;stroke:rgb(0%,0%,0%);stroke-opacity:1;stroke-miterlimit:10;\" d=\"M 300 300 L 400 300 \"/>\n",
       "<path style=\"fill:none;stroke-width:2;stroke-linecap:butt;stroke-linejoin:miter;stroke:rgb(0%,0%,0%);stroke-opacity:1;stroke-miterlimit:10;\" d=\"M 400 300 L 400 200 \"/>\n",
       "<path style=\"fill:none;stroke-width:2;stroke-linecap:butt;stroke-linejoin:miter;stroke:rgb(0%,0%,0%);stroke-opacity:1;stroke-miterlimit:10;\" d=\"M 400 200 L 300 200 \"/>\n",
       "<path style=\"fill:none;stroke-width:2;stroke-linecap:butt;stroke-linejoin:miter;stroke:rgb(0%,0%,0%);stroke-opacity:1;stroke-miterlimit:10;\" d=\"M 300 200 L 300 300 \"/>\n",
       "</g>\n",
       "</svg>\n"
      ]
     },
     "metadata": {},
     "output_type": "display_data"
    }
   ],
   "source": [
    "function square(t, length)\n",
    "    for i in 1:4\n",
    "        Forward(t, length)\n",
    "        Turn(t, -90)\n",
    "    end\n",
    "end\n",
    "🐢 = Turtle()\n",
    "@svg begin\n",
    "    square(🐢, 100)\n",
    "end"
   ]
  },
  {
   "cell_type": "markdown",
   "metadata": {
    "slideshow": {
     "slide_type": "subslide"
    }
   },
   "source": [
    "Adding a parameter to a function is called `generalization` because it makes the function more general: in the previous version, the square is always the same size; in this version it can be any size.\n",
    "\n",
    "The next step is also a generalization. Instead of drawing squares, polygon draws regular polygons with any number of sides. Here is a solution:"
   ]
  },
  {
   "cell_type": "code",
   "execution_count": 67,
   "metadata": {},
   "outputs": [
    {
     "data": {
      "image/svg+xml": [
       "<?xml version=\"1.0\" encoding=\"UTF-8\"?>\n",
       "<svg xmlns=\"http://www.w3.org/2000/svg\" xmlns:xlink=\"http://www.w3.org/1999/xlink\" width=\"600pt\" height=\"600pt\" viewBox=\"0 0 600 600\" version=\"1.1\">\n",
       "<g id=\"surface91\">\n",
       "<rect x=\"0\" y=\"0\" width=\"600\" height=\"600\" style=\"fill:rgb(100%,100%,100%);fill-opacity:1;stroke:none;\"/>\n",
       "<path style=\"fill:none;stroke-width:2;stroke-linecap:butt;stroke-linejoin:miter;stroke:rgb(0%,0%,0%);stroke-opacity:1;stroke-miterlimit:10;\" d=\"M 300 300 L 370 300 \"/>\n",
       "<path style=\"fill:none;stroke-width:2;stroke-linecap:butt;stroke-linejoin:miter;stroke:rgb(0%,0%,0%);stroke-opacity:1;stroke-miterlimit:10;\" d=\"M 370 300 L 413.644531 245.273438 \"/>\n",
       "<path style=\"fill:none;stroke-width:2;stroke-linecap:butt;stroke-linejoin:miter;stroke:rgb(0%,0%,0%);stroke-opacity:1;stroke-miterlimit:10;\" d=\"M 413.644531 245.273438 L 398.066406 177.027344 \"/>\n",
       "<path style=\"fill:none;stroke-width:2;stroke-linecap:butt;stroke-linejoin:miter;stroke:rgb(0%,0%,0%);stroke-opacity:1;stroke-miterlimit:10;\" d=\"M 398.066406 177.027344 L 335 146.65625 \"/>\n",
       "<path style=\"fill:none;stroke-width:2;stroke-linecap:butt;stroke-linejoin:miter;stroke:rgb(0%,0%,0%);stroke-opacity:1;stroke-miterlimit:10;\" d=\"M 335 146.65625 L 271.933594 177.027344 \"/>\n",
       "<path style=\"fill:none;stroke-width:2;stroke-linecap:butt;stroke-linejoin:miter;stroke:rgb(0%,0%,0%);stroke-opacity:1;stroke-miterlimit:10;\" d=\"M 271.933594 177.027344 L 256.355469 245.273438 \"/>\n",
       "<path style=\"fill:none;stroke-width:2;stroke-linecap:butt;stroke-linejoin:miter;stroke:rgb(0%,0%,0%);stroke-opacity:1;stroke-miterlimit:10;\" d=\"M 256.355469 245.273438 L 300 300 \"/>\n",
       "</g>\n",
       "</svg>\n"
      ]
     },
     "metadata": {},
     "output_type": "display_data"
    }
   ],
   "source": [
    "function polygon(t, n, length)\n",
    "    angle = 360 / n\n",
    "    for i in 1:n\n",
    "        Forward(t, length)\n",
    "        Turn(t, -angle)\n",
    "    end\n",
    "end\n",
    "🐢 = Turtle()\n",
    "@svg begin\n",
    "    polygon(🐢, 7, 70)\n",
    "end"
   ]
  },
  {
   "cell_type": "markdown",
   "metadata": {
    "slideshow": {
     "slide_type": "subslide"
    }
   },
   "source": [
    "## Interface design\n",
    "\n",
    "The next step is to write `circle`, which takes a radius, `r`, as a parameter. Here is a simple solution that uses `polygon` to draw a 50-sided polygon:\n"
   ]
  },
  {
   "cell_type": "code",
   "execution_count": 57,
   "metadata": {},
   "outputs": [
    {
     "data": {
      "image/svg+xml": [
       "<?xml version=\"1.0\" encoding=\"UTF-8\"?>\n",
       "<svg xmlns=\"http://www.w3.org/2000/svg\" xmlns:xlink=\"http://www.w3.org/1999/xlink\" width=\"600pt\" height=\"600pt\" viewBox=\"0 0 600 600\" version=\"1.1\">\n",
       "<g id=\"surface61\">\n",
       "<rect x=\"0\" y=\"0\" width=\"600\" height=\"600\" style=\"fill:rgb(100%,100%,100%);fill-opacity:1;stroke:none;\"/>\n",
       "<path style=\"fill:none;stroke-width:2;stroke-linecap:butt;stroke-linejoin:miter;stroke:rgb(0%,0%,0%);stroke-opacity:1;stroke-miterlimit:10;\" d=\"M 300 300 L 309.425781 300 \"/>\n",
       "<path style=\"fill:none;stroke-width:2;stroke-linecap:butt;stroke-linejoin:miter;stroke:rgb(0%,0%,0%);stroke-opacity:1;stroke-miterlimit:10;\" d=\"M 309.425781 300 L 318.773438 298.820312 \"/>\n",
       "<path style=\"fill:none;stroke-width:2;stroke-linecap:butt;stroke-linejoin:miter;stroke:rgb(0%,0%,0%);stroke-opacity:1;stroke-miterlimit:10;\" d=\"M 318.773438 298.820312 L 327.902344 296.476562 \"/>\n",
       "<path style=\"fill:none;stroke-width:2;stroke-linecap:butt;stroke-linejoin:miter;stroke:rgb(0%,0%,0%);stroke-opacity:1;stroke-miterlimit:10;\" d=\"M 327.902344 296.476562 L 336.667969 293.003906 \"/>\n",
       "<path style=\"fill:none;stroke-width:2;stroke-linecap:butt;stroke-linejoin:miter;stroke:rgb(0%,0%,0%);stroke-opacity:1;stroke-miterlimit:10;\" d=\"M 336.667969 293.003906 L 344.925781 288.464844 \"/>\n",
       "<path style=\"fill:none;stroke-width:2;stroke-linecap:butt;stroke-linejoin:miter;stroke:rgb(0%,0%,0%);stroke-opacity:1;stroke-miterlimit:10;\" d=\"M 344.925781 288.464844 L 352.550781 282.925781 \"/>\n",
       "<path style=\"fill:none;stroke-width:2;stroke-linecap:butt;stroke-linejoin:miter;stroke:rgb(0%,0%,0%);stroke-opacity:1;stroke-miterlimit:10;\" d=\"M 352.550781 282.925781 L 359.421875 276.472656 \"/>\n",
       "<path style=\"fill:none;stroke-width:2;stroke-linecap:butt;stroke-linejoin:miter;stroke:rgb(0%,0%,0%);stroke-opacity:1;stroke-miterlimit:10;\" d=\"M 359.421875 276.472656 L 365.429688 269.210938 \"/>\n",
       "<path style=\"fill:none;stroke-width:2;stroke-linecap:butt;stroke-linejoin:miter;stroke:rgb(0%,0%,0%);stroke-opacity:1;stroke-miterlimit:10;\" d=\"M 365.429688 269.210938 L 370.480469 261.253906 \"/>\n",
       "<path style=\"fill:none;stroke-width:2;stroke-linecap:butt;stroke-linejoin:miter;stroke:rgb(0%,0%,0%);stroke-opacity:1;stroke-miterlimit:10;\" d=\"M 370.480469 261.253906 L 374.492188 252.726562 \"/>\n",
       "<path style=\"fill:none;stroke-width:2;stroke-linecap:butt;stroke-linejoin:miter;stroke:rgb(0%,0%,0%);stroke-opacity:1;stroke-miterlimit:10;\" d=\"M 374.492188 252.726562 L 377.402344 243.761719 \"/>\n",
       "<path style=\"fill:none;stroke-width:2;stroke-linecap:butt;stroke-linejoin:miter;stroke:rgb(0%,0%,0%);stroke-opacity:1;stroke-miterlimit:10;\" d=\"M 377.402344 243.761719 L 379.171875 234.503906 \"/>\n",
       "<path style=\"fill:none;stroke-width:2;stroke-linecap:butt;stroke-linejoin:miter;stroke:rgb(0%,0%,0%);stroke-opacity:1;stroke-miterlimit:10;\" d=\"M 379.171875 234.503906 L 379.761719 225.097656 \"/>\n",
       "<path style=\"fill:none;stroke-width:2;stroke-linecap:butt;stroke-linejoin:miter;stroke:rgb(0%,0%,0%);stroke-opacity:1;stroke-miterlimit:10;\" d=\"M 379.761719 225.097656 L 379.171875 215.691406 \"/>\n",
       "<path style=\"fill:none;stroke-width:2;stroke-linecap:butt;stroke-linejoin:miter;stroke:rgb(0%,0%,0%);stroke-opacity:1;stroke-miterlimit:10;\" d=\"M 379.171875 215.691406 L 377.402344 206.433594 \"/>\n",
       "<path style=\"fill:none;stroke-width:2;stroke-linecap:butt;stroke-linejoin:miter;stroke:rgb(0%,0%,0%);stroke-opacity:1;stroke-miterlimit:10;\" d=\"M 377.402344 206.433594 L 374.492188 197.472656 \"/>\n",
       "<path style=\"fill:none;stroke-width:2;stroke-linecap:butt;stroke-linejoin:miter;stroke:rgb(0%,0%,0%);stroke-opacity:1;stroke-miterlimit:10;\" d=\"M 374.492188 197.472656 L 370.480469 188.945312 \"/>\n",
       "<path style=\"fill:none;stroke-width:2;stroke-linecap:butt;stroke-linejoin:miter;stroke:rgb(0%,0%,0%);stroke-opacity:1;stroke-miterlimit:10;\" d=\"M 370.480469 188.945312 L 365.429688 180.984375 \"/>\n",
       "<path style=\"fill:none;stroke-width:2;stroke-linecap:butt;stroke-linejoin:miter;stroke:rgb(0%,0%,0%);stroke-opacity:1;stroke-miterlimit:10;\" d=\"M 365.429688 180.984375 L 359.421875 173.722656 \"/>\n",
       "<path style=\"fill:none;stroke-width:2;stroke-linecap:butt;stroke-linejoin:miter;stroke:rgb(0%,0%,0%);stroke-opacity:1;stroke-miterlimit:10;\" d=\"M 359.421875 173.722656 L 352.550781 167.273438 \"/>\n",
       "<path style=\"fill:none;stroke-width:2;stroke-linecap:butt;stroke-linejoin:miter;stroke:rgb(0%,0%,0%);stroke-opacity:1;stroke-miterlimit:10;\" d=\"M 352.550781 167.273438 L 344.925781 161.734375 \"/>\n",
       "<path style=\"fill:none;stroke-width:2;stroke-linecap:butt;stroke-linejoin:miter;stroke:rgb(0%,0%,0%);stroke-opacity:1;stroke-miterlimit:10;\" d=\"M 344.925781 161.734375 L 336.667969 157.191406 \"/>\n",
       "<path style=\"fill:none;stroke-width:2;stroke-linecap:butt;stroke-linejoin:miter;stroke:rgb(0%,0%,0%);stroke-opacity:1;stroke-miterlimit:10;\" d=\"M 336.667969 157.191406 L 327.902344 153.722656 \"/>\n",
       "<path style=\"fill:none;stroke-width:2;stroke-linecap:butt;stroke-linejoin:miter;stroke:rgb(0%,0%,0%);stroke-opacity:1;stroke-miterlimit:10;\" d=\"M 327.902344 153.722656 L 318.773438 151.378906 \"/>\n",
       "<path style=\"fill:none;stroke-width:2;stroke-linecap:butt;stroke-linejoin:miter;stroke:rgb(0%,0%,0%);stroke-opacity:1;stroke-miterlimit:10;\" d=\"M 318.773438 151.378906 L 309.425781 150.199219 \"/>\n",
       "<path style=\"fill:none;stroke-width:2;stroke-linecap:butt;stroke-linejoin:miter;stroke:rgb(0%,0%,0%);stroke-opacity:1;stroke-miterlimit:10;\" d=\"M 309.425781 150.199219 L 300 150.199219 \"/>\n",
       "<path style=\"fill:none;stroke-width:2;stroke-linecap:butt;stroke-linejoin:miter;stroke:rgb(0%,0%,0%);stroke-opacity:1;stroke-miterlimit:10;\" d=\"M 300 150.199219 L 290.648438 151.378906 \"/>\n",
       "<path style=\"fill:none;stroke-width:2;stroke-linecap:butt;stroke-linejoin:miter;stroke:rgb(0%,0%,0%);stroke-opacity:1;stroke-miterlimit:10;\" d=\"M 290.648438 151.378906 L 281.519531 153.722656 \"/>\n",
       "<path style=\"fill:none;stroke-width:2;stroke-linecap:butt;stroke-linejoin:miter;stroke:rgb(0%,0%,0%);stroke-opacity:1;stroke-miterlimit:10;\" d=\"M 281.519531 153.722656 L 272.757812 157.191406 \"/>\n",
       "<path style=\"fill:none;stroke-width:2;stroke-linecap:butt;stroke-linejoin:miter;stroke:rgb(0%,0%,0%);stroke-opacity:1;stroke-miterlimit:10;\" d=\"M 272.757812 157.191406 L 264.5 161.734375 \"/>\n",
       "<path style=\"fill:none;stroke-width:2;stroke-linecap:butt;stroke-linejoin:miter;stroke:rgb(0%,0%,0%);stroke-opacity:1;stroke-miterlimit:10;\" d=\"M 264.5 161.734375 L 256.875 167.273438 \"/>\n",
       "<path style=\"fill:none;stroke-width:2;stroke-linecap:butt;stroke-linejoin:miter;stroke:rgb(0%,0%,0%);stroke-opacity:1;stroke-miterlimit:10;\" d=\"M 256.875 167.273438 L 250.003906 173.722656 \"/>\n",
       "<path style=\"fill:none;stroke-width:2;stroke-linecap:butt;stroke-linejoin:miter;stroke:rgb(0%,0%,0%);stroke-opacity:1;stroke-miterlimit:10;\" d=\"M 250.003906 173.722656 L 243.996094 180.984375 \"/>\n",
       "<path style=\"fill:none;stroke-width:2;stroke-linecap:butt;stroke-linejoin:miter;stroke:rgb(0%,0%,0%);stroke-opacity:1;stroke-miterlimit:10;\" d=\"M 243.996094 180.984375 L 238.945312 188.945312 \"/>\n",
       "<path style=\"fill:none;stroke-width:2;stroke-linecap:butt;stroke-linejoin:miter;stroke:rgb(0%,0%,0%);stroke-opacity:1;stroke-miterlimit:10;\" d=\"M 238.945312 188.945312 L 234.933594 197.472656 \"/>\n",
       "<path style=\"fill:none;stroke-width:2;stroke-linecap:butt;stroke-linejoin:miter;stroke:rgb(0%,0%,0%);stroke-opacity:1;stroke-miterlimit:10;\" d=\"M 234.933594 197.472656 L 232.019531 206.433594 \"/>\n",
       "<path style=\"fill:none;stroke-width:2;stroke-linecap:butt;stroke-linejoin:miter;stroke:rgb(0%,0%,0%);stroke-opacity:1;stroke-miterlimit:10;\" d=\"M 232.019531 206.433594 L 230.253906 215.691406 \"/>\n",
       "<path style=\"fill:none;stroke-width:2;stroke-linecap:butt;stroke-linejoin:miter;stroke:rgb(0%,0%,0%);stroke-opacity:1;stroke-miterlimit:10;\" d=\"M 230.253906 215.691406 L 229.664062 225.097656 \"/>\n",
       "<path style=\"fill:none;stroke-width:2;stroke-linecap:butt;stroke-linejoin:miter;stroke:rgb(0%,0%,0%);stroke-opacity:1;stroke-miterlimit:10;\" d=\"M 229.664062 225.097656 L 230.253906 234.503906 \"/>\n",
       "<path style=\"fill:none;stroke-width:2;stroke-linecap:butt;stroke-linejoin:miter;stroke:rgb(0%,0%,0%);stroke-opacity:1;stroke-miterlimit:10;\" d=\"M 230.253906 234.503906 L 232.019531 243.761719 \"/>\n",
       "<path style=\"fill:none;stroke-width:2;stroke-linecap:butt;stroke-linejoin:miter;stroke:rgb(0%,0%,0%);stroke-opacity:1;stroke-miterlimit:10;\" d=\"M 232.019531 243.761719 L 234.933594 252.726562 \"/>\n",
       "<path style=\"fill:none;stroke-width:2;stroke-linecap:butt;stroke-linejoin:miter;stroke:rgb(0%,0%,0%);stroke-opacity:1;stroke-miterlimit:10;\" d=\"M 234.933594 252.726562 L 238.945312 261.253906 \"/>\n",
       "<path style=\"fill:none;stroke-width:2;stroke-linecap:butt;stroke-linejoin:miter;stroke:rgb(0%,0%,0%);stroke-opacity:1;stroke-miterlimit:10;\" d=\"M 238.945312 261.253906 L 243.996094 269.210938 \"/>\n",
       "<path style=\"fill:none;stroke-width:2;stroke-linecap:butt;stroke-linejoin:miter;stroke:rgb(0%,0%,0%);stroke-opacity:1;stroke-miterlimit:10;\" d=\"M 243.996094 269.210938 L 250.003906 276.472656 \"/>\n",
       "<path style=\"fill:none;stroke-width:2;stroke-linecap:butt;stroke-linejoin:miter;stroke:rgb(0%,0%,0%);stroke-opacity:1;stroke-miterlimit:10;\" d=\"M 250.003906 276.472656 L 256.875 282.925781 \"/>\n",
       "<path style=\"fill:none;stroke-width:2;stroke-linecap:butt;stroke-linejoin:miter;stroke:rgb(0%,0%,0%);stroke-opacity:1;stroke-miterlimit:10;\" d=\"M 256.875 282.925781 L 264.5 288.464844 \"/>\n",
       "<path style=\"fill:none;stroke-width:2;stroke-linecap:butt;stroke-linejoin:miter;stroke:rgb(0%,0%,0%);stroke-opacity:1;stroke-miterlimit:10;\" d=\"M 264.5 288.464844 L 272.757812 293.003906 \"/>\n",
       "<path style=\"fill:none;stroke-width:2;stroke-linecap:butt;stroke-linejoin:miter;stroke:rgb(0%,0%,0%);stroke-opacity:1;stroke-miterlimit:10;\" d=\"M 272.757812 293.003906 L 281.519531 296.476562 \"/>\n",
       "<path style=\"fill:none;stroke-width:2;stroke-linecap:butt;stroke-linejoin:miter;stroke:rgb(0%,0%,0%);stroke-opacity:1;stroke-miterlimit:10;\" d=\"M 281.519531 296.476562 L 290.648438 298.820312 \"/>\n",
       "<path style=\"fill:none;stroke-width:2;stroke-linecap:butt;stroke-linejoin:miter;stroke:rgb(0%,0%,0%);stroke-opacity:1;stroke-miterlimit:10;\" d=\"M 290.648438 298.820312 L 300 300 \"/>\n",
       "</g>\n",
       "</svg>\n"
      ]
     },
     "metadata": {},
     "output_type": "display_data"
    }
   ],
   "source": [
    "function circle(t, r)\n",
    "    circumference = 2 * π * r\n",
    "    n = 50\n",
    "    length = circumference / n\n",
    "    polygon(t, n, length)\n",
    "end\n",
    "🐢 = Turtle()\n",
    "@svg begin\n",
    "    circle(🐢, 75)\n",
    "end"
   ]
  },
  {
   "cell_type": "markdown",
   "metadata": {
    "slideshow": {
     "slide_type": "subslide"
    }
   },
   "source": [
    "The first line computes the circumference of a circle with radius `r` using the formula `2 π r`. `n` is the number of line segments in our approximation of a circle, so `length` is the length of each segment. Thus, `polygon` draws a 50-sided polygon that approximates a circle with radius `r`.\n",
    "\n",
    "One limitation of this solution is that `n` is a constant, which means that for very big circles, the line segments are too long, and for small circles, we waste time drawing very small segments. One solution would be to generalize the function by taking `n` as a parameter. This would give the user (whoever calls circle) more control, but the interface would be less clean.\n",
    "\n",
    "The interface of a function is a summary of how it is used: what are the parameters? What does the function do? And what is the return value? An interface is “clean” if it allows the caller to do what they want without dealing with unnecessary details.\n",
    "\n",
    "In this example, `r` belongs in the interface because it specifies the circle to be drawn. `n` is less appropriate because it pertains to the details of how the circle should be rendered."
   ]
  },
  {
   "cell_type": "markdown",
   "metadata": {
    "slideshow": {
     "slide_type": "subslide"
    }
   },
   "source": [
    "Rather than clutter up the interface, it is better to choose an appropriate value of `n` depending on circumference:"
   ]
  },
  {
   "cell_type": "code",
   "execution_count": 59,
   "metadata": {},
   "outputs": [
    {
     "data": {
      "image/svg+xml": [
       "<?xml version=\"1.0\" encoding=\"UTF-8\"?>\n",
       "<svg xmlns=\"http://www.w3.org/2000/svg\" xmlns:xlink=\"http://www.w3.org/1999/xlink\" width=\"600pt\" height=\"600pt\" viewBox=\"0 0 600 600\" version=\"1.1\">\n",
       "<g id=\"surface71\">\n",
       "<rect x=\"0\" y=\"0\" width=\"600\" height=\"600\" style=\"fill:rgb(100%,100%,100%);fill-opacity:1;stroke:none;\"/>\n",
       "<path style=\"fill:none;stroke-width:2;stroke-linecap:butt;stroke-linejoin:miter;stroke:rgb(0%,0%,0%);stroke-opacity:1;stroke-miterlimit:10;\" d=\"M 300 300 L 302.984375 300 \"/>\n",
       "<path style=\"fill:none;stroke-width:2;stroke-linecap:butt;stroke-linejoin:miter;stroke:rgb(0%,0%,0%);stroke-opacity:1;stroke-miterlimit:10;\" d=\"M 302.984375 300 L 305.960938 299.882812 \"/>\n",
       "<path style=\"fill:none;stroke-width:2;stroke-linecap:butt;stroke-linejoin:miter;stroke:rgb(0%,0%,0%);stroke-opacity:1;stroke-miterlimit:10;\" d=\"M 305.960938 299.882812 L 308.9375 299.644531 \"/>\n",
       "<path style=\"fill:none;stroke-width:2;stroke-linecap:butt;stroke-linejoin:miter;stroke:rgb(0%,0%,0%);stroke-opacity:1;stroke-miterlimit:10;\" d=\"M 308.9375 299.644531 L 311.898438 299.289062 \"/>\n",
       "<path style=\"fill:none;stroke-width:2;stroke-linecap:butt;stroke-linejoin:miter;stroke:rgb(0%,0%,0%);stroke-opacity:1;stroke-miterlimit:10;\" d=\"M 311.898438 299.289062 L 314.84375 298.816406 \"/>\n",
       "<path style=\"fill:none;stroke-width:2;stroke-linecap:butt;stroke-linejoin:miter;stroke:rgb(0%,0%,0%);stroke-opacity:1;stroke-miterlimit:10;\" d=\"M 314.84375 298.816406 L 317.765625 298.226562 \"/>\n",
       "<path style=\"fill:none;stroke-width:2;stroke-linecap:butt;stroke-linejoin:miter;stroke:rgb(0%,0%,0%);stroke-opacity:1;stroke-miterlimit:10;\" d=\"M 317.765625 298.226562 L 320.664062 297.523438 \"/>\n",
       "<path style=\"fill:none;stroke-width:2;stroke-linecap:butt;stroke-linejoin:miter;stroke:rgb(0%,0%,0%);stroke-opacity:1;stroke-miterlimit:10;\" d=\"M 320.664062 297.523438 L 323.53125 296.703125 \"/>\n",
       "<path style=\"fill:none;stroke-width:2;stroke-linecap:butt;stroke-linejoin:miter;stroke:rgb(0%,0%,0%);stroke-opacity:1;stroke-miterlimit:10;\" d=\"M 323.53125 296.703125 L 326.363281 295.769531 \"/>\n",
       "<path style=\"fill:none;stroke-width:2;stroke-linecap:butt;stroke-linejoin:miter;stroke:rgb(0%,0%,0%);stroke-opacity:1;stroke-miterlimit:10;\" d=\"M 326.363281 295.769531 L 329.15625 294.726562 \"/>\n",
       "<path style=\"fill:none;stroke-width:2;stroke-linecap:butt;stroke-linejoin:miter;stroke:rgb(0%,0%,0%);stroke-opacity:1;stroke-miterlimit:10;\" d=\"M 329.15625 294.726562 L 331.90625 293.570312 \"/>\n",
       "<path style=\"fill:none;stroke-width:2;stroke-linecap:butt;stroke-linejoin:miter;stroke:rgb(0%,0%,0%);stroke-opacity:1;stroke-miterlimit:10;\" d=\"M 331.90625 293.570312 L 334.609375 292.308594 \"/>\n",
       "<path style=\"fill:none;stroke-width:2;stroke-linecap:butt;stroke-linejoin:miter;stroke:rgb(0%,0%,0%);stroke-opacity:1;stroke-miterlimit:10;\" d=\"M 334.609375 292.308594 L 337.257812 290.9375 \"/>\n",
       "<path style=\"fill:none;stroke-width:2;stroke-linecap:butt;stroke-linejoin:miter;stroke:rgb(0%,0%,0%);stroke-opacity:1;stroke-miterlimit:10;\" d=\"M 337.257812 290.9375 L 339.851562 289.464844 \"/>\n",
       "<path style=\"fill:none;stroke-width:2;stroke-linecap:butt;stroke-linejoin:miter;stroke:rgb(0%,0%,0%);stroke-opacity:1;stroke-miterlimit:10;\" d=\"M 339.851562 289.464844 L 342.382812 287.886719 \"/>\n",
       "<path style=\"fill:none;stroke-width:2;stroke-linecap:butt;stroke-linejoin:miter;stroke:rgb(0%,0%,0%);stroke-opacity:1;stroke-miterlimit:10;\" d=\"M 342.382812 287.886719 L 344.851562 286.210938 \"/>\n",
       "<path style=\"fill:none;stroke-width:2;stroke-linecap:butt;stroke-linejoin:miter;stroke:rgb(0%,0%,0%);stroke-opacity:1;stroke-miterlimit:10;\" d=\"M 344.851562 286.210938 L 347.25 284.441406 \"/>\n",
       "<path style=\"fill:none;stroke-width:2;stroke-linecap:butt;stroke-linejoin:miter;stroke:rgb(0%,0%,0%);stroke-opacity:1;stroke-miterlimit:10;\" d=\"M 347.25 284.441406 L 349.578125 282.574219 \"/>\n",
       "<path style=\"fill:none;stroke-width:2;stroke-linecap:butt;stroke-linejoin:miter;stroke:rgb(0%,0%,0%);stroke-opacity:1;stroke-miterlimit:10;\" d=\"M 349.578125 282.574219 L 351.828125 280.617188 \"/>\n",
       "<path style=\"fill:none;stroke-width:2;stroke-linecap:butt;stroke-linejoin:miter;stroke:rgb(0%,0%,0%);stroke-opacity:1;stroke-miterlimit:10;\" d=\"M 351.828125 280.617188 L 353.996094 278.570312 \"/>\n",
       "<path style=\"fill:none;stroke-width:2;stroke-linecap:butt;stroke-linejoin:miter;stroke:rgb(0%,0%,0%);stroke-opacity:1;stroke-miterlimit:10;\" d=\"M 353.996094 278.570312 L 356.085938 276.441406 \"/>\n",
       "<path style=\"fill:none;stroke-width:2;stroke-linecap:butt;stroke-linejoin:miter;stroke:rgb(0%,0%,0%);stroke-opacity:1;stroke-miterlimit:10;\" d=\"M 356.085938 276.441406 L 358.085938 274.230469 \"/>\n",
       "<path style=\"fill:none;stroke-width:2;stroke-linecap:butt;stroke-linejoin:miter;stroke:rgb(0%,0%,0%);stroke-opacity:1;stroke-miterlimit:10;\" d=\"M 358.085938 274.230469 L 360 271.941406 \"/>\n",
       "<path style=\"fill:none;stroke-width:2;stroke-linecap:butt;stroke-linejoin:miter;stroke:rgb(0%,0%,0%);stroke-opacity:1;stroke-miterlimit:10;\" d=\"M 360 271.941406 L 361.820312 269.578125 \"/>\n",
       "<path style=\"fill:none;stroke-width:2;stroke-linecap:butt;stroke-linejoin:miter;stroke:rgb(0%,0%,0%);stroke-opacity:1;stroke-miterlimit:10;\" d=\"M 361.820312 269.578125 L 363.542969 267.144531 \"/>\n",
       "<path style=\"fill:none;stroke-width:2;stroke-linecap:butt;stroke-linejoin:miter;stroke:rgb(0%,0%,0%);stroke-opacity:1;stroke-miterlimit:10;\" d=\"M 363.542969 267.144531 L 365.167969 264.644531 \"/>\n",
       "<path style=\"fill:none;stroke-width:2;stroke-linecap:butt;stroke-linejoin:miter;stroke:rgb(0%,0%,0%);stroke-opacity:1;stroke-miterlimit:10;\" d=\"M 365.167969 264.644531 L 366.695312 262.082031 \"/>\n",
       "<path style=\"fill:none;stroke-width:2;stroke-linecap:butt;stroke-linejoin:miter;stroke:rgb(0%,0%,0%);stroke-opacity:1;stroke-miterlimit:10;\" d=\"M 366.695312 262.082031 L 368.117188 259.460938 \"/>\n",
       "<path style=\"fill:none;stroke-width:2;stroke-linecap:butt;stroke-linejoin:miter;stroke:rgb(0%,0%,0%);stroke-opacity:1;stroke-miterlimit:10;\" d=\"M 368.117188 259.460938 L 369.433594 256.785156 \"/>\n",
       "<path style=\"fill:none;stroke-width:2;stroke-linecap:butt;stroke-linejoin:miter;stroke:rgb(0%,0%,0%);stroke-opacity:1;stroke-miterlimit:10;\" d=\"M 369.433594 256.785156 L 370.644531 254.058594 \"/>\n",
       "<path style=\"fill:none;stroke-width:2;stroke-linecap:butt;stroke-linejoin:miter;stroke:rgb(0%,0%,0%);stroke-opacity:1;stroke-miterlimit:10;\" d=\"M 370.644531 254.058594 L 371.742188 251.285156 \"/>\n",
       "<path style=\"fill:none;stroke-width:2;stroke-linecap:butt;stroke-linejoin:miter;stroke:rgb(0%,0%,0%);stroke-opacity:1;stroke-miterlimit:10;\" d=\"M 371.742188 251.285156 L 372.734375 248.472656 \"/>\n",
       "<path style=\"fill:none;stroke-width:2;stroke-linecap:butt;stroke-linejoin:miter;stroke:rgb(0%,0%,0%);stroke-opacity:1;stroke-miterlimit:10;\" d=\"M 372.734375 248.472656 L 373.609375 245.621094 \"/>\n",
       "<path style=\"fill:none;stroke-width:2;stroke-linecap:butt;stroke-linejoin:miter;stroke:rgb(0%,0%,0%);stroke-opacity:1;stroke-miterlimit:10;\" d=\"M 373.609375 245.621094 L 374.371094 242.738281 \"/>\n",
       "<path style=\"fill:none;stroke-width:2;stroke-linecap:butt;stroke-linejoin:miter;stroke:rgb(0%,0%,0%);stroke-opacity:1;stroke-miterlimit:10;\" d=\"M 374.371094 242.738281 L 375.019531 239.824219 \"/>\n",
       "<path style=\"fill:none;stroke-width:2;stroke-linecap:butt;stroke-linejoin:miter;stroke:rgb(0%,0%,0%);stroke-opacity:1;stroke-miterlimit:10;\" d=\"M 375.019531 239.824219 L 375.550781 236.890625 \"/>\n",
       "<path style=\"fill:none;stroke-width:2;stroke-linecap:butt;stroke-linejoin:miter;stroke:rgb(0%,0%,0%);stroke-opacity:1;stroke-miterlimit:10;\" d=\"M 375.550781 236.890625 L 375.964844 233.9375 \"/>\n",
       "<path style=\"fill:none;stroke-width:2;stroke-linecap:butt;stroke-linejoin:miter;stroke:rgb(0%,0%,0%);stroke-opacity:1;stroke-miterlimit:10;\" d=\"M 375.964844 233.9375 L 376.257812 230.96875 \"/>\n",
       "<path style=\"fill:none;stroke-width:2;stroke-linecap:butt;stroke-linejoin:miter;stroke:rgb(0%,0%,0%);stroke-opacity:1;stroke-miterlimit:10;\" d=\"M 376.257812 230.96875 L 376.4375 227.992188 \"/>\n",
       "<path style=\"fill:none;stroke-width:2;stroke-linecap:butt;stroke-linejoin:miter;stroke:rgb(0%,0%,0%);stroke-opacity:1;stroke-miterlimit:10;\" d=\"M 376.4375 227.992188 L 376.496094 225.011719 \"/>\n",
       "<path style=\"fill:none;stroke-width:2;stroke-linecap:butt;stroke-linejoin:miter;stroke:rgb(0%,0%,0%);stroke-opacity:1;stroke-miterlimit:10;\" d=\"M 376.496094 225.011719 L 376.4375 222.027344 \"/>\n",
       "<path style=\"fill:none;stroke-width:2;stroke-linecap:butt;stroke-linejoin:miter;stroke:rgb(0%,0%,0%);stroke-opacity:1;stroke-miterlimit:10;\" d=\"M 376.4375 222.027344 L 376.257812 219.050781 \"/>\n",
       "<path style=\"fill:none;stroke-width:2;stroke-linecap:butt;stroke-linejoin:miter;stroke:rgb(0%,0%,0%);stroke-opacity:1;stroke-miterlimit:10;\" d=\"M 376.257812 219.050781 L 375.964844 216.082031 \"/>\n",
       "<path style=\"fill:none;stroke-width:2;stroke-linecap:butt;stroke-linejoin:miter;stroke:rgb(0%,0%,0%);stroke-opacity:1;stroke-miterlimit:10;\" d=\"M 375.964844 216.082031 L 375.550781 213.128906 \"/>\n",
       "<path style=\"fill:none;stroke-width:2;stroke-linecap:butt;stroke-linejoin:miter;stroke:rgb(0%,0%,0%);stroke-opacity:1;stroke-miterlimit:10;\" d=\"M 375.550781 213.128906 L 375.019531 210.195312 \"/>\n",
       "<path style=\"fill:none;stroke-width:2;stroke-linecap:butt;stroke-linejoin:miter;stroke:rgb(0%,0%,0%);stroke-opacity:1;stroke-miterlimit:10;\" d=\"M 375.019531 210.195312 L 374.371094 207.28125 \"/>\n",
       "<path style=\"fill:none;stroke-width:2;stroke-linecap:butt;stroke-linejoin:miter;stroke:rgb(0%,0%,0%);stroke-opacity:1;stroke-miterlimit:10;\" d=\"M 374.371094 207.28125 L 373.609375 204.398438 \"/>\n",
       "<path style=\"fill:none;stroke-width:2;stroke-linecap:butt;stroke-linejoin:miter;stroke:rgb(0%,0%,0%);stroke-opacity:1;stroke-miterlimit:10;\" d=\"M 373.609375 204.398438 L 372.734375 201.546875 \"/>\n",
       "<path style=\"fill:none;stroke-width:2;stroke-linecap:butt;stroke-linejoin:miter;stroke:rgb(0%,0%,0%);stroke-opacity:1;stroke-miterlimit:10;\" d=\"M 372.734375 201.546875 L 371.742188 198.734375 \"/>\n",
       "<path style=\"fill:none;stroke-width:2;stroke-linecap:butt;stroke-linejoin:miter;stroke:rgb(0%,0%,0%);stroke-opacity:1;stroke-miterlimit:10;\" d=\"M 371.742188 198.734375 L 370.644531 195.960938 \"/>\n",
       "<path style=\"fill:none;stroke-width:2;stroke-linecap:butt;stroke-linejoin:miter;stroke:rgb(0%,0%,0%);stroke-opacity:1;stroke-miterlimit:10;\" d=\"M 370.644531 195.960938 L 369.433594 193.238281 \"/>\n",
       "<path style=\"fill:none;stroke-width:2;stroke-linecap:butt;stroke-linejoin:miter;stroke:rgb(0%,0%,0%);stroke-opacity:1;stroke-miterlimit:10;\" d=\"M 369.433594 193.238281 L 368.117188 190.558594 \"/>\n",
       "<path style=\"fill:none;stroke-width:2;stroke-linecap:butt;stroke-linejoin:miter;stroke:rgb(0%,0%,0%);stroke-opacity:1;stroke-miterlimit:10;\" d=\"M 368.117188 190.558594 L 366.695312 187.9375 \"/>\n",
       "<path style=\"fill:none;stroke-width:2;stroke-linecap:butt;stroke-linejoin:miter;stroke:rgb(0%,0%,0%);stroke-opacity:1;stroke-miterlimit:10;\" d=\"M 366.695312 187.9375 L 365.167969 185.375 \"/>\n",
       "<path style=\"fill:none;stroke-width:2;stroke-linecap:butt;stroke-linejoin:miter;stroke:rgb(0%,0%,0%);stroke-opacity:1;stroke-miterlimit:10;\" d=\"M 365.167969 185.375 L 363.542969 182.875 \"/>\n",
       "<path style=\"fill:none;stroke-width:2;stroke-linecap:butt;stroke-linejoin:miter;stroke:rgb(0%,0%,0%);stroke-opacity:1;stroke-miterlimit:10;\" d=\"M 363.542969 182.875 L 361.820312 180.441406 \"/>\n",
       "<path style=\"fill:none;stroke-width:2;stroke-linecap:butt;stroke-linejoin:miter;stroke:rgb(0%,0%,0%);stroke-opacity:1;stroke-miterlimit:10;\" d=\"M 361.820312 180.441406 L 360 178.078125 \"/>\n",
       "<path style=\"fill:none;stroke-width:2;stroke-linecap:butt;stroke-linejoin:miter;stroke:rgb(0%,0%,0%);stroke-opacity:1;stroke-miterlimit:10;\" d=\"M 360 178.078125 L 358.085938 175.789062 \"/>\n",
       "<path style=\"fill:none;stroke-width:2;stroke-linecap:butt;stroke-linejoin:miter;stroke:rgb(0%,0%,0%);stroke-opacity:1;stroke-miterlimit:10;\" d=\"M 358.085938 175.789062 L 356.085938 173.578125 \"/>\n",
       "<path style=\"fill:none;stroke-width:2;stroke-linecap:butt;stroke-linejoin:miter;stroke:rgb(0%,0%,0%);stroke-opacity:1;stroke-miterlimit:10;\" d=\"M 356.085938 173.578125 L 353.996094 171.449219 \"/>\n",
       "<path style=\"fill:none;stroke-width:2;stroke-linecap:butt;stroke-linejoin:miter;stroke:rgb(0%,0%,0%);stroke-opacity:1;stroke-miterlimit:10;\" d=\"M 353.996094 171.449219 L 351.828125 169.402344 \"/>\n",
       "<path style=\"fill:none;stroke-width:2;stroke-linecap:butt;stroke-linejoin:miter;stroke:rgb(0%,0%,0%);stroke-opacity:1;stroke-miterlimit:10;\" d=\"M 351.828125 169.402344 L 349.578125 167.445312 \"/>\n",
       "<path style=\"fill:none;stroke-width:2;stroke-linecap:butt;stroke-linejoin:miter;stroke:rgb(0%,0%,0%);stroke-opacity:1;stroke-miterlimit:10;\" d=\"M 349.578125 167.445312 L 347.25 165.582031 \"/>\n",
       "<path style=\"fill:none;stroke-width:2;stroke-linecap:butt;stroke-linejoin:miter;stroke:rgb(0%,0%,0%);stroke-opacity:1;stroke-miterlimit:10;\" d=\"M 347.25 165.582031 L 344.851562 163.808594 \"/>\n",
       "<path style=\"fill:none;stroke-width:2;stroke-linecap:butt;stroke-linejoin:miter;stroke:rgb(0%,0%,0%);stroke-opacity:1;stroke-miterlimit:10;\" d=\"M 344.851562 163.808594 L 342.382812 162.132812 \"/>\n",
       "<path style=\"fill:none;stroke-width:2;stroke-linecap:butt;stroke-linejoin:miter;stroke:rgb(0%,0%,0%);stroke-opacity:1;stroke-miterlimit:10;\" d=\"M 342.382812 162.132812 L 339.851562 160.554688 \"/>\n",
       "<path style=\"fill:none;stroke-width:2;stroke-linecap:butt;stroke-linejoin:miter;stroke:rgb(0%,0%,0%);stroke-opacity:1;stroke-miterlimit:10;\" d=\"M 339.851562 160.554688 L 337.257812 159.082031 \"/>\n",
       "<path style=\"fill:none;stroke-width:2;stroke-linecap:butt;stroke-linejoin:miter;stroke:rgb(0%,0%,0%);stroke-opacity:1;stroke-miterlimit:10;\" d=\"M 337.257812 159.082031 L 334.609375 157.710938 \"/>\n",
       "<path style=\"fill:none;stroke-width:2;stroke-linecap:butt;stroke-linejoin:miter;stroke:rgb(0%,0%,0%);stroke-opacity:1;stroke-miterlimit:10;\" d=\"M 334.609375 157.710938 L 331.90625 156.449219 \"/>\n",
       "<path style=\"fill:none;stroke-width:2;stroke-linecap:butt;stroke-linejoin:miter;stroke:rgb(0%,0%,0%);stroke-opacity:1;stroke-miterlimit:10;\" d=\"M 331.90625 156.449219 L 329.15625 155.292969 \"/>\n",
       "<path style=\"fill:none;stroke-width:2;stroke-linecap:butt;stroke-linejoin:miter;stroke:rgb(0%,0%,0%);stroke-opacity:1;stroke-miterlimit:10;\" d=\"M 329.15625 155.292969 L 326.363281 154.25 \"/>\n",
       "<path style=\"fill:none;stroke-width:2;stroke-linecap:butt;stroke-linejoin:miter;stroke:rgb(0%,0%,0%);stroke-opacity:1;stroke-miterlimit:10;\" d=\"M 326.363281 154.25 L 323.53125 153.316406 \"/>\n",
       "<path style=\"fill:none;stroke-width:2;stroke-linecap:butt;stroke-linejoin:miter;stroke:rgb(0%,0%,0%);stroke-opacity:1;stroke-miterlimit:10;\" d=\"M 323.53125 153.316406 L 320.664062 152.496094 \"/>\n",
       "<path style=\"fill:none;stroke-width:2;stroke-linecap:butt;stroke-linejoin:miter;stroke:rgb(0%,0%,0%);stroke-opacity:1;stroke-miterlimit:10;\" d=\"M 320.664062 152.496094 L 317.765625 151.792969 \"/>\n",
       "<path style=\"fill:none;stroke-width:2;stroke-linecap:butt;stroke-linejoin:miter;stroke:rgb(0%,0%,0%);stroke-opacity:1;stroke-miterlimit:10;\" d=\"M 317.765625 151.792969 L 314.84375 151.203125 \"/>\n",
       "<path style=\"fill:none;stroke-width:2;stroke-linecap:butt;stroke-linejoin:miter;stroke:rgb(0%,0%,0%);stroke-opacity:1;stroke-miterlimit:10;\" d=\"M 314.84375 151.203125 L 311.898438 150.730469 \"/>\n",
       "<path style=\"fill:none;stroke-width:2;stroke-linecap:butt;stroke-linejoin:miter;stroke:rgb(0%,0%,0%);stroke-opacity:1;stroke-miterlimit:10;\" d=\"M 311.898438 150.730469 L 308.9375 150.375 \"/>\n",
       "<path style=\"fill:none;stroke-width:2;stroke-linecap:butt;stroke-linejoin:miter;stroke:rgb(0%,0%,0%);stroke-opacity:1;stroke-miterlimit:10;\" d=\"M 308.9375 150.375 L 305.960938 150.136719 \"/>\n",
       "<path style=\"fill:none;stroke-width:2;stroke-linecap:butt;stroke-linejoin:miter;stroke:rgb(0%,0%,0%);stroke-opacity:1;stroke-miterlimit:10;\" d=\"M 305.960938 150.136719 L 302.984375 150.019531 \"/>\n",
       "<path style=\"fill:none;stroke-width:2;stroke-linecap:butt;stroke-linejoin:miter;stroke:rgb(0%,0%,0%);stroke-opacity:1;stroke-miterlimit:10;\" d=\"M 302.984375 150.019531 L 300 150.019531 \"/>\n",
       "<path style=\"fill:none;stroke-width:2;stroke-linecap:butt;stroke-linejoin:miter;stroke:rgb(0%,0%,0%);stroke-opacity:1;stroke-miterlimit:10;\" d=\"M 300 150.019531 L 297.019531 150.136719 \"/>\n",
       "<path style=\"fill:none;stroke-width:2;stroke-linecap:butt;stroke-linejoin:miter;stroke:rgb(0%,0%,0%);stroke-opacity:1;stroke-miterlimit:10;\" d=\"M 297.019531 150.136719 L 294.046875 150.375 \"/>\n",
       "<path style=\"fill:none;stroke-width:2;stroke-linecap:butt;stroke-linejoin:miter;stroke:rgb(0%,0%,0%);stroke-opacity:1;stroke-miterlimit:10;\" d=\"M 294.046875 150.375 L 291.085938 150.730469 \"/>\n",
       "<path style=\"fill:none;stroke-width:2;stroke-linecap:butt;stroke-linejoin:miter;stroke:rgb(0%,0%,0%);stroke-opacity:1;stroke-miterlimit:10;\" d=\"M 291.085938 150.730469 L 288.140625 151.203125 \"/>\n",
       "<path style=\"fill:none;stroke-width:2;stroke-linecap:butt;stroke-linejoin:miter;stroke:rgb(0%,0%,0%);stroke-opacity:1;stroke-miterlimit:10;\" d=\"M 288.140625 151.203125 L 285.214844 151.792969 \"/>\n",
       "<path style=\"fill:none;stroke-width:2;stroke-linecap:butt;stroke-linejoin:miter;stroke:rgb(0%,0%,0%);stroke-opacity:1;stroke-miterlimit:10;\" d=\"M 285.214844 151.792969 L 282.320312 152.496094 \"/>\n",
       "<path style=\"fill:none;stroke-width:2;stroke-linecap:butt;stroke-linejoin:miter;stroke:rgb(0%,0%,0%);stroke-opacity:1;stroke-miterlimit:10;\" d=\"M 282.320312 152.496094 L 279.449219 153.316406 \"/>\n",
       "<path style=\"fill:none;stroke-width:2;stroke-linecap:butt;stroke-linejoin:miter;stroke:rgb(0%,0%,0%);stroke-opacity:1;stroke-miterlimit:10;\" d=\"M 279.449219 153.316406 L 276.617188 154.25 \"/>\n",
       "<path style=\"fill:none;stroke-width:2;stroke-linecap:butt;stroke-linejoin:miter;stroke:rgb(0%,0%,0%);stroke-opacity:1;stroke-miterlimit:10;\" d=\"M 276.617188 154.25 L 273.824219 155.292969 \"/>\n",
       "<path style=\"fill:none;stroke-width:2;stroke-linecap:butt;stroke-linejoin:miter;stroke:rgb(0%,0%,0%);stroke-opacity:1;stroke-miterlimit:10;\" d=\"M 273.824219 155.292969 L 271.074219 156.449219 \"/>\n",
       "<path style=\"fill:none;stroke-width:2;stroke-linecap:butt;stroke-linejoin:miter;stroke:rgb(0%,0%,0%);stroke-opacity:1;stroke-miterlimit:10;\" d=\"M 271.074219 156.449219 L 268.375 157.710938 \"/>\n",
       "<path style=\"fill:none;stroke-width:2;stroke-linecap:butt;stroke-linejoin:miter;stroke:rgb(0%,0%,0%);stroke-opacity:1;stroke-miterlimit:10;\" d=\"M 268.375 157.710938 L 265.722656 159.082031 \"/>\n",
       "<path style=\"fill:none;stroke-width:2;stroke-linecap:butt;stroke-linejoin:miter;stroke:rgb(0%,0%,0%);stroke-opacity:1;stroke-miterlimit:10;\" d=\"M 265.722656 159.082031 L 263.132812 160.554688 \"/>\n",
       "<path style=\"fill:none;stroke-width:2;stroke-linecap:butt;stroke-linejoin:miter;stroke:rgb(0%,0%,0%);stroke-opacity:1;stroke-miterlimit:10;\" d=\"M 263.132812 160.554688 L 260.597656 162.132812 \"/>\n",
       "<path style=\"fill:none;stroke-width:2;stroke-linecap:butt;stroke-linejoin:miter;stroke:rgb(0%,0%,0%);stroke-opacity:1;stroke-miterlimit:10;\" d=\"M 260.597656 162.132812 L 258.132812 163.808594 \"/>\n",
       "<path style=\"fill:none;stroke-width:2;stroke-linecap:butt;stroke-linejoin:miter;stroke:rgb(0%,0%,0%);stroke-opacity:1;stroke-miterlimit:10;\" d=\"M 258.132812 163.808594 L 255.734375 165.582031 \"/>\n",
       "<path style=\"fill:none;stroke-width:2;stroke-linecap:butt;stroke-linejoin:miter;stroke:rgb(0%,0%,0%);stroke-opacity:1;stroke-miterlimit:10;\" d=\"M 255.734375 165.582031 L 253.40625 167.445312 \"/>\n",
       "<path style=\"fill:none;stroke-width:2;stroke-linecap:butt;stroke-linejoin:miter;stroke:rgb(0%,0%,0%);stroke-opacity:1;stroke-miterlimit:10;\" d=\"M 253.40625 167.445312 L 251.15625 169.402344 \"/>\n",
       "<path style=\"fill:none;stroke-width:2;stroke-linecap:butt;stroke-linejoin:miter;stroke:rgb(0%,0%,0%);stroke-opacity:1;stroke-miterlimit:10;\" d=\"M 251.15625 169.402344 L 248.984375 171.449219 \"/>\n",
       "<path style=\"fill:none;stroke-width:2;stroke-linecap:butt;stroke-linejoin:miter;stroke:rgb(0%,0%,0%);stroke-opacity:1;stroke-miterlimit:10;\" d=\"M 248.984375 171.449219 L 246.898438 173.578125 \"/>\n",
       "<path style=\"fill:none;stroke-width:2;stroke-linecap:butt;stroke-linejoin:miter;stroke:rgb(0%,0%,0%);stroke-opacity:1;stroke-miterlimit:10;\" d=\"M 246.898438 173.578125 L 244.894531 175.789062 \"/>\n",
       "<path style=\"fill:none;stroke-width:2;stroke-linecap:butt;stroke-linejoin:miter;stroke:rgb(0%,0%,0%);stroke-opacity:1;stroke-miterlimit:10;\" d=\"M 244.894531 175.789062 L 242.984375 178.078125 \"/>\n",
       "<path style=\"fill:none;stroke-width:2;stroke-linecap:butt;stroke-linejoin:miter;stroke:rgb(0%,0%,0%);stroke-opacity:1;stroke-miterlimit:10;\" d=\"M 242.984375 178.078125 L 241.164062 180.441406 \"/>\n",
       "<path style=\"fill:none;stroke-width:2;stroke-linecap:butt;stroke-linejoin:miter;stroke:rgb(0%,0%,0%);stroke-opacity:1;stroke-miterlimit:10;\" d=\"M 241.164062 180.441406 L 239.4375 182.875 \"/>\n",
       "<path style=\"fill:none;stroke-width:2;stroke-linecap:butt;stroke-linejoin:miter;stroke:rgb(0%,0%,0%);stroke-opacity:1;stroke-miterlimit:10;\" d=\"M 239.4375 182.875 L 237.8125 185.375 \"/>\n",
       "<path style=\"fill:none;stroke-width:2;stroke-linecap:butt;stroke-linejoin:miter;stroke:rgb(0%,0%,0%);stroke-opacity:1;stroke-miterlimit:10;\" d=\"M 237.8125 185.375 L 236.289062 187.9375 \"/>\n",
       "<path style=\"fill:none;stroke-width:2;stroke-linecap:butt;stroke-linejoin:miter;stroke:rgb(0%,0%,0%);stroke-opacity:1;stroke-miterlimit:10;\" d=\"M 236.289062 187.9375 L 234.867188 190.558594 \"/>\n",
       "<path style=\"fill:none;stroke-width:2;stroke-linecap:butt;stroke-linejoin:miter;stroke:rgb(0%,0%,0%);stroke-opacity:1;stroke-miterlimit:10;\" d=\"M 234.867188 190.558594 L 233.546875 193.238281 \"/>\n",
       "<path style=\"fill:none;stroke-width:2;stroke-linecap:butt;stroke-linejoin:miter;stroke:rgb(0%,0%,0%);stroke-opacity:1;stroke-miterlimit:10;\" d=\"M 233.546875 193.238281 L 232.339844 195.960938 \"/>\n",
       "<path style=\"fill:none;stroke-width:2;stroke-linecap:butt;stroke-linejoin:miter;stroke:rgb(0%,0%,0%);stroke-opacity:1;stroke-miterlimit:10;\" d=\"M 232.339844 195.960938 L 231.238281 198.734375 \"/>\n",
       "<path style=\"fill:none;stroke-width:2;stroke-linecap:butt;stroke-linejoin:miter;stroke:rgb(0%,0%,0%);stroke-opacity:1;stroke-miterlimit:10;\" d=\"M 231.238281 198.734375 L 230.25 201.546875 \"/>\n",
       "<path style=\"fill:none;stroke-width:2;stroke-linecap:butt;stroke-linejoin:miter;stroke:rgb(0%,0%,0%);stroke-opacity:1;stroke-miterlimit:10;\" d=\"M 230.25 201.546875 L 229.375 204.398438 \"/>\n",
       "<path style=\"fill:none;stroke-width:2;stroke-linecap:butt;stroke-linejoin:miter;stroke:rgb(0%,0%,0%);stroke-opacity:1;stroke-miterlimit:10;\" d=\"M 229.375 204.398438 L 228.609375 207.28125 \"/>\n",
       "<path style=\"fill:none;stroke-width:2;stroke-linecap:butt;stroke-linejoin:miter;stroke:rgb(0%,0%,0%);stroke-opacity:1;stroke-miterlimit:10;\" d=\"M 228.609375 207.28125 L 227.964844 210.195312 \"/>\n",
       "<path style=\"fill:none;stroke-width:2;stroke-linecap:butt;stroke-linejoin:miter;stroke:rgb(0%,0%,0%);stroke-opacity:1;stroke-miterlimit:10;\" d=\"M 227.964844 210.195312 L 227.433594 213.128906 \"/>\n",
       "<path style=\"fill:none;stroke-width:2;stroke-linecap:butt;stroke-linejoin:miter;stroke:rgb(0%,0%,0%);stroke-opacity:1;stroke-miterlimit:10;\" d=\"M 227.433594 213.128906 L 227.019531 216.082031 \"/>\n",
       "<path style=\"fill:none;stroke-width:2;stroke-linecap:butt;stroke-linejoin:miter;stroke:rgb(0%,0%,0%);stroke-opacity:1;stroke-miterlimit:10;\" d=\"M 227.019531 216.082031 L 226.722656 219.050781 \"/>\n",
       "<path style=\"fill:none;stroke-width:2;stroke-linecap:butt;stroke-linejoin:miter;stroke:rgb(0%,0%,0%);stroke-opacity:1;stroke-miterlimit:10;\" d=\"M 226.722656 219.050781 L 226.546875 222.027344 \"/>\n",
       "<path style=\"fill:none;stroke-width:2;stroke-linecap:butt;stroke-linejoin:miter;stroke:rgb(0%,0%,0%);stroke-opacity:1;stroke-miterlimit:10;\" d=\"M 226.546875 222.027344 L 226.484375 225.011719 \"/>\n",
       "<path style=\"fill:none;stroke-width:2;stroke-linecap:butt;stroke-linejoin:miter;stroke:rgb(0%,0%,0%);stroke-opacity:1;stroke-miterlimit:10;\" d=\"M 226.484375 225.011719 L 226.546875 227.992188 \"/>\n",
       "<path style=\"fill:none;stroke-width:2;stroke-linecap:butt;stroke-linejoin:miter;stroke:rgb(0%,0%,0%);stroke-opacity:1;stroke-miterlimit:10;\" d=\"M 226.546875 227.992188 L 226.722656 230.96875 \"/>\n",
       "<path style=\"fill:none;stroke-width:2;stroke-linecap:butt;stroke-linejoin:miter;stroke:rgb(0%,0%,0%);stroke-opacity:1;stroke-miterlimit:10;\" d=\"M 226.722656 230.96875 L 227.019531 233.9375 \"/>\n",
       "<path style=\"fill:none;stroke-width:2;stroke-linecap:butt;stroke-linejoin:miter;stroke:rgb(0%,0%,0%);stroke-opacity:1;stroke-miterlimit:10;\" d=\"M 227.019531 233.9375 L 227.433594 236.890625 \"/>\n",
       "<path style=\"fill:none;stroke-width:2;stroke-linecap:butt;stroke-linejoin:miter;stroke:rgb(0%,0%,0%);stroke-opacity:1;stroke-miterlimit:10;\" d=\"M 227.433594 236.890625 L 227.964844 239.824219 \"/>\n",
       "<path style=\"fill:none;stroke-width:2;stroke-linecap:butt;stroke-linejoin:miter;stroke:rgb(0%,0%,0%);stroke-opacity:1;stroke-miterlimit:10;\" d=\"M 227.964844 239.824219 L 228.609375 242.738281 \"/>\n",
       "<path style=\"fill:none;stroke-width:2;stroke-linecap:butt;stroke-linejoin:miter;stroke:rgb(0%,0%,0%);stroke-opacity:1;stroke-miterlimit:10;\" d=\"M 228.609375 242.738281 L 229.375 245.621094 \"/>\n",
       "<path style=\"fill:none;stroke-width:2;stroke-linecap:butt;stroke-linejoin:miter;stroke:rgb(0%,0%,0%);stroke-opacity:1;stroke-miterlimit:10;\" d=\"M 229.375 245.621094 L 230.25 248.472656 \"/>\n",
       "<path style=\"fill:none;stroke-width:2;stroke-linecap:butt;stroke-linejoin:miter;stroke:rgb(0%,0%,0%);stroke-opacity:1;stroke-miterlimit:10;\" d=\"M 230.25 248.472656 L 231.238281 251.285156 \"/>\n",
       "<path style=\"fill:none;stroke-width:2;stroke-linecap:butt;stroke-linejoin:miter;stroke:rgb(0%,0%,0%);stroke-opacity:1;stroke-miterlimit:10;\" d=\"M 231.238281 251.285156 L 232.339844 254.058594 \"/>\n",
       "<path style=\"fill:none;stroke-width:2;stroke-linecap:butt;stroke-linejoin:miter;stroke:rgb(0%,0%,0%);stroke-opacity:1;stroke-miterlimit:10;\" d=\"M 232.339844 254.058594 L 233.546875 256.785156 \"/>\n",
       "<path style=\"fill:none;stroke-width:2;stroke-linecap:butt;stroke-linejoin:miter;stroke:rgb(0%,0%,0%);stroke-opacity:1;stroke-miterlimit:10;\" d=\"M 233.546875 256.785156 L 234.867188 259.460938 \"/>\n",
       "<path style=\"fill:none;stroke-width:2;stroke-linecap:butt;stroke-linejoin:miter;stroke:rgb(0%,0%,0%);stroke-opacity:1;stroke-miterlimit:10;\" d=\"M 234.867188 259.460938 L 236.289062 262.082031 \"/>\n",
       "<path style=\"fill:none;stroke-width:2;stroke-linecap:butt;stroke-linejoin:miter;stroke:rgb(0%,0%,0%);stroke-opacity:1;stroke-miterlimit:10;\" d=\"M 236.289062 262.082031 L 237.8125 264.644531 \"/>\n",
       "<path style=\"fill:none;stroke-width:2;stroke-linecap:butt;stroke-linejoin:miter;stroke:rgb(0%,0%,0%);stroke-opacity:1;stroke-miterlimit:10;\" d=\"M 237.8125 264.644531 L 239.4375 267.144531 \"/>\n",
       "<path style=\"fill:none;stroke-width:2;stroke-linecap:butt;stroke-linejoin:miter;stroke:rgb(0%,0%,0%);stroke-opacity:1;stroke-miterlimit:10;\" d=\"M 239.4375 267.144531 L 241.164062 269.578125 \"/>\n",
       "<path style=\"fill:none;stroke-width:2;stroke-linecap:butt;stroke-linejoin:miter;stroke:rgb(0%,0%,0%);stroke-opacity:1;stroke-miterlimit:10;\" d=\"M 241.164062 269.578125 L 242.984375 271.941406 \"/>\n",
       "<path style=\"fill:none;stroke-width:2;stroke-linecap:butt;stroke-linejoin:miter;stroke:rgb(0%,0%,0%);stroke-opacity:1;stroke-miterlimit:10;\" d=\"M 242.984375 271.941406 L 244.894531 274.230469 \"/>\n",
       "<path style=\"fill:none;stroke-width:2;stroke-linecap:butt;stroke-linejoin:miter;stroke:rgb(0%,0%,0%);stroke-opacity:1;stroke-miterlimit:10;\" d=\"M 244.894531 274.230469 L 246.898438 276.441406 \"/>\n",
       "<path style=\"fill:none;stroke-width:2;stroke-linecap:butt;stroke-linejoin:miter;stroke:rgb(0%,0%,0%);stroke-opacity:1;stroke-miterlimit:10;\" d=\"M 246.898438 276.441406 L 248.984375 278.570312 \"/>\n",
       "<path style=\"fill:none;stroke-width:2;stroke-linecap:butt;stroke-linejoin:miter;stroke:rgb(0%,0%,0%);stroke-opacity:1;stroke-miterlimit:10;\" d=\"M 248.984375 278.570312 L 251.15625 280.617188 \"/>\n",
       "<path style=\"fill:none;stroke-width:2;stroke-linecap:butt;stroke-linejoin:miter;stroke:rgb(0%,0%,0%);stroke-opacity:1;stroke-miterlimit:10;\" d=\"M 251.15625 280.617188 L 253.40625 282.574219 \"/>\n",
       "<path style=\"fill:none;stroke-width:2;stroke-linecap:butt;stroke-linejoin:miter;stroke:rgb(0%,0%,0%);stroke-opacity:1;stroke-miterlimit:10;\" d=\"M 253.40625 282.574219 L 255.734375 284.441406 \"/>\n",
       "<path style=\"fill:none;stroke-width:2;stroke-linecap:butt;stroke-linejoin:miter;stroke:rgb(0%,0%,0%);stroke-opacity:1;stroke-miterlimit:10;\" d=\"M 255.734375 284.441406 L 258.132812 286.210938 \"/>\n",
       "<path style=\"fill:none;stroke-width:2;stroke-linecap:butt;stroke-linejoin:miter;stroke:rgb(0%,0%,0%);stroke-opacity:1;stroke-miterlimit:10;\" d=\"M 258.132812 286.210938 L 260.597656 287.886719 \"/>\n",
       "<path style=\"fill:none;stroke-width:2;stroke-linecap:butt;stroke-linejoin:miter;stroke:rgb(0%,0%,0%);stroke-opacity:1;stroke-miterlimit:10;\" d=\"M 260.597656 287.886719 L 263.132812 289.464844 \"/>\n",
       "<path style=\"fill:none;stroke-width:2;stroke-linecap:butt;stroke-linejoin:miter;stroke:rgb(0%,0%,0%);stroke-opacity:1;stroke-miterlimit:10;\" d=\"M 263.132812 289.464844 L 265.722656 290.9375 \"/>\n",
       "<path style=\"fill:none;stroke-width:2;stroke-linecap:butt;stroke-linejoin:miter;stroke:rgb(0%,0%,0%);stroke-opacity:1;stroke-miterlimit:10;\" d=\"M 265.722656 290.9375 L 268.375 292.308594 \"/>\n",
       "<path style=\"fill:none;stroke-width:2;stroke-linecap:butt;stroke-linejoin:miter;stroke:rgb(0%,0%,0%);stroke-opacity:1;stroke-miterlimit:10;\" d=\"M 268.375 292.308594 L 271.074219 293.570312 \"/>\n",
       "<path style=\"fill:none;stroke-width:2;stroke-linecap:butt;stroke-linejoin:miter;stroke:rgb(0%,0%,0%);stroke-opacity:1;stroke-miterlimit:10;\" d=\"M 271.074219 293.570312 L 273.824219 294.726562 \"/>\n",
       "<path style=\"fill:none;stroke-width:2;stroke-linecap:butt;stroke-linejoin:miter;stroke:rgb(0%,0%,0%);stroke-opacity:1;stroke-miterlimit:10;\" d=\"M 273.824219 294.726562 L 276.617188 295.769531 \"/>\n",
       "<path style=\"fill:none;stroke-width:2;stroke-linecap:butt;stroke-linejoin:miter;stroke:rgb(0%,0%,0%);stroke-opacity:1;stroke-miterlimit:10;\" d=\"M 276.617188 295.769531 L 279.449219 296.703125 \"/>\n",
       "<path style=\"fill:none;stroke-width:2;stroke-linecap:butt;stroke-linejoin:miter;stroke:rgb(0%,0%,0%);stroke-opacity:1;stroke-miterlimit:10;\" d=\"M 279.449219 296.703125 L 282.320312 297.523438 \"/>\n",
       "<path style=\"fill:none;stroke-width:2;stroke-linecap:butt;stroke-linejoin:miter;stroke:rgb(0%,0%,0%);stroke-opacity:1;stroke-miterlimit:10;\" d=\"M 282.320312 297.523438 L 285.214844 298.226562 \"/>\n",
       "<path style=\"fill:none;stroke-width:2;stroke-linecap:butt;stroke-linejoin:miter;stroke:rgb(0%,0%,0%);stroke-opacity:1;stroke-miterlimit:10;\" d=\"M 285.214844 298.226562 L 288.140625 298.816406 \"/>\n",
       "<path style=\"fill:none;stroke-width:2;stroke-linecap:butt;stroke-linejoin:miter;stroke:rgb(0%,0%,0%);stroke-opacity:1;stroke-miterlimit:10;\" d=\"M 288.140625 298.816406 L 291.085938 299.289062 \"/>\n",
       "<path style=\"fill:none;stroke-width:2;stroke-linecap:butt;stroke-linejoin:miter;stroke:rgb(0%,0%,0%);stroke-opacity:1;stroke-miterlimit:10;\" d=\"M 291.085938 299.289062 L 294.046875 299.644531 \"/>\n",
       "<path style=\"fill:none;stroke-width:2;stroke-linecap:butt;stroke-linejoin:miter;stroke:rgb(0%,0%,0%);stroke-opacity:1;stroke-miterlimit:10;\" d=\"M 294.046875 299.644531 L 297.019531 299.882812 \"/>\n",
       "<path style=\"fill:none;stroke-width:2;stroke-linecap:butt;stroke-linejoin:miter;stroke:rgb(0%,0%,0%);stroke-opacity:1;stroke-miterlimit:10;\" d=\"M 297.019531 299.882812 L 300 300 \"/>\n",
       "</g>\n",
       "</svg>\n"
      ]
     },
     "metadata": {},
     "output_type": "display_data"
    }
   ],
   "source": [
    "function circle(t, r)\n",
    "    circumference = 2 * π * r\n",
    "    n = trunc(circumference / 3) + 1\n",
    "    length = circumference / n\n",
    "    polygon(t, n, length)\n",
    "end\n",
    "🐢 = Turtle()\n",
    "@svg begin\n",
    "    circle(🐢, 75)\n",
    "end"
   ]
  },
  {
   "cell_type": "markdown",
   "metadata": {
    "slideshow": {
     "slide_type": "subslide"
    }
   },
   "source": [
    "Now the number of segments is an integer near `circumference/3`, so the length of each segment is approximately `3`, which is small enough that the circles look good, but big enough to be efficient, and acceptable for any size circle."
   ]
  },
  {
   "cell_type": "markdown",
   "metadata": {
    "slideshow": {
     "slide_type": "subslide"
    }
   },
   "source": [
    "## Refactoring\n",
    "\n",
    "When I wrote `circle`, I was able to re-use `polygon` because a many-sided polygon is a good approximation of a circle. But `arc` is not as cooperative; we can’t use `polygon` or `circle` to draw an arc.\n",
    "\n",
    "One alternative is to start with a copy of `polygon` and transform it into `arc`. The result might look like this:"
   ]
  },
  {
   "cell_type": "code",
   "execution_count": 62,
   "metadata": {},
   "outputs": [
    {
     "data": {
      "image/svg+xml": [
       "<?xml version=\"1.0\" encoding=\"UTF-8\"?>\n",
       "<svg xmlns=\"http://www.w3.org/2000/svg\" xmlns:xlink=\"http://www.w3.org/1999/xlink\" width=\"600pt\" height=\"600pt\" viewBox=\"0 0 600 600\" version=\"1.1\">\n",
       "<g id=\"surface81\">\n",
       "<rect x=\"0\" y=\"0\" width=\"600\" height=\"600\" style=\"fill:rgb(100%,100%,100%);fill-opacity:1;stroke:none;\"/>\n",
       "<path style=\"fill:none;stroke-width:2;stroke-linecap:butt;stroke-linejoin:miter;stroke:rgb(0%,0%,0%);stroke-opacity:1;stroke-miterlimit:10;\" d=\"M 300 300 L 302.964844 300 \"/>\n",
       "<path style=\"fill:none;stroke-width:2;stroke-linecap:butt;stroke-linejoin:miter;stroke:rgb(0%,0%,0%);stroke-opacity:1;stroke-miterlimit:10;\" d=\"M 302.964844 300 L 305.925781 299.882812 \"/>\n",
       "<path style=\"fill:none;stroke-width:2;stroke-linecap:butt;stroke-linejoin:miter;stroke:rgb(0%,0%,0%);stroke-opacity:1;stroke-miterlimit:10;\" d=\"M 305.925781 299.882812 L 308.878906 299.648438 \"/>\n",
       "<path style=\"fill:none;stroke-width:2;stroke-linecap:butt;stroke-linejoin:miter;stroke:rgb(0%,0%,0%);stroke-opacity:1;stroke-miterlimit:10;\" d=\"M 308.878906 299.648438 L 311.824219 299.296875 \"/>\n",
       "<path style=\"fill:none;stroke-width:2;stroke-linecap:butt;stroke-linejoin:miter;stroke:rgb(0%,0%,0%);stroke-opacity:1;stroke-miterlimit:10;\" d=\"M 311.824219 299.296875 L 314.75 298.832031 \"/>\n",
       "<path style=\"fill:none;stroke-width:2;stroke-linecap:butt;stroke-linejoin:miter;stroke:rgb(0%,0%,0%);stroke-opacity:1;stroke-miterlimit:10;\" d=\"M 314.75 298.832031 L 317.65625 298.25 \"/>\n",
       "<path style=\"fill:none;stroke-width:2;stroke-linecap:butt;stroke-linejoin:miter;stroke:rgb(0%,0%,0%);stroke-opacity:1;stroke-miterlimit:10;\" d=\"M 317.65625 298.25 L 320.535156 297.554688 \"/>\n",
       "<path style=\"fill:none;stroke-width:2;stroke-linecap:butt;stroke-linejoin:miter;stroke:rgb(0%,0%,0%);stroke-opacity:1;stroke-miterlimit:10;\" d=\"M 320.535156 297.554688 L 323.386719 296.746094 \"/>\n",
       "<path style=\"fill:none;stroke-width:2;stroke-linecap:butt;stroke-linejoin:miter;stroke:rgb(0%,0%,0%);stroke-opacity:1;stroke-miterlimit:10;\" d=\"M 323.386719 296.746094 L 326.203125 295.824219 \"/>\n",
       "<path style=\"fill:none;stroke-width:2;stroke-linecap:butt;stroke-linejoin:miter;stroke:rgb(0%,0%,0%);stroke-opacity:1;stroke-miterlimit:10;\" d=\"M 326.203125 295.824219 L 328.984375 294.792969 \"/>\n",
       "<path style=\"fill:none;stroke-width:2;stroke-linecap:butt;stroke-linejoin:miter;stroke:rgb(0%,0%,0%);stroke-opacity:1;stroke-miterlimit:10;\" d=\"M 328.984375 294.792969 L 331.71875 293.648438 \"/>\n",
       "<path style=\"fill:none;stroke-width:2;stroke-linecap:butt;stroke-linejoin:miter;stroke:rgb(0%,0%,0%);stroke-opacity:1;stroke-miterlimit:10;\" d=\"M 331.71875 293.648438 L 334.40625 292.402344 \"/>\n",
       "<path style=\"fill:none;stroke-width:2;stroke-linecap:butt;stroke-linejoin:miter;stroke:rgb(0%,0%,0%);stroke-opacity:1;stroke-miterlimit:10;\" d=\"M 334.40625 292.402344 L 337.042969 291.046875 \"/>\n",
       "<path style=\"fill:none;stroke-width:2;stroke-linecap:butt;stroke-linejoin:miter;stroke:rgb(0%,0%,0%);stroke-opacity:1;stroke-miterlimit:10;\" d=\"M 337.042969 291.046875 L 339.625 289.59375 \"/>\n",
       "<path style=\"fill:none;stroke-width:2;stroke-linecap:butt;stroke-linejoin:miter;stroke:rgb(0%,0%,0%);stroke-opacity:1;stroke-miterlimit:10;\" d=\"M 339.625 289.59375 L 342.144531 288.035156 \"/>\n",
       "<path style=\"fill:none;stroke-width:2;stroke-linecap:butt;stroke-linejoin:miter;stroke:rgb(0%,0%,0%);stroke-opacity:1;stroke-miterlimit:10;\" d=\"M 342.144531 288.035156 L 344.605469 286.378906 \"/>\n",
       "<path style=\"fill:none;stroke-width:2;stroke-linecap:butt;stroke-linejoin:miter;stroke:rgb(0%,0%,0%);stroke-opacity:1;stroke-miterlimit:10;\" d=\"M 344.605469 286.378906 L 346.996094 284.628906 \"/>\n",
       "<path style=\"fill:none;stroke-width:2;stroke-linecap:butt;stroke-linejoin:miter;stroke:rgb(0%,0%,0%);stroke-opacity:1;stroke-miterlimit:10;\" d=\"M 346.996094 284.628906 L 349.316406 282.78125 \"/>\n",
       "<path style=\"fill:none;stroke-width:2;stroke-linecap:butt;stroke-linejoin:miter;stroke:rgb(0%,0%,0%);stroke-opacity:1;stroke-miterlimit:10;\" d=\"M 349.316406 282.78125 L 351.558594 280.847656 \"/>\n",
       "<path style=\"fill:none;stroke-width:2;stroke-linecap:butt;stroke-linejoin:miter;stroke:rgb(0%,0%,0%);stroke-opacity:1;stroke-miterlimit:10;\" d=\"M 351.558594 280.847656 L 353.726562 278.828125 \"/>\n",
       "<path style=\"fill:none;stroke-width:2;stroke-linecap:butt;stroke-linejoin:miter;stroke:rgb(0%,0%,0%);stroke-opacity:1;stroke-miterlimit:10;\" d=\"M 353.726562 278.828125 L 355.8125 276.71875 \"/>\n",
       "<path style=\"fill:none;stroke-width:2;stroke-linecap:butt;stroke-linejoin:miter;stroke:rgb(0%,0%,0%);stroke-opacity:1;stroke-miterlimit:10;\" d=\"M 355.8125 276.71875 L 357.8125 274.535156 \"/>\n",
       "<path style=\"fill:none;stroke-width:2;stroke-linecap:butt;stroke-linejoin:miter;stroke:rgb(0%,0%,0%);stroke-opacity:1;stroke-miterlimit:10;\" d=\"M 357.8125 274.535156 L 359.726562 272.269531 \"/>\n",
       "<path style=\"fill:none;stroke-width:2;stroke-linecap:butt;stroke-linejoin:miter;stroke:rgb(0%,0%,0%);stroke-opacity:1;stroke-miterlimit:10;\" d=\"M 359.726562 272.269531 L 361.546875 269.929688 \"/>\n",
       "<path style=\"fill:none;stroke-width:2;stroke-linecap:butt;stroke-linejoin:miter;stroke:rgb(0%,0%,0%);stroke-opacity:1;stroke-miterlimit:10;\" d=\"M 361.546875 269.929688 L 363.273438 267.523438 \"/>\n",
       "<path style=\"fill:none;stroke-width:2;stroke-linecap:butt;stroke-linejoin:miter;stroke:rgb(0%,0%,0%);stroke-opacity:1;stroke-miterlimit:10;\" d=\"M 363.273438 267.523438 L 364.90625 265.050781 \"/>\n",
       "<path style=\"fill:none;stroke-width:2;stroke-linecap:butt;stroke-linejoin:miter;stroke:rgb(0%,0%,0%);stroke-opacity:1;stroke-miterlimit:10;\" d=\"M 364.90625 265.050781 L 366.4375 262.511719 \"/>\n",
       "<path style=\"fill:none;stroke-width:2;stroke-linecap:butt;stroke-linejoin:miter;stroke:rgb(0%,0%,0%);stroke-opacity:1;stroke-miterlimit:10;\" d=\"M 366.4375 262.511719 L 367.867188 259.917969 \"/>\n",
       "<path style=\"fill:none;stroke-width:2;stroke-linecap:butt;stroke-linejoin:miter;stroke:rgb(0%,0%,0%);stroke-opacity:1;stroke-miterlimit:10;\" d=\"M 367.867188 259.917969 L 369.195312 257.265625 \"/>\n",
       "<path style=\"fill:none;stroke-width:2;stroke-linecap:butt;stroke-linejoin:miter;stroke:rgb(0%,0%,0%);stroke-opacity:1;stroke-miterlimit:10;\" d=\"M 369.195312 257.265625 L 370.417969 254.566406 \"/>\n",
       "<path style=\"fill:none;stroke-width:2;stroke-linecap:butt;stroke-linejoin:miter;stroke:rgb(0%,0%,0%);stroke-opacity:1;stroke-miterlimit:10;\" d=\"M 370.417969 254.566406 L 371.53125 251.820312 \"/>\n",
       "<path style=\"fill:none;stroke-width:2;stroke-linecap:butt;stroke-linejoin:miter;stroke:rgb(0%,0%,0%);stroke-opacity:1;stroke-miterlimit:10;\" d=\"M 371.53125 251.820312 L 372.535156 249.03125 \"/>\n",
       "<path style=\"fill:none;stroke-width:2;stroke-linecap:butt;stroke-linejoin:miter;stroke:rgb(0%,0%,0%);stroke-opacity:1;stroke-miterlimit:10;\" d=\"M 372.535156 249.03125 L 373.429688 246.207031 \"/>\n",
       "<path style=\"fill:none;stroke-width:2;stroke-linecap:butt;stroke-linejoin:miter;stroke:rgb(0%,0%,0%);stroke-opacity:1;stroke-miterlimit:10;\" d=\"M 373.429688 246.207031 L 374.210938 243.347656 \"/>\n",
       "<path style=\"fill:none;stroke-width:2;stroke-linecap:butt;stroke-linejoin:miter;stroke:rgb(0%,0%,0%);stroke-opacity:1;stroke-miterlimit:10;\" d=\"M 374.210938 243.347656 L 374.878906 240.460938 \"/>\n",
       "<path style=\"fill:none;stroke-width:2;stroke-linecap:butt;stroke-linejoin:miter;stroke:rgb(0%,0%,0%);stroke-opacity:1;stroke-miterlimit:10;\" d=\"M 374.878906 240.460938 L 375.429688 237.546875 \"/>\n",
       "<path style=\"fill:none;stroke-width:2;stroke-linecap:butt;stroke-linejoin:miter;stroke:rgb(0%,0%,0%);stroke-opacity:1;stroke-miterlimit:10;\" d=\"M 375.429688 237.546875 L 375.867188 234.617188 \"/>\n",
       "<path style=\"fill:none;stroke-width:2;stroke-linecap:butt;stroke-linejoin:miter;stroke:rgb(0%,0%,0%);stroke-opacity:1;stroke-miterlimit:10;\" d=\"M 375.867188 234.617188 L 376.191406 231.667969 \"/>\n",
       "<path style=\"fill:none;stroke-width:2;stroke-linecap:butt;stroke-linejoin:miter;stroke:rgb(0%,0%,0%);stroke-opacity:1;stroke-miterlimit:10;\" d=\"M 376.191406 231.667969 L 376.394531 228.714844 \"/>\n",
       "<path style=\"fill:none;stroke-width:2;stroke-linecap:butt;stroke-linejoin:miter;stroke:rgb(0%,0%,0%);stroke-opacity:1;stroke-miterlimit:10;\" d=\"M 376.394531 228.714844 L 376.484375 225.75 \"/>\n",
       "<path style=\"fill:none;stroke-width:2;stroke-linecap:butt;stroke-linejoin:miter;stroke:rgb(0%,0%,0%);stroke-opacity:1;stroke-miterlimit:10;\" d=\"M 376.484375 225.75 L 376.453125 222.789062 \"/>\n",
       "<path style=\"fill:none;stroke-width:2;stroke-linecap:butt;stroke-linejoin:miter;stroke:rgb(0%,0%,0%);stroke-opacity:1;stroke-miterlimit:10;\" d=\"M 376.453125 222.789062 L 376.308594 219.828125 \"/>\n",
       "<path style=\"fill:none;stroke-width:2;stroke-linecap:butt;stroke-linejoin:miter;stroke:rgb(0%,0%,0%);stroke-opacity:1;stroke-miterlimit:10;\" d=\"M 376.308594 219.828125 L 376.042969 216.875 \"/>\n",
       "<path style=\"fill:none;stroke-width:2;stroke-linecap:butt;stroke-linejoin:miter;stroke:rgb(0%,0%,0%);stroke-opacity:1;stroke-miterlimit:10;\" d=\"M 376.042969 216.875 L 375.664062 213.9375 \"/>\n",
       "<path style=\"fill:none;stroke-width:2;stroke-linecap:butt;stroke-linejoin:miter;stroke:rgb(0%,0%,0%);stroke-opacity:1;stroke-miterlimit:10;\" d=\"M 375.664062 213.9375 L 375.167969 211.011719 \"/>\n",
       "<path style=\"fill:none;stroke-width:2;stroke-linecap:butt;stroke-linejoin:miter;stroke:rgb(0%,0%,0%);stroke-opacity:1;stroke-miterlimit:10;\" d=\"M 375.167969 211.011719 L 374.558594 208.113281 \"/>\n",
       "<path style=\"fill:none;stroke-width:2;stroke-linecap:butt;stroke-linejoin:miter;stroke:rgb(0%,0%,0%);stroke-opacity:1;stroke-miterlimit:10;\" d=\"M 374.558594 208.113281 L 373.835938 205.238281 \"/>\n",
       "<path style=\"fill:none;stroke-width:2;stroke-linecap:butt;stroke-linejoin:miter;stroke:rgb(0%,0%,0%);stroke-opacity:1;stroke-miterlimit:10;\" d=\"M 373.835938 205.238281 L 372.996094 202.394531 \"/>\n",
       "<path style=\"fill:none;stroke-width:2;stroke-linecap:butt;stroke-linejoin:miter;stroke:rgb(0%,0%,0%);stroke-opacity:1;stroke-miterlimit:10;\" d=\"M 372.996094 202.394531 L 372.046875 199.589844 \"/>\n",
       "<path style=\"fill:none;stroke-width:2;stroke-linecap:butt;stroke-linejoin:miter;stroke:rgb(0%,0%,0%);stroke-opacity:1;stroke-miterlimit:10;\" d=\"M 372.046875 199.589844 L 370.988281 196.820312 \"/>\n",
       "<path style=\"fill:none;stroke-width:2;stroke-linecap:butt;stroke-linejoin:miter;stroke:rgb(0%,0%,0%);stroke-opacity:1;stroke-miterlimit:10;\" d=\"M 370.988281 196.820312 L 369.820312 194.097656 \"/>\n",
       "<path style=\"fill:none;stroke-width:2;stroke-linecap:butt;stroke-linejoin:miter;stroke:rgb(0%,0%,0%);stroke-opacity:1;stroke-miterlimit:10;\" d=\"M 369.820312 194.097656 L 368.546875 191.421875 \"/>\n",
       "<path style=\"fill:none;stroke-width:2;stroke-linecap:butt;stroke-linejoin:miter;stroke:rgb(0%,0%,0%);stroke-opacity:1;stroke-miterlimit:10;\" d=\"M 368.546875 191.421875 L 367.167969 188.796875 \"/>\n",
       "</g>\n",
       "</svg>\n"
      ]
     },
     "metadata": {},
     "output_type": "display_data"
    }
   ],
   "source": [
    "function arc(t, r, angle)\n",
    "    arc_length = 2 * π * r * angle / 360\n",
    "    n = trunc(arc_length / 3) + 1\n",
    "    step_length = arc_length / n\n",
    "    step_angle = angle / n\n",
    "    for i in 1:n\n",
    "        Forward(t, step_length)\n",
    "        Turn(t, -step_angle)\n",
    "    end\n",
    "end\n",
    "🐢 = Turtle()\n",
    "@svg begin\n",
    "    arc(🐢, 75, 120)\n",
    "end"
   ]
  },
  {
   "cell_type": "markdown",
   "metadata": {
    "slideshow": {
     "slide_type": "subslide"
    }
   },
   "source": [
    "The second half of this function looks like `polygon`, but we can’t re-use `polygon` without changing the interface. We could generalize `polygon` to take an `angle` as a third argument, but then `polygon` would no longer be an appropriate name! Instead, let’s call the more general function `polyline`:"
   ]
  },
  {
   "cell_type": "code",
   "execution_count": 63,
   "metadata": {},
   "outputs": [
    {
     "data": {
      "text/plain": [
       "polyline (generic function with 1 method)"
      ]
     },
     "execution_count": 63,
     "metadata": {},
     "output_type": "execute_result"
    }
   ],
   "source": [
    "function polyline(t, n, length, angle)\n",
    "    for i in 1:n\n",
    "        Forward(t, length)\n",
    "        Turn(t, -angle)\n",
    "    end\n",
    "end"
   ]
  },
  {
   "cell_type": "markdown",
   "metadata": {
    "slideshow": {
     "slide_type": "subslide"
    }
   },
   "source": [
    "Now we can rewrite `polygon` and `arc` to use `polyline`:"
   ]
  },
  {
   "cell_type": "code",
   "execution_count": 64,
   "metadata": {},
   "outputs": [
    {
     "data": {
      "text/plain": [
       "polygon (generic function with 1 method)"
      ]
     },
     "execution_count": 64,
     "metadata": {},
     "output_type": "execute_result"
    }
   ],
   "source": [
    "function polygon(t, n, length)\n",
    "    angle = 360 / n\n",
    "    polyline(t, n, length, angle)\n",
    "end"
   ]
  },
  {
   "cell_type": "code",
   "execution_count": 65,
   "metadata": {},
   "outputs": [
    {
     "data": {
      "text/plain": [
       "arc (generic function with 1 method)"
      ]
     },
     "execution_count": 65,
     "metadata": {},
     "output_type": "execute_result"
    }
   ],
   "source": [
    "function arc(t, r, angle)\n",
    "    arc_length = 2 * π * r * angle / 360\n",
    "    n = trunc(arc_length / 3) + 1\n",
    "    step_length = arc_length / n\n",
    "    step_angle = angle / n\n",
    "    polyline(t, n, step_length, step_angle)\n",
    "end"
   ]
  },
  {
   "cell_type": "markdown",
   "metadata": {
    "slideshow": {
     "slide_type": "subslide"
    }
   },
   "source": [
    "Finally, we can rewrite `circle` to use `arc`:"
   ]
  },
  {
   "cell_type": "code",
   "execution_count": 69,
   "metadata": {},
   "outputs": [
    {
     "data": {
      "image/svg+xml": [
       "<?xml version=\"1.0\" encoding=\"UTF-8\"?>\n",
       "<svg xmlns=\"http://www.w3.org/2000/svg\" xmlns:xlink=\"http://www.w3.org/1999/xlink\" width=\"600pt\" height=\"600pt\" viewBox=\"0 0 600 600\" version=\"1.1\">\n",
       "<g id=\"surface101\">\n",
       "<rect x=\"0\" y=\"0\" width=\"600\" height=\"600\" style=\"fill:rgb(100%,100%,100%);fill-opacity:1;stroke:none;\"/>\n",
       "<path style=\"fill:none;stroke-width:2;stroke-linecap:butt;stroke-linejoin:miter;stroke:rgb(0%,0%,0%);stroke-opacity:1;stroke-miterlimit:10;\" d=\"M 300 300 L 302.984375 300 \"/>\n",
       "<path style=\"fill:none;stroke-width:2;stroke-linecap:butt;stroke-linejoin:miter;stroke:rgb(0%,0%,0%);stroke-opacity:1;stroke-miterlimit:10;\" d=\"M 302.984375 300 L 305.960938 299.882812 \"/>\n",
       "<path style=\"fill:none;stroke-width:2;stroke-linecap:butt;stroke-linejoin:miter;stroke:rgb(0%,0%,0%);stroke-opacity:1;stroke-miterlimit:10;\" d=\"M 305.960938 299.882812 L 308.9375 299.644531 \"/>\n",
       "<path style=\"fill:none;stroke-width:2;stroke-linecap:butt;stroke-linejoin:miter;stroke:rgb(0%,0%,0%);stroke-opacity:1;stroke-miterlimit:10;\" d=\"M 308.9375 299.644531 L 311.898438 299.289062 \"/>\n",
       "<path style=\"fill:none;stroke-width:2;stroke-linecap:butt;stroke-linejoin:miter;stroke:rgb(0%,0%,0%);stroke-opacity:1;stroke-miterlimit:10;\" d=\"M 311.898438 299.289062 L 314.84375 298.816406 \"/>\n",
       "<path style=\"fill:none;stroke-width:2;stroke-linecap:butt;stroke-linejoin:miter;stroke:rgb(0%,0%,0%);stroke-opacity:1;stroke-miterlimit:10;\" d=\"M 314.84375 298.816406 L 317.765625 298.226562 \"/>\n",
       "<path style=\"fill:none;stroke-width:2;stroke-linecap:butt;stroke-linejoin:miter;stroke:rgb(0%,0%,0%);stroke-opacity:1;stroke-miterlimit:10;\" d=\"M 317.765625 298.226562 L 320.664062 297.523438 \"/>\n",
       "<path style=\"fill:none;stroke-width:2;stroke-linecap:butt;stroke-linejoin:miter;stroke:rgb(0%,0%,0%);stroke-opacity:1;stroke-miterlimit:10;\" d=\"M 320.664062 297.523438 L 323.53125 296.703125 \"/>\n",
       "<path style=\"fill:none;stroke-width:2;stroke-linecap:butt;stroke-linejoin:miter;stroke:rgb(0%,0%,0%);stroke-opacity:1;stroke-miterlimit:10;\" d=\"M 323.53125 296.703125 L 326.363281 295.769531 \"/>\n",
       "<path style=\"fill:none;stroke-width:2;stroke-linecap:butt;stroke-linejoin:miter;stroke:rgb(0%,0%,0%);stroke-opacity:1;stroke-miterlimit:10;\" d=\"M 326.363281 295.769531 L 329.15625 294.726562 \"/>\n",
       "<path style=\"fill:none;stroke-width:2;stroke-linecap:butt;stroke-linejoin:miter;stroke:rgb(0%,0%,0%);stroke-opacity:1;stroke-miterlimit:10;\" d=\"M 329.15625 294.726562 L 331.90625 293.570312 \"/>\n",
       "<path style=\"fill:none;stroke-width:2;stroke-linecap:butt;stroke-linejoin:miter;stroke:rgb(0%,0%,0%);stroke-opacity:1;stroke-miterlimit:10;\" d=\"M 331.90625 293.570312 L 334.609375 292.308594 \"/>\n",
       "<path style=\"fill:none;stroke-width:2;stroke-linecap:butt;stroke-linejoin:miter;stroke:rgb(0%,0%,0%);stroke-opacity:1;stroke-miterlimit:10;\" d=\"M 334.609375 292.308594 L 337.257812 290.9375 \"/>\n",
       "<path style=\"fill:none;stroke-width:2;stroke-linecap:butt;stroke-linejoin:miter;stroke:rgb(0%,0%,0%);stroke-opacity:1;stroke-miterlimit:10;\" d=\"M 337.257812 290.9375 L 339.851562 289.464844 \"/>\n",
       "<path style=\"fill:none;stroke-width:2;stroke-linecap:butt;stroke-linejoin:miter;stroke:rgb(0%,0%,0%);stroke-opacity:1;stroke-miterlimit:10;\" d=\"M 339.851562 289.464844 L 342.382812 287.886719 \"/>\n",
       "<path style=\"fill:none;stroke-width:2;stroke-linecap:butt;stroke-linejoin:miter;stroke:rgb(0%,0%,0%);stroke-opacity:1;stroke-miterlimit:10;\" d=\"M 342.382812 287.886719 L 344.851562 286.210938 \"/>\n",
       "<path style=\"fill:none;stroke-width:2;stroke-linecap:butt;stroke-linejoin:miter;stroke:rgb(0%,0%,0%);stroke-opacity:1;stroke-miterlimit:10;\" d=\"M 344.851562 286.210938 L 347.25 284.441406 \"/>\n",
       "<path style=\"fill:none;stroke-width:2;stroke-linecap:butt;stroke-linejoin:miter;stroke:rgb(0%,0%,0%);stroke-opacity:1;stroke-miterlimit:10;\" d=\"M 347.25 284.441406 L 349.578125 282.574219 \"/>\n",
       "<path style=\"fill:none;stroke-width:2;stroke-linecap:butt;stroke-linejoin:miter;stroke:rgb(0%,0%,0%);stroke-opacity:1;stroke-miterlimit:10;\" d=\"M 349.578125 282.574219 L 351.828125 280.617188 \"/>\n",
       "<path style=\"fill:none;stroke-width:2;stroke-linecap:butt;stroke-linejoin:miter;stroke:rgb(0%,0%,0%);stroke-opacity:1;stroke-miterlimit:10;\" d=\"M 351.828125 280.617188 L 353.996094 278.570312 \"/>\n",
       "<path style=\"fill:none;stroke-width:2;stroke-linecap:butt;stroke-linejoin:miter;stroke:rgb(0%,0%,0%);stroke-opacity:1;stroke-miterlimit:10;\" d=\"M 353.996094 278.570312 L 356.085938 276.441406 \"/>\n",
       "<path style=\"fill:none;stroke-width:2;stroke-linecap:butt;stroke-linejoin:miter;stroke:rgb(0%,0%,0%);stroke-opacity:1;stroke-miterlimit:10;\" d=\"M 356.085938 276.441406 L 358.085938 274.230469 \"/>\n",
       "<path style=\"fill:none;stroke-width:2;stroke-linecap:butt;stroke-linejoin:miter;stroke:rgb(0%,0%,0%);stroke-opacity:1;stroke-miterlimit:10;\" d=\"M 358.085938 274.230469 L 360 271.941406 \"/>\n",
       "<path style=\"fill:none;stroke-width:2;stroke-linecap:butt;stroke-linejoin:miter;stroke:rgb(0%,0%,0%);stroke-opacity:1;stroke-miterlimit:10;\" d=\"M 360 271.941406 L 361.820312 269.578125 \"/>\n",
       "<path style=\"fill:none;stroke-width:2;stroke-linecap:butt;stroke-linejoin:miter;stroke:rgb(0%,0%,0%);stroke-opacity:1;stroke-miterlimit:10;\" d=\"M 361.820312 269.578125 L 363.542969 267.144531 \"/>\n",
       "<path style=\"fill:none;stroke-width:2;stroke-linecap:butt;stroke-linejoin:miter;stroke:rgb(0%,0%,0%);stroke-opacity:1;stroke-miterlimit:10;\" d=\"M 363.542969 267.144531 L 365.167969 264.644531 \"/>\n",
       "<path style=\"fill:none;stroke-width:2;stroke-linecap:butt;stroke-linejoin:miter;stroke:rgb(0%,0%,0%);stroke-opacity:1;stroke-miterlimit:10;\" d=\"M 365.167969 264.644531 L 366.695312 262.082031 \"/>\n",
       "<path style=\"fill:none;stroke-width:2;stroke-linecap:butt;stroke-linejoin:miter;stroke:rgb(0%,0%,0%);stroke-opacity:1;stroke-miterlimit:10;\" d=\"M 366.695312 262.082031 L 368.117188 259.460938 \"/>\n",
       "<path style=\"fill:none;stroke-width:2;stroke-linecap:butt;stroke-linejoin:miter;stroke:rgb(0%,0%,0%);stroke-opacity:1;stroke-miterlimit:10;\" d=\"M 368.117188 259.460938 L 369.433594 256.785156 \"/>\n",
       "<path style=\"fill:none;stroke-width:2;stroke-linecap:butt;stroke-linejoin:miter;stroke:rgb(0%,0%,0%);stroke-opacity:1;stroke-miterlimit:10;\" d=\"M 369.433594 256.785156 L 370.644531 254.058594 \"/>\n",
       "<path style=\"fill:none;stroke-width:2;stroke-linecap:butt;stroke-linejoin:miter;stroke:rgb(0%,0%,0%);stroke-opacity:1;stroke-miterlimit:10;\" d=\"M 370.644531 254.058594 L 371.742188 251.285156 \"/>\n",
       "<path style=\"fill:none;stroke-width:2;stroke-linecap:butt;stroke-linejoin:miter;stroke:rgb(0%,0%,0%);stroke-opacity:1;stroke-miterlimit:10;\" d=\"M 371.742188 251.285156 L 372.734375 248.472656 \"/>\n",
       "<path style=\"fill:none;stroke-width:2;stroke-linecap:butt;stroke-linejoin:miter;stroke:rgb(0%,0%,0%);stroke-opacity:1;stroke-miterlimit:10;\" d=\"M 372.734375 248.472656 L 373.609375 245.621094 \"/>\n",
       "<path style=\"fill:none;stroke-width:2;stroke-linecap:butt;stroke-linejoin:miter;stroke:rgb(0%,0%,0%);stroke-opacity:1;stroke-miterlimit:10;\" d=\"M 373.609375 245.621094 L 374.371094 242.738281 \"/>\n",
       "<path style=\"fill:none;stroke-width:2;stroke-linecap:butt;stroke-linejoin:miter;stroke:rgb(0%,0%,0%);stroke-opacity:1;stroke-miterlimit:10;\" d=\"M 374.371094 242.738281 L 375.019531 239.824219 \"/>\n",
       "<path style=\"fill:none;stroke-width:2;stroke-linecap:butt;stroke-linejoin:miter;stroke:rgb(0%,0%,0%);stroke-opacity:1;stroke-miterlimit:10;\" d=\"M 375.019531 239.824219 L 375.550781 236.890625 \"/>\n",
       "<path style=\"fill:none;stroke-width:2;stroke-linecap:butt;stroke-linejoin:miter;stroke:rgb(0%,0%,0%);stroke-opacity:1;stroke-miterlimit:10;\" d=\"M 375.550781 236.890625 L 375.964844 233.9375 \"/>\n",
       "<path style=\"fill:none;stroke-width:2;stroke-linecap:butt;stroke-linejoin:miter;stroke:rgb(0%,0%,0%);stroke-opacity:1;stroke-miterlimit:10;\" d=\"M 375.964844 233.9375 L 376.257812 230.96875 \"/>\n",
       "<path style=\"fill:none;stroke-width:2;stroke-linecap:butt;stroke-linejoin:miter;stroke:rgb(0%,0%,0%);stroke-opacity:1;stroke-miterlimit:10;\" d=\"M 376.257812 230.96875 L 376.4375 227.992188 \"/>\n",
       "<path style=\"fill:none;stroke-width:2;stroke-linecap:butt;stroke-linejoin:miter;stroke:rgb(0%,0%,0%);stroke-opacity:1;stroke-miterlimit:10;\" d=\"M 376.4375 227.992188 L 376.496094 225.011719 \"/>\n",
       "<path style=\"fill:none;stroke-width:2;stroke-linecap:butt;stroke-linejoin:miter;stroke:rgb(0%,0%,0%);stroke-opacity:1;stroke-miterlimit:10;\" d=\"M 376.496094 225.011719 L 376.4375 222.027344 \"/>\n",
       "<path style=\"fill:none;stroke-width:2;stroke-linecap:butt;stroke-linejoin:miter;stroke:rgb(0%,0%,0%);stroke-opacity:1;stroke-miterlimit:10;\" d=\"M 376.4375 222.027344 L 376.257812 219.050781 \"/>\n",
       "<path style=\"fill:none;stroke-width:2;stroke-linecap:butt;stroke-linejoin:miter;stroke:rgb(0%,0%,0%);stroke-opacity:1;stroke-miterlimit:10;\" d=\"M 376.257812 219.050781 L 375.964844 216.082031 \"/>\n",
       "<path style=\"fill:none;stroke-width:2;stroke-linecap:butt;stroke-linejoin:miter;stroke:rgb(0%,0%,0%);stroke-opacity:1;stroke-miterlimit:10;\" d=\"M 375.964844 216.082031 L 375.550781 213.128906 \"/>\n",
       "<path style=\"fill:none;stroke-width:2;stroke-linecap:butt;stroke-linejoin:miter;stroke:rgb(0%,0%,0%);stroke-opacity:1;stroke-miterlimit:10;\" d=\"M 375.550781 213.128906 L 375.019531 210.195312 \"/>\n",
       "<path style=\"fill:none;stroke-width:2;stroke-linecap:butt;stroke-linejoin:miter;stroke:rgb(0%,0%,0%);stroke-opacity:1;stroke-miterlimit:10;\" d=\"M 375.019531 210.195312 L 374.371094 207.28125 \"/>\n",
       "<path style=\"fill:none;stroke-width:2;stroke-linecap:butt;stroke-linejoin:miter;stroke:rgb(0%,0%,0%);stroke-opacity:1;stroke-miterlimit:10;\" d=\"M 374.371094 207.28125 L 373.609375 204.398438 \"/>\n",
       "<path style=\"fill:none;stroke-width:2;stroke-linecap:butt;stroke-linejoin:miter;stroke:rgb(0%,0%,0%);stroke-opacity:1;stroke-miterlimit:10;\" d=\"M 373.609375 204.398438 L 372.734375 201.546875 \"/>\n",
       "<path style=\"fill:none;stroke-width:2;stroke-linecap:butt;stroke-linejoin:miter;stroke:rgb(0%,0%,0%);stroke-opacity:1;stroke-miterlimit:10;\" d=\"M 372.734375 201.546875 L 371.742188 198.734375 \"/>\n",
       "<path style=\"fill:none;stroke-width:2;stroke-linecap:butt;stroke-linejoin:miter;stroke:rgb(0%,0%,0%);stroke-opacity:1;stroke-miterlimit:10;\" d=\"M 371.742188 198.734375 L 370.644531 195.960938 \"/>\n",
       "<path style=\"fill:none;stroke-width:2;stroke-linecap:butt;stroke-linejoin:miter;stroke:rgb(0%,0%,0%);stroke-opacity:1;stroke-miterlimit:10;\" d=\"M 370.644531 195.960938 L 369.433594 193.238281 \"/>\n",
       "<path style=\"fill:none;stroke-width:2;stroke-linecap:butt;stroke-linejoin:miter;stroke:rgb(0%,0%,0%);stroke-opacity:1;stroke-miterlimit:10;\" d=\"M 369.433594 193.238281 L 368.117188 190.558594 \"/>\n",
       "<path style=\"fill:none;stroke-width:2;stroke-linecap:butt;stroke-linejoin:miter;stroke:rgb(0%,0%,0%);stroke-opacity:1;stroke-miterlimit:10;\" d=\"M 368.117188 190.558594 L 366.695312 187.9375 \"/>\n",
       "<path style=\"fill:none;stroke-width:2;stroke-linecap:butt;stroke-linejoin:miter;stroke:rgb(0%,0%,0%);stroke-opacity:1;stroke-miterlimit:10;\" d=\"M 366.695312 187.9375 L 365.167969 185.375 \"/>\n",
       "<path style=\"fill:none;stroke-width:2;stroke-linecap:butt;stroke-linejoin:miter;stroke:rgb(0%,0%,0%);stroke-opacity:1;stroke-miterlimit:10;\" d=\"M 365.167969 185.375 L 363.542969 182.875 \"/>\n",
       "<path style=\"fill:none;stroke-width:2;stroke-linecap:butt;stroke-linejoin:miter;stroke:rgb(0%,0%,0%);stroke-opacity:1;stroke-miterlimit:10;\" d=\"M 363.542969 182.875 L 361.820312 180.441406 \"/>\n",
       "<path style=\"fill:none;stroke-width:2;stroke-linecap:butt;stroke-linejoin:miter;stroke:rgb(0%,0%,0%);stroke-opacity:1;stroke-miterlimit:10;\" d=\"M 361.820312 180.441406 L 360 178.078125 \"/>\n",
       "<path style=\"fill:none;stroke-width:2;stroke-linecap:butt;stroke-linejoin:miter;stroke:rgb(0%,0%,0%);stroke-opacity:1;stroke-miterlimit:10;\" d=\"M 360 178.078125 L 358.085938 175.789062 \"/>\n",
       "<path style=\"fill:none;stroke-width:2;stroke-linecap:butt;stroke-linejoin:miter;stroke:rgb(0%,0%,0%);stroke-opacity:1;stroke-miterlimit:10;\" d=\"M 358.085938 175.789062 L 356.085938 173.578125 \"/>\n",
       "<path style=\"fill:none;stroke-width:2;stroke-linecap:butt;stroke-linejoin:miter;stroke:rgb(0%,0%,0%);stroke-opacity:1;stroke-miterlimit:10;\" d=\"M 356.085938 173.578125 L 353.996094 171.449219 \"/>\n",
       "<path style=\"fill:none;stroke-width:2;stroke-linecap:butt;stroke-linejoin:miter;stroke:rgb(0%,0%,0%);stroke-opacity:1;stroke-miterlimit:10;\" d=\"M 353.996094 171.449219 L 351.828125 169.402344 \"/>\n",
       "<path style=\"fill:none;stroke-width:2;stroke-linecap:butt;stroke-linejoin:miter;stroke:rgb(0%,0%,0%);stroke-opacity:1;stroke-miterlimit:10;\" d=\"M 351.828125 169.402344 L 349.578125 167.445312 \"/>\n",
       "<path style=\"fill:none;stroke-width:2;stroke-linecap:butt;stroke-linejoin:miter;stroke:rgb(0%,0%,0%);stroke-opacity:1;stroke-miterlimit:10;\" d=\"M 349.578125 167.445312 L 347.25 165.582031 \"/>\n",
       "<path style=\"fill:none;stroke-width:2;stroke-linecap:butt;stroke-linejoin:miter;stroke:rgb(0%,0%,0%);stroke-opacity:1;stroke-miterlimit:10;\" d=\"M 347.25 165.582031 L 344.851562 163.808594 \"/>\n",
       "<path style=\"fill:none;stroke-width:2;stroke-linecap:butt;stroke-linejoin:miter;stroke:rgb(0%,0%,0%);stroke-opacity:1;stroke-miterlimit:10;\" d=\"M 344.851562 163.808594 L 342.382812 162.132812 \"/>\n",
       "<path style=\"fill:none;stroke-width:2;stroke-linecap:butt;stroke-linejoin:miter;stroke:rgb(0%,0%,0%);stroke-opacity:1;stroke-miterlimit:10;\" d=\"M 342.382812 162.132812 L 339.851562 160.554688 \"/>\n",
       "<path style=\"fill:none;stroke-width:2;stroke-linecap:butt;stroke-linejoin:miter;stroke:rgb(0%,0%,0%);stroke-opacity:1;stroke-miterlimit:10;\" d=\"M 339.851562 160.554688 L 337.257812 159.082031 \"/>\n",
       "<path style=\"fill:none;stroke-width:2;stroke-linecap:butt;stroke-linejoin:miter;stroke:rgb(0%,0%,0%);stroke-opacity:1;stroke-miterlimit:10;\" d=\"M 337.257812 159.082031 L 334.609375 157.710938 \"/>\n",
       "<path style=\"fill:none;stroke-width:2;stroke-linecap:butt;stroke-linejoin:miter;stroke:rgb(0%,0%,0%);stroke-opacity:1;stroke-miterlimit:10;\" d=\"M 334.609375 157.710938 L 331.90625 156.449219 \"/>\n",
       "<path style=\"fill:none;stroke-width:2;stroke-linecap:butt;stroke-linejoin:miter;stroke:rgb(0%,0%,0%);stroke-opacity:1;stroke-miterlimit:10;\" d=\"M 331.90625 156.449219 L 329.15625 155.292969 \"/>\n",
       "<path style=\"fill:none;stroke-width:2;stroke-linecap:butt;stroke-linejoin:miter;stroke:rgb(0%,0%,0%);stroke-opacity:1;stroke-miterlimit:10;\" d=\"M 329.15625 155.292969 L 326.363281 154.25 \"/>\n",
       "<path style=\"fill:none;stroke-width:2;stroke-linecap:butt;stroke-linejoin:miter;stroke:rgb(0%,0%,0%);stroke-opacity:1;stroke-miterlimit:10;\" d=\"M 326.363281 154.25 L 323.53125 153.316406 \"/>\n",
       "<path style=\"fill:none;stroke-width:2;stroke-linecap:butt;stroke-linejoin:miter;stroke:rgb(0%,0%,0%);stroke-opacity:1;stroke-miterlimit:10;\" d=\"M 323.53125 153.316406 L 320.664062 152.496094 \"/>\n",
       "<path style=\"fill:none;stroke-width:2;stroke-linecap:butt;stroke-linejoin:miter;stroke:rgb(0%,0%,0%);stroke-opacity:1;stroke-miterlimit:10;\" d=\"M 320.664062 152.496094 L 317.765625 151.792969 \"/>\n",
       "<path style=\"fill:none;stroke-width:2;stroke-linecap:butt;stroke-linejoin:miter;stroke:rgb(0%,0%,0%);stroke-opacity:1;stroke-miterlimit:10;\" d=\"M 317.765625 151.792969 L 314.84375 151.203125 \"/>\n",
       "<path style=\"fill:none;stroke-width:2;stroke-linecap:butt;stroke-linejoin:miter;stroke:rgb(0%,0%,0%);stroke-opacity:1;stroke-miterlimit:10;\" d=\"M 314.84375 151.203125 L 311.898438 150.730469 \"/>\n",
       "<path style=\"fill:none;stroke-width:2;stroke-linecap:butt;stroke-linejoin:miter;stroke:rgb(0%,0%,0%);stroke-opacity:1;stroke-miterlimit:10;\" d=\"M 311.898438 150.730469 L 308.9375 150.375 \"/>\n",
       "<path style=\"fill:none;stroke-width:2;stroke-linecap:butt;stroke-linejoin:miter;stroke:rgb(0%,0%,0%);stroke-opacity:1;stroke-miterlimit:10;\" d=\"M 308.9375 150.375 L 305.960938 150.136719 \"/>\n",
       "<path style=\"fill:none;stroke-width:2;stroke-linecap:butt;stroke-linejoin:miter;stroke:rgb(0%,0%,0%);stroke-opacity:1;stroke-miterlimit:10;\" d=\"M 305.960938 150.136719 L 302.984375 150.019531 \"/>\n",
       "<path style=\"fill:none;stroke-width:2;stroke-linecap:butt;stroke-linejoin:miter;stroke:rgb(0%,0%,0%);stroke-opacity:1;stroke-miterlimit:10;\" d=\"M 302.984375 150.019531 L 300 150.019531 \"/>\n",
       "<path style=\"fill:none;stroke-width:2;stroke-linecap:butt;stroke-linejoin:miter;stroke:rgb(0%,0%,0%);stroke-opacity:1;stroke-miterlimit:10;\" d=\"M 300 150.019531 L 297.019531 150.136719 \"/>\n",
       "<path style=\"fill:none;stroke-width:2;stroke-linecap:butt;stroke-linejoin:miter;stroke:rgb(0%,0%,0%);stroke-opacity:1;stroke-miterlimit:10;\" d=\"M 297.019531 150.136719 L 294.046875 150.375 \"/>\n",
       "<path style=\"fill:none;stroke-width:2;stroke-linecap:butt;stroke-linejoin:miter;stroke:rgb(0%,0%,0%);stroke-opacity:1;stroke-miterlimit:10;\" d=\"M 294.046875 150.375 L 291.085938 150.730469 \"/>\n",
       "<path style=\"fill:none;stroke-width:2;stroke-linecap:butt;stroke-linejoin:miter;stroke:rgb(0%,0%,0%);stroke-opacity:1;stroke-miterlimit:10;\" d=\"M 291.085938 150.730469 L 288.140625 151.203125 \"/>\n",
       "<path style=\"fill:none;stroke-width:2;stroke-linecap:butt;stroke-linejoin:miter;stroke:rgb(0%,0%,0%);stroke-opacity:1;stroke-miterlimit:10;\" d=\"M 288.140625 151.203125 L 285.214844 151.792969 \"/>\n",
       "<path style=\"fill:none;stroke-width:2;stroke-linecap:butt;stroke-linejoin:miter;stroke:rgb(0%,0%,0%);stroke-opacity:1;stroke-miterlimit:10;\" d=\"M 285.214844 151.792969 L 282.320312 152.496094 \"/>\n",
       "<path style=\"fill:none;stroke-width:2;stroke-linecap:butt;stroke-linejoin:miter;stroke:rgb(0%,0%,0%);stroke-opacity:1;stroke-miterlimit:10;\" d=\"M 282.320312 152.496094 L 279.449219 153.316406 \"/>\n",
       "<path style=\"fill:none;stroke-width:2;stroke-linecap:butt;stroke-linejoin:miter;stroke:rgb(0%,0%,0%);stroke-opacity:1;stroke-miterlimit:10;\" d=\"M 279.449219 153.316406 L 276.617188 154.25 \"/>\n",
       "<path style=\"fill:none;stroke-width:2;stroke-linecap:butt;stroke-linejoin:miter;stroke:rgb(0%,0%,0%);stroke-opacity:1;stroke-miterlimit:10;\" d=\"M 276.617188 154.25 L 273.824219 155.292969 \"/>\n",
       "<path style=\"fill:none;stroke-width:2;stroke-linecap:butt;stroke-linejoin:miter;stroke:rgb(0%,0%,0%);stroke-opacity:1;stroke-miterlimit:10;\" d=\"M 273.824219 155.292969 L 271.074219 156.449219 \"/>\n",
       "<path style=\"fill:none;stroke-width:2;stroke-linecap:butt;stroke-linejoin:miter;stroke:rgb(0%,0%,0%);stroke-opacity:1;stroke-miterlimit:10;\" d=\"M 271.074219 156.449219 L 268.375 157.710938 \"/>\n",
       "<path style=\"fill:none;stroke-width:2;stroke-linecap:butt;stroke-linejoin:miter;stroke:rgb(0%,0%,0%);stroke-opacity:1;stroke-miterlimit:10;\" d=\"M 268.375 157.710938 L 265.722656 159.082031 \"/>\n",
       "<path style=\"fill:none;stroke-width:2;stroke-linecap:butt;stroke-linejoin:miter;stroke:rgb(0%,0%,0%);stroke-opacity:1;stroke-miterlimit:10;\" d=\"M 265.722656 159.082031 L 263.132812 160.554688 \"/>\n",
       "<path style=\"fill:none;stroke-width:2;stroke-linecap:butt;stroke-linejoin:miter;stroke:rgb(0%,0%,0%);stroke-opacity:1;stroke-miterlimit:10;\" d=\"M 263.132812 160.554688 L 260.597656 162.132812 \"/>\n",
       "<path style=\"fill:none;stroke-width:2;stroke-linecap:butt;stroke-linejoin:miter;stroke:rgb(0%,0%,0%);stroke-opacity:1;stroke-miterlimit:10;\" d=\"M 260.597656 162.132812 L 258.132812 163.808594 \"/>\n",
       "<path style=\"fill:none;stroke-width:2;stroke-linecap:butt;stroke-linejoin:miter;stroke:rgb(0%,0%,0%);stroke-opacity:1;stroke-miterlimit:10;\" d=\"M 258.132812 163.808594 L 255.734375 165.582031 \"/>\n",
       "<path style=\"fill:none;stroke-width:2;stroke-linecap:butt;stroke-linejoin:miter;stroke:rgb(0%,0%,0%);stroke-opacity:1;stroke-miterlimit:10;\" d=\"M 255.734375 165.582031 L 253.40625 167.445312 \"/>\n",
       "<path style=\"fill:none;stroke-width:2;stroke-linecap:butt;stroke-linejoin:miter;stroke:rgb(0%,0%,0%);stroke-opacity:1;stroke-miterlimit:10;\" d=\"M 253.40625 167.445312 L 251.15625 169.402344 \"/>\n",
       "<path style=\"fill:none;stroke-width:2;stroke-linecap:butt;stroke-linejoin:miter;stroke:rgb(0%,0%,0%);stroke-opacity:1;stroke-miterlimit:10;\" d=\"M 251.15625 169.402344 L 248.984375 171.449219 \"/>\n",
       "<path style=\"fill:none;stroke-width:2;stroke-linecap:butt;stroke-linejoin:miter;stroke:rgb(0%,0%,0%);stroke-opacity:1;stroke-miterlimit:10;\" d=\"M 248.984375 171.449219 L 246.898438 173.578125 \"/>\n",
       "<path style=\"fill:none;stroke-width:2;stroke-linecap:butt;stroke-linejoin:miter;stroke:rgb(0%,0%,0%);stroke-opacity:1;stroke-miterlimit:10;\" d=\"M 246.898438 173.578125 L 244.894531 175.789062 \"/>\n",
       "<path style=\"fill:none;stroke-width:2;stroke-linecap:butt;stroke-linejoin:miter;stroke:rgb(0%,0%,0%);stroke-opacity:1;stroke-miterlimit:10;\" d=\"M 244.894531 175.789062 L 242.984375 178.078125 \"/>\n",
       "<path style=\"fill:none;stroke-width:2;stroke-linecap:butt;stroke-linejoin:miter;stroke:rgb(0%,0%,0%);stroke-opacity:1;stroke-miterlimit:10;\" d=\"M 242.984375 178.078125 L 241.164062 180.441406 \"/>\n",
       "<path style=\"fill:none;stroke-width:2;stroke-linecap:butt;stroke-linejoin:miter;stroke:rgb(0%,0%,0%);stroke-opacity:1;stroke-miterlimit:10;\" d=\"M 241.164062 180.441406 L 239.4375 182.875 \"/>\n",
       "<path style=\"fill:none;stroke-width:2;stroke-linecap:butt;stroke-linejoin:miter;stroke:rgb(0%,0%,0%);stroke-opacity:1;stroke-miterlimit:10;\" d=\"M 239.4375 182.875 L 237.8125 185.375 \"/>\n",
       "<path style=\"fill:none;stroke-width:2;stroke-linecap:butt;stroke-linejoin:miter;stroke:rgb(0%,0%,0%);stroke-opacity:1;stroke-miterlimit:10;\" d=\"M 237.8125 185.375 L 236.289062 187.9375 \"/>\n",
       "<path style=\"fill:none;stroke-width:2;stroke-linecap:butt;stroke-linejoin:miter;stroke:rgb(0%,0%,0%);stroke-opacity:1;stroke-miterlimit:10;\" d=\"M 236.289062 187.9375 L 234.867188 190.558594 \"/>\n",
       "<path style=\"fill:none;stroke-width:2;stroke-linecap:butt;stroke-linejoin:miter;stroke:rgb(0%,0%,0%);stroke-opacity:1;stroke-miterlimit:10;\" d=\"M 234.867188 190.558594 L 233.546875 193.238281 \"/>\n",
       "<path style=\"fill:none;stroke-width:2;stroke-linecap:butt;stroke-linejoin:miter;stroke:rgb(0%,0%,0%);stroke-opacity:1;stroke-miterlimit:10;\" d=\"M 233.546875 193.238281 L 232.339844 195.960938 \"/>\n",
       "<path style=\"fill:none;stroke-width:2;stroke-linecap:butt;stroke-linejoin:miter;stroke:rgb(0%,0%,0%);stroke-opacity:1;stroke-miterlimit:10;\" d=\"M 232.339844 195.960938 L 231.238281 198.734375 \"/>\n",
       "<path style=\"fill:none;stroke-width:2;stroke-linecap:butt;stroke-linejoin:miter;stroke:rgb(0%,0%,0%);stroke-opacity:1;stroke-miterlimit:10;\" d=\"M 231.238281 198.734375 L 230.25 201.546875 \"/>\n",
       "<path style=\"fill:none;stroke-width:2;stroke-linecap:butt;stroke-linejoin:miter;stroke:rgb(0%,0%,0%);stroke-opacity:1;stroke-miterlimit:10;\" d=\"M 230.25 201.546875 L 229.375 204.398438 \"/>\n",
       "<path style=\"fill:none;stroke-width:2;stroke-linecap:butt;stroke-linejoin:miter;stroke:rgb(0%,0%,0%);stroke-opacity:1;stroke-miterlimit:10;\" d=\"M 229.375 204.398438 L 228.609375 207.28125 \"/>\n",
       "<path style=\"fill:none;stroke-width:2;stroke-linecap:butt;stroke-linejoin:miter;stroke:rgb(0%,0%,0%);stroke-opacity:1;stroke-miterlimit:10;\" d=\"M 228.609375 207.28125 L 227.964844 210.195312 \"/>\n",
       "<path style=\"fill:none;stroke-width:2;stroke-linecap:butt;stroke-linejoin:miter;stroke:rgb(0%,0%,0%);stroke-opacity:1;stroke-miterlimit:10;\" d=\"M 227.964844 210.195312 L 227.433594 213.128906 \"/>\n",
       "<path style=\"fill:none;stroke-width:2;stroke-linecap:butt;stroke-linejoin:miter;stroke:rgb(0%,0%,0%);stroke-opacity:1;stroke-miterlimit:10;\" d=\"M 227.433594 213.128906 L 227.019531 216.082031 \"/>\n",
       "<path style=\"fill:none;stroke-width:2;stroke-linecap:butt;stroke-linejoin:miter;stroke:rgb(0%,0%,0%);stroke-opacity:1;stroke-miterlimit:10;\" d=\"M 227.019531 216.082031 L 226.722656 219.050781 \"/>\n",
       "<path style=\"fill:none;stroke-width:2;stroke-linecap:butt;stroke-linejoin:miter;stroke:rgb(0%,0%,0%);stroke-opacity:1;stroke-miterlimit:10;\" d=\"M 226.722656 219.050781 L 226.546875 222.027344 \"/>\n",
       "<path style=\"fill:none;stroke-width:2;stroke-linecap:butt;stroke-linejoin:miter;stroke:rgb(0%,0%,0%);stroke-opacity:1;stroke-miterlimit:10;\" d=\"M 226.546875 222.027344 L 226.484375 225.011719 \"/>\n",
       "<path style=\"fill:none;stroke-width:2;stroke-linecap:butt;stroke-linejoin:miter;stroke:rgb(0%,0%,0%);stroke-opacity:1;stroke-miterlimit:10;\" d=\"M 226.484375 225.011719 L 226.546875 227.992188 \"/>\n",
       "<path style=\"fill:none;stroke-width:2;stroke-linecap:butt;stroke-linejoin:miter;stroke:rgb(0%,0%,0%);stroke-opacity:1;stroke-miterlimit:10;\" d=\"M 226.546875 227.992188 L 226.722656 230.96875 \"/>\n",
       "<path style=\"fill:none;stroke-width:2;stroke-linecap:butt;stroke-linejoin:miter;stroke:rgb(0%,0%,0%);stroke-opacity:1;stroke-miterlimit:10;\" d=\"M 226.722656 230.96875 L 227.019531 233.9375 \"/>\n",
       "<path style=\"fill:none;stroke-width:2;stroke-linecap:butt;stroke-linejoin:miter;stroke:rgb(0%,0%,0%);stroke-opacity:1;stroke-miterlimit:10;\" d=\"M 227.019531 233.9375 L 227.433594 236.890625 \"/>\n",
       "<path style=\"fill:none;stroke-width:2;stroke-linecap:butt;stroke-linejoin:miter;stroke:rgb(0%,0%,0%);stroke-opacity:1;stroke-miterlimit:10;\" d=\"M 227.433594 236.890625 L 227.964844 239.824219 \"/>\n",
       "<path style=\"fill:none;stroke-width:2;stroke-linecap:butt;stroke-linejoin:miter;stroke:rgb(0%,0%,0%);stroke-opacity:1;stroke-miterlimit:10;\" d=\"M 227.964844 239.824219 L 228.609375 242.738281 \"/>\n",
       "<path style=\"fill:none;stroke-width:2;stroke-linecap:butt;stroke-linejoin:miter;stroke:rgb(0%,0%,0%);stroke-opacity:1;stroke-miterlimit:10;\" d=\"M 228.609375 242.738281 L 229.375 245.621094 \"/>\n",
       "<path style=\"fill:none;stroke-width:2;stroke-linecap:butt;stroke-linejoin:miter;stroke:rgb(0%,0%,0%);stroke-opacity:1;stroke-miterlimit:10;\" d=\"M 229.375 245.621094 L 230.25 248.472656 \"/>\n",
       "<path style=\"fill:none;stroke-width:2;stroke-linecap:butt;stroke-linejoin:miter;stroke:rgb(0%,0%,0%);stroke-opacity:1;stroke-miterlimit:10;\" d=\"M 230.25 248.472656 L 231.238281 251.285156 \"/>\n",
       "<path style=\"fill:none;stroke-width:2;stroke-linecap:butt;stroke-linejoin:miter;stroke:rgb(0%,0%,0%);stroke-opacity:1;stroke-miterlimit:10;\" d=\"M 231.238281 251.285156 L 232.339844 254.058594 \"/>\n",
       "<path style=\"fill:none;stroke-width:2;stroke-linecap:butt;stroke-linejoin:miter;stroke:rgb(0%,0%,0%);stroke-opacity:1;stroke-miterlimit:10;\" d=\"M 232.339844 254.058594 L 233.546875 256.785156 \"/>\n",
       "<path style=\"fill:none;stroke-width:2;stroke-linecap:butt;stroke-linejoin:miter;stroke:rgb(0%,0%,0%);stroke-opacity:1;stroke-miterlimit:10;\" d=\"M 233.546875 256.785156 L 234.867188 259.460938 \"/>\n",
       "<path style=\"fill:none;stroke-width:2;stroke-linecap:butt;stroke-linejoin:miter;stroke:rgb(0%,0%,0%);stroke-opacity:1;stroke-miterlimit:10;\" d=\"M 234.867188 259.460938 L 236.289062 262.082031 \"/>\n",
       "<path style=\"fill:none;stroke-width:2;stroke-linecap:butt;stroke-linejoin:miter;stroke:rgb(0%,0%,0%);stroke-opacity:1;stroke-miterlimit:10;\" d=\"M 236.289062 262.082031 L 237.8125 264.644531 \"/>\n",
       "<path style=\"fill:none;stroke-width:2;stroke-linecap:butt;stroke-linejoin:miter;stroke:rgb(0%,0%,0%);stroke-opacity:1;stroke-miterlimit:10;\" d=\"M 237.8125 264.644531 L 239.4375 267.144531 \"/>\n",
       "<path style=\"fill:none;stroke-width:2;stroke-linecap:butt;stroke-linejoin:miter;stroke:rgb(0%,0%,0%);stroke-opacity:1;stroke-miterlimit:10;\" d=\"M 239.4375 267.144531 L 241.164062 269.578125 \"/>\n",
       "<path style=\"fill:none;stroke-width:2;stroke-linecap:butt;stroke-linejoin:miter;stroke:rgb(0%,0%,0%);stroke-opacity:1;stroke-miterlimit:10;\" d=\"M 241.164062 269.578125 L 242.984375 271.941406 \"/>\n",
       "<path style=\"fill:none;stroke-width:2;stroke-linecap:butt;stroke-linejoin:miter;stroke:rgb(0%,0%,0%);stroke-opacity:1;stroke-miterlimit:10;\" d=\"M 242.984375 271.941406 L 244.894531 274.230469 \"/>\n",
       "<path style=\"fill:none;stroke-width:2;stroke-linecap:butt;stroke-linejoin:miter;stroke:rgb(0%,0%,0%);stroke-opacity:1;stroke-miterlimit:10;\" d=\"M 244.894531 274.230469 L 246.898438 276.441406 \"/>\n",
       "<path style=\"fill:none;stroke-width:2;stroke-linecap:butt;stroke-linejoin:miter;stroke:rgb(0%,0%,0%);stroke-opacity:1;stroke-miterlimit:10;\" d=\"M 246.898438 276.441406 L 248.984375 278.570312 \"/>\n",
       "<path style=\"fill:none;stroke-width:2;stroke-linecap:butt;stroke-linejoin:miter;stroke:rgb(0%,0%,0%);stroke-opacity:1;stroke-miterlimit:10;\" d=\"M 248.984375 278.570312 L 251.15625 280.617188 \"/>\n",
       "<path style=\"fill:none;stroke-width:2;stroke-linecap:butt;stroke-linejoin:miter;stroke:rgb(0%,0%,0%);stroke-opacity:1;stroke-miterlimit:10;\" d=\"M 251.15625 280.617188 L 253.40625 282.574219 \"/>\n",
       "<path style=\"fill:none;stroke-width:2;stroke-linecap:butt;stroke-linejoin:miter;stroke:rgb(0%,0%,0%);stroke-opacity:1;stroke-miterlimit:10;\" d=\"M 253.40625 282.574219 L 255.734375 284.441406 \"/>\n",
       "<path style=\"fill:none;stroke-width:2;stroke-linecap:butt;stroke-linejoin:miter;stroke:rgb(0%,0%,0%);stroke-opacity:1;stroke-miterlimit:10;\" d=\"M 255.734375 284.441406 L 258.132812 286.210938 \"/>\n",
       "<path style=\"fill:none;stroke-width:2;stroke-linecap:butt;stroke-linejoin:miter;stroke:rgb(0%,0%,0%);stroke-opacity:1;stroke-miterlimit:10;\" d=\"M 258.132812 286.210938 L 260.597656 287.886719 \"/>\n",
       "<path style=\"fill:none;stroke-width:2;stroke-linecap:butt;stroke-linejoin:miter;stroke:rgb(0%,0%,0%);stroke-opacity:1;stroke-miterlimit:10;\" d=\"M 260.597656 287.886719 L 263.132812 289.464844 \"/>\n",
       "<path style=\"fill:none;stroke-width:2;stroke-linecap:butt;stroke-linejoin:miter;stroke:rgb(0%,0%,0%);stroke-opacity:1;stroke-miterlimit:10;\" d=\"M 263.132812 289.464844 L 265.722656 290.9375 \"/>\n",
       "<path style=\"fill:none;stroke-width:2;stroke-linecap:butt;stroke-linejoin:miter;stroke:rgb(0%,0%,0%);stroke-opacity:1;stroke-miterlimit:10;\" d=\"M 265.722656 290.9375 L 268.375 292.308594 \"/>\n",
       "<path style=\"fill:none;stroke-width:2;stroke-linecap:butt;stroke-linejoin:miter;stroke:rgb(0%,0%,0%);stroke-opacity:1;stroke-miterlimit:10;\" d=\"M 268.375 292.308594 L 271.074219 293.570312 \"/>\n",
       "<path style=\"fill:none;stroke-width:2;stroke-linecap:butt;stroke-linejoin:miter;stroke:rgb(0%,0%,0%);stroke-opacity:1;stroke-miterlimit:10;\" d=\"M 271.074219 293.570312 L 273.824219 294.726562 \"/>\n",
       "<path style=\"fill:none;stroke-width:2;stroke-linecap:butt;stroke-linejoin:miter;stroke:rgb(0%,0%,0%);stroke-opacity:1;stroke-miterlimit:10;\" d=\"M 273.824219 294.726562 L 276.617188 295.769531 \"/>\n",
       "<path style=\"fill:none;stroke-width:2;stroke-linecap:butt;stroke-linejoin:miter;stroke:rgb(0%,0%,0%);stroke-opacity:1;stroke-miterlimit:10;\" d=\"M 276.617188 295.769531 L 279.449219 296.703125 \"/>\n",
       "<path style=\"fill:none;stroke-width:2;stroke-linecap:butt;stroke-linejoin:miter;stroke:rgb(0%,0%,0%);stroke-opacity:1;stroke-miterlimit:10;\" d=\"M 279.449219 296.703125 L 282.320312 297.523438 \"/>\n",
       "<path style=\"fill:none;stroke-width:2;stroke-linecap:butt;stroke-linejoin:miter;stroke:rgb(0%,0%,0%);stroke-opacity:1;stroke-miterlimit:10;\" d=\"M 282.320312 297.523438 L 285.214844 298.226562 \"/>\n",
       "<path style=\"fill:none;stroke-width:2;stroke-linecap:butt;stroke-linejoin:miter;stroke:rgb(0%,0%,0%);stroke-opacity:1;stroke-miterlimit:10;\" d=\"M 285.214844 298.226562 L 288.140625 298.816406 \"/>\n",
       "<path style=\"fill:none;stroke-width:2;stroke-linecap:butt;stroke-linejoin:miter;stroke:rgb(0%,0%,0%);stroke-opacity:1;stroke-miterlimit:10;\" d=\"M 288.140625 298.816406 L 291.085938 299.289062 \"/>\n",
       "<path style=\"fill:none;stroke-width:2;stroke-linecap:butt;stroke-linejoin:miter;stroke:rgb(0%,0%,0%);stroke-opacity:1;stroke-miterlimit:10;\" d=\"M 291.085938 299.289062 L 294.046875 299.644531 \"/>\n",
       "<path style=\"fill:none;stroke-width:2;stroke-linecap:butt;stroke-linejoin:miter;stroke:rgb(0%,0%,0%);stroke-opacity:1;stroke-miterlimit:10;\" d=\"M 294.046875 299.644531 L 297.019531 299.882812 \"/>\n",
       "<path style=\"fill:none;stroke-width:2;stroke-linecap:butt;stroke-linejoin:miter;stroke:rgb(0%,0%,0%);stroke-opacity:1;stroke-miterlimit:10;\" d=\"M 297.019531 299.882812 L 300 300 \"/>\n",
       "</g>\n",
       "</svg>\n"
      ]
     },
     "metadata": {},
     "output_type": "display_data"
    }
   ],
   "source": [
    "function circle(t, r)\n",
    "    arc(t, r, 360)\n",
    "end\n",
    "🐢 = Turtle()\n",
    "@svg begin\n",
    "    circle(🐢, 75)\n",
    "end"
   ]
  },
  {
   "cell_type": "code",
   "execution_count": null,
   "metadata": {},
   "outputs": [],
   "source": []
  }
 ],
 "metadata": {
  "celltoolbar": "Slideshow",
  "hide_code_all_hidden": false,
  "kernelspec": {
   "display_name": "Julia 0.6.2",
   "language": "julia",
   "name": "julia-0.6"
  },
  "language_info": {
   "file_extension": ".jl",
   "mimetype": "application/julia",
   "name": "julia",
   "version": "0.6.2"
  },
  "livereveal": {
   "controls": "false",
   "scroll": "true",
   "start_slideshow_at": "selected"
  }
 },
 "nbformat": 4,
 "nbformat_minor": 2
}
