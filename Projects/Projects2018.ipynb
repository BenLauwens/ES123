{
 "cells": [
  {
   "cell_type": "markdown",
   "metadata": {},
   "source": [
    "# Projects 2018\n",
    "\n",
    "- Yahtzee: https://en.wikipedia.org/wiki/Yahtzee\n",
    "\n",
    "- 2048: https://en.wikipedia.org/wiki/2048_(video_game)\n",
    "\n",
    "- Minesweeper: https://en.wikipedia.org/wiki/Minesweeper_(video_game)\n",
    "\n",
    "- Gomoku: https://en.wikipedia.org/wiki/Gomoku\n",
    "\n",
    "- Mastermind: https://en.wikipedia.org/wiki/Mastermind_(board_game)\n",
    "\n",
    "- Battleship: https://en.wikipedia.org/wiki/Battleship_(game)\n",
    "\n",
    "- Paper soccer: https://en.wikipedia.org/wiki/Paper_soccer\n",
    "\n",
    "- Dots and boxes: https://en.wikipedia.org/wiki/Dots_and_Boxes"
   ]
  }
 ],
 "metadata": {
  "kernelspec": {
   "display_name": "Julia 0.6.2",
   "language": "julia",
   "name": "julia-0.6"
  },
  "language_info": {
   "file_extension": ".jl",
   "mimetype": "application/julia",
   "name": "julia",
   "version": "0.6.2"
  }
 },
 "nbformat": 4,
 "nbformat_minor": 2
}
